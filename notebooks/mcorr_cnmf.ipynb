{
 "cells": [
  {
   "cell_type": "code",
   "execution_count": null,
   "id": "175ae92b-73fa-44d8-ab75-fb3399f68e12",
   "metadata": {
    "pycharm": {
     "name": "#%%\n"
    },
    "tags": []
   },
   "outputs": [],
   "source": [
    "import mesmerize_core as mc\n",
    "import mesmerize_viz\n",
    "import fastplotlib as fpl\n",
    "\n",
    "import numpy as np\n",
    "from copy import deepcopy\n",
    "import pandas as pd"
   ]
  },
  {
   "cell_type": "markdown",
   "id": "c646c333-1306-4043-b5aa-3cb63fd9966f",
   "metadata": {},
   "source": [
    "**You will need `mesmerize-viz` installed for the visualizations**"
   ]
  },
  {
   "cell_type": "code",
   "execution_count": null,
   "id": "d8e11779-e36d-42d6-a885-8a527742195b",
   "metadata": {},
   "outputs": [],
   "source": [
    "pd.options.display.max_colwidth = 120"
   ]
  },
  {
   "cell_type": "markdown",
   "id": "c16f235f-703b-4004-9cde-46794cafcf4a",
   "metadata": {
    "pycharm": {
     "name": "#%% md\n"
    },
    "tags": []
   },
   "source": [
    "# Paths\n",
    "\n",
    "`mesmerize-core` helps manage the outputs of caiman algorithms and organizes \"parameter variants\" - the output of a given combination of input data and algorithm parameters. In order to run the algorithms you must tell `mesmerize-core` where your _input data_ are located and decide on a **top level raw data directory**. For example consider the following directory structure of experimental data (you may organize your raw data however you wish, this is just an example). We can see that all the experimental data lies under `/data/group_name/my_name/exp_data`. Therefore we can use this `exp_data` dir as a `parent raw data path`. `mesmerize-core` will then only store the _relative_ paths to the raw data files, this allows you to move datasets between computers and filesystems. `mesmerize-core` does not store any hard file paths, only relative paths.\n",
    "\n",
    "```\n",
    "/data/group_name/my_name\n",
    "                        └── exp_data\n",
    "                            ├── axonal_imaging\n",
    "                            │   ├── mouse_1\n",
    "                            │   │   ├── exp_a.tiff\n",
    "                            │   │   ├── exp_b.tiff\n",
    "                            │   │   └── exp_c.tiff\n",
    "                            │   ├── mouse_2\n",
    "                            │   │   ├── exp_a.tiff\n",
    "                            │   │   └── exp_b.tiff\n",
    "                            │   └── mouse_3\n",
    "                            └── hippocampus_imaging\n",
    "                                ├── mouse_1\n",
    "                                │   ├── exp_a.tiff\n",
    "                                │   ├── exp_b.tiff\n",
    "                                │   └── exp_c.tiff\n",
    "                                ├── mouse_2\n",
    "                                └── mouse_3\n",
    "```\n",
    "\n",
    "**For this demo set the `caiman_data` dir as the parent raw data path**\n",
    "\n",
    "Sidenote: We recommend using [pathlib](https://docs.python.org/3/library/pathlib.html) instead of manually managing paths as strings. `pathlib` is just a part of the Python standard library, it makes it much easier to deal with paths and saves a lot of time in the long-run! It also makes your paths compatible across operating systems. Therefore even if you are on Windows you can use the regular `/` for paths, you do not have to worry about the strangeness of `\\\\` and `\\`"
   ]
  },
  {
   "cell_type": "code",
   "execution_count": null,
   "id": "233fa7a9-c623-48bd-aa2a-ef41a7204874",
   "metadata": {
    "pycharm": {
     "name": "#%%\n"
    }
   },
   "outputs": [],
   "source": [
    "mc.set_parent_raw_data_path(\"/home/kushal/caiman_data/\")"
   ]
  },
  {
   "cell_type": "markdown",
   "id": "af643600-187a-4812-8fab-d277542aae45",
   "metadata": {},
   "source": [
    "### Batch path, this is where caiman outputs will be organized\n",
    "\n",
    "This can be anywhere, it does not need to be under the parent raw data path."
   ]
  },
  {
   "cell_type": "code",
   "execution_count": null,
   "id": "97455d84-91d8-4b3b-88d8-c8772d03c736",
   "metadata": {
    "pycharm": {
     "name": "#%%\n"
    }
   },
   "outputs": [],
   "source": [
    "batch_path = mc.get_parent_raw_data_path().joinpath(\"mesmerize-batch/batch.pickle\")"
   ]
  },
  {
   "cell_type": "markdown",
   "id": "c78dbc4e-fda3-48b5-a736-3777ab727648",
   "metadata": {},
   "source": [
    "# Create a new batch\n",
    "\n",
    "This creates a new pandas `DataFrame` with the columns that are necessary for mesmerize. In mesmerize we call this the **batch DataFrame**. You can add additional columns relevant to your experiment, but do not modify columns used by mesmerize.\n",
    "\n",
    "Note that when you create a DataFrame you will need to use `load_batch()` to load it later. You cannot use `create_batch()` to overwrite an existing batch DataFrame"
   ]
  },
  {
   "cell_type": "code",
   "execution_count": null,
   "id": "ee720c3f-6eab-4552-bee4-01357d38e3cd",
   "metadata": {
    "pycharm": {
     "name": "#%%\n"
    }
   },
   "outputs": [],
   "source": [
    "# create a new batch\n",
    "df = mc.create_batch(batch_path)\n",
    "\n",
    "# to load existing batches use `load_batch()`\n",
    "# df = load_batch(batch_path)"
   ]
  },
  {
   "cell_type": "markdown",
   "id": "363200f1-07ac-496d-9530-debbcd78e6f8",
   "metadata": {},
   "source": [
    "# View the dataframe\n",
    "\n",
    "It is empty and has the required columns for mesmerize"
   ]
  },
  {
   "cell_type": "code",
   "execution_count": null,
   "id": "9b488891-0314-4d64-9f53-73e2cd8c6288",
   "metadata": {},
   "outputs": [],
   "source": [
    "df"
   ]
  },
  {
   "cell_type": "markdown",
   "id": "f175707a-810e-4b5b-831c-bb1285707710",
   "metadata": {},
   "source": [
    "# Let's add stuff to the DataFrame!\n",
    "\n",
    "First get an input movie. An input movie must be somewhere under `parent raw data path`. It does not have to be directly under `parent raw data path`, it can be deeply nested anywhere under it."
   ]
  },
  {
   "cell_type": "code",
   "execution_count": null,
   "id": "b94f1158-9d5e-40a3-94f1-cb3896b30336",
   "metadata": {},
   "outputs": [],
   "source": [
    "# We'll use the Sue movie from caiman\n",
    "# download it if you don't have it\n",
    "from caiman.utils.utils import download_demo\n",
    "download_demo()"
   ]
  },
  {
   "cell_type": "code",
   "execution_count": null,
   "id": "06afbf97-9044-497c-ad8b-ba0ad72bff5d",
   "metadata": {},
   "outputs": [],
   "source": [
    "movie_path = mc.get_parent_raw_data_path().joinpath(\"example_movies/Sue_2x_3000_40_-46.tif\")"
   ]
  },
  {
   "cell_type": "markdown",
   "id": "a87d4f17-600e-4820-ae3f-384157a56e5e",
   "metadata": {
    "pycharm": {
     "name": "#%% md\n"
    }
   },
   "source": [
    "# Motion correction parameters\n",
    "\n",
    "The parameters are passed **directly** to `caiman`, this means you need to use the same exact names for the parameters and you can use all the parameters that you can use with `caiman` - because it's just passing them to `caiman`.\n",
    "\n",
    "\n",
    "The parameters dict for a mesmerize batch item must have the following structure. Put all the parameters in a dict under a key called **main**. The **main** dict is then fed directly to `caiman`.\n",
    "\n",
    "```python\n",
    "{\"main\": {... params directly passed to caiman}}\n",
    "```"
   ]
  },
  {
   "cell_type": "code",
   "execution_count": null,
   "id": "28396502-0758-49cb-a135-38430a2aa085",
   "metadata": {
    "pycharm": {
     "name": "#%%\n"
    }
   },
   "outputs": [],
   "source": [
    "# We will start with one version of parameters\n",
    "mcorr_params1 =\\\n",
    "{\n",
    "  'main': # this key is necessary for specifying that these are the \"main\" params for the algorithm\n",
    "    {\n",
    "        'max_shifts': [24, 24],\n",
    "        'strides': [48, 48],\n",
    "        'overlaps': [24, 24],\n",
    "        'max_deviation_rigid': 3,\n",
    "        'border_nan': 'copy',\n",
    "        'pw_rigid': True,\n",
    "        'gSig_filt': None\n",
    "    },\n",
    "}"
   ]
  },
  {
   "cell_type": "markdown",
   "id": "14af1f0f-bec8-42c6-b565-8fc5516df8db",
   "metadata": {
    "pycharm": {
     "name": "#%% md\n"
    }
   },
   "source": [
    "# Add a \"batch item\" to the DataFrame this is the combination of:\n",
    "* algorithm to run, `algo`\n",
    "* input movie to run the algorithm on, `input_movie_path`\n",
    "* parameters for the specified algorithm, `params`\n",
    "* a name for you to keep track of things, usually the same as the movie filename, `item_name`"
   ]
  },
  {
   "cell_type": "code",
   "execution_count": null,
   "id": "0d25ff8d-a4b5-4377-afa7-ea60c7bfde72",
   "metadata": {
    "pycharm": {
     "name": "#%%\n"
    }
   },
   "outputs": [],
   "source": [
    "# add an item to the DataFrame\n",
    "df.caiman.add_item(\n",
    "    algo='mcorr',\n",
    "    input_movie_path=movie_path,\n",
    "    params=mcorr_params1,\n",
    "    item_name=movie_path.stem,  # filename of the movie, but can be anything\n",
    ")\n",
    "\n",
    "df"
   ]
  },
  {
   "cell_type": "markdown",
   "id": "e32d04e0-1068-4583-a5d8-952db01e989b",
   "metadata": {
    "pycharm": {
     "name": "#%% md\n"
    }
   },
   "source": [
    "We can now see that there is one item in the DataFrame. What we called a \"item\" in `mesmerize-core` DataFrames is technically called a pandas `Series` or row."
   ]
  },
  {
   "cell_type": "markdown",
   "id": "0f243905-f970-443d-a106-9512c8cdeb6b",
   "metadata": {},
   "source": [
    "# Run an item\n",
    "\n",
    "There is only one item in this DataFrame and it is located at index `0`. You can run a row using `df.iloc[index].caiman.run()`\n",
    "\n",
    "Technical notes: On Linux & Mac it will run in subprocess but on Windows it will run in the local kernel. If using the subprocess backend (only Linux & Mac) you can use `run(wait=False)` if you don't want to block the kernel while running. "
   ]
  },
  {
   "cell_type": "code",
   "execution_count": null,
   "id": "797963a0-77d1-4479-a7c1-2cb58d314eb3",
   "metadata": {
    "tags": []
   },
   "outputs": [],
   "source": [
    "df.iloc[0].caiman.run()"
   ]
  },
  {
   "cell_type": "markdown",
   "id": "61bcf313-60e0-43ee-9533-c317e67a5082",
   "metadata": {},
   "source": [
    "# Reload DataFrame from disk\n",
    "\n",
    "After running one or any number of items in `mesmerize-core` you must call `df = df.caiman.reload_from_disk()`. This loads the DataFrame with references to the output files in the batch directory."
   ]
  },
  {
   "cell_type": "code",
   "execution_count": null,
   "id": "07680c27-ce48-4592-88af-70073f05cbf4",
   "metadata": {
    "tags": []
   },
   "outputs": [],
   "source": [
    "df = df.caiman.reload_from_disk()"
   ]
  },
  {
   "cell_type": "code",
   "execution_count": null,
   "id": "b4cfdd3a-a9d4-436f-b5c1-8b0537919609",
   "metadata": {
    "tags": []
   },
   "outputs": [],
   "source": [
    "df"
   ]
  },
  {
   "cell_type": "markdown",
   "id": "7c8891f9-83a9-4c5b-bb73-8031afad9087",
   "metadata": {},
   "source": [
    "# Outputs\n",
    "\n",
    "We can see that the outputs column has been populated. The entries in this column do not have to be accessed directly. The `mesmerize-core` API allows you to fetch these outputs."
   ]
  },
  {
   "cell_type": "code",
   "execution_count": null,
   "id": "38723db4-3ac4-494f-ba01-0e315f66e174",
   "metadata": {
    "tags": []
   },
   "outputs": [],
   "source": [
    "index = 0 # we will fetch stuff from index 0 which we just ran\n",
    "\n",
    "# get the motion corrected movie memmap\n",
    "mcorr_movie = df.iloc[0].mcorr.get_output()\n",
    "mcorr_movie.shape"
   ]
  },
  {
   "cell_type": "code",
   "execution_count": null,
   "id": "fa2331c6-e190-4f05-88bc-0022d02a375a",
   "metadata": {
    "tags": []
   },
   "outputs": [],
   "source": [
    "# path to the mcorr memmap if you ever need it\n",
    "mcorr_memmap_path = df.iloc[0].mcorr.get_output_path()\n",
    "mcorr_memmap_path"
   ]
  },
  {
   "cell_type": "code",
   "execution_count": null,
   "id": "85708edb-fafa-42ff-b3bb-ce046d5528db",
   "metadata": {
    "tags": []
   },
   "outputs": [],
   "source": [
    "# mean projection, max and std projections are also available\n",
    "mean_proj = df.iloc[0].caiman.get_projection(\"mean\")\n",
    "mean_proj.shape"
   ]
  },
  {
   "cell_type": "code",
   "execution_count": null,
   "id": "f82e27e1-a566-4693-91fc-da04606f2159",
   "metadata": {
    "tags": []
   },
   "outputs": [],
   "source": [
    "# the input movie, note that we use `.caiman` here instead of `.mcorr`\n",
    "input_movie = df.iloc[0].caiman.get_input_movie()\n",
    "input_movie.shape"
   ]
  },
  {
   "cell_type": "markdown",
   "id": "4f0316b3-770c-44a5-994a-e3aca6c26939",
   "metadata": {
    "tags": []
   },
   "source": [
    "## Note on input movies\n",
    "\n",
    "`get_input_movie()` will automatically work with most tiff files and memmaps. If you want to load other file types, you will need to pass it a function (see examples below) that returns a lazy-loadable array, or a numpy array if you have enough RAM. \n",
    "\n",
    "\n",
    "### tiff files\n",
    "\n",
    "`get_input_movie()` wil try to use `tifffile.memmap` to lazy-load tiff files. This works for some tiff files. If `tifffile.memmap` fails, `mesmerize-core` has its own `LazyTiff` implementation that it will try to fallback on. However, some not every tiff file can be lazy-loaded so it is not gaurenteed that `LazyTiff` will work. The implementation of `LazyTiff` is quite simple and you might be able to subclass it for your specific type of tiff file: https://github.com/nel-lab/mesmerize-core/blob/master/mesmerize_core/arrays/_tiff.py \n",
    "\n",
    "### hdf5 files\n",
    "\n",
    "```python\n",
    "import h5py\n",
    "\n",
    "def hdf5_reader(path):\n",
    "    f = h5py.File(path)\n",
    "    return f[\"your-key\"]\n",
    "\n",
    "input_movie = df.iloc[index].caiman.get_input_movie(hdf5_reader)\n",
    "```\n",
    "\n",
    "### avi files\n",
    "    \n",
    "```python\n",
    "from mesmerize_core.arrays import LazyVideo\n",
    "\n",
    "def video_reader(path):\n",
    "    a = LazyVideo(path)  # you can use the other args if you want\n",
    "    return a\n",
    "\n",
    "input_movie = df.iloc[index].caiman.get_input_movie(video_reader)\n",
    "```"
   ]
  },
  {
   "cell_type": "markdown",
   "id": "b44371ad-f0e8-4958-bec4-fb84a8ea43ed",
   "metadata": {},
   "source": [
    "# Visualize with mesmerize-viz!\n",
    "\n",
    "- Random-access frames\n",
    "- Slider for frame averaging over a window - useful for quality control\n",
    "- adjust cmap, vmin vmax, etc."
   ]
  },
  {
   "cell_type": "code",
   "execution_count": null,
   "id": "6820a07d-5632-474e-9fae-eb7825a9cfce",
   "metadata": {
    "tags": []
   },
   "outputs": [],
   "source": [
    "viz = df.mcorr.viz()\n",
    "viz.show()"
   ]
  },
  {
   "cell_type": "code",
   "execution_count": null,
   "id": "f22162f4-c57d-4086-bd60-25cec9a34e5d",
   "metadata": {
    "tags": []
   },
   "outputs": [],
   "source": [
    "viz.close()"
   ]
  },
  {
   "cell_type": "markdown",
   "id": "df5fd794-0337-48dc-a205-a13051ab3c9a",
   "metadata": {},
   "source": [
    "# Visualizations are customizable\n",
    "\n",
    "Hint: use `Shift` + `Tab` to bring up the docstring for `mcorr.viz()`."
   ]
  },
  {
   "cell_type": "code",
   "execution_count": null,
   "id": "15745885-4933-4379-b9ff-5da580143b77",
   "metadata": {
    "tags": []
   },
   "outputs": [],
   "source": [
    "viz = df.mcorr.viz(data_options=[\"input\", \"mcorr\"])\n",
    "viz.show()"
   ]
  },
  {
   "cell_type": "markdown",
   "id": "e99bd8cd-c3fd-400e-9adc-ca24114e2efa",
   "metadata": {},
   "source": [
    "# Customization\n",
    "\n",
    "We call `viz` a \"Viz Container\". The `McorrVizContainer` has a fastplotlib `ImageWidget` that you can access."
   ]
  },
  {
   "cell_type": "code",
   "execution_count": null,
   "id": "9b2b6224-9a5e-40a0-ac60-459260e9eb83",
   "metadata": {
    "tags": []
   },
   "outputs": [],
   "source": [
    "viz.image_widget"
   ]
  },
  {
   "cell_type": "markdown",
   "id": "c1c74746-dc5d-4bd3-8d27-19945b07978c",
   "metadata": {},
   "source": [
    "Change colormaps"
   ]
  },
  {
   "cell_type": "code",
   "execution_count": null,
   "id": "b4f7c050-cfb4-462b-adca-95a4c534974f",
   "metadata": {
    "tags": []
   },
   "outputs": [],
   "source": [
    "viz.image_widget.cmap = \"gray\""
   ]
  },
  {
   "cell_type": "code",
   "execution_count": null,
   "id": "9ae4afc0-dac6-49f8-82b2-14d68f7f0182",
   "metadata": {
    "tags": []
   },
   "outputs": [],
   "source": [
    "viz.image_widget.cmap = \"viridis\""
   ]
  },
  {
   "cell_type": "markdown",
   "id": "33b8dce5-0164-4b4c-8bfd-5d3b64507af5",
   "metadata": {},
   "source": [
    "Access subplots, graphics, etc. The full suite of the `fastplotlib` API"
   ]
  },
  {
   "cell_type": "code",
   "execution_count": null,
   "id": "5fcc9a47-4127-42ef-bd10-4206ede0a890",
   "metadata": {
    "tags": []
   },
   "outputs": [],
   "source": [
    "viz.image_widget.gridplot[\"mcorr\"]"
   ]
  },
  {
   "cell_type": "code",
   "execution_count": null,
   "id": "b1ce3994-cd29-4de8-9652-de4e9b91bc67",
   "metadata": {
    "tags": []
   },
   "outputs": [],
   "source": [
    "viz.image_widget.gridplot[\"mcorr\"][\"image_widget_managed\"].cmap.vmax"
   ]
  },
  {
   "cell_type": "markdown",
   "id": "0fa56fd3-4a52-42a1-bc2e-a2b609e56f0d",
   "metadata": {},
   "source": [
    "# Optional: close the visualization to free up the GPU\n",
    "\n",
    "Not necessary if you're on a workstation or similar with decent GPUs"
   ]
  },
  {
   "cell_type": "code",
   "execution_count": null,
   "id": "070cb879-776f-493c-85b3-4a9d9244ee8f",
   "metadata": {
    "tags": []
   },
   "outputs": [],
   "source": [
    "viz.close()"
   ]
  },
  {
   "cell_type": "markdown",
   "id": "c3b1329a-56e0-4a18-bf8e-7570371d77e4",
   "metadata": {},
   "source": [
    "# Parameter variants - this is the purpose of mesmerize-core!\n",
    "\n",
    "Let's add another row to the DataFrame. We will use the same input movie but different parameters. This is the basis of how we can perform a _parameter gridsearch_."
   ]
  },
  {
   "cell_type": "code",
   "execution_count": null,
   "id": "5f5d0785-da70-41ed-b31c-418a407ef6ad",
   "metadata": {},
   "outputs": [],
   "source": [
    "mcorr_params2 =\\\n",
    "{\n",
    "  'main':\n",
    "    {\n",
    "        'max_shifts': [4, 4],\n",
    "        'strides': [48, 48],\n",
    "        'overlaps': [24, 24],\n",
    "        'max_deviation_rigid': 3,\n",
    "        'border_nan': 'copy',\n",
    "        'pw_rigid': True,\n",
    "        'gSig_filt': None\n",
    "    },\n",
    "}\n",
    "\n",
    "# add other param variant to the batch\n",
    "df.caiman.add_item(\n",
    "  algo='mcorr',\n",
    "  item_name=movie_path.stem,\n",
    "  input_movie_path=movie_path,\n",
    "  params=mcorr_params2\n",
    ")\n",
    "\n",
    "df"
   ]
  },
  {
   "cell_type": "markdown",
   "id": "26480466-d5a7-422e-a9e7-ded165ad6fcc",
   "metadata": {
    "tags": []
   },
   "source": [
    "We can see that there are two batch items for the same input movie."
   ]
  },
  {
   "cell_type": "markdown",
   "id": "1596fa77-e09e-4df5-aab9-c06dd5b93c24",
   "metadata": {},
   "source": [
    "# Parameter Gridsearch\n",
    "\n",
    "Use a `for` loop to add multiple different parameter variants more efficiently."
   ]
  },
  {
   "cell_type": "code",
   "execution_count": null,
   "id": "8b66724d-8164-4c9f-996d-fe3d2e592900",
   "metadata": {},
   "outputs": [],
   "source": [
    "# copy the mcorr_params2 dict to make some changes\n",
    "new_params = deepcopy(mcorr_params2)\n",
    "\n",
    "# some variants of max_shifts\n",
    "for shifts in [2, 32]: \n",
    "    for strides in [12, 24, 64]:\n",
    "        overlaps = int(strides / 2)\n",
    "        # deep copy is the safest way to copy dicts\n",
    "        new_params = deepcopy(new_params)\n",
    "\n",
    "        # assign the \"max_shifts\"\n",
    "        new_params[\"main\"][\"max_shifts\"] = (shifts, shifts)\n",
    "        new_params[\"main\"][\"strides\"] = (strides, strides)\n",
    "        new_params[\"main\"][\"overlaps\"] = (overlaps, overlaps)\n",
    "\n",
    "        df.caiman.add_item(\n",
    "          algo='mcorr',\n",
    "          item_name=movie_path.stem,\n",
    "          input_movie_path=movie_path,\n",
    "          params=new_params\n",
    "        )"
   ]
  },
  {
   "cell_type": "code",
   "execution_count": null,
   "id": "e990f5d5-5d20-48c8-a39a-ef6f7e4d9862",
   "metadata": {},
   "outputs": [],
   "source": [
    "df"
   ]
  },
  {
   "cell_type": "markdown",
   "id": "d8912227-b00e-461f-a61d-9d572a42313f",
   "metadata": {},
   "source": [
    "# Distinguishing parameter variants\n",
    "\n",
    "We can see that there are many parameter variants, but it is not easy to see the differences in parameters between the rows that have the same `item_name`.\n",
    "\n",
    "We can use the `caiman.get_params_diffs()` to see the unique parameters between rows with the same `item_name`"
   ]
  },
  {
   "cell_type": "code",
   "execution_count": null,
   "id": "6398946b-ced7-4ef2-9614-f062b7a65ad5",
   "metadata": {},
   "outputs": [],
   "source": [
    "diffs = df.caiman.get_params_diffs(algo=\"mcorr\", item_name=df.iloc[0][\"item_name\"])\n",
    "diffs"
   ]
  },
  {
   "cell_type": "markdown",
   "id": "1e5bf8fd-bda7-45b5-9cd7-00ea6c0bac38",
   "metadata": {},
   "source": [
    "# Run multiple batch items.\n",
    "\n",
    "`df.iterrows()` iterates through rows and returns the numerical index and row for each iteration"
   ]
  },
  {
   "cell_type": "code",
   "execution_count": null,
   "id": "406aa80b-ea16-4e0b-8447-1c091cabde68",
   "metadata": {
    "tags": []
   },
   "outputs": [],
   "source": [
    "for i, row in df.iterrows():\n",
    "    if row[\"outputs\"] is not None: # item has already been run\n",
    "        continue # skip\n",
    "        \n",
    "    process = row.caiman.run()\n",
    "    \n",
    "    # on Windows you MUST reload the batch dataframe after every iteration because it uses the `local` backend.\n",
    "    # this is unnecessary on Linux & Mac\n",
    "    # \"DummyProcess\" is used for local backend so this is automatic\n",
    "    if process.__class__.__name__ == \"DummyProcess\":\n",
    "        df = df.caiman.reload_from_disk()"
   ]
  },
  {
   "cell_type": "markdown",
   "id": "ffc9a52c-eae1-49f1-a8ba-a79b92e897e4",
   "metadata": {
    "pycharm": {
     "name": "#%% md\n"
    },
    "tags": []
   },
   "source": [
    "# Outputs\n",
    "\n",
    "Load the output information into the DataFrame"
   ]
  },
  {
   "cell_type": "code",
   "execution_count": null,
   "id": "ab1bfbb4-2737-4aea-9e2f-673cf539279d",
   "metadata": {},
   "outputs": [],
   "source": [
    "df = df.caiman.reload_from_disk()"
   ]
  },
  {
   "cell_type": "code",
   "execution_count": null,
   "id": "fc41f7a8-e80b-4262-890a-58cfb621f017",
   "metadata": {
    "pycharm": {
     "name": "#%%\n"
    }
   },
   "outputs": [],
   "source": [
    "df"
   ]
  },
  {
   "cell_type": "markdown",
   "id": "069ddc1e-50fc-4e67-bd68-ef1faf439e6e",
   "metadata": {},
   "source": [
    "# Visualization using `mesmerize-viz` "
   ]
  },
  {
   "cell_type": "code",
   "execution_count": null,
   "id": "9bc56b3d-2bec-4b60-9d05-788950b61c34",
   "metadata": {
    "tags": []
   },
   "outputs": [],
   "source": [
    "from mesmerize_viz import *"
   ]
  },
  {
   "cell_type": "code",
   "execution_count": null,
   "id": "78708874-f58f-4508-b1f5-b07cce0203f8",
   "metadata": {
    "tags": []
   },
   "outputs": [],
   "source": [
    "mcorr_viz = df.mcorr.viz(data_options=[\"input\", \"mcorr\"])\n",
    "mcorr_viz.show()"
   ]
  },
  {
   "cell_type": "markdown",
   "id": "56ece528-d565-4250-bd09-fa54077a0811",
   "metadata": {},
   "source": [
    "# Build your own visualizations using `fastplotlib`"
   ]
  },
  {
   "cell_type": "markdown",
   "id": "ad0ea6e4-27bf-4cdf-97de-07368dec532b",
   "metadata": {},
   "source": [
    "# Use `ImageWidget` to view 5 mcorr results simultaneously\n",
    "\n",
    "This type of visualization usually requires your files to be lazy-loadble, and the performance will depend on your hard drive's capabilities."
   ]
  },
  {
   "cell_type": "code",
   "execution_count": null,
   "id": "d0351fcd-58ef-47cf-9f72-6a6a116da929",
   "metadata": {},
   "outputs": [],
   "source": [
    "# first item is just the raw movie\n",
    "movies = [df.iloc[0].caiman.get_input_movie()]\n",
    "\n",
    "# subplot titles\n",
    "subplot_names = [\"raw\"]\n",
    "\n",
    "# we will use the mean images later\n",
    "means = [df.iloc[0].caiman.get_projection(\"mean\")]\n",
    "\n",
    "# add all the mcorr outputs to the list\n",
    "for i, row in df.iterrows():\n",
    "    # add to the list of movies to plot\n",
    "    movies.append(row.mcorr.get_output())\n",
    "    \n",
    "    # subplot title to show dataframe index\n",
    "    subplot_names.append(f\"ix: {i}\")\n",
    "    \n",
    "    # mean images which we'll use later\n",
    "    means.append(row.caiman.get_projection(\"mean\"))\n",
    "\n",
    "# create the widget\n",
    "mcorr_iw_multiple = fpl.ImageWidget(\n",
    "    data=movies,  # list of movies\n",
    "    window_funcs={\"t\": (np.mean, 17)}, # window functions as a kwarg, this is what the slider was used for in the ready-made viz\n",
    "    grid_plot_kwargs={\"size\": (900, 550)},\n",
    "    names=subplot_names,  # subplot names used for titles\n",
    "    cmap=\"gnuplot2\"\n",
    ")\n",
    "\n",
    "mcorr_iw_multiple.show()"
   ]
  },
  {
   "cell_type": "code",
   "execution_count": null,
   "id": "a96358a7-1039-452b-bdc2-97a64731ccb7",
   "metadata": {},
   "outputs": [],
   "source": [
    "df.caiman.get_params_diffs(algo=\"mcorr\", item_name=df.iloc[0][\"item_name\"])"
   ]
  },
  {
   "cell_type": "markdown",
   "id": "0f0f40f5-3f92-4d6d-a372-667e8bfb5672",
   "metadata": {},
   "source": [
    "### Modify the `window_funcs` at any time"
   ]
  },
  {
   "cell_type": "code",
   "execution_count": null,
   "id": "cec3c2bf-e211-49fb-b7c8-bae5ceca99eb",
   "metadata": {},
   "outputs": [],
   "source": [
    "mcorr_iw_multiple.window_funcs[\"t\"].window_size = 5"
   ]
  },
  {
   "cell_type": "markdown",
   "id": "f39b9fea-6374-4de1-84ac-9bcabb7ab2c4",
   "metadata": {},
   "source": [
    "## There is some motion on the left side of of `ix: 2` at timepoint `1452`, `2037` and a few others. This will be more obvious if we substract a mean image from each frame. You can use `frame_apply` to apply a function before displaying frames in the `ImageWidget`\n",
    "\n",
    "This can be combined with `window_funcs` or used by itself. If used in combination with `window_funcs`, the window functions are computed first and then fed to `frame_apply`.\n",
    "\n",
    "For this example the `frame_apply` functions subtract the mean image for each movie.\n",
    "\n",
    "General form:\n",
    "\n",
    "```python\n",
    "{\n",
    "    data_ix: function() # returns 2D frame\n",
    "    ...\n",
    "}\n",
    "```"
   ]
  },
  {
   "cell_type": "code",
   "execution_count": null,
   "id": "845ad96a-7d94-4e50-b50e-4f866ea07d4e",
   "metadata": {},
   "outputs": [],
   "source": [
    "subtract_means = {\n",
    "    0: lambda x: x - means[0],\n",
    "    1: lambda x: x - means[1],\n",
    "    2: lambda x: x - means[2],\n",
    "    3: lambda x: x - means[3],\n",
    "    4: lambda x: x - means[4],\n",
    "    5: lambda x: x - means[5]\n",
    "}"
   ]
  },
  {
   "cell_type": "code",
   "execution_count": null,
   "id": "c175b726-808a-4ed1-ad98-1fac793f0833",
   "metadata": {},
   "outputs": [],
   "source": [
    "mcorr_iw_multiple.frame_apply = subtract_means"
   ]
  },
  {
   "cell_type": "markdown",
   "id": "6c99e411-b1c6-4f25-ad34-298702e64fab",
   "metadata": {},
   "source": [
    "### Different colormaps can make the motion more obvious"
   ]
  },
  {
   "cell_type": "code",
   "execution_count": null,
   "id": "6edd2dd5-82fa-4325-9fe8-c04a96ac949b",
   "metadata": {},
   "outputs": [],
   "source": [
    "for sp in mcorr_iw_multiple.gridplot:\n",
    "    sp.graphics[0].cmap = \"jet\""
   ]
  },
  {
   "cell_type": "code",
   "execution_count": null,
   "id": "2bc649d3-c897-47da-a6d9-ae5d07e1f6cf",
   "metadata": {},
   "outputs": [],
   "source": [
    "# disable frame apply\n",
    "mcorr_iw_multiple.frame_apply = dict()"
   ]
  },
  {
   "cell_type": "code",
   "execution_count": null,
   "id": "f50e8b9c-2b45-441c-ae21-aa2eea2acaf1",
   "metadata": {},
   "outputs": [],
   "source": [
    "mcorr_iw_multiple.close()"
   ]
  },
  {
   "cell_type": "markdown",
   "id": "de6b4f8f-b168-486a-9237-f31412b19ca8",
   "metadata": {},
   "source": [
    "# ix `3` seems to work the best so we will cleanup the DataFrame and remove all other items.\n",
    "\n",
    "### You can remove batch items (i.e. rows) using `df.caiman.remove_item(<item_uuid>)`\n",
    "\n",
    "**Note that this also cleans up the output data in the batch directory!**"
   ]
  },
  {
   "cell_type": "code",
   "execution_count": null,
   "id": "cc1fb4fd-4cb3-41ca-9ec1-a62c15711afa",
   "metadata": {},
   "outputs": [],
   "source": [
    "# make a list of rows we want to keep using the uuids\n",
    "rows_keep = [df.iloc[3].uuid]\n",
    "rows_keep"
   ]
  },
  {
   "cell_type": "markdown",
   "id": "820304a4-a1bb-4719-9ae7-a69f6752f329",
   "metadata": {},
   "source": [
    "### On windows calling `remove_item()` will raise a `PermissionError` if you have the memmap file open.\n",
    "### Unfortunately the current workaround is to kill the kernel if you want to delete batch items with open memmaps.\n",
    "\n",
    "There is currently no way to close a `numpy.memmap`, even if you remove all references to it."
   ]
  },
  {
   "cell_type": "code",
   "execution_count": null,
   "id": "0985f784-9ef1-4718-91ee-61c6c5b931c0",
   "metadata": {},
   "outputs": [],
   "source": [
    "for i, row in df.iterrows():\n",
    "    if row.uuid not in rows_keep:\n",
    "        df.caiman.remove_item(row.uuid)\n",
    "\n",
    "df"
   ]
  },
  {
   "cell_type": "markdown",
   "id": "147fe036-370c-4b40-ad74-c74cc62fb380",
   "metadata": {},
   "source": [
    "### As you can see above, the numerical index changed for what was previously item 3. Indices are always reset when you use `caiman.remove_item()`. However, UUIDs are always maintained."
   ]
  },
  {
   "cell_type": "markdown",
   "id": "6dc1260b-634c-49cc-b99b-10c44b3af72d",
   "metadata": {
    "pycharm": {
     "name": "#%% md\n"
    }
   },
   "source": [
    "# CNMF\n",
    "\n",
    "## Continue from mcorr above and perform CNMF using the good mcorr output.\n",
    "\n",
    "First, the params for CNMF. Put the CNMF params within the `main` key, `refit` is if you want to run CNMF for a second iteration."
   ]
  },
  {
   "cell_type": "code",
   "execution_count": null,
   "id": "cc283595-b82a-4270-a51b-f1d9cdc78d19",
   "metadata": {
    "pycharm": {
     "name": "#%%\n"
    }
   },
   "outputs": [],
   "source": [
    "# some params for CNMF\n",
    "params_cnmf =\\\n",
    "{\n",
    "    'main': # indicates that these are the \"main\" params for the CNMF algo\n",
    "        {\n",
    "            'fr': 30, # framerate, very important!\n",
    "            'p': 1,\n",
    "            'nb': 2,\n",
    "            'merge_thr': 0.85,\n",
    "            'rf': 15,\n",
    "            'stride': 6, # \"stride\" for cnmf, \"strides\" for mcorr\n",
    "            'K': 4,\n",
    "            'gSig': [4, 4],\n",
    "            'ssub': 1,\n",
    "            'tsub': 1,\n",
    "            'method_init': 'greedy_roi',\n",
    "            'min_SNR': 2.0,\n",
    "            'rval_thr': 0.7,\n",
    "            'use_cnn': True,\n",
    "            'min_cnn_thr': 0.8,\n",
    "            'cnn_lowest': 0.1,\n",
    "            'decay_time': 0.4,\n",
    "        },\n",
    "    'refit': True, # If `True`, run a second iteration of CNMF\n",
    "}"
   ]
  },
  {
   "cell_type": "markdown",
   "id": "31ba4f19-8764-446f-895d-7ff59912f604",
   "metadata": {},
   "source": [
    "### Add a single cnmf item to the batch"
   ]
  },
  {
   "cell_type": "code",
   "execution_count": null,
   "id": "29c48dd1-0eb5-48e5-96ab-0b2633983b88",
   "metadata": {
    "pycharm": {
     "name": "#%%\n"
    }
   },
   "outputs": [],
   "source": [
    "# add a batch item\n",
    "df.caiman.add_item(\n",
    "    algo='cnmf', # algo is cnmf\n",
    "    input_movie_path=df.iloc[0],  # use mcorr output from a completed batch item\n",
    "    params=params_cnmf,\n",
    "    item_name=df.iloc[0][\"item_name\"], # use the same item name\n",
    ")"
   ]
  },
  {
   "cell_type": "markdown",
   "id": "ae1b2d80-1d6f-403b-b98a-3471c96f57d6",
   "metadata": {},
   "source": [
    "### Just like with motion correction, we can use loops to add multiple parameter variants. This is useful to perform a parameter search to find the params that work best for your dataset. Here I will use `itertools.product` which is better than deeply nested loops."
   ]
  },
  {
   "cell_type": "code",
   "execution_count": null,
   "id": "fc7684d2-3d2c-43ac-9064-ba3997f7a1c8",
   "metadata": {},
   "outputs": [],
   "source": [
    "from itertools import product\n",
    "\n",
    "# variants of several parameters\n",
    "gSig_variants = [6, 8]\n",
    "K_variants = [4, 8]\n",
    "merge_thr_variants = [0.8, 0.95]\n",
    "\n",
    "# always use deepcopy like before\n",
    "new_params_cnmf = deepcopy(params_cnmf)\n",
    "\n",
    "# create a parameter grid\n",
    "parameter_grid = product(gSig_variants, K_variants, merge_thr_variants)\n",
    "\n",
    "# a single for loop to go through all the various parameter combinations\n",
    "for gSig, K, merge_thr in parameter_grid:\n",
    "    # deep copy params dict just like before\n",
    "    new_params_cnmf = deepcopy(new_params_cnmf)\n",
    "    \n",
    "    new_params_cnmf[\"main\"][\"gSig\"] = [gSig, gSig]\n",
    "    new_params_cnmf[\"main\"][\"K\"] = K\n",
    "    new_params_cnmf[\"main\"][\"merge_thr\"] = merge_thr\n",
    "    \n",
    "    # add param combination variant to batch\n",
    "    df.caiman.add_item(\n",
    "        algo=\"cnmf\",\n",
    "        item_name=df.iloc[0][\"item_name\"],\n",
    "        input_movie_path=df.iloc[0],\n",
    "        params=new_params_cnmf\n",
    "    )"
   ]
  },
  {
   "cell_type": "markdown",
   "id": "5cb21a8e-709d-4888-bbd9-42653f700240",
   "metadata": {},
   "source": [
    "### See that there are a lot of new cnmf batch items"
   ]
  },
  {
   "cell_type": "code",
   "execution_count": null,
   "id": "0fb3f94d-34d2-4eef-ad2d-b4f6db89fa72",
   "metadata": {},
   "outputs": [],
   "source": [
    "df"
   ]
  },
  {
   "cell_type": "markdown",
   "id": "9bf8dce3-b0f7-43b0-b719-774673b6cb25",
   "metadata": {},
   "source": [
    "## Since it is difficult to see the different parameter variants above, we can just view the diffs\n",
    "\n",
    "### The index numbers on the diffs correspond to the indices in the parent DataFrame above"
   ]
  },
  {
   "cell_type": "code",
   "execution_count": null,
   "id": "80b98249-b3b5-4481-a4e2-dbdcbf8d1ed9",
   "metadata": {},
   "outputs": [],
   "source": [
    "df.caiman.get_params_diffs(algo=\"cnmf\", item_name=df.iloc[1][\"item_name\"])"
   ]
  },
  {
   "cell_type": "markdown",
   "id": "628a194f-39c3-45a7-a029-53925763cc1e",
   "metadata": {},
   "source": [
    "# Run the added `cnmf` batch items\n",
    "\n",
    "### First, this is how you can filter a pandas DataFrame using multiple columns. This gives you the rows (batch items) using the \"cnmf\" `\"algo\"` and those that match a particular `\"item_name\"`"
   ]
  },
  {
   "cell_type": "code",
   "execution_count": null,
   "id": "ee0b9ac5-f66d-4370-842c-8655f5469286",
   "metadata": {},
   "outputs": [],
   "source": [
    "df[\n",
    "    (df[\"algo\"] == \"cnmf\") &  # algo\n",
    "    (df[\"item_name\"] == df.iloc[0][\"item_name\"])  # item name\n",
    "]"
   ]
  },
  {
   "cell_type": "markdown",
   "id": "4f7684ff-2249-4eca-bf1e-b720dd3f774e",
   "metadata": {},
   "source": [
    "## Run only these items"
   ]
  },
  {
   "cell_type": "code",
   "execution_count": null,
   "id": "2c6886a3-9071-494d-a3f1-0c8ba7c53b56",
   "metadata": {
    "pycharm": {
     "name": "#%%\n"
    },
    "scrolled": true,
    "tags": []
   },
   "outputs": [],
   "source": [
    "for i, row in df[\n",
    "    (df[\"algo\"] == \"cnmf\") &\n",
    "    (df[\"item_name\"] == df.iloc[0][\"item_name\"])\n",
    "].iterrows():\n",
    "    \n",
    "    process = row.caiman.run()\n",
    "    \n",
    "    # on Windows you MUST reload the batch dataframe after every iteration because it uses the `local` backend.\n",
    "    # this is unnecessary on Linux & Mac\n",
    "    # \"DummyProcess\" is used for local backend so this is automatic\n",
    "    if process.__class__.__name__ == \"DummyProcess\":\n",
    "        df = load_batch(df.paths.get_batch_path())"
   ]
  },
  {
   "cell_type": "markdown",
   "id": "7b34a336-d750-4347-bde5-c5abb555c885",
   "metadata": {
    "pycharm": {
     "name": "#%% md\n"
    },
    "tags": []
   },
   "source": [
    "### We now have CNMF outputs"
   ]
  },
  {
   "cell_type": "code",
   "execution_count": null,
   "id": "0f0110b6-4367-46c0-86a1-9c985c6ea91e",
   "metadata": {
    "pycharm": {
     "name": "#%%\n"
    }
   },
   "outputs": [],
   "source": [
    "df = df.caiman.reload_from_disk()\n",
    "df[df[\"algo\"] == \"cnmf\"]"
   ]
  },
  {
   "cell_type": "code",
   "execution_count": null,
   "id": "a8668f23-6abd-4bb8-a5ab-3c367caef688",
   "metadata": {
    "pycharm": {
     "name": "#%%\n"
    }
   },
   "outputs": [],
   "source": [
    "# see which batch items completed succcessfully\n",
    "df[df[\"algo\"] == \"cnmf\"][\"outputs\"].apply(lambda x: x[\"success\"])"
   ]
  },
  {
   "cell_type": "code",
   "execution_count": null,
   "id": "5f30b392-b531-4239-b3ce-5fab84904cb4",
   "metadata": {},
   "outputs": [],
   "source": []
  }
 ],
 "metadata": {
  "kernelspec": {
   "display_name": "Python 3 (ipykernel)",
   "language": "python",
   "name": "python3"
  },
  "language_info": {
   "codemirror_mode": {
    "name": "ipython",
    "version": 3
   },
   "file_extension": ".py",
   "mimetype": "text/x-python",
   "name": "python",
   "nbconvert_exporter": "python",
   "pygments_lexer": "ipython3",
   "version": "3.11.2"
  }
 },
 "nbformat": 4,
 "nbformat_minor": 5
}
