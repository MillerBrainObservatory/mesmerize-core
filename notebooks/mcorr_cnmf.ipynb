{
 "cells": [
  {
   "cell_type": "code",
   "execution_count": 1,
   "id": "175ae92b-73fa-44d8-ab75-fb3399f68e12",
   "metadata": {},
   "outputs": [],
   "source": [
    "from mesmerize_core import *\n",
    "import tifffile\n",
    "import numpy as np\n",
    "from matplotlib import pyplot as plt"
   ]
  },
  {
   "cell_type": "markdown",
   "id": "c16f235f-703b-4004-9cde-46794cafcf4a",
   "metadata": {},
   "source": [
    "# Paths\n",
    "These are the only variables you will need to modify in the demo notebook accoridng to your own `caiman_data` dir path"
   ]
  },
  {
   "cell_type": "code",
   "execution_count": 2,
   "id": "48474f34-6011-4316-80e1-bed47360925d",
   "metadata": {},
   "outputs": [],
   "source": [
    "# set the parent directory as the top-level directory for your experiment data\n",
    "# this is always mandatory\n",
    "\n",
    "# for the demo set this as the path to the `caiman_data` dir\n",
    "set_parent_raw_data_path(\"/home/kushal/caiman_data/\")\n",
    "\n",
    "# this path can be anywhere, algorithm output files will be organized within here\n",
    "batch_path = \"/home/kushal/caiman_data/mesmerize-core-batch/batch.pickle\"\n",
    "\n",
    "# path to raw movie tiff file for the demo, must be within `raw data path` or `batch path`\n",
    "movie_path = \"/home/kushal/caiman_data/example_movies/Sue_2x_3000_40_-46.tif\""
   ]
  },
  {
   "cell_type": "code",
   "execution_count": 3,
   "id": "ee720c3f-6eab-4552-bee4-01357d38e3cd",
   "metadata": {},
   "outputs": [
    {
     "data": {
      "text/html": [
       "<div>\n",
       "<style scoped>\n",
       "    .dataframe tbody tr th:only-of-type {\n",
       "        vertical-align: middle;\n",
       "    }\n",
       "\n",
       "    .dataframe tbody tr th {\n",
       "        vertical-align: top;\n",
       "    }\n",
       "\n",
       "    .dataframe thead th {\n",
       "        text-align: right;\n",
       "    }\n",
       "</style>\n",
       "<table border=\"1\" class=\"dataframe\">\n",
       "  <thead>\n",
       "    <tr style=\"text-align: right;\">\n",
       "      <th></th>\n",
       "      <th>algo</th>\n",
       "      <th>name</th>\n",
       "      <th>input_movie_path</th>\n",
       "      <th>params</th>\n",
       "      <th>outputs</th>\n",
       "      <th>comments</th>\n",
       "      <th>uuid</th>\n",
       "    </tr>\n",
       "  </thead>\n",
       "  <tbody>\n",
       "  </tbody>\n",
       "</table>\n",
       "</div>"
      ],
      "text/plain": [
       "Empty DataFrame\n",
       "Columns: [algo, name, input_movie_path, params, outputs, comments, uuid]\n",
       "Index: []"
      ]
     },
     "execution_count": 3,
     "metadata": {},
     "output_type": "execute_result"
    }
   ],
   "source": [
    "# create a new batch\n",
    "df = create_batch(batch_path)\n",
    "df"
   ]
  },
  {
   "cell_type": "markdown",
   "id": "a87d4f17-600e-4820-ae3f-384157a56e5e",
   "metadata": {},
   "source": [
    "# Motion correction"
   ]
  },
  {
   "cell_type": "code",
   "execution_count": 4,
   "id": "28396502-0758-49cb-a135-38430a2aa085",
   "metadata": {},
   "outputs": [],
   "source": [
    "# params, exactly the same as what you'd directly use with CaImAn\n",
    "mcorr_params1 =\\\n",
    "{\n",
    "  'main': # this key is necessary for specifying that these are the \"main\" params for the algorithm\n",
    "    {\n",
    "        'max_shifts': [24, 24],\n",
    "        'strides': [48, 48],\n",
    "        'overlaps': [24, 24],\n",
    "        'max_deviation_rigid': 3,\n",
    "        'border_nan': 'copy',\n",
    "        'pw_rigid': True,\n",
    "        'gSig_filt': None\n",
    "    },\n",
    "}"
   ]
  },
  {
   "cell_type": "markdown",
   "id": "14af1f0f-bec8-42c6-b565-8fc5516df8db",
   "metadata": {},
   "source": [
    "# Add a \"batch item\", this is the combination of:\n",
    "* algorithm to run, `algo`\n",
    "* input movie to run the algorithm on, `input_movie_path`\n",
    "* parameters for the specified algorithm, `params`\n",
    "* a name for you to keep track of things, usually the same as the movie filename, `name`"
   ]
  },
  {
   "cell_type": "code",
   "execution_count": 5,
   "id": "0d25ff8d-a4b5-4377-afa7-ea60c7bfde72",
   "metadata": {},
   "outputs": [
    {
     "data": {
      "text/html": [
       "<div>\n",
       "<style scoped>\n",
       "    .dataframe tbody tr th:only-of-type {\n",
       "        vertical-align: middle;\n",
       "    }\n",
       "\n",
       "    .dataframe tbody tr th {\n",
       "        vertical-align: top;\n",
       "    }\n",
       "\n",
       "    .dataframe thead th {\n",
       "        text-align: right;\n",
       "    }\n",
       "</style>\n",
       "<table border=\"1\" class=\"dataframe\">\n",
       "  <thead>\n",
       "    <tr style=\"text-align: right;\">\n",
       "      <th></th>\n",
       "      <th>algo</th>\n",
       "      <th>name</th>\n",
       "      <th>input_movie_path</th>\n",
       "      <th>params</th>\n",
       "      <th>outputs</th>\n",
       "      <th>comments</th>\n",
       "      <th>uuid</th>\n",
       "    </tr>\n",
       "  </thead>\n",
       "  <tbody>\n",
       "    <tr>\n",
       "      <th>0</th>\n",
       "      <td>mcorr</td>\n",
       "      <td>my_movie</td>\n",
       "      <td>example_movies/Sue_2x_3000_40_-46.tif</td>\n",
       "      <td>{'main': {'max_shifts': [24, 24], 'strides': [...</td>\n",
       "      <td>None</td>\n",
       "      <td>None</td>\n",
       "      <td>02e7d053-ce7b-41b1-9240-2236321a08e3</td>\n",
       "    </tr>\n",
       "  </tbody>\n",
       "</table>\n",
       "</div>"
      ],
      "text/plain": [
       "    algo      name                       input_movie_path  \\\n",
       "0  mcorr  my_movie  example_movies/Sue_2x_3000_40_-46.tif   \n",
       "\n",
       "                                              params outputs comments  \\\n",
       "0  {'main': {'max_shifts': [24, 24], 'strides': [...    None     None   \n",
       "\n",
       "                                   uuid  \n",
       "0  02e7d053-ce7b-41b1-9240-2236321a08e3  "
      ]
     },
     "execution_count": 5,
     "metadata": {},
     "output_type": "execute_result"
    }
   ],
   "source": [
    "# add an item to the batch\n",
    "df.caiman.add_item(\n",
    "  algo='mcorr',\n",
    "  name='my_movie',\n",
    "  input_movie_path=movie_path,\n",
    "  params=mcorr_params1\n",
    ")\n",
    "df"
   ]
  },
  {
   "cell_type": "markdown",
   "id": "e32d04e0-1068-4583-a5d8-952db01e989b",
   "metadata": {},
   "source": [
    "We can now see that there is one item in the batch dataframe, we can add another item with the same input movie but with different parameters"
   ]
  },
  {
   "cell_type": "code",
   "execution_count": 6,
   "id": "e7db7da0-2e59-467a-a056-a2c409052dd0",
   "metadata": {},
   "outputs": [
    {
     "data": {
      "text/html": [
       "<div>\n",
       "<style scoped>\n",
       "    .dataframe tbody tr th:only-of-type {\n",
       "        vertical-align: middle;\n",
       "    }\n",
       "\n",
       "    .dataframe tbody tr th {\n",
       "        vertical-align: top;\n",
       "    }\n",
       "\n",
       "    .dataframe thead th {\n",
       "        text-align: right;\n",
       "    }\n",
       "</style>\n",
       "<table border=\"1\" class=\"dataframe\">\n",
       "  <thead>\n",
       "    <tr style=\"text-align: right;\">\n",
       "      <th></th>\n",
       "      <th>algo</th>\n",
       "      <th>name</th>\n",
       "      <th>input_movie_path</th>\n",
       "      <th>params</th>\n",
       "      <th>outputs</th>\n",
       "      <th>comments</th>\n",
       "      <th>uuid</th>\n",
       "    </tr>\n",
       "  </thead>\n",
       "  <tbody>\n",
       "    <tr>\n",
       "      <th>0</th>\n",
       "      <td>mcorr</td>\n",
       "      <td>my_movie</td>\n",
       "      <td>example_movies/Sue_2x_3000_40_-46.tif</td>\n",
       "      <td>{'main': {'max_shifts': [24, 24], 'strides': [...</td>\n",
       "      <td>None</td>\n",
       "      <td>None</td>\n",
       "      <td>02e7d053-ce7b-41b1-9240-2236321a08e3</td>\n",
       "    </tr>\n",
       "    <tr>\n",
       "      <th>1</th>\n",
       "      <td>mcorr</td>\n",
       "      <td>my_movie</td>\n",
       "      <td>example_movies/Sue_2x_3000_40_-46.tif</td>\n",
       "      <td>{'main': {'max_shifts': [24, 24], 'strides': [...</td>\n",
       "      <td>None</td>\n",
       "      <td>None</td>\n",
       "      <td>815fb4fe-f6c6-4477-9b41-970a3f0d24e5</td>\n",
       "    </tr>\n",
       "  </tbody>\n",
       "</table>\n",
       "</div>"
      ],
      "text/plain": [
       "    algo      name                       input_movie_path  \\\n",
       "0  mcorr  my_movie  example_movies/Sue_2x_3000_40_-46.tif   \n",
       "1  mcorr  my_movie  example_movies/Sue_2x_3000_40_-46.tif   \n",
       "\n",
       "                                              params outputs comments  \\\n",
       "0  {'main': {'max_shifts': [24, 24], 'strides': [...    None     None   \n",
       "1  {'main': {'max_shifts': [24, 24], 'strides': [...    None     None   \n",
       "\n",
       "                                   uuid  \n",
       "0  02e7d053-ce7b-41b1-9240-2236321a08e3  \n",
       "1  815fb4fe-f6c6-4477-9b41-970a3f0d24e5  "
      ]
     },
     "execution_count": 6,
     "metadata": {},
     "output_type": "execute_result"
    }
   ],
   "source": [
    "# We create another set of params, useful for gridsearches for example\n",
    "mcorr_params2 =\\\n",
    "{\n",
    "  'main':\n",
    "    {\n",
    "        'max_shifts': [24, 24],\n",
    "        'strides': [24, 24],\n",
    "        'overlaps': [12, 12],\n",
    "        'max_deviation_rigid': 3,\n",
    "        'border_nan': 'copy',\n",
    "        'pw_rigid': True,\n",
    "        'gSig_filt': None\n",
    "    },\n",
    "}\n",
    "\n",
    "# add other param variant to the batch\n",
    "df.caiman.add_item(\n",
    "  algo='mcorr',\n",
    "  name='my_movie',\n",
    "  input_movie_path=movie_path,\n",
    "  params=mcorr_params2\n",
    ")\n",
    "df"
   ]
  },
  {
   "cell_type": "markdown",
   "id": "061451cc-c57d-43d1-a87d-61dea700d256",
   "metadata": {},
   "source": [
    "# Run batch item(s)\n",
    "You can run single batch items by calling `caiman.run()` on a `Series` (row) of the DataFrame. You can also use a `for` loop to run multiple batch items"
   ]
  },
  {
   "cell_type": "code",
   "execution_count": 7,
   "id": "ea0299c0-4946-4deb-877f-5ce749e161ae",
   "metadata": {},
   "outputs": [
    {
     "name": "stdout",
     "output_type": "stream",
     "text": [
      "starting mc\n"
     ]
    },
    {
     "name": "stderr",
     "output_type": "stream",
     "text": [
      "WARNING:root:Movie average is negative. Removing 1st percentile.\n",
      "WARNING:root:Movie average is negative. Removing 1st percentile.\n",
      "WARNING:root:Movie average is negative. Removing 1st percentile.\n",
      "WARNING:root:Movie average is negative. Removing 1st percentile.\n",
      "WARNING:root:Movie average is negative. Removing 1st percentile.\n",
      "WARNING:root:Movie average is negative. Removing 1st percentile.\n",
      "100%|██████████| 1/1 [00:00<00:00, 12.15it/s]\n",
      "\n",
      "100%|██████████| 1/1 [00:00<00:00,  9.85it/s]\n"
     ]
    },
    {
     "name": "stdout",
     "output_type": "stream",
     "text": [
      "mc finished successfully!\n",
      "computing projections\n",
      "Computing correlation image\n",
      "finished computing correlation image\n"
     ]
    },
    {
     "data": {
      "text/plain": [
       "0"
      ]
     },
     "execution_count": 7,
     "metadata": {},
     "output_type": "execute_result"
    }
   ],
   "source": [
    "# run the first \"batch item\"\n",
    "# this will run in a subprocess by default\n",
    "process = df.iloc[0].caiman.run()\n",
    "process.wait()"
   ]
  },
  {
   "cell_type": "markdown",
   "id": "ffc9a52c-eae1-49f1-a8ba-a79b92e897e4",
   "metadata": {},
   "source": [
    "Reload the DataFrame to see the outputs information for the mcorr batch item"
   ]
  },
  {
   "cell_type": "code",
   "execution_count": 8,
   "id": "fc41f7a8-e80b-4262-890a-58cfb621f017",
   "metadata": {},
   "outputs": [
    {
     "data": {
      "text/html": [
       "<div>\n",
       "<style scoped>\n",
       "    .dataframe tbody tr th:only-of-type {\n",
       "        vertical-align: middle;\n",
       "    }\n",
       "\n",
       "    .dataframe tbody tr th {\n",
       "        vertical-align: top;\n",
       "    }\n",
       "\n",
       "    .dataframe thead th {\n",
       "        text-align: right;\n",
       "    }\n",
       "</style>\n",
       "<table border=\"1\" class=\"dataframe\">\n",
       "  <thead>\n",
       "    <tr style=\"text-align: right;\">\n",
       "      <th></th>\n",
       "      <th>algo</th>\n",
       "      <th>name</th>\n",
       "      <th>input_movie_path</th>\n",
       "      <th>params</th>\n",
       "      <th>outputs</th>\n",
       "      <th>comments</th>\n",
       "      <th>uuid</th>\n",
       "    </tr>\n",
       "  </thead>\n",
       "  <tbody>\n",
       "    <tr>\n",
       "      <th>0</th>\n",
       "      <td>mcorr</td>\n",
       "      <td>my_movie</td>\n",
       "      <td>example_movies/Sue_2x_3000_40_-46.tif</td>\n",
       "      <td>{'main': {'max_shifts': [24, 24], 'strides': [...</td>\n",
       "      <td>{'mean-projection-path': 02e7d053-ce7b-41b1-92...</td>\n",
       "      <td>None</td>\n",
       "      <td>02e7d053-ce7b-41b1-9240-2236321a08e3</td>\n",
       "    </tr>\n",
       "    <tr>\n",
       "      <th>1</th>\n",
       "      <td>mcorr</td>\n",
       "      <td>my_movie</td>\n",
       "      <td>example_movies/Sue_2x_3000_40_-46.tif</td>\n",
       "      <td>{'main': {'max_shifts': [24, 24], 'strides': [...</td>\n",
       "      <td>None</td>\n",
       "      <td>None</td>\n",
       "      <td>815fb4fe-f6c6-4477-9b41-970a3f0d24e5</td>\n",
       "    </tr>\n",
       "  </tbody>\n",
       "</table>\n",
       "</div>"
      ],
      "text/plain": [
       "    algo      name                       input_movie_path  \\\n",
       "0  mcorr  my_movie  example_movies/Sue_2x_3000_40_-46.tif   \n",
       "1  mcorr  my_movie  example_movies/Sue_2x_3000_40_-46.tif   \n",
       "\n",
       "                                              params  \\\n",
       "0  {'main': {'max_shifts': [24, 24], 'strides': [...   \n",
       "1  {'main': {'max_shifts': [24, 24], 'strides': [...   \n",
       "\n",
       "                                             outputs comments  \\\n",
       "0  {'mean-projection-path': 02e7d053-ce7b-41b1-92...     None   \n",
       "1                                               None     None   \n",
       "\n",
       "                                   uuid  \n",
       "0  02e7d053-ce7b-41b1-9240-2236321a08e3  \n",
       "1  815fb4fe-f6c6-4477-9b41-970a3f0d24e5  "
      ]
     },
     "execution_count": 8,
     "metadata": {},
     "output_type": "execute_result"
    }
   ],
   "source": [
    "df = load_batch(batch_path)\n",
    "# we can see that the output for the first item is not empty\n",
    "df"
   ]
  },
  {
   "cell_type": "markdown",
   "id": "5c695833-7fc7-4fa0-a2fc-5d7885555c96",
   "metadata": {},
   "source": [
    "Check if the algorithm ran successfully "
   ]
  },
  {
   "cell_type": "code",
   "execution_count": 9,
   "id": "43a416ef-7e5a-4006-b042-43c0ae98bc69",
   "metadata": {},
   "outputs": [
    {
     "data": {
      "text/plain": [
       "True"
      ]
     },
     "execution_count": 9,
     "metadata": {},
     "output_type": "execute_result"
    }
   ],
   "source": [
    "# True if the algo ran succesfully\n",
    "df.iloc[0][\"outputs\"][\"success\"]"
   ]
  },
  {
   "cell_type": "code",
   "execution_count": 10,
   "id": "e905fd0a-ac51-46ec-a3ab-ad51cf3aafac",
   "metadata": {},
   "outputs": [
    {
     "data": {
      "text/plain": [
       "PosixPath('/home/kushal/caiman_data/mesmerize-core-batch/02e7d053-ce7b-41b1-9240-2236321a08e3/02e7d053-ce7b-41b1-9240-2236321a08e3-Sue_2x_3000_40_-46_els__d1_170_d2_170_d3_1_order_F_frames_3000_.mmap')"
      ]
     },
     "execution_count": 10,
     "metadata": {},
     "output_type": "execute_result"
    }
   ],
   "source": [
    "# use extensions to get the full path the outputs and other useful things\n",
    "# you should always use the extensions\n",
    "# never handle the \"outputs\" dict manually!\n",
    "df.iloc[0].mcorr.get_output_path()"
   ]
  },
  {
   "cell_type": "code",
   "execution_count": 11,
   "id": "10fa4d37-867e-4357-8f2d-a479cf838e4b",
   "metadata": {},
   "outputs": [
    {
     "data": {
      "text/plain": [
       "PosixPath('/home/kushal/caiman_data/example_movies/Sue_2x_3000_40_-46.tif')"
      ]
     },
     "execution_count": 11,
     "metadata": {},
     "output_type": "execute_result"
    }
   ],
   "source": [
    "# similarly resolve the full input movie path\n",
    "df.iloc[0].caiman.get_input_movie_path()"
   ]
  },
  {
   "cell_type": "markdown",
   "id": "005f08dc-d9b6-434d-85ef-ea3045677d14",
   "metadata": {},
   "source": [
    "Get the input movie and mcorr so we can visualize them"
   ]
  },
  {
   "cell_type": "code",
   "execution_count": 12,
   "id": "b7233088-43d2-4705-ade8-30c48446fdef",
   "metadata": {},
   "outputs": [],
   "source": [
    "# Load the input and output movies so we can view them\n",
    "input_movie = tifffile.imread(df.iloc[0].caiman.get_input_movie_path())\n",
    "\n",
    "# extension for loading the mcorr movie\n",
    "mcorr_movie = df.iloc[0].mcorr.get_output()"
   ]
  },
  {
   "cell_type": "markdown",
   "id": "4920b75c-6046-4d38-a051-220d349c21f7",
   "metadata": {},
   "source": [
    "# Visualization using fastplotlib\n",
    "You must have `fastplotlib` installed to visualize the mcorr and raw movie"
   ]
  },
  {
   "cell_type": "code",
   "execution_count": 13,
   "id": "3402ada9-b273-4660-b736-83668e036426",
   "metadata": {},
   "outputs": [],
   "source": [
    "from fastplotlib import GridPlot, Image, Plot\n",
    "from ipywidgets.widgets import IntSlider, VBox"
   ]
  },
  {
   "cell_type": "markdown",
   "id": "728bd6b0-c277-4803-a325-a4640be4f4ff",
   "metadata": {},
   "source": [
    "# Raw & MCorr movie side-by-side\n",
    "This cell just plots the raw & mcorr movie side by side and uses a slider for updating the frame index for random-access scrolling"
   ]
  },
  {
   "cell_type": "code",
   "execution_count": 14,
   "id": "b9481967-b29c-44fe-9483-a5dfe4b51939",
   "metadata": {},
   "outputs": [
    {
     "data": {
      "application/vnd.jupyter.widget-view+json": {
       "model_id": "a1aee5708ae64866aa030b0e9306387f",
       "version_major": 2,
       "version_minor": 0
      },
      "text/plain": [
       "RFBOutputContext()"
      ]
     },
     "metadata": {},
     "output_type": "display_data"
    },
    {
     "data": {
      "application/vnd.jupyter.widget-view+json": {
       "model_id": "b8aefc8907ad4a92aa61d20c215bc0ce",
       "version_major": 2,
       "version_minor": 0
      },
      "text/plain": [
       "VBox(children=(JupyterWgpuCanvas(), IntSlider(value=0, max=2999)))"
      ]
     },
     "metadata": {},
     "output_type": "display_data"
    }
   ],
   "source": [
    "# gridplot with 1 row, 2 columns\n",
    "gp = GridPlot(\n",
    "    shape=(1, 2),\n",
    "    controllers=np.array([[0, 0]]) # this is to that we can pan-zoom in sync :D \n",
    ")\n",
    "\n",
    "input_graphic = Image(\n",
    "    data=input_movie[0], # image data for the first frame\n",
    "    cmap='gnuplot2' # my favorite colormap\n",
    ")\n",
    "\n",
    "mcorr_graphic = Image(\n",
    "    data=mcorr_movie[0], # image data for the first frame\n",
    "    cmap='gnuplot2'\n",
    ")\n",
    "\n",
    "# add the grahpics to the subplots\n",
    "gp.subplots[0, 0].add_graphic(input_graphic)\n",
    "gp.subplots[0, 1].add_graphic(mcorr_graphic)\n",
    "\n",
    "# make a GUI slider\n",
    "slider = IntSlider(value=0, min=0, max=input_movie.shape[0] - 1, step=1)\n",
    "\n",
    "previous_value = 0\n",
    "\n",
    "# a function to update the frame based on the slider value\n",
    "def update_frame():\n",
    "    global previous_value\n",
    "    if previous_value == slider.value:\n",
    "        return\n",
    "    \n",
    "    input_graphic.update_data(input_movie[slider.value])\n",
    "    mcorr_graphic.update_data(mcorr_movie[slider.value])\n",
    "    \n",
    "# add to the animation so that this is run in every render cycle\n",
    "gp.add_animations([update_frame])\n",
    "\n",
    "# show the gridplot and slider\n",
    "VBox([gp.show(), slider])"
   ]
  },
  {
   "cell_type": "markdown",
   "id": "a4039b63-9f8e-4eba-992c-fbcd3dd70062",
   "metadata": {},
   "source": [
    "**Center the scenes**"
   ]
  },
  {
   "cell_type": "code",
   "execution_count": 15,
   "id": "f5d6465b-25a7-4019-84ea-d118aabfa79c",
   "metadata": {},
   "outputs": [],
   "source": [
    "gp.subplots[0, 0].center_scene()"
   ]
  },
  {
   "cell_type": "markdown",
   "id": "ecd39608-68f5-4177-aa68-d3cb1443e100",
   "metadata": {},
   "source": [
    "**Close the canvas if your don't have a powerful GPU so that you can plot more visualizations later.**"
   ]
  },
  {
   "cell_type": "code",
   "execution_count": 16,
   "id": "c1b71c47-97a9-417b-bb6a-c8a63da61bd3",
   "metadata": {},
   "outputs": [],
   "source": [
    "gp.canvas.close()"
   ]
  },
  {
   "cell_type": "markdown",
   "id": "6dc1260b-634c-49cc-b99b-10c44b3af72d",
   "metadata": {},
   "source": [
    "# CNMF\n",
    "\n",
    "We can continue from mcorr above and perform CNMF using the mcorr output"
   ]
  },
  {
   "cell_type": "code",
   "execution_count": 17,
   "id": "ac40f21c-024b-45f2-913d-040dde9b0091",
   "metadata": {},
   "outputs": [
    {
     "name": "stdout",
     "output_type": "stream",
     "text": [
      "cnmf params {'main': {'p': 1, 'gnb': 2, 'merge_thr': 0.85, 'rf': 15, 'stride_cnmf': 6, 'K': 4, 'gSig': [4, 4], 'ssub': 1, 'tsub': 1, 'method_init': 'greedy_roi', 'min_SNR': 2.0, 'rval_thr': 0.7, 'use_cnn': True, 'min_cnn_thr': 0.8, 'cnn_lowest': 0.1, 'decay_time': 0.4}, 'refit': True}\n"
     ]
    },
    {
     "name": "stderr",
     "output_type": "stream",
     "text": [
      "WARNING:root:No parameter gnb found!\n",
      "WARNING:root:No parameter stride_cnmf found!\n"
     ]
    },
    {
     "name": "stdout",
     "output_type": "stream",
     "text": [
      "making memmap\n"
     ]
    },
    {
     "name": "stderr",
     "output_type": "stream",
     "text": [
      "WARNING:root:Component 22 is only active jointly with neighboring components. Space correlation calculation might be unreliable.\n",
      "WARNING:root:Component 41 is only active jointly with neighboring components. Space correlation calculation might be unreliable.\n",
      "2022-08-03 20:38:05.255177: E tensorflow/stream_executor/cuda/cuda_driver.cc:271] failed call to cuInit: CUDA_ERROR_NO_DEVICE: no CUDA-capable device is detected\n",
      "2022-08-03 20:38:05.255209: I tensorflow/stream_executor/cuda/cuda_diagnostics.cc:169] retrieving CUDA diagnostic information for host: hantman-calcium\n",
      "2022-08-03 20:38:05.255214: I tensorflow/stream_executor/cuda/cuda_diagnostics.cc:176] hostname: hantman-calcium\n",
      "2022-08-03 20:38:05.255325: I tensorflow/stream_executor/cuda/cuda_diagnostics.cc:200] libcuda reported version is: 470.129.6\n",
      "2022-08-03 20:38:05.255344: I tensorflow/stream_executor/cuda/cuda_diagnostics.cc:204] kernel reported version is: 470.129.6\n",
      "2022-08-03 20:38:05.255349: I tensorflow/stream_executor/cuda/cuda_diagnostics.cc:310] kernel version seems to match DSO: 470.129.6\n",
      "2022-08-03 20:38:05.255563: I tensorflow/core/platform/cpu_feature_guard.cc:193] This TensorFlow binary is optimized with oneAPI Deep Neural Network Library (oneDNN) to use the following CPU instructions in performance-critical operations:  AVX2 FMA\n",
      "To enable them in other operations, rebuild TensorFlow with the appropriate compiler flags.\n"
     ]
    },
    {
     "name": "stdout",
     "output_type": "stream",
     "text": [
      "performing CNMF\n",
      "fitting images\n",
      "refitting\n",
      "Eval\n",
      "USING MODEL:/home/kushal/caiman_data/model/cnn_model.json\n",
      "5/5 [==============================] - 0s 9ms/step\n"
     ]
    },
    {
     "data": {
      "text/plain": [
       "0"
      ]
     },
     "execution_count": 17,
     "metadata": {},
     "output_type": "execute_result"
    }
   ],
   "source": [
    "# some params for CNMF\n",
    "params_cnmf =\\\n",
    "{\n",
    "    'main': # indicates that these are the \"main\" params for the CNMF algo\n",
    "        {\n",
    "            'p': 1,\n",
    "            'gnb': 2,\n",
    "            # raises error: no parameter 'merge_thresh' found\n",
    "            'merge_thr': 0.85,\n",
    "            'rf': 15,\n",
    "            'stride_cnmf': 6,\n",
    "            'K': 4,\n",
    "            'gSig': [4, 4],\n",
    "            'ssub': 1,\n",
    "            'tsub': 1,\n",
    "            'method_init': 'greedy_roi',\n",
    "            'min_SNR': 2.0,\n",
    "            'rval_thr': 0.7,\n",
    "            'use_cnn': True,\n",
    "            'min_cnn_thr': 0.8,\n",
    "            'cnn_lowest': 0.1,\n",
    "            'decay_time': 0.4,\n",
    "        },\n",
    "    'refit': True, # If `True`, run a second iteration of CNMF\n",
    "}\n",
    "\n",
    "# add a batch item\n",
    "df.caiman.add_item(\n",
    "  algo='cnmf',\n",
    "  name='my_movie',\n",
    "  input_movie_path=df.iloc[0].mcorr.get_output_path(),  # use mcorr output from a previous item\n",
    "  params=params_cnmf\n",
    ")\n",
    "\n",
    "# run this item\n",
    "process = df.iloc[-1].caiman.run()\n",
    "process.wait()"
   ]
  },
  {
   "cell_type": "markdown",
   "id": "7b34a336-d750-4347-bde5-c5abb555c885",
   "metadata": {},
   "source": [
    "### Look at the CNMF outputs"
   ]
  },
  {
   "cell_type": "code",
   "execution_count": 18,
   "id": "0f0110b6-4367-46c0-86a1-9c985c6ea91e",
   "metadata": {},
   "outputs": [
    {
     "data": {
      "text/html": [
       "<div>\n",
       "<style scoped>\n",
       "    .dataframe tbody tr th:only-of-type {\n",
       "        vertical-align: middle;\n",
       "    }\n",
       "\n",
       "    .dataframe tbody tr th {\n",
       "        vertical-align: top;\n",
       "    }\n",
       "\n",
       "    .dataframe thead th {\n",
       "        text-align: right;\n",
       "    }\n",
       "</style>\n",
       "<table border=\"1\" class=\"dataframe\">\n",
       "  <thead>\n",
       "    <tr style=\"text-align: right;\">\n",
       "      <th></th>\n",
       "      <th>algo</th>\n",
       "      <th>name</th>\n",
       "      <th>input_movie_path</th>\n",
       "      <th>params</th>\n",
       "      <th>outputs</th>\n",
       "      <th>comments</th>\n",
       "      <th>uuid</th>\n",
       "    </tr>\n",
       "  </thead>\n",
       "  <tbody>\n",
       "    <tr>\n",
       "      <th>0</th>\n",
       "      <td>mcorr</td>\n",
       "      <td>my_movie</td>\n",
       "      <td>example_movies/Sue_2x_3000_40_-46.tif</td>\n",
       "      <td>{'main': {'max_shifts': [24, 24], 'strides': [...</td>\n",
       "      <td>{'mean-projection-path': 02e7d053-ce7b-41b1-92...</td>\n",
       "      <td>None</td>\n",
       "      <td>02e7d053-ce7b-41b1-9240-2236321a08e3</td>\n",
       "    </tr>\n",
       "    <tr>\n",
       "      <th>1</th>\n",
       "      <td>mcorr</td>\n",
       "      <td>my_movie</td>\n",
       "      <td>example_movies/Sue_2x_3000_40_-46.tif</td>\n",
       "      <td>{'main': {'max_shifts': [24, 24], 'strides': [...</td>\n",
       "      <td>None</td>\n",
       "      <td>None</td>\n",
       "      <td>815fb4fe-f6c6-4477-9b41-970a3f0d24e5</td>\n",
       "    </tr>\n",
       "    <tr>\n",
       "      <th>2</th>\n",
       "      <td>cnmf</td>\n",
       "      <td>my_movie</td>\n",
       "      <td>02e7d053-ce7b-41b1-9240-2236321a08e3/02e7d053-...</td>\n",
       "      <td>{'main': {'p': 1, 'gnb': 2, 'merge_thr': 0.85,...</td>\n",
       "      <td>{'mean-projection-path': 0c3f9d3b-828e-486b-81...</td>\n",
       "      <td>None</td>\n",
       "      <td>0c3f9d3b-828e-486b-81f2-e3c70bb5aa93</td>\n",
       "    </tr>\n",
       "  </tbody>\n",
       "</table>\n",
       "</div>"
      ],
      "text/plain": [
       "    algo      name                                   input_movie_path  \\\n",
       "0  mcorr  my_movie              example_movies/Sue_2x_3000_40_-46.tif   \n",
       "1  mcorr  my_movie              example_movies/Sue_2x_3000_40_-46.tif   \n",
       "2   cnmf  my_movie  02e7d053-ce7b-41b1-9240-2236321a08e3/02e7d053-...   \n",
       "\n",
       "                                              params  \\\n",
       "0  {'main': {'max_shifts': [24, 24], 'strides': [...   \n",
       "1  {'main': {'max_shifts': [24, 24], 'strides': [...   \n",
       "2  {'main': {'p': 1, 'gnb': 2, 'merge_thr': 0.85,...   \n",
       "\n",
       "                                             outputs comments  \\\n",
       "0  {'mean-projection-path': 02e7d053-ce7b-41b1-92...     None   \n",
       "1                                               None     None   \n",
       "2  {'mean-projection-path': 0c3f9d3b-828e-486b-81...     None   \n",
       "\n",
       "                                   uuid  \n",
       "0  02e7d053-ce7b-41b1-9240-2236321a08e3  \n",
       "1  815fb4fe-f6c6-4477-9b41-970a3f0d24e5  \n",
       "2  0c3f9d3b-828e-486b-81f2-e3c70bb5aa93  "
      ]
     },
     "execution_count": 18,
     "metadata": {},
     "output_type": "execute_result"
    }
   ],
   "source": [
    "df = load_batch(batch_path)\n",
    "df"
   ]
  },
  {
   "cell_type": "code",
   "execution_count": 19,
   "id": "84cf6eed-3072-43c6-af35-df6e15ca8335",
   "metadata": {},
   "outputs": [
    {
     "data": {
      "text/plain": [
       "algo                                                             cnmf\n",
       "name                                                         my_movie\n",
       "input_movie_path    02e7d053-ce7b-41b1-9240-2236321a08e3/02e7d053-...\n",
       "params              {'main': {'p': 1, 'gnb': 2, 'merge_thr': 0.85,...\n",
       "outputs             {'mean-projection-path': 0c3f9d3b-828e-486b-81...\n",
       "comments                                                         None\n",
       "uuid                             0c3f9d3b-828e-486b-81f2-e3c70bb5aa93\n",
       "Name: 2, dtype: object"
      ]
     },
     "execution_count": 19,
     "metadata": {},
     "output_type": "execute_result"
    }
   ],
   "source": [
    "df.iloc[-1]"
   ]
  },
  {
   "cell_type": "code",
   "execution_count": 20,
   "id": "a8668f23-6abd-4bb8-a5ab-3c367caef688",
   "metadata": {},
   "outputs": [
    {
     "data": {
      "text/plain": [
       "True"
      ]
     },
     "execution_count": 20,
     "metadata": {},
     "output_type": "execute_result"
    }
   ],
   "source": [
    "df.iloc[-1][\"outputs\"][\"success\"]"
   ]
  },
  {
   "cell_type": "markdown",
   "id": "5561bc54-c9b9-4a39-972c-a1dc2e7574ec",
   "metadata": {},
   "source": [
    "# Load outputs\n",
    "For visualization"
   ]
  },
  {
   "cell_type": "code",
   "execution_count": 21,
   "id": "b9f1c3d6-d9a6-4895-bd26-3d4e89f123fa",
   "metadata": {},
   "outputs": [],
   "source": [
    "# get the motion corrected movie as a memmap\n",
    "cnmf_movie = df.iloc[-1].cnmf.get_input_memmap()\n",
    "\n",
    "# we can get the contours of the spatial components\n",
    "coors, coms = df.iloc[-1].cnmf.get_contours(component_indices=\"good\")\n",
    "\n",
    "# get bad components\n",
    "coors_bad, coms_bad = df.iloc[-1].cnmf.get_contours(component_indices=\"bad\")"
   ]
  },
  {
   "cell_type": "markdown",
   "id": "ed51988f-430f-462d-a874-cf8e3bdf306f",
   "metadata": {},
   "source": [
    "# Plot contours for good components on the motion corrected movie"
   ]
  },
  {
   "cell_type": "code",
   "execution_count": 22,
   "id": "b077726f-46fa-4387-8697-8e8d17d61895",
   "metadata": {},
   "outputs": [
    {
     "data": {
      "application/vnd.jupyter.widget-view+json": {
       "model_id": "eb5bf9a61ef94aad8699493359764517",
       "version_major": 2,
       "version_minor": 0
      },
      "text/plain": [
       "RFBOutputContext()"
      ]
     },
     "metadata": {},
     "output_type": "display_data"
    },
    {
     "data": {
      "application/vnd.jupyter.widget-view+json": {
       "model_id": "7d28dc6572af44799ad4549a6f71a03f",
       "version_major": 2,
       "version_minor": 0
      },
      "text/plain": [
       "VBox(children=(JupyterWgpuCanvas(), IntSlider(value=0, max=2999)))"
      ]
     },
     "metadata": {},
     "output_type": "display_data"
    }
   ],
   "source": [
    "# create a simple plot\n",
    "plot = Plot()\n",
    "\n",
    "# plot the first frame, transpose so it lines up with contours\n",
    "image_graphic = plot.image(data=cnmf_movie[0].T, cmap='gray')\n",
    "\n",
    "# plot all the contours\n",
    "for coor in coors:\n",
    "    # line data has to be 3D\n",
    "    zs = np.ones(coor.shape[0]) # this will place it above the image\n",
    "    coors_3d = np.dstack([coor[:, 0], coor[:, 1], zs])[0].astype(np.float32)\n",
    "    \n",
    "    # red color, just [R, G, B, A] -> red, green, blue, alpha (transparency)\n",
    "    colors = np.vstack([[1., 0., 0., 1.]] * coors_3d.shape[0]).astype(np.float32)\n",
    "    plot.line(data=coors_3d, colors=colors)\n",
    "\n",
    "# make a slider like for mcorr\n",
    "slider_cnmf = IntSlider(value=0, min=0, max=cnmf_movie.shape[0] - 1, step=1)\n",
    "    \n",
    "previous_ix = 0\n",
    "\n",
    "# animate func just like mcorr viz\n",
    "def update_frame_cnmf():\n",
    "    if slider_cnmf.value == previous_ix:\n",
    "        return\n",
    "    # update with frame from slider value, again transpose to line up with contours\n",
    "    image_graphic.update_data(data=cnmf_movie[slider_cnmf.value].T)\n",
    "\n",
    "plot.add_animations([update_frame_cnmf])\n",
    "    \n",
    "VBox([plot.show(), slider_cnmf])"
   ]
  },
  {
   "cell_type": "code",
   "execution_count": 23,
   "id": "870bb2d9-5291-4b5d-bac8-dd41e8ca2151",
   "metadata": {},
   "outputs": [],
   "source": [
    "plot.canvas.close()"
   ]
  },
  {
   "cell_type": "markdown",
   "id": "da7ad740-1492-4525-bfb8-e8590096883f",
   "metadata": {},
   "source": [
    "# View the reconstructed movie, residuals, and reconstructed background"
   ]
  },
  {
   "cell_type": "code",
   "execution_count": 24,
   "id": "9b2f0c68-d193-44e2-8f7a-443591d58641",
   "metadata": {},
   "outputs": [
    {
     "data": {
      "application/vnd.jupyter.widget-view+json": {
       "model_id": "0d4c7d981760418a80923896a06cd0fd",
       "version_major": 2,
       "version_minor": 0
      },
      "text/plain": [
       "RFBOutputContext()"
      ]
     },
     "metadata": {},
     "output_type": "display_data"
    },
    {
     "data": {
      "application/vnd.jupyter.widget-view+json": {
       "model_id": "36bb7601758b4bf79a2e2b093259e5a0",
       "version_major": 2,
       "version_minor": 0
      },
      "text/plain": [
       "VBox(children=(JupyterWgpuCanvas(), IntSlider(value=0, max=2999)))"
      ]
     },
     "metadata": {},
     "output_type": "display_data"
    }
   ],
   "source": [
    "# gridplot with 1 row, 2 columns\n",
    "gp_rcm = GridPlot(\n",
    "    shape=(2, 2),\n",
    "    controllers=\"sync\"\n",
    ")\n",
    "\n",
    "# for the mcorr movie\n",
    "left_graphic = Image(\n",
    "    data=cnmf_movie[0].T, # image data for the first frame\n",
    "    cmap='gnuplot2' # my favorite colormap\n",
    ")\n",
    "\n",
    "# get the first frame of reconstructed movie\n",
    "rcm0 = df.iloc[-1].cnmf.get_rcm(component_indices=\"good\", frame_indices=0)[0]\n",
    "\n",
    "# create the graphic\n",
    "right_graphic = Image(\n",
    "    data=rcm0.T, # image data for the first frame\n",
    "    vmin=0,\n",
    "    vmax=100,\n",
    "    cmap='gnuplot2'\n",
    ")\n",
    "\n",
    "# residuals\n",
    "resid0 = df.iloc[-1].cnmf.get_residuals(frame_indices=0)[0]\n",
    "resid_graphic = Image(\n",
    "    data=resid0,\n",
    "    cmap=\"gnuplot2\",\n",
    ")\n",
    "\n",
    "# reconstructed background, b * f\n",
    "recon_bg0 = df.iloc[-1].cnmf.get_rcb(frame_indices=0)[0]\n",
    "recon_bg_graphic = Image(\n",
    "    data=recon_bg0,\n",
    "    cmap=\"gnuplot2\",\n",
    ")\n",
    "\n",
    "\n",
    "# add the grahpics to the subplots\n",
    "gp_rcm.subplots[0, 0].add_graphic(left_graphic)\n",
    "gp_rcm.subplots[0, 1].add_graphic(right_graphic)\n",
    "gp_rcm.subplots[1, 0].add_graphic(resid_graphic)\n",
    "gp_rcm.subplots[1, 1].add_graphic(recon_bg_graphic)\n",
    "\n",
    "# make a GUI slider\n",
    "slider_rcm = IntSlider(value=0, min=0, max=cnmf_movie.shape[0] - 1, step=1)\n",
    "\n",
    "previous_value = 0\n",
    "\n",
    "# a function to update the frame based on the slider value\n",
    "def update_rcm_frame():\n",
    "    global previous_value\n",
    "    if previous_value == slider_rcm.value:\n",
    "        return\n",
    "    \n",
    "    left_graphic.update_data(cnmf_movie[slider_rcm.value].T)\n",
    "        \n",
    "    # get the A x C for just 1 frame\n",
    "    rcm_frame = df.iloc[-1].cnmf.get_rcm(component_indices=\"good\", frame_indices=slider_rcm.value)[0]\n",
    "    right_graphic.update_data(rcm_frame.T)\n",
    "    \n",
    "    # residuals for 1 frame\n",
    "    resid_frame = df.iloc[-1].cnmf.get_residuals(frame_indices=slider_rcm.value)[0]\n",
    "    resid_graphic.update_data(resid_frame)\n",
    "    \n",
    "    # b * f for 1 frame\n",
    "    recon_bg_frame = df.iloc[-1].cnmf.get_rcb(frame_indices=slider_rcm.value)[0]\n",
    "    recon_bg_graphic.update_data(recon_bg_frame)\n",
    "    \n",
    "    previous_value = slider_rcm.value\n",
    "    \n",
    "# add to the animation so that this is run in every render cycle\n",
    "gp_rcm.add_animations([update_rcm_frame])\n",
    "VBox([gp_rcm.show(), slider_rcm])"
   ]
  },
  {
   "cell_type": "code",
   "execution_count": 25,
   "id": "5003e359-bc36-4438-8a34-4170b3044e51",
   "metadata": {},
   "outputs": [],
   "source": [
    "gp_rcm.subplots[0,0].center_scene()"
   ]
  },
  {
   "cell_type": "code",
   "execution_count": null,
   "id": "6f957582-1a74-4d59-b6b5-f1ca628df0fa",
   "metadata": {},
   "outputs": [],
   "source": []
  }
 ],
 "metadata": {
  "kernelspec": {
   "display_name": "Python 3 (ipykernel)",
   "language": "python",
   "name": "python3"
  },
  "language_info": {
   "codemirror_mode": {
    "name": "ipython",
    "version": 3
   },
   "file_extension": ".py",
   "mimetype": "text/x-python",
   "name": "python",
   "nbconvert_exporter": "python",
   "pygments_lexer": "ipython3",
   "version": "3.10.5"
  }
 },
 "nbformat": 4,
 "nbformat_minor": 5
}
