{
 "cells": [
  {
   "cell_type": "code",
   "execution_count": 1,
   "id": "175ae92b-73fa-44d8-ab75-fb3399f68e12",
   "metadata": {
    "pycharm": {
     "name": "#%%\n"
    },
    "tags": []
   },
   "outputs": [],
   "source": [
    "from mesmerize_core import *\n",
    "import tifffile\n",
    "import numpy as np\n",
    "from matplotlib import pyplot as plt\n",
    "from copy import deepcopy\n",
    "import pandas as pd"
   ]
  },
  {
   "cell_type": "markdown",
   "id": "c646c333-1306-4043-b5aa-3cb63fd9966f",
   "metadata": {},
   "source": [
    "**You will need `fastplotlib` installed for the visualizations**"
   ]
  },
  {
   "cell_type": "code",
   "execution_count": 2,
   "id": "3402ada9-b273-4660-b736-83668e036426",
   "metadata": {
    "pycharm": {
     "name": "#%%\n"
    }
   },
   "outputs": [],
   "source": [
    "from fastplotlib import GridPlot, Image, Plot\n",
    "from ipywidgets.widgets import IntSlider, VBox"
   ]
  },
  {
   "cell_type": "code",
   "execution_count": 3,
   "id": "d8e11779-e36d-42d6-a885-8a527742195b",
   "metadata": {},
   "outputs": [],
   "source": [
    "pd.options.display.max_colwidth = 120"
   ]
  },
  {
   "cell_type": "markdown",
   "id": "c16f235f-703b-4004-9cde-46794cafcf4a",
   "metadata": {
    "pycharm": {
     "name": "#%% md\n"
    }
   },
   "source": [
    "# Paths\n",
    "These are the only variables you will need to modify in the demo notebook accoridng to your own `caiman_data` dir path\n",
    "\n",
    "Explanation:\n",
    "\n",
    "`set_parent_raw_data_path()` - This function from `mesmerize_core` sets the top level directory, it would generally be the top level directory for your raw experimental data. This allows you to move your experiment directory structure between computers, as long as you keep everything above the parent path the same.\n",
    "\n",
    "For example,\n",
    "\n",
    "On Linux based systems:\n",
    "\n",
    "`/data/my_name/exp_top_level/....`\n",
    "\n",
    "You could set `/data/my_name` as the parent raw data path, and you can then move `exp_top_level/...` between computers.\n",
    "\n",
    "On windows:\n",
    "\n",
    "`D:/my_name/exp_top_level/...`\n",
    "\n",
    "You could set `D:/my_name` as the parent raw data path, and you can then move `exp_top_level/...` between computers."
   ]
  },
  {
   "cell_type": "code",
   "execution_count": 4,
   "id": "48474f34-6011-4316-80e1-bed47360925d",
   "metadata": {
    "pycharm": {
     "name": "#%%\n"
    }
   },
   "outputs": [],
   "source": [
    "# set the parent directory as the top-level directory for your experiment data\n",
    "# this is always mandatory\n",
    "\n",
    "# for this demo set this dir as the path to the `caiman_data` dir\n",
    "set_parent_raw_data_path(\"/home/kushal/caiman_data/\")\n",
    "\n",
    "# this path can be anywhere, algorithm output files will be organized within here\n",
    "batch_path = \"/home/kushal/caiman_data/mesmerize-core-batch/batch.pickle\"\n",
    "\n",
    "# path to raw movie tiff file for the demo\n",
    "# an input movies must be within `raw data path` or `batch path`\n",
    "movie_path = \"/home/kushal/caiman_data/example_movies/Sue_2x_3000_40_-46.tif\""
   ]
  },
  {
   "cell_type": "code",
   "execution_count": 5,
   "id": "ee720c3f-6eab-4552-bee4-01357d38e3cd",
   "metadata": {
    "pycharm": {
     "name": "#%%\n"
    }
   },
   "outputs": [
    {
     "data": {
      "text/html": [
       "<div>\n",
       "<style scoped>\n",
       "    .dataframe tbody tr th:only-of-type {\n",
       "        vertical-align: middle;\n",
       "    }\n",
       "\n",
       "    .dataframe tbody tr th {\n",
       "        vertical-align: top;\n",
       "    }\n",
       "\n",
       "    .dataframe thead th {\n",
       "        text-align: right;\n",
       "    }\n",
       "</style>\n",
       "<table border=\"1\" class=\"dataframe\">\n",
       "  <thead>\n",
       "    <tr style=\"text-align: right;\">\n",
       "      <th></th>\n",
       "      <th>algo</th>\n",
       "      <th>item_name</th>\n",
       "      <th>input_movie_path</th>\n",
       "      <th>params</th>\n",
       "      <th>outputs</th>\n",
       "      <th>comments</th>\n",
       "      <th>uuid</th>\n",
       "    </tr>\n",
       "  </thead>\n",
       "  <tbody>\n",
       "  </tbody>\n",
       "</table>\n",
       "</div>"
      ],
      "text/plain": [
       "Empty DataFrame\n",
       "Columns: [algo, item_name, input_movie_path, params, outputs, comments, uuid]\n",
       "Index: []"
      ]
     },
     "execution_count": 5,
     "metadata": {},
     "output_type": "execute_result"
    }
   ],
   "source": [
    "# create a new batch\n",
    "df = create_batch(batch_path)\n",
    "df"
   ]
  },
  {
   "cell_type": "markdown",
   "id": "a87d4f17-600e-4820-ae3f-384157a56e5e",
   "metadata": {
    "pycharm": {
     "name": "#%% md\n"
    }
   },
   "source": [
    "# Motion correction"
   ]
  },
  {
   "cell_type": "code",
   "execution_count": 6,
   "id": "28396502-0758-49cb-a135-38430a2aa085",
   "metadata": {
    "pycharm": {
     "name": "#%%\n"
    }
   },
   "outputs": [],
   "source": [
    "# params, exactly the same as what you'd directly use with CaImAn\n",
    "mcorr_params1 =\\\n",
    "{\n",
    "  'main': # this key is necessary for specifying that these are the \"main\" params for the algorithm\n",
    "    {\n",
    "        'max_shifts': [24, 24],\n",
    "        'strides': [48, 48],\n",
    "        'overlaps': [24, 24],\n",
    "        'max_deviation_rigid': 3,\n",
    "        'border_nan': 'copy',\n",
    "        'pw_rigid': True,\n",
    "        'gSig_filt': None\n",
    "    },\n",
    "}"
   ]
  },
  {
   "cell_type": "markdown",
   "id": "14af1f0f-bec8-42c6-b565-8fc5516df8db",
   "metadata": {
    "pycharm": {
     "name": "#%% md\n"
    }
   },
   "source": [
    "# Add a \"batch item\", this is the combination of:\n",
    "* algorithm to run, `algo`\n",
    "* input movie to run the algorithm on, `input_movie_path`\n",
    "* parameters for the specified algorithm, `params`\n",
    "* a name for you to keep track of things, usually the same as the movie filename, `item_name`"
   ]
  },
  {
   "cell_type": "code",
   "execution_count": 7,
   "id": "0d25ff8d-a4b5-4377-afa7-ea60c7bfde72",
   "metadata": {
    "pycharm": {
     "name": "#%%\n"
    }
   },
   "outputs": [
    {
     "data": {
      "text/html": [
       "<div>\n",
       "<style scoped>\n",
       "    .dataframe tbody tr th:only-of-type {\n",
       "        vertical-align: middle;\n",
       "    }\n",
       "\n",
       "    .dataframe tbody tr th {\n",
       "        vertical-align: top;\n",
       "    }\n",
       "\n",
       "    .dataframe thead th {\n",
       "        text-align: right;\n",
       "    }\n",
       "</style>\n",
       "<table border=\"1\" class=\"dataframe\">\n",
       "  <thead>\n",
       "    <tr style=\"text-align: right;\">\n",
       "      <th></th>\n",
       "      <th>algo</th>\n",
       "      <th>item_name</th>\n",
       "      <th>input_movie_path</th>\n",
       "      <th>params</th>\n",
       "      <th>outputs</th>\n",
       "      <th>comments</th>\n",
       "      <th>uuid</th>\n",
       "    </tr>\n",
       "  </thead>\n",
       "  <tbody>\n",
       "    <tr>\n",
       "      <th>0</th>\n",
       "      <td>mcorr</td>\n",
       "      <td>my_movie</td>\n",
       "      <td>example_movies/Sue_2x_3000_40_-46.tif</td>\n",
       "      <td>{'main': {'max_shifts': (24, 24), 'strides': (48, 48), 'overlaps': (24, 24), 'max_deviation_rigid': 3, 'border_nan':...</td>\n",
       "      <td>None</td>\n",
       "      <td>None</td>\n",
       "      <td>1baa9069-72c6-47ba-9cc4-41821d45676e</td>\n",
       "    </tr>\n",
       "  </tbody>\n",
       "</table>\n",
       "</div>"
      ],
      "text/plain": [
       "    algo item_name                       input_movie_path  \\\n",
       "0  mcorr  my_movie  example_movies/Sue_2x_3000_40_-46.tif   \n",
       "\n",
       "                                                                                                                    params  \\\n",
       "0  {'main': {'max_shifts': (24, 24), 'strides': (48, 48), 'overlaps': (24, 24), 'max_deviation_rigid': 3, 'border_nan':...   \n",
       "\n",
       "  outputs comments                                  uuid  \n",
       "0    None     None  1baa9069-72c6-47ba-9cc4-41821d45676e  "
      ]
     },
     "execution_count": 7,
     "metadata": {},
     "output_type": "execute_result"
    }
   ],
   "source": [
    "# add an item to the batch\n",
    "df.caiman.add_item(\n",
    "  algo='mcorr',\n",
    "  item_name='my_movie',\n",
    "  input_movie_path=movie_path,\n",
    "  params=mcorr_params1\n",
    ")\n",
    "\n",
    "df"
   ]
  },
  {
   "cell_type": "markdown",
   "id": "e32d04e0-1068-4583-a5d8-952db01e989b",
   "metadata": {
    "pycharm": {
     "name": "#%% md\n"
    }
   },
   "source": [
    "## We can now see that there is one item in the batch dataframe, we can add another item with the same input movie but with different parameters"
   ]
  },
  {
   "cell_type": "code",
   "execution_count": 8,
   "id": "5f5d0785-da70-41ed-b31c-418a407ef6ad",
   "metadata": {},
   "outputs": [
    {
     "data": {
      "text/html": [
       "<div>\n",
       "<style scoped>\n",
       "    .dataframe tbody tr th:only-of-type {\n",
       "        vertical-align: middle;\n",
       "    }\n",
       "\n",
       "    .dataframe tbody tr th {\n",
       "        vertical-align: top;\n",
       "    }\n",
       "\n",
       "    .dataframe thead th {\n",
       "        text-align: right;\n",
       "    }\n",
       "</style>\n",
       "<table border=\"1\" class=\"dataframe\">\n",
       "  <thead>\n",
       "    <tr style=\"text-align: right;\">\n",
       "      <th></th>\n",
       "      <th>algo</th>\n",
       "      <th>item_name</th>\n",
       "      <th>input_movie_path</th>\n",
       "      <th>params</th>\n",
       "      <th>outputs</th>\n",
       "      <th>comments</th>\n",
       "      <th>uuid</th>\n",
       "    </tr>\n",
       "  </thead>\n",
       "  <tbody>\n",
       "    <tr>\n",
       "      <th>0</th>\n",
       "      <td>mcorr</td>\n",
       "      <td>my_movie</td>\n",
       "      <td>example_movies/Sue_2x_3000_40_-46.tif</td>\n",
       "      <td>{'main': {'max_shifts': (24, 24), 'strides': (48, 48), 'overlaps': (24, 24), 'max_deviation_rigid': 3, 'border_nan':...</td>\n",
       "      <td>None</td>\n",
       "      <td>None</td>\n",
       "      <td>1baa9069-72c6-47ba-9cc4-41821d45676e</td>\n",
       "    </tr>\n",
       "    <tr>\n",
       "      <th>1</th>\n",
       "      <td>mcorr</td>\n",
       "      <td>my_movie</td>\n",
       "      <td>example_movies/Sue_2x_3000_40_-46.tif</td>\n",
       "      <td>{'main': {'max_shifts': (24, 24), 'strides': (24, 24), 'overlaps': (12, 12), 'max_deviation_rigid': 3, 'border_nan':...</td>\n",
       "      <td>None</td>\n",
       "      <td>None</td>\n",
       "      <td>829118c7-bbea-4b95-a3de-8f47f2c3be30</td>\n",
       "    </tr>\n",
       "  </tbody>\n",
       "</table>\n",
       "</div>"
      ],
      "text/plain": [
       "    algo item_name                       input_movie_path  \\\n",
       "0  mcorr  my_movie  example_movies/Sue_2x_3000_40_-46.tif   \n",
       "1  mcorr  my_movie  example_movies/Sue_2x_3000_40_-46.tif   \n",
       "\n",
       "                                                                                                                    params  \\\n",
       "0  {'main': {'max_shifts': (24, 24), 'strides': (48, 48), 'overlaps': (24, 24), 'max_deviation_rigid': 3, 'border_nan':...   \n",
       "1  {'main': {'max_shifts': (24, 24), 'strides': (24, 24), 'overlaps': (12, 12), 'max_deviation_rigid': 3, 'border_nan':...   \n",
       "\n",
       "  outputs comments                                  uuid  \n",
       "0    None     None  1baa9069-72c6-47ba-9cc4-41821d45676e  \n",
       "1    None     None  829118c7-bbea-4b95-a3de-8f47f2c3be30  "
      ]
     },
     "execution_count": 8,
     "metadata": {},
     "output_type": "execute_result"
    }
   ],
   "source": [
    "# We create another set of params, useful for gridsearches for example\n",
    "mcorr_params2 =\\\n",
    "{\n",
    "  'main':\n",
    "    {\n",
    "        'max_shifts': [24, 24],\n",
    "        'strides': [24, 24],\n",
    "        'overlaps': [12, 12],\n",
    "        'max_deviation_rigid': 3,\n",
    "        'border_nan': 'copy',\n",
    "        'pw_rigid': True,\n",
    "        'gSig_filt': None\n",
    "    },\n",
    "}\n",
    "\n",
    "# add other param variant to the batch\n",
    "df.caiman.add_item(\n",
    "  algo='mcorr',\n",
    "  item_name='my_movie',\n",
    "  input_movie_path=movie_path,\n",
    "  params=mcorr_params2\n",
    ")\n",
    "\n",
    "df"
   ]
  },
  {
   "cell_type": "markdown",
   "id": "1596fa77-e09e-4df5-aab9-c06dd5b93c24",
   "metadata": {},
   "source": [
    "## We can see that there are two batch items for the same input movie.\n",
    "\n",
    "### We can also use a `for` loop to add multiple different parameter variants more efficiently. When adding batch items with the same `input_movie_path`, give them the same `item_name`."
   ]
  },
  {
   "cell_type": "code",
   "execution_count": 9,
   "id": "8b66724d-8164-4c9f-996d-fe3d2e592900",
   "metadata": {},
   "outputs": [],
   "source": [
    "# copy the mcorr_params2 dict to make some changes\n",
    "new_params = deepcopy(mcorr_params2)\n",
    "\n",
    "# some variants of max_shifts\n",
    "for shifts in [6, 12, 32]: \n",
    "    # deep copy is the safest way to copy dicts\n",
    "    new_params = deepcopy(new_params)\n",
    "    \n",
    "    # assign the \"max_shifts\"\n",
    "    new_params[\"main\"][\"max_shifts\"] = (shifts, shifts)\n",
    "    \n",
    "    df.caiman.add_item(\n",
    "      algo='mcorr',\n",
    "      item_name='my_movie',\n",
    "      input_movie_path=movie_path,\n",
    "      params=new_params\n",
    "    )"
   ]
  },
  {
   "cell_type": "code",
   "execution_count": 10,
   "id": "e990f5d5-5d20-48c8-a39a-ef6f7e4d9862",
   "metadata": {},
   "outputs": [
    {
     "data": {
      "text/html": [
       "<div>\n",
       "<style scoped>\n",
       "    .dataframe tbody tr th:only-of-type {\n",
       "        vertical-align: middle;\n",
       "    }\n",
       "\n",
       "    .dataframe tbody tr th {\n",
       "        vertical-align: top;\n",
       "    }\n",
       "\n",
       "    .dataframe thead th {\n",
       "        text-align: right;\n",
       "    }\n",
       "</style>\n",
       "<table border=\"1\" class=\"dataframe\">\n",
       "  <thead>\n",
       "    <tr style=\"text-align: right;\">\n",
       "      <th></th>\n",
       "      <th>algo</th>\n",
       "      <th>item_name</th>\n",
       "      <th>input_movie_path</th>\n",
       "      <th>params</th>\n",
       "      <th>outputs</th>\n",
       "      <th>comments</th>\n",
       "      <th>uuid</th>\n",
       "    </tr>\n",
       "  </thead>\n",
       "  <tbody>\n",
       "    <tr>\n",
       "      <th>0</th>\n",
       "      <td>mcorr</td>\n",
       "      <td>my_movie</td>\n",
       "      <td>example_movies/Sue_2x_3000_40_-46.tif</td>\n",
       "      <td>{'main': {'max_shifts': (24, 24), 'strides': (48, 48), 'overlaps': (24, 24), 'max_deviation_rigid': 3, 'border_nan':...</td>\n",
       "      <td>None</td>\n",
       "      <td>None</td>\n",
       "      <td>1baa9069-72c6-47ba-9cc4-41821d45676e</td>\n",
       "    </tr>\n",
       "    <tr>\n",
       "      <th>1</th>\n",
       "      <td>mcorr</td>\n",
       "      <td>my_movie</td>\n",
       "      <td>example_movies/Sue_2x_3000_40_-46.tif</td>\n",
       "      <td>{'main': {'max_shifts': (24, 24), 'strides': (24, 24), 'overlaps': (12, 12), 'max_deviation_rigid': 3, 'border_nan':...</td>\n",
       "      <td>None</td>\n",
       "      <td>None</td>\n",
       "      <td>829118c7-bbea-4b95-a3de-8f47f2c3be30</td>\n",
       "    </tr>\n",
       "    <tr>\n",
       "      <th>2</th>\n",
       "      <td>mcorr</td>\n",
       "      <td>my_movie</td>\n",
       "      <td>example_movies/Sue_2x_3000_40_-46.tif</td>\n",
       "      <td>{'main': {'max_shifts': (6, 6), 'strides': (24, 24), 'overlaps': (12, 12), 'max_deviation_rigid': 3, 'border_nan': '...</td>\n",
       "      <td>None</td>\n",
       "      <td>None</td>\n",
       "      <td>9c0dcdfe-f853-4565-8a2a-03fb90c8b805</td>\n",
       "    </tr>\n",
       "    <tr>\n",
       "      <th>3</th>\n",
       "      <td>mcorr</td>\n",
       "      <td>my_movie</td>\n",
       "      <td>example_movies/Sue_2x_3000_40_-46.tif</td>\n",
       "      <td>{'main': {'max_shifts': (12, 12), 'strides': (24, 24), 'overlaps': (12, 12), 'max_deviation_rigid': 3, 'border_nan':...</td>\n",
       "      <td>None</td>\n",
       "      <td>None</td>\n",
       "      <td>180a2d71-7ffc-4ed7-81ca-95ea8e90b99a</td>\n",
       "    </tr>\n",
       "    <tr>\n",
       "      <th>4</th>\n",
       "      <td>mcorr</td>\n",
       "      <td>my_movie</td>\n",
       "      <td>example_movies/Sue_2x_3000_40_-46.tif</td>\n",
       "      <td>{'main': {'max_shifts': (32, 32), 'strides': (24, 24), 'overlaps': (12, 12), 'max_deviation_rigid': 3, 'border_nan':...</td>\n",
       "      <td>None</td>\n",
       "      <td>None</td>\n",
       "      <td>1a3f790f-2772-42f4-a826-32b637f96e0f</td>\n",
       "    </tr>\n",
       "  </tbody>\n",
       "</table>\n",
       "</div>"
      ],
      "text/plain": [
       "    algo item_name                       input_movie_path  \\\n",
       "0  mcorr  my_movie  example_movies/Sue_2x_3000_40_-46.tif   \n",
       "1  mcorr  my_movie  example_movies/Sue_2x_3000_40_-46.tif   \n",
       "2  mcorr  my_movie  example_movies/Sue_2x_3000_40_-46.tif   \n",
       "3  mcorr  my_movie  example_movies/Sue_2x_3000_40_-46.tif   \n",
       "4  mcorr  my_movie  example_movies/Sue_2x_3000_40_-46.tif   \n",
       "\n",
       "                                                                                                                    params  \\\n",
       "0  {'main': {'max_shifts': (24, 24), 'strides': (48, 48), 'overlaps': (24, 24), 'max_deviation_rigid': 3, 'border_nan':...   \n",
       "1  {'main': {'max_shifts': (24, 24), 'strides': (24, 24), 'overlaps': (12, 12), 'max_deviation_rigid': 3, 'border_nan':...   \n",
       "2  {'main': {'max_shifts': (6, 6), 'strides': (24, 24), 'overlaps': (12, 12), 'max_deviation_rigid': 3, 'border_nan': '...   \n",
       "3  {'main': {'max_shifts': (12, 12), 'strides': (24, 24), 'overlaps': (12, 12), 'max_deviation_rigid': 3, 'border_nan':...   \n",
       "4  {'main': {'max_shifts': (32, 32), 'strides': (24, 24), 'overlaps': (12, 12), 'max_deviation_rigid': 3, 'border_nan':...   \n",
       "\n",
       "  outputs comments                                  uuid  \n",
       "0    None     None  1baa9069-72c6-47ba-9cc4-41821d45676e  \n",
       "1    None     None  829118c7-bbea-4b95-a3de-8f47f2c3be30  \n",
       "2    None     None  9c0dcdfe-f853-4565-8a2a-03fb90c8b805  \n",
       "3    None     None  180a2d71-7ffc-4ed7-81ca-95ea8e90b99a  \n",
       "4    None     None  1a3f790f-2772-42f4-a826-32b637f96e0f  "
      ]
     },
     "execution_count": 10,
     "metadata": {},
     "output_type": "execute_result"
    }
   ],
   "source": [
    "df"
   ]
  },
  {
   "cell_type": "markdown",
   "id": "d8912227-b00e-461f-a61d-9d572a42313f",
   "metadata": {},
   "source": [
    "### Now we can see that there are many parameter variants. We can use the `caiman.get_params_diffs()` extension to see the unique parameters for each item"
   ]
  },
  {
   "cell_type": "code",
   "execution_count": 11,
   "id": "6398946b-ced7-4ef2-9614-f062b7a65ad5",
   "metadata": {},
   "outputs": [
    {
     "name": "stderr",
     "output_type": "stream",
     "text": [
      "/tmp/ipykernel_671788/3265976191.py:1: FutureWarning: You are trying to use the following experimental feature, this may change in the future without warning:\n",
      "CaimanDataFrameExtensions.get_params_diffs\n",
      "\n",
      "\n",
      "  diffs = df.caiman.get_params_diffs(algo=\"mcorr\", item_name=\"my_movie\")\n"
     ]
    },
    {
     "data": {
      "text/plain": [
       "0    {'max_shifts': (24, 24), 'strides': (48, 48), 'overlaps': (24, 24)}\n",
       "1    {'max_shifts': (24, 24), 'strides': (24, 24), 'overlaps': (12, 12)}\n",
       "2      {'max_shifts': (6, 6), 'strides': (24, 24), 'overlaps': (12, 12)}\n",
       "3    {'max_shifts': (12, 12), 'strides': (24, 24), 'overlaps': (12, 12)}\n",
       "4    {'max_shifts': (32, 32), 'strides': (24, 24), 'overlaps': (12, 12)}\n",
       "Name: params, dtype: object"
      ]
     },
     "execution_count": 11,
     "metadata": {},
     "output_type": "execute_result"
    }
   ],
   "source": [
    "diffs = df.caiman.get_params_diffs(algo=\"mcorr\", item_name=\"my_movie\")\n",
    "diffs"
   ]
  },
  {
   "cell_type": "markdown",
   "id": "061451cc-c57d-43d1-a87d-61dea700d256",
   "metadata": {
    "pycharm": {
     "name": "#%% md\n"
    }
   },
   "source": [
    "# Run batch item(s)\n",
    "#### You can run a single batch item by calling `caiman.run()` on a `Series` (row) of the DataFrame. One way to get the row is integer indexing using `df.iloc[index]`"
   ]
  },
  {
   "cell_type": "code",
   "execution_count": 12,
   "id": "ea0299c0-4946-4deb-877f-5ce749e161ae",
   "metadata": {
    "pycharm": {
     "name": "#%%\n"
    }
   },
   "outputs": [
    {
     "name": "stdout",
     "output_type": "stream",
     "text": [
      "starting mc\n"
     ]
    },
    {
     "name": "stderr",
     "output_type": "stream",
     "text": [
      "WARNING:root:Movie average is negative. Removing 1st percentile.\n",
      "WARNING:root:Movie average is negative. Removing 1st percentile.\n",
      "WARNING:root:Movie average is negative. Removing 1st percentile.\n",
      "WARNING:root:Movie average is negative. Removing 1st percentile.\n",
      "WARNING:root:Movie average is negative. Removing 1st percentile.\n",
      "WARNING:root:Movie average is negative. Removing 1st percentile.\n",
      "100%|██████████| 1/1 [00:00<00:00,  3.99it/s]\n",
      "100%|██████████| 1/1 [00:00<00:00,  3.84it/s]\n",
      "100%|██████████| 1/1 [00:00<00:00,  3.43it/s]\n"
     ]
    },
    {
     "name": "stdout",
     "output_type": "stream",
     "text": [
      "mc finished successfully!\n",
      "computing projections\n",
      "Computing correlation image\n",
      "finished computing correlation image\n"
     ]
    }
   ],
   "source": [
    "# run the first \"batch item\"\n",
    "# this will run in a subprocess by default\n",
    "process = df.iloc[0].caiman.run()\n",
    "process.wait()\n",
    "\n",
    "# reload the batch dataframe if using the `local` backend\n",
    "# the `local` backend is used by default on Windows\n",
    "# this is unnecessary on Linux & Mac\n",
    "if process.__class__.__name__ == \"DummyProcess\":\n",
    "    df = load_batch(df.paths.get_batch_path())"
   ]
  },
  {
   "cell_type": "markdown",
   "id": "1e5bf8fd-bda7-45b5-9cd7-00ea6c0bac38",
   "metadata": {},
   "source": [
    "### You can also use a `for` loop to run multiple batch items."
   ]
  },
  {
   "cell_type": "code",
   "execution_count": 13,
   "id": "406aa80b-ea16-4e0b-8447-1c091cabde68",
   "metadata": {
    "scrolled": true,
    "tags": []
   },
   "outputs": [
    {
     "name": "stdout",
     "output_type": "stream",
     "text": [
      "starting mc\n"
     ]
    },
    {
     "name": "stderr",
     "output_type": "stream",
     "text": [
      "WARNING:root:Movie average is negative. Removing 1st percentile.\n",
      "WARNING:root:Movie average is negative. Removing 1st percentile.\n",
      "WARNING:root:Movie average is negative. Removing 1st percentile.\n",
      "WARNING:root:Movie average is negative. Removing 1st percentile.\n",
      "WARNING:root:Movie average is negative. Removing 1st percentile.\n",
      "WARNING:root:Movie average is negative. Removing 1st percentile.\n",
      "100%|██████████| 1/1 [00:00<00:00, 13.86it/s]\n",
      "100%|██████████| 1/1 [00:00<00:00, 12.34it/s]\n",
      "100%|██████████| 1/1 [00:00<00:00,  9.21it/s]\n"
     ]
    },
    {
     "name": "stdout",
     "output_type": "stream",
     "text": [
      "mc finished successfully!\n",
      "computing projections\n",
      "Computing correlation image\n",
      "finished computing correlation image\n",
      "starting mc\n"
     ]
    },
    {
     "name": "stderr",
     "output_type": "stream",
     "text": [
      "WARNING:root:Movie average is negative. Removing 1st percentile.\n",
      "WARNING:root:Movie average is negative. Removing 1st percentile.\n",
      "WARNING:root:Movie average is negative. Removing 1st percentile.\n",
      "WARNING:root:Movie average is negative. Removing 1st percentile.\n",
      "WARNING:root:Movie average is negative. Removing 1st percentile.\n",
      "WARNING:root:Movie average is negative. Removing 1st percentile.\n",
      "100%|██████████| 1/1 [00:00<00:00, 10.16it/s]\n",
      "100%|██████████| 1/1 [00:00<00:00,  9.76it/s]\n",
      "100%|██████████| 1/1 [00:00<00:00,  7.70it/s]\n"
     ]
    },
    {
     "name": "stdout",
     "output_type": "stream",
     "text": [
      "mc finished successfully!\n",
      "computing projections\n",
      "Computing correlation image\n",
      "finished computing correlation image\n",
      "starting mc\n"
     ]
    },
    {
     "name": "stderr",
     "output_type": "stream",
     "text": [
      "WARNING:root:Movie average is negative. Removing 1st percentile.\n",
      "WARNING:root:Movie average is negative. Removing 1st percentile.\n",
      "WARNING:root:Movie average is negative. Removing 1st percentile.\n",
      "WARNING:root:Movie average is negative. Removing 1st percentile.\n",
      "WARNING:root:Movie average is negative. Removing 1st percentile.\n",
      "WARNING:root:Movie average is negative. Removing 1st percentile.\n",
      "100%|██████████| 1/1 [00:00<00:00,  6.80it/s]\n",
      "100%|██████████| 1/1 [00:00<00:00,  6.01it/s]\n",
      "100%|██████████| 1/1 [00:00<00:00,  5.95it/s]\n"
     ]
    },
    {
     "name": "stdout",
     "output_type": "stream",
     "text": [
      "mc finished successfully!\n",
      "computing projections\n",
      "Computing correlation image\n",
      "finished computing correlation image\n",
      "starting mc\n"
     ]
    },
    {
     "name": "stderr",
     "output_type": "stream",
     "text": [
      "WARNING:root:Movie average is negative. Removing 1st percentile.\n",
      "WARNING:root:Movie average is negative. Removing 1st percentile.\n",
      "WARNING:root:Movie average is negative. Removing 1st percentile.\n",
      "WARNING:root:Movie average is negative. Removing 1st percentile.\n",
      "WARNING:root:Movie average is negative. Removing 1st percentile.\n",
      "WARNING:root:Movie average is negative. Removing 1st percentile.\n",
      "100%|██████████| 1/1 [00:00<00:00, 14.18it/s]\n",
      "100%|██████████| 1/1 [00:00<00:00, 12.13it/s]\n",
      "100%|██████████| 1/1 [00:00<00:00,  9.35it/s]\n"
     ]
    },
    {
     "name": "stdout",
     "output_type": "stream",
     "text": [
      "mc finished successfully!\n",
      "computing projections\n",
      "Computing correlation image\n",
      "finished computing correlation image\n"
     ]
    }
   ],
   "source": [
    "for i, row in df.iterrows():\n",
    "    if not i > 0: # skip the first item since we've run it already\n",
    "        continue\n",
    "    process = row.caiman.run()\n",
    "    process.wait() # this line is very important, otherwise you will simultaneously start all batch items!\n",
    "    \n",
    "    # reload the batch dataframe if using the `local` backend\n",
    "    # the `local` backend is used by default on Windows\n",
    "    # this is unnecessary on Linux & Mac\n",
    "    if process.__class__.__name__ == \"DummyProcess\":\n",
    "        df = load_batch(df.paths.get_batch_path())"
   ]
  },
  {
   "cell_type": "markdown",
   "id": "ffc9a52c-eae1-49f1-a8ba-a79b92e897e4",
   "metadata": {
    "pycharm": {
     "name": "#%% md\n"
    }
   },
   "source": [
    "## Reload the DataFrame to see the outputs information for the mcorr batch item\n",
    "### It is necessary to ALWAYS use `load_batch()` after running a single batch item or a loop of batch items. You must not add new batch items until you re-load the batch after running any number of items!"
   ]
  },
  {
   "cell_type": "code",
   "execution_count": 14,
   "id": "fc41f7a8-e80b-4262-890a-58cfb621f017",
   "metadata": {
    "pycharm": {
     "name": "#%%\n"
    }
   },
   "outputs": [
    {
     "data": {
      "text/html": [
       "<div>\n",
       "<style scoped>\n",
       "    .dataframe tbody tr th:only-of-type {\n",
       "        vertical-align: middle;\n",
       "    }\n",
       "\n",
       "    .dataframe tbody tr th {\n",
       "        vertical-align: top;\n",
       "    }\n",
       "\n",
       "    .dataframe thead th {\n",
       "        text-align: right;\n",
       "    }\n",
       "</style>\n",
       "<table border=\"1\" class=\"dataframe\">\n",
       "  <thead>\n",
       "    <tr style=\"text-align: right;\">\n",
       "      <th></th>\n",
       "      <th>algo</th>\n",
       "      <th>item_name</th>\n",
       "      <th>input_movie_path</th>\n",
       "      <th>params</th>\n",
       "      <th>outputs</th>\n",
       "      <th>comments</th>\n",
       "      <th>uuid</th>\n",
       "    </tr>\n",
       "  </thead>\n",
       "  <tbody>\n",
       "    <tr>\n",
       "      <th>0</th>\n",
       "      <td>mcorr</td>\n",
       "      <td>my_movie</td>\n",
       "      <td>example_movies/Sue_2x_3000_40_-46.tif</td>\n",
       "      <td>{'main': {'max_shifts': (24, 24), 'strides': (48, 48), 'overlaps': (24, 24), 'max_deviation_rigid': 3, 'border_nan':...</td>\n",
       "      <td>{'mean-projection-path': 1baa9069-72c6-47ba-9cc4-41821d45676e/1baa9069-72c6-47ba-9cc4-41821d45676e_mean_projection.n...</td>\n",
       "      <td>None</td>\n",
       "      <td>1baa9069-72c6-47ba-9cc4-41821d45676e</td>\n",
       "    </tr>\n",
       "    <tr>\n",
       "      <th>1</th>\n",
       "      <td>mcorr</td>\n",
       "      <td>my_movie</td>\n",
       "      <td>example_movies/Sue_2x_3000_40_-46.tif</td>\n",
       "      <td>{'main': {'max_shifts': (24, 24), 'strides': (24, 24), 'overlaps': (12, 12), 'max_deviation_rigid': 3, 'border_nan':...</td>\n",
       "      <td>{'mean-projection-path': 829118c7-bbea-4b95-a3de-8f47f2c3be30/829118c7-bbea-4b95-a3de-8f47f2c3be30_mean_projection.n...</td>\n",
       "      <td>None</td>\n",
       "      <td>829118c7-bbea-4b95-a3de-8f47f2c3be30</td>\n",
       "    </tr>\n",
       "    <tr>\n",
       "      <th>2</th>\n",
       "      <td>mcorr</td>\n",
       "      <td>my_movie</td>\n",
       "      <td>example_movies/Sue_2x_3000_40_-46.tif</td>\n",
       "      <td>{'main': {'max_shifts': (6, 6), 'strides': (24, 24), 'overlaps': (12, 12), 'max_deviation_rigid': 3, 'border_nan': '...</td>\n",
       "      <td>{'mean-projection-path': 9c0dcdfe-f853-4565-8a2a-03fb90c8b805/9c0dcdfe-f853-4565-8a2a-03fb90c8b805_mean_projection.n...</td>\n",
       "      <td>None</td>\n",
       "      <td>9c0dcdfe-f853-4565-8a2a-03fb90c8b805</td>\n",
       "    </tr>\n",
       "    <tr>\n",
       "      <th>3</th>\n",
       "      <td>mcorr</td>\n",
       "      <td>my_movie</td>\n",
       "      <td>example_movies/Sue_2x_3000_40_-46.tif</td>\n",
       "      <td>{'main': {'max_shifts': (12, 12), 'strides': (24, 24), 'overlaps': (12, 12), 'max_deviation_rigid': 3, 'border_nan':...</td>\n",
       "      <td>{'mean-projection-path': 180a2d71-7ffc-4ed7-81ca-95ea8e90b99a/180a2d71-7ffc-4ed7-81ca-95ea8e90b99a_mean_projection.n...</td>\n",
       "      <td>None</td>\n",
       "      <td>180a2d71-7ffc-4ed7-81ca-95ea8e90b99a</td>\n",
       "    </tr>\n",
       "    <tr>\n",
       "      <th>4</th>\n",
       "      <td>mcorr</td>\n",
       "      <td>my_movie</td>\n",
       "      <td>example_movies/Sue_2x_3000_40_-46.tif</td>\n",
       "      <td>{'main': {'max_shifts': (32, 32), 'strides': (24, 24), 'overlaps': (12, 12), 'max_deviation_rigid': 3, 'border_nan':...</td>\n",
       "      <td>{'mean-projection-path': 1a3f790f-2772-42f4-a826-32b637f96e0f/1a3f790f-2772-42f4-a826-32b637f96e0f_mean_projection.n...</td>\n",
       "      <td>None</td>\n",
       "      <td>1a3f790f-2772-42f4-a826-32b637f96e0f</td>\n",
       "    </tr>\n",
       "  </tbody>\n",
       "</table>\n",
       "</div>"
      ],
      "text/plain": [
       "    algo item_name                       input_movie_path  \\\n",
       "0  mcorr  my_movie  example_movies/Sue_2x_3000_40_-46.tif   \n",
       "1  mcorr  my_movie  example_movies/Sue_2x_3000_40_-46.tif   \n",
       "2  mcorr  my_movie  example_movies/Sue_2x_3000_40_-46.tif   \n",
       "3  mcorr  my_movie  example_movies/Sue_2x_3000_40_-46.tif   \n",
       "4  mcorr  my_movie  example_movies/Sue_2x_3000_40_-46.tif   \n",
       "\n",
       "                                                                                                                    params  \\\n",
       "0  {'main': {'max_shifts': (24, 24), 'strides': (48, 48), 'overlaps': (24, 24), 'max_deviation_rigid': 3, 'border_nan':...   \n",
       "1  {'main': {'max_shifts': (24, 24), 'strides': (24, 24), 'overlaps': (12, 12), 'max_deviation_rigid': 3, 'border_nan':...   \n",
       "2  {'main': {'max_shifts': (6, 6), 'strides': (24, 24), 'overlaps': (12, 12), 'max_deviation_rigid': 3, 'border_nan': '...   \n",
       "3  {'main': {'max_shifts': (12, 12), 'strides': (24, 24), 'overlaps': (12, 12), 'max_deviation_rigid': 3, 'border_nan':...   \n",
       "4  {'main': {'max_shifts': (32, 32), 'strides': (24, 24), 'overlaps': (12, 12), 'max_deviation_rigid': 3, 'border_nan':...   \n",
       "\n",
       "                                                                                                                   outputs  \\\n",
       "0  {'mean-projection-path': 1baa9069-72c6-47ba-9cc4-41821d45676e/1baa9069-72c6-47ba-9cc4-41821d45676e_mean_projection.n...   \n",
       "1  {'mean-projection-path': 829118c7-bbea-4b95-a3de-8f47f2c3be30/829118c7-bbea-4b95-a3de-8f47f2c3be30_mean_projection.n...   \n",
       "2  {'mean-projection-path': 9c0dcdfe-f853-4565-8a2a-03fb90c8b805/9c0dcdfe-f853-4565-8a2a-03fb90c8b805_mean_projection.n...   \n",
       "3  {'mean-projection-path': 180a2d71-7ffc-4ed7-81ca-95ea8e90b99a/180a2d71-7ffc-4ed7-81ca-95ea8e90b99a_mean_projection.n...   \n",
       "4  {'mean-projection-path': 1a3f790f-2772-42f4-a826-32b637f96e0f/1a3f790f-2772-42f4-a826-32b637f96e0f_mean_projection.n...   \n",
       "\n",
       "  comments                                  uuid  \n",
       "0     None  1baa9069-72c6-47ba-9cc4-41821d45676e  \n",
       "1     None  829118c7-bbea-4b95-a3de-8f47f2c3be30  \n",
       "2     None  9c0dcdfe-f853-4565-8a2a-03fb90c8b805  \n",
       "3     None  180a2d71-7ffc-4ed7-81ca-95ea8e90b99a  \n",
       "4     None  1a3f790f-2772-42f4-a826-32b637f96e0f  "
      ]
     },
     "execution_count": 14,
     "metadata": {},
     "output_type": "execute_result"
    }
   ],
   "source": [
    "df = load_batch(batch_path)\n",
    "# we can see that the output for the first item is not empty\n",
    "df"
   ]
  },
  {
   "cell_type": "markdown",
   "id": "5c695833-7fc7-4fa0-a2fc-5d7885555c96",
   "metadata": {
    "pycharm": {
     "name": "#%% md\n"
    }
   },
   "source": [
    "# Check if the algorithm ran successfully "
   ]
  },
  {
   "cell_type": "code",
   "execution_count": 15,
   "id": "43a416ef-7e5a-4006-b042-43c0ae98bc69",
   "metadata": {
    "pycharm": {
     "name": "#%%\n"
    }
   },
   "outputs": [
    {
     "data": {
      "text/plain": [
       "True"
      ]
     },
     "execution_count": 15,
     "metadata": {},
     "output_type": "execute_result"
    }
   ],
   "source": [
    "# True if the algo ran succesfully\n",
    "df.iloc[0][\"outputs\"][\"success\"]"
   ]
  },
  {
   "cell_type": "markdown",
   "id": "030e16f8-791c-4fc5-b7cd-cadc029cd11f",
   "metadata": {},
   "source": [
    "Path to the output memmap file, you usually don't need to use this manually, just FYI"
   ]
  },
  {
   "cell_type": "code",
   "execution_count": 16,
   "id": "e905fd0a-ac51-46ec-a3ab-ad51cf3aafac",
   "metadata": {
    "pycharm": {
     "name": "#%%\n"
    }
   },
   "outputs": [
    {
     "data": {
      "text/plain": [
       "PosixPath('/home/kushal/caiman_data/mesmerize-core-batch/1baa9069-72c6-47ba-9cc4-41821d45676e/1baa9069-72c6-47ba-9cc4-41821d45676e-Sue_2x_3000_40_-46_els__d1_170_d2_170_d3_1_order_F_frames_3000_.mmap')"
      ]
     },
     "execution_count": 16,
     "metadata": {},
     "output_type": "execute_result"
    }
   ],
   "source": [
    "# use extensions to get the full path the outputs and other useful things\n",
    "# you should always use the extensions\n",
    "# never handle the \"outputs\" dict manually!\n",
    "df.iloc[0].mcorr.get_output_path()"
   ]
  },
  {
   "cell_type": "code",
   "execution_count": 17,
   "id": "10fa4d37-867e-4357-8f2d-a479cf838e4b",
   "metadata": {
    "pycharm": {
     "name": "#%%\n"
    }
   },
   "outputs": [
    {
     "data": {
      "text/plain": [
       "PosixPath('/home/kushal/caiman_data/example_movies/Sue_2x_3000_40_-46.tif')"
      ]
     },
     "execution_count": 17,
     "metadata": {},
     "output_type": "execute_result"
    }
   ],
   "source": [
    "# similarly resolve the full input movie path\n",
    "df.iloc[0].caiman.get_input_movie_path()"
   ]
  },
  {
   "cell_type": "markdown",
   "id": "069ddc1e-50fc-4e67-bd68-ef1faf439e6e",
   "metadata": {},
   "source": [
    "# Visualization using `fastplotlib`\n",
    "You will need `fastplotlib` installed for this, see https://github.com/kushalkolar/fastplotlib"
   ]
  },
  {
   "cell_type": "markdown",
   "id": "005f08dc-d9b6-434d-85ef-ea3045677d14",
   "metadata": {
    "pycharm": {
     "name": "#%% md\n"
    }
   },
   "source": [
    "Get the input movie and mcorr so we can visualize them"
   ]
  },
  {
   "cell_type": "code",
   "execution_count": 18,
   "id": "b7233088-43d2-4705-ade8-30c48446fdef",
   "metadata": {
    "pycharm": {
     "name": "#%%\n"
    }
   },
   "outputs": [],
   "source": [
    "# you can change the index to look at the mcorr results of different batch items\n",
    "index = 0\n",
    "\n",
    "# Load the input and output movies so we can view them\n",
    "input_movie = tifffile.imread(df.iloc[index].caiman.get_input_movie_path())\n",
    "\n",
    "# extension for loading the mcorr movie\n",
    "mcorr_movie = df.iloc[index].mcorr.get_output()"
   ]
  },
  {
   "cell_type": "markdown",
   "id": "728bd6b0-c277-4803-a325-a4640be4f4ff",
   "metadata": {
    "pycharm": {
     "name": "#%% md\n"
    }
   },
   "source": [
    "# Raw & MCorr movie side-by-side\n",
    "This cell just plots the raw & mcorr movie side by side and uses a slider for updating the frame index for random-access scrolling"
   ]
  },
  {
   "cell_type": "code",
   "execution_count": 19,
   "id": "b9481967-b29c-44fe-9483-a5dfe4b51939",
   "metadata": {
    "pycharm": {
     "name": "#%%\n"
    }
   },
   "outputs": [
    {
     "data": {
      "application/vnd.jupyter.widget-view+json": {
       "model_id": "63da43c835c3423ea4cd1f7c56f26433",
       "version_major": 2,
       "version_minor": 0
      },
      "text/plain": [
       "RFBOutputContext()"
      ]
     },
     "metadata": {},
     "output_type": "display_data"
    },
    {
     "data": {
      "application/vnd.jupyter.widget-view+json": {
       "model_id": "07a5dc096b6c4e51a4a897c92b159da4",
       "version_major": 2,
       "version_minor": 0
      },
      "text/plain": [
       "VBox(children=(JupyterWgpuCanvas(), IntSlider(value=0, max=2999)))"
      ]
     },
     "metadata": {},
     "output_type": "display_data"
    }
   ],
   "source": [
    "# gridplot with 1 row, 2 columns\n",
    "gp = GridPlot(\n",
    "    shape=(1, 2),\n",
    "    controllers=\"sync\", # this is to that we can pan-zoom in sync\n",
    "    names=[[\"input_subplot\", \"mcorr_subplot\"]] # useful references for the subplots\n",
    ")\n",
    "\n",
    "input_graphic = Image(\n",
    "    data=input_movie[0], # image data for the first frame\n",
    "    cmap='gnuplot2' # my favorite colormap\n",
    ")\n",
    "\n",
    "mcorr_graphic = Image(\n",
    "    data=mcorr_movie[0], # image data for the first frame\n",
    "    cmap='gnuplot2'\n",
    ")\n",
    "\n",
    "# add the grahpics to the subplots\n",
    "gp[\"input_subplot\"].add_graphic(input_graphic)\n",
    "gp[\"mcorr_subplot\"].add_graphic(mcorr_graphic)\n",
    "\n",
    "# you can also use numerical indexing if you don't specify \"names\" \n",
    "# gp[0, 0].add_graphic(input_graphic)\n",
    "\n",
    "# a function to update the frame based on the slider value\n",
    "def update_frame(change):\n",
    "    frame_ix = change[\"new\"]\n",
    "    input_graphic.update_data(input_movie[frame_ix])\n",
    "    mcorr_graphic.update_data(mcorr_movie[frame_ix])\n",
    "\n",
    "# make a GUI slider\n",
    "slider = IntSlider(value=0, min=0, max=input_movie.shape[0] - 1, step=1)\n",
    "    \n",
    "# call update_frame() when slider value changes\n",
    "slider.observe(update_frame, names=\"value\")\n",
    "\n",
    "# show the gridplot and slider\n",
    "VBox([gp.show(), slider])"
   ]
  },
  {
   "cell_type": "markdown",
   "id": "ecd39608-68f5-4177-aa68-d3cb1443e100",
   "metadata": {
    "pycharm": {
     "name": "#%% md\n"
    }
   },
   "source": [
    "**Close the canvas if your don't have a powerful GPU so that you can plot more visualizations later.**"
   ]
  },
  {
   "cell_type": "code",
   "execution_count": 20,
   "id": "c1b71c47-97a9-417b-bb6a-c8a63da61bd3",
   "metadata": {
    "pycharm": {
     "name": "#%%\n"
    }
   },
   "outputs": [],
   "source": [
    "gp.canvas.close()"
   ]
  },
  {
   "cell_type": "markdown",
   "id": "6dc1260b-634c-49cc-b99b-10c44b3af72d",
   "metadata": {
    "pycharm": {
     "name": "#%% md\n"
    }
   },
   "source": [
    "# CNMF\n",
    "\n",
    "## Continue from mcorr above and perform CNMF using the mcorr output"
   ]
  },
  {
   "cell_type": "code",
   "execution_count": 21,
   "id": "cc283595-b82a-4270-a51b-f1d9cdc78d19",
   "metadata": {
    "pycharm": {
     "name": "#%%\n"
    }
   },
   "outputs": [],
   "source": [
    "# some params for CNMF\n",
    "params_cnmf =\\\n",
    "{\n",
    "    'main': # indicates that these are the \"main\" params for the CNMF algo\n",
    "        {\n",
    "            'fr': 30, # framerate, very important!\n",
    "            'p': 1,\n",
    "            'nb': 2,\n",
    "            'merge_thr': 0.85,\n",
    "            'rf': 15,\n",
    "            'stride': 6, # \"stride\" for cnmf, \"strides\" for mcorr\n",
    "            'K': 4,\n",
    "            'gSig': [4, 4],\n",
    "            'ssub': 1,\n",
    "            'tsub': 1,\n",
    "            'method_init': 'greedy_roi',\n",
    "            'min_SNR': 2.0,\n",
    "            'rval_thr': 0.7,\n",
    "            'use_cnn': True,\n",
    "            'min_cnn_thr': 0.8,\n",
    "            'cnn_lowest': 0.1,\n",
    "            'decay_time': 0.4,\n",
    "        },\n",
    "    'refit': True, # If `True`, run a second iteration of CNMF\n",
    "}"
   ]
  },
  {
   "cell_type": "markdown",
   "id": "31ba4f19-8764-446f-895d-7ff59912f604",
   "metadata": {},
   "source": [
    "### Add a single cnmf item to the batch"
   ]
  },
  {
   "cell_type": "code",
   "execution_count": 22,
   "id": "29c48dd1-0eb5-48e5-96ab-0b2633983b88",
   "metadata": {
    "pycharm": {
     "name": "#%%\n"
    }
   },
   "outputs": [],
   "source": [
    "# add a batch item\n",
    "df.caiman.add_item(\n",
    "  algo='cnmf', # algo is cnmf\n",
    "  item_name='my_movie',\n",
    "  input_movie_path=df.iloc[0].mcorr.get_output_path(),  # use mcorr output from a completed batch item\n",
    "  params=params_cnmf\n",
    ")"
   ]
  },
  {
   "cell_type": "markdown",
   "id": "ae1b2d80-1d6f-403b-b98a-3471c96f57d6",
   "metadata": {},
   "source": [
    "### Just like with motion correction, we can use `for` loops to add multiple parameter variants. This is useful to perform a parameter search to find the params that work best for your dataset. Here I will use `itertools.product` which is better than deeply nested loops."
   ]
  },
  {
   "cell_type": "code",
   "execution_count": 23,
   "id": "fc7684d2-3d2c-43ac-9064-ba3997f7a1c8",
   "metadata": {},
   "outputs": [],
   "source": [
    "from itertools import product\n",
    "\n",
    "gSig_variants = [6, 8]\n",
    "K_variants = [4, 8]\n",
    "merge_thr_variants = [0.8, 0.95]\n",
    "\n",
    "# always use deepcopy like before\n",
    "new_params_cnmf = deepcopy(params_cnmf)\n",
    "\n",
    "for gSig, K, merge_thr in product(gSig_variants, K_variants, merge_thr_variants):\n",
    "    # deep copy at every level of the loop\n",
    "    new_params_cnmf = deepcopy(new_params_cnmf)\n",
    "    \n",
    "    new_params_cnmf[\"main\"][\"gSig\"] = [gSig, gSig]\n",
    "    new_params_cnmf[\"main\"][\"K\"] = K\n",
    "    new_params_cnmf[\"main\"][\"merge_thr\"] = merge_thr\n",
    "    \n",
    "    # add param combination variant to batch\n",
    "    df.caiman.add_item(\n",
    "        algo=\"cnmf\",\n",
    "        item_name=\"my_movie\",\n",
    "        input_movie_path=df.iloc[0].mcorr.get_output_path(),\n",
    "        params=new_params_cnmf\n",
    "    )"
   ]
  },
  {
   "cell_type": "markdown",
   "id": "5cb21a8e-709d-4888-bbd9-42653f700240",
   "metadata": {},
   "source": [
    "### See that there are a lot of new cnmf batch items"
   ]
  },
  {
   "cell_type": "code",
   "execution_count": 24,
   "id": "0fb3f94d-34d2-4eef-ad2d-b4f6db89fa72",
   "metadata": {},
   "outputs": [
    {
     "data": {
      "text/html": [
       "<div>\n",
       "<style scoped>\n",
       "    .dataframe tbody tr th:only-of-type {\n",
       "        vertical-align: middle;\n",
       "    }\n",
       "\n",
       "    .dataframe tbody tr th {\n",
       "        vertical-align: top;\n",
       "    }\n",
       "\n",
       "    .dataframe thead th {\n",
       "        text-align: right;\n",
       "    }\n",
       "</style>\n",
       "<table border=\"1\" class=\"dataframe\">\n",
       "  <thead>\n",
       "    <tr style=\"text-align: right;\">\n",
       "      <th></th>\n",
       "      <th>algo</th>\n",
       "      <th>item_name</th>\n",
       "      <th>input_movie_path</th>\n",
       "      <th>params</th>\n",
       "      <th>outputs</th>\n",
       "      <th>comments</th>\n",
       "      <th>uuid</th>\n",
       "    </tr>\n",
       "  </thead>\n",
       "  <tbody>\n",
       "    <tr>\n",
       "      <th>5</th>\n",
       "      <td>cnmf</td>\n",
       "      <td>my_movie</td>\n",
       "      <td>1baa9069-72c6-47ba-9cc4-41821d45676e/1baa9069-72c6-47ba-9cc4-41821d45676e-Sue_2x_3000_40_-46_els__d1_170_d2_170_d3_1...</td>\n",
       "      <td>{'main': {'fr': 30, 'p': 1, 'nb': 2, 'merge_thr': 0.85, 'rf': 15, 'stride': 6, 'K': 4, 'gSig': (4, 4), 'ssub': 1, 't...</td>\n",
       "      <td>None</td>\n",
       "      <td>None</td>\n",
       "      <td>1aea4c5c-c134-492a-b035-1fe1a4d8328f</td>\n",
       "    </tr>\n",
       "    <tr>\n",
       "      <th>6</th>\n",
       "      <td>cnmf</td>\n",
       "      <td>my_movie</td>\n",
       "      <td>1baa9069-72c6-47ba-9cc4-41821d45676e/1baa9069-72c6-47ba-9cc4-41821d45676e-Sue_2x_3000_40_-46_els__d1_170_d2_170_d3_1...</td>\n",
       "      <td>{'main': {'fr': 30, 'p': 1, 'nb': 2, 'merge_thr': 0.8, 'rf': 15, 'stride': 6, 'K': 4, 'gSig': (6, 6), 'ssub': 1, 'ts...</td>\n",
       "      <td>None</td>\n",
       "      <td>None</td>\n",
       "      <td>509af957-4fbf-4ea7-bfda-f4e1fcb17513</td>\n",
       "    </tr>\n",
       "    <tr>\n",
       "      <th>7</th>\n",
       "      <td>cnmf</td>\n",
       "      <td>my_movie</td>\n",
       "      <td>1baa9069-72c6-47ba-9cc4-41821d45676e/1baa9069-72c6-47ba-9cc4-41821d45676e-Sue_2x_3000_40_-46_els__d1_170_d2_170_d3_1...</td>\n",
       "      <td>{'main': {'fr': 30, 'p': 1, 'nb': 2, 'merge_thr': 0.95, 'rf': 15, 'stride': 6, 'K': 4, 'gSig': (6, 6), 'ssub': 1, 't...</td>\n",
       "      <td>None</td>\n",
       "      <td>None</td>\n",
       "      <td>12971b4c-3ea7-4197-9d21-47091213efff</td>\n",
       "    </tr>\n",
       "    <tr>\n",
       "      <th>8</th>\n",
       "      <td>cnmf</td>\n",
       "      <td>my_movie</td>\n",
       "      <td>1baa9069-72c6-47ba-9cc4-41821d45676e/1baa9069-72c6-47ba-9cc4-41821d45676e-Sue_2x_3000_40_-46_els__d1_170_d2_170_d3_1...</td>\n",
       "      <td>{'main': {'fr': 30, 'p': 1, 'nb': 2, 'merge_thr': 0.8, 'rf': 15, 'stride': 6, 'K': 8, 'gSig': (6, 6), 'ssub': 1, 'ts...</td>\n",
       "      <td>None</td>\n",
       "      <td>None</td>\n",
       "      <td>5a98e4b0-97b1-421b-84c3-78a5629b105c</td>\n",
       "    </tr>\n",
       "    <tr>\n",
       "      <th>9</th>\n",
       "      <td>cnmf</td>\n",
       "      <td>my_movie</td>\n",
       "      <td>1baa9069-72c6-47ba-9cc4-41821d45676e/1baa9069-72c6-47ba-9cc4-41821d45676e-Sue_2x_3000_40_-46_els__d1_170_d2_170_d3_1...</td>\n",
       "      <td>{'main': {'fr': 30, 'p': 1, 'nb': 2, 'merge_thr': 0.95, 'rf': 15, 'stride': 6, 'K': 8, 'gSig': (6, 6), 'ssub': 1, 't...</td>\n",
       "      <td>None</td>\n",
       "      <td>None</td>\n",
       "      <td>e706816c-9732-4c8d-9a63-89122cae55ef</td>\n",
       "    </tr>\n",
       "    <tr>\n",
       "      <th>10</th>\n",
       "      <td>cnmf</td>\n",
       "      <td>my_movie</td>\n",
       "      <td>1baa9069-72c6-47ba-9cc4-41821d45676e/1baa9069-72c6-47ba-9cc4-41821d45676e-Sue_2x_3000_40_-46_els__d1_170_d2_170_d3_1...</td>\n",
       "      <td>{'main': {'fr': 30, 'p': 1, 'nb': 2, 'merge_thr': 0.8, 'rf': 15, 'stride': 6, 'K': 4, 'gSig': (8, 8), 'ssub': 1, 'ts...</td>\n",
       "      <td>None</td>\n",
       "      <td>None</td>\n",
       "      <td>5e9f5a9e-72f3-4a1b-be4d-7dcd8d690db6</td>\n",
       "    </tr>\n",
       "    <tr>\n",
       "      <th>11</th>\n",
       "      <td>cnmf</td>\n",
       "      <td>my_movie</td>\n",
       "      <td>1baa9069-72c6-47ba-9cc4-41821d45676e/1baa9069-72c6-47ba-9cc4-41821d45676e-Sue_2x_3000_40_-46_els__d1_170_d2_170_d3_1...</td>\n",
       "      <td>{'main': {'fr': 30, 'p': 1, 'nb': 2, 'merge_thr': 0.95, 'rf': 15, 'stride': 6, 'K': 4, 'gSig': (8, 8), 'ssub': 1, 't...</td>\n",
       "      <td>None</td>\n",
       "      <td>None</td>\n",
       "      <td>ea2ab82d-c50a-4de7-a56f-7f238b5f76d7</td>\n",
       "    </tr>\n",
       "    <tr>\n",
       "      <th>12</th>\n",
       "      <td>cnmf</td>\n",
       "      <td>my_movie</td>\n",
       "      <td>1baa9069-72c6-47ba-9cc4-41821d45676e/1baa9069-72c6-47ba-9cc4-41821d45676e-Sue_2x_3000_40_-46_els__d1_170_d2_170_d3_1...</td>\n",
       "      <td>{'main': {'fr': 30, 'p': 1, 'nb': 2, 'merge_thr': 0.8, 'rf': 15, 'stride': 6, 'K': 8, 'gSig': (8, 8), 'ssub': 1, 'ts...</td>\n",
       "      <td>None</td>\n",
       "      <td>None</td>\n",
       "      <td>e24d0a4b-bf09-468b-a594-cff646d726e1</td>\n",
       "    </tr>\n",
       "    <tr>\n",
       "      <th>13</th>\n",
       "      <td>cnmf</td>\n",
       "      <td>my_movie</td>\n",
       "      <td>1baa9069-72c6-47ba-9cc4-41821d45676e/1baa9069-72c6-47ba-9cc4-41821d45676e-Sue_2x_3000_40_-46_els__d1_170_d2_170_d3_1...</td>\n",
       "      <td>{'main': {'fr': 30, 'p': 1, 'nb': 2, 'merge_thr': 0.95, 'rf': 15, 'stride': 6, 'K': 8, 'gSig': (8, 8), 'ssub': 1, 't...</td>\n",
       "      <td>None</td>\n",
       "      <td>None</td>\n",
       "      <td>dbff0e6a-4220-46c3-88b9-eaa004f2850d</td>\n",
       "    </tr>\n",
       "  </tbody>\n",
       "</table>\n",
       "</div>"
      ],
      "text/plain": [
       "    algo item_name  \\\n",
       "5   cnmf  my_movie   \n",
       "6   cnmf  my_movie   \n",
       "7   cnmf  my_movie   \n",
       "8   cnmf  my_movie   \n",
       "9   cnmf  my_movie   \n",
       "10  cnmf  my_movie   \n",
       "11  cnmf  my_movie   \n",
       "12  cnmf  my_movie   \n",
       "13  cnmf  my_movie   \n",
       "\n",
       "                                                                                                           input_movie_path  \\\n",
       "5   1baa9069-72c6-47ba-9cc4-41821d45676e/1baa9069-72c6-47ba-9cc4-41821d45676e-Sue_2x_3000_40_-46_els__d1_170_d2_170_d3_1...   \n",
       "6   1baa9069-72c6-47ba-9cc4-41821d45676e/1baa9069-72c6-47ba-9cc4-41821d45676e-Sue_2x_3000_40_-46_els__d1_170_d2_170_d3_1...   \n",
       "7   1baa9069-72c6-47ba-9cc4-41821d45676e/1baa9069-72c6-47ba-9cc4-41821d45676e-Sue_2x_3000_40_-46_els__d1_170_d2_170_d3_1...   \n",
       "8   1baa9069-72c6-47ba-9cc4-41821d45676e/1baa9069-72c6-47ba-9cc4-41821d45676e-Sue_2x_3000_40_-46_els__d1_170_d2_170_d3_1...   \n",
       "9   1baa9069-72c6-47ba-9cc4-41821d45676e/1baa9069-72c6-47ba-9cc4-41821d45676e-Sue_2x_3000_40_-46_els__d1_170_d2_170_d3_1...   \n",
       "10  1baa9069-72c6-47ba-9cc4-41821d45676e/1baa9069-72c6-47ba-9cc4-41821d45676e-Sue_2x_3000_40_-46_els__d1_170_d2_170_d3_1...   \n",
       "11  1baa9069-72c6-47ba-9cc4-41821d45676e/1baa9069-72c6-47ba-9cc4-41821d45676e-Sue_2x_3000_40_-46_els__d1_170_d2_170_d3_1...   \n",
       "12  1baa9069-72c6-47ba-9cc4-41821d45676e/1baa9069-72c6-47ba-9cc4-41821d45676e-Sue_2x_3000_40_-46_els__d1_170_d2_170_d3_1...   \n",
       "13  1baa9069-72c6-47ba-9cc4-41821d45676e/1baa9069-72c6-47ba-9cc4-41821d45676e-Sue_2x_3000_40_-46_els__d1_170_d2_170_d3_1...   \n",
       "\n",
       "                                                                                                                     params  \\\n",
       "5   {'main': {'fr': 30, 'p': 1, 'nb': 2, 'merge_thr': 0.85, 'rf': 15, 'stride': 6, 'K': 4, 'gSig': (4, 4), 'ssub': 1, 't...   \n",
       "6   {'main': {'fr': 30, 'p': 1, 'nb': 2, 'merge_thr': 0.8, 'rf': 15, 'stride': 6, 'K': 4, 'gSig': (6, 6), 'ssub': 1, 'ts...   \n",
       "7   {'main': {'fr': 30, 'p': 1, 'nb': 2, 'merge_thr': 0.95, 'rf': 15, 'stride': 6, 'K': 4, 'gSig': (6, 6), 'ssub': 1, 't...   \n",
       "8   {'main': {'fr': 30, 'p': 1, 'nb': 2, 'merge_thr': 0.8, 'rf': 15, 'stride': 6, 'K': 8, 'gSig': (6, 6), 'ssub': 1, 'ts...   \n",
       "9   {'main': {'fr': 30, 'p': 1, 'nb': 2, 'merge_thr': 0.95, 'rf': 15, 'stride': 6, 'K': 8, 'gSig': (6, 6), 'ssub': 1, 't...   \n",
       "10  {'main': {'fr': 30, 'p': 1, 'nb': 2, 'merge_thr': 0.8, 'rf': 15, 'stride': 6, 'K': 4, 'gSig': (8, 8), 'ssub': 1, 'ts...   \n",
       "11  {'main': {'fr': 30, 'p': 1, 'nb': 2, 'merge_thr': 0.95, 'rf': 15, 'stride': 6, 'K': 4, 'gSig': (8, 8), 'ssub': 1, 't...   \n",
       "12  {'main': {'fr': 30, 'p': 1, 'nb': 2, 'merge_thr': 0.8, 'rf': 15, 'stride': 6, 'K': 8, 'gSig': (8, 8), 'ssub': 1, 'ts...   \n",
       "13  {'main': {'fr': 30, 'p': 1, 'nb': 2, 'merge_thr': 0.95, 'rf': 15, 'stride': 6, 'K': 8, 'gSig': (8, 8), 'ssub': 1, 't...   \n",
       "\n",
       "   outputs comments                                  uuid  \n",
       "5     None     None  1aea4c5c-c134-492a-b035-1fe1a4d8328f  \n",
       "6     None     None  509af957-4fbf-4ea7-bfda-f4e1fcb17513  \n",
       "7     None     None  12971b4c-3ea7-4197-9d21-47091213efff  \n",
       "8     None     None  5a98e4b0-97b1-421b-84c3-78a5629b105c  \n",
       "9     None     None  e706816c-9732-4c8d-9a63-89122cae55ef  \n",
       "10    None     None  5e9f5a9e-72f3-4a1b-be4d-7dcd8d690db6  \n",
       "11    None     None  ea2ab82d-c50a-4de7-a56f-7f238b5f76d7  \n",
       "12    None     None  e24d0a4b-bf09-468b-a594-cff646d726e1  \n",
       "13    None     None  dbff0e6a-4220-46c3-88b9-eaa004f2850d  "
      ]
     },
     "execution_count": 24,
     "metadata": {},
     "output_type": "execute_result"
    }
   ],
   "source": [
    "df[df[\"algo\"] == \"cnmf\"]"
   ]
  },
  {
   "cell_type": "markdown",
   "id": "9bf8dce3-b0f7-43b0-b719-774673b6cb25",
   "metadata": {},
   "source": [
    "## Since it is difficult to see the different parameter variants above, we can just view the diffs\n",
    "\n",
    "### The index numbers on the diffs correspond to the indices in the parent DataFrame above"
   ]
  },
  {
   "cell_type": "code",
   "execution_count": 25,
   "id": "80b98249-b3b5-4481-a4e2-dbdcbf8d1ed9",
   "metadata": {},
   "outputs": [
    {
     "name": "stderr",
     "output_type": "stream",
     "text": [
      "/tmp/ipykernel_671788/777897395.py:1: FutureWarning: You are trying to use the following experimental feature, this may change in the future without warning:\n",
      "CaimanDataFrameExtensions.get_params_diffs\n",
      "\n",
      "\n",
      "  df.caiman.get_params_diffs(algo=\"cnmf\", item_name=\"my_movie\")\n"
     ]
    },
    {
     "data": {
      "text/plain": [
       "5     {'merge_thr': 0.85, 'gSig': (4, 4), 'K': 4}\n",
       "6      {'merge_thr': 0.8, 'gSig': (6, 6), 'K': 4}\n",
       "7     {'merge_thr': 0.95, 'gSig': (6, 6), 'K': 4}\n",
       "8      {'merge_thr': 0.8, 'gSig': (6, 6), 'K': 8}\n",
       "9     {'merge_thr': 0.95, 'gSig': (6, 6), 'K': 8}\n",
       "10     {'merge_thr': 0.8, 'gSig': (8, 8), 'K': 4}\n",
       "11    {'merge_thr': 0.95, 'gSig': (8, 8), 'K': 4}\n",
       "12     {'merge_thr': 0.8, 'gSig': (8, 8), 'K': 8}\n",
       "13    {'merge_thr': 0.95, 'gSig': (8, 8), 'K': 8}\n",
       "Name: params, dtype: object"
      ]
     },
     "execution_count": 25,
     "metadata": {},
     "output_type": "execute_result"
    }
   ],
   "source": [
    "df.caiman.get_params_diffs(algo=\"cnmf\", item_name=\"my_movie\")"
   ]
  },
  {
   "cell_type": "markdown",
   "id": "628a194f-39c3-45a7-a029-53925763cc1e",
   "metadata": {},
   "source": [
    "### Run the added `cnmf` batch items, they start at index 5 as we can see from the DataFrame"
   ]
  },
  {
   "cell_type": "code",
   "execution_count": 26,
   "id": "2c6886a3-9071-494d-a3f1-0c8ba7c53b56",
   "metadata": {
    "pycharm": {
     "name": "#%%\n"
    },
    "scrolled": true,
    "tags": []
   },
   "outputs": [
    {
     "name": "stdout",
     "output_type": "stream",
     "text": [
      "cnmf params {'main': {'fr': 30, 'p': 1, 'nb': 2, 'merge_thr': 0.85, 'rf': 15, 'stride': 6, 'K': 4, 'gSig': (4, 4), 'ssub': 1, 'tsub': 1, 'method_init': 'greedy_roi', 'min_SNR': 2.0, 'rval_thr': 0.7, 'use_cnn': True, 'min_cnn_thr': 0.8, 'cnn_lowest': 0.1, 'decay_time': 0.4}, 'refit': True}\n",
      "making memmap\n"
     ]
    },
    {
     "name": "stderr",
     "output_type": "stream",
     "text": [
      "WARNING:root:Component 8 is only active jointly with neighboring components. Space correlation calculation might be unreliable.\n",
      "WARNING:root:Component 27 is only active jointly with neighboring components. Space correlation calculation might be unreliable.\n",
      "WARNING:root:Component 44 is only active jointly with neighboring components. Space correlation calculation might be unreliable.\n",
      "WARNING:root:Component 41 is only active jointly with neighboring components. Space correlation calculation might be unreliable.\n",
      "WARNING:root:Component 45 is only active jointly with neighboring components. Space correlation calculation might be unreliable.\n",
      "2022-11-17 19:28:27.226444: E tensorflow/stream_executor/cuda/cuda_driver.cc:271] failed call to cuInit: CUDA_ERROR_NO_DEVICE: no CUDA-capable device is detected\n",
      "2022-11-17 19:28:27.226464: I tensorflow/stream_executor/cuda/cuda_diagnostics.cc:169] retrieving CUDA diagnostic information for host: kushal-desktop\n",
      "2022-11-17 19:28:27.226468: I tensorflow/stream_executor/cuda/cuda_diagnostics.cc:176] hostname: kushal-desktop\n",
      "2022-11-17 19:28:27.226546: I tensorflow/stream_executor/cuda/cuda_diagnostics.cc:200] libcuda reported version is: 515.48.7\n",
      "2022-11-17 19:28:27.226558: I tensorflow/stream_executor/cuda/cuda_diagnostics.cc:204] kernel reported version is: 515.48.7\n",
      "2022-11-17 19:28:27.226562: I tensorflow/stream_executor/cuda/cuda_diagnostics.cc:310] kernel version seems to match DSO: 515.48.7\n",
      "2022-11-17 19:28:27.227135: I tensorflow/core/platform/cpu_feature_guard.cc:193] This TensorFlow binary is optimized with oneAPI Deep Neural Network Library (oneDNN) to use the following CPU instructions in performance-critical operations:  AVX2 FMA\n",
      "To enable them in other operations, rebuild TensorFlow with the appropriate compiler flags.\n"
     ]
    },
    {
     "name": "stdout",
     "output_type": "stream",
     "text": [
      "performing CNMF\n",
      "fitting images\n",
      "refitting\n",
      "Eval\n",
      "USING MODEL:/home/kushal/caiman_data/model/cnn_model.json\n",
      "5/5 [==============================] - 0s 6ms/step\n",
      "cnmf params {'main': {'fr': 30, 'p': 1, 'nb': 2, 'merge_thr': 0.8, 'rf': 15, 'stride': 6, 'K': 4, 'gSig': (6, 6), 'ssub': 1, 'tsub': 1, 'method_init': 'greedy_roi', 'min_SNR': 2.0, 'rval_thr': 0.7, 'use_cnn': True, 'min_cnn_thr': 0.8, 'cnn_lowest': 0.1, 'decay_time': 0.4}, 'refit': True}\n",
      "making memmap\n"
     ]
    },
    {
     "name": "stderr",
     "output_type": "stream",
     "text": [
      "WARNING:root:Component 6 is only active jointly with neighboring components. Space correlation calculation might be unreliable.\n",
      "WARNING:root:Component 22 is only active jointly with neighboring components. Space correlation calculation might be unreliable.\n",
      "WARNING:root:Component 15 is only active jointly with neighboring components. Space correlation calculation might be unreliable.\n",
      "WARNING:root:Component 35 is only active jointly with neighboring components. Space correlation calculation might be unreliable.\n",
      "2022-11-17 19:28:43.476730: E tensorflow/stream_executor/cuda/cuda_driver.cc:271] failed call to cuInit: CUDA_ERROR_NO_DEVICE: no CUDA-capable device is detected\n",
      "2022-11-17 19:28:43.476752: I tensorflow/stream_executor/cuda/cuda_diagnostics.cc:169] retrieving CUDA diagnostic information for host: kushal-desktop\n",
      "2022-11-17 19:28:43.476756: I tensorflow/stream_executor/cuda/cuda_diagnostics.cc:176] hostname: kushal-desktop\n",
      "2022-11-17 19:28:43.476842: I tensorflow/stream_executor/cuda/cuda_diagnostics.cc:200] libcuda reported version is: 515.48.7\n",
      "2022-11-17 19:28:43.476856: I tensorflow/stream_executor/cuda/cuda_diagnostics.cc:204] kernel reported version is: 515.48.7\n",
      "2022-11-17 19:28:43.476860: I tensorflow/stream_executor/cuda/cuda_diagnostics.cc:310] kernel version seems to match DSO: 515.48.7\n",
      "2022-11-17 19:28:43.477015: I tensorflow/core/platform/cpu_feature_guard.cc:193] This TensorFlow binary is optimized with oneAPI Deep Neural Network Library (oneDNN) to use the following CPU instructions in performance-critical operations:  AVX2 FMA\n",
      "To enable them in other operations, rebuild TensorFlow with the appropriate compiler flags.\n"
     ]
    },
    {
     "name": "stdout",
     "output_type": "stream",
     "text": [
      "performing CNMF\n",
      "fitting images\n",
      "refitting\n",
      "Eval\n",
      "USING MODEL:/home/kushal/caiman_data/model/cnn_model.json\n",
      "6/6 [==============================] - 0s 8ms/step\n",
      "cnmf params {'main': {'fr': 30, 'p': 1, 'nb': 2, 'merge_thr': 0.95, 'rf': 15, 'stride': 6, 'K': 4, 'gSig': (6, 6), 'ssub': 1, 'tsub': 1, 'method_init': 'greedy_roi', 'min_SNR': 2.0, 'rval_thr': 0.7, 'use_cnn': True, 'min_cnn_thr': 0.8, 'cnn_lowest': 0.1, 'decay_time': 0.4}, 'refit': True}\n",
      "making memmap\n"
     ]
    },
    {
     "name": "stderr",
     "output_type": "stream",
     "text": [
      "WARNING:root:Component 6 is only active jointly with neighboring components. Space correlation calculation might be unreliable.\n",
      "WARNING:root:Component 1 is only active jointly with neighboring components. Space correlation calculation might be unreliable.\n",
      "WARNING:root:Component 4 is only active jointly with neighboring components. Space correlation calculation might be unreliable.\n",
      "WARNING:root:Component 4 is only active jointly with neighboring components. Space correlation calculation might be unreliable.\n",
      "WARNING:root:Component 2 is only active jointly with neighboring components. Space correlation calculation might be unreliable.\n",
      "WARNING:root:Component 14 is only active jointly with neighboring components. Space correlation calculation might be unreliable.\n",
      "WARNING:root:Component 8 is only active jointly with neighboring components. Space correlation calculation might be unreliable.\n",
      "WARNING:root:Component 29 is only active jointly with neighboring components. Space correlation calculation might be unreliable.\n",
      "WARNING:root:Component 31 is only active jointly with neighboring components. Space correlation calculation might be unreliable.\n",
      "WARNING:root:Component 29 is only active jointly with neighboring components. Space correlation calculation might be unreliable.\n",
      "WARNING:root:Component 26 is only active jointly with neighboring components. Space correlation calculation might be unreliable.\n",
      "2022-11-17 19:28:58.647893: E tensorflow/stream_executor/cuda/cuda_driver.cc:271] failed call to cuInit: CUDA_ERROR_NO_DEVICE: no CUDA-capable device is detected\n",
      "2022-11-17 19:28:58.647921: I tensorflow/stream_executor/cuda/cuda_diagnostics.cc:169] retrieving CUDA diagnostic information for host: kushal-desktop\n",
      "2022-11-17 19:28:58.647927: I tensorflow/stream_executor/cuda/cuda_diagnostics.cc:176] hostname: kushal-desktop\n",
      "2022-11-17 19:28:58.648034: I tensorflow/stream_executor/cuda/cuda_diagnostics.cc:200] libcuda reported version is: 515.48.7\n",
      "2022-11-17 19:28:58.648053: I tensorflow/stream_executor/cuda/cuda_diagnostics.cc:204] kernel reported version is: 515.48.7\n",
      "2022-11-17 19:28:58.648059: I tensorflow/stream_executor/cuda/cuda_diagnostics.cc:310] kernel version seems to match DSO: 515.48.7\n",
      "2022-11-17 19:28:58.648265: I tensorflow/core/platform/cpu_feature_guard.cc:193] This TensorFlow binary is optimized with oneAPI Deep Neural Network Library (oneDNN) to use the following CPU instructions in performance-critical operations:  AVX2 FMA\n",
      "To enable them in other operations, rebuild TensorFlow with the appropriate compiler flags.\n"
     ]
    },
    {
     "name": "stdout",
     "output_type": "stream",
     "text": [
      "performing CNMF\n",
      "fitting images\n",
      "refitting\n",
      "Eval\n",
      "USING MODEL:/home/kushal/caiman_data/model/cnn_model.json\n",
      "6/6 [==============================] - 0s 9ms/step\n",
      "cnmf params {'main': {'fr': 30, 'p': 1, 'nb': 2, 'merge_thr': 0.8, 'rf': 15, 'stride': 6, 'K': 8, 'gSig': (6, 6), 'ssub': 1, 'tsub': 1, 'method_init': 'greedy_roi', 'min_SNR': 2.0, 'rval_thr': 0.7, 'use_cnn': True, 'min_cnn_thr': 0.8, 'cnn_lowest': 0.1, 'decay_time': 0.4}, 'refit': True}\n",
      "making memmap\n"
     ]
    },
    {
     "name": "stderr",
     "output_type": "stream",
     "text": [
      "WARNING:root:Component 5 is only active jointly with neighboring components. Space correlation calculation might be unreliable.\n",
      "WARNING:root:Component 10 is only active jointly with neighboring components. Space correlation calculation might be unreliable.\n",
      "WARNING:root:Component 12 is only active jointly with neighboring components. Space correlation calculation might be unreliable.\n",
      "WARNING:root:Component 9 is only active jointly with neighboring components. Space correlation calculation might be unreliable.\n",
      "WARNING:root:Component 21 is only active jointly with neighboring components. Space correlation calculation might be unreliable.\n",
      "WARNING:root:Component 29 is only active jointly with neighboring components. Space correlation calculation might be unreliable.\n",
      "WARNING:root:Component 33 is only active jointly with neighboring components. Space correlation calculation might be unreliable.\n",
      "WARNING:root:Component 35 is only active jointly with neighboring components. Space correlation calculation might be unreliable.\n",
      "WARNING:root:Component 36 is only active jointly with neighboring components. Space correlation calculation might be unreliable.\n",
      "WARNING:root:Component 49 is only active jointly with neighboring components. Space correlation calculation might be unreliable.\n",
      "2022-11-17 19:29:16.728875: E tensorflow/stream_executor/cuda/cuda_driver.cc:271] failed call to cuInit: CUDA_ERROR_NO_DEVICE: no CUDA-capable device is detected\n",
      "2022-11-17 19:29:16.728901: I tensorflow/stream_executor/cuda/cuda_diagnostics.cc:169] retrieving CUDA diagnostic information for host: kushal-desktop\n",
      "2022-11-17 19:29:16.728906: I tensorflow/stream_executor/cuda/cuda_diagnostics.cc:176] hostname: kushal-desktop\n",
      "2022-11-17 19:29:16.728994: I tensorflow/stream_executor/cuda/cuda_diagnostics.cc:200] libcuda reported version is: 515.48.7\n",
      "2022-11-17 19:29:16.729011: I tensorflow/stream_executor/cuda/cuda_diagnostics.cc:204] kernel reported version is: 515.48.7\n",
      "2022-11-17 19:29:16.729016: I tensorflow/stream_executor/cuda/cuda_diagnostics.cc:310] kernel version seems to match DSO: 515.48.7\n",
      "2022-11-17 19:29:16.729168: I tensorflow/core/platform/cpu_feature_guard.cc:193] This TensorFlow binary is optimized with oneAPI Deep Neural Network Library (oneDNN) to use the following CPU instructions in performance-critical operations:  AVX2 FMA\n",
      "To enable them in other operations, rebuild TensorFlow with the appropriate compiler flags.\n"
     ]
    },
    {
     "name": "stdout",
     "output_type": "stream",
     "text": [
      "performing CNMF\n",
      "fitting images\n",
      "refitting\n",
      "Eval\n",
      "USING MODEL:/home/kushal/caiman_data/model/cnn_model.json\n",
      "11/11 [==============================] - 0s 8ms/step\n",
      "cnmf params {'main': {'fr': 30, 'p': 1, 'nb': 2, 'merge_thr': 0.95, 'rf': 15, 'stride': 6, 'K': 8, 'gSig': (6, 6), 'ssub': 1, 'tsub': 1, 'method_init': 'greedy_roi', 'min_SNR': 2.0, 'rval_thr': 0.7, 'use_cnn': True, 'min_cnn_thr': 0.8, 'cnn_lowest': 0.1, 'decay_time': 0.4}, 'refit': True}\n",
      "making memmap\n"
     ]
    },
    {
     "name": "stderr",
     "output_type": "stream",
     "text": [
      "WARNING:root:Component 15 is only active jointly with neighboring components. Space correlation calculation might be unreliable.\n",
      "WARNING:root:Component 7 is only active jointly with neighboring components. Space correlation calculation might be unreliable.\n",
      "WARNING:root:Component 1 is only active jointly with neighboring components. Space correlation calculation might be unreliable.\n",
      "WARNING:root:Component 15 is only active jointly with neighboring components. Space correlation calculation might be unreliable.\n",
      "WARNING:root:Component 20 is only active jointly with neighboring components. Space correlation calculation might be unreliable.\n",
      "WARNING:root:Component 20 is only active jointly with neighboring components. Space correlation calculation might be unreliable.\n",
      "WARNING:root:Component 21 is only active jointly with neighboring components. Space correlation calculation might be unreliable.\n",
      "WARNING:root:Component 22 is only active jointly with neighboring components. Space correlation calculation might be unreliable.\n",
      "WARNING:root:Component 28 is only active jointly with neighboring components. Space correlation calculation might be unreliable.\n",
      "WARNING:root:Component 29 is only active jointly with neighboring components. Space correlation calculation might be unreliable.\n",
      "WARNING:root:Component 30 is only active jointly with neighboring components. Space correlation calculation might be unreliable.\n",
      "WARNING:root:Component 26 is only active jointly with neighboring components. Space correlation calculation might be unreliable.\n",
      "WARNING:root:Component 25 is only active jointly with neighboring components. Space correlation calculation might be unreliable.\n",
      "WARNING:root:Component 31 is only active jointly with neighboring components. Space correlation calculation might be unreliable.\n",
      "WARNING:root:Component 40 is only active jointly with neighboring components. Space correlation calculation might be unreliable.\n",
      "WARNING:root:Component 43 is only active jointly with neighboring components. Space correlation calculation might be unreliable.\n",
      "2022-11-17 19:29:35.607841: E tensorflow/stream_executor/cuda/cuda_driver.cc:271] failed call to cuInit: CUDA_ERROR_NO_DEVICE: no CUDA-capable device is detected\n",
      "2022-11-17 19:29:35.607865: I tensorflow/stream_executor/cuda/cuda_diagnostics.cc:169] retrieving CUDA diagnostic information for host: kushal-desktop\n",
      "2022-11-17 19:29:35.607868: I tensorflow/stream_executor/cuda/cuda_diagnostics.cc:176] hostname: kushal-desktop\n",
      "2022-11-17 19:29:35.607950: I tensorflow/stream_executor/cuda/cuda_diagnostics.cc:200] libcuda reported version is: 515.48.7\n",
      "2022-11-17 19:29:35.607963: I tensorflow/stream_executor/cuda/cuda_diagnostics.cc:204] kernel reported version is: 515.48.7\n",
      "2022-11-17 19:29:35.607966: I tensorflow/stream_executor/cuda/cuda_diagnostics.cc:310] kernel version seems to match DSO: 515.48.7\n",
      "2022-11-17 19:29:35.608114: I tensorflow/core/platform/cpu_feature_guard.cc:193] This TensorFlow binary is optimized with oneAPI Deep Neural Network Library (oneDNN) to use the following CPU instructions in performance-critical operations:  AVX2 FMA\n",
      "To enable them in other operations, rebuild TensorFlow with the appropriate compiler flags.\n"
     ]
    },
    {
     "name": "stdout",
     "output_type": "stream",
     "text": [
      "performing CNMF\n",
      "fitting images\n",
      "refitting\n",
      "Eval\n",
      "USING MODEL:/home/kushal/caiman_data/model/cnn_model.json\n",
      "12/12 [==============================] - 0s 8ms/step\n",
      "cnmf params {'main': {'fr': 30, 'p': 1, 'nb': 2, 'merge_thr': 0.8, 'rf': 15, 'stride': 6, 'K': 4, 'gSig': (8, 8), 'ssub': 1, 'tsub': 1, 'method_init': 'greedy_roi', 'min_SNR': 2.0, 'rval_thr': 0.7, 'use_cnn': True, 'min_cnn_thr': 0.8, 'cnn_lowest': 0.1, 'decay_time': 0.4}, 'refit': True}\n"
     ]
    },
    {
     "name": "stderr",
     "output_type": "stream",
     "text": [
      "WARNING:root:Changing rf from 15 to 34 because the constraint rf > gSiz was not satisfied.\n"
     ]
    },
    {
     "name": "stdout",
     "output_type": "stream",
     "text": [
      "making memmap\n"
     ]
    },
    {
     "name": "stderr",
     "output_type": "stream",
     "text": [
      "WARNING:root:Component 3 is only active jointly with neighboring components. Space correlation calculation might be unreliable.\n",
      "WARNING:root:Component 3 is only active jointly with neighboring components. Space correlation calculation might be unreliable.\n",
      "WARNING:root:Component 2 is only active jointly with neighboring components. Space correlation calculation might be unreliable.\n",
      "WARNING:root:Component 7 is only active jointly with neighboring components. Space correlation calculation might be unreliable.\n",
      "WARNING:root:Component 25 is only active jointly with neighboring components. Space correlation calculation might be unreliable.\n",
      "WARNING:root:Component 48 is only active jointly with neighboring components. Space correlation calculation might be unreliable.\n",
      "2022-11-17 19:29:52.183517: E tensorflow/stream_executor/cuda/cuda_driver.cc:271] failed call to cuInit: CUDA_ERROR_NO_DEVICE: no CUDA-capable device is detected\n",
      "2022-11-17 19:29:52.183547: I tensorflow/stream_executor/cuda/cuda_diagnostics.cc:169] retrieving CUDA diagnostic information for host: kushal-desktop\n",
      "2022-11-17 19:29:52.183552: I tensorflow/stream_executor/cuda/cuda_diagnostics.cc:176] hostname: kushal-desktop\n",
      "2022-11-17 19:29:52.183663: I tensorflow/stream_executor/cuda/cuda_diagnostics.cc:200] libcuda reported version is: 515.48.7\n",
      "2022-11-17 19:29:52.183683: I tensorflow/stream_executor/cuda/cuda_diagnostics.cc:204] kernel reported version is: 515.48.7\n",
      "2022-11-17 19:29:52.183688: I tensorflow/stream_executor/cuda/cuda_diagnostics.cc:310] kernel version seems to match DSO: 515.48.7\n",
      "2022-11-17 19:29:52.183897: I tensorflow/core/platform/cpu_feature_guard.cc:193] This TensorFlow binary is optimized with oneAPI Deep Neural Network Library (oneDNN) to use the following CPU instructions in performance-critical operations:  AVX2 FMA\n",
      "To enable them in other operations, rebuild TensorFlow with the appropriate compiler flags.\n"
     ]
    },
    {
     "name": "stdout",
     "output_type": "stream",
     "text": [
      "performing CNMF\n",
      "fitting images\n",
      "refitting\n",
      "Eval\n",
      "USING MODEL:/home/kushal/caiman_data/model/cnn_model.json\n",
      "6/6 [==============================] - 0s 8ms/step\n",
      "cnmf params {'main': {'fr': 30, 'p': 1, 'nb': 2, 'merge_thr': 0.95, 'rf': 15, 'stride': 6, 'K': 4, 'gSig': (8, 8), 'ssub': 1, 'tsub': 1, 'method_init': 'greedy_roi', 'min_SNR': 2.0, 'rval_thr': 0.7, 'use_cnn': True, 'min_cnn_thr': 0.8, 'cnn_lowest': 0.1, 'decay_time': 0.4}, 'refit': True}\n"
     ]
    },
    {
     "name": "stderr",
     "output_type": "stream",
     "text": [
      "WARNING:root:Changing rf from 15 to 34 because the constraint rf > gSiz was not satisfied.\n"
     ]
    },
    {
     "name": "stdout",
     "output_type": "stream",
     "text": [
      "making memmap\n"
     ]
    },
    {
     "name": "stderr",
     "output_type": "stream",
     "text": [
      "WARNING:root:Component 10 is only active jointly with neighboring components. Space correlation calculation might be unreliable.\n",
      "WARNING:root:Component 11 is only active jointly with neighboring components. Space correlation calculation might be unreliable.\n",
      "WARNING:root:Component 15 is only active jointly with neighboring components. Space correlation calculation might be unreliable.\n",
      "WARNING:root:Component 3 is only active jointly with neighboring components. Space correlation calculation might be unreliable.\n",
      "WARNING:root:Component 27 is only active jointly with neighboring components. Space correlation calculation might be unreliable.\n",
      "WARNING:root:Component 5 is only active jointly with neighboring components. Space correlation calculation might be unreliable.\n",
      "WARNING:root:Component 9 is only active jointly with neighboring components. Space correlation calculation might be unreliable.\n",
      "WARNING:root:Component 38 is only active jointly with neighboring components. Space correlation calculation might be unreliable.\n",
      "WARNING:root:Component 15 is only active jointly with neighboring components. Space correlation calculation might be unreliable.\n",
      "2022-11-17 19:30:08.512216: E tensorflow/stream_executor/cuda/cuda_driver.cc:271] failed call to cuInit: CUDA_ERROR_NO_DEVICE: no CUDA-capable device is detected\n",
      "2022-11-17 19:30:08.512237: I tensorflow/stream_executor/cuda/cuda_diagnostics.cc:169] retrieving CUDA diagnostic information for host: kushal-desktop\n",
      "2022-11-17 19:30:08.512240: I tensorflow/stream_executor/cuda/cuda_diagnostics.cc:176] hostname: kushal-desktop\n",
      "2022-11-17 19:30:08.512323: I tensorflow/stream_executor/cuda/cuda_diagnostics.cc:200] libcuda reported version is: 515.48.7\n",
      "2022-11-17 19:30:08.512336: I tensorflow/stream_executor/cuda/cuda_diagnostics.cc:204] kernel reported version is: 515.48.7\n",
      "2022-11-17 19:30:08.512339: I tensorflow/stream_executor/cuda/cuda_diagnostics.cc:310] kernel version seems to match DSO: 515.48.7\n",
      "2022-11-17 19:30:08.512482: I tensorflow/core/platform/cpu_feature_guard.cc:193] This TensorFlow binary is optimized with oneAPI Deep Neural Network Library (oneDNN) to use the following CPU instructions in performance-critical operations:  AVX2 FMA\n",
      "To enable them in other operations, rebuild TensorFlow with the appropriate compiler flags.\n"
     ]
    },
    {
     "name": "stdout",
     "output_type": "stream",
     "text": [
      "performing CNMF\n",
      "fitting images\n",
      "refitting\n",
      "Eval\n",
      "USING MODEL:/home/kushal/caiman_data/model/cnn_model.json\n",
      "6/6 [==============================] - 0s 7ms/step\n",
      "cnmf params {'main': {'fr': 30, 'p': 1, 'nb': 2, 'merge_thr': 0.8, 'rf': 15, 'stride': 6, 'K': 8, 'gSig': (8, 8), 'ssub': 1, 'tsub': 1, 'method_init': 'greedy_roi', 'min_SNR': 2.0, 'rval_thr': 0.7, 'use_cnn': True, 'min_cnn_thr': 0.8, 'cnn_lowest': 0.1, 'decay_time': 0.4}, 'refit': True}\n"
     ]
    },
    {
     "name": "stderr",
     "output_type": "stream",
     "text": [
      "WARNING:root:Changing rf from 15 to 34 because the constraint rf > gSiz was not satisfied.\n"
     ]
    },
    {
     "name": "stdout",
     "output_type": "stream",
     "text": [
      "making memmap\n"
     ]
    },
    {
     "name": "stderr",
     "output_type": "stream",
     "text": [
      "WARNING:root:Component 11 is only active jointly with neighboring components. Space correlation calculation might be unreliable.\n",
      "WARNING:root:Component 9 is only active jointly with neighboring components. Space correlation calculation might be unreliable.\n",
      "WARNING:root:Component 7 is only active jointly with neighboring components. Space correlation calculation might be unreliable.\n",
      "WARNING:root:Component 12 is only active jointly with neighboring components. Space correlation calculation might be unreliable.\n",
      "WARNING:root:Component 14 is only active jointly with neighboring components. Space correlation calculation might be unreliable.\n",
      "WARNING:root:Component 15 is only active jointly with neighboring components. Space correlation calculation might be unreliable.\n",
      "WARNING:root:Component 42 is only active jointly with neighboring components. Space correlation calculation might be unreliable.\n",
      "WARNING:root:Component 36 is only active jointly with neighboring components. Space correlation calculation might be unreliable.\n",
      "WARNING:root:Component 41 is only active jointly with neighboring components. Space correlation calculation might be unreliable.\n",
      "2022-11-17 19:30:28.782387: E tensorflow/stream_executor/cuda/cuda_driver.cc:271] failed call to cuInit: CUDA_ERROR_NO_DEVICE: no CUDA-capable device is detected\n",
      "2022-11-17 19:30:28.782407: I tensorflow/stream_executor/cuda/cuda_diagnostics.cc:169] retrieving CUDA diagnostic information for host: kushal-desktop\n",
      "2022-11-17 19:30:28.782411: I tensorflow/stream_executor/cuda/cuda_diagnostics.cc:176] hostname: kushal-desktop\n",
      "2022-11-17 19:30:28.782506: I tensorflow/stream_executor/cuda/cuda_diagnostics.cc:200] libcuda reported version is: 515.48.7\n",
      "2022-11-17 19:30:28.782526: I tensorflow/stream_executor/cuda/cuda_diagnostics.cc:204] kernel reported version is: 515.48.7\n",
      "2022-11-17 19:30:28.782531: I tensorflow/stream_executor/cuda/cuda_diagnostics.cc:310] kernel version seems to match DSO: 515.48.7\n",
      "2022-11-17 19:30:28.782701: I tensorflow/core/platform/cpu_feature_guard.cc:193] This TensorFlow binary is optimized with oneAPI Deep Neural Network Library (oneDNN) to use the following CPU instructions in performance-critical operations:  AVX2 FMA\n",
      "To enable them in other operations, rebuild TensorFlow with the appropriate compiler flags.\n"
     ]
    },
    {
     "name": "stdout",
     "output_type": "stream",
     "text": [
      "performing CNMF\n",
      "fitting images\n",
      "refitting\n",
      "Eval\n",
      "USING MODEL:/home/kushal/caiman_data/model/cnn_model.json\n",
      "11/11 [==============================] - 0s 7ms/step\n",
      "cnmf params {'main': {'fr': 30, 'p': 1, 'nb': 2, 'merge_thr': 0.95, 'rf': 15, 'stride': 6, 'K': 8, 'gSig': (8, 8), 'ssub': 1, 'tsub': 1, 'method_init': 'greedy_roi', 'min_SNR': 2.0, 'rval_thr': 0.7, 'use_cnn': True, 'min_cnn_thr': 0.8, 'cnn_lowest': 0.1, 'decay_time': 0.4}, 'refit': True}\n"
     ]
    },
    {
     "name": "stderr",
     "output_type": "stream",
     "text": [
      "WARNING:root:Changing rf from 15 to 34 because the constraint rf > gSiz was not satisfied.\n"
     ]
    },
    {
     "name": "stdout",
     "output_type": "stream",
     "text": [
      "making memmap\n"
     ]
    },
    {
     "name": "stderr",
     "output_type": "stream",
     "text": [
      "WARNING:root:Component 3 is only active jointly with neighboring components. Space correlation calculation might be unreliable.\n",
      "WARNING:root:Component 9 is only active jointly with neighboring components. Space correlation calculation might be unreliable.\n",
      "WARNING:root:Component 21 is only active jointly with neighboring components. Space correlation calculation might be unreliable.\n",
      "WARNING:root:Component 18 is only active jointly with neighboring components. Space correlation calculation might be unreliable.\n",
      "WARNING:root:Component 21 is only active jointly with neighboring components. Space correlation calculation might be unreliable.\n",
      "WARNING:root:Component 33 is only active jointly with neighboring components. Space correlation calculation might be unreliable.\n",
      "WARNING:root:Component 32 is only active jointly with neighboring components. Space correlation calculation might be unreliable.\n",
      "WARNING:root:Component 36 is only active jointly with neighboring components. Space correlation calculation might be unreliable.\n",
      "WARNING:root:Component 42 is only active jointly with neighboring components. Space correlation calculation might be unreliable.\n",
      "WARNING:root:Component 39 is only active jointly with neighboring components. Space correlation calculation might be unreliable.\n",
      "WARNING:root:Component 35 is only active jointly with neighboring components. Space correlation calculation might be unreliable.\n",
      "WARNING:root:Component 34 is only active jointly with neighboring components. Space correlation calculation might be unreliable.\n",
      "WARNING:root:Component 41 is only active jointly with neighboring components. Space correlation calculation might be unreliable.\n",
      "WARNING:root:Component 49 is only active jointly with neighboring components. Space correlation calculation might be unreliable.\n",
      "2022-11-17 19:30:49.235413: E tensorflow/stream_executor/cuda/cuda_driver.cc:271] failed call to cuInit: CUDA_ERROR_NO_DEVICE: no CUDA-capable device is detected\n",
      "2022-11-17 19:30:49.235435: I tensorflow/stream_executor/cuda/cuda_diagnostics.cc:169] retrieving CUDA diagnostic information for host: kushal-desktop\n",
      "2022-11-17 19:30:49.235438: I tensorflow/stream_executor/cuda/cuda_diagnostics.cc:176] hostname: kushal-desktop\n",
      "2022-11-17 19:30:49.235519: I tensorflow/stream_executor/cuda/cuda_diagnostics.cc:200] libcuda reported version is: 515.48.7\n",
      "2022-11-17 19:30:49.235531: I tensorflow/stream_executor/cuda/cuda_diagnostics.cc:204] kernel reported version is: 515.48.7\n",
      "2022-11-17 19:30:49.235534: I tensorflow/stream_executor/cuda/cuda_diagnostics.cc:310] kernel version seems to match DSO: 515.48.7\n",
      "2022-11-17 19:30:49.235690: I tensorflow/core/platform/cpu_feature_guard.cc:193] This TensorFlow binary is optimized with oneAPI Deep Neural Network Library (oneDNN) to use the following CPU instructions in performance-critical operations:  AVX2 FMA\n",
      "To enable them in other operations, rebuild TensorFlow with the appropriate compiler flags.\n"
     ]
    },
    {
     "name": "stdout",
     "output_type": "stream",
     "text": [
      "performing CNMF\n",
      "fitting images\n",
      "refitting\n",
      "Eval\n",
      "USING MODEL:/home/kushal/caiman_data/model/cnn_model.json\n",
      "12/12 [==============================] - 0s 8ms/step\n"
     ]
    }
   ],
   "source": [
    "for i, row in df.iterrows():\n",
    "    if i < 5:\n",
    "        continue\n",
    "    process = df.iloc[i].caiman.run()\n",
    "    process.wait()\n",
    "    \n",
    "    # reload the batch dataframe if using the `local` backend\n",
    "    # the `local` backend is used by default on Windows\n",
    "    # this is unnecessary on Linux & Mac\n",
    "    if process.__class__.__name__ == \"DummyProcess\":\n",
    "        df = load_batch(df.paths.get_batch_path())"
   ]
  },
  {
   "cell_type": "markdown",
   "id": "7b34a336-d750-4347-bde5-c5abb555c885",
   "metadata": {
    "pycharm": {
     "name": "#%% md\n"
    }
   },
   "source": [
    "### Look at the CNMF outputs"
   ]
  },
  {
   "cell_type": "code",
   "execution_count": 27,
   "id": "0f0110b6-4367-46c0-86a1-9c985c6ea91e",
   "metadata": {
    "pycharm": {
     "name": "#%%\n"
    }
   },
   "outputs": [
    {
     "data": {
      "text/html": [
       "<div>\n",
       "<style scoped>\n",
       "    .dataframe tbody tr th:only-of-type {\n",
       "        vertical-align: middle;\n",
       "    }\n",
       "\n",
       "    .dataframe tbody tr th {\n",
       "        vertical-align: top;\n",
       "    }\n",
       "\n",
       "    .dataframe thead th {\n",
       "        text-align: right;\n",
       "    }\n",
       "</style>\n",
       "<table border=\"1\" class=\"dataframe\">\n",
       "  <thead>\n",
       "    <tr style=\"text-align: right;\">\n",
       "      <th></th>\n",
       "      <th>algo</th>\n",
       "      <th>item_name</th>\n",
       "      <th>input_movie_path</th>\n",
       "      <th>params</th>\n",
       "      <th>outputs</th>\n",
       "      <th>comments</th>\n",
       "      <th>uuid</th>\n",
       "    </tr>\n",
       "  </thead>\n",
       "  <tbody>\n",
       "    <tr>\n",
       "      <th>5</th>\n",
       "      <td>cnmf</td>\n",
       "      <td>my_movie</td>\n",
       "      <td>1baa9069-72c6-47ba-9cc4-41821d45676e/1baa9069-72c6-47ba-9cc4-41821d45676e-Sue_2x_3000_40_-46_els__d1_170_d2_170_d3_1...</td>\n",
       "      <td>{'main': {'fr': 30, 'p': 1, 'nb': 2, 'merge_thr': 0.85, 'rf': 15, 'stride': 6, 'K': 4, 'gSig': (4, 4), 'ssub': 1, 't...</td>\n",
       "      <td>{'mean-projection-path': 1aea4c5c-c134-492a-b035-1fe1a4d8328f/1aea4c5c-c134-492a-b035-1fe1a4d8328f_mean_projection.n...</td>\n",
       "      <td>None</td>\n",
       "      <td>1aea4c5c-c134-492a-b035-1fe1a4d8328f</td>\n",
       "    </tr>\n",
       "    <tr>\n",
       "      <th>6</th>\n",
       "      <td>cnmf</td>\n",
       "      <td>my_movie</td>\n",
       "      <td>1baa9069-72c6-47ba-9cc4-41821d45676e/1baa9069-72c6-47ba-9cc4-41821d45676e-Sue_2x_3000_40_-46_els__d1_170_d2_170_d3_1...</td>\n",
       "      <td>{'main': {'fr': 30, 'p': 1, 'nb': 2, 'merge_thr': 0.8, 'rf': 15, 'stride': 6, 'K': 4, 'gSig': (6, 6), 'ssub': 1, 'ts...</td>\n",
       "      <td>{'mean-projection-path': 509af957-4fbf-4ea7-bfda-f4e1fcb17513/509af957-4fbf-4ea7-bfda-f4e1fcb17513_mean_projection.n...</td>\n",
       "      <td>None</td>\n",
       "      <td>509af957-4fbf-4ea7-bfda-f4e1fcb17513</td>\n",
       "    </tr>\n",
       "    <tr>\n",
       "      <th>7</th>\n",
       "      <td>cnmf</td>\n",
       "      <td>my_movie</td>\n",
       "      <td>1baa9069-72c6-47ba-9cc4-41821d45676e/1baa9069-72c6-47ba-9cc4-41821d45676e-Sue_2x_3000_40_-46_els__d1_170_d2_170_d3_1...</td>\n",
       "      <td>{'main': {'fr': 30, 'p': 1, 'nb': 2, 'merge_thr': 0.95, 'rf': 15, 'stride': 6, 'K': 4, 'gSig': (6, 6), 'ssub': 1, 't...</td>\n",
       "      <td>{'mean-projection-path': 12971b4c-3ea7-4197-9d21-47091213efff/12971b4c-3ea7-4197-9d21-47091213efff_mean_projection.n...</td>\n",
       "      <td>None</td>\n",
       "      <td>12971b4c-3ea7-4197-9d21-47091213efff</td>\n",
       "    </tr>\n",
       "    <tr>\n",
       "      <th>8</th>\n",
       "      <td>cnmf</td>\n",
       "      <td>my_movie</td>\n",
       "      <td>1baa9069-72c6-47ba-9cc4-41821d45676e/1baa9069-72c6-47ba-9cc4-41821d45676e-Sue_2x_3000_40_-46_els__d1_170_d2_170_d3_1...</td>\n",
       "      <td>{'main': {'fr': 30, 'p': 1, 'nb': 2, 'merge_thr': 0.8, 'rf': 15, 'stride': 6, 'K': 8, 'gSig': (6, 6), 'ssub': 1, 'ts...</td>\n",
       "      <td>{'mean-projection-path': 5a98e4b0-97b1-421b-84c3-78a5629b105c/5a98e4b0-97b1-421b-84c3-78a5629b105c_mean_projection.n...</td>\n",
       "      <td>None</td>\n",
       "      <td>5a98e4b0-97b1-421b-84c3-78a5629b105c</td>\n",
       "    </tr>\n",
       "    <tr>\n",
       "      <th>9</th>\n",
       "      <td>cnmf</td>\n",
       "      <td>my_movie</td>\n",
       "      <td>1baa9069-72c6-47ba-9cc4-41821d45676e/1baa9069-72c6-47ba-9cc4-41821d45676e-Sue_2x_3000_40_-46_els__d1_170_d2_170_d3_1...</td>\n",
       "      <td>{'main': {'fr': 30, 'p': 1, 'nb': 2, 'merge_thr': 0.95, 'rf': 15, 'stride': 6, 'K': 8, 'gSig': (6, 6), 'ssub': 1, 't...</td>\n",
       "      <td>{'mean-projection-path': e706816c-9732-4c8d-9a63-89122cae55ef/e706816c-9732-4c8d-9a63-89122cae55ef_mean_projection.n...</td>\n",
       "      <td>None</td>\n",
       "      <td>e706816c-9732-4c8d-9a63-89122cae55ef</td>\n",
       "    </tr>\n",
       "    <tr>\n",
       "      <th>10</th>\n",
       "      <td>cnmf</td>\n",
       "      <td>my_movie</td>\n",
       "      <td>1baa9069-72c6-47ba-9cc4-41821d45676e/1baa9069-72c6-47ba-9cc4-41821d45676e-Sue_2x_3000_40_-46_els__d1_170_d2_170_d3_1...</td>\n",
       "      <td>{'main': {'fr': 30, 'p': 1, 'nb': 2, 'merge_thr': 0.8, 'rf': 15, 'stride': 6, 'K': 4, 'gSig': (8, 8), 'ssub': 1, 'ts...</td>\n",
       "      <td>{'mean-projection-path': 5e9f5a9e-72f3-4a1b-be4d-7dcd8d690db6/5e9f5a9e-72f3-4a1b-be4d-7dcd8d690db6_mean_projection.n...</td>\n",
       "      <td>None</td>\n",
       "      <td>5e9f5a9e-72f3-4a1b-be4d-7dcd8d690db6</td>\n",
       "    </tr>\n",
       "    <tr>\n",
       "      <th>11</th>\n",
       "      <td>cnmf</td>\n",
       "      <td>my_movie</td>\n",
       "      <td>1baa9069-72c6-47ba-9cc4-41821d45676e/1baa9069-72c6-47ba-9cc4-41821d45676e-Sue_2x_3000_40_-46_els__d1_170_d2_170_d3_1...</td>\n",
       "      <td>{'main': {'fr': 30, 'p': 1, 'nb': 2, 'merge_thr': 0.95, 'rf': 15, 'stride': 6, 'K': 4, 'gSig': (8, 8), 'ssub': 1, 't...</td>\n",
       "      <td>{'mean-projection-path': ea2ab82d-c50a-4de7-a56f-7f238b5f76d7/ea2ab82d-c50a-4de7-a56f-7f238b5f76d7_mean_projection.n...</td>\n",
       "      <td>None</td>\n",
       "      <td>ea2ab82d-c50a-4de7-a56f-7f238b5f76d7</td>\n",
       "    </tr>\n",
       "    <tr>\n",
       "      <th>12</th>\n",
       "      <td>cnmf</td>\n",
       "      <td>my_movie</td>\n",
       "      <td>1baa9069-72c6-47ba-9cc4-41821d45676e/1baa9069-72c6-47ba-9cc4-41821d45676e-Sue_2x_3000_40_-46_els__d1_170_d2_170_d3_1...</td>\n",
       "      <td>{'main': {'fr': 30, 'p': 1, 'nb': 2, 'merge_thr': 0.8, 'rf': 15, 'stride': 6, 'K': 8, 'gSig': (8, 8), 'ssub': 1, 'ts...</td>\n",
       "      <td>{'mean-projection-path': e24d0a4b-bf09-468b-a594-cff646d726e1/e24d0a4b-bf09-468b-a594-cff646d726e1_mean_projection.n...</td>\n",
       "      <td>None</td>\n",
       "      <td>e24d0a4b-bf09-468b-a594-cff646d726e1</td>\n",
       "    </tr>\n",
       "    <tr>\n",
       "      <th>13</th>\n",
       "      <td>cnmf</td>\n",
       "      <td>my_movie</td>\n",
       "      <td>1baa9069-72c6-47ba-9cc4-41821d45676e/1baa9069-72c6-47ba-9cc4-41821d45676e-Sue_2x_3000_40_-46_els__d1_170_d2_170_d3_1...</td>\n",
       "      <td>{'main': {'fr': 30, 'p': 1, 'nb': 2, 'merge_thr': 0.95, 'rf': 15, 'stride': 6, 'K': 8, 'gSig': (8, 8), 'ssub': 1, 't...</td>\n",
       "      <td>{'mean-projection-path': dbff0e6a-4220-46c3-88b9-eaa004f2850d/dbff0e6a-4220-46c3-88b9-eaa004f2850d_mean_projection.n...</td>\n",
       "      <td>None</td>\n",
       "      <td>dbff0e6a-4220-46c3-88b9-eaa004f2850d</td>\n",
       "    </tr>\n",
       "  </tbody>\n",
       "</table>\n",
       "</div>"
      ],
      "text/plain": [
       "    algo item_name  \\\n",
       "5   cnmf  my_movie   \n",
       "6   cnmf  my_movie   \n",
       "7   cnmf  my_movie   \n",
       "8   cnmf  my_movie   \n",
       "9   cnmf  my_movie   \n",
       "10  cnmf  my_movie   \n",
       "11  cnmf  my_movie   \n",
       "12  cnmf  my_movie   \n",
       "13  cnmf  my_movie   \n",
       "\n",
       "                                                                                                           input_movie_path  \\\n",
       "5   1baa9069-72c6-47ba-9cc4-41821d45676e/1baa9069-72c6-47ba-9cc4-41821d45676e-Sue_2x_3000_40_-46_els__d1_170_d2_170_d3_1...   \n",
       "6   1baa9069-72c6-47ba-9cc4-41821d45676e/1baa9069-72c6-47ba-9cc4-41821d45676e-Sue_2x_3000_40_-46_els__d1_170_d2_170_d3_1...   \n",
       "7   1baa9069-72c6-47ba-9cc4-41821d45676e/1baa9069-72c6-47ba-9cc4-41821d45676e-Sue_2x_3000_40_-46_els__d1_170_d2_170_d3_1...   \n",
       "8   1baa9069-72c6-47ba-9cc4-41821d45676e/1baa9069-72c6-47ba-9cc4-41821d45676e-Sue_2x_3000_40_-46_els__d1_170_d2_170_d3_1...   \n",
       "9   1baa9069-72c6-47ba-9cc4-41821d45676e/1baa9069-72c6-47ba-9cc4-41821d45676e-Sue_2x_3000_40_-46_els__d1_170_d2_170_d3_1...   \n",
       "10  1baa9069-72c6-47ba-9cc4-41821d45676e/1baa9069-72c6-47ba-9cc4-41821d45676e-Sue_2x_3000_40_-46_els__d1_170_d2_170_d3_1...   \n",
       "11  1baa9069-72c6-47ba-9cc4-41821d45676e/1baa9069-72c6-47ba-9cc4-41821d45676e-Sue_2x_3000_40_-46_els__d1_170_d2_170_d3_1...   \n",
       "12  1baa9069-72c6-47ba-9cc4-41821d45676e/1baa9069-72c6-47ba-9cc4-41821d45676e-Sue_2x_3000_40_-46_els__d1_170_d2_170_d3_1...   \n",
       "13  1baa9069-72c6-47ba-9cc4-41821d45676e/1baa9069-72c6-47ba-9cc4-41821d45676e-Sue_2x_3000_40_-46_els__d1_170_d2_170_d3_1...   \n",
       "\n",
       "                                                                                                                     params  \\\n",
       "5   {'main': {'fr': 30, 'p': 1, 'nb': 2, 'merge_thr': 0.85, 'rf': 15, 'stride': 6, 'K': 4, 'gSig': (4, 4), 'ssub': 1, 't...   \n",
       "6   {'main': {'fr': 30, 'p': 1, 'nb': 2, 'merge_thr': 0.8, 'rf': 15, 'stride': 6, 'K': 4, 'gSig': (6, 6), 'ssub': 1, 'ts...   \n",
       "7   {'main': {'fr': 30, 'p': 1, 'nb': 2, 'merge_thr': 0.95, 'rf': 15, 'stride': 6, 'K': 4, 'gSig': (6, 6), 'ssub': 1, 't...   \n",
       "8   {'main': {'fr': 30, 'p': 1, 'nb': 2, 'merge_thr': 0.8, 'rf': 15, 'stride': 6, 'K': 8, 'gSig': (6, 6), 'ssub': 1, 'ts...   \n",
       "9   {'main': {'fr': 30, 'p': 1, 'nb': 2, 'merge_thr': 0.95, 'rf': 15, 'stride': 6, 'K': 8, 'gSig': (6, 6), 'ssub': 1, 't...   \n",
       "10  {'main': {'fr': 30, 'p': 1, 'nb': 2, 'merge_thr': 0.8, 'rf': 15, 'stride': 6, 'K': 4, 'gSig': (8, 8), 'ssub': 1, 'ts...   \n",
       "11  {'main': {'fr': 30, 'p': 1, 'nb': 2, 'merge_thr': 0.95, 'rf': 15, 'stride': 6, 'K': 4, 'gSig': (8, 8), 'ssub': 1, 't...   \n",
       "12  {'main': {'fr': 30, 'p': 1, 'nb': 2, 'merge_thr': 0.8, 'rf': 15, 'stride': 6, 'K': 8, 'gSig': (8, 8), 'ssub': 1, 'ts...   \n",
       "13  {'main': {'fr': 30, 'p': 1, 'nb': 2, 'merge_thr': 0.95, 'rf': 15, 'stride': 6, 'K': 8, 'gSig': (8, 8), 'ssub': 1, 't...   \n",
       "\n",
       "                                                                                                                    outputs  \\\n",
       "5   {'mean-projection-path': 1aea4c5c-c134-492a-b035-1fe1a4d8328f/1aea4c5c-c134-492a-b035-1fe1a4d8328f_mean_projection.n...   \n",
       "6   {'mean-projection-path': 509af957-4fbf-4ea7-bfda-f4e1fcb17513/509af957-4fbf-4ea7-bfda-f4e1fcb17513_mean_projection.n...   \n",
       "7   {'mean-projection-path': 12971b4c-3ea7-4197-9d21-47091213efff/12971b4c-3ea7-4197-9d21-47091213efff_mean_projection.n...   \n",
       "8   {'mean-projection-path': 5a98e4b0-97b1-421b-84c3-78a5629b105c/5a98e4b0-97b1-421b-84c3-78a5629b105c_mean_projection.n...   \n",
       "9   {'mean-projection-path': e706816c-9732-4c8d-9a63-89122cae55ef/e706816c-9732-4c8d-9a63-89122cae55ef_mean_projection.n...   \n",
       "10  {'mean-projection-path': 5e9f5a9e-72f3-4a1b-be4d-7dcd8d690db6/5e9f5a9e-72f3-4a1b-be4d-7dcd8d690db6_mean_projection.n...   \n",
       "11  {'mean-projection-path': ea2ab82d-c50a-4de7-a56f-7f238b5f76d7/ea2ab82d-c50a-4de7-a56f-7f238b5f76d7_mean_projection.n...   \n",
       "12  {'mean-projection-path': e24d0a4b-bf09-468b-a594-cff646d726e1/e24d0a4b-bf09-468b-a594-cff646d726e1_mean_projection.n...   \n",
       "13  {'mean-projection-path': dbff0e6a-4220-46c3-88b9-eaa004f2850d/dbff0e6a-4220-46c3-88b9-eaa004f2850d_mean_projection.n...   \n",
       "\n",
       "   comments                                  uuid  \n",
       "5      None  1aea4c5c-c134-492a-b035-1fe1a4d8328f  \n",
       "6      None  509af957-4fbf-4ea7-bfda-f4e1fcb17513  \n",
       "7      None  12971b4c-3ea7-4197-9d21-47091213efff  \n",
       "8      None  5a98e4b0-97b1-421b-84c3-78a5629b105c  \n",
       "9      None  e706816c-9732-4c8d-9a63-89122cae55ef  \n",
       "10     None  5e9f5a9e-72f3-4a1b-be4d-7dcd8d690db6  \n",
       "11     None  ea2ab82d-c50a-4de7-a56f-7f238b5f76d7  \n",
       "12     None  e24d0a4b-bf09-468b-a594-cff646d726e1  \n",
       "13     None  dbff0e6a-4220-46c3-88b9-eaa004f2850d  "
      ]
     },
     "execution_count": 27,
     "metadata": {},
     "output_type": "execute_result"
    }
   ],
   "source": [
    "df = load_batch(batch_path)\n",
    "df[df[\"algo\"] == \"cnmf\"]"
   ]
  },
  {
   "cell_type": "markdown",
   "id": "2e995694-1417-44fe-b047-ca0c90d193eb",
   "metadata": {},
   "source": [
    "### Look at a single output. Note: you SHOULD NOT access these outputs dicts manually! Use the cnmf extensions to use the cnmf output. This is just FYI"
   ]
  },
  {
   "cell_type": "code",
   "execution_count": 28,
   "id": "84cf6eed-3072-43c6-af35-df6e15ca8335",
   "metadata": {
    "pycharm": {
     "name": "#%%\n"
    }
   },
   "outputs": [
    {
     "data": {
      "text/plain": [
       "{'mean-projection-path': PosixPath('dbff0e6a-4220-46c3-88b9-eaa004f2850d/dbff0e6a-4220-46c3-88b9-eaa004f2850d_mean_projection.npy'),\n",
       " 'std-projection-path': PosixPath('dbff0e6a-4220-46c3-88b9-eaa004f2850d/dbff0e6a-4220-46c3-88b9-eaa004f2850d_std_projection.npy'),\n",
       " 'max-projection-path': PosixPath('dbff0e6a-4220-46c3-88b9-eaa004f2850d/dbff0e6a-4220-46c3-88b9-eaa004f2850d_max_projection.npy'),\n",
       " 'cnmf-hdf5-path': PosixPath('dbff0e6a-4220-46c3-88b9-eaa004f2850d/dbff0e6a-4220-46c3-88b9-eaa004f2850d.hdf5'),\n",
       " 'cnmf-memmap-path': PosixPath('dbff0e6a-4220-46c3-88b9-eaa004f2850d/dbff0e6a-4220-46c3-88b9-eaa004f2850d_cnmf-memmap__d1_170_d2_170_d3_1_order_C_frames_3000_.mmap'),\n",
       " 'corr-img-path': PosixPath('dbff0e6a-4220-46c3-88b9-eaa004f2850d/dbff0e6a-4220-46c3-88b9-eaa004f2850d_cn.npy'),\n",
       " 'success': True,\n",
       " 'traceback': None}"
      ]
     },
     "execution_count": 28,
     "metadata": {},
     "output_type": "execute_result"
    }
   ],
   "source": [
    "df.iloc[-1][\"outputs\"]"
   ]
  },
  {
   "cell_type": "code",
   "execution_count": 29,
   "id": "a8668f23-6abd-4bb8-a5ab-3c367caef688",
   "metadata": {
    "pycharm": {
     "name": "#%%\n"
    }
   },
   "outputs": [
    {
     "data": {
      "text/plain": [
       "5     True\n",
       "6     True\n",
       "7     True\n",
       "8     True\n",
       "9     True\n",
       "10    True\n",
       "11    True\n",
       "12    True\n",
       "13    True\n",
       "Name: outputs, dtype: bool"
      ]
     },
     "execution_count": 29,
     "metadata": {},
     "output_type": "execute_result"
    }
   ],
   "source": [
    "# see which batch items completed succcessfully\n",
    "df[df[\"algo\"] == \"cnmf\"][\"outputs\"].apply(lambda x: x[\"success\"])"
   ]
  },
  {
   "cell_type": "markdown",
   "id": "5561bc54-c9b9-4a39-972c-a1dc2e7574ec",
   "metadata": {
    "pycharm": {
     "name": "#%% md\n"
    }
   },
   "source": [
    "# Load outputs\n",
    "For visualization"
   ]
  },
  {
   "cell_type": "code",
   "execution_count": 30,
   "id": "b9f1c3d6-d9a6-4895-bd26-3d4e89f123fa",
   "metadata": {
    "pycharm": {
     "name": "#%%\n"
    }
   },
   "outputs": [
    {
     "name": "stderr",
     "output_type": "stream",
     "text": [
      "/tmp/ipykernel_671788/2535920265.py:5: FutureWarning: You are trying to use the following experimental feature, this may change in the future without warning:\n",
      "CaimanSeriesExtensions.get_input_movie\n",
      "\n",
      "\n",
      "  cnmf_movie = df.iloc[index].caiman.get_input_movie()\n"
     ]
    }
   ],
   "source": [
    "# You can change this to plot the outputs for different batch items\n",
    "index = 5\n",
    "\n",
    "# get the motion corrected movie as a memmap\n",
    "cnmf_movie = df.iloc[index].caiman.get_input_movie()\n",
    "\n",
    "# we can get the contours of the spatial components\n",
    "coors, coms = df.iloc[index].cnmf.get_contours(component_indices=\"good\")\n",
    "\n",
    "# get bad components\n",
    "coors_bad, coms_bad = df.iloc[index].cnmf.get_contours(component_indices=\"bad\")"
   ]
  },
  {
   "cell_type": "markdown",
   "id": "ed51988f-430f-462d-a874-cf8e3bdf306f",
   "metadata": {
    "pycharm": {
     "name": "#%% md\n"
    }
   },
   "source": [
    "# Plot contours for good components on the motion corrected movie"
   ]
  },
  {
   "cell_type": "code",
   "execution_count": 31,
   "id": "b077726f-46fa-4387-8697-8e8d17d61895",
   "metadata": {
    "pycharm": {
     "name": "#%%\n"
    }
   },
   "outputs": [
    {
     "data": {
      "application/vnd.jupyter.widget-view+json": {
       "model_id": "2b0847cd3414462c849ffbd8a8a4babc",
       "version_major": 2,
       "version_minor": 0
      },
      "text/plain": [
       "RFBOutputContext()"
      ]
     },
     "metadata": {},
     "output_type": "display_data"
    },
    {
     "data": {
      "application/vnd.jupyter.widget-view+json": {
       "model_id": "14e5ecf254c44af4bddf9916e57f6e19",
       "version_major": 2,
       "version_minor": 0
      },
      "text/plain": [
       "VBox(children=(JupyterWgpuCanvas(), IntSlider(value=0, max=2999)))"
      ]
     },
     "metadata": {},
     "output_type": "display_data"
    }
   ],
   "source": [
    "# create a simple plot\n",
    "plot = Plot()\n",
    "\n",
    "# plot the first frame, transpose so it lines up with contours\n",
    "image_graphic = plot.image(data=cnmf_movie[0].T, cmap='gray')\n",
    "\n",
    "# plot all the good contours in cyan\n",
    "for coor in coors:\n",
    "    # just [R, G, B, A] -> red, green, blue, alpha (transparency)\n",
    "    colors = [0, 1, 1, 0.7]\n",
    "    plot.line(data=coor, zlevel=1, colors=colors)\n",
    "\n",
    "# plot all bad good contours in magenta\n",
    "for coor in coors_bad:\n",
    "    colors = [1, 0, 1, 0.7]\n",
    "    plot.line(data=coor, zlevel=1, colors=colors)\n",
    "    \n",
    "# make a slider like for mcorr\n",
    "slider_cnmf = IntSlider(value=0, min=0, max=cnmf_movie.shape[0] - 1, step=1)\n",
    "    \n",
    "previous_ix = 0\n",
    "\n",
    "# animate func just like mcorr viz\n",
    "def update_frame_cnmf():\n",
    "    if slider_cnmf.value == previous_ix:\n",
    "        return\n",
    "    # update with frame from slider value, again transpose to line up with contours\n",
    "    image_graphic.update_data(data=cnmf_movie[slider_cnmf.value].T)\n",
    "\n",
    "plot.add_animations([update_frame_cnmf])\n",
    "    \n",
    "VBox([plot.show(), slider_cnmf])"
   ]
  },
  {
   "cell_type": "code",
   "execution_count": 32,
   "id": "870bb2d9-5291-4b5d-bac8-dd41e8ca2151",
   "metadata": {
    "pycharm": {
     "name": "#%%\n"
    }
   },
   "outputs": [],
   "source": [
    "plot.canvas.close()"
   ]
  },
  {
   "cell_type": "markdown",
   "id": "da7ad740-1492-4525-bfb8-e8590096883f",
   "metadata": {
    "pycharm": {
     "name": "#%% md\n"
    }
   },
   "source": [
    "# View the reconstructed movie, residuals, and reconstructed background"
   ]
  },
  {
   "cell_type": "code",
   "execution_count": 33,
   "id": "9b2f0c68-d193-44e2-8f7a-443591d58641",
   "metadata": {
    "pycharm": {
     "name": "#%%\n"
    }
   },
   "outputs": [
    {
     "data": {
      "application/vnd.jupyter.widget-view+json": {
       "model_id": "1a2228aa461b4ea69d2bc0b1d33845ae",
       "version_major": 2,
       "version_minor": 0
      },
      "text/plain": [
       "RFBOutputContext()"
      ]
     },
     "metadata": {},
     "output_type": "display_data"
    },
    {
     "data": {
      "application/vnd.jupyter.widget-view+json": {
       "model_id": "9003bafd40964c10bfb3411ae1068ab5",
       "version_major": 2,
       "version_minor": 0
      },
      "text/plain": [
       "VBox(children=(JupyterWgpuCanvas(), IntSlider(value=0, max=2999)))"
      ]
     },
     "metadata": {},
     "output_type": "display_data"
    }
   ],
   "source": [
    "# useful names for the subplots, this is optional\n",
    "subplot_names = [\n",
    "    [\"mcorr\", \"rcm\"],\n",
    "    [\"resid\", \"rcb\"]\n",
    "]\n",
    "\n",
    "# gridplot with 1 row, 2 columns\n",
    "gp_rcm = GridPlot(\n",
    "    shape=(2, 2),\n",
    "    controllers=\"sync\",\n",
    "    names=subplot_names,\n",
    ")\n",
    "\n",
    "# for the mcorr movie\n",
    "mcorr_graphic = Image(\n",
    "    data=cnmf_movie[0].T, # image data for the first frame\n",
    "    cmap='gnuplot2' # my favorite colormap\n",
    ")\n",
    "\n",
    "# get the first frame of reconstructed movie\n",
    "rcm0 = df.iloc[index].cnmf.get_rcm(component_indices=\"good\", frame_indices=0)[0]\n",
    "\n",
    "# create the graphic\n",
    "rcm_graphic = Image(\n",
    "    data=rcm0.T, # image data for the first frame\n",
    "    vmin=0,\n",
    "    vmax=100,\n",
    "    cmap='gnuplot2'\n",
    ")\n",
    "\n",
    "# residuals\n",
    "resid0 = df.iloc[index].cnmf.get_residuals(frame_indices=0)[0]\n",
    "resid_graphic = Image(\n",
    "    data=resid0,\n",
    "    cmap=\"gnuplot2\",\n",
    ")\n",
    "\n",
    "# reconstructed background, b * f\n",
    "recon_bg0 = df.iloc[index].cnmf.get_rcb(frame_indices=0)[0]\n",
    "recon_bg_graphic = Image(\n",
    "    data=recon_bg0,\n",
    "    cmap=\"gnuplot2\",\n",
    ")\n",
    "\n",
    "\n",
    "# add the grahpics to the subplots\n",
    "gp_rcm[\"mcorr\"].add_graphic(mcorr_graphic)\n",
    "gp_rcm[\"rcm\"].add_graphic(rcm_graphic)\n",
    "gp_rcm[\"resid\"].add_graphic(resid_graphic)\n",
    "gp_rcm[\"rcb\"].add_graphic(recon_bg_graphic)\n",
    "\n",
    "# you can also use numerical indexing if you don't specify subplot names\n",
    "# gp_rcm[0, 0].add_graphic(mcorr_graphic)\n",
    "# gp_rcm[0, 1].add_graphic(rcm_graphic)\n",
    "# gp_rcm[1, 0].add_graphic(resid_graphic)\n",
    "# gp_rcm[1, 1].add_graphic(recon_bg_graphic)\n",
    "\n",
    "\n",
    "# a function to update the frame based on the slider value\n",
    "def update_rcm_frame(change):\n",
    "    frame_ix = change[\"new\"]\n",
    "    \n",
    "    mcorr_graphic.update_data(cnmf_movie[slider_rcm.value].T)\n",
    "        \n",
    "    # get the A x C for just 1 frame\n",
    "    rcm_frame = df.iloc[index].cnmf.get_rcm(component_indices=\"good\", frame_indices=slider_rcm.value)[0]\n",
    "    rcm_graphic.update_data(rcm_frame.T)\n",
    "    \n",
    "    # residuals for 1 frame\n",
    "    resid_frame = df.iloc[index].cnmf.get_residuals(frame_indices=slider_rcm.value)[0]\n",
    "    resid_graphic.update_data(resid_frame)\n",
    "    \n",
    "    # b * f for 1 frame\n",
    "    recon_bg_frame = df.iloc[index].cnmf.get_rcb(frame_indices=slider_rcm.value)[0]\n",
    "    recon_bg_graphic.update_data(recon_bg_frame)\n",
    "    \n",
    "# make a GUI slider\n",
    "slider_rcm = IntSlider(value=0, min=0, max=cnmf_movie.shape[0] - 1, step=1)\n",
    "\n",
    "slider_rcm.observe(update_rcm_frame, names=\"value\")\n",
    "\n",
    "VBox([gp_rcm.show(), slider_rcm])"
   ]
  },
  {
   "cell_type": "markdown",
   "id": "e5e0abad-00a1-4719-a3ee-7326dbd3a46c",
   "metadata": {},
   "source": [
    "### Close the canvas to free up the GPU"
   ]
  },
  {
   "cell_type": "code",
   "execution_count": 34,
   "id": "46024add-4576-4c8b-85fd-3e6f3052a919",
   "metadata": {},
   "outputs": [],
   "source": [
    "gp_rcm.canvas.close()"
   ]
  },
  {
   "cell_type": "markdown",
   "id": "4ed6855b-429b-4181-ba9d-4076e48b4ad5",
   "metadata": {},
   "source": [
    "### You can get the temporal components using `cnmf.get_temporal()`. Visualize using `seaborn`, stacked line plots and heatmaps are not yet implemented in `fastplotlib`."
   ]
  },
  {
   "cell_type": "code",
   "execution_count": 35,
   "id": "6f957582-1a74-4d59-b6b5-f1ca628df0fa",
   "metadata": {
    "pycharm": {
     "name": "#%%\n"
    }
   },
   "outputs": [
    {
     "data": {
      "text/plain": [
       "<AxesSubplot:>"
      ]
     },
     "execution_count": 35,
     "metadata": {},
     "output_type": "execute_result"
    },
    {
     "data": {
      "image/png": "[encoded data removed]",
      "text/plain": [
       "<Figure size 720x720 with 2 Axes>"
      ]
     },
     "metadata": {
      "needs_background": "light"
     },
     "output_type": "display_data"
    }
   ],
   "source": [
    "import seaborn as sns # if you have seaborn installed\n",
    "\n",
    "fig = plt.figure(figsize=(10, 10))\n",
    "sns.heatmap(df.iloc[index].cnmf.get_temporal())"
   ]
  },
  {
   "cell_type": "markdown",
   "id": "8b4aec71-43d6-45bc-81f3-a952a24e294a",
   "metadata": {},
   "source": [
    "# Component Evaluation\n",
    "\n",
    "These are some ipywidgets that you can use for interactive component evaluation"
   ]
  },
  {
   "cell_type": "code",
   "execution_count": 36,
   "id": "182458d0-ddc0-4995-b429-20f780914917",
   "metadata": {},
   "outputs": [],
   "source": [
    "# import some stuff\n",
    "from ipywidgets import FloatSlider, FloatText, Label, HBox, VBox, link, Layout\n",
    "from collections import OrderedDict"
   ]
  },
  {
   "cell_type": "markdown",
   "id": "61783906-51fb-4c6b-a590-a580e8ff6e21",
   "metadata": {},
   "source": [
    "#### This is just GUI layout stuff"
   ]
  },
  {
   "cell_type": "code",
   "execution_count": 37,
   "id": "a0f90b11-5400-4a09-9a9f-5b56a0468226",
   "metadata": {},
   "outputs": [],
   "source": [
    "# low thresholds\n",
    "lt = OrderedDict(\n",
    "    rval_lowest=(-1.0, -1.0, 1.0), # (val, min, max)\n",
    "    SNR_lowest=(0.5, 0., 100), \n",
    "    cnn_lowest=(0.1, 0., 1.0),\n",
    ")\n",
    "\n",
    "# high thresholds\n",
    "ht = OrderedDict(\n",
    "    rval_thr=(0.8, 0., 1.0),\n",
    "    min_SNR=(2.5, 0., 100),\n",
    "    min_cnn_thr=(0.9, 0., 1.0),\n",
    ")\n",
    "\n",
    "lw = list()\n",
    "for k in lt:\n",
    "    kwargs = dict(value=lt[k][0], min=lt[k][1], max=lt[k][2], step=0.01, description=k)\n",
    "    slider = FloatSlider(**kwargs)\n",
    "    entry = FloatText(**kwargs, layout=Layout(width=\"150px\"))\n",
    "    \n",
    "    link((slider, \"value\"), (entry, \"value\"))\n",
    "    \n",
    "    lw.append(HBox([slider, entry]))\n",
    "    \n",
    "hw = list()\n",
    "for k in ht:\n",
    "    kwargs = dict(value=ht[k][0], min=ht[k][1], max=ht[k][2], step=0.01, description=k)\n",
    "    slider = FloatSlider(**kwargs)\n",
    "    entry = FloatText(**kwargs, layout=Layout(width=\"150px\"))\n",
    "    \n",
    "    link((slider, \"value\"), (entry, \"value\"))\n",
    "    \n",
    "    hw.append(HBox([slider, entry]))\n",
    "\n",
    "def get_eval_params():\n",
    "    \"\"\"get the values from the GUI\"\"\"\n",
    "    _eval_params = [{w.children[0].description: w.children[0].value for w in ws} for ws in [lw, hw]]\n",
    "    return {**_eval_params[0], **_eval_params[1]}"
   ]
  },
  {
   "cell_type": "markdown",
   "id": "2ce3a74f-dab8-49a4-9397-fd8576568506",
   "metadata": {},
   "source": [
    "### Get the contour coordinates and cnmf movie for the 5th index"
   ]
  },
  {
   "cell_type": "code",
   "execution_count": 38,
   "id": "b7b857ee-4ac5-43f5-af0f-f52e89699bec",
   "metadata": {},
   "outputs": [
    {
     "name": "stderr",
     "output_type": "stream",
     "text": [
      "/tmp/ipykernel_671788/3614576863.py:5: FutureWarning: You are trying to use the following experimental feature, this may change in the future without warning:\n",
      "CaimanSeriesExtensions.get_input_movie\n",
      "\n",
      "\n",
      "  cnmf_movie = df.iloc[index].caiman.get_input_movie()\n"
     ]
    }
   ],
   "source": [
    "# You can change this index to do eval for different batch items\n",
    "index = 5\n",
    "\n",
    "# get the motion corrected movie as a memmap\n",
    "cnmf_movie = df.iloc[index].caiman.get_input_movie()\n",
    "\n",
    "# we can get the contours of the spatial components\n",
    "coors_all, coms_all = df.iloc[index].cnmf.get_contours(component_indices=\"all\")\n",
    "\n",
    "# initial good and bad component indices\n",
    "good_ixs = df.iloc[index].cnmf.get_good_components()\n",
    "bad_ixs = df.iloc[index].cnmf.get_bad_components()\n",
    "\n",
    "# RGBA array, good = cyan, bad = magenta\n",
    "good_color = [0, 1, 1, 0.7]\n",
    "bad_color = [1, 0, 1, 0.7]"
   ]
  },
  {
   "cell_type": "markdown",
   "id": "d55bad92-ae75-41dc-a0b3-dddcadf1e893",
   "metadata": {},
   "source": [
    "#### Sanity check"
   ]
  },
  {
   "cell_type": "code",
   "execution_count": 39,
   "id": "84308c34-b6a3-42ef-ae91-8765b3c35184",
   "metadata": {},
   "outputs": [
    {
     "data": {
      "text/plain": [
       "True"
      ]
     },
     "execution_count": 39,
     "metadata": {},
     "output_type": "execute_result"
    }
   ],
   "source": [
    "len(coors_all) == good_ixs.size + bad_ixs.size"
   ]
  },
  {
   "cell_type": "markdown",
   "id": "bf88409b-49bf-4f70-a5b9-81f7e1d2e94d",
   "metadata": {},
   "source": [
    "### This plot updates the contour colors interactively to label them as bad or good. It also stores them in the batch item's params dict in a new key called `\"eval\"`, you can view them using `df.iloc[index].params`."
   ]
  },
  {
   "cell_type": "code",
   "execution_count": 40,
   "id": "1199b063-4d1e-471b-9ad3-f66b8e7ecc4a",
   "metadata": {},
   "outputs": [
    {
     "data": {
      "application/vnd.jupyter.widget-view+json": {
       "model_id": "3d56f883d70c4536a4872037236e8b8b",
       "version_major": 2,
       "version_minor": 0
      },
      "text/plain": [
       "RFBOutputContext()"
      ]
     },
     "metadata": {},
     "output_type": "display_data"
    },
    {
     "data": {
      "application/vnd.jupyter.widget-view+json": {
       "model_id": "ad4202b4f6844ede9a2f89778d057b3f",
       "version_major": 2,
       "version_minor": 0
      },
      "text/plain": [
       "VBox(children=(JupyterWgpuCanvas(), IntSlider(value=0, description='frame index', max=2999), Label(value=''), …"
      ]
     },
     "metadata": {},
     "output_type": "display_data"
    }
   ],
   "source": [
    "eval_params = get_eval_params()\n",
    "\n",
    "# create a simple plot\n",
    "plot = Plot()\n",
    "\n",
    "# plot the first frame, transpose so it lines up with contours\n",
    "image_graphic = plot.image(data=cnmf_movie[0].T, cmap='gray')\n",
    "\n",
    "# plot contours according to good/bad colors\n",
    "contour_graphics = list()\n",
    "for ix, coor in enumerate(coors_all):\n",
    "    if ix in good_ixs:\n",
    "        color = good_color\n",
    "    elif ix in bad_ixs:\n",
    "        color = bad_color\n",
    "    cg = plot.line(data=coor, zlevel=1, colors=color)\n",
    "    contour_graphics.append(cg)\n",
    "    \n",
    "# make a slider like for mcorr\n",
    "slider_cnmf = IntSlider(value=0, min=0, max=cnmf_movie.shape[0] - 1, step=1, description=\"frame index\")\n",
    "    \n",
    "previous_ix = 0\n",
    "\n",
    "label_eval = Label(value=\"\")\n",
    "\n",
    "# animate func just like mcorr viz\n",
    "def update_frame_cnmf():\n",
    "    global eval_params\n",
    "    global previous_ix\n",
    "    if slider_cnmf.value != previous_ix:\n",
    "        # update with frame from slider value, again transpose to line up with contours\n",
    "        image_graphic.update_data(data=cnmf_movie[slider_cnmf.value].T)\n",
    "        previous_ix = slider_cnmf.value\n",
    "    \n",
    "    new_eval_params = get_eval_params()\n",
    "    if new_eval_params == eval_params:\n",
    "        return\n",
    "    label_eval.value = \"Please wait running eval...\"\n",
    "    # run eval\n",
    "    df.iloc[index].cnmf.run_eval(new_eval_params)\n",
    "    \n",
    "    # get the new indices after eval\n",
    "    good_ixs = df.iloc[index].cnmf.get_good_components()\n",
    "    bad_ixs = df.iloc[index].cnmf.get_bad_components()\n",
    "\n",
    "    for ix, cg in enumerate(contour_graphics):\n",
    "        if ix in good_ixs:\n",
    "            color = good_color\n",
    "        elif ix in bad_ixs:\n",
    "            color = bad_color\n",
    "        cg.update_colors(color)\n",
    "    label_eval.value= \"Eval done!\"\n",
    "    eval_params = new_eval_params\n",
    "\n",
    "plot.add_animations([update_frame_cnmf])\n",
    "    \n",
    "VBox([\n",
    "    plot.show(), \n",
    "    slider_cnmf,\n",
    "    label_eval,\n",
    "    Label(value=\"Low Thresholds\"),\n",
    "    *lw,\n",
    "    Label(value=\"High Thresholds\"),\n",
    "    *hw   \n",
    "])"
   ]
  },
  {
   "cell_type": "markdown",
   "id": "cd969a77-1577-48e8-af9f-57eb2920b30c",
   "metadata": {},
   "source": [
    "### Eval params are stored, you can view them here:"
   ]
  },
  {
   "cell_type": "code",
   "execution_count": 41,
   "id": "e2d56cb6-f070-4c1c-96a0-6a147bb19351",
   "metadata": {},
   "outputs": [
    {
     "data": {
      "text/plain": [
       "{'main': {'fr': 30,\n",
       "  'p': 1,\n",
       "  'nb': 2,\n",
       "  'merge_thr': 0.85,\n",
       "  'rf': 15,\n",
       "  'stride': 6,\n",
       "  'K': 4,\n",
       "  'gSig': (4, 4),\n",
       "  'ssub': 1,\n",
       "  'tsub': 1,\n",
       "  'method_init': 'greedy_roi',\n",
       "  'min_SNR': 2.0,\n",
       "  'rval_thr': 0.7,\n",
       "  'use_cnn': True,\n",
       "  'min_cnn_thr': 0.8,\n",
       "  'cnn_lowest': 0.1,\n",
       "  'decay_time': 0.4},\n",
       " 'refit': True,\n",
       " 'eval': {'rval_lowest': -1.0,\n",
       "  'SNR_lowest': 1.47,\n",
       "  'cnn_lowest': 0.24,\n",
       "  'rval_thr': 0.8,\n",
       "  'min_SNR': 0.0,\n",
       "  'min_cnn_thr': 0.72}}"
      ]
     },
     "execution_count": 41,
     "metadata": {},
     "output_type": "execute_result"
    }
   ],
   "source": [
    "df.iloc[index].params"
   ]
  },
  {
   "cell_type": "markdown",
   "id": "801f8820-9d61-4aef-934e-c3ac0554fb03",
   "metadata": {},
   "source": [
    "### If you want to save them to disk use the `caiman.save_to_disk()` extension. Changes to the DataFrame are only saved when you use `caiman.add_item()`. In other cases, such as saving the eval params, you can use `save_to_disk()`"
   ]
  },
  {
   "cell_type": "code",
   "execution_count": 44,
   "id": "3e109cab-420f-4938-a0e9-dede35d85896",
   "metadata": {},
   "outputs": [],
   "source": [
    "df.caiman.save_to_disk()"
   ]
  },
  {
   "cell_type": "code",
   "execution_count": null,
   "id": "7ae6d9ac-b6d7-4294-82e9-c283d46d1cbf",
   "metadata": {},
   "outputs": [],
   "source": []
  }
 ],
 "metadata": {
  "kernelspec": {
   "display_name": "Python 3 (ipykernel)",
   "language": "python",
   "name": "python3"
  },
  "language_info": {
   "codemirror_mode": {
    "name": "ipython",
    "version": 3
   },
   "file_extension": ".py",
   "mimetype": "text/x-python",
   "name": "python",
   "nbconvert_exporter": "python",
   "pygments_lexer": "ipython3",
   "version": "3.10.5"
  }
 },
 "nbformat": 4,
 "nbformat_minor": 5
}
