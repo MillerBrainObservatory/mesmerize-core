{
 "cells": [
  {
   "cell_type": "code",
   "execution_count": 1,
   "id": "175ae92b-73fa-44d8-ab75-fb3399f68e12",
   "metadata": {
    "pycharm": {
     "name": "#%%\n"
    },
    "tags": []
   },
   "outputs": [
    {
     "name": "stderr",
     "output_type": "stream",
     "text": [
      "2023-01-08 01:22:41.815989: I tensorflow/core/platform/cpu_feature_guard.cc:193] This TensorFlow binary is optimized with oneAPI Deep Neural Network Library (oneDNN) to use the following CPU instructions in performance-critical operations:  AVX2 FMA\n",
      "To enable them in other operations, rebuild TensorFlow with the appropriate compiler flags.\n",
      "2023-01-08 01:22:41.899785: E tensorflow/stream_executor/cuda/cuda_blas.cc:2981] Unable to register cuBLAS factory: Attempting to register factory for plugin cuBLAS when one has already been registered\n",
      "2023-01-08 01:22:42.272444: W tensorflow/stream_executor/platform/default/dso_loader.cc:64] Could not load dynamic library 'libnvinfer.so.7'; dlerror: libnvinfer.so.7: cannot open shared object file: No such file or directory; LD_LIBRARY_PATH: /home/kushalk/python-venvs/mescore/lib/python3.10/site-packages/cv2/../../lib64:/usr/local/cuda-11.2/lib64:/usr/local/cuda-11.2/lib64\n",
      "2023-01-08 01:22:42.272496: W tensorflow/stream_executor/platform/default/dso_loader.cc:64] Could not load dynamic library 'libnvinfer_plugin.so.7'; dlerror: libnvinfer_plugin.so.7: cannot open shared object file: No such file or directory; LD_LIBRARY_PATH: /home/kushalk/python-venvs/mescore/lib/python3.10/site-packages/cv2/../../lib64:/usr/local/cuda-11.2/lib64:/usr/local/cuda-11.2/lib64\n",
      "2023-01-08 01:22:42.272501: W tensorflow/compiler/tf2tensorrt/utils/py_utils.cc:38] TF-TRT Warning: Cannot dlopen some TensorRT libraries. If you would like to use Nvidia GPU with TensorRT, please make sure the missing libraries mentioned above are installed properly.\n"
     ]
    }
   ],
   "source": [
    "from mesmerize_core import *\n",
    "import numpy as np\n",
    "from copy import deepcopy\n",
    "import pandas as pd"
   ]
  },
  {
   "cell_type": "markdown",
   "id": "c646c333-1306-4043-b5aa-3cb63fd9966f",
   "metadata": {},
   "source": [
    "**You will need `fastplotlib` installed for the visualizations**"
   ]
  },
  {
   "cell_type": "code",
   "execution_count": 2,
   "id": "3402ada9-b273-4660-b736-83668e036426",
   "metadata": {
    "pycharm": {
     "name": "#%%\n"
    }
   },
   "outputs": [],
   "source": [
    "from fastplotlib import ImageWidget\n",
    "from ipywidgets import VBox, IntSlider, Layout"
   ]
  },
  {
   "cell_type": "code",
   "execution_count": 3,
   "id": "d8e11779-e36d-42d6-a885-8a527742195b",
   "metadata": {},
   "outputs": [],
   "source": [
    "pd.options.display.max_colwidth = 120"
   ]
  },
  {
   "cell_type": "markdown",
   "id": "c16f235f-703b-4004-9cde-46794cafcf4a",
   "metadata": {
    "pycharm": {
     "name": "#%% md\n"
    }
   },
   "source": [
    "# Paths\n",
    "These are the only variables you will need to modify in this demo notebook. You will need to set the paths according to your own `caiman_data` dir path\n",
    "\n",
    "Explanation:\n",
    "\n",
    "`set_parent_raw_data_path()` - This function from `mesmerize_core` sets the **top level raw data directory**. It is generally the top level directory for your raw experimental data. This allows you to move your experiment directory structure between computers, as long as you keep everything under the parent path the same.\n",
    "\n",
    "For example,\n",
    "\n",
    "On Linux based systems if you have your experimental data in the following dir:\n",
    "\n",
    "`/data/my_name/exp_top_level/....`\n",
    "\n",
    "You could set `/data/my_name` as the \"parent raw data path\", and you can then move `exp_top_level/...` between computers.\n",
    "\n",
    "On windows:\n",
    "\n",
    "`D:/my_name/exp_top_level/...`\n",
    "\n",
    "You could set `D:/my_name` as the parent raw data path, and you can then move `exp_top_level/...` between computers."
   ]
  },
  {
   "cell_type": "code",
   "execution_count": 4,
   "id": "233fa7a9-c623-48bd-aa2a-ef41a7204874",
   "metadata": {
    "pycharm": {
     "name": "#%%\n"
    }
   },
   "outputs": [
    {
     "data": {
      "text/plain": [
       "PosixPath('/home/kushalk/caiman_data')"
      ]
     },
     "execution_count": 4,
     "metadata": {},
     "output_type": "execute_result"
    }
   ],
   "source": [
    "# for this demo set this dir as the path to your `caiman_data` dir\n",
    "set_parent_raw_data_path(\"/home/kushalk/caiman_data/\")"
   ]
  },
  {
   "cell_type": "markdown",
   "id": "af643600-187a-4812-8fab-d277542aae45",
   "metadata": {},
   "source": [
    "### Batch path, this is where caiman outputs will be organized\n",
    "\n",
    "This can be anywhere, it does not need to be under the parent raw data path.\n",
    "\n",
    "**We recommend using [pathlib](https://docs.python.org/3/library/pathlib.html) instead of manually managing paths as strings. `pathlib` is just a part of the Python standard library, it makes it much easier to deal with paths and saves a lot of time in the long-run! It also makes your paths compatible across operating systems.**"
   ]
  },
  {
   "cell_type": "code",
   "execution_count": 5,
   "id": "97455d84-91d8-4b3b-88d8-c8772d03c736",
   "metadata": {
    "pycharm": {
     "name": "#%%\n"
    }
   },
   "outputs": [],
   "source": [
    "batch_path = get_parent_raw_data_path().joinpath(\"mesmerize-core-batch/batch.pickle\")"
   ]
  },
  {
   "cell_type": "markdown",
   "id": "c78dbc4e-fda3-48b5-a736-3777ab727648",
   "metadata": {},
   "source": [
    "# Create a new batch\n",
    "\n",
    "This creates a new pandas `DataFrame` with the columns that are necessary for mesmerize. In mesmerize we call this the **batch DataFrame**. You can add additional columns relevant to your experiment, but do not modify columns used by mesmerize.\n",
    "\n",
    "Note that when you create a DataFrame you will need to use `load_batch()` to load it later. You cannot use `create_batch()` to overwrite an existing batch DataFrame"
   ]
  },
  {
   "cell_type": "code",
   "execution_count": 6,
   "id": "ee720c3f-6eab-4552-bee4-01357d38e3cd",
   "metadata": {
    "pycharm": {
     "name": "#%%\n"
    }
   },
   "outputs": [],
   "source": [
    "# create a new batch\n",
    "df = create_batch(batch_path)\n",
    "# to load existing batches use `load_batch()`\n",
    "# df = load_batch(batch_path)"
   ]
  },
  {
   "cell_type": "markdown",
   "id": "363200f1-07ac-496d-9530-debbcd78e6f8",
   "metadata": {},
   "source": [
    "# View the dataframe\n",
    "\n",
    "It is empty with the appropriate columns for mesmerize"
   ]
  },
  {
   "cell_type": "code",
   "execution_count": 7,
   "id": "9b488891-0314-4d64-9f53-73e2cd8c6288",
   "metadata": {},
   "outputs": [
    {
     "data": {
      "text/html": [
       "<div>\n",
       "<style scoped>\n",
       "    .dataframe tbody tr th:only-of-type {\n",
       "        vertical-align: middle;\n",
       "    }\n",
       "\n",
       "    .dataframe tbody tr th {\n",
       "        vertical-align: top;\n",
       "    }\n",
       "\n",
       "    .dataframe thead th {\n",
       "        text-align: right;\n",
       "    }\n",
       "</style>\n",
       "<table border=\"1\" class=\"dataframe\">\n",
       "  <thead>\n",
       "    <tr style=\"text-align: right;\">\n",
       "      <th></th>\n",
       "      <th>algo</th>\n",
       "      <th>item_name</th>\n",
       "      <th>input_movie_path</th>\n",
       "      <th>params</th>\n",
       "      <th>outputs</th>\n",
       "      <th>comments</th>\n",
       "      <th>uuid</th>\n",
       "    </tr>\n",
       "  </thead>\n",
       "  <tbody>\n",
       "  </tbody>\n",
       "</table>\n",
       "</div>"
      ],
      "text/plain": [
       "Empty DataFrame\n",
       "Columns: [algo, item_name, input_movie_path, params, outputs, comments, uuid]\n",
       "Index: []"
      ]
     },
     "execution_count": 7,
     "metadata": {},
     "output_type": "execute_result"
    }
   ],
   "source": [
    "df"
   ]
  },
  {
   "cell_type": "markdown",
   "id": "f175707a-810e-4b5b-831c-bb1285707710",
   "metadata": {},
   "source": [
    "# Path to the input movie\n",
    "\n",
    "An input movie must be anywhere within `raw data path` or `batch path`. We will use the Sue 2p example."
   ]
  },
  {
   "cell_type": "code",
   "execution_count": 8,
   "id": "06afbf97-9044-497c-ad8b-ba0ad72bff5d",
   "metadata": {},
   "outputs": [],
   "source": [
    "movie_path = get_parent_raw_data_path().joinpath(\"example_movies/Sue_2x_3000_40_-46.tif\")"
   ]
  },
  {
   "cell_type": "markdown",
   "id": "a87d4f17-600e-4820-ae3f-384157a56e5e",
   "metadata": {
    "pycharm": {
     "name": "#%% md\n"
    }
   },
   "source": [
    "# Motion correction parameters\n",
    "\n",
    "Parameters for all algos have the following structure:\n",
    "\n",
    "```python\n",
    "{\"main\": {... params directly passed to caiman}}\n",
    "```"
   ]
  },
  {
   "cell_type": "code",
   "execution_count": 9,
   "id": "28396502-0758-49cb-a135-38430a2aa085",
   "metadata": {
    "pycharm": {
     "name": "#%%\n"
    }
   },
   "outputs": [],
   "source": [
    "# We will start with one version of parameters\n",
    "mcorr_params1 =\\\n",
    "{\n",
    "  'main': # this key is necessary for specifying that these are the \"main\" params for the algorithm\n",
    "    {\n",
    "        'max_shifts': [24, 24],\n",
    "        'strides': [48, 48],\n",
    "        'overlaps': [24, 24],\n",
    "        'max_deviation_rigid': 3,\n",
    "        'border_nan': 'copy',\n",
    "        'pw_rigid': True,\n",
    "        'gSig_filt': None\n",
    "    },\n",
    "}"
   ]
  },
  {
   "cell_type": "markdown",
   "id": "14af1f0f-bec8-42c6-b565-8fc5516df8db",
   "metadata": {
    "pycharm": {
     "name": "#%% md\n"
    }
   },
   "source": [
    "# Add a \"batch item\", this is the combination of:\n",
    "* algorithm to run, `algo`\n",
    "* input movie to run the algorithm on, `input_movie_path`\n",
    "* parameters for the specified algorithm, `params`\n",
    "* a name for you to keep track of things, usually the same as the movie filename, `item_name`"
   ]
  },
  {
   "cell_type": "code",
   "execution_count": 10,
   "id": "0d25ff8d-a4b5-4377-afa7-ea60c7bfde72",
   "metadata": {
    "pycharm": {
     "name": "#%%\n"
    }
   },
   "outputs": [
    {
     "data": {
      "text/html": [
       "<div>\n",
       "<style scoped>\n",
       "    .dataframe tbody tr th:only-of-type {\n",
       "        vertical-align: middle;\n",
       "    }\n",
       "\n",
       "    .dataframe tbody tr th {\n",
       "        vertical-align: top;\n",
       "    }\n",
       "\n",
       "    .dataframe thead th {\n",
       "        text-align: right;\n",
       "    }\n",
       "</style>\n",
       "<table border=\"1\" class=\"dataframe\">\n",
       "  <thead>\n",
       "    <tr style=\"text-align: right;\">\n",
       "      <th></th>\n",
       "      <th>algo</th>\n",
       "      <th>item_name</th>\n",
       "      <th>input_movie_path</th>\n",
       "      <th>params</th>\n",
       "      <th>outputs</th>\n",
       "      <th>comments</th>\n",
       "      <th>uuid</th>\n",
       "    </tr>\n",
       "  </thead>\n",
       "  <tbody>\n",
       "    <tr>\n",
       "      <th>0</th>\n",
       "      <td>mcorr</td>\n",
       "      <td>Sue_2x_3000_40_-46</td>\n",
       "      <td>example_movies/Sue_2x_3000_40_-46.tif</td>\n",
       "      <td>{'main': {'max_shifts': (24, 24), 'strides': (48, 48), 'overlaps': (24, 24), 'max_deviation_rigid': 3, 'border_nan':...</td>\n",
       "      <td>None</td>\n",
       "      <td>None</td>\n",
       "      <td>12aeb4bb-e3d2-4b31-b2e6-8a52e200e88b</td>\n",
       "    </tr>\n",
       "  </tbody>\n",
       "</table>\n",
       "</div>"
      ],
      "text/plain": [
       "    algo           item_name                       input_movie_path  \\\n",
       "0  mcorr  Sue_2x_3000_40_-46  example_movies/Sue_2x_3000_40_-46.tif   \n",
       "\n",
       "                                                                                                                    params  \\\n",
       "0  {'main': {'max_shifts': (24, 24), 'strides': (48, 48), 'overlaps': (24, 24), 'max_deviation_rigid': 3, 'border_nan':...   \n",
       "\n",
       "  outputs comments                                  uuid  \n",
       "0    None     None  12aeb4bb-e3d2-4b31-b2e6-8a52e200e88b  "
      ]
     },
     "execution_count": 10,
     "metadata": {},
     "output_type": "execute_result"
    }
   ],
   "source": [
    "# add an item to the batch\n",
    "df.caiman.add_item(\n",
    "    algo='mcorr',\n",
    "    input_movie_path=movie_path,\n",
    "    params=mcorr_params1,\n",
    "    item_name=movie_path.stem,  # filename of the movie, but can be anything\n",
    ")\n",
    "\n",
    "df"
   ]
  },
  {
   "cell_type": "markdown",
   "id": "e32d04e0-1068-4583-a5d8-952db01e989b",
   "metadata": {
    "pycharm": {
     "name": "#%% md\n"
    }
   },
   "source": [
    "## We can now see that there is one item, a.k.a. row or pandas `Series`, in the batch dataframe, we can add another item with the same input movie but with different parameters.\n",
    "\n",
    "### **When adding batch items with the same `input_movie_path` (i.e. same input movie but different parameters) it is useful to give them the same `item_name`.**"
   ]
  },
  {
   "cell_type": "code",
   "execution_count": 11,
   "id": "5f5d0785-da70-41ed-b31c-418a407ef6ad",
   "metadata": {},
   "outputs": [
    {
     "data": {
      "text/html": [
       "<div>\n",
       "<style scoped>\n",
       "    .dataframe tbody tr th:only-of-type {\n",
       "        vertical-align: middle;\n",
       "    }\n",
       "\n",
       "    .dataframe tbody tr th {\n",
       "        vertical-align: top;\n",
       "    }\n",
       "\n",
       "    .dataframe thead th {\n",
       "        text-align: right;\n",
       "    }\n",
       "</style>\n",
       "<table border=\"1\" class=\"dataframe\">\n",
       "  <thead>\n",
       "    <tr style=\"text-align: right;\">\n",
       "      <th></th>\n",
       "      <th>algo</th>\n",
       "      <th>item_name</th>\n",
       "      <th>input_movie_path</th>\n",
       "      <th>params</th>\n",
       "      <th>outputs</th>\n",
       "      <th>comments</th>\n",
       "      <th>uuid</th>\n",
       "    </tr>\n",
       "  </thead>\n",
       "  <tbody>\n",
       "    <tr>\n",
       "      <th>0</th>\n",
       "      <td>mcorr</td>\n",
       "      <td>Sue_2x_3000_40_-46</td>\n",
       "      <td>example_movies/Sue_2x_3000_40_-46.tif</td>\n",
       "      <td>{'main': {'max_shifts': (24, 24), 'strides': (48, 48), 'overlaps': (24, 24), 'max_deviation_rigid': 3, 'border_nan':...</td>\n",
       "      <td>None</td>\n",
       "      <td>None</td>\n",
       "      <td>12aeb4bb-e3d2-4b31-b2e6-8a52e200e88b</td>\n",
       "    </tr>\n",
       "    <tr>\n",
       "      <th>1</th>\n",
       "      <td>mcorr</td>\n",
       "      <td>Sue_2x_3000_40_-46</td>\n",
       "      <td>example_movies/Sue_2x_3000_40_-46.tif</td>\n",
       "      <td>{'main': {'max_shifts': (24, 24), 'strides': (24, 24), 'overlaps': (12, 12), 'max_deviation_rigid': 3, 'border_nan':...</td>\n",
       "      <td>None</td>\n",
       "      <td>None</td>\n",
       "      <td>642df48c-ae0a-4112-9ec0-3a990cfa42ff</td>\n",
       "    </tr>\n",
       "  </tbody>\n",
       "</table>\n",
       "</div>"
      ],
      "text/plain": [
       "    algo           item_name                       input_movie_path  \\\n",
       "0  mcorr  Sue_2x_3000_40_-46  example_movies/Sue_2x_3000_40_-46.tif   \n",
       "1  mcorr  Sue_2x_3000_40_-46  example_movies/Sue_2x_3000_40_-46.tif   \n",
       "\n",
       "                                                                                                                    params  \\\n",
       "0  {'main': {'max_shifts': (24, 24), 'strides': (48, 48), 'overlaps': (24, 24), 'max_deviation_rigid': 3, 'border_nan':...   \n",
       "1  {'main': {'max_shifts': (24, 24), 'strides': (24, 24), 'overlaps': (12, 12), 'max_deviation_rigid': 3, 'border_nan':...   \n",
       "\n",
       "  outputs comments                                  uuid  \n",
       "0    None     None  12aeb4bb-e3d2-4b31-b2e6-8a52e200e88b  \n",
       "1    None     None  642df48c-ae0a-4112-9ec0-3a990cfa42ff  "
      ]
     },
     "execution_count": 11,
     "metadata": {},
     "output_type": "execute_result"
    }
   ],
   "source": [
    "# We create another set of params, useful for gridsearches for example\n",
    "mcorr_params2 =\\\n",
    "{\n",
    "  'main':\n",
    "    {\n",
    "        'max_shifts': [24, 24],\n",
    "        'strides': [24, 24],\n",
    "        'overlaps': [12, 12],\n",
    "        'max_deviation_rigid': 3,\n",
    "        'border_nan': 'copy',\n",
    "        'pw_rigid': True,\n",
    "        'gSig_filt': None\n",
    "    },\n",
    "}\n",
    "\n",
    "# add other param variant to the batch\n",
    "df.caiman.add_item(\n",
    "  algo='mcorr',\n",
    "  item_name=movie_path.stem,\n",
    "  input_movie_path=movie_path,\n",
    "  params=mcorr_params2\n",
    ")\n",
    "\n",
    "df"
   ]
  },
  {
   "cell_type": "markdown",
   "id": "1596fa77-e09e-4df5-aab9-c06dd5b93c24",
   "metadata": {},
   "source": [
    "## We can see that there are two batch items for the same input movie.\n",
    "\n",
    "### We can also use a `for` loop to add multiple different parameter variants more efficiently."
   ]
  },
  {
   "cell_type": "code",
   "execution_count": 12,
   "id": "8b66724d-8164-4c9f-996d-fe3d2e592900",
   "metadata": {},
   "outputs": [],
   "source": [
    "# copy the mcorr_params2 dict to make some changes\n",
    "new_params = deepcopy(mcorr_params2)\n",
    "\n",
    "# some variants of max_shifts\n",
    "for shifts in [1, 6, 12]: \n",
    "    # deep copy is the safest way to copy dicts\n",
    "    new_params = deepcopy(new_params)\n",
    "    \n",
    "    # assign the \"max_shifts\"\n",
    "    new_params[\"main\"][\"max_shifts\"] = (shifts, shifts)\n",
    "    \n",
    "    df.caiman.add_item(\n",
    "      algo='mcorr',\n",
    "      item_name=movie_path.stem,\n",
    "      input_movie_path=movie_path,\n",
    "      params=new_params\n",
    "    )"
   ]
  },
  {
   "cell_type": "code",
   "execution_count": 13,
   "id": "e990f5d5-5d20-48c8-a39a-ef6f7e4d9862",
   "metadata": {},
   "outputs": [
    {
     "data": {
      "text/html": [
       "<div>\n",
       "<style scoped>\n",
       "    .dataframe tbody tr th:only-of-type {\n",
       "        vertical-align: middle;\n",
       "    }\n",
       "\n",
       "    .dataframe tbody tr th {\n",
       "        vertical-align: top;\n",
       "    }\n",
       "\n",
       "    .dataframe thead th {\n",
       "        text-align: right;\n",
       "    }\n",
       "</style>\n",
       "<table border=\"1\" class=\"dataframe\">\n",
       "  <thead>\n",
       "    <tr style=\"text-align: right;\">\n",
       "      <th></th>\n",
       "      <th>algo</th>\n",
       "      <th>item_name</th>\n",
       "      <th>input_movie_path</th>\n",
       "      <th>params</th>\n",
       "      <th>outputs</th>\n",
       "      <th>comments</th>\n",
       "      <th>uuid</th>\n",
       "    </tr>\n",
       "  </thead>\n",
       "  <tbody>\n",
       "    <tr>\n",
       "      <th>0</th>\n",
       "      <td>mcorr</td>\n",
       "      <td>Sue_2x_3000_40_-46</td>\n",
       "      <td>example_movies/Sue_2x_3000_40_-46.tif</td>\n",
       "      <td>{'main': {'max_shifts': (24, 24), 'strides': (48, 48), 'overlaps': (24, 24), 'max_deviation_rigid': 3, 'border_nan':...</td>\n",
       "      <td>None</td>\n",
       "      <td>None</td>\n",
       "      <td>12aeb4bb-e3d2-4b31-b2e6-8a52e200e88b</td>\n",
       "    </tr>\n",
       "    <tr>\n",
       "      <th>1</th>\n",
       "      <td>mcorr</td>\n",
       "      <td>Sue_2x_3000_40_-46</td>\n",
       "      <td>example_movies/Sue_2x_3000_40_-46.tif</td>\n",
       "      <td>{'main': {'max_shifts': (24, 24), 'strides': (24, 24), 'overlaps': (12, 12), 'max_deviation_rigid': 3, 'border_nan':...</td>\n",
       "      <td>None</td>\n",
       "      <td>None</td>\n",
       "      <td>642df48c-ae0a-4112-9ec0-3a990cfa42ff</td>\n",
       "    </tr>\n",
       "    <tr>\n",
       "      <th>2</th>\n",
       "      <td>mcorr</td>\n",
       "      <td>Sue_2x_3000_40_-46</td>\n",
       "      <td>example_movies/Sue_2x_3000_40_-46.tif</td>\n",
       "      <td>{'main': {'max_shifts': (1, 1), 'strides': (24, 24), 'overlaps': (12, 12), 'max_deviation_rigid': 3, 'border_nan': '...</td>\n",
       "      <td>None</td>\n",
       "      <td>None</td>\n",
       "      <td>d0f9ec15-e262-457b-94d6-899b915370c3</td>\n",
       "    </tr>\n",
       "    <tr>\n",
       "      <th>3</th>\n",
       "      <td>mcorr</td>\n",
       "      <td>Sue_2x_3000_40_-46</td>\n",
       "      <td>example_movies/Sue_2x_3000_40_-46.tif</td>\n",
       "      <td>{'main': {'max_shifts': (6, 6), 'strides': (24, 24), 'overlaps': (12, 12), 'max_deviation_rigid': 3, 'border_nan': '...</td>\n",
       "      <td>None</td>\n",
       "      <td>None</td>\n",
       "      <td>09610b86-917a-41e7-a493-2d036bf44428</td>\n",
       "    </tr>\n",
       "    <tr>\n",
       "      <th>4</th>\n",
       "      <td>mcorr</td>\n",
       "      <td>Sue_2x_3000_40_-46</td>\n",
       "      <td>example_movies/Sue_2x_3000_40_-46.tif</td>\n",
       "      <td>{'main': {'max_shifts': (12, 12), 'strides': (24, 24), 'overlaps': (12, 12), 'max_deviation_rigid': 3, 'border_nan':...</td>\n",
       "      <td>None</td>\n",
       "      <td>None</td>\n",
       "      <td>956ed968-61a8-48e0-ba98-e5f51db09f54</td>\n",
       "    </tr>\n",
       "  </tbody>\n",
       "</table>\n",
       "</div>"
      ],
      "text/plain": [
       "    algo           item_name                       input_movie_path  \\\n",
       "0  mcorr  Sue_2x_3000_40_-46  example_movies/Sue_2x_3000_40_-46.tif   \n",
       "1  mcorr  Sue_2x_3000_40_-46  example_movies/Sue_2x_3000_40_-46.tif   \n",
       "2  mcorr  Sue_2x_3000_40_-46  example_movies/Sue_2x_3000_40_-46.tif   \n",
       "3  mcorr  Sue_2x_3000_40_-46  example_movies/Sue_2x_3000_40_-46.tif   \n",
       "4  mcorr  Sue_2x_3000_40_-46  example_movies/Sue_2x_3000_40_-46.tif   \n",
       "\n",
       "                                                                                                                    params  \\\n",
       "0  {'main': {'max_shifts': (24, 24), 'strides': (48, 48), 'overlaps': (24, 24), 'max_deviation_rigid': 3, 'border_nan':...   \n",
       "1  {'main': {'max_shifts': (24, 24), 'strides': (24, 24), 'overlaps': (12, 12), 'max_deviation_rigid': 3, 'border_nan':...   \n",
       "2  {'main': {'max_shifts': (1, 1), 'strides': (24, 24), 'overlaps': (12, 12), 'max_deviation_rigid': 3, 'border_nan': '...   \n",
       "3  {'main': {'max_shifts': (6, 6), 'strides': (24, 24), 'overlaps': (12, 12), 'max_deviation_rigid': 3, 'border_nan': '...   \n",
       "4  {'main': {'max_shifts': (12, 12), 'strides': (24, 24), 'overlaps': (12, 12), 'max_deviation_rigid': 3, 'border_nan':...   \n",
       "\n",
       "  outputs comments                                  uuid  \n",
       "0    None     None  12aeb4bb-e3d2-4b31-b2e6-8a52e200e88b  \n",
       "1    None     None  642df48c-ae0a-4112-9ec0-3a990cfa42ff  \n",
       "2    None     None  d0f9ec15-e262-457b-94d6-899b915370c3  \n",
       "3    None     None  09610b86-917a-41e7-a493-2d036bf44428  \n",
       "4    None     None  956ed968-61a8-48e0-ba98-e5f51db09f54  "
      ]
     },
     "execution_count": 13,
     "metadata": {},
     "output_type": "execute_result"
    }
   ],
   "source": [
    "df"
   ]
  },
  {
   "cell_type": "markdown",
   "id": "d8912227-b00e-461f-a61d-9d572a42313f",
   "metadata": {},
   "source": [
    "## Now we can see that there are many parameter variants, but it is not easy to see the differences in parameters between the rows that have the same `item_name`.\n",
    "\n",
    "### We can use the `caiman.get_params_diffs()` extension to see the unique parameters between rows with the same `item_name`"
   ]
  },
  {
   "cell_type": "code",
   "execution_count": 14,
   "id": "6398946b-ced7-4ef2-9614-f062b7a65ad5",
   "metadata": {},
   "outputs": [
    {
     "name": "stderr",
     "output_type": "stream",
     "text": [
      "/tmp/ipykernel_286260/1437176290.py:1: FutureWarning: You are trying to use the following experimental feature, this may change in the future without warning:\n",
      "CaimanDataFrameExtensions.get_params_diffs\n",
      "This feature is new and the might improve in the future\n",
      "\n",
      "  diffs = df.caiman.get_params_diffs(algo=\"mcorr\", item_name=df.iloc[0][\"item_name\"])\n"
     ]
    },
    {
     "data": {
      "text/plain": [
       "0    {'overlaps': (24, 24), 'max_shifts': (24, 24), 'strides': (48, 48)}\n",
       "1    {'overlaps': (12, 12), 'max_shifts': (24, 24), 'strides': (24, 24)}\n",
       "2      {'overlaps': (12, 12), 'max_shifts': (1, 1), 'strides': (24, 24)}\n",
       "3      {'overlaps': (12, 12), 'max_shifts': (6, 6), 'strides': (24, 24)}\n",
       "4    {'overlaps': (12, 12), 'max_shifts': (12, 12), 'strides': (24, 24)}\n",
       "Name: params, dtype: object"
      ]
     },
     "execution_count": 14,
     "metadata": {},
     "output_type": "execute_result"
    }
   ],
   "source": [
    "diffs = df.caiman.get_params_diffs(algo=\"mcorr\", item_name=df.iloc[0][\"item_name\"])\n",
    "diffs"
   ]
  },
  {
   "cell_type": "markdown",
   "id": "061451cc-c57d-43d1-a87d-61dea700d256",
   "metadata": {
    "pycharm": {
     "name": "#%% md\n"
    }
   },
   "source": [
    "# Indexing rows and running batch item(s)\n",
    "#### You can run a single batch item by calling `caiman.run()` on a `Series` (row) of the DataFrame. One way to get the row is integer indexing using `df.iloc[index]`"
   ]
  },
  {
   "cell_type": "code",
   "execution_count": 15,
   "id": "ffd2c6ca-3a60-4cc7-8ea0-f059ae400d40",
   "metadata": {},
   "outputs": [],
   "source": [
    "# get the first batch item\n",
    "row = df.iloc[0]"
   ]
  },
  {
   "cell_type": "markdown",
   "id": "affecba1-a33c-4f47-8876-92e54da50c19",
   "metadata": {},
   "source": [
    "### You can see how the various `pandas.Series` extensions are accessible at the level of dataframe rows.\n",
    "\n",
    "Move the cursor to the end of the following line and press `Tab` on your keyboard. You can select the `caiman.run()` function and press `Shift + Tab` to see the docstring. You can also instead refer to the API docs. https://mesmerize-core.readthedocs.io/en/latest/api/common.html#mesmerize_core.CaimanSeriesExtensions\n",
    "\n",
    "Note tab completion doesn't work if you use `df.iloc[i].caiman.<method_name>`, you need to apply the indexer to see the docstring."
   ]
  },
  {
   "cell_type": "code",
   "execution_count": null,
   "id": "f79ed968-e569-40f2-b618-684dbf6cea7e",
   "metadata": {},
   "outputs": [],
   "source": [
    "row.caiman."
   ]
  },
  {
   "cell_type": "markdown",
   "id": "acc93c53-6780-457d-99bf-6820760d1b86",
   "metadata": {},
   "source": [
    "# Run a single batch item\n",
    "\n",
    "Run the row that we have selected above, on Linux & Mac it will run in subprocess but on Windows it will run in the local kernel. If using the subprocess backend you can use `run(wait=False)` to not block the current kernel when running."
   ]
  },
  {
   "cell_type": "code",
   "execution_count": 16,
   "id": "ea0299c0-4946-4deb-877f-5ce749e161ae",
   "metadata": {
    "pycharm": {
     "name": "#%%\n"
    }
   },
   "outputs": [
    {
     "name": "stderr",
     "output_type": "stream",
     "text": [
      "2023-01-08 01:24:22.492454: I tensorflow/core/platform/cpu_feature_guard.cc:193] This TensorFlow binary is optimized with oneAPI Deep Neural Network Library (oneDNN) to use the following CPU instructions in performance-critical operations:  AVX2 FMA\n",
      "To enable them in other operations, rebuild TensorFlow with the appropriate compiler flags.\n",
      "2023-01-08 01:24:22.577603: E tensorflow/stream_executor/cuda/cuda_blas.cc:2981] Unable to register cuBLAS factory: Attempting to register factory for plugin cuBLAS when one has already been registered\n",
      "2023-01-08 01:24:22.945769: W tensorflow/stream_executor/platform/default/dso_loader.cc:64] Could not load dynamic library 'libnvinfer.so.7'; dlerror: libnvinfer.so.7: cannot open shared object file: No such file or directory; LD_LIBRARY_PATH: /home/kushalk/python-venvs/mescore/lib/python3.10/site-packages/cv2/../../lib64:/home/kushalk/python-venvs/mescore/lib/python3.10/site-packages/cv2/../../lib64:/usr/local/cuda-11.2/lib64:/usr/local/cuda-11.2/lib64\n",
      "2023-01-08 01:24:22.945818: W tensorflow/stream_executor/platform/default/dso_loader.cc:64] Could not load dynamic library 'libnvinfer_plugin.so.7'; dlerror: libnvinfer_plugin.so.7: cannot open shared object file: No such file or directory; LD_LIBRARY_PATH: /home/kushalk/python-venvs/mescore/lib/python3.10/site-packages/cv2/../../lib64:/home/kushalk/python-venvs/mescore/lib/python3.10/site-packages/cv2/../../lib64:/usr/local/cuda-11.2/lib64:/usr/local/cuda-11.2/lib64\n",
      "2023-01-08 01:24:22.945822: W tensorflow/compiler/tf2tensorrt/utils/py_utils.cc:38] TF-TRT Warning: Cannot dlopen some TensorRT libraries. If you would like to use Nvidia GPU with TensorRT, please make sure the missing libraries mentioned above are installed properly.\n"
     ]
    },
    {
     "name": "stdout",
     "output_type": "stream",
     "text": [
      "starting mc\n"
     ]
    },
    {
     "name": "stderr",
     "output_type": "stream",
     "text": [
      "WARNING:root:Movie average is negative. Removing 1st percentile.\n",
      "WARNING:root:Movie average is negative. Removing 1st percentile.\n",
      "WARNING:root:Movie average is negative. Removing 1st percentile.\n",
      "WARNING:root:Movie average is negative. Removing 1st percentile.\n",
      "WARNING:root:Movie average is negative. Removing 1st percentile.\n",
      "WARNING:root:Movie average is negative. Removing 1st percentile.\n",
      "100%|██████████| 1/1 [00:00<00:00, 12.30it/s]\n",
      "100%|██████████| 1/1 [00:00<00:00, 12.23it/s]\n",
      "100%|██████████| 1/1 [00:00<00:00,  7.74it/s]\n"
     ]
    },
    {
     "name": "stdout",
     "output_type": "stream",
     "text": [
      "Decode mmap filename /home/kushalk/caiman_data/mesmerize-core-batch/12aeb4bb-e3d2-4b31-b2e6-8a52e200e88b/12aeb4bb-e3d2-4b31-b2e6-8a52e200e88b-Sue_2x_3000_40_-46_els__d1_170_d2_170_d3_1_order_F_frames_3000.mmap\n",
      "Decode mmap filename /home/kushalk/caiman_data/mesmerize-core-batch/12aeb4bb-e3d2-4b31-b2e6-8a52e200e88b/12aeb4bb-e3d2-4b31-b2e6-8a52e200e88b-Sue_2x_3000_40_-46_els__d1_170_d2_170_d3_1_order_F_frames_3000.mmap\n",
      "Decode mmap filename /home/kushalk/caiman_data/mesmerize-core-batch/12aeb4bb-e3d2-4b31-b2e6-8a52e200e88b/12aeb4bb-e3d2-4b31-b2e6-8a52e200e88b-Sue_2x_3000_40_-46_els__d1_170_d2_170_d3_1_order_F_frames_3000.mmap\n",
      "mc finished successfully!\n",
      "computing projections\n",
      "Decode mmap filename /home/kushalk/caiman_data/mesmerize-core-batch/12aeb4bb-e3d2-4b31-b2e6-8a52e200e88b/12aeb4bb-e3d2-4b31-b2e6-8a52e200e88b-Sue_2x_3000_40_-46_els__d1_170_d2_170_d3_1_order_F_frames_3000.mmap\n",
      "Computing correlation image\n",
      "Decode mmap filename /home/kushalk/caiman_data/mesmerize-core-batch/12aeb4bb-e3d2-4b31-b2e6-8a52e200e88b/12aeb4bb-e3d2-4b31-b2e6-8a52e200e88b-Sue_2x_3000_40_-46_els__d1_170_d2_170_d3_1_order_F_frames_3000.mmap\n",
      "finished computing correlation image\n"
     ]
    }
   ],
   "source": [
    "# run the first \"batch item\"\n",
    "# this will run in a subprocess by default on Linux & Mac\n",
    "# on windows it will run locally\n",
    "process = row.caiman.run()\n",
    "\n",
    "# reload dataframe from disk when done\n",
    "df = df.caiman.reload_from_disk()"
   ]
  },
  {
   "cell_type": "markdown",
   "id": "1e5bf8fd-bda7-45b5-9cd7-00ea6c0bac38",
   "metadata": {},
   "source": [
    "# Use a loop to run multiple batch items.\n",
    "\n",
    "`df.iterrows()` iterates through rows and returns the numerical index and row for each iteration"
   ]
  },
  {
   "cell_type": "code",
   "execution_count": 17,
   "id": "406aa80b-ea16-4e0b-8447-1c091cabde68",
   "metadata": {
    "scrolled": true,
    "tags": []
   },
   "outputs": [
    {
     "name": "stderr",
     "output_type": "stream",
     "text": [
      "2023-01-08 01:24:39.207797: I tensorflow/core/platform/cpu_feature_guard.cc:193] This TensorFlow binary is optimized with oneAPI Deep Neural Network Library (oneDNN) to use the following CPU instructions in performance-critical operations:  AVX2 FMA\n",
      "To enable them in other operations, rebuild TensorFlow with the appropriate compiler flags.\n",
      "2023-01-08 01:24:39.288556: E tensorflow/stream_executor/cuda/cuda_blas.cc:2981] Unable to register cuBLAS factory: Attempting to register factory for plugin cuBLAS when one has already been registered\n",
      "2023-01-08 01:24:39.651759: W tensorflow/stream_executor/platform/default/dso_loader.cc:64] Could not load dynamic library 'libnvinfer.so.7'; dlerror: libnvinfer.so.7: cannot open shared object file: No such file or directory; LD_LIBRARY_PATH: /home/kushalk/python-venvs/mescore/lib/python3.10/site-packages/cv2/../../lib64:/home/kushalk/python-venvs/mescore/lib/python3.10/site-packages/cv2/../../lib64:/usr/local/cuda-11.2/lib64:/usr/local/cuda-11.2/lib64\n",
      "2023-01-08 01:24:39.651810: W tensorflow/stream_executor/platform/default/dso_loader.cc:64] Could not load dynamic library 'libnvinfer_plugin.so.7'; dlerror: libnvinfer_plugin.so.7: cannot open shared object file: No such file or directory; LD_LIBRARY_PATH: /home/kushalk/python-venvs/mescore/lib/python3.10/site-packages/cv2/../../lib64:/home/kushalk/python-venvs/mescore/lib/python3.10/site-packages/cv2/../../lib64:/usr/local/cuda-11.2/lib64:/usr/local/cuda-11.2/lib64\n",
      "2023-01-08 01:24:39.651815: W tensorflow/compiler/tf2tensorrt/utils/py_utils.cc:38] TF-TRT Warning: Cannot dlopen some TensorRT libraries. If you would like to use Nvidia GPU with TensorRT, please make sure the missing libraries mentioned above are installed properly.\n"
     ]
    },
    {
     "name": "stdout",
     "output_type": "stream",
     "text": [
      "starting mc\n"
     ]
    },
    {
     "name": "stderr",
     "output_type": "stream",
     "text": [
      "WARNING:root:Movie average is negative. Removing 1st percentile.\n",
      "WARNING:root:Movie average is negative. Removing 1st percentile.\n",
      "WARNING:root:Movie average is negative. Removing 1st percentile.\n",
      "WARNING:root:Movie average is negative. Removing 1st percentile.\n",
      "WARNING:root:Movie average is negative. Removing 1st percentile.\n",
      "WARNING:root:Movie average is negative. Removing 1st percentile.\n",
      "100%|██████████| 1/1 [00:00<00:00, 12.90it/s]\n",
      "100%|██████████| 1/1 [00:00<00:00, 12.53it/s]\n",
      "100%|██████████| 1/1 [00:00<00:00,  9.63it/s]\n"
     ]
    },
    {
     "name": "stdout",
     "output_type": "stream",
     "text": [
      "Decode mmap filename /home/kushalk/caiman_data/mesmerize-core-batch/642df48c-ae0a-4112-9ec0-3a990cfa42ff/642df48c-ae0a-4112-9ec0-3a990cfa42ff-Sue_2x_3000_40_-46_els__d1_170_d2_170_d3_1_order_F_frames_3000.mmap\n",
      "Decode mmap filename /home/kushalk/caiman_data/mesmerize-core-batch/642df48c-ae0a-4112-9ec0-3a990cfa42ff/642df48c-ae0a-4112-9ec0-3a990cfa42ff-Sue_2x_3000_40_-46_els__d1_170_d2_170_d3_1_order_F_frames_3000.mmap\n",
      "Decode mmap filename /home/kushalk/caiman_data/mesmerize-core-batch/642df48c-ae0a-4112-9ec0-3a990cfa42ff/642df48c-ae0a-4112-9ec0-3a990cfa42ff-Sue_2x_3000_40_-46_els__d1_170_d2_170_d3_1_order_F_frames_3000.mmap\n",
      "mc finished successfully!\n",
      "computing projections\n",
      "Decode mmap filename /home/kushalk/caiman_data/mesmerize-core-batch/642df48c-ae0a-4112-9ec0-3a990cfa42ff/642df48c-ae0a-4112-9ec0-3a990cfa42ff-Sue_2x_3000_40_-46_els__d1_170_d2_170_d3_1_order_F_frames_3000.mmap\n",
      "Computing correlation image\n",
      "Decode mmap filename /home/kushalk/caiman_data/mesmerize-core-batch/642df48c-ae0a-4112-9ec0-3a990cfa42ff/642df48c-ae0a-4112-9ec0-3a990cfa42ff-Sue_2x_3000_40_-46_els__d1_170_d2_170_d3_1_order_F_frames_3000.mmap\n",
      "finished computing correlation image\n"
     ]
    },
    {
     "name": "stderr",
     "output_type": "stream",
     "text": [
      "2023-01-08 01:24:50.660283: I tensorflow/core/platform/cpu_feature_guard.cc:193] This TensorFlow binary is optimized with oneAPI Deep Neural Network Library (oneDNN) to use the following CPU instructions in performance-critical operations:  AVX2 FMA\n",
      "To enable them in other operations, rebuild TensorFlow with the appropriate compiler flags.\n",
      "2023-01-08 01:24:50.742303: E tensorflow/stream_executor/cuda/cuda_blas.cc:2981] Unable to register cuBLAS factory: Attempting to register factory for plugin cuBLAS when one has already been registered\n",
      "2023-01-08 01:24:51.107108: W tensorflow/stream_executor/platform/default/dso_loader.cc:64] Could not load dynamic library 'libnvinfer.so.7'; dlerror: libnvinfer.so.7: cannot open shared object file: No such file or directory; LD_LIBRARY_PATH: /home/kushalk/python-venvs/mescore/lib/python3.10/site-packages/cv2/../../lib64:/home/kushalk/python-venvs/mescore/lib/python3.10/site-packages/cv2/../../lib64:/usr/local/cuda-11.2/lib64:/usr/local/cuda-11.2/lib64\n",
      "2023-01-08 01:24:51.107163: W tensorflow/stream_executor/platform/default/dso_loader.cc:64] Could not load dynamic library 'libnvinfer_plugin.so.7'; dlerror: libnvinfer_plugin.so.7: cannot open shared object file: No such file or directory; LD_LIBRARY_PATH: /home/kushalk/python-venvs/mescore/lib/python3.10/site-packages/cv2/../../lib64:/home/kushalk/python-venvs/mescore/lib/python3.10/site-packages/cv2/../../lib64:/usr/local/cuda-11.2/lib64:/usr/local/cuda-11.2/lib64\n",
      "2023-01-08 01:24:51.107167: W tensorflow/compiler/tf2tensorrt/utils/py_utils.cc:38] TF-TRT Warning: Cannot dlopen some TensorRT libraries. If you would like to use Nvidia GPU with TensorRT, please make sure the missing libraries mentioned above are installed properly.\n"
     ]
    },
    {
     "name": "stdout",
     "output_type": "stream",
     "text": [
      "starting mc\n"
     ]
    },
    {
     "name": "stderr",
     "output_type": "stream",
     "text": [
      "WARNING:root:Movie average is negative. Removing 1st percentile.\n",
      "WARNING:root:Movie average is negative. Removing 1st percentile.\n",
      "WARNING:root:Movie average is negative. Removing 1st percentile.\n",
      "WARNING:root:Movie average is negative. Removing 1st percentile.\n",
      "WARNING:root:Movie average is negative. Removing 1st percentile.\n",
      "WARNING:root:Movie average is negative. Removing 1st percentile.\n",
      "100%|██████████| 1/1 [00:00<00:00, 13.37it/s]\n",
      "100%|██████████| 1/1 [00:00<00:00, 13.00it/s]\n",
      "100%|██████████| 1/1 [00:00<00:00,  9.09it/s]\n"
     ]
    },
    {
     "name": "stdout",
     "output_type": "stream",
     "text": [
      "Decode mmap filename /home/kushalk/caiman_data/mesmerize-core-batch/d0f9ec15-e262-457b-94d6-899b915370c3/d0f9ec15-e262-457b-94d6-899b915370c3-Sue_2x_3000_40_-46_els__d1_170_d2_170_d3_1_order_F_frames_3000.mmap\n",
      "Decode mmap filename /home/kushalk/caiman_data/mesmerize-core-batch/d0f9ec15-e262-457b-94d6-899b915370c3/d0f9ec15-e262-457b-94d6-899b915370c3-Sue_2x_3000_40_-46_els__d1_170_d2_170_d3_1_order_F_frames_3000.mmap\n",
      "mc finished successfully!\n",
      "computing projections\n",
      "Decode mmap filename /home/kushalk/caiman_data/mesmerize-core-batch/d0f9ec15-e262-457b-94d6-899b915370c3/d0f9ec15-e262-457b-94d6-899b915370c3-Sue_2x_3000_40_-46_els__d1_170_d2_170_d3_1_order_F_frames_3000.mmap\n",
      "Computing correlation image\n",
      "Decode mmap filename /home/kushalk/caiman_data/mesmerize-core-batch/d0f9ec15-e262-457b-94d6-899b915370c3/d0f9ec15-e262-457b-94d6-899b915370c3-Sue_2x_3000_40_-46_els__d1_170_d2_170_d3_1_order_F_frames_3000.mmap\n",
      "finished computing correlation image\n"
     ]
    },
    {
     "name": "stderr",
     "output_type": "stream",
     "text": [
      "2023-01-08 01:25:02.284607: I tensorflow/core/platform/cpu_feature_guard.cc:193] This TensorFlow binary is optimized with oneAPI Deep Neural Network Library (oneDNN) to use the following CPU instructions in performance-critical operations:  AVX2 FMA\n",
      "To enable them in other operations, rebuild TensorFlow with the appropriate compiler flags.\n",
      "2023-01-08 01:25:02.368732: E tensorflow/stream_executor/cuda/cuda_blas.cc:2981] Unable to register cuBLAS factory: Attempting to register factory for plugin cuBLAS when one has already been registered\n",
      "2023-01-08 01:25:02.737944: W tensorflow/stream_executor/platform/default/dso_loader.cc:64] Could not load dynamic library 'libnvinfer.so.7'; dlerror: libnvinfer.so.7: cannot open shared object file: No such file or directory; LD_LIBRARY_PATH: /home/kushalk/python-venvs/mescore/lib/python3.10/site-packages/cv2/../../lib64:/home/kushalk/python-venvs/mescore/lib/python3.10/site-packages/cv2/../../lib64:/usr/local/cuda-11.2/lib64:/usr/local/cuda-11.2/lib64\n",
      "2023-01-08 01:25:02.737998: W tensorflow/stream_executor/platform/default/dso_loader.cc:64] Could not load dynamic library 'libnvinfer_plugin.so.7'; dlerror: libnvinfer_plugin.so.7: cannot open shared object file: No such file or directory; LD_LIBRARY_PATH: /home/kushalk/python-venvs/mescore/lib/python3.10/site-packages/cv2/../../lib64:/home/kushalk/python-venvs/mescore/lib/python3.10/site-packages/cv2/../../lib64:/usr/local/cuda-11.2/lib64:/usr/local/cuda-11.2/lib64\n",
      "2023-01-08 01:25:02.738002: W tensorflow/compiler/tf2tensorrt/utils/py_utils.cc:38] TF-TRT Warning: Cannot dlopen some TensorRT libraries. If you would like to use Nvidia GPU with TensorRT, please make sure the missing libraries mentioned above are installed properly.\n"
     ]
    },
    {
     "name": "stdout",
     "output_type": "stream",
     "text": [
      "starting mc\n"
     ]
    },
    {
     "name": "stderr",
     "output_type": "stream",
     "text": [
      "WARNING:root:Movie average is negative. Removing 1st percentile.\n",
      "WARNING:root:Movie average is negative. Removing 1st percentile.\n",
      "WARNING:root:Movie average is negative. Removing 1st percentile.\n",
      "WARNING:root:Movie average is negative. Removing 1st percentile.\n",
      "WARNING:root:Movie average is negative. Removing 1st percentile.\n",
      "WARNING:root:Movie average is negative. Removing 1st percentile.\n",
      "100%|██████████| 1/1 [00:00<00:00, 12.60it/s]\n",
      "100%|██████████| 1/1 [00:00<00:00, 12.56it/s]\n",
      "100%|██████████| 1/1 [00:00<00:00,  7.92it/s]\n"
     ]
    },
    {
     "name": "stdout",
     "output_type": "stream",
     "text": [
      "Decode mmap filename /home/kushalk/caiman_data/mesmerize-core-batch/09610b86-917a-41e7-a493-2d036bf44428/09610b86-917a-41e7-a493-2d036bf44428-Sue_2x_3000_40_-46_els__d1_170_d2_170_d3_1_order_F_frames_3000.mmap\n",
      "Decode mmap filename /home/kushalk/caiman_data/mesmerize-core-batch/09610b86-917a-41e7-a493-2d036bf44428/09610b86-917a-41e7-a493-2d036bf44428-Sue_2x_3000_40_-46_els__d1_170_d2_170_d3_1_order_F_frames_3000.mmap\n",
      "mc finished successfully!\n",
      "computing projections\n",
      "Decode mmap filename /home/kushalk/caiman_data/mesmerize-core-batch/09610b86-917a-41e7-a493-2d036bf44428/09610b86-917a-41e7-a493-2d036bf44428-Sue_2x_3000_40_-46_els__d1_170_d2_170_d3_1_order_F_frames_3000.mmap\n",
      "Computing correlation image\n",
      "Decode mmap filename /home/kushalk/caiman_data/mesmerize-core-batch/09610b86-917a-41e7-a493-2d036bf44428/09610b86-917a-41e7-a493-2d036bf44428-Sue_2x_3000_40_-46_els__d1_170_d2_170_d3_1_order_F_frames_3000.mmap\n",
      "finished computing correlation image\n"
     ]
    },
    {
     "name": "stderr",
     "output_type": "stream",
     "text": [
      "2023-01-08 01:25:13.920242: I tensorflow/core/platform/cpu_feature_guard.cc:193] This TensorFlow binary is optimized with oneAPI Deep Neural Network Library (oneDNN) to use the following CPU instructions in performance-critical operations:  AVX2 FMA\n",
      "To enable them in other operations, rebuild TensorFlow with the appropriate compiler flags.\n",
      "2023-01-08 01:25:14.003551: E tensorflow/stream_executor/cuda/cuda_blas.cc:2981] Unable to register cuBLAS factory: Attempting to register factory for plugin cuBLAS when one has already been registered\n",
      "2023-01-08 01:25:14.370126: W tensorflow/stream_executor/platform/default/dso_loader.cc:64] Could not load dynamic library 'libnvinfer.so.7'; dlerror: libnvinfer.so.7: cannot open shared object file: No such file or directory; LD_LIBRARY_PATH: /home/kushalk/python-venvs/mescore/lib/python3.10/site-packages/cv2/../../lib64:/home/kushalk/python-venvs/mescore/lib/python3.10/site-packages/cv2/../../lib64:/usr/local/cuda-11.2/lib64:/usr/local/cuda-11.2/lib64\n",
      "2023-01-08 01:25:14.370177: W tensorflow/stream_executor/platform/default/dso_loader.cc:64] Could not load dynamic library 'libnvinfer_plugin.so.7'; dlerror: libnvinfer_plugin.so.7: cannot open shared object file: No such file or directory; LD_LIBRARY_PATH: /home/kushalk/python-venvs/mescore/lib/python3.10/site-packages/cv2/../../lib64:/home/kushalk/python-venvs/mescore/lib/python3.10/site-packages/cv2/../../lib64:/usr/local/cuda-11.2/lib64:/usr/local/cuda-11.2/lib64\n",
      "2023-01-08 01:25:14.370181: W tensorflow/compiler/tf2tensorrt/utils/py_utils.cc:38] TF-TRT Warning: Cannot dlopen some TensorRT libraries. If you would like to use Nvidia GPU with TensorRT, please make sure the missing libraries mentioned above are installed properly.\n"
     ]
    },
    {
     "name": "stdout",
     "output_type": "stream",
     "text": [
      "starting mc\n"
     ]
    },
    {
     "name": "stderr",
     "output_type": "stream",
     "text": [
      "WARNING:root:Movie average is negative. Removing 1st percentile.\n",
      "WARNING:root:Movie average is negative. Removing 1st percentile.\n",
      "WARNING:root:Movie average is negative. Removing 1st percentile.\n",
      "WARNING:root:Movie average is negative. Removing 1st percentile.\n",
      "WARNING:root:Movie average is negative. Removing 1st percentile.\n",
      "WARNING:root:Movie average is negative. Removing 1st percentile.\n",
      "100%|██████████| 1/1 [00:00<00:00, 12.34it/s]\n",
      "\n",
      "100%|██████████| 1/1 [00:00<00:00,  9.55it/s]\n"
     ]
    },
    {
     "name": "stdout",
     "output_type": "stream",
     "text": [
      "Decode mmap filename /home/kushalk/caiman_data/mesmerize-core-batch/956ed968-61a8-48e0-ba98-e5f51db09f54/956ed968-61a8-48e0-ba98-e5f51db09f54-Sue_2x_3000_40_-46_els__d1_170_d2_170_d3_1_order_F_frames_3000.mmap\n",
      "Decode mmap filename /home/kushalk/caiman_data/mesmerize-core-batch/956ed968-61a8-48e0-ba98-e5f51db09f54/956ed968-61a8-48e0-ba98-e5f51db09f54-Sue_2x_3000_40_-46_els__d1_170_d2_170_d3_1_order_F_frames_3000.mmap\n",
      "Decode mmap filename /home/kushalk/caiman_data/mesmerize-core-batch/956ed968-61a8-48e0-ba98-e5f51db09f54/956ed968-61a8-48e0-ba98-e5f51db09f54-Sue_2x_3000_40_-46_els__d1_170_d2_170_d3_1_order_F_frames_3000.mmap\n",
      "mc finished successfully!\n",
      "computing projections\n",
      "Decode mmap filename /home/kushalk/caiman_data/mesmerize-core-batch/956ed968-61a8-48e0-ba98-e5f51db09f54/956ed968-61a8-48e0-ba98-e5f51db09f54-Sue_2x_3000_40_-46_els__d1_170_d2_170_d3_1_order_F_frames_3000.mmap\n",
      "Computing correlation image\n",
      "Decode mmap filename /home/kushalk/caiman_data/mesmerize-core-batch/956ed968-61a8-48e0-ba98-e5f51db09f54/956ed968-61a8-48e0-ba98-e5f51db09f54-Sue_2x_3000_40_-46_els__d1_170_d2_170_d3_1_order_F_frames_3000.mmap\n",
      "finished computing correlation image\n"
     ]
    }
   ],
   "source": [
    "for i, row in df.iterrows():\n",
    "    if not i > 0: # skip the first item since we've run it already\n",
    "        continue\n",
    "    process = row.caiman.run()\n",
    "    \n",
    "    # on Windows you MUST reload the batch dataframe after every iteration because it uses the `local` backend.\n",
    "    # this is unnecessary on Linux & Mac\n",
    "    # \"DummyProcess\" is used for local backend so this is automatic\n",
    "    if process.__class__.__name__ == \"DummyProcess\":\n",
    "        df = df.caiman.reload_from_disk()"
   ]
  },
  {
   "cell_type": "markdown",
   "id": "ffc9a52c-eae1-49f1-a8ba-a79b92e897e4",
   "metadata": {
    "pycharm": {
     "name": "#%% md\n"
    },
    "tags": []
   },
   "source": [
    "# Reload the DataFrame to see the outputs information for the mcorr batch item\n",
    "### It is necessary to ALWAYS use `df = df.caiman.reload_from_disk()` after running a single batch item or a loop of batch items. You must not add new batch items until you reload it if you have ran items!"
   ]
  },
  {
   "cell_type": "code",
   "execution_count": 18,
   "id": "ab1bfbb4-2737-4aea-9e2f-673cf539279d",
   "metadata": {},
   "outputs": [],
   "source": [
    "df = df.caiman.reload_from_disk()"
   ]
  },
  {
   "cell_type": "markdown",
   "id": "8575a61c-63b8-46b6-9291-064a382e7caa",
   "metadata": {},
   "source": [
    "## We can see that the `outputs` column has been filled in"
   ]
  },
  {
   "cell_type": "code",
   "execution_count": 19,
   "id": "fc41f7a8-e80b-4262-890a-58cfb621f017",
   "metadata": {
    "pycharm": {
     "name": "#%%\n"
    }
   },
   "outputs": [
    {
     "data": {
      "text/html": [
       "<div>\n",
       "<style scoped>\n",
       "    .dataframe tbody tr th:only-of-type {\n",
       "        vertical-align: middle;\n",
       "    }\n",
       "\n",
       "    .dataframe tbody tr th {\n",
       "        vertical-align: top;\n",
       "    }\n",
       "\n",
       "    .dataframe thead th {\n",
       "        text-align: right;\n",
       "    }\n",
       "</style>\n",
       "<table border=\"1\" class=\"dataframe\">\n",
       "  <thead>\n",
       "    <tr style=\"text-align: right;\">\n",
       "      <th></th>\n",
       "      <th>algo</th>\n",
       "      <th>item_name</th>\n",
       "      <th>input_movie_path</th>\n",
       "      <th>params</th>\n",
       "      <th>outputs</th>\n",
       "      <th>comments</th>\n",
       "      <th>uuid</th>\n",
       "    </tr>\n",
       "  </thead>\n",
       "  <tbody>\n",
       "    <tr>\n",
       "      <th>0</th>\n",
       "      <td>mcorr</td>\n",
       "      <td>Sue_2x_3000_40_-46</td>\n",
       "      <td>example_movies/Sue_2x_3000_40_-46.tif</td>\n",
       "      <td>{'main': {'max_shifts': (24, 24), 'strides': (48, 48), 'overlaps': (24, 24), 'max_deviation_rigid': 3, 'border_nan':...</td>\n",
       "      <td>{'mean-projection-path': 12aeb4bb-e3d2-4b31-b2e6-8a52e200e88b/12aeb4bb-e3d2-4b31-b2e6-8a52e200e88b_mean_projection.n...</td>\n",
       "      <td>None</td>\n",
       "      <td>12aeb4bb-e3d2-4b31-b2e6-8a52e200e88b</td>\n",
       "    </tr>\n",
       "    <tr>\n",
       "      <th>1</th>\n",
       "      <td>mcorr</td>\n",
       "      <td>Sue_2x_3000_40_-46</td>\n",
       "      <td>example_movies/Sue_2x_3000_40_-46.tif</td>\n",
       "      <td>{'main': {'max_shifts': (24, 24), 'strides': (24, 24), 'overlaps': (12, 12), 'max_deviation_rigid': 3, 'border_nan':...</td>\n",
       "      <td>{'mean-projection-path': 642df48c-ae0a-4112-9ec0-3a990cfa42ff/642df48c-ae0a-4112-9ec0-3a990cfa42ff_mean_projection.n...</td>\n",
       "      <td>None</td>\n",
       "      <td>642df48c-ae0a-4112-9ec0-3a990cfa42ff</td>\n",
       "    </tr>\n",
       "    <tr>\n",
       "      <th>2</th>\n",
       "      <td>mcorr</td>\n",
       "      <td>Sue_2x_3000_40_-46</td>\n",
       "      <td>example_movies/Sue_2x_3000_40_-46.tif</td>\n",
       "      <td>{'main': {'max_shifts': (1, 1), 'strides': (24, 24), 'overlaps': (12, 12), 'max_deviation_rigid': 3, 'border_nan': '...</td>\n",
       "      <td>{'mean-projection-path': d0f9ec15-e262-457b-94d6-899b915370c3/d0f9ec15-e262-457b-94d6-899b915370c3_mean_projection.n...</td>\n",
       "      <td>None</td>\n",
       "      <td>d0f9ec15-e262-457b-94d6-899b915370c3</td>\n",
       "    </tr>\n",
       "    <tr>\n",
       "      <th>3</th>\n",
       "      <td>mcorr</td>\n",
       "      <td>Sue_2x_3000_40_-46</td>\n",
       "      <td>example_movies/Sue_2x_3000_40_-46.tif</td>\n",
       "      <td>{'main': {'max_shifts': (6, 6), 'strides': (24, 24), 'overlaps': (12, 12), 'max_deviation_rigid': 3, 'border_nan': '...</td>\n",
       "      <td>{'mean-projection-path': 09610b86-917a-41e7-a493-2d036bf44428/09610b86-917a-41e7-a493-2d036bf44428_mean_projection.n...</td>\n",
       "      <td>None</td>\n",
       "      <td>09610b86-917a-41e7-a493-2d036bf44428</td>\n",
       "    </tr>\n",
       "    <tr>\n",
       "      <th>4</th>\n",
       "      <td>mcorr</td>\n",
       "      <td>Sue_2x_3000_40_-46</td>\n",
       "      <td>example_movies/Sue_2x_3000_40_-46.tif</td>\n",
       "      <td>{'main': {'max_shifts': (12, 12), 'strides': (24, 24), 'overlaps': (12, 12), 'max_deviation_rigid': 3, 'border_nan':...</td>\n",
       "      <td>{'mean-projection-path': 956ed968-61a8-48e0-ba98-e5f51db09f54/956ed968-61a8-48e0-ba98-e5f51db09f54_mean_projection.n...</td>\n",
       "      <td>None</td>\n",
       "      <td>956ed968-61a8-48e0-ba98-e5f51db09f54</td>\n",
       "    </tr>\n",
       "  </tbody>\n",
       "</table>\n",
       "</div>"
      ],
      "text/plain": [
       "    algo           item_name                       input_movie_path  \\\n",
       "0  mcorr  Sue_2x_3000_40_-46  example_movies/Sue_2x_3000_40_-46.tif   \n",
       "1  mcorr  Sue_2x_3000_40_-46  example_movies/Sue_2x_3000_40_-46.tif   \n",
       "2  mcorr  Sue_2x_3000_40_-46  example_movies/Sue_2x_3000_40_-46.tif   \n",
       "3  mcorr  Sue_2x_3000_40_-46  example_movies/Sue_2x_3000_40_-46.tif   \n",
       "4  mcorr  Sue_2x_3000_40_-46  example_movies/Sue_2x_3000_40_-46.tif   \n",
       "\n",
       "                                                                                                                    params  \\\n",
       "0  {'main': {'max_shifts': (24, 24), 'strides': (48, 48), 'overlaps': (24, 24), 'max_deviation_rigid': 3, 'border_nan':...   \n",
       "1  {'main': {'max_shifts': (24, 24), 'strides': (24, 24), 'overlaps': (12, 12), 'max_deviation_rigid': 3, 'border_nan':...   \n",
       "2  {'main': {'max_shifts': (1, 1), 'strides': (24, 24), 'overlaps': (12, 12), 'max_deviation_rigid': 3, 'border_nan': '...   \n",
       "3  {'main': {'max_shifts': (6, 6), 'strides': (24, 24), 'overlaps': (12, 12), 'max_deviation_rigid': 3, 'border_nan': '...   \n",
       "4  {'main': {'max_shifts': (12, 12), 'strides': (24, 24), 'overlaps': (12, 12), 'max_deviation_rigid': 3, 'border_nan':...   \n",
       "\n",
       "                                                                                                                   outputs  \\\n",
       "0  {'mean-projection-path': 12aeb4bb-e3d2-4b31-b2e6-8a52e200e88b/12aeb4bb-e3d2-4b31-b2e6-8a52e200e88b_mean_projection.n...   \n",
       "1  {'mean-projection-path': 642df48c-ae0a-4112-9ec0-3a990cfa42ff/642df48c-ae0a-4112-9ec0-3a990cfa42ff_mean_projection.n...   \n",
       "2  {'mean-projection-path': d0f9ec15-e262-457b-94d6-899b915370c3/d0f9ec15-e262-457b-94d6-899b915370c3_mean_projection.n...   \n",
       "3  {'mean-projection-path': 09610b86-917a-41e7-a493-2d036bf44428/09610b86-917a-41e7-a493-2d036bf44428_mean_projection.n...   \n",
       "4  {'mean-projection-path': 956ed968-61a8-48e0-ba98-e5f51db09f54/956ed968-61a8-48e0-ba98-e5f51db09f54_mean_projection.n...   \n",
       "\n",
       "  comments                                  uuid  \n",
       "0     None  12aeb4bb-e3d2-4b31-b2e6-8a52e200e88b  \n",
       "1     None  642df48c-ae0a-4112-9ec0-3a990cfa42ff  \n",
       "2     None  d0f9ec15-e262-457b-94d6-899b915370c3  \n",
       "3     None  09610b86-917a-41e7-a493-2d036bf44428  \n",
       "4     None  956ed968-61a8-48e0-ba98-e5f51db09f54  "
      ]
     },
     "execution_count": 19,
     "metadata": {},
     "output_type": "execute_result"
    }
   ],
   "source": [
    "df"
   ]
  },
  {
   "cell_type": "markdown",
   "id": "5c695833-7fc7-4fa0-a2fc-5d7885555c96",
   "metadata": {
    "pycharm": {
     "name": "#%% md\n"
    }
   },
   "source": [
    "# Check if the algorithm ran successfully for a item"
   ]
  },
  {
   "cell_type": "code",
   "execution_count": 20,
   "id": "43a416ef-7e5a-4006-b042-43c0ae98bc69",
   "metadata": {
    "pycharm": {
     "name": "#%%\n"
    }
   },
   "outputs": [
    {
     "data": {
      "text/plain": [
       "True"
      ]
     },
     "execution_count": 20,
     "metadata": {},
     "output_type": "execute_result"
    }
   ],
   "source": [
    "# True if the algo ran succesfully\n",
    "df.iloc[0][\"outputs\"][\"success\"]"
   ]
  },
  {
   "cell_type": "markdown",
   "id": "069ddc1e-50fc-4e67-bd68-ef1faf439e6e",
   "metadata": {},
   "source": [
    "# Visualization using `fastplotlib`\n",
    "You will need `fastplotlib` installed for this, see https://github.com/kushalkolar/fastplotlib"
   ]
  },
  {
   "cell_type": "markdown",
   "id": "005f08dc-d9b6-434d-85ef-ea3045677d14",
   "metadata": {
    "pycharm": {
     "name": "#%% md\n"
    }
   },
   "source": [
    "# Get the input movie and mcorr so we can visualize them\n",
    "\n",
    "Note that you DO NOT need to manually work with file paths. For tiff input files it returns it as a memmaped array (if possible) with lazy loading. It will try to use a mesmerize `LazyArray` if the file cannot be memmaped."
   ]
  },
  {
   "cell_type": "code",
   "execution_count": 21,
   "id": "b7233088-43d2-4705-ade8-30c48446fdef",
   "metadata": {
    "pycharm": {
     "name": "#%%\n"
    }
   },
   "outputs": [
    {
     "name": "stdout",
     "output_type": "stream",
     "text": [
      "Decode mmap filename /home/kushalk/caiman_data/mesmerize-core-batch/12aeb4bb-e3d2-4b31-b2e6-8a52e200e88b/12aeb4bb-e3d2-4b31-b2e6-8a52e200e88b-Sue_2x_3000_40_-46_els__d1_170_d2_170_d3_1_order_F_frames_3000.mmap\n"
     ]
    }
   ],
   "source": [
    "# you can change the index to look at the mcorr results of different batch items\n",
    "index = 0\n",
    "\n",
    "# get input movie as memmap\n",
    "input_movie = df.iloc[index].caiman.get_input_movie()\n",
    "\n",
    "# load mcorr output movie, also as a memmaped array\n",
    "mcorr_movie = df.iloc[index].mcorr.get_output()"
   ]
  },
  {
   "cell_type": "markdown",
   "id": "728bd6b0-c277-4803-a325-a4640be4f4ff",
   "metadata": {
    "pycharm": {
     "name": "#%% md\n"
    }
   },
   "source": [
    "# Visualize raw & MCorr movie side-by-side\n",
    "\n",
    "### fastplotlib `ImageWidget` to visualize raw & mcorr movie side by side\n",
    "\n",
    "`ImageWidget` assumes `\"txy\"` dimension order by default for 2D movies. You can set other orders using the `dims_order` kwarg"
   ]
  },
  {
   "cell_type": "code",
   "execution_count": 22,
   "id": "b9481967-b29c-44fe-9483-a5dfe4b51939",
   "metadata": {
    "pycharm": {
     "name": "#%%\n"
    }
   },
   "outputs": [
    {
     "data": {
      "application/vnd.jupyter.widget-view+json": {
       "model_id": "aca14d32173a4be49d0c1a2d968fcd38",
       "version_major": 2,
       "version_minor": 0
      },
      "text/plain": [
       "RFBOutputContext()"
      ]
     },
     "metadata": {},
     "output_type": "display_data"
    },
    {
     "data": {
      "application/vnd.jupyter.widget-view+json": {
       "model_id": "438cdced6ac34e4190d75ff2f2b09884",
       "version_major": 2,
       "version_minor": 0
      },
      "text/plain": [
       "VBox(children=(JupyterWgpuCanvas(), IntSlider(value=0, description='dimension: t', max=2999), FloatRangeSlider…"
      ]
     },
     "metadata": {},
     "output_type": "display_data"
    }
   ],
   "source": [
    "mcorr_iw = ImageWidget(\n",
    "    data=[input_movie, mcorr_movie], \n",
    "    vmin_vmax_sliders=True, \n",
    "    cmap=\"gnuplot2\"\n",
    ")\n",
    "mcorr_iw.show()"
   ]
  },
  {
   "cell_type": "markdown",
   "id": "8abd9c80-089b-4052-93b8-622efd5d607e",
   "metadata": {},
   "source": [
    "# Frame averaging over a window\n",
    "\n",
    "This makes it easier to visually inspect motion"
   ]
  },
  {
   "cell_type": "code",
   "execution_count": 23,
   "id": "a724b41e-828e-4984-b08e-fd1ae117fe5c",
   "metadata": {},
   "outputs": [],
   "source": [
    "# window function on the \"t\" (time) dimension, using mean of 17 frames\n",
    "mcorr_iw.window_funcs = {\"t\": (np.mean, 17)}"
   ]
  },
  {
   "cell_type": "markdown",
   "id": "0914941f-3f5c-444d-a5c0-19650f277680",
   "metadata": {},
   "source": [
    "## Close the canvas to free up GPU processing time, not necessary if you have a powerful GPU"
   ]
  },
  {
   "cell_type": "code",
   "execution_count": 24,
   "id": "c1b71c47-97a9-417b-bb6a-c8a63da61bd3",
   "metadata": {
    "pycharm": {
     "name": "#%%\n"
    }
   },
   "outputs": [],
   "source": [
    "mcorr_iw.plot.canvas.close()"
   ]
  },
  {
   "cell_type": "markdown",
   "id": "ad0ea6e4-27bf-4cdf-97de-07368dec532b",
   "metadata": {},
   "source": [
    "## With `ImageWidget` you can view all 5 mcorr results simultaneously!\n",
    "\n",
    "### This depends on your hard drive's capabilities"
   ]
  },
  {
   "cell_type": "code",
   "execution_count": 25,
   "id": "d0351fcd-58ef-47cf-9f72-6a6a116da929",
   "metadata": {},
   "outputs": [
    {
     "name": "stdout",
     "output_type": "stream",
     "text": [
      "Decode mmap filename /home/kushalk/caiman_data/mesmerize-core-batch/12aeb4bb-e3d2-4b31-b2e6-8a52e200e88b/12aeb4bb-e3d2-4b31-b2e6-8a52e200e88b-Sue_2x_3000_40_-46_els__d1_170_d2_170_d3_1_order_F_frames_3000.mmap\n",
      "Decode mmap filename /home/kushalk/caiman_data/mesmerize-core-batch/642df48c-ae0a-4112-9ec0-3a990cfa42ff/642df48c-ae0a-4112-9ec0-3a990cfa42ff-Sue_2x_3000_40_-46_els__d1_170_d2_170_d3_1_order_F_frames_3000.mmap\n",
      "Decode mmap filename /home/kushalk/caiman_data/mesmerize-core-batch/d0f9ec15-e262-457b-94d6-899b915370c3/d0f9ec15-e262-457b-94d6-899b915370c3-Sue_2x_3000_40_-46_els__d1_170_d2_170_d3_1_order_F_frames_3000.mmap\n",
      "Decode mmap filename /home/kushalk/caiman_data/mesmerize-core-batch/09610b86-917a-41e7-a493-2d036bf44428/09610b86-917a-41e7-a493-2d036bf44428-Sue_2x_3000_40_-46_els__d1_170_d2_170_d3_1_order_F_frames_3000.mmap\n",
      "Decode mmap filename /home/kushalk/caiman_data/mesmerize-core-batch/956ed968-61a8-48e0-ba98-e5f51db09f54/956ed968-61a8-48e0-ba98-e5f51db09f54-Sue_2x_3000_40_-46_els__d1_170_d2_170_d3_1_order_F_frames_3000.mmap\n"
     ]
    },
    {
     "data": {
      "application/vnd.jupyter.widget-view+json": {
       "model_id": "1cfc395d8c9746f69c2a1d62313e64bb",
       "version_major": 2,
       "version_minor": 0
      },
      "text/plain": [
       "RFBOutputContext()"
      ]
     },
     "metadata": {},
     "output_type": "display_data"
    },
    {
     "data": {
      "application/vnd.jupyter.widget-view+json": {
       "model_id": "7847222a400148518eb6abe14db4a76c",
       "version_major": 2,
       "version_minor": 0
      },
      "text/plain": [
       "VBox(children=(JupyterWgpuCanvas(), IntSlider(value=0, description='dimension: t', max=2999), FloatRangeSlider…"
      ]
     },
     "metadata": {},
     "output_type": "display_data"
    }
   ],
   "source": [
    "# first item is just the raw movie\n",
    "movies = [df.iloc[0].caiman.get_input_movie()]\n",
    "\n",
    "# subplot titles\n",
    "subplot_names = [\"raw\"]\n",
    "\n",
    "# we will use the mean images later\n",
    "means = [df.iloc[0].caiman.get_projection(\"mean\")]\n",
    "\n",
    "# add all the mcorr outputs to the list\n",
    "for i, row in df.iterrows():\n",
    "    # add to the list of movies to plot\n",
    "    movies.append(row.mcorr.get_output())\n",
    "    \n",
    "    # the unique params for this item\n",
    "    params = diffs.iloc[i]\n",
    "    \n",
    "    # subplot title to show dataframe index\n",
    "    subplot_names.append(f\"ix: {i}\")\n",
    "    \n",
    "    # mean images which we'll use later\n",
    "    means.append(row.caiman.get_projection(\"mean\"))\n",
    "\n",
    "# create the widget\n",
    "mcorr_iw_multiple = ImageWidget(\n",
    "    data=movies,  # list of movies\n",
    "    window_funcs={\"t\": (np.mean, 17)}, # window_funcs is also a kwarg\n",
    "    vmin_vmax_sliders=True,\n",
    "    names=subplot_names,  # subplot names used for titles\n",
    "    cmap=\"gnuplot2\"\n",
    ")\n",
    "mcorr_iw_multiple.show()"
   ]
  },
  {
   "cell_type": "code",
   "execution_count": 26,
   "id": "a96358a7-1039-452b-bdc2-97a64731ccb7",
   "metadata": {},
   "outputs": [
    {
     "name": "stderr",
     "output_type": "stream",
     "text": [
      "/tmp/ipykernel_286260/3787477196.py:1: FutureWarning: You are trying to use the following experimental feature, this may change in the future without warning:\n",
      "CaimanDataFrameExtensions.get_params_diffs\n",
      "This feature is new and the might improve in the future\n",
      "\n",
      "  df.caiman.get_params_diffs(algo=\"mcorr\", item_name=df.iloc[0][\"item_name\"])\n"
     ]
    },
    {
     "data": {
      "text/plain": [
       "0    {'overlaps': (24, 24), 'max_shifts': (24, 24), 'strides': (48, 48)}\n",
       "1    {'overlaps': (12, 12), 'max_shifts': (24, 24), 'strides': (24, 24)}\n",
       "2      {'overlaps': (12, 12), 'max_shifts': (1, 1), 'strides': (24, 24)}\n",
       "3      {'overlaps': (12, 12), 'max_shifts': (6, 6), 'strides': (24, 24)}\n",
       "4    {'overlaps': (12, 12), 'max_shifts': (12, 12), 'strides': (24, 24)}\n",
       "Name: params, dtype: object"
      ]
     },
     "execution_count": 26,
     "metadata": {},
     "output_type": "execute_result"
    }
   ],
   "source": [
    "df.caiman.get_params_diffs(algo=\"mcorr\", item_name=df.iloc[0][\"item_name\"])"
   ]
  },
  {
   "cell_type": "markdown",
   "id": "0f0f40f5-3f92-4d6d-a372-667e8bfb5672",
   "metadata": {},
   "source": [
    "### Modify the `window_funcs` at any time"
   ]
  },
  {
   "cell_type": "code",
   "execution_count": 27,
   "id": "cec3c2bf-e211-49fb-b7c8-bae5ceca99eb",
   "metadata": {},
   "outputs": [],
   "source": [
    "mcorr_iw_multiple.window_funcs[\"t\"].window_size = 7"
   ]
  },
  {
   "cell_type": "markdown",
   "id": "f39b9fea-6374-4de1-84ac-9bcabb7ab2c4",
   "metadata": {},
   "source": [
    "## There is some motion on the left side of of `ix: 2` at timepoint `1452`, `2037` and a few others. This will be more obvious if we substract a mean image from each frame. You can use `frame_apply` to apply a function before displaying frames in the `ImageWidget`\n",
    "\n",
    "This can be combined with `window_funcs` or used by itself. If used in combination with `window_funcs`, the window functions are computed first and then fed to `frame_apply`.\n",
    "\n",
    "For this example the `frame_apply` functions subtract the mean image for each movie.\n",
    "\n",
    "General form:\n",
    "\n",
    "```python\n",
    "{\n",
    "    data_ix: function() # returns 2D frame\n",
    "    ...\n",
    "}\n",
    "```"
   ]
  },
  {
   "cell_type": "code",
   "execution_count": 28,
   "id": "845ad96a-7d94-4e50-b50e-4f866ea07d4e",
   "metadata": {},
   "outputs": [],
   "source": [
    "subtract_means = {\n",
    "    0: lambda x: x - means[0],\n",
    "    1: lambda x: x - means[1],\n",
    "    2: lambda x: x - means[2],\n",
    "    3: lambda x: x - means[3],\n",
    "    4: lambda x: x - means[4],\n",
    "    5: lambda x: x - means[5]\n",
    "}"
   ]
  },
  {
   "cell_type": "code",
   "execution_count": 29,
   "id": "c175b726-808a-4ed1-ad98-1fac793f0833",
   "metadata": {},
   "outputs": [],
   "source": [
    "mcorr_iw_multiple.frame_apply = subtract_means"
   ]
  },
  {
   "cell_type": "markdown",
   "id": "6c99e411-b1c6-4f25-ad34-298702e64fab",
   "metadata": {},
   "source": [
    "### Different colormaps can make the motion more obvious"
   ]
  },
  {
   "cell_type": "code",
   "execution_count": 30,
   "id": "6edd2dd5-82fa-4325-9fe8-c04a96ac949b",
   "metadata": {},
   "outputs": [],
   "source": [
    "for sp in mcorr_iw_multiple.plot:\n",
    "    sp.get_graphics()[0].cmap = \"jet\""
   ]
  },
  {
   "cell_type": "code",
   "execution_count": 31,
   "id": "2bc649d3-c897-47da-a6d9-ae5d07e1f6cf",
   "metadata": {},
   "outputs": [],
   "source": [
    "# disable frame apply\n",
    "mcorr_iw_multiple.frame_apply = dict()"
   ]
  },
  {
   "cell_type": "markdown",
   "id": "de6b4f8f-b168-486a-9237-f31412b19ca8",
   "metadata": {},
   "source": [
    "# ix `3` seems to work the best so we will cleanup the DataFrame and remove all other items.\n",
    "\n",
    "### You can remove batch items (i.e. rows) using `df.caiman.remove_item(<item_uuid>)`\n",
    "\n",
    "**Note that this also cleans up the output data in the batch directory!**"
   ]
  },
  {
   "cell_type": "code",
   "execution_count": 32,
   "id": "cc1fb4fd-4cb3-41ca-9ec1-a62c15711afa",
   "metadata": {},
   "outputs": [
    {
     "data": {
      "text/plain": [
       "['09610b86-917a-41e7-a493-2d036bf44428']"
      ]
     },
     "execution_count": 32,
     "metadata": {},
     "output_type": "execute_result"
    }
   ],
   "source": [
    "# make a list of rows we want to keep using the uuids\n",
    "rows_keep = [df.iloc[3].uuid]\n",
    "rows_keep"
   ]
  },
  {
   "cell_type": "code",
   "execution_count": 33,
   "id": "0985f784-9ef1-4718-91ee-61c6c5b931c0",
   "metadata": {},
   "outputs": [
    {
     "name": "stderr",
     "output_type": "stream",
     "text": [
      "/home/kushalk/repos/mesmerize-core/mesmerize_core/caiman_extensions/common.py:206: FutureWarning: You are trying to use the following experimental feature, this may change in the future without warning:\n",
      "CaimanDataFrameExtensions.get_children\n",
      "This feature will change in the future and directly return the  a DataFrame of children (rows, ie. child batch items row) instead of a list of UUIDs\n",
      "\n",
      "  children = self.get_children(index)\n",
      "/home/kushalk/repos/mesmerize-core/mesmerize_core/caiman_extensions/common.py:206: FutureWarning: You are trying to use the following experimental feature, this may change in the future without warning:\n",
      "CaimanDataFrameExtensions.get_children\n",
      "This feature will change in the future and directly return the  a DataFrame of children (rows, ie. child batch items row) instead of a list of UUIDs\n",
      "\n",
      "  children = self.get_children(index)\n",
      "/home/kushalk/repos/mesmerize-core/mesmerize_core/caiman_extensions/common.py:206: FutureWarning: You are trying to use the following experimental feature, this may change in the future without warning:\n",
      "CaimanDataFrameExtensions.get_children\n",
      "This feature will change in the future and directly return the  a DataFrame of children (rows, ie. child batch items row) instead of a list of UUIDs\n",
      "\n",
      "  children = self.get_children(index)\n",
      "/home/kushalk/repos/mesmerize-core/mesmerize_core/caiman_extensions/common.py:206: FutureWarning: You are trying to use the following experimental feature, this may change in the future without warning:\n",
      "CaimanDataFrameExtensions.get_children\n",
      "This feature will change in the future and directly return the  a DataFrame of children (rows, ie. child batch items row) instead of a list of UUIDs\n",
      "\n",
      "  children = self.get_children(index)\n"
     ]
    },
    {
     "data": {
      "text/html": [
       "<div>\n",
       "<style scoped>\n",
       "    .dataframe tbody tr th:only-of-type {\n",
       "        vertical-align: middle;\n",
       "    }\n",
       "\n",
       "    .dataframe tbody tr th {\n",
       "        vertical-align: top;\n",
       "    }\n",
       "\n",
       "    .dataframe thead th {\n",
       "        text-align: right;\n",
       "    }\n",
       "</style>\n",
       "<table border=\"1\" class=\"dataframe\">\n",
       "  <thead>\n",
       "    <tr style=\"text-align: right;\">\n",
       "      <th></th>\n",
       "      <th>algo</th>\n",
       "      <th>item_name</th>\n",
       "      <th>input_movie_path</th>\n",
       "      <th>params</th>\n",
       "      <th>outputs</th>\n",
       "      <th>comments</th>\n",
       "      <th>uuid</th>\n",
       "    </tr>\n",
       "  </thead>\n",
       "  <tbody>\n",
       "    <tr>\n",
       "      <th>0</th>\n",
       "      <td>mcorr</td>\n",
       "      <td>Sue_2x_3000_40_-46</td>\n",
       "      <td>example_movies/Sue_2x_3000_40_-46.tif</td>\n",
       "      <td>{'main': {'max_shifts': (6, 6), 'strides': (24, 24), 'overlaps': (12, 12), 'max_deviation_rigid': 3, 'border_nan': '...</td>\n",
       "      <td>{'mean-projection-path': 09610b86-917a-41e7-a493-2d036bf44428/09610b86-917a-41e7-a493-2d036bf44428_mean_projection.n...</td>\n",
       "      <td>None</td>\n",
       "      <td>09610b86-917a-41e7-a493-2d036bf44428</td>\n",
       "    </tr>\n",
       "  </tbody>\n",
       "</table>\n",
       "</div>"
      ],
      "text/plain": [
       "    algo           item_name                       input_movie_path  \\\n",
       "0  mcorr  Sue_2x_3000_40_-46  example_movies/Sue_2x_3000_40_-46.tif   \n",
       "\n",
       "                                                                                                                    params  \\\n",
       "0  {'main': {'max_shifts': (6, 6), 'strides': (24, 24), 'overlaps': (12, 12), 'max_deviation_rigid': 3, 'border_nan': '...   \n",
       "\n",
       "                                                                                                                   outputs  \\\n",
       "0  {'mean-projection-path': 09610b86-917a-41e7-a493-2d036bf44428/09610b86-917a-41e7-a493-2d036bf44428_mean_projection.n...   \n",
       "\n",
       "  comments                                  uuid  \n",
       "0     None  09610b86-917a-41e7-a493-2d036bf44428  "
      ]
     },
     "execution_count": 33,
     "metadata": {},
     "output_type": "execute_result"
    }
   ],
   "source": [
    "for i, row in df.iterrows():\n",
    "    if row.uuid not in rows_keep:\n",
    "        df.caiman.remove_item(row.uuid)\n",
    "\n",
    "df"
   ]
  },
  {
   "cell_type": "markdown",
   "id": "147fe036-370c-4b40-ad74-c74cc62fb380",
   "metadata": {},
   "source": [
    "### As you can see above, the numerical index changed for what was previously item 3. Indices are always reset when you use `caiman.remove_item()`. However, UUIDs are always maintained."
   ]
  },
  {
   "cell_type": "markdown",
   "id": "6dc1260b-634c-49cc-b99b-10c44b3af72d",
   "metadata": {
    "pycharm": {
     "name": "#%% md\n"
    }
   },
   "source": [
    "# CNMF\n",
    "\n",
    "## Continue from mcorr above and perform CNMF using the good mcorr output.\n",
    "\n",
    "First, the params for CNMF. Put the CNMF params within the `main` key, `refit` is if you want to run CNMF for a second iteration."
   ]
  },
  {
   "cell_type": "code",
   "execution_count": 36,
   "id": "cc283595-b82a-4270-a51b-f1d9cdc78d19",
   "metadata": {
    "pycharm": {
     "name": "#%%\n"
    }
   },
   "outputs": [],
   "source": [
    "# some params for CNMF\n",
    "params_cnmf =\\\n",
    "{\n",
    "    'main': # indicates that these are the \"main\" params for the CNMF algo\n",
    "        {\n",
    "            'fr': 30, # framerate, very important!\n",
    "            'p': 1,\n",
    "            'nb': 2,\n",
    "            'merge_thr': 0.85,\n",
    "            'rf': 15,\n",
    "            'stride': 6, # \"stride\" for cnmf, \"strides\" for mcorr\n",
    "            'K': 4,\n",
    "            'gSig': [4, 4],\n",
    "            'ssub': 1,\n",
    "            'tsub': 1,\n",
    "            'method_init': 'greedy_roi',\n",
    "            'min_SNR': 2.0,\n",
    "            'rval_thr': 0.7,\n",
    "            'use_cnn': True,\n",
    "            'min_cnn_thr': 0.8,\n",
    "            'cnn_lowest': 0.1,\n",
    "            'decay_time': 0.4,\n",
    "        },\n",
    "    'refit': True, # If `True`, run a second iteration of CNMF\n",
    "}"
   ]
  },
  {
   "cell_type": "markdown",
   "id": "31ba4f19-8764-446f-895d-7ff59912f604",
   "metadata": {},
   "source": [
    "### Add a single cnmf item to the batch"
   ]
  },
  {
   "cell_type": "code",
   "execution_count": 35,
   "id": "29c48dd1-0eb5-48e5-96ab-0b2633983b88",
   "metadata": {
    "pycharm": {
     "name": "#%%\n"
    }
   },
   "outputs": [],
   "source": [
    "# add a batch item\n",
    "df.caiman.add_item(\n",
    "    algo='cnmf', # algo is cnmf\n",
    "    input_movie_path=df.iloc[0],  # use mcorr output from a completed batch item\n",
    "    params=params_cnmf,\n",
    "    item_name=df.iloc[0][\"item_name\"], # use the same item name\n",
    ")"
   ]
  },
  {
   "cell_type": "markdown",
   "id": "ae1b2d80-1d6f-403b-b98a-3471c96f57d6",
   "metadata": {},
   "source": [
    "### Just like with motion correction, we can use loops to add multiple parameter variants. This is useful to perform a parameter search to find the params that work best for your dataset. Here I will use `itertools.product` which is better than deeply nested loops."
   ]
  },
  {
   "cell_type": "code",
   "execution_count": 37,
   "id": "fc7684d2-3d2c-43ac-9064-ba3997f7a1c8",
   "metadata": {},
   "outputs": [],
   "source": [
    "from itertools import product\n",
    "\n",
    "# variants of several parameters\n",
    "gSig_variants = [6, 8]\n",
    "K_variants = [4, 8]\n",
    "merge_thr_variants = [0.8, 0.95]\n",
    "\n",
    "# always use deepcopy like before\n",
    "new_params_cnmf = deepcopy(params_cnmf)\n",
    "\n",
    "# create a parameter grid\n",
    "parameter_grid = product(gSig_variants, K_variants, merge_thr_variants)\n",
    "\n",
    "# a single for loop to go through all the various parameter combinations\n",
    "for gSig, K, merge_thr in parameter_grid:\n",
    "    # deep copy params dict just like before\n",
    "    new_params_cnmf = deepcopy(new_params_cnmf)\n",
    "    \n",
    "    new_params_cnmf[\"main\"][\"gSig\"] = [gSig, gSig]\n",
    "    new_params_cnmf[\"main\"][\"K\"] = K\n",
    "    new_params_cnmf[\"main\"][\"merge_thr\"] = merge_thr\n",
    "    \n",
    "    # add param combination variant to batch\n",
    "    df.caiman.add_item(\n",
    "        algo=\"cnmf\",\n",
    "        item_name=df.iloc[0][\"item_name\"],\n",
    "        input_movie_path=df.iloc[0],\n",
    "        params=new_params_cnmf\n",
    "    )"
   ]
  },
  {
   "cell_type": "markdown",
   "id": "5cb21a8e-709d-4888-bbd9-42653f700240",
   "metadata": {},
   "source": [
    "### See that there are a lot of new cnmf batch items"
   ]
  },
  {
   "cell_type": "code",
   "execution_count": 38,
   "id": "0fb3f94d-34d2-4eef-ad2d-b4f6db89fa72",
   "metadata": {},
   "outputs": [
    {
     "data": {
      "text/html": [
       "<div>\n",
       "<style scoped>\n",
       "    .dataframe tbody tr th:only-of-type {\n",
       "        vertical-align: middle;\n",
       "    }\n",
       "\n",
       "    .dataframe tbody tr th {\n",
       "        vertical-align: top;\n",
       "    }\n",
       "\n",
       "    .dataframe thead th {\n",
       "        text-align: right;\n",
       "    }\n",
       "</style>\n",
       "<table border=\"1\" class=\"dataframe\">\n",
       "  <thead>\n",
       "    <tr style=\"text-align: right;\">\n",
       "      <th></th>\n",
       "      <th>algo</th>\n",
       "      <th>item_name</th>\n",
       "      <th>input_movie_path</th>\n",
       "      <th>params</th>\n",
       "      <th>outputs</th>\n",
       "      <th>comments</th>\n",
       "      <th>uuid</th>\n",
       "    </tr>\n",
       "  </thead>\n",
       "  <tbody>\n",
       "    <tr>\n",
       "      <th>0</th>\n",
       "      <td>mcorr</td>\n",
       "      <td>Sue_2x_3000_40_-46</td>\n",
       "      <td>example_movies/Sue_2x_3000_40_-46.tif</td>\n",
       "      <td>{'main': {'max_shifts': (6, 6), 'strides': (24, 24), 'overlaps': (12, 12), 'max_deviation_rigid': 3, 'border_nan': '...</td>\n",
       "      <td>{'mean-projection-path': 09610b86-917a-41e7-a493-2d036bf44428/09610b86-917a-41e7-a493-2d036bf44428_mean_projection.n...</td>\n",
       "      <td>None</td>\n",
       "      <td>09610b86-917a-41e7-a493-2d036bf44428</td>\n",
       "    </tr>\n",
       "    <tr>\n",
       "      <th>1</th>\n",
       "      <td>cnmf</td>\n",
       "      <td>Sue_2x_3000_40_-46</td>\n",
       "      <td>09610b86-917a-41e7-a493-2d036bf44428/09610b86-917a-41e7-a493-2d036bf44428-Sue_2x_3000_40_-46_els__d1_170_d2_170_d3_1...</td>\n",
       "      <td>{'main': {'fr': 30, 'p': 1, 'nb': 2, 'merge_thr': 0.85, 'rf': 15, 'stride': 6, 'K': 4, 'gSig': (4, 4), 'ssub': 1, 't...</td>\n",
       "      <td>None</td>\n",
       "      <td>None</td>\n",
       "      <td>2b9dabd8-7d22-4327-8479-aea36bde79cf</td>\n",
       "    </tr>\n",
       "    <tr>\n",
       "      <th>2</th>\n",
       "      <td>cnmf</td>\n",
       "      <td>Sue_2x_3000_40_-46</td>\n",
       "      <td>09610b86-917a-41e7-a493-2d036bf44428/09610b86-917a-41e7-a493-2d036bf44428-Sue_2x_3000_40_-46_els__d1_170_d2_170_d3_1...</td>\n",
       "      <td>{'main': {'fr': 30, 'p': 1, 'nb': 2, 'merge_thr': 0.8, 'rf': 15, 'stride': 6, 'K': 4, 'gSig': (6, 6), 'ssub': 1, 'ts...</td>\n",
       "      <td>None</td>\n",
       "      <td>None</td>\n",
       "      <td>38f85afb-417f-453a-8da5-28753b0dc290</td>\n",
       "    </tr>\n",
       "    <tr>\n",
       "      <th>3</th>\n",
       "      <td>cnmf</td>\n",
       "      <td>Sue_2x_3000_40_-46</td>\n",
       "      <td>09610b86-917a-41e7-a493-2d036bf44428/09610b86-917a-41e7-a493-2d036bf44428-Sue_2x_3000_40_-46_els__d1_170_d2_170_d3_1...</td>\n",
       "      <td>{'main': {'fr': 30, 'p': 1, 'nb': 2, 'merge_thr': 0.95, 'rf': 15, 'stride': 6, 'K': 4, 'gSig': (6, 6), 'ssub': 1, 't...</td>\n",
       "      <td>None</td>\n",
       "      <td>None</td>\n",
       "      <td>a49689ad-f093-49ff-9a86-058835eccd34</td>\n",
       "    </tr>\n",
       "    <tr>\n",
       "      <th>4</th>\n",
       "      <td>cnmf</td>\n",
       "      <td>Sue_2x_3000_40_-46</td>\n",
       "      <td>09610b86-917a-41e7-a493-2d036bf44428/09610b86-917a-41e7-a493-2d036bf44428-Sue_2x_3000_40_-46_els__d1_170_d2_170_d3_1...</td>\n",
       "      <td>{'main': {'fr': 30, 'p': 1, 'nb': 2, 'merge_thr': 0.8, 'rf': 15, 'stride': 6, 'K': 8, 'gSig': (6, 6), 'ssub': 1, 'ts...</td>\n",
       "      <td>None</td>\n",
       "      <td>None</td>\n",
       "      <td>f67dbcb9-fd5b-4d81-acc4-f080a7f81db4</td>\n",
       "    </tr>\n",
       "    <tr>\n",
       "      <th>5</th>\n",
       "      <td>cnmf</td>\n",
       "      <td>Sue_2x_3000_40_-46</td>\n",
       "      <td>09610b86-917a-41e7-a493-2d036bf44428/09610b86-917a-41e7-a493-2d036bf44428-Sue_2x_3000_40_-46_els__d1_170_d2_170_d3_1...</td>\n",
       "      <td>{'main': {'fr': 30, 'p': 1, 'nb': 2, 'merge_thr': 0.95, 'rf': 15, 'stride': 6, 'K': 8, 'gSig': (6, 6), 'ssub': 1, 't...</td>\n",
       "      <td>None</td>\n",
       "      <td>None</td>\n",
       "      <td>ff76c624-2c29-4c2d-ba91-3eb471a8e9e3</td>\n",
       "    </tr>\n",
       "    <tr>\n",
       "      <th>6</th>\n",
       "      <td>cnmf</td>\n",
       "      <td>Sue_2x_3000_40_-46</td>\n",
       "      <td>09610b86-917a-41e7-a493-2d036bf44428/09610b86-917a-41e7-a493-2d036bf44428-Sue_2x_3000_40_-46_els__d1_170_d2_170_d3_1...</td>\n",
       "      <td>{'main': {'fr': 30, 'p': 1, 'nb': 2, 'merge_thr': 0.8, 'rf': 15, 'stride': 6, 'K': 4, 'gSig': (8, 8), 'ssub': 1, 'ts...</td>\n",
       "      <td>None</td>\n",
       "      <td>None</td>\n",
       "      <td>879d1d8b-dfe7-4b4f-aa2f-b987d83f7788</td>\n",
       "    </tr>\n",
       "    <tr>\n",
       "      <th>7</th>\n",
       "      <td>cnmf</td>\n",
       "      <td>Sue_2x_3000_40_-46</td>\n",
       "      <td>09610b86-917a-41e7-a493-2d036bf44428/09610b86-917a-41e7-a493-2d036bf44428-Sue_2x_3000_40_-46_els__d1_170_d2_170_d3_1...</td>\n",
       "      <td>{'main': {'fr': 30, 'p': 1, 'nb': 2, 'merge_thr': 0.95, 'rf': 15, 'stride': 6, 'K': 4, 'gSig': (8, 8), 'ssub': 1, 't...</td>\n",
       "      <td>None</td>\n",
       "      <td>None</td>\n",
       "      <td>539745c5-ec3e-4a63-a7c2-eb41af9a080e</td>\n",
       "    </tr>\n",
       "    <tr>\n",
       "      <th>8</th>\n",
       "      <td>cnmf</td>\n",
       "      <td>Sue_2x_3000_40_-46</td>\n",
       "      <td>09610b86-917a-41e7-a493-2d036bf44428/09610b86-917a-41e7-a493-2d036bf44428-Sue_2x_3000_40_-46_els__d1_170_d2_170_d3_1...</td>\n",
       "      <td>{'main': {'fr': 30, 'p': 1, 'nb': 2, 'merge_thr': 0.8, 'rf': 15, 'stride': 6, 'K': 8, 'gSig': (8, 8), 'ssub': 1, 'ts...</td>\n",
       "      <td>None</td>\n",
       "      <td>None</td>\n",
       "      <td>da760704-f760-4f34-b26a-06eb5cc3cfec</td>\n",
       "    </tr>\n",
       "    <tr>\n",
       "      <th>9</th>\n",
       "      <td>cnmf</td>\n",
       "      <td>Sue_2x_3000_40_-46</td>\n",
       "      <td>09610b86-917a-41e7-a493-2d036bf44428/09610b86-917a-41e7-a493-2d036bf44428-Sue_2x_3000_40_-46_els__d1_170_d2_170_d3_1...</td>\n",
       "      <td>{'main': {'fr': 30, 'p': 1, 'nb': 2, 'merge_thr': 0.95, 'rf': 15, 'stride': 6, 'K': 8, 'gSig': (8, 8), 'ssub': 1, 't...</td>\n",
       "      <td>None</td>\n",
       "      <td>None</td>\n",
       "      <td>f4474d42-f6ae-4fba-a1a5-c181b4b1796e</td>\n",
       "    </tr>\n",
       "  </tbody>\n",
       "</table>\n",
       "</div>"
      ],
      "text/plain": [
       "    algo           item_name  \\\n",
       "0  mcorr  Sue_2x_3000_40_-46   \n",
       "1   cnmf  Sue_2x_3000_40_-46   \n",
       "2   cnmf  Sue_2x_3000_40_-46   \n",
       "3   cnmf  Sue_2x_3000_40_-46   \n",
       "4   cnmf  Sue_2x_3000_40_-46   \n",
       "5   cnmf  Sue_2x_3000_40_-46   \n",
       "6   cnmf  Sue_2x_3000_40_-46   \n",
       "7   cnmf  Sue_2x_3000_40_-46   \n",
       "8   cnmf  Sue_2x_3000_40_-46   \n",
       "9   cnmf  Sue_2x_3000_40_-46   \n",
       "\n",
       "                                                                                                          input_movie_path  \\\n",
       "0                                                                                    example_movies/Sue_2x_3000_40_-46.tif   \n",
       "1  09610b86-917a-41e7-a493-2d036bf44428/09610b86-917a-41e7-a493-2d036bf44428-Sue_2x_3000_40_-46_els__d1_170_d2_170_d3_1...   \n",
       "2  09610b86-917a-41e7-a493-2d036bf44428/09610b86-917a-41e7-a493-2d036bf44428-Sue_2x_3000_40_-46_els__d1_170_d2_170_d3_1...   \n",
       "3  09610b86-917a-41e7-a493-2d036bf44428/09610b86-917a-41e7-a493-2d036bf44428-Sue_2x_3000_40_-46_els__d1_170_d2_170_d3_1...   \n",
       "4  09610b86-917a-41e7-a493-2d036bf44428/09610b86-917a-41e7-a493-2d036bf44428-Sue_2x_3000_40_-46_els__d1_170_d2_170_d3_1...   \n",
       "5  09610b86-917a-41e7-a493-2d036bf44428/09610b86-917a-41e7-a493-2d036bf44428-Sue_2x_3000_40_-46_els__d1_170_d2_170_d3_1...   \n",
       "6  09610b86-917a-41e7-a493-2d036bf44428/09610b86-917a-41e7-a493-2d036bf44428-Sue_2x_3000_40_-46_els__d1_170_d2_170_d3_1...   \n",
       "7  09610b86-917a-41e7-a493-2d036bf44428/09610b86-917a-41e7-a493-2d036bf44428-Sue_2x_3000_40_-46_els__d1_170_d2_170_d3_1...   \n",
       "8  09610b86-917a-41e7-a493-2d036bf44428/09610b86-917a-41e7-a493-2d036bf44428-Sue_2x_3000_40_-46_els__d1_170_d2_170_d3_1...   \n",
       "9  09610b86-917a-41e7-a493-2d036bf44428/09610b86-917a-41e7-a493-2d036bf44428-Sue_2x_3000_40_-46_els__d1_170_d2_170_d3_1...   \n",
       "\n",
       "                                                                                                                    params  \\\n",
       "0  {'main': {'max_shifts': (6, 6), 'strides': (24, 24), 'overlaps': (12, 12), 'max_deviation_rigid': 3, 'border_nan': '...   \n",
       "1  {'main': {'fr': 30, 'p': 1, 'nb': 2, 'merge_thr': 0.85, 'rf': 15, 'stride': 6, 'K': 4, 'gSig': (4, 4), 'ssub': 1, 't...   \n",
       "2  {'main': {'fr': 30, 'p': 1, 'nb': 2, 'merge_thr': 0.8, 'rf': 15, 'stride': 6, 'K': 4, 'gSig': (6, 6), 'ssub': 1, 'ts...   \n",
       "3  {'main': {'fr': 30, 'p': 1, 'nb': 2, 'merge_thr': 0.95, 'rf': 15, 'stride': 6, 'K': 4, 'gSig': (6, 6), 'ssub': 1, 't...   \n",
       "4  {'main': {'fr': 30, 'p': 1, 'nb': 2, 'merge_thr': 0.8, 'rf': 15, 'stride': 6, 'K': 8, 'gSig': (6, 6), 'ssub': 1, 'ts...   \n",
       "5  {'main': {'fr': 30, 'p': 1, 'nb': 2, 'merge_thr': 0.95, 'rf': 15, 'stride': 6, 'K': 8, 'gSig': (6, 6), 'ssub': 1, 't...   \n",
       "6  {'main': {'fr': 30, 'p': 1, 'nb': 2, 'merge_thr': 0.8, 'rf': 15, 'stride': 6, 'K': 4, 'gSig': (8, 8), 'ssub': 1, 'ts...   \n",
       "7  {'main': {'fr': 30, 'p': 1, 'nb': 2, 'merge_thr': 0.95, 'rf': 15, 'stride': 6, 'K': 4, 'gSig': (8, 8), 'ssub': 1, 't...   \n",
       "8  {'main': {'fr': 30, 'p': 1, 'nb': 2, 'merge_thr': 0.8, 'rf': 15, 'stride': 6, 'K': 8, 'gSig': (8, 8), 'ssub': 1, 'ts...   \n",
       "9  {'main': {'fr': 30, 'p': 1, 'nb': 2, 'merge_thr': 0.95, 'rf': 15, 'stride': 6, 'K': 8, 'gSig': (8, 8), 'ssub': 1, 't...   \n",
       "\n",
       "                                                                                                                   outputs  \\\n",
       "0  {'mean-projection-path': 09610b86-917a-41e7-a493-2d036bf44428/09610b86-917a-41e7-a493-2d036bf44428_mean_projection.n...   \n",
       "1                                                                                                                     None   \n",
       "2                                                                                                                     None   \n",
       "3                                                                                                                     None   \n",
       "4                                                                                                                     None   \n",
       "5                                                                                                                     None   \n",
       "6                                                                                                                     None   \n",
       "7                                                                                                                     None   \n",
       "8                                                                                                                     None   \n",
       "9                                                                                                                     None   \n",
       "\n",
       "  comments                                  uuid  \n",
       "0     None  09610b86-917a-41e7-a493-2d036bf44428  \n",
       "1     None  2b9dabd8-7d22-4327-8479-aea36bde79cf  \n",
       "2     None  38f85afb-417f-453a-8da5-28753b0dc290  \n",
       "3     None  a49689ad-f093-49ff-9a86-058835eccd34  \n",
       "4     None  f67dbcb9-fd5b-4d81-acc4-f080a7f81db4  \n",
       "5     None  ff76c624-2c29-4c2d-ba91-3eb471a8e9e3  \n",
       "6     None  879d1d8b-dfe7-4b4f-aa2f-b987d83f7788  \n",
       "7     None  539745c5-ec3e-4a63-a7c2-eb41af9a080e  \n",
       "8     None  da760704-f760-4f34-b26a-06eb5cc3cfec  \n",
       "9     None  f4474d42-f6ae-4fba-a1a5-c181b4b1796e  "
      ]
     },
     "execution_count": 38,
     "metadata": {},
     "output_type": "execute_result"
    }
   ],
   "source": [
    "df"
   ]
  },
  {
   "cell_type": "markdown",
   "id": "9bf8dce3-b0f7-43b0-b719-774673b6cb25",
   "metadata": {},
   "source": [
    "## Since it is difficult to see the different parameter variants above, we can just view the diffs\n",
    "\n",
    "### The index numbers on the diffs correspond to the indices in the parent DataFrame above"
   ]
  },
  {
   "cell_type": "code",
   "execution_count": 39,
   "id": "80b98249-b3b5-4481-a4e2-dbdcbf8d1ed9",
   "metadata": {},
   "outputs": [
    {
     "name": "stderr",
     "output_type": "stream",
     "text": [
      "/tmp/ipykernel_286260/3330105589.py:1: FutureWarning: You are trying to use the following experimental feature, this may change in the future without warning:\n",
      "CaimanDataFrameExtensions.get_params_diffs\n",
      "This feature is new and the might improve in the future\n",
      "\n",
      "  df.caiman.get_params_diffs(algo=\"cnmf\", item_name=df.iloc[1][\"item_name\"])\n"
     ]
    },
    {
     "data": {
      "text/plain": [
       "1    {'K': 4, 'gSig': (4, 4), 'merge_thr': 0.85}\n",
       "2     {'K': 4, 'gSig': (6, 6), 'merge_thr': 0.8}\n",
       "3    {'K': 4, 'gSig': (6, 6), 'merge_thr': 0.95}\n",
       "4     {'K': 8, 'gSig': (6, 6), 'merge_thr': 0.8}\n",
       "5    {'K': 8, 'gSig': (6, 6), 'merge_thr': 0.95}\n",
       "6     {'K': 4, 'gSig': (8, 8), 'merge_thr': 0.8}\n",
       "7    {'K': 4, 'gSig': (8, 8), 'merge_thr': 0.95}\n",
       "8     {'K': 8, 'gSig': (8, 8), 'merge_thr': 0.8}\n",
       "9    {'K': 8, 'gSig': (8, 8), 'merge_thr': 0.95}\n",
       "Name: params, dtype: object"
      ]
     },
     "execution_count": 39,
     "metadata": {},
     "output_type": "execute_result"
    }
   ],
   "source": [
    "df.caiman.get_params_diffs(algo=\"cnmf\", item_name=df.iloc[1][\"item_name\"])"
   ]
  },
  {
   "cell_type": "markdown",
   "id": "628a194f-39c3-45a7-a029-53925763cc1e",
   "metadata": {},
   "source": [
    "### Run the added `cnmf` batch items, they start at index 1 as we can see from the DataFrame."
   ]
  },
  {
   "cell_type": "code",
   "execution_count": 40,
   "id": "2c6886a3-9071-494d-a3f1-0c8ba7c53b56",
   "metadata": {
    "pycharm": {
     "name": "#%%\n"
    },
    "scrolled": true,
    "tags": []
   },
   "outputs": [
    {
     "name": "stderr",
     "output_type": "stream",
     "text": [
      "2023-01-08 01:31:09.620801: I tensorflow/core/platform/cpu_feature_guard.cc:193] This TensorFlow binary is optimized with oneAPI Deep Neural Network Library (oneDNN) to use the following CPU instructions in performance-critical operations:  AVX2 FMA\n",
      "To enable them in other operations, rebuild TensorFlow with the appropriate compiler flags.\n",
      "2023-01-08 01:31:09.704789: E tensorflow/stream_executor/cuda/cuda_blas.cc:2981] Unable to register cuBLAS factory: Attempting to register factory for plugin cuBLAS when one has already been registered\n",
      "2023-01-08 01:31:10.078529: W tensorflow/stream_executor/platform/default/dso_loader.cc:64] Could not load dynamic library 'libnvinfer.so.7'; dlerror: libnvinfer.so.7: cannot open shared object file: No such file or directory; LD_LIBRARY_PATH: /home/kushalk/python-venvs/mescore/lib/python3.10/site-packages/cv2/../../lib64:/home/kushalk/python-venvs/mescore/lib/python3.10/site-packages/cv2/../../lib64:/usr/local/cuda-11.2/lib64:/usr/local/cuda-11.2/lib64\n",
      "2023-01-08 01:31:10.078586: W tensorflow/stream_executor/platform/default/dso_loader.cc:64] Could not load dynamic library 'libnvinfer_plugin.so.7'; dlerror: libnvinfer_plugin.so.7: cannot open shared object file: No such file or directory; LD_LIBRARY_PATH: /home/kushalk/python-venvs/mescore/lib/python3.10/site-packages/cv2/../../lib64:/home/kushalk/python-venvs/mescore/lib/python3.10/site-packages/cv2/../../lib64:/usr/local/cuda-11.2/lib64:/usr/local/cuda-11.2/lib64\n",
      "2023-01-08 01:31:10.078590: W tensorflow/compiler/tf2tensorrt/utils/py_utils.cc:38] TF-TRT Warning: Cannot dlopen some TensorRT libraries. If you would like to use Nvidia GPU with TensorRT, please make sure the missing libraries mentioned above are installed properly.\n"
     ]
    },
    {
     "name": "stdout",
     "output_type": "stream",
     "text": [
      "************************************************************************\n",
      "\n",
      "Starting CNMF item:\n",
      "algo                                                             cnmf\n",
      "item_name                                          Sue_2x_3000_40_-46\n",
      "input_movie_path    09610b86-917a-41e7-a493-2d036bf44428/09610b86-...\n",
      "params              {'main': {'fr': 30, 'p': 1, 'nb': 2, 'merge_th...\n",
      "outputs                                                          None\n",
      "comments                                                         None\n",
      "uuid                             2b9dabd8-7d22-4327-8479-aea36bde79cf\n",
      "Name: 1, dtype: object\n",
      "With params:{'main': {'fr': 30, 'p': 1, 'nb': 2, 'merge_thr': 0.85, 'rf': 15, 'stride': 6, 'K': 4, 'gSig': (4, 4), 'ssub': 1, 'tsub': 1, 'method_init': 'greedy_roi', 'min_SNR': 2.0, 'rval_thr': 0.7, 'use_cnn': True, 'min_cnn_thr': 0.8, 'cnn_lowest': 0.1, 'decay_time': 0.4}, 'refit': True}\n",
      "Decode mmap filename /home/kushalk/caiman_data/mesmerize-core-batch/09610b86-917a-41e7-a493-2d036bf44428/09610b86-917a-41e7-a493-2d036bf44428-Sue_2x_3000_40_-46_els__d1_170_d2_170_d3_1_order_F_frames_3000.mmap\n",
      "making memmap\n",
      "Decode mmap filename /home/kushalk/caiman_data/mesmerize-core-batch/09610b86-917a-41e7-a493-2d036bf44428/2b9dabd8-7d22-4327-8479-aea36bde79cf_cnmf-memmap_d1_170_d2_170_d3_1_order_C_frames_3000.mmap\n"
     ]
    },
    {
     "name": "stderr",
     "output_type": "stream",
     "text": [
      "WARNING:root:Component 17 is only active jointly with neighboring components. Space correlation calculation might be unreliable.\n",
      "WARNING:root:Component 18 is only active jointly with neighboring components. Space correlation calculation might be unreliable.\n",
      "WARNING:root:Component 27 is only active jointly with neighboring components. Space correlation calculation might be unreliable.\n",
      "WARNING:root:Component 41 is only active jointly with neighboring components. Space correlation calculation might be unreliable.\n",
      "WARNING:root:Component 45 is only active jointly with neighboring components. Space correlation calculation might be unreliable.\n",
      "2023-01-08 01:31:22.359823: E tensorflow/stream_executor/cuda/cuda_driver.cc:265] failed call to cuInit: CUDA_ERROR_NO_DEVICE: no CUDA-capable device is detected\n",
      "2023-01-08 01:31:22.359852: I tensorflow/stream_executor/cuda/cuda_diagnostics.cc:169] retrieving CUDA diagnostic information for host: hantman-calcium\n",
      "2023-01-08 01:31:22.359858: I tensorflow/stream_executor/cuda/cuda_diagnostics.cc:176] hostname: hantman-calcium\n",
      "2023-01-08 01:31:22.360004: I tensorflow/stream_executor/cuda/cuda_diagnostics.cc:200] libcuda reported version is: 470.161.3\n",
      "2023-01-08 01:31:22.360026: I tensorflow/stream_executor/cuda/cuda_diagnostics.cc:204] kernel reported version is: 470.161.3\n",
      "2023-01-08 01:31:22.360033: I tensorflow/stream_executor/cuda/cuda_diagnostics.cc:310] kernel version seems to match DSO: 470.161.3\n",
      "2023-01-08 01:31:22.360250: I tensorflow/core/platform/cpu_feature_guard.cc:193] This TensorFlow binary is optimized with oneAPI Deep Neural Network Library (oneDNN) to use the following CPU instructions in performance-critical operations:  AVX2 FMA\n",
      "To enable them in other operations, rebuild TensorFlow with the appropriate compiler flags.\n"
     ]
    },
    {
     "name": "stdout",
     "output_type": "stream",
     "text": [
      "performing CNMF\n",
      "fitting images\n",
      "refitting\n",
      "performing eval\n",
      "GPU run not requested, disabling use of GPUs\n",
      "USING MODEL (keras API): /home/kushalk/caiman_data/model/cnn_model.json\n",
      "5/5 [==============================] - 0s 11ms/step\n",
      "Decode mmap filename /home/kushalk/caiman_data/mesmerize-core-batch/09610b86-917a-41e7-a493-2d036bf44428/2b9dabd8-7d22-4327-8479-aea36bde79cf_cnmf-memmap_d1_170_d2_170_d3_1_order_C_frames_3000.mmap\n",
      "Decode mmap filename /home/kushalk/caiman_data/mesmerize-core-batch/09610b86-917a-41e7-a493-2d036bf44428/2b9dabd8-7d22-4327-8479-aea36bde79cf_cnmf-memmap_d1_170_d2_170_d3_1_order_C_frames_3000.mmap\n",
      "Decode mmap filename /home/kushalk/caiman_data/mesmerize-core-batch/09610b86-917a-41e7-a493-2d036bf44428/2b9dabd8-7d22-4327-8479-aea36bde79cf_cnmf-memmap_d1_170_d2_170_d3_1_order_C_frames_3000.mmap\n",
      "Decode mmap filename /home/kushalk/caiman_data/mesmerize-core-batch/09610b86-917a-41e7-a493-2d036bf44428/2b9dabd8-7d22-4327-8479-aea36bde79cf_cnmf-memmap_d1_170_d2_170_d3_1_order_C_frames_3000.mmap\n",
      "Decode mmap filename /home/kushalk/caiman_data/mesmerize-core-batch/09610b86-917a-41e7-a493-2d036bf44428/2b9dabd8-7d22-4327-8479-aea36bde79cf_cnmf-memmap_d1_170_d2_170_d3_1_order_C_frames_3000.mmap\n",
      "Decode mmap filename /home/kushalk/caiman_data/mesmerize-core-batch/09610b86-917a-41e7-a493-2d036bf44428/2b9dabd8-7d22-4327-8479-aea36bde79cf_cnmf-memmap_d1_170_d2_170_d3_1_order_C_frames_3000.mmap\n",
      "Decode mmap filename /home/kushalk/caiman_data/mesmerize-core-batch/09610b86-917a-41e7-a493-2d036bf44428/2b9dabd8-7d22-4327-8479-aea36bde79cf_cnmf-memmap_d1_170_d2_170_d3_1_order_C_frames_3000.mmap\n",
      "Decode mmap filename /home/kushalk/caiman_data/mesmerize-core-batch/09610b86-917a-41e7-a493-2d036bf44428/2b9dabd8-7d22-4327-8479-aea36bde79cf_cnmf-memmap_d1_170_d2_170_d3_1_order_C_frames_3000.mmap\n",
      "Decode mmap filename /home/kushalk/caiman_data/mesmerize-core-batch/09610b86-917a-41e7-a493-2d036bf44428/2b9dabd8-7d22-4327-8479-aea36bde79cf_cnmf-memmap_d1_170_d2_170_d3_1_order_C_frames_3000.mmap\n",
      "Decode mmap filename /home/kushalk/caiman_data/mesmerize-core-batch/09610b86-917a-41e7-a493-2d036bf44428/2b9dabd8-7d22-4327-8479-aea36bde79cf_cnmf-memmap_d1_170_d2_170_d3_1_order_C_frames_3000.mmap\n",
      "Decode mmap filename /home/kushalk/caiman_data/mesmerize-core-batch/09610b86-917a-41e7-a493-2d036bf44428/2b9dabd8-7d22-4327-8479-aea36bde79cf_cnmf-memmap_d1_170_d2_170_d3_1_order_C_frames_3000.mmap\n",
      "Decode mmap filename /home/kushalk/caiman_data/mesmerize-core-batch/09610b86-917a-41e7-a493-2d036bf44428/2b9dabd8-7d22-4327-8479-aea36bde79cf_cnmf-memmap_d1_170_d2_170_d3_1_order_C_frames_3000.mmap\n",
      "Decode mmap filename /home/kushalk/caiman_data/mesmerize-core-batch/09610b86-917a-41e7-a493-2d036bf44428/2b9dabd8-7d22-4327-8479-aea36bde79cf_cnmf-memmap_d1_170_d2_170_d3_1_order_C_frames_3000.mmap\n",
      "Decode mmap filename /home/kushalk/caiman_data/mesmerize-core-batch/09610b86-917a-41e7-a493-2d036bf44428/2b9dabd8-7d22-4327-8479-aea36bde79cf_cnmf-memmap_d1_170_d2_170_d3_1_order_C_frames_3000.mmap\n",
      "Decode mmap filename /home/kushalk/caiman_data/mesmerize-core-batch/09610b86-917a-41e7-a493-2d036bf44428/2b9dabd8-7d22-4327-8479-aea36bde79cf_cnmf-memmap_d1_170_d2_170_d3_1_order_C_frames_3000.mmap\n",
      "Decode mmap filename /home/kushalk/caiman_data/mesmerize-core-batch/09610b86-917a-41e7-a493-2d036bf44428/2b9dabd8-7d22-4327-8479-aea36bde79cf_cnmf-memmap_d1_170_d2_170_d3_1_order_C_frames_3000.mmap\n",
      "Decode mmap filename /home/kushalk/caiman_data/mesmerize-core-batch/09610b86-917a-41e7-a493-2d036bf44428/2b9dabd8-7d22-4327-8479-aea36bde79cf_cnmf-memmap_d1_170_d2_170_d3_1_order_C_frames_3000.mmap\n",
      "Decode mmap filename /home/kushalk/caiman_data/mesmerize-core-batch/09610b86-917a-41e7-a493-2d036bf44428/2b9dabd8-7d22-4327-8479-aea36bde79cf_cnmf-memmap_d1_170_d2_170_d3_1_order_C_frames_3000.mmap\n",
      "Decode mmap filename /home/kushalk/caiman_data/mesmerize-core-batch/09610b86-917a-41e7-a493-2d036bf44428/2b9dabd8-7d22-4327-8479-aea36bde79cf_cnmf-memmap_d1_170_d2_170_d3_1_order_C_frames_3000.mmap\n",
      "Decode mmap filename /home/kushalk/caiman_data/mesmerize-core-batch/09610b86-917a-41e7-a493-2d036bf44428/2b9dabd8-7d22-4327-8479-aea36bde79cf_cnmf-memmap_d1_170_d2_170_d3_1_order_C_frames_3000.mmap\n",
      "Decode mmap filename /home/kushalk/caiman_data/mesmerize-core-batch/09610b86-917a-41e7-a493-2d036bf44428/2b9dabd8-7d22-4327-8479-aea36bde79cf_cnmf-memmap_d1_170_d2_170_d3_1_order_C_frames_3000.mmap\n",
      "Decode mmap filename /home/kushalk/caiman_data/mesmerize-core-batch/09610b86-917a-41e7-a493-2d036bf44428/2b9dabd8-7d22-4327-8479-aea36bde79cf_cnmf-memmap_d1_170_d2_170_d3_1_order_C_frames_3000.mmap\n",
      "Decode mmap filename /home/kushalk/caiman_data/mesmerize-core-batch/09610b86-917a-41e7-a493-2d036bf44428/2b9dabd8-7d22-4327-8479-aea36bde79cf_cnmf-memmap_d1_170_d2_170_d3_1_order_C_frames_3000.mmap\n",
      "Decode mmap filename /home/kushalk/caiman_data/mesmerize-core-batch/09610b86-917a-41e7-a493-2d036bf44428/2b9dabd8-7d22-4327-8479-aea36bde79cf_cnmf-memmap_d1_170_d2_170_d3_1_order_C_frames_3000.mmap\n",
      "Decode mmap filename /home/kushalk/caiman_data/mesmerize-core-batch/09610b86-917a-41e7-a493-2d036bf44428/2b9dabd8-7d22-4327-8479-aea36bde79cf_cnmf-memmap_d1_170_d2_170_d3_1_order_C_frames_3000.mmap\n",
      "Decode mmap filename /home/kushalk/caiman_data/mesmerize-core-batch/09610b86-917a-41e7-a493-2d036bf44428/2b9dabd8-7d22-4327-8479-aea36bde79cf_cnmf-memmap_d1_170_d2_170_d3_1_order_C_frames_3000.mmap\n",
      "Decode mmap filename /home/kushalk/caiman_data/mesmerize-core-batch/09610b86-917a-41e7-a493-2d036bf44428/2b9dabd8-7d22-4327-8479-aea36bde79cf_cnmf-memmap_d1_170_d2_170_d3_1_order_C_frames_3000.mmap\n",
      "Decode mmap filename /home/kushalk/caiman_data/mesmerize-core-batch/09610b86-917a-41e7-a493-2d036bf44428/2b9dabd8-7d22-4327-8479-aea36bde79cf_cnmf-memmap_d1_170_d2_170_d3_1_order_C_frames_3000.mmap\n",
      "Decode mmap filename /home/kushalk/caiman_data/mesmerize-core-batch/09610b86-917a-41e7-a493-2d036bf44428/2b9dabd8-7d22-4327-8479-aea36bde79cf_cnmf-memmap_d1_170_d2_170_d3_1_order_C_frames_3000.mmap\n",
      "Decode mmap filename /home/kushalk/caiman_data/mesmerize-core-batch/09610b86-917a-41e7-a493-2d036bf44428/2b9dabd8-7d22-4327-8479-aea36bde79cf_cnmf-memmap_d1_170_d2_170_d3_1_order_C_frames_3000.mmap\n",
      "Decode mmap filename /home/kushalk/caiman_data/mesmerize-core-batch/09610b86-917a-41e7-a493-2d036bf44428/2b9dabd8-7d22-4327-8479-aea36bde79cf_cnmf-memmap_d1_170_d2_170_d3_1_order_C_frames_3000.mmap\n",
      "Decode mmap filename /home/kushalk/caiman_data/mesmerize-core-batch/09610b86-917a-41e7-a493-2d036bf44428/2b9dabd8-7d22-4327-8479-aea36bde79cf_cnmf-memmap_d1_170_d2_170_d3_1_order_C_frames_3000.mmap\n",
      "Decode mmap filename /home/kushalk/caiman_data/mesmerize-core-batch/09610b86-917a-41e7-a493-2d036bf44428/2b9dabd8-7d22-4327-8479-aea36bde79cf_cnmf-memmap_d1_170_d2_170_d3_1_order_C_frames_3000.mmap\n",
      "Decode mmap filename /home/kushalk/caiman_data/mesmerize-core-batch/09610b86-917a-41e7-a493-2d036bf44428/2b9dabd8-7d22-4327-8479-aea36bde79cf_cnmf-memmap_d1_170_d2_170_d3_1_order_C_frames_3000.mmap\n",
      "Decode mmap filename /home/kushalk/caiman_data/mesmerize-core-batch/09610b86-917a-41e7-a493-2d036bf44428/2b9dabd8-7d22-4327-8479-aea36bde79cf_cnmf-memmap_d1_170_d2_170_d3_1_order_C_frames_3000.mmap\n",
      "Decode mmap filename /home/kushalk/caiman_data/mesmerize-core-batch/09610b86-917a-41e7-a493-2d036bf44428/2b9dabd8-7d22-4327-8479-aea36bde79cf_cnmf-memmap_d1_170_d2_170_d3_1_order_C_frames_3000.mmap\n",
      "Decode mmap filename /home/kushalk/caiman_data/mesmerize-core-batch/09610b86-917a-41e7-a493-2d036bf44428/2b9dabd8-7d22-4327-8479-aea36bde79cf_cnmf-memmap_d1_170_d2_170_d3_1_order_C_frames_3000.mmap\n",
      "Decode mmap filename /home/kushalk/caiman_data/mesmerize-core-batch/09610b86-917a-41e7-a493-2d036bf44428/2b9dabd8-7d22-4327-8479-aea36bde79cf_cnmf-memmap_d1_170_d2_170_d3_1_order_C_frames_3000.mmap\n",
      "Decode mmap filename /home/kushalk/caiman_data/mesmerize-core-batch/09610b86-917a-41e7-a493-2d036bf44428/2b9dabd8-7d22-4327-8479-aea36bde79cf_cnmf-memmap_d1_170_d2_170_d3_1_order_C_frames_3000.mmap\n",
      "Decode mmap filename /home/kushalk/caiman_data/mesmerize-core-batch/09610b86-917a-41e7-a493-2d036bf44428/2b9dabd8-7d22-4327-8479-aea36bde79cf_cnmf-memmap_d1_170_d2_170_d3_1_order_C_frames_3000.mmap\n",
      "Decode mmap filename /home/kushalk/caiman_data/mesmerize-core-batch/09610b86-917a-41e7-a493-2d036bf44428/2b9dabd8-7d22-4327-8479-aea36bde79cf_cnmf-memmap_d1_170_d2_170_d3_1_order_C_frames_3000.mmap\n",
      "Decode mmap filename /home/kushalk/caiman_data/mesmerize-core-batch/09610b86-917a-41e7-a493-2d036bf44428/2b9dabd8-7d22-4327-8479-aea36bde79cf_cnmf-memmap_d1_170_d2_170_d3_1_order_C_frames_3000.mmap\n",
      "Decode mmap filename /home/kushalk/caiman_data/mesmerize-core-batch/09610b86-917a-41e7-a493-2d036bf44428/2b9dabd8-7d22-4327-8479-aea36bde79cf_cnmf-memmap_d1_170_d2_170_d3_1_order_C_frames_3000.mmap\n",
      "Decode mmap filename /home/kushalk/caiman_data/mesmerize-core-batch/09610b86-917a-41e7-a493-2d036bf44428/2b9dabd8-7d22-4327-8479-aea36bde79cf_cnmf-memmap_d1_170_d2_170_d3_1_order_C_frames_3000.mmap\n",
      "Decode mmap filename /home/kushalk/caiman_data/mesmerize-core-batch/09610b86-917a-41e7-a493-2d036bf44428/2b9dabd8-7d22-4327-8479-aea36bde79cf_cnmf-memmap_d1_170_d2_170_d3_1_order_C_frames_3000.mmap\n",
      "Decode mmap filename /home/kushalk/caiman_data/mesmerize-core-batch/09610b86-917a-41e7-a493-2d036bf44428/2b9dabd8-7d22-4327-8479-aea36bde79cf_cnmf-memmap_d1_170_d2_170_d3_1_order_C_frames_3000.mmap\n",
      "Decode mmap filename /home/kushalk/caiman_data/mesmerize-core-batch/09610b86-917a-41e7-a493-2d036bf44428/2b9dabd8-7d22-4327-8479-aea36bde79cf_cnmf-memmap_d1_170_d2_170_d3_1_order_C_frames_3000.mmap\n",
      "Decode mmap filename /home/kushalk/caiman_data/mesmerize-core-batch/09610b86-917a-41e7-a493-2d036bf44428/2b9dabd8-7d22-4327-8479-aea36bde79cf_cnmf-memmap_d1_170_d2_170_d3_1_order_C_frames_3000.mmap\n",
      "Decode mmap filename /home/kushalk/caiman_data/mesmerize-core-batch/09610b86-917a-41e7-a493-2d036bf44428/2b9dabd8-7d22-4327-8479-aea36bde79cf_cnmf-memmap_d1_170_d2_170_d3_1_order_C_frames_3000.mmap\n",
      "Decode mmap filename /home/kushalk/caiman_data/mesmerize-core-batch/09610b86-917a-41e7-a493-2d036bf44428/2b9dabd8-7d22-4327-8479-aea36bde79cf_cnmf-memmap_d1_170_d2_170_d3_1_order_C_frames_3000.mmap\n",
      "Decode mmap filename /home/kushalk/caiman_data/mesmerize-core-batch/09610b86-917a-41e7-a493-2d036bf44428/2b9dabd8-7d22-4327-8479-aea36bde79cf_cnmf-memmap_d1_170_d2_170_d3_1_order_C_frames_3000.mmap\n",
      "Decode mmap filename /home/kushalk/caiman_data/mesmerize-core-batch/09610b86-917a-41e7-a493-2d036bf44428/2b9dabd8-7d22-4327-8479-aea36bde79cf_cnmf-memmap_d1_170_d2_170_d3_1_order_C_frames_3000.mmap\n",
      "Decode mmap filename /home/kushalk/caiman_data/mesmerize-core-batch/09610b86-917a-41e7-a493-2d036bf44428/2b9dabd8-7d22-4327-8479-aea36bde79cf_cnmf-memmap_d1_170_d2_170_d3_1_order_C_frames_3000.mmap\n",
      "Decode mmap filename /home/kushalk/caiman_data/mesmerize-core-batch/09610b86-917a-41e7-a493-2d036bf44428/2b9dabd8-7d22-4327-8479-aea36bde79cf_cnmf-memmap_d1_170_d2_170_d3_1_order_C_frames_3000.mmap\n",
      "Decode mmap filename /home/kushalk/caiman_data/mesmerize-core-batch/09610b86-917a-41e7-a493-2d036bf44428/2b9dabd8-7d22-4327-8479-aea36bde79cf_cnmf-memmap_d1_170_d2_170_d3_1_order_C_frames_3000.mmap\n",
      "Decode mmap filename /home/kushalk/caiman_data/mesmerize-core-batch/09610b86-917a-41e7-a493-2d036bf44428/2b9dabd8-7d22-4327-8479-aea36bde79cf_cnmf-memmap_d1_170_d2_170_d3_1_order_C_frames_3000.mmap\n",
      "Decode mmap filename /home/kushalk/caiman_data/mesmerize-core-batch/09610b86-917a-41e7-a493-2d036bf44428/2b9dabd8-7d22-4327-8479-aea36bde79cf_cnmf-memmap_d1_170_d2_170_d3_1_order_C_frames_3000.mmap\n",
      "Decode mmap filename /home/kushalk/caiman_data/mesmerize-core-batch/09610b86-917a-41e7-a493-2d036bf44428/2b9dabd8-7d22-4327-8479-aea36bde79cf_cnmf-memmap_d1_170_d2_170_d3_1_order_C_frames_3000.mmap\n",
      "Decode mmap filename /home/kushalk/caiman_data/mesmerize-core-batch/09610b86-917a-41e7-a493-2d036bf44428/2b9dabd8-7d22-4327-8479-aea36bde79cf_cnmf-memmap_d1_170_d2_170_d3_1_order_C_frames_3000.mmap\n",
      "Decode mmap filename /home/kushalk/caiman_data/mesmerize-core-batch/09610b86-917a-41e7-a493-2d036bf44428/2b9dabd8-7d22-4327-8479-aea36bde79cf_cnmf-memmap_d1_170_d2_170_d3_1_order_C_frames_3000.mmap\n",
      "Decode mmap filename /home/kushalk/caiman_data/mesmerize-core-batch/09610b86-917a-41e7-a493-2d036bf44428/2b9dabd8-7d22-4327-8479-aea36bde79cf_cnmf-memmap_d1_170_d2_170_d3_1_order_C_frames_3000.mmap\n",
      "Decode mmap filename /home/kushalk/caiman_data/mesmerize-core-batch/09610b86-917a-41e7-a493-2d036bf44428/2b9dabd8-7d22-4327-8479-aea36bde79cf_cnmf-memmap_d1_170_d2_170_d3_1_order_C_frames_3000.mmap\n",
      "Decode mmap filename /home/kushalk/caiman_data/mesmerize-core-batch/09610b86-917a-41e7-a493-2d036bf44428/2b9dabd8-7d22-4327-8479-aea36bde79cf_cnmf-memmap_d1_170_d2_170_d3_1_order_C_frames_3000.mmap\n",
      "Decode mmap filename /home/kushalk/caiman_data/mesmerize-core-batch/09610b86-917a-41e7-a493-2d036bf44428/2b9dabd8-7d22-4327-8479-aea36bde79cf_cnmf-memmap_d1_170_d2_170_d3_1_order_C_frames_3000.mmap\n",
      "Decode mmap filename /home/kushalk/caiman_data/mesmerize-core-batch/09610b86-917a-41e7-a493-2d036bf44428/2b9dabd8-7d22-4327-8479-aea36bde79cf_cnmf-memmap_d1_170_d2_170_d3_1_order_C_frames_3000.mmap\n",
      "Decode mmap filename /home/kushalk/caiman_data/mesmerize-core-batch/09610b86-917a-41e7-a493-2d036bf44428/2b9dabd8-7d22-4327-8479-aea36bde79cf_cnmf-memmap_d1_170_d2_170_d3_1_order_C_frames_3000.mmap\n",
      "Decode mmap filename /home/kushalk/caiman_data/mesmerize-core-batch/09610b86-917a-41e7-a493-2d036bf44428/2b9dabd8-7d22-4327-8479-aea36bde79cf_cnmf-memmap_d1_170_d2_170_d3_1_order_C_frames_3000.mmap\n",
      "Decode mmap filename /home/kushalk/caiman_data/mesmerize-core-batch/09610b86-917a-41e7-a493-2d036bf44428/2b9dabd8-7d22-4327-8479-aea36bde79cf_cnmf-memmap_d1_170_d2_170_d3_1_order_C_frames_3000.mmap\n",
      "Decode mmap filename /home/kushalk/caiman_data/mesmerize-core-batch/09610b86-917a-41e7-a493-2d036bf44428/2b9dabd8-7d22-4327-8479-aea36bde79cf_cnmf-memmap_d1_170_d2_170_d3_1_order_C_frames_3000.mmap\n",
      "Decode mmap filename /home/kushalk/caiman_data/mesmerize-core-batch/09610b86-917a-41e7-a493-2d036bf44428/2b9dabd8-7d22-4327-8479-aea36bde79cf_cnmf-memmap_d1_170_d2_170_d3_1_order_C_frames_3000.mmap\n",
      "Decode mmap filename /home/kushalk/caiman_data/mesmerize-core-batch/09610b86-917a-41e7-a493-2d036bf44428/2b9dabd8-7d22-4327-8479-aea36bde79cf_cnmf-memmap_d1_170_d2_170_d3_1_order_C_frames_3000.mmap\n",
      "Decode mmap filename /home/kushalk/caiman_data/mesmerize-core-batch/09610b86-917a-41e7-a493-2d036bf44428/2b9dabd8-7d22-4327-8479-aea36bde79cf_cnmf-memmap_d1_170_d2_170_d3_1_order_C_frames_3000.mmap\n",
      "Decode mmap filename /home/kushalk/caiman_data/mesmerize-core-batch/09610b86-917a-41e7-a493-2d036bf44428/2b9dabd8-7d22-4327-8479-aea36bde79cf_cnmf-memmap_d1_170_d2_170_d3_1_order_C_frames_3000.mmap\n",
      "Decode mmap filename /home/kushalk/caiman_data/mesmerize-core-batch/09610b86-917a-41e7-a493-2d036bf44428/2b9dabd8-7d22-4327-8479-aea36bde79cf_cnmf-memmap_d1_170_d2_170_d3_1_order_C_frames_3000.mmap\n",
      "Decode mmap filename /home/kushalk/caiman_data/mesmerize-core-batch/09610b86-917a-41e7-a493-2d036bf44428/2b9dabd8-7d22-4327-8479-aea36bde79cf_cnmf-memmap_d1_170_d2_170_d3_1_order_C_frames_3000.mmap\n",
      "Decode mmap filename /home/kushalk/caiman_data/mesmerize-core-batch/09610b86-917a-41e7-a493-2d036bf44428/2b9dabd8-7d22-4327-8479-aea36bde79cf_cnmf-memmap_d1_170_d2_170_d3_1_order_C_frames_3000.mmap\n",
      "Decode mmap filename /home/kushalk/caiman_data/mesmerize-core-batch/09610b86-917a-41e7-a493-2d036bf44428/2b9dabd8-7d22-4327-8479-aea36bde79cf_cnmf-memmap_d1_170_d2_170_d3_1_order_C_frames_3000.mmap\n",
      "Decode mmap filename /home/kushalk/caiman_data/mesmerize-core-batch/09610b86-917a-41e7-a493-2d036bf44428/2b9dabd8-7d22-4327-8479-aea36bde79cf_cnmf-memmap_d1_170_d2_170_d3_1_order_C_frames_3000.mmap\n",
      "Decode mmap filename /home/kushalk/caiman_data/mesmerize-core-batch/09610b86-917a-41e7-a493-2d036bf44428/2b9dabd8-7d22-4327-8479-aea36bde79cf_cnmf-memmap_d1_170_d2_170_d3_1_order_C_frames_3000.mmap\n",
      "Decode mmap filename /home/kushalk/caiman_data/mesmerize-core-batch/09610b86-917a-41e7-a493-2d036bf44428/2b9dabd8-7d22-4327-8479-aea36bde79cf_cnmf-memmap_d1_170_d2_170_d3_1_order_C_frames_3000.mmap\n",
      "Decode mmap filename /home/kushalk/caiman_data/mesmerize-core-batch/09610b86-917a-41e7-a493-2d036bf44428/2b9dabd8-7d22-4327-8479-aea36bde79cf_cnmf-memmap_d1_170_d2_170_d3_1_order_C_frames_3000.mmap\n",
      "Decode mmap filename /home/kushalk/caiman_data/mesmerize-core-batch/09610b86-917a-41e7-a493-2d036bf44428/2b9dabd8-7d22-4327-8479-aea36bde79cf_cnmf-memmap_d1_170_d2_170_d3_1_order_C_frames_3000.mmap\n",
      "Decode mmap filename /home/kushalk/caiman_data/mesmerize-core-batch/09610b86-917a-41e7-a493-2d036bf44428/2b9dabd8-7d22-4327-8479-aea36bde79cf_cnmf-memmap_d1_170_d2_170_d3_1_order_C_frames_3000.mmap\n",
      "Decode mmap filename /home/kushalk/caiman_data/mesmerize-core-batch/09610b86-917a-41e7-a493-2d036bf44428/2b9dabd8-7d22-4327-8479-aea36bde79cf_cnmf-memmap_d1_170_d2_170_d3_1_order_C_frames_3000.mmap\n",
      "Decode mmap filename /home/kushalk/caiman_data/mesmerize-core-batch/09610b86-917a-41e7-a493-2d036bf44428/2b9dabd8-7d22-4327-8479-aea36bde79cf_cnmf-memmap_d1_170_d2_170_d3_1_order_C_frames_3000.mmap\n",
      "Decode mmap filename /home/kushalk/caiman_data/mesmerize-core-batch/09610b86-917a-41e7-a493-2d036bf44428/2b9dabd8-7d22-4327-8479-aea36bde79cf_cnmf-memmap_d1_170_d2_170_d3_1_order_C_frames_3000.mmap\n",
      "Decode mmap filename /home/kushalk/caiman_data/mesmerize-core-batch/09610b86-917a-41e7-a493-2d036bf44428/2b9dabd8-7d22-4327-8479-aea36bde79cf_cnmf-memmap_d1_170_d2_170_d3_1_order_C_frames_3000.mmap\n",
      "Decode mmap filename /home/kushalk/caiman_data/mesmerize-core-batch/09610b86-917a-41e7-a493-2d036bf44428/2b9dabd8-7d22-4327-8479-aea36bde79cf_cnmf-memmap_d1_170_d2_170_d3_1_order_C_frames_3000.mmap\n",
      "Decode mmap filename /home/kushalk/caiman_data/mesmerize-core-batch/09610b86-917a-41e7-a493-2d036bf44428/2b9dabd8-7d22-4327-8479-aea36bde79cf_cnmf-memmap_d1_170_d2_170_d3_1_order_C_frames_3000.mmap\n",
      "Decode mmap filename /home/kushalk/caiman_data/mesmerize-core-batch/09610b86-917a-41e7-a493-2d036bf44428/2b9dabd8-7d22-4327-8479-aea36bde79cf_cnmf-memmap_d1_170_d2_170_d3_1_order_C_frames_3000.mmap\n",
      "Decode mmap filename /home/kushalk/caiman_data/mesmerize-core-batch/09610b86-917a-41e7-a493-2d036bf44428/2b9dabd8-7d22-4327-8479-aea36bde79cf_cnmf-memmap_d1_170_d2_170_d3_1_order_C_frames_3000.mmap\n",
      "Decode mmap filename /home/kushalk/caiman_data/mesmerize-core-batch/09610b86-917a-41e7-a493-2d036bf44428/2b9dabd8-7d22-4327-8479-aea36bde79cf_cnmf-memmap_d1_170_d2_170_d3_1_order_C_frames_3000.mmap\n",
      "Decode mmap filename /home/kushalk/caiman_data/mesmerize-core-batch/09610b86-917a-41e7-a493-2d036bf44428/2b9dabd8-7d22-4327-8479-aea36bde79cf_cnmf-memmap_d1_170_d2_170_d3_1_order_C_frames_3000.mmap\n",
      "Decode mmap filename /home/kushalk/caiman_data/mesmerize-core-batch/09610b86-917a-41e7-a493-2d036bf44428/2b9dabd8-7d22-4327-8479-aea36bde79cf_cnmf-memmap_d1_170_d2_170_d3_1_order_C_frames_3000.mmap\n",
      "Decode mmap filename /home/kushalk/caiman_data/mesmerize-core-batch/09610b86-917a-41e7-a493-2d036bf44428/2b9dabd8-7d22-4327-8479-aea36bde79cf_cnmf-memmap_d1_170_d2_170_d3_1_order_C_frames_3000.mmap\n",
      "Decode mmap filename /home/kushalk/caiman_data/mesmerize-core-batch/09610b86-917a-41e7-a493-2d036bf44428/2b9dabd8-7d22-4327-8479-aea36bde79cf_cnmf-memmap_d1_170_d2_170_d3_1_order_C_frames_3000.mmap\n",
      "Decode mmap filename /home/kushalk/caiman_data/mesmerize-core-batch/09610b86-917a-41e7-a493-2d036bf44428/2b9dabd8-7d22-4327-8479-aea36bde79cf_cnmf-memmap_d1_170_d2_170_d3_1_order_C_frames_3000.mmap\n",
      "Decode mmap filename /home/kushalk/caiman_data/mesmerize-core-batch/09610b86-917a-41e7-a493-2d036bf44428/2b9dabd8-7d22-4327-8479-aea36bde79cf_cnmf-memmap_d1_170_d2_170_d3_1_order_C_frames_3000.mmap\n",
      "Decode mmap filename /home/kushalk/caiman_data/mesmerize-core-batch/09610b86-917a-41e7-a493-2d036bf44428/2b9dabd8-7d22-4327-8479-aea36bde79cf_cnmf-memmap_d1_170_d2_170_d3_1_order_C_frames_3000.mmap\n",
      "Decode mmap filename /home/kushalk/caiman_data/mesmerize-core-batch/09610b86-917a-41e7-a493-2d036bf44428/2b9dabd8-7d22-4327-8479-aea36bde79cf_cnmf-memmap_d1_170_d2_170_d3_1_order_C_frames_3000.mmap\n",
      "Decode mmap filename /home/kushalk/caiman_data/mesmerize-core-batch/09610b86-917a-41e7-a493-2d036bf44428/2b9dabd8-7d22-4327-8479-aea36bde79cf_cnmf-memmap_d1_170_d2_170_d3_1_order_C_frames_3000.mmap\n",
      "Decode mmap filename /home/kushalk/caiman_data/mesmerize-core-batch/09610b86-917a-41e7-a493-2d036bf44428/2b9dabd8-7d22-4327-8479-aea36bde79cf_cnmf-memmap_d1_170_d2_170_d3_1_order_C_frames_3000.mmap\n",
      "Decode mmap filename /home/kushalk/caiman_data/mesmerize-core-batch/09610b86-917a-41e7-a493-2d036bf44428/2b9dabd8-7d22-4327-8479-aea36bde79cf_cnmf-memmap_d1_170_d2_170_d3_1_order_C_frames_3000.mmap\n",
      "Decode mmap filename /home/kushalk/caiman_data/mesmerize-core-batch/09610b86-917a-41e7-a493-2d036bf44428/2b9dabd8-7d22-4327-8479-aea36bde79cf_cnmf-memmap_d1_170_d2_170_d3_1_order_C_frames_3000.mmap\n",
      "Decode mmap filename /home/kushalk/caiman_data/mesmerize-core-batch/09610b86-917a-41e7-a493-2d036bf44428/2b9dabd8-7d22-4327-8479-aea36bde79cf_cnmf-memmap_d1_170_d2_170_d3_1_order_C_frames_3000.mmap\n",
      "Decode mmap filename /home/kushalk/caiman_data/mesmerize-core-batch/09610b86-917a-41e7-a493-2d036bf44428/2b9dabd8-7d22-4327-8479-aea36bde79cf_cnmf-memmap_d1_170_d2_170_d3_1_order_C_frames_3000.mmap\n",
      "Decode mmap filename /home/kushalk/caiman_data/mesmerize-core-batch/09610b86-917a-41e7-a493-2d036bf44428/2b9dabd8-7d22-4327-8479-aea36bde79cf_cnmf-memmap_d1_170_d2_170_d3_1_order_C_frames_3000.mmap\n",
      "Decode mmap filename /home/kushalk/caiman_data/mesmerize-core-batch/09610b86-917a-41e7-a493-2d036bf44428/2b9dabd8-7d22-4327-8479-aea36bde79cf_cnmf-memmap_d1_170_d2_170_d3_1_order_C_frames_3000.mmap\n",
      "Decode mmap filename /home/kushalk/caiman_data/mesmerize-core-batch/09610b86-917a-41e7-a493-2d036bf44428/2b9dabd8-7d22-4327-8479-aea36bde79cf_cnmf-memmap_d1_170_d2_170_d3_1_order_C_frames_3000.mmap\n",
      "Decode mmap filename /home/kushalk/caiman_data/mesmerize-core-batch/09610b86-917a-41e7-a493-2d036bf44428/2b9dabd8-7d22-4327-8479-aea36bde79cf_cnmf-memmap_d1_170_d2_170_d3_1_order_C_frames_3000.mmap\n",
      "Decode mmap filename /home/kushalk/caiman_data/mesmerize-core-batch/09610b86-917a-41e7-a493-2d036bf44428/2b9dabd8-7d22-4327-8479-aea36bde79cf_cnmf-memmap_d1_170_d2_170_d3_1_order_C_frames_3000.mmap\n",
      "Decode mmap filename /home/kushalk/caiman_data/mesmerize-core-batch/09610b86-917a-41e7-a493-2d036bf44428/2b9dabd8-7d22-4327-8479-aea36bde79cf_cnmf-memmap_d1_170_d2_170_d3_1_order_C_frames_3000.mmap\n",
      "Decode mmap filename /home/kushalk/caiman_data/mesmerize-core-batch/09610b86-917a-41e7-a493-2d036bf44428/2b9dabd8-7d22-4327-8479-aea36bde79cf_cnmf-memmap_d1_170_d2_170_d3_1_order_C_frames_3000.mmap\n",
      "Decode mmap filename /home/kushalk/caiman_data/mesmerize-core-batch/09610b86-917a-41e7-a493-2d036bf44428/2b9dabd8-7d22-4327-8479-aea36bde79cf_cnmf-memmap_d1_170_d2_170_d3_1_order_C_frames_3000.mmap\n",
      "Decode mmap filename /home/kushalk/caiman_data/mesmerize-core-batch/09610b86-917a-41e7-a493-2d036bf44428/2b9dabd8-7d22-4327-8479-aea36bde79cf_cnmf-memmap_d1_170_d2_170_d3_1_order_C_frames_3000.mmap\n",
      "Decode mmap filename /home/kushalk/caiman_data/mesmerize-core-batch/09610b86-917a-41e7-a493-2d036bf44428/2b9dabd8-7d22-4327-8479-aea36bde79cf_cnmf-memmap_d1_170_d2_170_d3_1_order_C_frames_3000.mmap\n",
      "Decode mmap filename /home/kushalk/caiman_data/mesmerize-core-batch/09610b86-917a-41e7-a493-2d036bf44428/2b9dabd8-7d22-4327-8479-aea36bde79cf_cnmf-memmap_d1_170_d2_170_d3_1_order_C_frames_3000.mmap\n",
      "Decode mmap filename /home/kushalk/caiman_data/mesmerize-core-batch/09610b86-917a-41e7-a493-2d036bf44428/2b9dabd8-7d22-4327-8479-aea36bde79cf_cnmf-memmap_d1_170_d2_170_d3_1_order_C_frames_3000.mmap\n",
      "Decode mmap filename /home/kushalk/caiman_data/mesmerize-core-batch/09610b86-917a-41e7-a493-2d036bf44428/2b9dabd8-7d22-4327-8479-aea36bde79cf_cnmf-memmap_d1_170_d2_170_d3_1_order_C_frames_3000.mmap\n",
      "Decode mmap filename /home/kushalk/caiman_data/mesmerize-core-batch/09610b86-917a-41e7-a493-2d036bf44428/2b9dabd8-7d22-4327-8479-aea36bde79cf_cnmf-memmap_d1_170_d2_170_d3_1_order_C_frames_3000.mmap\n",
      "Decode mmap filename /home/kushalk/caiman_data/mesmerize-core-batch/09610b86-917a-41e7-a493-2d036bf44428/2b9dabd8-7d22-4327-8479-aea36bde79cf_cnmf-memmap_d1_170_d2_170_d3_1_order_C_frames_3000.mmap\n",
      "Decode mmap filename /home/kushalk/caiman_data/mesmerize-core-batch/09610b86-917a-41e7-a493-2d036bf44428/2b9dabd8-7d22-4327-8479-aea36bde79cf_cnmf-memmap_d1_170_d2_170_d3_1_order_C_frames_3000.mmap\n",
      "Decode mmap filename /home/kushalk/caiman_data/mesmerize-core-batch/09610b86-917a-41e7-a493-2d036bf44428/2b9dabd8-7d22-4327-8479-aea36bde79cf_cnmf-memmap_d1_170_d2_170_d3_1_order_C_frames_3000.mmap\n",
      "Decode mmap filename /home/kushalk/caiman_data/mesmerize-core-batch/09610b86-917a-41e7-a493-2d036bf44428/2b9dabd8-7d22-4327-8479-aea36bde79cf_cnmf-memmap_d1_170_d2_170_d3_1_order_C_frames_3000.mmap\n",
      "Decode mmap filename /home/kushalk/caiman_data/mesmerize-core-batch/09610b86-917a-41e7-a493-2d036bf44428/2b9dabd8-7d22-4327-8479-aea36bde79cf_cnmf-memmap_d1_170_d2_170_d3_1_order_C_frames_3000.mmap\n",
      "Decode mmap filename /home/kushalk/caiman_data/mesmerize-core-batch/09610b86-917a-41e7-a493-2d036bf44428/2b9dabd8-7d22-4327-8479-aea36bde79cf_cnmf-memmap_d1_170_d2_170_d3_1_order_C_frames_3000.mmap\n",
      "Decode mmap filename /home/kushalk/caiman_data/mesmerize-core-batch/09610b86-917a-41e7-a493-2d036bf44428/2b9dabd8-7d22-4327-8479-aea36bde79cf_cnmf-memmap_d1_170_d2_170_d3_1_order_C_frames_3000.mmap\n",
      "Decode mmap filename /home/kushalk/caiman_data/mesmerize-core-batch/09610b86-917a-41e7-a493-2d036bf44428/2b9dabd8-7d22-4327-8479-aea36bde79cf_cnmf-memmap_d1_170_d2_170_d3_1_order_C_frames_3000.mmap\n",
      "Decode mmap filename /home/kushalk/caiman_data/mesmerize-core-batch/09610b86-917a-41e7-a493-2d036bf44428/2b9dabd8-7d22-4327-8479-aea36bde79cf_cnmf-memmap_d1_170_d2_170_d3_1_order_C_frames_3000.mmap\n",
      "Decode mmap filename /home/kushalk/caiman_data/mesmerize-core-batch/09610b86-917a-41e7-a493-2d036bf44428/2b9dabd8-7d22-4327-8479-aea36bde79cf_cnmf-memmap_d1_170_d2_170_d3_1_order_C_frames_3000.mmap\n",
      "Decode mmap filename /home/kushalk/caiman_data/mesmerize-core-batch/09610b86-917a-41e7-a493-2d036bf44428/2b9dabd8-7d22-4327-8479-aea36bde79cf_cnmf-memmap_d1_170_d2_170_d3_1_order_C_frames_3000.mmap\n",
      "Decode mmap filename /home/kushalk/caiman_data/mesmerize-core-batch/09610b86-917a-41e7-a493-2d036bf44428/2b9dabd8-7d22-4327-8479-aea36bde79cf_cnmf-memmap_d1_170_d2_170_d3_1_order_C_frames_3000.mmap\n",
      "Decode mmap filename /home/kushalk/caiman_data/mesmerize-core-batch/09610b86-917a-41e7-a493-2d036bf44428/2b9dabd8-7d22-4327-8479-aea36bde79cf_cnmf-memmap_d1_170_d2_170_d3_1_order_C_frames_3000.mmap\n",
      "Decode mmap filename /home/kushalk/caiman_data/mesmerize-core-batch/09610b86-917a-41e7-a493-2d036bf44428/2b9dabd8-7d22-4327-8479-aea36bde79cf_cnmf-memmap_d1_170_d2_170_d3_1_order_C_frames_3000.mmap\n",
      "Decode mmap filename /home/kushalk/caiman_data/mesmerize-core-batch/09610b86-917a-41e7-a493-2d036bf44428/2b9dabd8-7d22-4327-8479-aea36bde79cf_cnmf-memmap_d1_170_d2_170_d3_1_order_C_frames_3000.mmap\n",
      "Decode mmap filename /home/kushalk/caiman_data/mesmerize-core-batch/09610b86-917a-41e7-a493-2d036bf44428/2b9dabd8-7d22-4327-8479-aea36bde79cf_cnmf-memmap_d1_170_d2_170_d3_1_order_C_frames_3000.mmap\n",
      "Decode mmap filename /home/kushalk/caiman_data/mesmerize-core-batch/09610b86-917a-41e7-a493-2d036bf44428/2b9dabd8-7d22-4327-8479-aea36bde79cf_cnmf-memmap_d1_170_d2_170_d3_1_order_C_frames_3000.mmap\n",
      "Decode mmap filename /home/kushalk/caiman_data/mesmerize-core-batch/09610b86-917a-41e7-a493-2d036bf44428/2b9dabd8-7d22-4327-8479-aea36bde79cf_cnmf-memmap_d1_170_d2_170_d3_1_order_C_frames_3000.mmap\n",
      "Decode mmap filename /home/kushalk/caiman_data/mesmerize-core-batch/09610b86-917a-41e7-a493-2d036bf44428/2b9dabd8-7d22-4327-8479-aea36bde79cf_cnmf-memmap_d1_170_d2_170_d3_1_order_C_frames_3000.mmap\n",
      "Decode mmap filename /home/kushalk/caiman_data/mesmerize-core-batch/09610b86-917a-41e7-a493-2d036bf44428/2b9dabd8-7d22-4327-8479-aea36bde79cf_cnmf-memmap_d1_170_d2_170_d3_1_order_C_frames_3000.mmap\n",
      "Decode mmap filename /home/kushalk/caiman_data/mesmerize-core-batch/09610b86-917a-41e7-a493-2d036bf44428/2b9dabd8-7d22-4327-8479-aea36bde79cf_cnmf-memmap_d1_170_d2_170_d3_1_order_C_frames_3000.mmap\n",
      "Decode mmap filename /home/kushalk/caiman_data/mesmerize-core-batch/09610b86-917a-41e7-a493-2d036bf44428/2b9dabd8-7d22-4327-8479-aea36bde79cf_cnmf-memmap_d1_170_d2_170_d3_1_order_C_frames_3000.mmap\n",
      "Decode mmap filename /home/kushalk/caiman_data/mesmerize-core-batch/09610b86-917a-41e7-a493-2d036bf44428/2b9dabd8-7d22-4327-8479-aea36bde79cf_cnmf-memmap_d1_170_d2_170_d3_1_order_C_frames_3000.mmap\n",
      "Decode mmap filename /home/kushalk/caiman_data/mesmerize-core-batch/09610b86-917a-41e7-a493-2d036bf44428/2b9dabd8-7d22-4327-8479-aea36bde79cf_cnmf-memmap_d1_170_d2_170_d3_1_order_C_frames_3000.mmap\n",
      "Decode mmap filename /home/kushalk/caiman_data/mesmerize-core-batch/09610b86-917a-41e7-a493-2d036bf44428/2b9dabd8-7d22-4327-8479-aea36bde79cf_cnmf-memmap_d1_170_d2_170_d3_1_order_C_frames_3000.mmap\n",
      "Decode mmap filename /home/kushalk/caiman_data/mesmerize-core-batch/09610b86-917a-41e7-a493-2d036bf44428/2b9dabd8-7d22-4327-8479-aea36bde79cf_cnmf-memmap_d1_170_d2_170_d3_1_order_C_frames_3000.mmap\n",
      "Decode mmap filename /home/kushalk/caiman_data/mesmerize-core-batch/09610b86-917a-41e7-a493-2d036bf44428/2b9dabd8-7d22-4327-8479-aea36bde79cf_cnmf-memmap_d1_170_d2_170_d3_1_order_C_frames_3000.mmap\n",
      "Decode mmap filename /home/kushalk/caiman_data/mesmerize-core-batch/09610b86-917a-41e7-a493-2d036bf44428/2b9dabd8-7d22-4327-8479-aea36bde79cf_cnmf-memmap_d1_170_d2_170_d3_1_order_C_frames_3000.mmap\n",
      "Decode mmap filename /home/kushalk/caiman_data/mesmerize-core-batch/09610b86-917a-41e7-a493-2d036bf44428/2b9dabd8-7d22-4327-8479-aea36bde79cf_cnmf-memmap_d1_170_d2_170_d3_1_order_C_frames_3000.mmap\n",
      "Decode mmap filename /home/kushalk/caiman_data/mesmerize-core-batch/09610b86-917a-41e7-a493-2d036bf44428/2b9dabd8-7d22-4327-8479-aea36bde79cf_cnmf-memmap_d1_170_d2_170_d3_1_order_C_frames_3000.mmap\n",
      "Decode mmap filename /home/kushalk/caiman_data/mesmerize-core-batch/09610b86-917a-41e7-a493-2d036bf44428/2b9dabd8-7d22-4327-8479-aea36bde79cf_cnmf-memmap_d1_170_d2_170_d3_1_order_C_frames_3000.mmap\n",
      "Decode mmap filename /home/kushalk/caiman_data/mesmerize-core-batch/09610b86-917a-41e7-a493-2d036bf44428/2b9dabd8-7d22-4327-8479-aea36bde79cf_cnmf-memmap_d1_170_d2_170_d3_1_order_C_frames_3000.mmap\n",
      "Decode mmap filename /home/kushalk/caiman_data/mesmerize-core-batch/09610b86-917a-41e7-a493-2d036bf44428/2b9dabd8-7d22-4327-8479-aea36bde79cf_cnmf-memmap_d1_170_d2_170_d3_1_order_C_frames_3000.mmap\n",
      "Decode mmap filename /home/kushalk/caiman_data/mesmerize-core-batch/09610b86-917a-41e7-a493-2d036bf44428/2b9dabd8-7d22-4327-8479-aea36bde79cf_cnmf-memmap_d1_170_d2_170_d3_1_order_C_frames_3000.mmap\n",
      "Decode mmap filename /home/kushalk/caiman_data/mesmerize-core-batch/09610b86-917a-41e7-a493-2d036bf44428/2b9dabd8-7d22-4327-8479-aea36bde79cf_cnmf-memmap_d1_170_d2_170_d3_1_order_C_frames_3000.mmap\n",
      "Decode mmap filename /home/kushalk/caiman_data/mesmerize-core-batch/09610b86-917a-41e7-a493-2d036bf44428/2b9dabd8-7d22-4327-8479-aea36bde79cf_cnmf-memmap_d1_170_d2_170_d3_1_order_C_frames_3000.mmap\n",
      "Decode mmap filename /home/kushalk/caiman_data/mesmerize-core-batch/09610b86-917a-41e7-a493-2d036bf44428/2b9dabd8-7d22-4327-8479-aea36bde79cf_cnmf-memmap_d1_170_d2_170_d3_1_order_C_frames_3000.mmap\n",
      "Decode mmap filename /home/kushalk/caiman_data/mesmerize-core-batch/09610b86-917a-41e7-a493-2d036bf44428/2b9dabd8-7d22-4327-8479-aea36bde79cf_cnmf-memmap_d1_170_d2_170_d3_1_order_C_frames_3000.mmap\n",
      "Decode mmap filename /home/kushalk/caiman_data/mesmerize-core-batch/09610b86-917a-41e7-a493-2d036bf44428/2b9dabd8-7d22-4327-8479-aea36bde79cf_cnmf-memmap_d1_170_d2_170_d3_1_order_C_frames_3000.mmap\n",
      "Decode mmap filename /home/kushalk/caiman_data/mesmerize-core-batch/09610b86-917a-41e7-a493-2d036bf44428/2b9dabd8-7d22-4327-8479-aea36bde79cf_cnmf-memmap_d1_170_d2_170_d3_1_order_C_frames_3000.mmap\n",
      "Decode mmap filename /home/kushalk/caiman_data/mesmerize-core-batch/09610b86-917a-41e7-a493-2d036bf44428/2b9dabd8-7d22-4327-8479-aea36bde79cf_cnmf-memmap_d1_170_d2_170_d3_1_order_C_frames_3000.mmap\n",
      "Decode mmap filename /home/kushalk/caiman_data/mesmerize-core-batch/09610b86-917a-41e7-a493-2d036bf44428/2b9dabd8-7d22-4327-8479-aea36bde79cf_cnmf-memmap_d1_170_d2_170_d3_1_order_C_frames_3000.mmap\n",
      "Decode mmap filename /home/kushalk/caiman_data/mesmerize-core-batch/09610b86-917a-41e7-a493-2d036bf44428/2b9dabd8-7d22-4327-8479-aea36bde79cf_cnmf-memmap_d1_170_d2_170_d3_1_order_C_frames_3000.mmap\n",
      "Decode mmap filename /home/kushalk/caiman_data/mesmerize-core-batch/09610b86-917a-41e7-a493-2d036bf44428/2b9dabd8-7d22-4327-8479-aea36bde79cf_cnmf-memmap_d1_170_d2_170_d3_1_order_C_frames_3000.mmap\n",
      "Decode mmap filename /home/kushalk/caiman_data/mesmerize-core-batch/09610b86-917a-41e7-a493-2d036bf44428/2b9dabd8-7d22-4327-8479-aea36bde79cf_cnmf-memmap_d1_170_d2_170_d3_1_order_C_frames_3000.mmap\n",
      "Decode mmap filename /home/kushalk/caiman_data/mesmerize-core-batch/09610b86-917a-41e7-a493-2d036bf44428/2b9dabd8-7d22-4327-8479-aea36bde79cf_cnmf-memmap_d1_170_d2_170_d3_1_order_C_frames_3000.mmap\n",
      "Decode mmap filename /home/kushalk/caiman_data/mesmerize-core-batch/09610b86-917a-41e7-a493-2d036bf44428/2b9dabd8-7d22-4327-8479-aea36bde79cf_cnmf-memmap_d1_170_d2_170_d3_1_order_C_frames_3000.mmap\n",
      "Decode mmap filename /home/kushalk/caiman_data/mesmerize-core-batch/09610b86-917a-41e7-a493-2d036bf44428/2b9dabd8-7d22-4327-8479-aea36bde79cf_cnmf-memmap_d1_170_d2_170_d3_1_order_C_frames_3000.mmap\n",
      "Decode mmap filename /home/kushalk/caiman_data/mesmerize-core-batch/09610b86-917a-41e7-a493-2d036bf44428/2b9dabd8-7d22-4327-8479-aea36bde79cf_cnmf-memmap_d1_170_d2_170_d3_1_order_C_frames_3000.mmap\n",
      "Decode mmap filename /home/kushalk/caiman_data/mesmerize-core-batch/09610b86-917a-41e7-a493-2d036bf44428/2b9dabd8-7d22-4327-8479-aea36bde79cf_cnmf-memmap_d1_170_d2_170_d3_1_order_C_frames_3000.mmap\n",
      "Decode mmap filename /home/kushalk/caiman_data/mesmerize-core-batch/09610b86-917a-41e7-a493-2d036bf44428/2b9dabd8-7d22-4327-8479-aea36bde79cf_cnmf-memmap_d1_170_d2_170_d3_1_order_C_frames_3000.mmap\n",
      "Decode mmap filename /home/kushalk/caiman_data/mesmerize-core-batch/09610b86-917a-41e7-a493-2d036bf44428/2b9dabd8-7d22-4327-8479-aea36bde79cf_cnmf-memmap_d1_170_d2_170_d3_1_order_C_frames_3000.mmap\n",
      "Decode mmap filename /home/kushalk/caiman_data/mesmerize-core-batch/09610b86-917a-41e7-a493-2d036bf44428/2b9dabd8-7d22-4327-8479-aea36bde79cf_cnmf-memmap_d1_170_d2_170_d3_1_order_C_frames_3000.mmap\n",
      "Decode mmap filename /home/kushalk/caiman_data/mesmerize-core-batch/09610b86-917a-41e7-a493-2d036bf44428/2b9dabd8-7d22-4327-8479-aea36bde79cf_cnmf-memmap_d1_170_d2_170_d3_1_order_C_frames_3000.mmap\n",
      "Decode mmap filename /home/kushalk/caiman_data/mesmerize-core-batch/09610b86-917a-41e7-a493-2d036bf44428/2b9dabd8-7d22-4327-8479-aea36bde79cf_cnmf-memmap_d1_170_d2_170_d3_1_order_C_frames_3000.mmap\n",
      "Decode mmap filename /home/kushalk/caiman_data/mesmerize-core-batch/09610b86-917a-41e7-a493-2d036bf44428/2b9dabd8-7d22-4327-8479-aea36bde79cf_cnmf-memmap_d1_170_d2_170_d3_1_order_C_frames_3000.mmap\n",
      "Decode mmap filename /home/kushalk/caiman_data/mesmerize-core-batch/09610b86-917a-41e7-a493-2d036bf44428/2b9dabd8-7d22-4327-8479-aea36bde79cf_cnmf-memmap_d1_170_d2_170_d3_1_order_C_frames_3000.mmap\n",
      "Decode mmap filename /home/kushalk/caiman_data/mesmerize-core-batch/09610b86-917a-41e7-a493-2d036bf44428/2b9dabd8-7d22-4327-8479-aea36bde79cf_cnmf-memmap_d1_170_d2_170_d3_1_order_C_frames_3000.mmap\n",
      "Decode mmap filename /home/kushalk/caiman_data/mesmerize-core-batch/09610b86-917a-41e7-a493-2d036bf44428/2b9dabd8-7d22-4327-8479-aea36bde79cf_cnmf-memmap_d1_170_d2_170_d3_1_order_C_frames_3000.mmap\n",
      "Decode mmap filename /home/kushalk/caiman_data/mesmerize-core-batch/09610b86-917a-41e7-a493-2d036bf44428/2b9dabd8-7d22-4327-8479-aea36bde79cf_cnmf-memmap_d1_170_d2_170_d3_1_order_C_frames_3000.mmap\n",
      "Decode mmap filename /home/kushalk/caiman_data/mesmerize-core-batch/09610b86-917a-41e7-a493-2d036bf44428/2b9dabd8-7d22-4327-8479-aea36bde79cf_cnmf-memmap_d1_170_d2_170_d3_1_order_C_frames_3000.mmap\n",
      "Decode mmap filename /home/kushalk/caiman_data/mesmerize-core-batch/09610b86-917a-41e7-a493-2d036bf44428/2b9dabd8-7d22-4327-8479-aea36bde79cf_cnmf-memmap_d1_170_d2_170_d3_1_order_C_frames_3000.mmap\n",
      "Decode mmap filename /home/kushalk/caiman_data/mesmerize-core-batch/09610b86-917a-41e7-a493-2d036bf44428/2b9dabd8-7d22-4327-8479-aea36bde79cf_cnmf-memmap_d1_170_d2_170_d3_1_order_C_frames_3000.mmap\n",
      "Decode mmap filename /home/kushalk/caiman_data/mesmerize-core-batch/09610b86-917a-41e7-a493-2d036bf44428/2b9dabd8-7d22-4327-8479-aea36bde79cf_cnmf-memmap_d1_170_d2_170_d3_1_order_C_frames_3000.mmap\n",
      "Decode mmap filename /home/kushalk/caiman_data/mesmerize-core-batch/09610b86-917a-41e7-a493-2d036bf44428/2b9dabd8-7d22-4327-8479-aea36bde79cf_cnmf-memmap_d1_170_d2_170_d3_1_order_C_frames_3000.mmap\n",
      "Decode mmap filename /home/kushalk/caiman_data/mesmerize-core-batch/09610b86-917a-41e7-a493-2d036bf44428/2b9dabd8-7d22-4327-8479-aea36bde79cf_cnmf-memmap_d1_170_d2_170_d3_1_order_C_frames_3000.mmap\n",
      "Decode mmap filename /home/kushalk/caiman_data/mesmerize-core-batch/09610b86-917a-41e7-a493-2d036bf44428/2b9dabd8-7d22-4327-8479-aea36bde79cf_cnmf-memmap_d1_170_d2_170_d3_1_order_C_frames_3000.mmap\n",
      "Decode mmap filename /home/kushalk/caiman_data/mesmerize-core-batch/09610b86-917a-41e7-a493-2d036bf44428/2b9dabd8-7d22-4327-8479-aea36bde79cf_cnmf-memmap_d1_170_d2_170_d3_1_order_C_frames_3000.mmap\n",
      "Decode mmap filename /home/kushalk/caiman_data/mesmerize-core-batch/09610b86-917a-41e7-a493-2d036bf44428/2b9dabd8-7d22-4327-8479-aea36bde79cf_cnmf-memmap_d1_170_d2_170_d3_1_order_C_frames_3000.mmap\n",
      "Decode mmap filename /home/kushalk/caiman_data/mesmerize-core-batch/09610b86-917a-41e7-a493-2d036bf44428/2b9dabd8-7d22-4327-8479-aea36bde79cf_cnmf-memmap_d1_170_d2_170_d3_1_order_C_frames_3000.mmap\n",
      "Decode mmap filename /home/kushalk/caiman_data/mesmerize-core-batch/09610b86-917a-41e7-a493-2d036bf44428/2b9dabd8-7d22-4327-8479-aea36bde79cf_cnmf-memmap_d1_170_d2_170_d3_1_order_C_frames_3000.mmap\n",
      "Decode mmap filename /home/kushalk/caiman_data/mesmerize-core-batch/09610b86-917a-41e7-a493-2d036bf44428/2b9dabd8-7d22-4327-8479-aea36bde79cf_cnmf-memmap_d1_170_d2_170_d3_1_order_C_frames_3000.mmap\n",
      "Decode mmap filename /home/kushalk/caiman_data/mesmerize-core-batch/09610b86-917a-41e7-a493-2d036bf44428/2b9dabd8-7d22-4327-8479-aea36bde79cf_cnmf-memmap_d1_170_d2_170_d3_1_order_C_frames_3000.mmap\n",
      "Decode mmap filename /home/kushalk/caiman_data/mesmerize-core-batch/09610b86-917a-41e7-a493-2d036bf44428/2b9dabd8-7d22-4327-8479-aea36bde79cf_cnmf-memmap_d1_170_d2_170_d3_1_order_C_frames_3000.mmap\n",
      "Decode mmap filename /home/kushalk/caiman_data/mesmerize-core-batch/09610b86-917a-41e7-a493-2d036bf44428/2b9dabd8-7d22-4327-8479-aea36bde79cf_cnmf-memmap_d1_170_d2_170_d3_1_order_C_frames_3000.mmap\n",
      "Decode mmap filename /home/kushalk/caiman_data/mesmerize-core-batch/09610b86-917a-41e7-a493-2d036bf44428/2b9dabd8-7d22-4327-8479-aea36bde79cf_cnmf-memmap_d1_170_d2_170_d3_1_order_C_frames_3000.mmap\n",
      "Decode mmap filename /home/kushalk/caiman_data/mesmerize-core-batch/09610b86-917a-41e7-a493-2d036bf44428/2b9dabd8-7d22-4327-8479-aea36bde79cf_cnmf-memmap_d1_170_d2_170_d3_1_order_C_frames_3000.mmap\n",
      "Decode mmap filename /home/kushalk/caiman_data/mesmerize-core-batch/09610b86-917a-41e7-a493-2d036bf44428/2b9dabd8-7d22-4327-8479-aea36bde79cf_cnmf-memmap_d1_170_d2_170_d3_1_order_C_frames_3000.mmap\n",
      "Decode mmap filename /home/kushalk/caiman_data/mesmerize-core-batch/09610b86-917a-41e7-a493-2d036bf44428/2b9dabd8-7d22-4327-8479-aea36bde79cf_cnmf-memmap_d1_170_d2_170_d3_1_order_C_frames_3000.mmap\n",
      "Decode mmap filename /home/kushalk/caiman_data/mesmerize-core-batch/09610b86-917a-41e7-a493-2d036bf44428/2b9dabd8-7d22-4327-8479-aea36bde79cf_cnmf-memmap_d1_170_d2_170_d3_1_order_C_frames_3000.mmap\n",
      "Decode mmap filename /home/kushalk/caiman_data/mesmerize-core-batch/09610b86-917a-41e7-a493-2d036bf44428/2b9dabd8-7d22-4327-8479-aea36bde79cf_cnmf-memmap_d1_170_d2_170_d3_1_order_C_frames_3000.mmap\n",
      "Decode mmap filename /home/kushalk/caiman_data/mesmerize-core-batch/09610b86-917a-41e7-a493-2d036bf44428/2b9dabd8-7d22-4327-8479-aea36bde79cf_cnmf-memmap_d1_170_d2_170_d3_1_order_C_frames_3000.mmap\n",
      "Decode mmap filename /home/kushalk/caiman_data/mesmerize-core-batch/09610b86-917a-41e7-a493-2d036bf44428/2b9dabd8-7d22-4327-8479-aea36bde79cf_cnmf-memmap_d1_170_d2_170_d3_1_order_C_frames_3000.mmap\n",
      "Decode mmap filename /home/kushalk/caiman_data/mesmerize-core-batch/09610b86-917a-41e7-a493-2d036bf44428/2b9dabd8-7d22-4327-8479-aea36bde79cf_cnmf-memmap_d1_170_d2_170_d3_1_order_C_frames_3000.mmap\n",
      "Decode mmap filename /home/kushalk/caiman_data/mesmerize-core-batch/09610b86-917a-41e7-a493-2d036bf44428/2b9dabd8-7d22-4327-8479-aea36bde79cf_cnmf-memmap_d1_170_d2_170_d3_1_order_C_frames_3000.mmap\n",
      "Decode mmap filename /home/kushalk/caiman_data/mesmerize-core-batch/09610b86-917a-41e7-a493-2d036bf44428/2b9dabd8-7d22-4327-8479-aea36bde79cf_cnmf-memmap_d1_170_d2_170_d3_1_order_C_frames_3000.mmap\n",
      "Decode mmap filename /home/kushalk/caiman_data/mesmerize-core-batch/09610b86-917a-41e7-a493-2d036bf44428/2b9dabd8-7d22-4327-8479-aea36bde79cf_cnmf-memmap_d1_170_d2_170_d3_1_order_C_frames_3000.mmap\n",
      "Decode mmap filename /home/kushalk/caiman_data/mesmerize-core-batch/09610b86-917a-41e7-a493-2d036bf44428/2b9dabd8-7d22-4327-8479-aea36bde79cf_cnmf-memmap_d1_170_d2_170_d3_1_order_C_frames_3000.mmap\n",
      "Decode mmap filename /home/kushalk/caiman_data/mesmerize-core-batch/09610b86-917a-41e7-a493-2d036bf44428/2b9dabd8-7d22-4327-8479-aea36bde79cf_cnmf-memmap_d1_170_d2_170_d3_1_order_C_frames_3000.mmap\n",
      "Decode mmap filename /home/kushalk/caiman_data/mesmerize-core-batch/09610b86-917a-41e7-a493-2d036bf44428/2b9dabd8-7d22-4327-8479-aea36bde79cf_cnmf-memmap_d1_170_d2_170_d3_1_order_C_frames_3000.mmap\n",
      "Decode mmap filename /home/kushalk/caiman_data/mesmerize-core-batch/09610b86-917a-41e7-a493-2d036bf44428/2b9dabd8-7d22-4327-8479-aea36bde79cf_cnmf-memmap_d1_170_d2_170_d3_1_order_C_frames_3000.mmap\n",
      "Decode mmap filename /home/kushalk/caiman_data/mesmerize-core-batch/09610b86-917a-41e7-a493-2d036bf44428/2b9dabd8-7d22-4327-8479-aea36bde79cf_cnmf-memmap_d1_170_d2_170_d3_1_order_C_frames_3000.mmap\n",
      "Decode mmap filename /home/kushalk/caiman_data/mesmerize-core-batch/09610b86-917a-41e7-a493-2d036bf44428/2b9dabd8-7d22-4327-8479-aea36bde79cf_cnmf-memmap_d1_170_d2_170_d3_1_order_C_frames_3000.mmap\n",
      "Decode mmap filename /home/kushalk/caiman_data/mesmerize-core-batch/09610b86-917a-41e7-a493-2d036bf44428/2b9dabd8-7d22-4327-8479-aea36bde79cf_cnmf-memmap_d1_170_d2_170_d3_1_order_C_frames_3000.mmap\n",
      "Decode mmap filename /home/kushalk/caiman_data/mesmerize-core-batch/09610b86-917a-41e7-a493-2d036bf44428/2b9dabd8-7d22-4327-8479-aea36bde79cf_cnmf-memmap_d1_170_d2_170_d3_1_order_C_frames_3000.mmap\n",
      "Decode mmap filename /home/kushalk/caiman_data/mesmerize-core-batch/09610b86-917a-41e7-a493-2d036bf44428/2b9dabd8-7d22-4327-8479-aea36bde79cf_cnmf-memmap_d1_170_d2_170_d3_1_order_C_frames_3000.mmap\n",
      "Decode mmap filename /home/kushalk/caiman_data/mesmerize-core-batch/09610b86-917a-41e7-a493-2d036bf44428/2b9dabd8-7d22-4327-8479-aea36bde79cf_cnmf-memmap_d1_170_d2_170_d3_1_order_C_frames_3000.mmap\n",
      "Decode mmap filename /home/kushalk/caiman_data/mesmerize-core-batch/09610b86-917a-41e7-a493-2d036bf44428/2b9dabd8-7d22-4327-8479-aea36bde79cf_cnmf-memmap_d1_170_d2_170_d3_1_order_C_frames_3000.mmap\n",
      "Decode mmap filename /home/kushalk/caiman_data/mesmerize-core-batch/09610b86-917a-41e7-a493-2d036bf44428/2b9dabd8-7d22-4327-8479-aea36bde79cf_cnmf-memmap_d1_170_d2_170_d3_1_order_C_frames_3000.mmap\n",
      "Decode mmap filename /home/kushalk/caiman_data/mesmerize-core-batch/09610b86-917a-41e7-a493-2d036bf44428/2b9dabd8-7d22-4327-8479-aea36bde79cf_cnmf-memmap_d1_170_d2_170_d3_1_order_C_frames_3000.mmap\n",
      "Decode mmap filename /home/kushalk/caiman_data/mesmerize-core-batch/09610b86-917a-41e7-a493-2d036bf44428/2b9dabd8-7d22-4327-8479-aea36bde79cf_cnmf-memmap_d1_170_d2_170_d3_1_order_C_frames_3000.mmap\n",
      "Decode mmap filename /home/kushalk/caiman_data/mesmerize-core-batch/09610b86-917a-41e7-a493-2d036bf44428/2b9dabd8-7d22-4327-8479-aea36bde79cf_cnmf-memmap_d1_170_d2_170_d3_1_order_C_frames_3000.mmap\n",
      "Decode mmap filename /home/kushalk/caiman_data/mesmerize-core-batch/09610b86-917a-41e7-a493-2d036bf44428/2b9dabd8-7d22-4327-8479-aea36bde79cf_cnmf-memmap_d1_170_d2_170_d3_1_order_C_frames_3000.mmap\n",
      "Decode mmap filename /home/kushalk/caiman_data/mesmerize-core-batch/09610b86-917a-41e7-a493-2d036bf44428/2b9dabd8-7d22-4327-8479-aea36bde79cf_cnmf-memmap_d1_170_d2_170_d3_1_order_C_frames_3000.mmap\n",
      "Decode mmap filename /home/kushalk/caiman_data/mesmerize-core-batch/09610b86-917a-41e7-a493-2d036bf44428/2b9dabd8-7d22-4327-8479-aea36bde79cf_cnmf-memmap_d1_170_d2_170_d3_1_order_C_frames_3000.mmap\n",
      "Decode mmap filename /home/kushalk/caiman_data/mesmerize-core-batch/09610b86-917a-41e7-a493-2d036bf44428/2b9dabd8-7d22-4327-8479-aea36bde79cf_cnmf-memmap_d1_170_d2_170_d3_1_order_C_frames_3000.mmap\n",
      "Decode mmap filename /home/kushalk/caiman_data/mesmerize-core-batch/09610b86-917a-41e7-a493-2d036bf44428/2b9dabd8-7d22-4327-8479-aea36bde79cf_cnmf-memmap_d1_170_d2_170_d3_1_order_C_frames_3000.mmap\n",
      "Decode mmap filename /home/kushalk/caiman_data/mesmerize-core-batch/09610b86-917a-41e7-a493-2d036bf44428/2b9dabd8-7d22-4327-8479-aea36bde79cf_cnmf-memmap_d1_170_d2_170_d3_1_order_C_frames_3000.mmap\n",
      "Decode mmap filename /home/kushalk/caiman_data/mesmerize-core-batch/09610b86-917a-41e7-a493-2d036bf44428/2b9dabd8-7d22-4327-8479-aea36bde79cf_cnmf-memmap_d1_170_d2_170_d3_1_order_C_frames_3000.mmap\n",
      "Decode mmap filename /home/kushalk/caiman_data/mesmerize-core-batch/09610b86-917a-41e7-a493-2d036bf44428/2b9dabd8-7d22-4327-8479-aea36bde79cf_cnmf-memmap_d1_170_d2_170_d3_1_order_C_frames_3000.mmap\n",
      "Decode mmap filename /home/kushalk/caiman_data/mesmerize-core-batch/09610b86-917a-41e7-a493-2d036bf44428/2b9dabd8-7d22-4327-8479-aea36bde79cf_cnmf-memmap_d1_170_d2_170_d3_1_order_C_frames_3000.mmap\n",
      "Decode mmap filename /home/kushalk/caiman_data/mesmerize-core-batch/09610b86-917a-41e7-a493-2d036bf44428/2b9dabd8-7d22-4327-8479-aea36bde79cf_cnmf-memmap_d1_170_d2_170_d3_1_order_C_frames_3000.mmap\n",
      "Decode mmap filename /home/kushalk/caiman_data/mesmerize-core-batch/09610b86-917a-41e7-a493-2d036bf44428/2b9dabd8-7d22-4327-8479-aea36bde79cf_cnmf-memmap_d1_170_d2_170_d3_1_order_C_frames_3000.mmap\n",
      "Decode mmap filename /home/kushalk/caiman_data/mesmerize-core-batch/09610b86-917a-41e7-a493-2d036bf44428/2b9dabd8-7d22-4327-8479-aea36bde79cf_cnmf-memmap_d1_170_d2_170_d3_1_order_C_frames_3000.mmap\n",
      "Decode mmap filename /home/kushalk/caiman_data/mesmerize-core-batch/09610b86-917a-41e7-a493-2d036bf44428/2b9dabd8-7d22-4327-8479-aea36bde79cf_cnmf-memmap_d1_170_d2_170_d3_1_order_C_frames_3000.mmap\n",
      "Decode mmap filename /home/kushalk/caiman_data/mesmerize-core-batch/09610b86-917a-41e7-a493-2d036bf44428/2b9dabd8-7d22-4327-8479-aea36bde79cf_cnmf-memmap_d1_170_d2_170_d3_1_order_C_frames_3000.mmap\n",
      "Decode mmap filename /home/kushalk/caiman_data/mesmerize-core-batch/09610b86-917a-41e7-a493-2d036bf44428/2b9dabd8-7d22-4327-8479-aea36bde79cf_cnmf-memmap_d1_170_d2_170_d3_1_order_C_frames_3000.mmap\n",
      "Decode mmap filename /home/kushalk/caiman_data/mesmerize-core-batch/09610b86-917a-41e7-a493-2d036bf44428/2b9dabd8-7d22-4327-8479-aea36bde79cf_cnmf-memmap_d1_170_d2_170_d3_1_order_C_frames_3000.mmap\n",
      "Decode mmap filename /home/kushalk/caiman_data/mesmerize-core-batch/09610b86-917a-41e7-a493-2d036bf44428/2b9dabd8-7d22-4327-8479-aea36bde79cf_cnmf-memmap_d1_170_d2_170_d3_1_order_C_frames_3000.mmap\n",
      "Decode mmap filename /home/kushalk/caiman_data/mesmerize-core-batch/09610b86-917a-41e7-a493-2d036bf44428/2b9dabd8-7d22-4327-8479-aea36bde79cf_cnmf-memmap_d1_170_d2_170_d3_1_order_C_frames_3000.mmap\n",
      "Decode mmap filename /home/kushalk/caiman_data/mesmerize-core-batch/09610b86-917a-41e7-a493-2d036bf44428/2b9dabd8-7d22-4327-8479-aea36bde79cf_cnmf-memmap_d1_170_d2_170_d3_1_order_C_frames_3000.mmap\n",
      "Decode mmap filename /home/kushalk/caiman_data/mesmerize-core-batch/09610b86-917a-41e7-a493-2d036bf44428/2b9dabd8-7d22-4327-8479-aea36bde79cf_cnmf-memmap_d1_170_d2_170_d3_1_order_C_frames_3000.mmap\n",
      "Decode mmap filename /home/kushalk/caiman_data/mesmerize-core-batch/09610b86-917a-41e7-a493-2d036bf44428/2b9dabd8-7d22-4327-8479-aea36bde79cf_cnmf-memmap_d1_170_d2_170_d3_1_order_C_frames_3000.mmap\n",
      "Decode mmap filename /home/kushalk/caiman_data/mesmerize-core-batch/09610b86-917a-41e7-a493-2d036bf44428/2b9dabd8-7d22-4327-8479-aea36bde79cf_cnmf-memmap_d1_170_d2_170_d3_1_order_C_frames_3000.mmap\n",
      "Decode mmap filename /home/kushalk/caiman_data/mesmerize-core-batch/09610b86-917a-41e7-a493-2d036bf44428/2b9dabd8-7d22-4327-8479-aea36bde79cf_cnmf-memmap_d1_170_d2_170_d3_1_order_C_frames_3000.mmap\n",
      "Decode mmap filename /home/kushalk/caiman_data/mesmerize-core-batch/09610b86-917a-41e7-a493-2d036bf44428/2b9dabd8-7d22-4327-8479-aea36bde79cf_cnmf-memmap_d1_170_d2_170_d3_1_order_C_frames_3000.mmap\n",
      "Decode mmap filename /home/kushalk/caiman_data/mesmerize-core-batch/09610b86-917a-41e7-a493-2d036bf44428/2b9dabd8-7d22-4327-8479-aea36bde79cf_cnmf-memmap_d1_170_d2_170_d3_1_order_C_frames_3000.mmap\n",
      "Decode mmap filename /home/kushalk/caiman_data/mesmerize-core-batch/09610b86-917a-41e7-a493-2d036bf44428/2b9dabd8-7d22-4327-8479-aea36bde79cf_cnmf-memmap_d1_170_d2_170_d3_1_order_C_frames_3000.mmap\n",
      "Decode mmap filename /home/kushalk/caiman_data/mesmerize-core-batch/09610b86-917a-41e7-a493-2d036bf44428/2b9dabd8-7d22-4327-8479-aea36bde79cf_cnmf-memmap_d1_170_d2_170_d3_1_order_C_frames_3000.mmap\n"
     ]
    },
    {
     "name": "stderr",
     "output_type": "stream",
     "text": [
      "2023-01-08 01:31:25.956403: I tensorflow/core/platform/cpu_feature_guard.cc:193] This TensorFlow binary is optimized with oneAPI Deep Neural Network Library (oneDNN) to use the following CPU instructions in performance-critical operations:  AVX2 FMA\n",
      "To enable them in other operations, rebuild TensorFlow with the appropriate compiler flags.\n",
      "2023-01-08 01:31:26.039455: E tensorflow/stream_executor/cuda/cuda_blas.cc:2981] Unable to register cuBLAS factory: Attempting to register factory for plugin cuBLAS when one has already been registered\n",
      "2023-01-08 01:31:26.410378: W tensorflow/stream_executor/platform/default/dso_loader.cc:64] Could not load dynamic library 'libnvinfer.so.7'; dlerror: libnvinfer.so.7: cannot open shared object file: No such file or directory; LD_LIBRARY_PATH: /home/kushalk/python-venvs/mescore/lib/python3.10/site-packages/cv2/../../lib64:/home/kushalk/python-venvs/mescore/lib/python3.10/site-packages/cv2/../../lib64:/usr/local/cuda-11.2/lib64:/usr/local/cuda-11.2/lib64\n",
      "2023-01-08 01:31:26.410433: W tensorflow/stream_executor/platform/default/dso_loader.cc:64] Could not load dynamic library 'libnvinfer_plugin.so.7'; dlerror: libnvinfer_plugin.so.7: cannot open shared object file: No such file or directory; LD_LIBRARY_PATH: /home/kushalk/python-venvs/mescore/lib/python3.10/site-packages/cv2/../../lib64:/home/kushalk/python-venvs/mescore/lib/python3.10/site-packages/cv2/../../lib64:/usr/local/cuda-11.2/lib64:/usr/local/cuda-11.2/lib64\n",
      "2023-01-08 01:31:26.410437: W tensorflow/compiler/tf2tensorrt/utils/py_utils.cc:38] TF-TRT Warning: Cannot dlopen some TensorRT libraries. If you would like to use Nvidia GPU with TensorRT, please make sure the missing libraries mentioned above are installed properly.\n"
     ]
    },
    {
     "name": "stdout",
     "output_type": "stream",
     "text": [
      "************************************************************************\n",
      "\n",
      "Starting CNMF item:\n",
      "algo                                                             cnmf\n",
      "item_name                                          Sue_2x_3000_40_-46\n",
      "input_movie_path    09610b86-917a-41e7-a493-2d036bf44428/09610b86-...\n",
      "params              {'main': {'fr': 30, 'p': 1, 'nb': 2, 'merge_th...\n",
      "outputs                                                          None\n",
      "comments                                                         None\n",
      "uuid                             38f85afb-417f-453a-8da5-28753b0dc290\n",
      "Name: 2, dtype: object\n",
      "With params:{'main': {'fr': 30, 'p': 1, 'nb': 2, 'merge_thr': 0.8, 'rf': 15, 'stride': 6, 'K': 4, 'gSig': (6, 6), 'ssub': 1, 'tsub': 1, 'method_init': 'greedy_roi', 'min_SNR': 2.0, 'rval_thr': 0.7, 'use_cnn': True, 'min_cnn_thr': 0.8, 'cnn_lowest': 0.1, 'decay_time': 0.4}, 'refit': True}\n",
      "Decode mmap filename /home/kushalk/caiman_data/mesmerize-core-batch/09610b86-917a-41e7-a493-2d036bf44428/09610b86-917a-41e7-a493-2d036bf44428-Sue_2x_3000_40_-46_els__d1_170_d2_170_d3_1_order_F_frames_3000.mmap\n",
      "making memmap\n",
      "Decode mmap filename /home/kushalk/caiman_data/mesmerize-core-batch/09610b86-917a-41e7-a493-2d036bf44428/38f85afb-417f-453a-8da5-28753b0dc290_cnmf-memmap_d1_170_d2_170_d3_1_order_C_frames_3000.mmap\n"
     ]
    },
    {
     "name": "stderr",
     "output_type": "stream",
     "text": [
      "WARNING:root:Component 3 is only active jointly with neighboring components. Space correlation calculation might be unreliable.\n",
      "WARNING:root:Component 12 is only active jointly with neighboring components. Space correlation calculation might be unreliable.\n",
      "WARNING:root:Component 32 is only active jointly with neighboring components. Space correlation calculation might be unreliable.\n",
      "2023-01-08 01:31:39.903212: E tensorflow/stream_executor/cuda/cuda_driver.cc:265] failed call to cuInit: CUDA_ERROR_NO_DEVICE: no CUDA-capable device is detected\n",
      "2023-01-08 01:31:39.903246: I tensorflow/stream_executor/cuda/cuda_diagnostics.cc:169] retrieving CUDA diagnostic information for host: hantman-calcium\n",
      "2023-01-08 01:31:39.903254: I tensorflow/stream_executor/cuda/cuda_diagnostics.cc:176] hostname: hantman-calcium\n",
      "2023-01-08 01:31:39.903392: I tensorflow/stream_executor/cuda/cuda_diagnostics.cc:200] libcuda reported version is: 470.161.3\n",
      "2023-01-08 01:31:39.903425: I tensorflow/stream_executor/cuda/cuda_diagnostics.cc:204] kernel reported version is: 470.161.3\n",
      "2023-01-08 01:31:39.903433: I tensorflow/stream_executor/cuda/cuda_diagnostics.cc:310] kernel version seems to match DSO: 470.161.3\n",
      "2023-01-08 01:31:39.903648: I tensorflow/core/platform/cpu_feature_guard.cc:193] This TensorFlow binary is optimized with oneAPI Deep Neural Network Library (oneDNN) to use the following CPU instructions in performance-critical operations:  AVX2 FMA\n",
      "To enable them in other operations, rebuild TensorFlow with the appropriate compiler flags.\n"
     ]
    },
    {
     "name": "stdout",
     "output_type": "stream",
     "text": [
      "performing CNMF\n",
      "fitting images\n",
      "refitting\n",
      "performing eval\n",
      "GPU run not requested, disabling use of GPUs\n",
      "USING MODEL (keras API): /home/kushalk/caiman_data/model/cnn_model.json\n",
      "6/6 [==============================] - 0s 11ms/step\n",
      "Decode mmap filename /home/kushalk/caiman_data/mesmerize-core-batch/09610b86-917a-41e7-a493-2d036bf44428/38f85afb-417f-453a-8da5-28753b0dc290_cnmf-memmap_d1_170_d2_170_d3_1_order_C_frames_3000.mmap\n",
      "Decode mmap filename /home/kushalk/caiman_data/mesmerize-core-batch/09610b86-917a-41e7-a493-2d036bf44428/38f85afb-417f-453a-8da5-28753b0dc290_cnmf-memmap_d1_170_d2_170_d3_1_order_C_frames_3000.mmap\n",
      "Decode mmap filename /home/kushalk/caiman_data/mesmerize-core-batch/09610b86-917a-41e7-a493-2d036bf44428/38f85afb-417f-453a-8da5-28753b0dc290_cnmf-memmap_d1_170_d2_170_d3_1_order_C_frames_3000.mmap\n",
      "Decode mmap filename /home/kushalk/caiman_data/mesmerize-core-batch/09610b86-917a-41e7-a493-2d036bf44428/38f85afb-417f-453a-8da5-28753b0dc290_cnmf-memmap_d1_170_d2_170_d3_1_order_C_frames_3000.mmap\n",
      "Decode mmap filename /home/kushalk/caiman_data/mesmerize-core-batch/09610b86-917a-41e7-a493-2d036bf44428/38f85afb-417f-453a-8da5-28753b0dc290_cnmf-memmap_d1_170_d2_170_d3_1_order_C_frames_3000.mmap\n",
      "Decode mmap filename /home/kushalk/caiman_data/mesmerize-core-batch/09610b86-917a-41e7-a493-2d036bf44428/38f85afb-417f-453a-8da5-28753b0dc290_cnmf-memmap_d1_170_d2_170_d3_1_order_C_frames_3000.mmap\n",
      "Decode mmap filename /home/kushalk/caiman_data/mesmerize-core-batch/09610b86-917a-41e7-a493-2d036bf44428/38f85afb-417f-453a-8da5-28753b0dc290_cnmf-memmap_d1_170_d2_170_d3_1_order_C_frames_3000.mmap\n",
      "Decode mmap filename /home/kushalk/caiman_data/mesmerize-core-batch/09610b86-917a-41e7-a493-2d036bf44428/38f85afb-417f-453a-8da5-28753b0dc290_cnmf-memmap_d1_170_d2_170_d3_1_order_C_frames_3000.mmap\n",
      "Decode mmap filename /home/kushalk/caiman_data/mesmerize-core-batch/09610b86-917a-41e7-a493-2d036bf44428/38f85afb-417f-453a-8da5-28753b0dc290_cnmf-memmap_d1_170_d2_170_d3_1_order_C_frames_3000.mmap\n",
      "Decode mmap filename /home/kushalk/caiman_data/mesmerize-core-batch/09610b86-917a-41e7-a493-2d036bf44428/38f85afb-417f-453a-8da5-28753b0dc290_cnmf-memmap_d1_170_d2_170_d3_1_order_C_frames_3000.mmap\n",
      "Decode mmap filename /home/kushalk/caiman_data/mesmerize-core-batch/09610b86-917a-41e7-a493-2d036bf44428/38f85afb-417f-453a-8da5-28753b0dc290_cnmf-memmap_d1_170_d2_170_d3_1_order_C_frames_3000.mmap\n",
      "Decode mmap filename /home/kushalk/caiman_data/mesmerize-core-batch/09610b86-917a-41e7-a493-2d036bf44428/38f85afb-417f-453a-8da5-28753b0dc290_cnmf-memmap_d1_170_d2_170_d3_1_order_C_frames_3000.mmap\n",
      "Decode mmap filename /home/kushalk/caiman_data/mesmerize-core-batch/09610b86-917a-41e7-a493-2d036bf44428/38f85afb-417f-453a-8da5-28753b0dc290_cnmf-memmap_d1_170_d2_170_d3_1_order_C_frames_3000.mmap\n",
      "Decode mmap filename /home/kushalk/caiman_data/mesmerize-core-batch/09610b86-917a-41e7-a493-2d036bf44428/38f85afb-417f-453a-8da5-28753b0dc290_cnmf-memmap_d1_170_d2_170_d3_1_order_C_frames_3000.mmap\n",
      "Decode mmap filename /home/kushalk/caiman_data/mesmerize-core-batch/09610b86-917a-41e7-a493-2d036bf44428/38f85afb-417f-453a-8da5-28753b0dc290_cnmf-memmap_d1_170_d2_170_d3_1_order_C_frames_3000.mmap\n",
      "Decode mmap filename /home/kushalk/caiman_data/mesmerize-core-batch/09610b86-917a-41e7-a493-2d036bf44428/38f85afb-417f-453a-8da5-28753b0dc290_cnmf-memmap_d1_170_d2_170_d3_1_order_C_frames_3000.mmap\n",
      "Decode mmap filename /home/kushalk/caiman_data/mesmerize-core-batch/09610b86-917a-41e7-a493-2d036bf44428/38f85afb-417f-453a-8da5-28753b0dc290_cnmf-memmap_d1_170_d2_170_d3_1_order_C_frames_3000.mmap\n",
      "Decode mmap filename /home/kushalk/caiman_data/mesmerize-core-batch/09610b86-917a-41e7-a493-2d036bf44428/38f85afb-417f-453a-8da5-28753b0dc290_cnmf-memmap_d1_170_d2_170_d3_1_order_C_frames_3000.mmap\n",
      "Decode mmap filename /home/kushalk/caiman_data/mesmerize-core-batch/09610b86-917a-41e7-a493-2d036bf44428/38f85afb-417f-453a-8da5-28753b0dc290_cnmf-memmap_d1_170_d2_170_d3_1_order_C_frames_3000.mmap\n",
      "Decode mmap filename /home/kushalk/caiman_data/mesmerize-core-batch/09610b86-917a-41e7-a493-2d036bf44428/38f85afb-417f-453a-8da5-28753b0dc290_cnmf-memmap_d1_170_d2_170_d3_1_order_C_frames_3000.mmap\n",
      "Decode mmap filename /home/kushalk/caiman_data/mesmerize-core-batch/09610b86-917a-41e7-a493-2d036bf44428/38f85afb-417f-453a-8da5-28753b0dc290_cnmf-memmap_d1_170_d2_170_d3_1_order_C_frames_3000.mmap\n",
      "Decode mmap filename /home/kushalk/caiman_data/mesmerize-core-batch/09610b86-917a-41e7-a493-2d036bf44428/38f85afb-417f-453a-8da5-28753b0dc290_cnmf-memmap_d1_170_d2_170_d3_1_order_C_frames_3000.mmap\n",
      "Decode mmap filename /home/kushalk/caiman_data/mesmerize-core-batch/09610b86-917a-41e7-a493-2d036bf44428/38f85afb-417f-453a-8da5-28753b0dc290_cnmf-memmap_d1_170_d2_170_d3_1_order_C_frames_3000.mmap\n",
      "Decode mmap filename /home/kushalk/caiman_data/mesmerize-core-batch/09610b86-917a-41e7-a493-2d036bf44428/38f85afb-417f-453a-8da5-28753b0dc290_cnmf-memmap_d1_170_d2_170_d3_1_order_C_frames_3000.mmap\n",
      "Decode mmap filename /home/kushalk/caiman_data/mesmerize-core-batch/09610b86-917a-41e7-a493-2d036bf44428/38f85afb-417f-453a-8da5-28753b0dc290_cnmf-memmap_d1_170_d2_170_d3_1_order_C_frames_3000.mmap\n",
      "Decode mmap filename /home/kushalk/caiman_data/mesmerize-core-batch/09610b86-917a-41e7-a493-2d036bf44428/38f85afb-417f-453a-8da5-28753b0dc290_cnmf-memmap_d1_170_d2_170_d3_1_order_C_frames_3000.mmap\n",
      "Decode mmap filename /home/kushalk/caiman_data/mesmerize-core-batch/09610b86-917a-41e7-a493-2d036bf44428/38f85afb-417f-453a-8da5-28753b0dc290_cnmf-memmap_d1_170_d2_170_d3_1_order_C_frames_3000.mmap\n",
      "Decode mmap filename /home/kushalk/caiman_data/mesmerize-core-batch/09610b86-917a-41e7-a493-2d036bf44428/38f85afb-417f-453a-8da5-28753b0dc290_cnmf-memmap_d1_170_d2_170_d3_1_order_C_frames_3000.mmap\n",
      "Decode mmap filename /home/kushalk/caiman_data/mesmerize-core-batch/09610b86-917a-41e7-a493-2d036bf44428/38f85afb-417f-453a-8da5-28753b0dc290_cnmf-memmap_d1_170_d2_170_d3_1_order_C_frames_3000.mmap\n",
      "Decode mmap filename /home/kushalk/caiman_data/mesmerize-core-batch/09610b86-917a-41e7-a493-2d036bf44428/38f85afb-417f-453a-8da5-28753b0dc290_cnmf-memmap_d1_170_d2_170_d3_1_order_C_frames_3000.mmap\n",
      "Decode mmap filename /home/kushalk/caiman_data/mesmerize-core-batch/09610b86-917a-41e7-a493-2d036bf44428/38f85afb-417f-453a-8da5-28753b0dc290_cnmf-memmap_d1_170_d2_170_d3_1_order_C_frames_3000.mmap\n",
      "Decode mmap filename /home/kushalk/caiman_data/mesmerize-core-batch/09610b86-917a-41e7-a493-2d036bf44428/38f85afb-417f-453a-8da5-28753b0dc290_cnmf-memmap_d1_170_d2_170_d3_1_order_C_frames_3000.mmap\n",
      "Decode mmap filename /home/kushalk/caiman_data/mesmerize-core-batch/09610b86-917a-41e7-a493-2d036bf44428/38f85afb-417f-453a-8da5-28753b0dc290_cnmf-memmap_d1_170_d2_170_d3_1_order_C_frames_3000.mmap\n",
      "Decode mmap filename /home/kushalk/caiman_data/mesmerize-core-batch/09610b86-917a-41e7-a493-2d036bf44428/38f85afb-417f-453a-8da5-28753b0dc290_cnmf-memmap_d1_170_d2_170_d3_1_order_C_frames_3000.mmap\n",
      "Decode mmap filename /home/kushalk/caiman_data/mesmerize-core-batch/09610b86-917a-41e7-a493-2d036bf44428/38f85afb-417f-453a-8da5-28753b0dc290_cnmf-memmap_d1_170_d2_170_d3_1_order_C_frames_3000.mmap\n",
      "Decode mmap filename /home/kushalk/caiman_data/mesmerize-core-batch/09610b86-917a-41e7-a493-2d036bf44428/38f85afb-417f-453a-8da5-28753b0dc290_cnmf-memmap_d1_170_d2_170_d3_1_order_C_frames_3000.mmap\n",
      "Decode mmap filename /home/kushalk/caiman_data/mesmerize-core-batch/09610b86-917a-41e7-a493-2d036bf44428/38f85afb-417f-453a-8da5-28753b0dc290_cnmf-memmap_d1_170_d2_170_d3_1_order_C_frames_3000.mmap\n",
      "Decode mmap filename /home/kushalk/caiman_data/mesmerize-core-batch/09610b86-917a-41e7-a493-2d036bf44428/38f85afb-417f-453a-8da5-28753b0dc290_cnmf-memmap_d1_170_d2_170_d3_1_order_C_frames_3000.mmap\n",
      "Decode mmap filename /home/kushalk/caiman_data/mesmerize-core-batch/09610b86-917a-41e7-a493-2d036bf44428/38f85afb-417f-453a-8da5-28753b0dc290_cnmf-memmap_d1_170_d2_170_d3_1_order_C_frames_3000.mmap\n",
      "Decode mmap filename /home/kushalk/caiman_data/mesmerize-core-batch/09610b86-917a-41e7-a493-2d036bf44428/38f85afb-417f-453a-8da5-28753b0dc290_cnmf-memmap_d1_170_d2_170_d3_1_order_C_frames_3000.mmap\n",
      "Decode mmap filename /home/kushalk/caiman_data/mesmerize-core-batch/09610b86-917a-41e7-a493-2d036bf44428/38f85afb-417f-453a-8da5-28753b0dc290_cnmf-memmap_d1_170_d2_170_d3_1_order_C_frames_3000.mmap\n",
      "Decode mmap filename /home/kushalk/caiman_data/mesmerize-core-batch/09610b86-917a-41e7-a493-2d036bf44428/38f85afb-417f-453a-8da5-28753b0dc290_cnmf-memmap_d1_170_d2_170_d3_1_order_C_frames_3000.mmap\n",
      "Decode mmap filename /home/kushalk/caiman_data/mesmerize-core-batch/09610b86-917a-41e7-a493-2d036bf44428/38f85afb-417f-453a-8da5-28753b0dc290_cnmf-memmap_d1_170_d2_170_d3_1_order_C_frames_3000.mmap\n",
      "Decode mmap filename /home/kushalk/caiman_data/mesmerize-core-batch/09610b86-917a-41e7-a493-2d036bf44428/38f85afb-417f-453a-8da5-28753b0dc290_cnmf-memmap_d1_170_d2_170_d3_1_order_C_frames_3000.mmap\n",
      "Decode mmap filename /home/kushalk/caiman_data/mesmerize-core-batch/09610b86-917a-41e7-a493-2d036bf44428/38f85afb-417f-453a-8da5-28753b0dc290_cnmf-memmap_d1_170_d2_170_d3_1_order_C_frames_3000.mmap\n",
      "Decode mmap filename /home/kushalk/caiman_data/mesmerize-core-batch/09610b86-917a-41e7-a493-2d036bf44428/38f85afb-417f-453a-8da5-28753b0dc290_cnmf-memmap_d1_170_d2_170_d3_1_order_C_frames_3000.mmap\n",
      "Decode mmap filename /home/kushalk/caiman_data/mesmerize-core-batch/09610b86-917a-41e7-a493-2d036bf44428/38f85afb-417f-453a-8da5-28753b0dc290_cnmf-memmap_d1_170_d2_170_d3_1_order_C_frames_3000.mmap\n",
      "Decode mmap filename /home/kushalk/caiman_data/mesmerize-core-batch/09610b86-917a-41e7-a493-2d036bf44428/38f85afb-417f-453a-8da5-28753b0dc290_cnmf-memmap_d1_170_d2_170_d3_1_order_C_frames_3000.mmap\n",
      "Decode mmap filename /home/kushalk/caiman_data/mesmerize-core-batch/09610b86-917a-41e7-a493-2d036bf44428/38f85afb-417f-453a-8da5-28753b0dc290_cnmf-memmap_d1_170_d2_170_d3_1_order_C_frames_3000.mmap\n",
      "Decode mmap filename /home/kushalk/caiman_data/mesmerize-core-batch/09610b86-917a-41e7-a493-2d036bf44428/38f85afb-417f-453a-8da5-28753b0dc290_cnmf-memmap_d1_170_d2_170_d3_1_order_C_frames_3000.mmap\n",
      "Decode mmap filename /home/kushalk/caiman_data/mesmerize-core-batch/09610b86-917a-41e7-a493-2d036bf44428/38f85afb-417f-453a-8da5-28753b0dc290_cnmf-memmap_d1_170_d2_170_d3_1_order_C_frames_3000.mmap\n",
      "Decode mmap filename /home/kushalk/caiman_data/mesmerize-core-batch/09610b86-917a-41e7-a493-2d036bf44428/38f85afb-417f-453a-8da5-28753b0dc290_cnmf-memmap_d1_170_d2_170_d3_1_order_C_frames_3000.mmap\n",
      "Decode mmap filename /home/kushalk/caiman_data/mesmerize-core-batch/09610b86-917a-41e7-a493-2d036bf44428/38f85afb-417f-453a-8da5-28753b0dc290_cnmf-memmap_d1_170_d2_170_d3_1_order_C_frames_3000.mmap\n",
      "Decode mmap filename /home/kushalk/caiman_data/mesmerize-core-batch/09610b86-917a-41e7-a493-2d036bf44428/38f85afb-417f-453a-8da5-28753b0dc290_cnmf-memmap_d1_170_d2_170_d3_1_order_C_frames_3000.mmap\n",
      "Decode mmap filename /home/kushalk/caiman_data/mesmerize-core-batch/09610b86-917a-41e7-a493-2d036bf44428/38f85afb-417f-453a-8da5-28753b0dc290_cnmf-memmap_d1_170_d2_170_d3_1_order_C_frames_3000.mmap\n",
      "Decode mmap filename /home/kushalk/caiman_data/mesmerize-core-batch/09610b86-917a-41e7-a493-2d036bf44428/38f85afb-417f-453a-8da5-28753b0dc290_cnmf-memmap_d1_170_d2_170_d3_1_order_C_frames_3000.mmap\n",
      "Decode mmap filename /home/kushalk/caiman_data/mesmerize-core-batch/09610b86-917a-41e7-a493-2d036bf44428/38f85afb-417f-453a-8da5-28753b0dc290_cnmf-memmap_d1_170_d2_170_d3_1_order_C_frames_3000.mmap\n",
      "Decode mmap filename /home/kushalk/caiman_data/mesmerize-core-batch/09610b86-917a-41e7-a493-2d036bf44428/38f85afb-417f-453a-8da5-28753b0dc290_cnmf-memmap_d1_170_d2_170_d3_1_order_C_frames_3000.mmap\n",
      "Decode mmap filename /home/kushalk/caiman_data/mesmerize-core-batch/09610b86-917a-41e7-a493-2d036bf44428/38f85afb-417f-453a-8da5-28753b0dc290_cnmf-memmap_d1_170_d2_170_d3_1_order_C_frames_3000.mmap\n",
      "Decode mmap filename /home/kushalk/caiman_data/mesmerize-core-batch/09610b86-917a-41e7-a493-2d036bf44428/38f85afb-417f-453a-8da5-28753b0dc290_cnmf-memmap_d1_170_d2_170_d3_1_order_C_frames_3000.mmap\n",
      "Decode mmap filename /home/kushalk/caiman_data/mesmerize-core-batch/09610b86-917a-41e7-a493-2d036bf44428/38f85afb-417f-453a-8da5-28753b0dc290_cnmf-memmap_d1_170_d2_170_d3_1_order_C_frames_3000.mmap\n",
      "Decode mmap filename /home/kushalk/caiman_data/mesmerize-core-batch/09610b86-917a-41e7-a493-2d036bf44428/38f85afb-417f-453a-8da5-28753b0dc290_cnmf-memmap_d1_170_d2_170_d3_1_order_C_frames_3000.mmap\n",
      "Decode mmap filename /home/kushalk/caiman_data/mesmerize-core-batch/09610b86-917a-41e7-a493-2d036bf44428/38f85afb-417f-453a-8da5-28753b0dc290_cnmf-memmap_d1_170_d2_170_d3_1_order_C_frames_3000.mmap\n",
      "Decode mmap filename /home/kushalk/caiman_data/mesmerize-core-batch/09610b86-917a-41e7-a493-2d036bf44428/38f85afb-417f-453a-8da5-28753b0dc290_cnmf-memmap_d1_170_d2_170_d3_1_order_C_frames_3000.mmap\n",
      "Decode mmap filename /home/kushalk/caiman_data/mesmerize-core-batch/09610b86-917a-41e7-a493-2d036bf44428/38f85afb-417f-453a-8da5-28753b0dc290_cnmf-memmap_d1_170_d2_170_d3_1_order_C_frames_3000.mmap\n",
      "Decode mmap filename /home/kushalk/caiman_data/mesmerize-core-batch/09610b86-917a-41e7-a493-2d036bf44428/38f85afb-417f-453a-8da5-28753b0dc290_cnmf-memmap_d1_170_d2_170_d3_1_order_C_frames_3000.mmap\n",
      "Decode mmap filename /home/kushalk/caiman_data/mesmerize-core-batch/09610b86-917a-41e7-a493-2d036bf44428/38f85afb-417f-453a-8da5-28753b0dc290_cnmf-memmap_d1_170_d2_170_d3_1_order_C_frames_3000.mmap\n",
      "Decode mmap filename /home/kushalk/caiman_data/mesmerize-core-batch/09610b86-917a-41e7-a493-2d036bf44428/38f85afb-417f-453a-8da5-28753b0dc290_cnmf-memmap_d1_170_d2_170_d3_1_order_C_frames_3000.mmap\n",
      "Decode mmap filename /home/kushalk/caiman_data/mesmerize-core-batch/09610b86-917a-41e7-a493-2d036bf44428/38f85afb-417f-453a-8da5-28753b0dc290_cnmf-memmap_d1_170_d2_170_d3_1_order_C_frames_3000.mmap\n",
      "Decode mmap filename /home/kushalk/caiman_data/mesmerize-core-batch/09610b86-917a-41e7-a493-2d036bf44428/38f85afb-417f-453a-8da5-28753b0dc290_cnmf-memmap_d1_170_d2_170_d3_1_order_C_frames_3000.mmap\n",
      "Decode mmap filename /home/kushalk/caiman_data/mesmerize-core-batch/09610b86-917a-41e7-a493-2d036bf44428/38f85afb-417f-453a-8da5-28753b0dc290_cnmf-memmap_d1_170_d2_170_d3_1_order_C_frames_3000.mmap\n",
      "Decode mmap filename /home/kushalk/caiman_data/mesmerize-core-batch/09610b86-917a-41e7-a493-2d036bf44428/38f85afb-417f-453a-8da5-28753b0dc290_cnmf-memmap_d1_170_d2_170_d3_1_order_C_frames_3000.mmap\n",
      "Decode mmap filename /home/kushalk/caiman_data/mesmerize-core-batch/09610b86-917a-41e7-a493-2d036bf44428/38f85afb-417f-453a-8da5-28753b0dc290_cnmf-memmap_d1_170_d2_170_d3_1_order_C_frames_3000.mmap\n",
      "Decode mmap filename /home/kushalk/caiman_data/mesmerize-core-batch/09610b86-917a-41e7-a493-2d036bf44428/38f85afb-417f-453a-8da5-28753b0dc290_cnmf-memmap_d1_170_d2_170_d3_1_order_C_frames_3000.mmap\n",
      "Decode mmap filename /home/kushalk/caiman_data/mesmerize-core-batch/09610b86-917a-41e7-a493-2d036bf44428/38f85afb-417f-453a-8da5-28753b0dc290_cnmf-memmap_d1_170_d2_170_d3_1_order_C_frames_3000.mmap\n",
      "Decode mmap filename /home/kushalk/caiman_data/mesmerize-core-batch/09610b86-917a-41e7-a493-2d036bf44428/38f85afb-417f-453a-8da5-28753b0dc290_cnmf-memmap_d1_170_d2_170_d3_1_order_C_frames_3000.mmap\n",
      "Decode mmap filename /home/kushalk/caiman_data/mesmerize-core-batch/09610b86-917a-41e7-a493-2d036bf44428/38f85afb-417f-453a-8da5-28753b0dc290_cnmf-memmap_d1_170_d2_170_d3_1_order_C_frames_3000.mmap\n",
      "Decode mmap filename /home/kushalk/caiman_data/mesmerize-core-batch/09610b86-917a-41e7-a493-2d036bf44428/38f85afb-417f-453a-8da5-28753b0dc290_cnmf-memmap_d1_170_d2_170_d3_1_order_C_frames_3000.mmap\n",
      "Decode mmap filename /home/kushalk/caiman_data/mesmerize-core-batch/09610b86-917a-41e7-a493-2d036bf44428/38f85afb-417f-453a-8da5-28753b0dc290_cnmf-memmap_d1_170_d2_170_d3_1_order_C_frames_3000.mmap\n",
      "Decode mmap filename /home/kushalk/caiman_data/mesmerize-core-batch/09610b86-917a-41e7-a493-2d036bf44428/38f85afb-417f-453a-8da5-28753b0dc290_cnmf-memmap_d1_170_d2_170_d3_1_order_C_frames_3000.mmap\n",
      "Decode mmap filename /home/kushalk/caiman_data/mesmerize-core-batch/09610b86-917a-41e7-a493-2d036bf44428/38f85afb-417f-453a-8da5-28753b0dc290_cnmf-memmap_d1_170_d2_170_d3_1_order_C_frames_3000.mmap\n",
      "Decode mmap filename /home/kushalk/caiman_data/mesmerize-core-batch/09610b86-917a-41e7-a493-2d036bf44428/38f85afb-417f-453a-8da5-28753b0dc290_cnmf-memmap_d1_170_d2_170_d3_1_order_C_frames_3000.mmap\n",
      "Decode mmap filename /home/kushalk/caiman_data/mesmerize-core-batch/09610b86-917a-41e7-a493-2d036bf44428/38f85afb-417f-453a-8da5-28753b0dc290_cnmf-memmap_d1_170_d2_170_d3_1_order_C_frames_3000.mmap\n",
      "Decode mmap filename /home/kushalk/caiman_data/mesmerize-core-batch/09610b86-917a-41e7-a493-2d036bf44428/38f85afb-417f-453a-8da5-28753b0dc290_cnmf-memmap_d1_170_d2_170_d3_1_order_C_frames_3000.mmap\n",
      "Decode mmap filename /home/kushalk/caiman_data/mesmerize-core-batch/09610b86-917a-41e7-a493-2d036bf44428/38f85afb-417f-453a-8da5-28753b0dc290_cnmf-memmap_d1_170_d2_170_d3_1_order_C_frames_3000.mmap\n",
      "Decode mmap filename /home/kushalk/caiman_data/mesmerize-core-batch/09610b86-917a-41e7-a493-2d036bf44428/38f85afb-417f-453a-8da5-28753b0dc290_cnmf-memmap_d1_170_d2_170_d3_1_order_C_frames_3000.mmap\n",
      "Decode mmap filename /home/kushalk/caiman_data/mesmerize-core-batch/09610b86-917a-41e7-a493-2d036bf44428/38f85afb-417f-453a-8da5-28753b0dc290_cnmf-memmap_d1_170_d2_170_d3_1_order_C_frames_3000.mmap\n",
      "Decode mmap filename /home/kushalk/caiman_data/mesmerize-core-batch/09610b86-917a-41e7-a493-2d036bf44428/38f85afb-417f-453a-8da5-28753b0dc290_cnmf-memmap_d1_170_d2_170_d3_1_order_C_frames_3000.mmap\n",
      "Decode mmap filename /home/kushalk/caiman_data/mesmerize-core-batch/09610b86-917a-41e7-a493-2d036bf44428/38f85afb-417f-453a-8da5-28753b0dc290_cnmf-memmap_d1_170_d2_170_d3_1_order_C_frames_3000.mmap\n",
      "Decode mmap filename /home/kushalk/caiman_data/mesmerize-core-batch/09610b86-917a-41e7-a493-2d036bf44428/38f85afb-417f-453a-8da5-28753b0dc290_cnmf-memmap_d1_170_d2_170_d3_1_order_C_frames_3000.mmap\n",
      "Decode mmap filename /home/kushalk/caiman_data/mesmerize-core-batch/09610b86-917a-41e7-a493-2d036bf44428/38f85afb-417f-453a-8da5-28753b0dc290_cnmf-memmap_d1_170_d2_170_d3_1_order_C_frames_3000.mmap\n",
      "Decode mmap filename /home/kushalk/caiman_data/mesmerize-core-batch/09610b86-917a-41e7-a493-2d036bf44428/38f85afb-417f-453a-8da5-28753b0dc290_cnmf-memmap_d1_170_d2_170_d3_1_order_C_frames_3000.mmap\n",
      "Decode mmap filename /home/kushalk/caiman_data/mesmerize-core-batch/09610b86-917a-41e7-a493-2d036bf44428/38f85afb-417f-453a-8da5-28753b0dc290_cnmf-memmap_d1_170_d2_170_d3_1_order_C_frames_3000.mmap\n",
      "Decode mmap filename /home/kushalk/caiman_data/mesmerize-core-batch/09610b86-917a-41e7-a493-2d036bf44428/38f85afb-417f-453a-8da5-28753b0dc290_cnmf-memmap_d1_170_d2_170_d3_1_order_C_frames_3000.mmap\n",
      "Decode mmap filename /home/kushalk/caiman_data/mesmerize-core-batch/09610b86-917a-41e7-a493-2d036bf44428/38f85afb-417f-453a-8da5-28753b0dc290_cnmf-memmap_d1_170_d2_170_d3_1_order_C_frames_3000.mmap\n",
      "Decode mmap filename /home/kushalk/caiman_data/mesmerize-core-batch/09610b86-917a-41e7-a493-2d036bf44428/38f85afb-417f-453a-8da5-28753b0dc290_cnmf-memmap_d1_170_d2_170_d3_1_order_C_frames_3000.mmap\n",
      "Decode mmap filename /home/kushalk/caiman_data/mesmerize-core-batch/09610b86-917a-41e7-a493-2d036bf44428/38f85afb-417f-453a-8da5-28753b0dc290_cnmf-memmap_d1_170_d2_170_d3_1_order_C_frames_3000.mmap\n",
      "Decode mmap filename /home/kushalk/caiman_data/mesmerize-core-batch/09610b86-917a-41e7-a493-2d036bf44428/38f85afb-417f-453a-8da5-28753b0dc290_cnmf-memmap_d1_170_d2_170_d3_1_order_C_frames_3000.mmap\n",
      "Decode mmap filename /home/kushalk/caiman_data/mesmerize-core-batch/09610b86-917a-41e7-a493-2d036bf44428/38f85afb-417f-453a-8da5-28753b0dc290_cnmf-memmap_d1_170_d2_170_d3_1_order_C_frames_3000.mmap\n",
      "Decode mmap filename /home/kushalk/caiman_data/mesmerize-core-batch/09610b86-917a-41e7-a493-2d036bf44428/38f85afb-417f-453a-8da5-28753b0dc290_cnmf-memmap_d1_170_d2_170_d3_1_order_C_frames_3000.mmap\n",
      "Decode mmap filename /home/kushalk/caiman_data/mesmerize-core-batch/09610b86-917a-41e7-a493-2d036bf44428/38f85afb-417f-453a-8da5-28753b0dc290_cnmf-memmap_d1_170_d2_170_d3_1_order_C_frames_3000.mmap\n",
      "Decode mmap filename /home/kushalk/caiman_data/mesmerize-core-batch/09610b86-917a-41e7-a493-2d036bf44428/38f85afb-417f-453a-8da5-28753b0dc290_cnmf-memmap_d1_170_d2_170_d3_1_order_C_frames_3000.mmap\n",
      "Decode mmap filename /home/kushalk/caiman_data/mesmerize-core-batch/09610b86-917a-41e7-a493-2d036bf44428/38f85afb-417f-453a-8da5-28753b0dc290_cnmf-memmap_d1_170_d2_170_d3_1_order_C_frames_3000.mmap\n",
      "Decode mmap filename /home/kushalk/caiman_data/mesmerize-core-batch/09610b86-917a-41e7-a493-2d036bf44428/38f85afb-417f-453a-8da5-28753b0dc290_cnmf-memmap_d1_170_d2_170_d3_1_order_C_frames_3000.mmap\n",
      "Decode mmap filename /home/kushalk/caiman_data/mesmerize-core-batch/09610b86-917a-41e7-a493-2d036bf44428/38f85afb-417f-453a-8da5-28753b0dc290_cnmf-memmap_d1_170_d2_170_d3_1_order_C_frames_3000.mmap\n",
      "Decode mmap filename /home/kushalk/caiman_data/mesmerize-core-batch/09610b86-917a-41e7-a493-2d036bf44428/38f85afb-417f-453a-8da5-28753b0dc290_cnmf-memmap_d1_170_d2_170_d3_1_order_C_frames_3000.mmap\n",
      "Decode mmap filename /home/kushalk/caiman_data/mesmerize-core-batch/09610b86-917a-41e7-a493-2d036bf44428/38f85afb-417f-453a-8da5-28753b0dc290_cnmf-memmap_d1_170_d2_170_d3_1_order_C_frames_3000.mmap\n",
      "Decode mmap filename /home/kushalk/caiman_data/mesmerize-core-batch/09610b86-917a-41e7-a493-2d036bf44428/38f85afb-417f-453a-8da5-28753b0dc290_cnmf-memmap_d1_170_d2_170_d3_1_order_C_frames_3000.mmap\n",
      "Decode mmap filename /home/kushalk/caiman_data/mesmerize-core-batch/09610b86-917a-41e7-a493-2d036bf44428/38f85afb-417f-453a-8da5-28753b0dc290_cnmf-memmap_d1_170_d2_170_d3_1_order_C_frames_3000.mmap\n",
      "Decode mmap filename /home/kushalk/caiman_data/mesmerize-core-batch/09610b86-917a-41e7-a493-2d036bf44428/38f85afb-417f-453a-8da5-28753b0dc290_cnmf-memmap_d1_170_d2_170_d3_1_order_C_frames_3000.mmap\n",
      "Decode mmap filename /home/kushalk/caiman_data/mesmerize-core-batch/09610b86-917a-41e7-a493-2d036bf44428/38f85afb-417f-453a-8da5-28753b0dc290_cnmf-memmap_d1_170_d2_170_d3_1_order_C_frames_3000.mmap\n",
      "Decode mmap filename /home/kushalk/caiman_data/mesmerize-core-batch/09610b86-917a-41e7-a493-2d036bf44428/38f85afb-417f-453a-8da5-28753b0dc290_cnmf-memmap_d1_170_d2_170_d3_1_order_C_frames_3000.mmap\n",
      "Decode mmap filename /home/kushalk/caiman_data/mesmerize-core-batch/09610b86-917a-41e7-a493-2d036bf44428/38f85afb-417f-453a-8da5-28753b0dc290_cnmf-memmap_d1_170_d2_170_d3_1_order_C_frames_3000.mmap\n",
      "Decode mmap filename /home/kushalk/caiman_data/mesmerize-core-batch/09610b86-917a-41e7-a493-2d036bf44428/38f85afb-417f-453a-8da5-28753b0dc290_cnmf-memmap_d1_170_d2_170_d3_1_order_C_frames_3000.mmap\n",
      "Decode mmap filename /home/kushalk/caiman_data/mesmerize-core-batch/09610b86-917a-41e7-a493-2d036bf44428/38f85afb-417f-453a-8da5-28753b0dc290_cnmf-memmap_d1_170_d2_170_d3_1_order_C_frames_3000.mmap\n",
      "Decode mmap filename /home/kushalk/caiman_data/mesmerize-core-batch/09610b86-917a-41e7-a493-2d036bf44428/38f85afb-417f-453a-8da5-28753b0dc290_cnmf-memmap_d1_170_d2_170_d3_1_order_C_frames_3000.mmap\n",
      "Decode mmap filename /home/kushalk/caiman_data/mesmerize-core-batch/09610b86-917a-41e7-a493-2d036bf44428/38f85afb-417f-453a-8da5-28753b0dc290_cnmf-memmap_d1_170_d2_170_d3_1_order_C_frames_3000.mmap\n",
      "Decode mmap filename /home/kushalk/caiman_data/mesmerize-core-batch/09610b86-917a-41e7-a493-2d036bf44428/38f85afb-417f-453a-8da5-28753b0dc290_cnmf-memmap_d1_170_d2_170_d3_1_order_C_frames_3000.mmap\n",
      "Decode mmap filename /home/kushalk/caiman_data/mesmerize-core-batch/09610b86-917a-41e7-a493-2d036bf44428/38f85afb-417f-453a-8da5-28753b0dc290_cnmf-memmap_d1_170_d2_170_d3_1_order_C_frames_3000.mmap\n",
      "Decode mmap filename /home/kushalk/caiman_data/mesmerize-core-batch/09610b86-917a-41e7-a493-2d036bf44428/38f85afb-417f-453a-8da5-28753b0dc290_cnmf-memmap_d1_170_d2_170_d3_1_order_C_frames_3000.mmap\n",
      "Decode mmap filename /home/kushalk/caiman_data/mesmerize-core-batch/09610b86-917a-41e7-a493-2d036bf44428/38f85afb-417f-453a-8da5-28753b0dc290_cnmf-memmap_d1_170_d2_170_d3_1_order_C_frames_3000.mmap\n",
      "Decode mmap filename /home/kushalk/caiman_data/mesmerize-core-batch/09610b86-917a-41e7-a493-2d036bf44428/38f85afb-417f-453a-8da5-28753b0dc290_cnmf-memmap_d1_170_d2_170_d3_1_order_C_frames_3000.mmap\n",
      "Decode mmap filename /home/kushalk/caiman_data/mesmerize-core-batch/09610b86-917a-41e7-a493-2d036bf44428/38f85afb-417f-453a-8da5-28753b0dc290_cnmf-memmap_d1_170_d2_170_d3_1_order_C_frames_3000.mmap\n",
      "Decode mmap filename /home/kushalk/caiman_data/mesmerize-core-batch/09610b86-917a-41e7-a493-2d036bf44428/38f85afb-417f-453a-8da5-28753b0dc290_cnmf-memmap_d1_170_d2_170_d3_1_order_C_frames_3000.mmap\n",
      "Decode mmap filename /home/kushalk/caiman_data/mesmerize-core-batch/09610b86-917a-41e7-a493-2d036bf44428/38f85afb-417f-453a-8da5-28753b0dc290_cnmf-memmap_d1_170_d2_170_d3_1_order_C_frames_3000.mmap\n",
      "Decode mmap filename /home/kushalk/caiman_data/mesmerize-core-batch/09610b86-917a-41e7-a493-2d036bf44428/38f85afb-417f-453a-8da5-28753b0dc290_cnmf-memmap_d1_170_d2_170_d3_1_order_C_frames_3000.mmap\n",
      "Decode mmap filename /home/kushalk/caiman_data/mesmerize-core-batch/09610b86-917a-41e7-a493-2d036bf44428/38f85afb-417f-453a-8da5-28753b0dc290_cnmf-memmap_d1_170_d2_170_d3_1_order_C_frames_3000.mmap\n",
      "Decode mmap filename /home/kushalk/caiman_data/mesmerize-core-batch/09610b86-917a-41e7-a493-2d036bf44428/38f85afb-417f-453a-8da5-28753b0dc290_cnmf-memmap_d1_170_d2_170_d3_1_order_C_frames_3000.mmap\n",
      "Decode mmap filename /home/kushalk/caiman_data/mesmerize-core-batch/09610b86-917a-41e7-a493-2d036bf44428/38f85afb-417f-453a-8da5-28753b0dc290_cnmf-memmap_d1_170_d2_170_d3_1_order_C_frames_3000.mmap\n",
      "Decode mmap filename /home/kushalk/caiman_data/mesmerize-core-batch/09610b86-917a-41e7-a493-2d036bf44428/38f85afb-417f-453a-8da5-28753b0dc290_cnmf-memmap_d1_170_d2_170_d3_1_order_C_frames_3000.mmap\n",
      "Decode mmap filename /home/kushalk/caiman_data/mesmerize-core-batch/09610b86-917a-41e7-a493-2d036bf44428/38f85afb-417f-453a-8da5-28753b0dc290_cnmf-memmap_d1_170_d2_170_d3_1_order_C_frames_3000.mmap\n",
      "Decode mmap filename /home/kushalk/caiman_data/mesmerize-core-batch/09610b86-917a-41e7-a493-2d036bf44428/38f85afb-417f-453a-8da5-28753b0dc290_cnmf-memmap_d1_170_d2_170_d3_1_order_C_frames_3000.mmap\n",
      "Decode mmap filename /home/kushalk/caiman_data/mesmerize-core-batch/09610b86-917a-41e7-a493-2d036bf44428/38f85afb-417f-453a-8da5-28753b0dc290_cnmf-memmap_d1_170_d2_170_d3_1_order_C_frames_3000.mmap\n",
      "Decode mmap filename /home/kushalk/caiman_data/mesmerize-core-batch/09610b86-917a-41e7-a493-2d036bf44428/38f85afb-417f-453a-8da5-28753b0dc290_cnmf-memmap_d1_170_d2_170_d3_1_order_C_frames_3000.mmap\n",
      "Decode mmap filename /home/kushalk/caiman_data/mesmerize-core-batch/09610b86-917a-41e7-a493-2d036bf44428/38f85afb-417f-453a-8da5-28753b0dc290_cnmf-memmap_d1_170_d2_170_d3_1_order_C_frames_3000.mmap\n",
      "Decode mmap filename /home/kushalk/caiman_data/mesmerize-core-batch/09610b86-917a-41e7-a493-2d036bf44428/38f85afb-417f-453a-8da5-28753b0dc290_cnmf-memmap_d1_170_d2_170_d3_1_order_C_frames_3000.mmap\n",
      "Decode mmap filename /home/kushalk/caiman_data/mesmerize-core-batch/09610b86-917a-41e7-a493-2d036bf44428/38f85afb-417f-453a-8da5-28753b0dc290_cnmf-memmap_d1_170_d2_170_d3_1_order_C_frames_3000.mmap\n",
      "Decode mmap filename /home/kushalk/caiman_data/mesmerize-core-batch/09610b86-917a-41e7-a493-2d036bf44428/38f85afb-417f-453a-8da5-28753b0dc290_cnmf-memmap_d1_170_d2_170_d3_1_order_C_frames_3000.mmap\n",
      "Decode mmap filename /home/kushalk/caiman_data/mesmerize-core-batch/09610b86-917a-41e7-a493-2d036bf44428/38f85afb-417f-453a-8da5-28753b0dc290_cnmf-memmap_d1_170_d2_170_d3_1_order_C_frames_3000.mmap\n",
      "Decode mmap filename /home/kushalk/caiman_data/mesmerize-core-batch/09610b86-917a-41e7-a493-2d036bf44428/38f85afb-417f-453a-8da5-28753b0dc290_cnmf-memmap_d1_170_d2_170_d3_1_order_C_frames_3000.mmap\n",
      "Decode mmap filename /home/kushalk/caiman_data/mesmerize-core-batch/09610b86-917a-41e7-a493-2d036bf44428/38f85afb-417f-453a-8da5-28753b0dc290_cnmf-memmap_d1_170_d2_170_d3_1_order_C_frames_3000.mmap\n",
      "Decode mmap filename /home/kushalk/caiman_data/mesmerize-core-batch/09610b86-917a-41e7-a493-2d036bf44428/38f85afb-417f-453a-8da5-28753b0dc290_cnmf-memmap_d1_170_d2_170_d3_1_order_C_frames_3000.mmap\n",
      "Decode mmap filename /home/kushalk/caiman_data/mesmerize-core-batch/09610b86-917a-41e7-a493-2d036bf44428/38f85afb-417f-453a-8da5-28753b0dc290_cnmf-memmap_d1_170_d2_170_d3_1_order_C_frames_3000.mmap\n",
      "Decode mmap filename /home/kushalk/caiman_data/mesmerize-core-batch/09610b86-917a-41e7-a493-2d036bf44428/38f85afb-417f-453a-8da5-28753b0dc290_cnmf-memmap_d1_170_d2_170_d3_1_order_C_frames_3000.mmap\n",
      "Decode mmap filename /home/kushalk/caiman_data/mesmerize-core-batch/09610b86-917a-41e7-a493-2d036bf44428/38f85afb-417f-453a-8da5-28753b0dc290_cnmf-memmap_d1_170_d2_170_d3_1_order_C_frames_3000.mmap\n",
      "Decode mmap filename /home/kushalk/caiman_data/mesmerize-core-batch/09610b86-917a-41e7-a493-2d036bf44428/38f85afb-417f-453a-8da5-28753b0dc290_cnmf-memmap_d1_170_d2_170_d3_1_order_C_frames_3000.mmap\n",
      "Decode mmap filename /home/kushalk/caiman_data/mesmerize-core-batch/09610b86-917a-41e7-a493-2d036bf44428/38f85afb-417f-453a-8da5-28753b0dc290_cnmf-memmap_d1_170_d2_170_d3_1_order_C_frames_3000.mmap\n",
      "Decode mmap filename /home/kushalk/caiman_data/mesmerize-core-batch/09610b86-917a-41e7-a493-2d036bf44428/38f85afb-417f-453a-8da5-28753b0dc290_cnmf-memmap_d1_170_d2_170_d3_1_order_C_frames_3000.mmap\n",
      "Decode mmap filename /home/kushalk/caiman_data/mesmerize-core-batch/09610b86-917a-41e7-a493-2d036bf44428/38f85afb-417f-453a-8da5-28753b0dc290_cnmf-memmap_d1_170_d2_170_d3_1_order_C_frames_3000.mmap\n",
      "Decode mmap filename /home/kushalk/caiman_data/mesmerize-core-batch/09610b86-917a-41e7-a493-2d036bf44428/38f85afb-417f-453a-8da5-28753b0dc290_cnmf-memmap_d1_170_d2_170_d3_1_order_C_frames_3000.mmap\n",
      "Decode mmap filename /home/kushalk/caiman_data/mesmerize-core-batch/09610b86-917a-41e7-a493-2d036bf44428/38f85afb-417f-453a-8da5-28753b0dc290_cnmf-memmap_d1_170_d2_170_d3_1_order_C_frames_3000.mmap\n",
      "Decode mmap filename /home/kushalk/caiman_data/mesmerize-core-batch/09610b86-917a-41e7-a493-2d036bf44428/38f85afb-417f-453a-8da5-28753b0dc290_cnmf-memmap_d1_170_d2_170_d3_1_order_C_frames_3000.mmap\n",
      "Decode mmap filename /home/kushalk/caiman_data/mesmerize-core-batch/09610b86-917a-41e7-a493-2d036bf44428/38f85afb-417f-453a-8da5-28753b0dc290_cnmf-memmap_d1_170_d2_170_d3_1_order_C_frames_3000.mmap\n",
      "Decode mmap filename /home/kushalk/caiman_data/mesmerize-core-batch/09610b86-917a-41e7-a493-2d036bf44428/38f85afb-417f-453a-8da5-28753b0dc290_cnmf-memmap_d1_170_d2_170_d3_1_order_C_frames_3000.mmap\n",
      "Decode mmap filename /home/kushalk/caiman_data/mesmerize-core-batch/09610b86-917a-41e7-a493-2d036bf44428/38f85afb-417f-453a-8da5-28753b0dc290_cnmf-memmap_d1_170_d2_170_d3_1_order_C_frames_3000.mmap\n",
      "Decode mmap filename /home/kushalk/caiman_data/mesmerize-core-batch/09610b86-917a-41e7-a493-2d036bf44428/38f85afb-417f-453a-8da5-28753b0dc290_cnmf-memmap_d1_170_d2_170_d3_1_order_C_frames_3000.mmap\n",
      "Decode mmap filename /home/kushalk/caiman_data/mesmerize-core-batch/09610b86-917a-41e7-a493-2d036bf44428/38f85afb-417f-453a-8da5-28753b0dc290_cnmf-memmap_d1_170_d2_170_d3_1_order_C_frames_3000.mmap\n",
      "Decode mmap filename /home/kushalk/caiman_data/mesmerize-core-batch/09610b86-917a-41e7-a493-2d036bf44428/38f85afb-417f-453a-8da5-28753b0dc290_cnmf-memmap_d1_170_d2_170_d3_1_order_C_frames_3000.mmap\n",
      "Decode mmap filename /home/kushalk/caiman_data/mesmerize-core-batch/09610b86-917a-41e7-a493-2d036bf44428/38f85afb-417f-453a-8da5-28753b0dc290_cnmf-memmap_d1_170_d2_170_d3_1_order_C_frames_3000.mmap\n",
      "Decode mmap filename /home/kushalk/caiman_data/mesmerize-core-batch/09610b86-917a-41e7-a493-2d036bf44428/38f85afb-417f-453a-8da5-28753b0dc290_cnmf-memmap_d1_170_d2_170_d3_1_order_C_frames_3000.mmap\n",
      "Decode mmap filename /home/kushalk/caiman_data/mesmerize-core-batch/09610b86-917a-41e7-a493-2d036bf44428/38f85afb-417f-453a-8da5-28753b0dc290_cnmf-memmap_d1_170_d2_170_d3_1_order_C_frames_3000.mmap\n",
      "Decode mmap filename /home/kushalk/caiman_data/mesmerize-core-batch/09610b86-917a-41e7-a493-2d036bf44428/38f85afb-417f-453a-8da5-28753b0dc290_cnmf-memmap_d1_170_d2_170_d3_1_order_C_frames_3000.mmap\n",
      "Decode mmap filename /home/kushalk/caiman_data/mesmerize-core-batch/09610b86-917a-41e7-a493-2d036bf44428/38f85afb-417f-453a-8da5-28753b0dc290_cnmf-memmap_d1_170_d2_170_d3_1_order_C_frames_3000.mmap\n",
      "Decode mmap filename /home/kushalk/caiman_data/mesmerize-core-batch/09610b86-917a-41e7-a493-2d036bf44428/38f85afb-417f-453a-8da5-28753b0dc290_cnmf-memmap_d1_170_d2_170_d3_1_order_C_frames_3000.mmap\n",
      "Decode mmap filename /home/kushalk/caiman_data/mesmerize-core-batch/09610b86-917a-41e7-a493-2d036bf44428/38f85afb-417f-453a-8da5-28753b0dc290_cnmf-memmap_d1_170_d2_170_d3_1_order_C_frames_3000.mmap\n",
      "Decode mmap filename /home/kushalk/caiman_data/mesmerize-core-batch/09610b86-917a-41e7-a493-2d036bf44428/38f85afb-417f-453a-8da5-28753b0dc290_cnmf-memmap_d1_170_d2_170_d3_1_order_C_frames_3000.mmap\n",
      "Decode mmap filename /home/kushalk/caiman_data/mesmerize-core-batch/09610b86-917a-41e7-a493-2d036bf44428/38f85afb-417f-453a-8da5-28753b0dc290_cnmf-memmap_d1_170_d2_170_d3_1_order_C_frames_3000.mmap\n",
      "Decode mmap filename /home/kushalk/caiman_data/mesmerize-core-batch/09610b86-917a-41e7-a493-2d036bf44428/38f85afb-417f-453a-8da5-28753b0dc290_cnmf-memmap_d1_170_d2_170_d3_1_order_C_frames_3000.mmap\n",
      "Decode mmap filename /home/kushalk/caiman_data/mesmerize-core-batch/09610b86-917a-41e7-a493-2d036bf44428/38f85afb-417f-453a-8da5-28753b0dc290_cnmf-memmap_d1_170_d2_170_d3_1_order_C_frames_3000.mmap\n",
      "Decode mmap filename /home/kushalk/caiman_data/mesmerize-core-batch/09610b86-917a-41e7-a493-2d036bf44428/38f85afb-417f-453a-8da5-28753b0dc290_cnmf-memmap_d1_170_d2_170_d3_1_order_C_frames_3000.mmap\n",
      "Decode mmap filename /home/kushalk/caiman_data/mesmerize-core-batch/09610b86-917a-41e7-a493-2d036bf44428/38f85afb-417f-453a-8da5-28753b0dc290_cnmf-memmap_d1_170_d2_170_d3_1_order_C_frames_3000.mmap\n",
      "Decode mmap filename /home/kushalk/caiman_data/mesmerize-core-batch/09610b86-917a-41e7-a493-2d036bf44428/38f85afb-417f-453a-8da5-28753b0dc290_cnmf-memmap_d1_170_d2_170_d3_1_order_C_frames_3000.mmap\n",
      "Decode mmap filename /home/kushalk/caiman_data/mesmerize-core-batch/09610b86-917a-41e7-a493-2d036bf44428/38f85afb-417f-453a-8da5-28753b0dc290_cnmf-memmap_d1_170_d2_170_d3_1_order_C_frames_3000.mmap\n",
      "Decode mmap filename /home/kushalk/caiman_data/mesmerize-core-batch/09610b86-917a-41e7-a493-2d036bf44428/38f85afb-417f-453a-8da5-28753b0dc290_cnmf-memmap_d1_170_d2_170_d3_1_order_C_frames_3000.mmap\n",
      "Decode mmap filename /home/kushalk/caiman_data/mesmerize-core-batch/09610b86-917a-41e7-a493-2d036bf44428/38f85afb-417f-453a-8da5-28753b0dc290_cnmf-memmap_d1_170_d2_170_d3_1_order_C_frames_3000.mmap\n",
      "Decode mmap filename /home/kushalk/caiman_data/mesmerize-core-batch/09610b86-917a-41e7-a493-2d036bf44428/38f85afb-417f-453a-8da5-28753b0dc290_cnmf-memmap_d1_170_d2_170_d3_1_order_C_frames_3000.mmap\n",
      "Decode mmap filename /home/kushalk/caiman_data/mesmerize-core-batch/09610b86-917a-41e7-a493-2d036bf44428/38f85afb-417f-453a-8da5-28753b0dc290_cnmf-memmap_d1_170_d2_170_d3_1_order_C_frames_3000.mmap\n",
      "Decode mmap filename /home/kushalk/caiman_data/mesmerize-core-batch/09610b86-917a-41e7-a493-2d036bf44428/38f85afb-417f-453a-8da5-28753b0dc290_cnmf-memmap_d1_170_d2_170_d3_1_order_C_frames_3000.mmap\n",
      "Decode mmap filename /home/kushalk/caiman_data/mesmerize-core-batch/09610b86-917a-41e7-a493-2d036bf44428/38f85afb-417f-453a-8da5-28753b0dc290_cnmf-memmap_d1_170_d2_170_d3_1_order_C_frames_3000.mmap\n",
      "Decode mmap filename /home/kushalk/caiman_data/mesmerize-core-batch/09610b86-917a-41e7-a493-2d036bf44428/38f85afb-417f-453a-8da5-28753b0dc290_cnmf-memmap_d1_170_d2_170_d3_1_order_C_frames_3000.mmap\n",
      "Decode mmap filename /home/kushalk/caiman_data/mesmerize-core-batch/09610b86-917a-41e7-a493-2d036bf44428/38f85afb-417f-453a-8da5-28753b0dc290_cnmf-memmap_d1_170_d2_170_d3_1_order_C_frames_3000.mmap\n",
      "Decode mmap filename /home/kushalk/caiman_data/mesmerize-core-batch/09610b86-917a-41e7-a493-2d036bf44428/38f85afb-417f-453a-8da5-28753b0dc290_cnmf-memmap_d1_170_d2_170_d3_1_order_C_frames_3000.mmap\n",
      "Decode mmap filename /home/kushalk/caiman_data/mesmerize-core-batch/09610b86-917a-41e7-a493-2d036bf44428/38f85afb-417f-453a-8da5-28753b0dc290_cnmf-memmap_d1_170_d2_170_d3_1_order_C_frames_3000.mmap\n",
      "Decode mmap filename /home/kushalk/caiman_data/mesmerize-core-batch/09610b86-917a-41e7-a493-2d036bf44428/38f85afb-417f-453a-8da5-28753b0dc290_cnmf-memmap_d1_170_d2_170_d3_1_order_C_frames_3000.mmap\n",
      "Decode mmap filename /home/kushalk/caiman_data/mesmerize-core-batch/09610b86-917a-41e7-a493-2d036bf44428/38f85afb-417f-453a-8da5-28753b0dc290_cnmf-memmap_d1_170_d2_170_d3_1_order_C_frames_3000.mmap\n",
      "Decode mmap filename /home/kushalk/caiman_data/mesmerize-core-batch/09610b86-917a-41e7-a493-2d036bf44428/38f85afb-417f-453a-8da5-28753b0dc290_cnmf-memmap_d1_170_d2_170_d3_1_order_C_frames_3000.mmap\n",
      "Decode mmap filename /home/kushalk/caiman_data/mesmerize-core-batch/09610b86-917a-41e7-a493-2d036bf44428/38f85afb-417f-453a-8da5-28753b0dc290_cnmf-memmap_d1_170_d2_170_d3_1_order_C_frames_3000.mmap\n",
      "Decode mmap filename /home/kushalk/caiman_data/mesmerize-core-batch/09610b86-917a-41e7-a493-2d036bf44428/38f85afb-417f-453a-8da5-28753b0dc290_cnmf-memmap_d1_170_d2_170_d3_1_order_C_frames_3000.mmap\n",
      "Decode mmap filename /home/kushalk/caiman_data/mesmerize-core-batch/09610b86-917a-41e7-a493-2d036bf44428/38f85afb-417f-453a-8da5-28753b0dc290_cnmf-memmap_d1_170_d2_170_d3_1_order_C_frames_3000.mmap\n",
      "Decode mmap filename /home/kushalk/caiman_data/mesmerize-core-batch/09610b86-917a-41e7-a493-2d036bf44428/38f85afb-417f-453a-8da5-28753b0dc290_cnmf-memmap_d1_170_d2_170_d3_1_order_C_frames_3000.mmap\n",
      "Decode mmap filename /home/kushalk/caiman_data/mesmerize-core-batch/09610b86-917a-41e7-a493-2d036bf44428/38f85afb-417f-453a-8da5-28753b0dc290_cnmf-memmap_d1_170_d2_170_d3_1_order_C_frames_3000.mmap\n",
      "Decode mmap filename /home/kushalk/caiman_data/mesmerize-core-batch/09610b86-917a-41e7-a493-2d036bf44428/38f85afb-417f-453a-8da5-28753b0dc290_cnmf-memmap_d1_170_d2_170_d3_1_order_C_frames_3000.mmap\n",
      "Decode mmap filename /home/kushalk/caiman_data/mesmerize-core-batch/09610b86-917a-41e7-a493-2d036bf44428/38f85afb-417f-453a-8da5-28753b0dc290_cnmf-memmap_d1_170_d2_170_d3_1_order_C_frames_3000.mmap\n",
      "Decode mmap filename /home/kushalk/caiman_data/mesmerize-core-batch/09610b86-917a-41e7-a493-2d036bf44428/38f85afb-417f-453a-8da5-28753b0dc290_cnmf-memmap_d1_170_d2_170_d3_1_order_C_frames_3000.mmap\n",
      "Decode mmap filename /home/kushalk/caiman_data/mesmerize-core-batch/09610b86-917a-41e7-a493-2d036bf44428/38f85afb-417f-453a-8da5-28753b0dc290_cnmf-memmap_d1_170_d2_170_d3_1_order_C_frames_3000.mmap\n",
      "Decode mmap filename /home/kushalk/caiman_data/mesmerize-core-batch/09610b86-917a-41e7-a493-2d036bf44428/38f85afb-417f-453a-8da5-28753b0dc290_cnmf-memmap_d1_170_d2_170_d3_1_order_C_frames_3000.mmap\n",
      "Decode mmap filename /home/kushalk/caiman_data/mesmerize-core-batch/09610b86-917a-41e7-a493-2d036bf44428/38f85afb-417f-453a-8da5-28753b0dc290_cnmf-memmap_d1_170_d2_170_d3_1_order_C_frames_3000.mmap\n",
      "Decode mmap filename /home/kushalk/caiman_data/mesmerize-core-batch/09610b86-917a-41e7-a493-2d036bf44428/38f85afb-417f-453a-8da5-28753b0dc290_cnmf-memmap_d1_170_d2_170_d3_1_order_C_frames_3000.mmap\n",
      "Decode mmap filename /home/kushalk/caiman_data/mesmerize-core-batch/09610b86-917a-41e7-a493-2d036bf44428/38f85afb-417f-453a-8da5-28753b0dc290_cnmf-memmap_d1_170_d2_170_d3_1_order_C_frames_3000.mmap\n",
      "Decode mmap filename /home/kushalk/caiman_data/mesmerize-core-batch/09610b86-917a-41e7-a493-2d036bf44428/38f85afb-417f-453a-8da5-28753b0dc290_cnmf-memmap_d1_170_d2_170_d3_1_order_C_frames_3000.mmap\n",
      "Decode mmap filename /home/kushalk/caiman_data/mesmerize-core-batch/09610b86-917a-41e7-a493-2d036bf44428/38f85afb-417f-453a-8da5-28753b0dc290_cnmf-memmap_d1_170_d2_170_d3_1_order_C_frames_3000.mmap\n",
      "Decode mmap filename /home/kushalk/caiman_data/mesmerize-core-batch/09610b86-917a-41e7-a493-2d036bf44428/38f85afb-417f-453a-8da5-28753b0dc290_cnmf-memmap_d1_170_d2_170_d3_1_order_C_frames_3000.mmap\n",
      "Decode mmap filename /home/kushalk/caiman_data/mesmerize-core-batch/09610b86-917a-41e7-a493-2d036bf44428/38f85afb-417f-453a-8da5-28753b0dc290_cnmf-memmap_d1_170_d2_170_d3_1_order_C_frames_3000.mmap\n",
      "Decode mmap filename /home/kushalk/caiman_data/mesmerize-core-batch/09610b86-917a-41e7-a493-2d036bf44428/38f85afb-417f-453a-8da5-28753b0dc290_cnmf-memmap_d1_170_d2_170_d3_1_order_C_frames_3000.mmap\n",
      "Decode mmap filename /home/kushalk/caiman_data/mesmerize-core-batch/09610b86-917a-41e7-a493-2d036bf44428/38f85afb-417f-453a-8da5-28753b0dc290_cnmf-memmap_d1_170_d2_170_d3_1_order_C_frames_3000.mmap\n",
      "Decode mmap filename /home/kushalk/caiman_data/mesmerize-core-batch/09610b86-917a-41e7-a493-2d036bf44428/38f85afb-417f-453a-8da5-28753b0dc290_cnmf-memmap_d1_170_d2_170_d3_1_order_C_frames_3000.mmap\n",
      "Decode mmap filename /home/kushalk/caiman_data/mesmerize-core-batch/09610b86-917a-41e7-a493-2d036bf44428/38f85afb-417f-453a-8da5-28753b0dc290_cnmf-memmap_d1_170_d2_170_d3_1_order_C_frames_3000.mmap\n",
      "Decode mmap filename /home/kushalk/caiman_data/mesmerize-core-batch/09610b86-917a-41e7-a493-2d036bf44428/38f85afb-417f-453a-8da5-28753b0dc290_cnmf-memmap_d1_170_d2_170_d3_1_order_C_frames_3000.mmap\n",
      "Decode mmap filename /home/kushalk/caiman_data/mesmerize-core-batch/09610b86-917a-41e7-a493-2d036bf44428/38f85afb-417f-453a-8da5-28753b0dc290_cnmf-memmap_d1_170_d2_170_d3_1_order_C_frames_3000.mmap\n",
      "Decode mmap filename /home/kushalk/caiman_data/mesmerize-core-batch/09610b86-917a-41e7-a493-2d036bf44428/38f85afb-417f-453a-8da5-28753b0dc290_cnmf-memmap_d1_170_d2_170_d3_1_order_C_frames_3000.mmap\n",
      "Decode mmap filename /home/kushalk/caiman_data/mesmerize-core-batch/09610b86-917a-41e7-a493-2d036bf44428/38f85afb-417f-453a-8da5-28753b0dc290_cnmf-memmap_d1_170_d2_170_d3_1_order_C_frames_3000.mmap\n",
      "Decode mmap filename /home/kushalk/caiman_data/mesmerize-core-batch/09610b86-917a-41e7-a493-2d036bf44428/38f85afb-417f-453a-8da5-28753b0dc290_cnmf-memmap_d1_170_d2_170_d3_1_order_C_frames_3000.mmap\n",
      "Decode mmap filename /home/kushalk/caiman_data/mesmerize-core-batch/09610b86-917a-41e7-a493-2d036bf44428/38f85afb-417f-453a-8da5-28753b0dc290_cnmf-memmap_d1_170_d2_170_d3_1_order_C_frames_3000.mmap\n",
      "Decode mmap filename /home/kushalk/caiman_data/mesmerize-core-batch/09610b86-917a-41e7-a493-2d036bf44428/38f85afb-417f-453a-8da5-28753b0dc290_cnmf-memmap_d1_170_d2_170_d3_1_order_C_frames_3000.mmap\n",
      "Decode mmap filename /home/kushalk/caiman_data/mesmerize-core-batch/09610b86-917a-41e7-a493-2d036bf44428/38f85afb-417f-453a-8da5-28753b0dc290_cnmf-memmap_d1_170_d2_170_d3_1_order_C_frames_3000.mmap\n",
      "Decode mmap filename /home/kushalk/caiman_data/mesmerize-core-batch/09610b86-917a-41e7-a493-2d036bf44428/38f85afb-417f-453a-8da5-28753b0dc290_cnmf-memmap_d1_170_d2_170_d3_1_order_C_frames_3000.mmap\n",
      "Decode mmap filename /home/kushalk/caiman_data/mesmerize-core-batch/09610b86-917a-41e7-a493-2d036bf44428/38f85afb-417f-453a-8da5-28753b0dc290_cnmf-memmap_d1_170_d2_170_d3_1_order_C_frames_3000.mmap\n",
      "Decode mmap filename /home/kushalk/caiman_data/mesmerize-core-batch/09610b86-917a-41e7-a493-2d036bf44428/38f85afb-417f-453a-8da5-28753b0dc290_cnmf-memmap_d1_170_d2_170_d3_1_order_C_frames_3000.mmap\n",
      "Decode mmap filename /home/kushalk/caiman_data/mesmerize-core-batch/09610b86-917a-41e7-a493-2d036bf44428/38f85afb-417f-453a-8da5-28753b0dc290_cnmf-memmap_d1_170_d2_170_d3_1_order_C_frames_3000.mmap\n",
      "Decode mmap filename /home/kushalk/caiman_data/mesmerize-core-batch/09610b86-917a-41e7-a493-2d036bf44428/38f85afb-417f-453a-8da5-28753b0dc290_cnmf-memmap_d1_170_d2_170_d3_1_order_C_frames_3000.mmap\n",
      "Decode mmap filename /home/kushalk/caiman_data/mesmerize-core-batch/09610b86-917a-41e7-a493-2d036bf44428/38f85afb-417f-453a-8da5-28753b0dc290_cnmf-memmap_d1_170_d2_170_d3_1_order_C_frames_3000.mmap\n",
      "Decode mmap filename /home/kushalk/caiman_data/mesmerize-core-batch/09610b86-917a-41e7-a493-2d036bf44428/38f85afb-417f-453a-8da5-28753b0dc290_cnmf-memmap_d1_170_d2_170_d3_1_order_C_frames_3000.mmap\n",
      "Decode mmap filename /home/kushalk/caiman_data/mesmerize-core-batch/09610b86-917a-41e7-a493-2d036bf44428/38f85afb-417f-453a-8da5-28753b0dc290_cnmf-memmap_d1_170_d2_170_d3_1_order_C_frames_3000.mmap\n",
      "Decode mmap filename /home/kushalk/caiman_data/mesmerize-core-batch/09610b86-917a-41e7-a493-2d036bf44428/38f85afb-417f-453a-8da5-28753b0dc290_cnmf-memmap_d1_170_d2_170_d3_1_order_C_frames_3000.mmap\n",
      "Decode mmap filename /home/kushalk/caiman_data/mesmerize-core-batch/09610b86-917a-41e7-a493-2d036bf44428/38f85afb-417f-453a-8da5-28753b0dc290_cnmf-memmap_d1_170_d2_170_d3_1_order_C_frames_3000.mmap\n",
      "Decode mmap filename /home/kushalk/caiman_data/mesmerize-core-batch/09610b86-917a-41e7-a493-2d036bf44428/38f85afb-417f-453a-8da5-28753b0dc290_cnmf-memmap_d1_170_d2_170_d3_1_order_C_frames_3000.mmap\n",
      "Decode mmap filename /home/kushalk/caiman_data/mesmerize-core-batch/09610b86-917a-41e7-a493-2d036bf44428/38f85afb-417f-453a-8da5-28753b0dc290_cnmf-memmap_d1_170_d2_170_d3_1_order_C_frames_3000.mmap\n",
      "Decode mmap filename /home/kushalk/caiman_data/mesmerize-core-batch/09610b86-917a-41e7-a493-2d036bf44428/38f85afb-417f-453a-8da5-28753b0dc290_cnmf-memmap_d1_170_d2_170_d3_1_order_C_frames_3000.mmap\n",
      "Decode mmap filename /home/kushalk/caiman_data/mesmerize-core-batch/09610b86-917a-41e7-a493-2d036bf44428/38f85afb-417f-453a-8da5-28753b0dc290_cnmf-memmap_d1_170_d2_170_d3_1_order_C_frames_3000.mmap\n",
      "Decode mmap filename /home/kushalk/caiman_data/mesmerize-core-batch/09610b86-917a-41e7-a493-2d036bf44428/38f85afb-417f-453a-8da5-28753b0dc290_cnmf-memmap_d1_170_d2_170_d3_1_order_C_frames_3000.mmap\n",
      "Decode mmap filename /home/kushalk/caiman_data/mesmerize-core-batch/09610b86-917a-41e7-a493-2d036bf44428/38f85afb-417f-453a-8da5-28753b0dc290_cnmf-memmap_d1_170_d2_170_d3_1_order_C_frames_3000.mmap\n",
      "Decode mmap filename /home/kushalk/caiman_data/mesmerize-core-batch/09610b86-917a-41e7-a493-2d036bf44428/38f85afb-417f-453a-8da5-28753b0dc290_cnmf-memmap_d1_170_d2_170_d3_1_order_C_frames_3000.mmap\n",
      "Decode mmap filename /home/kushalk/caiman_data/mesmerize-core-batch/09610b86-917a-41e7-a493-2d036bf44428/38f85afb-417f-453a-8da5-28753b0dc290_cnmf-memmap_d1_170_d2_170_d3_1_order_C_frames_3000.mmap\n",
      "Decode mmap filename /home/kushalk/caiman_data/mesmerize-core-batch/09610b86-917a-41e7-a493-2d036bf44428/38f85afb-417f-453a-8da5-28753b0dc290_cnmf-memmap_d1_170_d2_170_d3_1_order_C_frames_3000.mmap\n",
      "Decode mmap filename /home/kushalk/caiman_data/mesmerize-core-batch/09610b86-917a-41e7-a493-2d036bf44428/38f85afb-417f-453a-8da5-28753b0dc290_cnmf-memmap_d1_170_d2_170_d3_1_order_C_frames_3000.mmap\n",
      "Decode mmap filename /home/kushalk/caiman_data/mesmerize-core-batch/09610b86-917a-41e7-a493-2d036bf44428/38f85afb-417f-453a-8da5-28753b0dc290_cnmf-memmap_d1_170_d2_170_d3_1_order_C_frames_3000.mmap\n",
      "Decode mmap filename /home/kushalk/caiman_data/mesmerize-core-batch/09610b86-917a-41e7-a493-2d036bf44428/38f85afb-417f-453a-8da5-28753b0dc290_cnmf-memmap_d1_170_d2_170_d3_1_order_C_frames_3000.mmap\n",
      "Decode mmap filename /home/kushalk/caiman_data/mesmerize-core-batch/09610b86-917a-41e7-a493-2d036bf44428/38f85afb-417f-453a-8da5-28753b0dc290_cnmf-memmap_d1_170_d2_170_d3_1_order_C_frames_3000.mmap\n",
      "Decode mmap filename /home/kushalk/caiman_data/mesmerize-core-batch/09610b86-917a-41e7-a493-2d036bf44428/38f85afb-417f-453a-8da5-28753b0dc290_cnmf-memmap_d1_170_d2_170_d3_1_order_C_frames_3000.mmap\n",
      "Decode mmap filename /home/kushalk/caiman_data/mesmerize-core-batch/09610b86-917a-41e7-a493-2d036bf44428/38f85afb-417f-453a-8da5-28753b0dc290_cnmf-memmap_d1_170_d2_170_d3_1_order_C_frames_3000.mmap\n",
      "Decode mmap filename /home/kushalk/caiman_data/mesmerize-core-batch/09610b86-917a-41e7-a493-2d036bf44428/38f85afb-417f-453a-8da5-28753b0dc290_cnmf-memmap_d1_170_d2_170_d3_1_order_C_frames_3000.mmap\n",
      "Decode mmap filename /home/kushalk/caiman_data/mesmerize-core-batch/09610b86-917a-41e7-a493-2d036bf44428/38f85afb-417f-453a-8da5-28753b0dc290_cnmf-memmap_d1_170_d2_170_d3_1_order_C_frames_3000.mmap\n",
      "Decode mmap filename /home/kushalk/caiman_data/mesmerize-core-batch/09610b86-917a-41e7-a493-2d036bf44428/38f85afb-417f-453a-8da5-28753b0dc290_cnmf-memmap_d1_170_d2_170_d3_1_order_C_frames_3000.mmap\n",
      "Decode mmap filename /home/kushalk/caiman_data/mesmerize-core-batch/09610b86-917a-41e7-a493-2d036bf44428/38f85afb-417f-453a-8da5-28753b0dc290_cnmf-memmap_d1_170_d2_170_d3_1_order_C_frames_3000.mmap\n",
      "Decode mmap filename /home/kushalk/caiman_data/mesmerize-core-batch/09610b86-917a-41e7-a493-2d036bf44428/38f85afb-417f-453a-8da5-28753b0dc290_cnmf-memmap_d1_170_d2_170_d3_1_order_C_frames_3000.mmap\n",
      "Decode mmap filename /home/kushalk/caiman_data/mesmerize-core-batch/09610b86-917a-41e7-a493-2d036bf44428/38f85afb-417f-453a-8da5-28753b0dc290_cnmf-memmap_d1_170_d2_170_d3_1_order_C_frames_3000.mmap\n",
      "Decode mmap filename /home/kushalk/caiman_data/mesmerize-core-batch/09610b86-917a-41e7-a493-2d036bf44428/38f85afb-417f-453a-8da5-28753b0dc290_cnmf-memmap_d1_170_d2_170_d3_1_order_C_frames_3000.mmap\n",
      "Decode mmap filename /home/kushalk/caiman_data/mesmerize-core-batch/09610b86-917a-41e7-a493-2d036bf44428/38f85afb-417f-453a-8da5-28753b0dc290_cnmf-memmap_d1_170_d2_170_d3_1_order_C_frames_3000.mmap\n",
      "Decode mmap filename /home/kushalk/caiman_data/mesmerize-core-batch/09610b86-917a-41e7-a493-2d036bf44428/38f85afb-417f-453a-8da5-28753b0dc290_cnmf-memmap_d1_170_d2_170_d3_1_order_C_frames_3000.mmap\n"
     ]
    },
    {
     "name": "stderr",
     "output_type": "stream",
     "text": [
      "2023-01-08 01:31:43.497785: I tensorflow/core/platform/cpu_feature_guard.cc:193] This TensorFlow binary is optimized with oneAPI Deep Neural Network Library (oneDNN) to use the following CPU instructions in performance-critical operations:  AVX2 FMA\n",
      "To enable them in other operations, rebuild TensorFlow with the appropriate compiler flags.\n",
      "2023-01-08 01:31:43.582669: E tensorflow/stream_executor/cuda/cuda_blas.cc:2981] Unable to register cuBLAS factory: Attempting to register factory for plugin cuBLAS when one has already been registered\n",
      "2023-01-08 01:31:43.957665: W tensorflow/stream_executor/platform/default/dso_loader.cc:64] Could not load dynamic library 'libnvinfer.so.7'; dlerror: libnvinfer.so.7: cannot open shared object file: No such file or directory; LD_LIBRARY_PATH: /home/kushalk/python-venvs/mescore/lib/python3.10/site-packages/cv2/../../lib64:/home/kushalk/python-venvs/mescore/lib/python3.10/site-packages/cv2/../../lib64:/usr/local/cuda-11.2/lib64:/usr/local/cuda-11.2/lib64\n",
      "2023-01-08 01:31:43.957713: W tensorflow/stream_executor/platform/default/dso_loader.cc:64] Could not load dynamic library 'libnvinfer_plugin.so.7'; dlerror: libnvinfer_plugin.so.7: cannot open shared object file: No such file or directory; LD_LIBRARY_PATH: /home/kushalk/python-venvs/mescore/lib/python3.10/site-packages/cv2/../../lib64:/home/kushalk/python-venvs/mescore/lib/python3.10/site-packages/cv2/../../lib64:/usr/local/cuda-11.2/lib64:/usr/local/cuda-11.2/lib64\n",
      "2023-01-08 01:31:43.957717: W tensorflow/compiler/tf2tensorrt/utils/py_utils.cc:38] TF-TRT Warning: Cannot dlopen some TensorRT libraries. If you would like to use Nvidia GPU with TensorRT, please make sure the missing libraries mentioned above are installed properly.\n"
     ]
    },
    {
     "name": "stdout",
     "output_type": "stream",
     "text": [
      "************************************************************************\n",
      "\n",
      "Starting CNMF item:\n",
      "algo                                                             cnmf\n",
      "item_name                                          Sue_2x_3000_40_-46\n",
      "input_movie_path    09610b86-917a-41e7-a493-2d036bf44428/09610b86-...\n",
      "params              {'main': {'fr': 30, 'p': 1, 'nb': 2, 'merge_th...\n",
      "outputs                                                          None\n",
      "comments                                                         None\n",
      "uuid                             a49689ad-f093-49ff-9a86-058835eccd34\n",
      "Name: 3, dtype: object\n",
      "With params:{'main': {'fr': 30, 'p': 1, 'nb': 2, 'merge_thr': 0.95, 'rf': 15, 'stride': 6, 'K': 4, 'gSig': (6, 6), 'ssub': 1, 'tsub': 1, 'method_init': 'greedy_roi', 'min_SNR': 2.0, 'rval_thr': 0.7, 'use_cnn': True, 'min_cnn_thr': 0.8, 'cnn_lowest': 0.1, 'decay_time': 0.4}, 'refit': True}\n",
      "Decode mmap filename /home/kushalk/caiman_data/mesmerize-core-batch/09610b86-917a-41e7-a493-2d036bf44428/09610b86-917a-41e7-a493-2d036bf44428-Sue_2x_3000_40_-46_els__d1_170_d2_170_d3_1_order_F_frames_3000.mmap\n",
      "making memmap\n",
      "Decode mmap filename /home/kushalk/caiman_data/mesmerize-core-batch/09610b86-917a-41e7-a493-2d036bf44428/a49689ad-f093-49ff-9a86-058835eccd34_cnmf-memmap_d1_170_d2_170_d3_1_order_C_frames_3000.mmap\n"
     ]
    },
    {
     "name": "stderr",
     "output_type": "stream",
     "text": [
      "WARNING:root:Component 3 is only active jointly with neighboring components. Space correlation calculation might be unreliable.\n",
      "WARNING:root:Component 2 is only active jointly with neighboring components. Space correlation calculation might be unreliable.\n",
      "WARNING:root:Component 2 is only active jointly with neighboring components. Space correlation calculation might be unreliable.\n",
      "WARNING:root:Component 7 is only active jointly with neighboring components. Space correlation calculation might be unreliable.\n",
      "WARNING:root:Component 26 is only active jointly with neighboring components. Space correlation calculation might be unreliable.\n",
      "WARNING:root:Component 26 is only active jointly with neighboring components. Space correlation calculation might be unreliable.\n",
      "WARNING:root:Component 23 is only active jointly with neighboring components. Space correlation calculation might be unreliable.\n",
      "2023-01-08 01:31:57.690996: E tensorflow/stream_executor/cuda/cuda_driver.cc:265] failed call to cuInit: CUDA_ERROR_NO_DEVICE: no CUDA-capable device is detected\n",
      "2023-01-08 01:31:57.691027: I tensorflow/stream_executor/cuda/cuda_diagnostics.cc:169] retrieving CUDA diagnostic information for host: hantman-calcium\n",
      "2023-01-08 01:31:57.691032: I tensorflow/stream_executor/cuda/cuda_diagnostics.cc:176] hostname: hantman-calcium\n",
      "2023-01-08 01:31:57.691168: I tensorflow/stream_executor/cuda/cuda_diagnostics.cc:200] libcuda reported version is: 470.161.3\n",
      "2023-01-08 01:31:57.691187: I tensorflow/stream_executor/cuda/cuda_diagnostics.cc:204] kernel reported version is: 470.161.3\n",
      "2023-01-08 01:31:57.691191: I tensorflow/stream_executor/cuda/cuda_diagnostics.cc:310] kernel version seems to match DSO: 470.161.3\n",
      "2023-01-08 01:31:57.691422: I tensorflow/core/platform/cpu_feature_guard.cc:193] This TensorFlow binary is optimized with oneAPI Deep Neural Network Library (oneDNN) to use the following CPU instructions in performance-critical operations:  AVX2 FMA\n",
      "To enable them in other operations, rebuild TensorFlow with the appropriate compiler flags.\n"
     ]
    },
    {
     "name": "stdout",
     "output_type": "stream",
     "text": [
      "performing CNMF\n",
      "fitting images\n",
      "refitting\n",
      "performing eval\n",
      "GPU run not requested, disabling use of GPUs\n",
      "USING MODEL (keras API): /home/kushalk/caiman_data/model/cnn_model.json\n",
      "6/6 [==============================] - 0s 11ms/step\n",
      "Decode mmap filename /home/kushalk/caiman_data/mesmerize-core-batch/09610b86-917a-41e7-a493-2d036bf44428/a49689ad-f093-49ff-9a86-058835eccd34_cnmf-memmap_d1_170_d2_170_d3_1_order_C_frames_3000.mmap\n",
      "Decode mmap filename /home/kushalk/caiman_data/mesmerize-core-batch/09610b86-917a-41e7-a493-2d036bf44428/a49689ad-f093-49ff-9a86-058835eccd34_cnmf-memmap_d1_170_d2_170_d3_1_order_C_frames_3000.mmap\n",
      "Decode mmap filename /home/kushalk/caiman_data/mesmerize-core-batch/09610b86-917a-41e7-a493-2d036bf44428/a49689ad-f093-49ff-9a86-058835eccd34_cnmf-memmap_d1_170_d2_170_d3_1_order_C_frames_3000.mmap\n",
      "Decode mmap filename /home/kushalk/caiman_data/mesmerize-core-batch/09610b86-917a-41e7-a493-2d036bf44428/a49689ad-f093-49ff-9a86-058835eccd34_cnmf-memmap_d1_170_d2_170_d3_1_order_C_frames_3000.mmap\n",
      "Decode mmap filename /home/kushalk/caiman_data/mesmerize-core-batch/09610b86-917a-41e7-a493-2d036bf44428/a49689ad-f093-49ff-9a86-058835eccd34_cnmf-memmap_d1_170_d2_170_d3_1_order_C_frames_3000.mmap\n",
      "Decode mmap filename /home/kushalk/caiman_data/mesmerize-core-batch/09610b86-917a-41e7-a493-2d036bf44428/a49689ad-f093-49ff-9a86-058835eccd34_cnmf-memmap_d1_170_d2_170_d3_1_order_C_frames_3000.mmap\n",
      "Decode mmap filename /home/kushalk/caiman_data/mesmerize-core-batch/09610b86-917a-41e7-a493-2d036bf44428/a49689ad-f093-49ff-9a86-058835eccd34_cnmf-memmap_d1_170_d2_170_d3_1_order_C_frames_3000.mmap\n",
      "Decode mmap filename /home/kushalk/caiman_data/mesmerize-core-batch/09610b86-917a-41e7-a493-2d036bf44428/a49689ad-f093-49ff-9a86-058835eccd34_cnmf-memmap_d1_170_d2_170_d3_1_order_C_frames_3000.mmap\n",
      "Decode mmap filename /home/kushalk/caiman_data/mesmerize-core-batch/09610b86-917a-41e7-a493-2d036bf44428/a49689ad-f093-49ff-9a86-058835eccd34_cnmf-memmap_d1_170_d2_170_d3_1_order_C_frames_3000.mmap\n",
      "Decode mmap filename /home/kushalk/caiman_data/mesmerize-core-batch/09610b86-917a-41e7-a493-2d036bf44428/a49689ad-f093-49ff-9a86-058835eccd34_cnmf-memmap_d1_170_d2_170_d3_1_order_C_frames_3000.mmap\n",
      "Decode mmap filename /home/kushalk/caiman_data/mesmerize-core-batch/09610b86-917a-41e7-a493-2d036bf44428/a49689ad-f093-49ff-9a86-058835eccd34_cnmf-memmap_d1_170_d2_170_d3_1_order_C_frames_3000.mmap\n",
      "Decode mmap filename /home/kushalk/caiman_data/mesmerize-core-batch/09610b86-917a-41e7-a493-2d036bf44428/a49689ad-f093-49ff-9a86-058835eccd34_cnmf-memmap_d1_170_d2_170_d3_1_order_C_frames_3000.mmap\n",
      "Decode mmap filename /home/kushalk/caiman_data/mesmerize-core-batch/09610b86-917a-41e7-a493-2d036bf44428/a49689ad-f093-49ff-9a86-058835eccd34_cnmf-memmap_d1_170_d2_170_d3_1_order_C_frames_3000.mmap\n",
      "Decode mmap filename /home/kushalk/caiman_data/mesmerize-core-batch/09610b86-917a-41e7-a493-2d036bf44428/a49689ad-f093-49ff-9a86-058835eccd34_cnmf-memmap_d1_170_d2_170_d3_1_order_C_frames_3000.mmap\n",
      "Decode mmap filename /home/kushalk/caiman_data/mesmerize-core-batch/09610b86-917a-41e7-a493-2d036bf44428/a49689ad-f093-49ff-9a86-058835eccd34_cnmf-memmap_d1_170_d2_170_d3_1_order_C_frames_3000.mmap\n",
      "Decode mmap filename /home/kushalk/caiman_data/mesmerize-core-batch/09610b86-917a-41e7-a493-2d036bf44428/a49689ad-f093-49ff-9a86-058835eccd34_cnmf-memmap_d1_170_d2_170_d3_1_order_C_frames_3000.mmap\n",
      "Decode mmap filename /home/kushalk/caiman_data/mesmerize-core-batch/09610b86-917a-41e7-a493-2d036bf44428/a49689ad-f093-49ff-9a86-058835eccd34_cnmf-memmap_d1_170_d2_170_d3_1_order_C_frames_3000.mmap\n",
      "Decode mmap filename /home/kushalk/caiman_data/mesmerize-core-batch/09610b86-917a-41e7-a493-2d036bf44428/a49689ad-f093-49ff-9a86-058835eccd34_cnmf-memmap_d1_170_d2_170_d3_1_order_C_frames_3000.mmap\n",
      "Decode mmap filename /home/kushalk/caiman_data/mesmerize-core-batch/09610b86-917a-41e7-a493-2d036bf44428/a49689ad-f093-49ff-9a86-058835eccd34_cnmf-memmap_d1_170_d2_170_d3_1_order_C_frames_3000.mmap\n",
      "Decode mmap filename /home/kushalk/caiman_data/mesmerize-core-batch/09610b86-917a-41e7-a493-2d036bf44428/a49689ad-f093-49ff-9a86-058835eccd34_cnmf-memmap_d1_170_d2_170_d3_1_order_C_frames_3000.mmap\n",
      "Decode mmap filename /home/kushalk/caiman_data/mesmerize-core-batch/09610b86-917a-41e7-a493-2d036bf44428/a49689ad-f093-49ff-9a86-058835eccd34_cnmf-memmap_d1_170_d2_170_d3_1_order_C_frames_3000.mmap\n",
      "Decode mmap filename /home/kushalk/caiman_data/mesmerize-core-batch/09610b86-917a-41e7-a493-2d036bf44428/a49689ad-f093-49ff-9a86-058835eccd34_cnmf-memmap_d1_170_d2_170_d3_1_order_C_frames_3000.mmap\n",
      "Decode mmap filename /home/kushalk/caiman_data/mesmerize-core-batch/09610b86-917a-41e7-a493-2d036bf44428/a49689ad-f093-49ff-9a86-058835eccd34_cnmf-memmap_d1_170_d2_170_d3_1_order_C_frames_3000.mmap\n",
      "Decode mmap filename /home/kushalk/caiman_data/mesmerize-core-batch/09610b86-917a-41e7-a493-2d036bf44428/a49689ad-f093-49ff-9a86-058835eccd34_cnmf-memmap_d1_170_d2_170_d3_1_order_C_frames_3000.mmap\n",
      "Decode mmap filename /home/kushalk/caiman_data/mesmerize-core-batch/09610b86-917a-41e7-a493-2d036bf44428/a49689ad-f093-49ff-9a86-058835eccd34_cnmf-memmap_d1_170_d2_170_d3_1_order_C_frames_3000.mmap\n",
      "Decode mmap filename /home/kushalk/caiman_data/mesmerize-core-batch/09610b86-917a-41e7-a493-2d036bf44428/a49689ad-f093-49ff-9a86-058835eccd34_cnmf-memmap_d1_170_d2_170_d3_1_order_C_frames_3000.mmap\n",
      "Decode mmap filename /home/kushalk/caiman_data/mesmerize-core-batch/09610b86-917a-41e7-a493-2d036bf44428/a49689ad-f093-49ff-9a86-058835eccd34_cnmf-memmap_d1_170_d2_170_d3_1_order_C_frames_3000.mmap\n",
      "Decode mmap filename /home/kushalk/caiman_data/mesmerize-core-batch/09610b86-917a-41e7-a493-2d036bf44428/a49689ad-f093-49ff-9a86-058835eccd34_cnmf-memmap_d1_170_d2_170_d3_1_order_C_frames_3000.mmap\n",
      "Decode mmap filename /home/kushalk/caiman_data/mesmerize-core-batch/09610b86-917a-41e7-a493-2d036bf44428/a49689ad-f093-49ff-9a86-058835eccd34_cnmf-memmap_d1_170_d2_170_d3_1_order_C_frames_3000.mmap\n",
      "Decode mmap filename /home/kushalk/caiman_data/mesmerize-core-batch/09610b86-917a-41e7-a493-2d036bf44428/a49689ad-f093-49ff-9a86-058835eccd34_cnmf-memmap_d1_170_d2_170_d3_1_order_C_frames_3000.mmap\n",
      "Decode mmap filename /home/kushalk/caiman_data/mesmerize-core-batch/09610b86-917a-41e7-a493-2d036bf44428/a49689ad-f093-49ff-9a86-058835eccd34_cnmf-memmap_d1_170_d2_170_d3_1_order_C_frames_3000.mmap\n",
      "Decode mmap filename /home/kushalk/caiman_data/mesmerize-core-batch/09610b86-917a-41e7-a493-2d036bf44428/a49689ad-f093-49ff-9a86-058835eccd34_cnmf-memmap_d1_170_d2_170_d3_1_order_C_frames_3000.mmap\n",
      "Decode mmap filename /home/kushalk/caiman_data/mesmerize-core-batch/09610b86-917a-41e7-a493-2d036bf44428/a49689ad-f093-49ff-9a86-058835eccd34_cnmf-memmap_d1_170_d2_170_d3_1_order_C_frames_3000.mmap\n",
      "Decode mmap filename /home/kushalk/caiman_data/mesmerize-core-batch/09610b86-917a-41e7-a493-2d036bf44428/a49689ad-f093-49ff-9a86-058835eccd34_cnmf-memmap_d1_170_d2_170_d3_1_order_C_frames_3000.mmap\n",
      "Decode mmap filename /home/kushalk/caiman_data/mesmerize-core-batch/09610b86-917a-41e7-a493-2d036bf44428/a49689ad-f093-49ff-9a86-058835eccd34_cnmf-memmap_d1_170_d2_170_d3_1_order_C_frames_3000.mmap\n",
      "Decode mmap filename /home/kushalk/caiman_data/mesmerize-core-batch/09610b86-917a-41e7-a493-2d036bf44428/a49689ad-f093-49ff-9a86-058835eccd34_cnmf-memmap_d1_170_d2_170_d3_1_order_C_frames_3000.mmap\n",
      "Decode mmap filename /home/kushalk/caiman_data/mesmerize-core-batch/09610b86-917a-41e7-a493-2d036bf44428/a49689ad-f093-49ff-9a86-058835eccd34_cnmf-memmap_d1_170_d2_170_d3_1_order_C_frames_3000.mmap\n",
      "Decode mmap filename /home/kushalk/caiman_data/mesmerize-core-batch/09610b86-917a-41e7-a493-2d036bf44428/a49689ad-f093-49ff-9a86-058835eccd34_cnmf-memmap_d1_170_d2_170_d3_1_order_C_frames_3000.mmap\n",
      "Decode mmap filename /home/kushalk/caiman_data/mesmerize-core-batch/09610b86-917a-41e7-a493-2d036bf44428/a49689ad-f093-49ff-9a86-058835eccd34_cnmf-memmap_d1_170_d2_170_d3_1_order_C_frames_3000.mmap\n",
      "Decode mmap filename /home/kushalk/caiman_data/mesmerize-core-batch/09610b86-917a-41e7-a493-2d036bf44428/a49689ad-f093-49ff-9a86-058835eccd34_cnmf-memmap_d1_170_d2_170_d3_1_order_C_frames_3000.mmap\n",
      "Decode mmap filename /home/kushalk/caiman_data/mesmerize-core-batch/09610b86-917a-41e7-a493-2d036bf44428/a49689ad-f093-49ff-9a86-058835eccd34_cnmf-memmap_d1_170_d2_170_d3_1_order_C_frames_3000.mmap\n",
      "Decode mmap filename /home/kushalk/caiman_data/mesmerize-core-batch/09610b86-917a-41e7-a493-2d036bf44428/a49689ad-f093-49ff-9a86-058835eccd34_cnmf-memmap_d1_170_d2_170_d3_1_order_C_frames_3000.mmap\n",
      "Decode mmap filename /home/kushalk/caiman_data/mesmerize-core-batch/09610b86-917a-41e7-a493-2d036bf44428/a49689ad-f093-49ff-9a86-058835eccd34_cnmf-memmap_d1_170_d2_170_d3_1_order_C_frames_3000.mmap\n",
      "Decode mmap filename /home/kushalk/caiman_data/mesmerize-core-batch/09610b86-917a-41e7-a493-2d036bf44428/a49689ad-f093-49ff-9a86-058835eccd34_cnmf-memmap_d1_170_d2_170_d3_1_order_C_frames_3000.mmap\n",
      "Decode mmap filename /home/kushalk/caiman_data/mesmerize-core-batch/09610b86-917a-41e7-a493-2d036bf44428/a49689ad-f093-49ff-9a86-058835eccd34_cnmf-memmap_d1_170_d2_170_d3_1_order_C_frames_3000.mmap\n",
      "Decode mmap filename /home/kushalk/caiman_data/mesmerize-core-batch/09610b86-917a-41e7-a493-2d036bf44428/a49689ad-f093-49ff-9a86-058835eccd34_cnmf-memmap_d1_170_d2_170_d3_1_order_C_frames_3000.mmap\n",
      "Decode mmap filename /home/kushalk/caiman_data/mesmerize-core-batch/09610b86-917a-41e7-a493-2d036bf44428/a49689ad-f093-49ff-9a86-058835eccd34_cnmf-memmap_d1_170_d2_170_d3_1_order_C_frames_3000.mmap\n",
      "Decode mmap filename /home/kushalk/caiman_data/mesmerize-core-batch/09610b86-917a-41e7-a493-2d036bf44428/a49689ad-f093-49ff-9a86-058835eccd34_cnmf-memmap_d1_170_d2_170_d3_1_order_C_frames_3000.mmap\n",
      "Decode mmap filename /home/kushalk/caiman_data/mesmerize-core-batch/09610b86-917a-41e7-a493-2d036bf44428/a49689ad-f093-49ff-9a86-058835eccd34_cnmf-memmap_d1_170_d2_170_d3_1_order_C_frames_3000.mmap\n",
      "Decode mmap filename /home/kushalk/caiman_data/mesmerize-core-batch/09610b86-917a-41e7-a493-2d036bf44428/a49689ad-f093-49ff-9a86-058835eccd34_cnmf-memmap_d1_170_d2_170_d3_1_order_C_frames_3000.mmap\n",
      "Decode mmap filename /home/kushalk/caiman_data/mesmerize-core-batch/09610b86-917a-41e7-a493-2d036bf44428/a49689ad-f093-49ff-9a86-058835eccd34_cnmf-memmap_d1_170_d2_170_d3_1_order_C_frames_3000.mmap\n",
      "Decode mmap filename /home/kushalk/caiman_data/mesmerize-core-batch/09610b86-917a-41e7-a493-2d036bf44428/a49689ad-f093-49ff-9a86-058835eccd34_cnmf-memmap_d1_170_d2_170_d3_1_order_C_frames_3000.mmap\n",
      "Decode mmap filename /home/kushalk/caiman_data/mesmerize-core-batch/09610b86-917a-41e7-a493-2d036bf44428/a49689ad-f093-49ff-9a86-058835eccd34_cnmf-memmap_d1_170_d2_170_d3_1_order_C_frames_3000.mmap\n",
      "Decode mmap filename /home/kushalk/caiman_data/mesmerize-core-batch/09610b86-917a-41e7-a493-2d036bf44428/a49689ad-f093-49ff-9a86-058835eccd34_cnmf-memmap_d1_170_d2_170_d3_1_order_C_frames_3000.mmap\n",
      "Decode mmap filename /home/kushalk/caiman_data/mesmerize-core-batch/09610b86-917a-41e7-a493-2d036bf44428/a49689ad-f093-49ff-9a86-058835eccd34_cnmf-memmap_d1_170_d2_170_d3_1_order_C_frames_3000.mmap\n",
      "Decode mmap filename /home/kushalk/caiman_data/mesmerize-core-batch/09610b86-917a-41e7-a493-2d036bf44428/a49689ad-f093-49ff-9a86-058835eccd34_cnmf-memmap_d1_170_d2_170_d3_1_order_C_frames_3000.mmap\n",
      "Decode mmap filename /home/kushalk/caiman_data/mesmerize-core-batch/09610b86-917a-41e7-a493-2d036bf44428/a49689ad-f093-49ff-9a86-058835eccd34_cnmf-memmap_d1_170_d2_170_d3_1_order_C_frames_3000.mmap\n",
      "Decode mmap filename /home/kushalk/caiman_data/mesmerize-core-batch/09610b86-917a-41e7-a493-2d036bf44428/a49689ad-f093-49ff-9a86-058835eccd34_cnmf-memmap_d1_170_d2_170_d3_1_order_C_frames_3000.mmap\n",
      "Decode mmap filename /home/kushalk/caiman_data/mesmerize-core-batch/09610b86-917a-41e7-a493-2d036bf44428/a49689ad-f093-49ff-9a86-058835eccd34_cnmf-memmap_d1_170_d2_170_d3_1_order_C_frames_3000.mmap\n",
      "Decode mmap filename /home/kushalk/caiman_data/mesmerize-core-batch/09610b86-917a-41e7-a493-2d036bf44428/a49689ad-f093-49ff-9a86-058835eccd34_cnmf-memmap_d1_170_d2_170_d3_1_order_C_frames_3000.mmap\n",
      "Decode mmap filename /home/kushalk/caiman_data/mesmerize-core-batch/09610b86-917a-41e7-a493-2d036bf44428/a49689ad-f093-49ff-9a86-058835eccd34_cnmf-memmap_d1_170_d2_170_d3_1_order_C_frames_3000.mmap\n",
      "Decode mmap filename /home/kushalk/caiman_data/mesmerize-core-batch/09610b86-917a-41e7-a493-2d036bf44428/a49689ad-f093-49ff-9a86-058835eccd34_cnmf-memmap_d1_170_d2_170_d3_1_order_C_frames_3000.mmap\n",
      "Decode mmap filename /home/kushalk/caiman_data/mesmerize-core-batch/09610b86-917a-41e7-a493-2d036bf44428/a49689ad-f093-49ff-9a86-058835eccd34_cnmf-memmap_d1_170_d2_170_d3_1_order_C_frames_3000.mmap\n",
      "Decode mmap filename /home/kushalk/caiman_data/mesmerize-core-batch/09610b86-917a-41e7-a493-2d036bf44428/a49689ad-f093-49ff-9a86-058835eccd34_cnmf-memmap_d1_170_d2_170_d3_1_order_C_frames_3000.mmap\n",
      "Decode mmap filename /home/kushalk/caiman_data/mesmerize-core-batch/09610b86-917a-41e7-a493-2d036bf44428/a49689ad-f093-49ff-9a86-058835eccd34_cnmf-memmap_d1_170_d2_170_d3_1_order_C_frames_3000.mmap\n",
      "Decode mmap filename /home/kushalk/caiman_data/mesmerize-core-batch/09610b86-917a-41e7-a493-2d036bf44428/a49689ad-f093-49ff-9a86-058835eccd34_cnmf-memmap_d1_170_d2_170_d3_1_order_C_frames_3000.mmap\n",
      "Decode mmap filename /home/kushalk/caiman_data/mesmerize-core-batch/09610b86-917a-41e7-a493-2d036bf44428/a49689ad-f093-49ff-9a86-058835eccd34_cnmf-memmap_d1_170_d2_170_d3_1_order_C_frames_3000.mmap\n",
      "Decode mmap filename /home/kushalk/caiman_data/mesmerize-core-batch/09610b86-917a-41e7-a493-2d036bf44428/a49689ad-f093-49ff-9a86-058835eccd34_cnmf-memmap_d1_170_d2_170_d3_1_order_C_frames_3000.mmap\n",
      "Decode mmap filename /home/kushalk/caiman_data/mesmerize-core-batch/09610b86-917a-41e7-a493-2d036bf44428/a49689ad-f093-49ff-9a86-058835eccd34_cnmf-memmap_d1_170_d2_170_d3_1_order_C_frames_3000.mmap\n",
      "Decode mmap filename /home/kushalk/caiman_data/mesmerize-core-batch/09610b86-917a-41e7-a493-2d036bf44428/a49689ad-f093-49ff-9a86-058835eccd34_cnmf-memmap_d1_170_d2_170_d3_1_order_C_frames_3000.mmap\n",
      "Decode mmap filename /home/kushalk/caiman_data/mesmerize-core-batch/09610b86-917a-41e7-a493-2d036bf44428/a49689ad-f093-49ff-9a86-058835eccd34_cnmf-memmap_d1_170_d2_170_d3_1_order_C_frames_3000.mmap\n",
      "Decode mmap filename /home/kushalk/caiman_data/mesmerize-core-batch/09610b86-917a-41e7-a493-2d036bf44428/a49689ad-f093-49ff-9a86-058835eccd34_cnmf-memmap_d1_170_d2_170_d3_1_order_C_frames_3000.mmap\n",
      "Decode mmap filename /home/kushalk/caiman_data/mesmerize-core-batch/09610b86-917a-41e7-a493-2d036bf44428/a49689ad-f093-49ff-9a86-058835eccd34_cnmf-memmap_d1_170_d2_170_d3_1_order_C_frames_3000.mmap\n",
      "Decode mmap filename /home/kushalk/caiman_data/mesmerize-core-batch/09610b86-917a-41e7-a493-2d036bf44428/a49689ad-f093-49ff-9a86-058835eccd34_cnmf-memmap_d1_170_d2_170_d3_1_order_C_frames_3000.mmap\n",
      "Decode mmap filename /home/kushalk/caiman_data/mesmerize-core-batch/09610b86-917a-41e7-a493-2d036bf44428/a49689ad-f093-49ff-9a86-058835eccd34_cnmf-memmap_d1_170_d2_170_d3_1_order_C_frames_3000.mmap\n",
      "Decode mmap filename /home/kushalk/caiman_data/mesmerize-core-batch/09610b86-917a-41e7-a493-2d036bf44428/a49689ad-f093-49ff-9a86-058835eccd34_cnmf-memmap_d1_170_d2_170_d3_1_order_C_frames_3000.mmap\n",
      "Decode mmap filename /home/kushalk/caiman_data/mesmerize-core-batch/09610b86-917a-41e7-a493-2d036bf44428/a49689ad-f093-49ff-9a86-058835eccd34_cnmf-memmap_d1_170_d2_170_d3_1_order_C_frames_3000.mmap\n",
      "Decode mmap filename /home/kushalk/caiman_data/mesmerize-core-batch/09610b86-917a-41e7-a493-2d036bf44428/a49689ad-f093-49ff-9a86-058835eccd34_cnmf-memmap_d1_170_d2_170_d3_1_order_C_frames_3000.mmap\n",
      "Decode mmap filename /home/kushalk/caiman_data/mesmerize-core-batch/09610b86-917a-41e7-a493-2d036bf44428/a49689ad-f093-49ff-9a86-058835eccd34_cnmf-memmap_d1_170_d2_170_d3_1_order_C_frames_3000.mmap\n",
      "Decode mmap filename /home/kushalk/caiman_data/mesmerize-core-batch/09610b86-917a-41e7-a493-2d036bf44428/a49689ad-f093-49ff-9a86-058835eccd34_cnmf-memmap_d1_170_d2_170_d3_1_order_C_frames_3000.mmap\n",
      "Decode mmap filename /home/kushalk/caiman_data/mesmerize-core-batch/09610b86-917a-41e7-a493-2d036bf44428/a49689ad-f093-49ff-9a86-058835eccd34_cnmf-memmap_d1_170_d2_170_d3_1_order_C_frames_3000.mmap\n",
      "Decode mmap filename /home/kushalk/caiman_data/mesmerize-core-batch/09610b86-917a-41e7-a493-2d036bf44428/a49689ad-f093-49ff-9a86-058835eccd34_cnmf-memmap_d1_170_d2_170_d3_1_order_C_frames_3000.mmap\n",
      "Decode mmap filename /home/kushalk/caiman_data/mesmerize-core-batch/09610b86-917a-41e7-a493-2d036bf44428/a49689ad-f093-49ff-9a86-058835eccd34_cnmf-memmap_d1_170_d2_170_d3_1_order_C_frames_3000.mmap\n",
      "Decode mmap filename /home/kushalk/caiman_data/mesmerize-core-batch/09610b86-917a-41e7-a493-2d036bf44428/a49689ad-f093-49ff-9a86-058835eccd34_cnmf-memmap_d1_170_d2_170_d3_1_order_C_frames_3000.mmap\n",
      "Decode mmap filename /home/kushalk/caiman_data/mesmerize-core-batch/09610b86-917a-41e7-a493-2d036bf44428/a49689ad-f093-49ff-9a86-058835eccd34_cnmf-memmap_d1_170_d2_170_d3_1_order_C_frames_3000.mmap\n",
      "Decode mmap filename /home/kushalk/caiman_data/mesmerize-core-batch/09610b86-917a-41e7-a493-2d036bf44428/a49689ad-f093-49ff-9a86-058835eccd34_cnmf-memmap_d1_170_d2_170_d3_1_order_C_frames_3000.mmap\n",
      "Decode mmap filename /home/kushalk/caiman_data/mesmerize-core-batch/09610b86-917a-41e7-a493-2d036bf44428/a49689ad-f093-49ff-9a86-058835eccd34_cnmf-memmap_d1_170_d2_170_d3_1_order_C_frames_3000.mmap\n",
      "Decode mmap filename /home/kushalk/caiman_data/mesmerize-core-batch/09610b86-917a-41e7-a493-2d036bf44428/a49689ad-f093-49ff-9a86-058835eccd34_cnmf-memmap_d1_170_d2_170_d3_1_order_C_frames_3000.mmap\n",
      "Decode mmap filename /home/kushalk/caiman_data/mesmerize-core-batch/09610b86-917a-41e7-a493-2d036bf44428/a49689ad-f093-49ff-9a86-058835eccd34_cnmf-memmap_d1_170_d2_170_d3_1_order_C_frames_3000.mmap\n",
      "Decode mmap filename /home/kushalk/caiman_data/mesmerize-core-batch/09610b86-917a-41e7-a493-2d036bf44428/a49689ad-f093-49ff-9a86-058835eccd34_cnmf-memmap_d1_170_d2_170_d3_1_order_C_frames_3000.mmap\n",
      "Decode mmap filename /home/kushalk/caiman_data/mesmerize-core-batch/09610b86-917a-41e7-a493-2d036bf44428/a49689ad-f093-49ff-9a86-058835eccd34_cnmf-memmap_d1_170_d2_170_d3_1_order_C_frames_3000.mmap\n",
      "Decode mmap filename /home/kushalk/caiman_data/mesmerize-core-batch/09610b86-917a-41e7-a493-2d036bf44428/a49689ad-f093-49ff-9a86-058835eccd34_cnmf-memmap_d1_170_d2_170_d3_1_order_C_frames_3000.mmap\n",
      "Decode mmap filename /home/kushalk/caiman_data/mesmerize-core-batch/09610b86-917a-41e7-a493-2d036bf44428/a49689ad-f093-49ff-9a86-058835eccd34_cnmf-memmap_d1_170_d2_170_d3_1_order_C_frames_3000.mmap\n",
      "Decode mmap filename /home/kushalk/caiman_data/mesmerize-core-batch/09610b86-917a-41e7-a493-2d036bf44428/a49689ad-f093-49ff-9a86-058835eccd34_cnmf-memmap_d1_170_d2_170_d3_1_order_C_frames_3000.mmap\n",
      "Decode mmap filename /home/kushalk/caiman_data/mesmerize-core-batch/09610b86-917a-41e7-a493-2d036bf44428/a49689ad-f093-49ff-9a86-058835eccd34_cnmf-memmap_d1_170_d2_170_d3_1_order_C_frames_3000.mmap\n",
      "Decode mmap filename /home/kushalk/caiman_data/mesmerize-core-batch/09610b86-917a-41e7-a493-2d036bf44428/a49689ad-f093-49ff-9a86-058835eccd34_cnmf-memmap_d1_170_d2_170_d3_1_order_C_frames_3000.mmap\n",
      "Decode mmap filename /home/kushalk/caiman_data/mesmerize-core-batch/09610b86-917a-41e7-a493-2d036bf44428/a49689ad-f093-49ff-9a86-058835eccd34_cnmf-memmap_d1_170_d2_170_d3_1_order_C_frames_3000.mmap\n",
      "Decode mmap filename /home/kushalk/caiman_data/mesmerize-core-batch/09610b86-917a-41e7-a493-2d036bf44428/a49689ad-f093-49ff-9a86-058835eccd34_cnmf-memmap_d1_170_d2_170_d3_1_order_C_frames_3000.mmap\n",
      "Decode mmap filename /home/kushalk/caiman_data/mesmerize-core-batch/09610b86-917a-41e7-a493-2d036bf44428/a49689ad-f093-49ff-9a86-058835eccd34_cnmf-memmap_d1_170_d2_170_d3_1_order_C_frames_3000.mmap\n",
      "Decode mmap filename /home/kushalk/caiman_data/mesmerize-core-batch/09610b86-917a-41e7-a493-2d036bf44428/a49689ad-f093-49ff-9a86-058835eccd34_cnmf-memmap_d1_170_d2_170_d3_1_order_C_frames_3000.mmap\n",
      "Decode mmap filename /home/kushalk/caiman_data/mesmerize-core-batch/09610b86-917a-41e7-a493-2d036bf44428/a49689ad-f093-49ff-9a86-058835eccd34_cnmf-memmap_d1_170_d2_170_d3_1_order_C_frames_3000.mmap\n",
      "Decode mmap filename /home/kushalk/caiman_data/mesmerize-core-batch/09610b86-917a-41e7-a493-2d036bf44428/a49689ad-f093-49ff-9a86-058835eccd34_cnmf-memmap_d1_170_d2_170_d3_1_order_C_frames_3000.mmap\n",
      "Decode mmap filename /home/kushalk/caiman_data/mesmerize-core-batch/09610b86-917a-41e7-a493-2d036bf44428/a49689ad-f093-49ff-9a86-058835eccd34_cnmf-memmap_d1_170_d2_170_d3_1_order_C_frames_3000.mmap\n",
      "Decode mmap filename /home/kushalk/caiman_data/mesmerize-core-batch/09610b86-917a-41e7-a493-2d036bf44428/a49689ad-f093-49ff-9a86-058835eccd34_cnmf-memmap_d1_170_d2_170_d3_1_order_C_frames_3000.mmap\n",
      "Decode mmap filename /home/kushalk/caiman_data/mesmerize-core-batch/09610b86-917a-41e7-a493-2d036bf44428/a49689ad-f093-49ff-9a86-058835eccd34_cnmf-memmap_d1_170_d2_170_d3_1_order_C_frames_3000.mmap\n",
      "Decode mmap filename /home/kushalk/caiman_data/mesmerize-core-batch/09610b86-917a-41e7-a493-2d036bf44428/a49689ad-f093-49ff-9a86-058835eccd34_cnmf-memmap_d1_170_d2_170_d3_1_order_C_frames_3000.mmap\n",
      "Decode mmap filename /home/kushalk/caiman_data/mesmerize-core-batch/09610b86-917a-41e7-a493-2d036bf44428/a49689ad-f093-49ff-9a86-058835eccd34_cnmf-memmap_d1_170_d2_170_d3_1_order_C_frames_3000.mmap\n",
      "Decode mmap filename /home/kushalk/caiman_data/mesmerize-core-batch/09610b86-917a-41e7-a493-2d036bf44428/a49689ad-f093-49ff-9a86-058835eccd34_cnmf-memmap_d1_170_d2_170_d3_1_order_C_frames_3000.mmap\n",
      "Decode mmap filename /home/kushalk/caiman_data/mesmerize-core-batch/09610b86-917a-41e7-a493-2d036bf44428/a49689ad-f093-49ff-9a86-058835eccd34_cnmf-memmap_d1_170_d2_170_d3_1_order_C_frames_3000.mmap\n",
      "Decode mmap filename /home/kushalk/caiman_data/mesmerize-core-batch/09610b86-917a-41e7-a493-2d036bf44428/a49689ad-f093-49ff-9a86-058835eccd34_cnmf-memmap_d1_170_d2_170_d3_1_order_C_frames_3000.mmap\n",
      "Decode mmap filename /home/kushalk/caiman_data/mesmerize-core-batch/09610b86-917a-41e7-a493-2d036bf44428/a49689ad-f093-49ff-9a86-058835eccd34_cnmf-memmap_d1_170_d2_170_d3_1_order_C_frames_3000.mmap\n",
      "Decode mmap filename /home/kushalk/caiman_data/mesmerize-core-batch/09610b86-917a-41e7-a493-2d036bf44428/a49689ad-f093-49ff-9a86-058835eccd34_cnmf-memmap_d1_170_d2_170_d3_1_order_C_frames_3000.mmap\n",
      "Decode mmap filename /home/kushalk/caiman_data/mesmerize-core-batch/09610b86-917a-41e7-a493-2d036bf44428/a49689ad-f093-49ff-9a86-058835eccd34_cnmf-memmap_d1_170_d2_170_d3_1_order_C_frames_3000.mmap\n",
      "Decode mmap filename /home/kushalk/caiman_data/mesmerize-core-batch/09610b86-917a-41e7-a493-2d036bf44428/a49689ad-f093-49ff-9a86-058835eccd34_cnmf-memmap_d1_170_d2_170_d3_1_order_C_frames_3000.mmap\n",
      "Decode mmap filename /home/kushalk/caiman_data/mesmerize-core-batch/09610b86-917a-41e7-a493-2d036bf44428/a49689ad-f093-49ff-9a86-058835eccd34_cnmf-memmap_d1_170_d2_170_d3_1_order_C_frames_3000.mmap\n",
      "Decode mmap filename /home/kushalk/caiman_data/mesmerize-core-batch/09610b86-917a-41e7-a493-2d036bf44428/a49689ad-f093-49ff-9a86-058835eccd34_cnmf-memmap_d1_170_d2_170_d3_1_order_C_frames_3000.mmap\n",
      "Decode mmap filename /home/kushalk/caiman_data/mesmerize-core-batch/09610b86-917a-41e7-a493-2d036bf44428/a49689ad-f093-49ff-9a86-058835eccd34_cnmf-memmap_d1_170_d2_170_d3_1_order_C_frames_3000.mmap\n",
      "Decode mmap filename /home/kushalk/caiman_data/mesmerize-core-batch/09610b86-917a-41e7-a493-2d036bf44428/a49689ad-f093-49ff-9a86-058835eccd34_cnmf-memmap_d1_170_d2_170_d3_1_order_C_frames_3000.mmap\n",
      "Decode mmap filename /home/kushalk/caiman_data/mesmerize-core-batch/09610b86-917a-41e7-a493-2d036bf44428/a49689ad-f093-49ff-9a86-058835eccd34_cnmf-memmap_d1_170_d2_170_d3_1_order_C_frames_3000.mmap\n",
      "Decode mmap filename /home/kushalk/caiman_data/mesmerize-core-batch/09610b86-917a-41e7-a493-2d036bf44428/a49689ad-f093-49ff-9a86-058835eccd34_cnmf-memmap_d1_170_d2_170_d3_1_order_C_frames_3000.mmap\n",
      "Decode mmap filename /home/kushalk/caiman_data/mesmerize-core-batch/09610b86-917a-41e7-a493-2d036bf44428/a49689ad-f093-49ff-9a86-058835eccd34_cnmf-memmap_d1_170_d2_170_d3_1_order_C_frames_3000.mmap\n",
      "Decode mmap filename /home/kushalk/caiman_data/mesmerize-core-batch/09610b86-917a-41e7-a493-2d036bf44428/a49689ad-f093-49ff-9a86-058835eccd34_cnmf-memmap_d1_170_d2_170_d3_1_order_C_frames_3000.mmap\n",
      "Decode mmap filename /home/kushalk/caiman_data/mesmerize-core-batch/09610b86-917a-41e7-a493-2d036bf44428/a49689ad-f093-49ff-9a86-058835eccd34_cnmf-memmap_d1_170_d2_170_d3_1_order_C_frames_3000.mmap\n",
      "Decode mmap filename /home/kushalk/caiman_data/mesmerize-core-batch/09610b86-917a-41e7-a493-2d036bf44428/a49689ad-f093-49ff-9a86-058835eccd34_cnmf-memmap_d1_170_d2_170_d3_1_order_C_frames_3000.mmap\n",
      "Decode mmap filename /home/kushalk/caiman_data/mesmerize-core-batch/09610b86-917a-41e7-a493-2d036bf44428/a49689ad-f093-49ff-9a86-058835eccd34_cnmf-memmap_d1_170_d2_170_d3_1_order_C_frames_3000.mmap\n",
      "Decode mmap filename /home/kushalk/caiman_data/mesmerize-core-batch/09610b86-917a-41e7-a493-2d036bf44428/a49689ad-f093-49ff-9a86-058835eccd34_cnmf-memmap_d1_170_d2_170_d3_1_order_C_frames_3000.mmap\n",
      "Decode mmap filename /home/kushalk/caiman_data/mesmerize-core-batch/09610b86-917a-41e7-a493-2d036bf44428/a49689ad-f093-49ff-9a86-058835eccd34_cnmf-memmap_d1_170_d2_170_d3_1_order_C_frames_3000.mmap\n",
      "Decode mmap filename /home/kushalk/caiman_data/mesmerize-core-batch/09610b86-917a-41e7-a493-2d036bf44428/a49689ad-f093-49ff-9a86-058835eccd34_cnmf-memmap_d1_170_d2_170_d3_1_order_C_frames_3000.mmap\n",
      "Decode mmap filename /home/kushalk/caiman_data/mesmerize-core-batch/09610b86-917a-41e7-a493-2d036bf44428/a49689ad-f093-49ff-9a86-058835eccd34_cnmf-memmap_d1_170_d2_170_d3_1_order_C_frames_3000.mmap\n",
      "Decode mmap filename /home/kushalk/caiman_data/mesmerize-core-batch/09610b86-917a-41e7-a493-2d036bf44428/a49689ad-f093-49ff-9a86-058835eccd34_cnmf-memmap_d1_170_d2_170_d3_1_order_C_frames_3000.mmap\n",
      "Decode mmap filename /home/kushalk/caiman_data/mesmerize-core-batch/09610b86-917a-41e7-a493-2d036bf44428/a49689ad-f093-49ff-9a86-058835eccd34_cnmf-memmap_d1_170_d2_170_d3_1_order_C_frames_3000.mmap\n",
      "Decode mmap filename /home/kushalk/caiman_data/mesmerize-core-batch/09610b86-917a-41e7-a493-2d036bf44428/a49689ad-f093-49ff-9a86-058835eccd34_cnmf-memmap_d1_170_d2_170_d3_1_order_C_frames_3000.mmap\n",
      "Decode mmap filename /home/kushalk/caiman_data/mesmerize-core-batch/09610b86-917a-41e7-a493-2d036bf44428/a49689ad-f093-49ff-9a86-058835eccd34_cnmf-memmap_d1_170_d2_170_d3_1_order_C_frames_3000.mmap\n",
      "Decode mmap filename /home/kushalk/caiman_data/mesmerize-core-batch/09610b86-917a-41e7-a493-2d036bf44428/a49689ad-f093-49ff-9a86-058835eccd34_cnmf-memmap_d1_170_d2_170_d3_1_order_C_frames_3000.mmap\n",
      "Decode mmap filename /home/kushalk/caiman_data/mesmerize-core-batch/09610b86-917a-41e7-a493-2d036bf44428/a49689ad-f093-49ff-9a86-058835eccd34_cnmf-memmap_d1_170_d2_170_d3_1_order_C_frames_3000.mmap\n",
      "Decode mmap filename /home/kushalk/caiman_data/mesmerize-core-batch/09610b86-917a-41e7-a493-2d036bf44428/a49689ad-f093-49ff-9a86-058835eccd34_cnmf-memmap_d1_170_d2_170_d3_1_order_C_frames_3000.mmap\n",
      "Decode mmap filename /home/kushalk/caiman_data/mesmerize-core-batch/09610b86-917a-41e7-a493-2d036bf44428/a49689ad-f093-49ff-9a86-058835eccd34_cnmf-memmap_d1_170_d2_170_d3_1_order_C_frames_3000.mmap\n",
      "Decode mmap filename /home/kushalk/caiman_data/mesmerize-core-batch/09610b86-917a-41e7-a493-2d036bf44428/a49689ad-f093-49ff-9a86-058835eccd34_cnmf-memmap_d1_170_d2_170_d3_1_order_C_frames_3000.mmap\n",
      "Decode mmap filename /home/kushalk/caiman_data/mesmerize-core-batch/09610b86-917a-41e7-a493-2d036bf44428/a49689ad-f093-49ff-9a86-058835eccd34_cnmf-memmap_d1_170_d2_170_d3_1_order_C_frames_3000.mmap\n",
      "Decode mmap filename /home/kushalk/caiman_data/mesmerize-core-batch/09610b86-917a-41e7-a493-2d036bf44428/a49689ad-f093-49ff-9a86-058835eccd34_cnmf-memmap_d1_170_d2_170_d3_1_order_C_frames_3000.mmap\n",
      "Decode mmap filename /home/kushalk/caiman_data/mesmerize-core-batch/09610b86-917a-41e7-a493-2d036bf44428/a49689ad-f093-49ff-9a86-058835eccd34_cnmf-memmap_d1_170_d2_170_d3_1_order_C_frames_3000.mmap\n",
      "Decode mmap filename /home/kushalk/caiman_data/mesmerize-core-batch/09610b86-917a-41e7-a493-2d036bf44428/a49689ad-f093-49ff-9a86-058835eccd34_cnmf-memmap_d1_170_d2_170_d3_1_order_C_frames_3000.mmap\n",
      "Decode mmap filename /home/kushalk/caiman_data/mesmerize-core-batch/09610b86-917a-41e7-a493-2d036bf44428/a49689ad-f093-49ff-9a86-058835eccd34_cnmf-memmap_d1_170_d2_170_d3_1_order_C_frames_3000.mmap\n",
      "Decode mmap filename /home/kushalk/caiman_data/mesmerize-core-batch/09610b86-917a-41e7-a493-2d036bf44428/a49689ad-f093-49ff-9a86-058835eccd34_cnmf-memmap_d1_170_d2_170_d3_1_order_C_frames_3000.mmap\n",
      "Decode mmap filename /home/kushalk/caiman_data/mesmerize-core-batch/09610b86-917a-41e7-a493-2d036bf44428/a49689ad-f093-49ff-9a86-058835eccd34_cnmf-memmap_d1_170_d2_170_d3_1_order_C_frames_3000.mmap\n",
      "Decode mmap filename /home/kushalk/caiman_data/mesmerize-core-batch/09610b86-917a-41e7-a493-2d036bf44428/a49689ad-f093-49ff-9a86-058835eccd34_cnmf-memmap_d1_170_d2_170_d3_1_order_C_frames_3000.mmap\n",
      "Decode mmap filename /home/kushalk/caiman_data/mesmerize-core-batch/09610b86-917a-41e7-a493-2d036bf44428/a49689ad-f093-49ff-9a86-058835eccd34_cnmf-memmap_d1_170_d2_170_d3_1_order_C_frames_3000.mmap\n",
      "Decode mmap filename /home/kushalk/caiman_data/mesmerize-core-batch/09610b86-917a-41e7-a493-2d036bf44428/a49689ad-f093-49ff-9a86-058835eccd34_cnmf-memmap_d1_170_d2_170_d3_1_order_C_frames_3000.mmap\n",
      "Decode mmap filename /home/kushalk/caiman_data/mesmerize-core-batch/09610b86-917a-41e7-a493-2d036bf44428/a49689ad-f093-49ff-9a86-058835eccd34_cnmf-memmap_d1_170_d2_170_d3_1_order_C_frames_3000.mmap\n",
      "Decode mmap filename /home/kushalk/caiman_data/mesmerize-core-batch/09610b86-917a-41e7-a493-2d036bf44428/a49689ad-f093-49ff-9a86-058835eccd34_cnmf-memmap_d1_170_d2_170_d3_1_order_C_frames_3000.mmap\n",
      "Decode mmap filename /home/kushalk/caiman_data/mesmerize-core-batch/09610b86-917a-41e7-a493-2d036bf44428/a49689ad-f093-49ff-9a86-058835eccd34_cnmf-memmap_d1_170_d2_170_d3_1_order_C_frames_3000.mmap\n",
      "Decode mmap filename /home/kushalk/caiman_data/mesmerize-core-batch/09610b86-917a-41e7-a493-2d036bf44428/a49689ad-f093-49ff-9a86-058835eccd34_cnmf-memmap_d1_170_d2_170_d3_1_order_C_frames_3000.mmap\n",
      "Decode mmap filename /home/kushalk/caiman_data/mesmerize-core-batch/09610b86-917a-41e7-a493-2d036bf44428/a49689ad-f093-49ff-9a86-058835eccd34_cnmf-memmap_d1_170_d2_170_d3_1_order_C_frames_3000.mmap\n",
      "Decode mmap filename /home/kushalk/caiman_data/mesmerize-core-batch/09610b86-917a-41e7-a493-2d036bf44428/a49689ad-f093-49ff-9a86-058835eccd34_cnmf-memmap_d1_170_d2_170_d3_1_order_C_frames_3000.mmap\n",
      "Decode mmap filename /home/kushalk/caiman_data/mesmerize-core-batch/09610b86-917a-41e7-a493-2d036bf44428/a49689ad-f093-49ff-9a86-058835eccd34_cnmf-memmap_d1_170_d2_170_d3_1_order_C_frames_3000.mmap\n",
      "Decode mmap filename /home/kushalk/caiman_data/mesmerize-core-batch/09610b86-917a-41e7-a493-2d036bf44428/a49689ad-f093-49ff-9a86-058835eccd34_cnmf-memmap_d1_170_d2_170_d3_1_order_C_frames_3000.mmap\n",
      "Decode mmap filename /home/kushalk/caiman_data/mesmerize-core-batch/09610b86-917a-41e7-a493-2d036bf44428/a49689ad-f093-49ff-9a86-058835eccd34_cnmf-memmap_d1_170_d2_170_d3_1_order_C_frames_3000.mmap\n",
      "Decode mmap filename /home/kushalk/caiman_data/mesmerize-core-batch/09610b86-917a-41e7-a493-2d036bf44428/a49689ad-f093-49ff-9a86-058835eccd34_cnmf-memmap_d1_170_d2_170_d3_1_order_C_frames_3000.mmap\n",
      "Decode mmap filename /home/kushalk/caiman_data/mesmerize-core-batch/09610b86-917a-41e7-a493-2d036bf44428/a49689ad-f093-49ff-9a86-058835eccd34_cnmf-memmap_d1_170_d2_170_d3_1_order_C_frames_3000.mmap\n",
      "Decode mmap filename /home/kushalk/caiman_data/mesmerize-core-batch/09610b86-917a-41e7-a493-2d036bf44428/a49689ad-f093-49ff-9a86-058835eccd34_cnmf-memmap_d1_170_d2_170_d3_1_order_C_frames_3000.mmap\n",
      "Decode mmap filename /home/kushalk/caiman_data/mesmerize-core-batch/09610b86-917a-41e7-a493-2d036bf44428/a49689ad-f093-49ff-9a86-058835eccd34_cnmf-memmap_d1_170_d2_170_d3_1_order_C_frames_3000.mmap\n",
      "Decode mmap filename /home/kushalk/caiman_data/mesmerize-core-batch/09610b86-917a-41e7-a493-2d036bf44428/a49689ad-f093-49ff-9a86-058835eccd34_cnmf-memmap_d1_170_d2_170_d3_1_order_C_frames_3000.mmap\n",
      "Decode mmap filename /home/kushalk/caiman_data/mesmerize-core-batch/09610b86-917a-41e7-a493-2d036bf44428/a49689ad-f093-49ff-9a86-058835eccd34_cnmf-memmap_d1_170_d2_170_d3_1_order_C_frames_3000.mmap\n",
      "Decode mmap filename /home/kushalk/caiman_data/mesmerize-core-batch/09610b86-917a-41e7-a493-2d036bf44428/a49689ad-f093-49ff-9a86-058835eccd34_cnmf-memmap_d1_170_d2_170_d3_1_order_C_frames_3000.mmap\n",
      "Decode mmap filename /home/kushalk/caiman_data/mesmerize-core-batch/09610b86-917a-41e7-a493-2d036bf44428/a49689ad-f093-49ff-9a86-058835eccd34_cnmf-memmap_d1_170_d2_170_d3_1_order_C_frames_3000.mmap\n",
      "Decode mmap filename /home/kushalk/caiman_data/mesmerize-core-batch/09610b86-917a-41e7-a493-2d036bf44428/a49689ad-f093-49ff-9a86-058835eccd34_cnmf-memmap_d1_170_d2_170_d3_1_order_C_frames_3000.mmap\n",
      "Decode mmap filename /home/kushalk/caiman_data/mesmerize-core-batch/09610b86-917a-41e7-a493-2d036bf44428/a49689ad-f093-49ff-9a86-058835eccd34_cnmf-memmap_d1_170_d2_170_d3_1_order_C_frames_3000.mmap\n",
      "Decode mmap filename /home/kushalk/caiman_data/mesmerize-core-batch/09610b86-917a-41e7-a493-2d036bf44428/a49689ad-f093-49ff-9a86-058835eccd34_cnmf-memmap_d1_170_d2_170_d3_1_order_C_frames_3000.mmap\n",
      "Decode mmap filename /home/kushalk/caiman_data/mesmerize-core-batch/09610b86-917a-41e7-a493-2d036bf44428/a49689ad-f093-49ff-9a86-058835eccd34_cnmf-memmap_d1_170_d2_170_d3_1_order_C_frames_3000.mmap\n",
      "Decode mmap filename /home/kushalk/caiman_data/mesmerize-core-batch/09610b86-917a-41e7-a493-2d036bf44428/a49689ad-f093-49ff-9a86-058835eccd34_cnmf-memmap_d1_170_d2_170_d3_1_order_C_frames_3000.mmap\n",
      "Decode mmap filename /home/kushalk/caiman_data/mesmerize-core-batch/09610b86-917a-41e7-a493-2d036bf44428/a49689ad-f093-49ff-9a86-058835eccd34_cnmf-memmap_d1_170_d2_170_d3_1_order_C_frames_3000.mmap\n",
      "Decode mmap filename /home/kushalk/caiman_data/mesmerize-core-batch/09610b86-917a-41e7-a493-2d036bf44428/a49689ad-f093-49ff-9a86-058835eccd34_cnmf-memmap_d1_170_d2_170_d3_1_order_C_frames_3000.mmap\n",
      "Decode mmap filename /home/kushalk/caiman_data/mesmerize-core-batch/09610b86-917a-41e7-a493-2d036bf44428/a49689ad-f093-49ff-9a86-058835eccd34_cnmf-memmap_d1_170_d2_170_d3_1_order_C_frames_3000.mmap\n",
      "Decode mmap filename /home/kushalk/caiman_data/mesmerize-core-batch/09610b86-917a-41e7-a493-2d036bf44428/a49689ad-f093-49ff-9a86-058835eccd34_cnmf-memmap_d1_170_d2_170_d3_1_order_C_frames_3000.mmap\n",
      "Decode mmap filename /home/kushalk/caiman_data/mesmerize-core-batch/09610b86-917a-41e7-a493-2d036bf44428/a49689ad-f093-49ff-9a86-058835eccd34_cnmf-memmap_d1_170_d2_170_d3_1_order_C_frames_3000.mmap\n",
      "Decode mmap filename /home/kushalk/caiman_data/mesmerize-core-batch/09610b86-917a-41e7-a493-2d036bf44428/a49689ad-f093-49ff-9a86-058835eccd34_cnmf-memmap_d1_170_d2_170_d3_1_order_C_frames_3000.mmap\n",
      "Decode mmap filename /home/kushalk/caiman_data/mesmerize-core-batch/09610b86-917a-41e7-a493-2d036bf44428/a49689ad-f093-49ff-9a86-058835eccd34_cnmf-memmap_d1_170_d2_170_d3_1_order_C_frames_3000.mmap\n",
      "Decode mmap filename /home/kushalk/caiman_data/mesmerize-core-batch/09610b86-917a-41e7-a493-2d036bf44428/a49689ad-f093-49ff-9a86-058835eccd34_cnmf-memmap_d1_170_d2_170_d3_1_order_C_frames_3000.mmap\n",
      "Decode mmap filename /home/kushalk/caiman_data/mesmerize-core-batch/09610b86-917a-41e7-a493-2d036bf44428/a49689ad-f093-49ff-9a86-058835eccd34_cnmf-memmap_d1_170_d2_170_d3_1_order_C_frames_3000.mmap\n",
      "Decode mmap filename /home/kushalk/caiman_data/mesmerize-core-batch/09610b86-917a-41e7-a493-2d036bf44428/a49689ad-f093-49ff-9a86-058835eccd34_cnmf-memmap_d1_170_d2_170_d3_1_order_C_frames_3000.mmap\n",
      "Decode mmap filename /home/kushalk/caiman_data/mesmerize-core-batch/09610b86-917a-41e7-a493-2d036bf44428/a49689ad-f093-49ff-9a86-058835eccd34_cnmf-memmap_d1_170_d2_170_d3_1_order_C_frames_3000.mmap\n",
      "Decode mmap filename /home/kushalk/caiman_data/mesmerize-core-batch/09610b86-917a-41e7-a493-2d036bf44428/a49689ad-f093-49ff-9a86-058835eccd34_cnmf-memmap_d1_170_d2_170_d3_1_order_C_frames_3000.mmap\n",
      "Decode mmap filename /home/kushalk/caiman_data/mesmerize-core-batch/09610b86-917a-41e7-a493-2d036bf44428/a49689ad-f093-49ff-9a86-058835eccd34_cnmf-memmap_d1_170_d2_170_d3_1_order_C_frames_3000.mmap\n",
      "Decode mmap filename /home/kushalk/caiman_data/mesmerize-core-batch/09610b86-917a-41e7-a493-2d036bf44428/a49689ad-f093-49ff-9a86-058835eccd34_cnmf-memmap_d1_170_d2_170_d3_1_order_C_frames_3000.mmap\n",
      "Decode mmap filename /home/kushalk/caiman_data/mesmerize-core-batch/09610b86-917a-41e7-a493-2d036bf44428/a49689ad-f093-49ff-9a86-058835eccd34_cnmf-memmap_d1_170_d2_170_d3_1_order_C_frames_3000.mmap\n",
      "Decode mmap filename /home/kushalk/caiman_data/mesmerize-core-batch/09610b86-917a-41e7-a493-2d036bf44428/a49689ad-f093-49ff-9a86-058835eccd34_cnmf-memmap_d1_170_d2_170_d3_1_order_C_frames_3000.mmap\n",
      "Decode mmap filename /home/kushalk/caiman_data/mesmerize-core-batch/09610b86-917a-41e7-a493-2d036bf44428/a49689ad-f093-49ff-9a86-058835eccd34_cnmf-memmap_d1_170_d2_170_d3_1_order_C_frames_3000.mmap\n",
      "Decode mmap filename /home/kushalk/caiman_data/mesmerize-core-batch/09610b86-917a-41e7-a493-2d036bf44428/a49689ad-f093-49ff-9a86-058835eccd34_cnmf-memmap_d1_170_d2_170_d3_1_order_C_frames_3000.mmap\n",
      "Decode mmap filename /home/kushalk/caiman_data/mesmerize-core-batch/09610b86-917a-41e7-a493-2d036bf44428/a49689ad-f093-49ff-9a86-058835eccd34_cnmf-memmap_d1_170_d2_170_d3_1_order_C_frames_3000.mmap\n",
      "Decode mmap filename /home/kushalk/caiman_data/mesmerize-core-batch/09610b86-917a-41e7-a493-2d036bf44428/a49689ad-f093-49ff-9a86-058835eccd34_cnmf-memmap_d1_170_d2_170_d3_1_order_C_frames_3000.mmap\n",
      "Decode mmap filename /home/kushalk/caiman_data/mesmerize-core-batch/09610b86-917a-41e7-a493-2d036bf44428/a49689ad-f093-49ff-9a86-058835eccd34_cnmf-memmap_d1_170_d2_170_d3_1_order_C_frames_3000.mmap\n",
      "Decode mmap filename /home/kushalk/caiman_data/mesmerize-core-batch/09610b86-917a-41e7-a493-2d036bf44428/a49689ad-f093-49ff-9a86-058835eccd34_cnmf-memmap_d1_170_d2_170_d3_1_order_C_frames_3000.mmap\n",
      "Decode mmap filename /home/kushalk/caiman_data/mesmerize-core-batch/09610b86-917a-41e7-a493-2d036bf44428/a49689ad-f093-49ff-9a86-058835eccd34_cnmf-memmap_d1_170_d2_170_d3_1_order_C_frames_3000.mmap\n",
      "Decode mmap filename /home/kushalk/caiman_data/mesmerize-core-batch/09610b86-917a-41e7-a493-2d036bf44428/a49689ad-f093-49ff-9a86-058835eccd34_cnmf-memmap_d1_170_d2_170_d3_1_order_C_frames_3000.mmap\n",
      "Decode mmap filename /home/kushalk/caiman_data/mesmerize-core-batch/09610b86-917a-41e7-a493-2d036bf44428/a49689ad-f093-49ff-9a86-058835eccd34_cnmf-memmap_d1_170_d2_170_d3_1_order_C_frames_3000.mmap\n",
      "Decode mmap filename /home/kushalk/caiman_data/mesmerize-core-batch/09610b86-917a-41e7-a493-2d036bf44428/a49689ad-f093-49ff-9a86-058835eccd34_cnmf-memmap_d1_170_d2_170_d3_1_order_C_frames_3000.mmap\n",
      "Decode mmap filename /home/kushalk/caiman_data/mesmerize-core-batch/09610b86-917a-41e7-a493-2d036bf44428/a49689ad-f093-49ff-9a86-058835eccd34_cnmf-memmap_d1_170_d2_170_d3_1_order_C_frames_3000.mmap\n",
      "Decode mmap filename /home/kushalk/caiman_data/mesmerize-core-batch/09610b86-917a-41e7-a493-2d036bf44428/a49689ad-f093-49ff-9a86-058835eccd34_cnmf-memmap_d1_170_d2_170_d3_1_order_C_frames_3000.mmap\n",
      "Decode mmap filename /home/kushalk/caiman_data/mesmerize-core-batch/09610b86-917a-41e7-a493-2d036bf44428/a49689ad-f093-49ff-9a86-058835eccd34_cnmf-memmap_d1_170_d2_170_d3_1_order_C_frames_3000.mmap\n",
      "Decode mmap filename /home/kushalk/caiman_data/mesmerize-core-batch/09610b86-917a-41e7-a493-2d036bf44428/a49689ad-f093-49ff-9a86-058835eccd34_cnmf-memmap_d1_170_d2_170_d3_1_order_C_frames_3000.mmap\n",
      "Decode mmap filename /home/kushalk/caiman_data/mesmerize-core-batch/09610b86-917a-41e7-a493-2d036bf44428/a49689ad-f093-49ff-9a86-058835eccd34_cnmf-memmap_d1_170_d2_170_d3_1_order_C_frames_3000.mmap\n",
      "Decode mmap filename /home/kushalk/caiman_data/mesmerize-core-batch/09610b86-917a-41e7-a493-2d036bf44428/a49689ad-f093-49ff-9a86-058835eccd34_cnmf-memmap_d1_170_d2_170_d3_1_order_C_frames_3000.mmap\n",
      "Decode mmap filename /home/kushalk/caiman_data/mesmerize-core-batch/09610b86-917a-41e7-a493-2d036bf44428/a49689ad-f093-49ff-9a86-058835eccd34_cnmf-memmap_d1_170_d2_170_d3_1_order_C_frames_3000.mmap\n",
      "Decode mmap filename /home/kushalk/caiman_data/mesmerize-core-batch/09610b86-917a-41e7-a493-2d036bf44428/a49689ad-f093-49ff-9a86-058835eccd34_cnmf-memmap_d1_170_d2_170_d3_1_order_C_frames_3000.mmap\n",
      "Decode mmap filename /home/kushalk/caiman_data/mesmerize-core-batch/09610b86-917a-41e7-a493-2d036bf44428/a49689ad-f093-49ff-9a86-058835eccd34_cnmf-memmap_d1_170_d2_170_d3_1_order_C_frames_3000.mmap\n",
      "Decode mmap filename /home/kushalk/caiman_data/mesmerize-core-batch/09610b86-917a-41e7-a493-2d036bf44428/a49689ad-f093-49ff-9a86-058835eccd34_cnmf-memmap_d1_170_d2_170_d3_1_order_C_frames_3000.mmap\n",
      "Decode mmap filename /home/kushalk/caiman_data/mesmerize-core-batch/09610b86-917a-41e7-a493-2d036bf44428/a49689ad-f093-49ff-9a86-058835eccd34_cnmf-memmap_d1_170_d2_170_d3_1_order_C_frames_3000.mmap\n",
      "Decode mmap filename /home/kushalk/caiman_data/mesmerize-core-batch/09610b86-917a-41e7-a493-2d036bf44428/a49689ad-f093-49ff-9a86-058835eccd34_cnmf-memmap_d1_170_d2_170_d3_1_order_C_frames_3000.mmap\n",
      "Decode mmap filename /home/kushalk/caiman_data/mesmerize-core-batch/09610b86-917a-41e7-a493-2d036bf44428/a49689ad-f093-49ff-9a86-058835eccd34_cnmf-memmap_d1_170_d2_170_d3_1_order_C_frames_3000.mmap\n",
      "Decode mmap filename /home/kushalk/caiman_data/mesmerize-core-batch/09610b86-917a-41e7-a493-2d036bf44428/a49689ad-f093-49ff-9a86-058835eccd34_cnmf-memmap_d1_170_d2_170_d3_1_order_C_frames_3000.mmap\n",
      "Decode mmap filename /home/kushalk/caiman_data/mesmerize-core-batch/09610b86-917a-41e7-a493-2d036bf44428/a49689ad-f093-49ff-9a86-058835eccd34_cnmf-memmap_d1_170_d2_170_d3_1_order_C_frames_3000.mmap\n",
      "Decode mmap filename /home/kushalk/caiman_data/mesmerize-core-batch/09610b86-917a-41e7-a493-2d036bf44428/a49689ad-f093-49ff-9a86-058835eccd34_cnmf-memmap_d1_170_d2_170_d3_1_order_C_frames_3000.mmap\n",
      "Decode mmap filename /home/kushalk/caiman_data/mesmerize-core-batch/09610b86-917a-41e7-a493-2d036bf44428/a49689ad-f093-49ff-9a86-058835eccd34_cnmf-memmap_d1_170_d2_170_d3_1_order_C_frames_3000.mmap\n",
      "Decode mmap filename /home/kushalk/caiman_data/mesmerize-core-batch/09610b86-917a-41e7-a493-2d036bf44428/a49689ad-f093-49ff-9a86-058835eccd34_cnmf-memmap_d1_170_d2_170_d3_1_order_C_frames_3000.mmap\n",
      "Decode mmap filename /home/kushalk/caiman_data/mesmerize-core-batch/09610b86-917a-41e7-a493-2d036bf44428/a49689ad-f093-49ff-9a86-058835eccd34_cnmf-memmap_d1_170_d2_170_d3_1_order_C_frames_3000.mmap\n",
      "Decode mmap filename /home/kushalk/caiman_data/mesmerize-core-batch/09610b86-917a-41e7-a493-2d036bf44428/a49689ad-f093-49ff-9a86-058835eccd34_cnmf-memmap_d1_170_d2_170_d3_1_order_C_frames_3000.mmap\n",
      "Decode mmap filename /home/kushalk/caiman_data/mesmerize-core-batch/09610b86-917a-41e7-a493-2d036bf44428/a49689ad-f093-49ff-9a86-058835eccd34_cnmf-memmap_d1_170_d2_170_d3_1_order_C_frames_3000.mmap\n",
      "Decode mmap filename /home/kushalk/caiman_data/mesmerize-core-batch/09610b86-917a-41e7-a493-2d036bf44428/a49689ad-f093-49ff-9a86-058835eccd34_cnmf-memmap_d1_170_d2_170_d3_1_order_C_frames_3000.mmap\n",
      "Decode mmap filename /home/kushalk/caiman_data/mesmerize-core-batch/09610b86-917a-41e7-a493-2d036bf44428/a49689ad-f093-49ff-9a86-058835eccd34_cnmf-memmap_d1_170_d2_170_d3_1_order_C_frames_3000.mmap\n",
      "Decode mmap filename /home/kushalk/caiman_data/mesmerize-core-batch/09610b86-917a-41e7-a493-2d036bf44428/a49689ad-f093-49ff-9a86-058835eccd34_cnmf-memmap_d1_170_d2_170_d3_1_order_C_frames_3000.mmap\n",
      "Decode mmap filename /home/kushalk/caiman_data/mesmerize-core-batch/09610b86-917a-41e7-a493-2d036bf44428/a49689ad-f093-49ff-9a86-058835eccd34_cnmf-memmap_d1_170_d2_170_d3_1_order_C_frames_3000.mmap\n",
      "Decode mmap filename /home/kushalk/caiman_data/mesmerize-core-batch/09610b86-917a-41e7-a493-2d036bf44428/a49689ad-f093-49ff-9a86-058835eccd34_cnmf-memmap_d1_170_d2_170_d3_1_order_C_frames_3000.mmap\n",
      "Decode mmap filename /home/kushalk/caiman_data/mesmerize-core-batch/09610b86-917a-41e7-a493-2d036bf44428/a49689ad-f093-49ff-9a86-058835eccd34_cnmf-memmap_d1_170_d2_170_d3_1_order_C_frames_3000.mmap\n",
      "Decode mmap filename /home/kushalk/caiman_data/mesmerize-core-batch/09610b86-917a-41e7-a493-2d036bf44428/a49689ad-f093-49ff-9a86-058835eccd34_cnmf-memmap_d1_170_d2_170_d3_1_order_C_frames_3000.mmap\n",
      "Decode mmap filename /home/kushalk/caiman_data/mesmerize-core-batch/09610b86-917a-41e7-a493-2d036bf44428/a49689ad-f093-49ff-9a86-058835eccd34_cnmf-memmap_d1_170_d2_170_d3_1_order_C_frames_3000.mmap\n",
      "Decode mmap filename /home/kushalk/caiman_data/mesmerize-core-batch/09610b86-917a-41e7-a493-2d036bf44428/a49689ad-f093-49ff-9a86-058835eccd34_cnmf-memmap_d1_170_d2_170_d3_1_order_C_frames_3000.mmap\n",
      "Decode mmap filename /home/kushalk/caiman_data/mesmerize-core-batch/09610b86-917a-41e7-a493-2d036bf44428/a49689ad-f093-49ff-9a86-058835eccd34_cnmf-memmap_d1_170_d2_170_d3_1_order_C_frames_3000.mmap\n",
      "Decode mmap filename /home/kushalk/caiman_data/mesmerize-core-batch/09610b86-917a-41e7-a493-2d036bf44428/a49689ad-f093-49ff-9a86-058835eccd34_cnmf-memmap_d1_170_d2_170_d3_1_order_C_frames_3000.mmap\n",
      "Decode mmap filename /home/kushalk/caiman_data/mesmerize-core-batch/09610b86-917a-41e7-a493-2d036bf44428/a49689ad-f093-49ff-9a86-058835eccd34_cnmf-memmap_d1_170_d2_170_d3_1_order_C_frames_3000.mmap\n",
      "Decode mmap filename /home/kushalk/caiman_data/mesmerize-core-batch/09610b86-917a-41e7-a493-2d036bf44428/a49689ad-f093-49ff-9a86-058835eccd34_cnmf-memmap_d1_170_d2_170_d3_1_order_C_frames_3000.mmap\n",
      "Decode mmap filename /home/kushalk/caiman_data/mesmerize-core-batch/09610b86-917a-41e7-a493-2d036bf44428/a49689ad-f093-49ff-9a86-058835eccd34_cnmf-memmap_d1_170_d2_170_d3_1_order_C_frames_3000.mmap\n",
      "Decode mmap filename /home/kushalk/caiman_data/mesmerize-core-batch/09610b86-917a-41e7-a493-2d036bf44428/a49689ad-f093-49ff-9a86-058835eccd34_cnmf-memmap_d1_170_d2_170_d3_1_order_C_frames_3000.mmap\n",
      "Decode mmap filename /home/kushalk/caiman_data/mesmerize-core-batch/09610b86-917a-41e7-a493-2d036bf44428/a49689ad-f093-49ff-9a86-058835eccd34_cnmf-memmap_d1_170_d2_170_d3_1_order_C_frames_3000.mmap\n",
      "Decode mmap filename /home/kushalk/caiman_data/mesmerize-core-batch/09610b86-917a-41e7-a493-2d036bf44428/a49689ad-f093-49ff-9a86-058835eccd34_cnmf-memmap_d1_170_d2_170_d3_1_order_C_frames_3000.mmap\n",
      "Decode mmap filename /home/kushalk/caiman_data/mesmerize-core-batch/09610b86-917a-41e7-a493-2d036bf44428/a49689ad-f093-49ff-9a86-058835eccd34_cnmf-memmap_d1_170_d2_170_d3_1_order_C_frames_3000.mmap\n",
      "Decode mmap filename /home/kushalk/caiman_data/mesmerize-core-batch/09610b86-917a-41e7-a493-2d036bf44428/a49689ad-f093-49ff-9a86-058835eccd34_cnmf-memmap_d1_170_d2_170_d3_1_order_C_frames_3000.mmap\n",
      "Decode mmap filename /home/kushalk/caiman_data/mesmerize-core-batch/09610b86-917a-41e7-a493-2d036bf44428/a49689ad-f093-49ff-9a86-058835eccd34_cnmf-memmap_d1_170_d2_170_d3_1_order_C_frames_3000.mmap\n",
      "Decode mmap filename /home/kushalk/caiman_data/mesmerize-core-batch/09610b86-917a-41e7-a493-2d036bf44428/a49689ad-f093-49ff-9a86-058835eccd34_cnmf-memmap_d1_170_d2_170_d3_1_order_C_frames_3000.mmap\n",
      "Decode mmap filename /home/kushalk/caiman_data/mesmerize-core-batch/09610b86-917a-41e7-a493-2d036bf44428/a49689ad-f093-49ff-9a86-058835eccd34_cnmf-memmap_d1_170_d2_170_d3_1_order_C_frames_3000.mmap\n",
      "Decode mmap filename /home/kushalk/caiman_data/mesmerize-core-batch/09610b86-917a-41e7-a493-2d036bf44428/a49689ad-f093-49ff-9a86-058835eccd34_cnmf-memmap_d1_170_d2_170_d3_1_order_C_frames_3000.mmap\n",
      "Decode mmap filename /home/kushalk/caiman_data/mesmerize-core-batch/09610b86-917a-41e7-a493-2d036bf44428/a49689ad-f093-49ff-9a86-058835eccd34_cnmf-memmap_d1_170_d2_170_d3_1_order_C_frames_3000.mmap\n",
      "Decode mmap filename /home/kushalk/caiman_data/mesmerize-core-batch/09610b86-917a-41e7-a493-2d036bf44428/a49689ad-f093-49ff-9a86-058835eccd34_cnmf-memmap_d1_170_d2_170_d3_1_order_C_frames_3000.mmap\n",
      "Decode mmap filename /home/kushalk/caiman_data/mesmerize-core-batch/09610b86-917a-41e7-a493-2d036bf44428/a49689ad-f093-49ff-9a86-058835eccd34_cnmf-memmap_d1_170_d2_170_d3_1_order_C_frames_3000.mmap\n",
      "Decode mmap filename /home/kushalk/caiman_data/mesmerize-core-batch/09610b86-917a-41e7-a493-2d036bf44428/a49689ad-f093-49ff-9a86-058835eccd34_cnmf-memmap_d1_170_d2_170_d3_1_order_C_frames_3000.mmap\n",
      "Decode mmap filename /home/kushalk/caiman_data/mesmerize-core-batch/09610b86-917a-41e7-a493-2d036bf44428/a49689ad-f093-49ff-9a86-058835eccd34_cnmf-memmap_d1_170_d2_170_d3_1_order_C_frames_3000.mmap\n",
      "Decode mmap filename /home/kushalk/caiman_data/mesmerize-core-batch/09610b86-917a-41e7-a493-2d036bf44428/a49689ad-f093-49ff-9a86-058835eccd34_cnmf-memmap_d1_170_d2_170_d3_1_order_C_frames_3000.mmap\n",
      "Decode mmap filename /home/kushalk/caiman_data/mesmerize-core-batch/09610b86-917a-41e7-a493-2d036bf44428/a49689ad-f093-49ff-9a86-058835eccd34_cnmf-memmap_d1_170_d2_170_d3_1_order_C_frames_3000.mmap\n",
      "Decode mmap filename /home/kushalk/caiman_data/mesmerize-core-batch/09610b86-917a-41e7-a493-2d036bf44428/a49689ad-f093-49ff-9a86-058835eccd34_cnmf-memmap_d1_170_d2_170_d3_1_order_C_frames_3000.mmap\n",
      "Decode mmap filename /home/kushalk/caiman_data/mesmerize-core-batch/09610b86-917a-41e7-a493-2d036bf44428/a49689ad-f093-49ff-9a86-058835eccd34_cnmf-memmap_d1_170_d2_170_d3_1_order_C_frames_3000.mmap\n"
     ]
    },
    {
     "name": "stderr",
     "output_type": "stream",
     "text": [
      "2023-01-08 01:32:01.493521: I tensorflow/core/platform/cpu_feature_guard.cc:193] This TensorFlow binary is optimized with oneAPI Deep Neural Network Library (oneDNN) to use the following CPU instructions in performance-critical operations:  AVX2 FMA\n",
      "To enable them in other operations, rebuild TensorFlow with the appropriate compiler flags.\n",
      "2023-01-08 01:32:01.577443: E tensorflow/stream_executor/cuda/cuda_blas.cc:2981] Unable to register cuBLAS factory: Attempting to register factory for plugin cuBLAS when one has already been registered\n",
      "2023-01-08 01:32:01.950236: W tensorflow/stream_executor/platform/default/dso_loader.cc:64] Could not load dynamic library 'libnvinfer.so.7'; dlerror: libnvinfer.so.7: cannot open shared object file: No such file or directory; LD_LIBRARY_PATH: /home/kushalk/python-venvs/mescore/lib/python3.10/site-packages/cv2/../../lib64:/home/kushalk/python-venvs/mescore/lib/python3.10/site-packages/cv2/../../lib64:/usr/local/cuda-11.2/lib64:/usr/local/cuda-11.2/lib64\n",
      "2023-01-08 01:32:01.950289: W tensorflow/stream_executor/platform/default/dso_loader.cc:64] Could not load dynamic library 'libnvinfer_plugin.so.7'; dlerror: libnvinfer_plugin.so.7: cannot open shared object file: No such file or directory; LD_LIBRARY_PATH: /home/kushalk/python-venvs/mescore/lib/python3.10/site-packages/cv2/../../lib64:/home/kushalk/python-venvs/mescore/lib/python3.10/site-packages/cv2/../../lib64:/usr/local/cuda-11.2/lib64:/usr/local/cuda-11.2/lib64\n",
      "2023-01-08 01:32:01.950293: W tensorflow/compiler/tf2tensorrt/utils/py_utils.cc:38] TF-TRT Warning: Cannot dlopen some TensorRT libraries. If you would like to use Nvidia GPU with TensorRT, please make sure the missing libraries mentioned above are installed properly.\n"
     ]
    },
    {
     "name": "stdout",
     "output_type": "stream",
     "text": [
      "************************************************************************\n",
      "\n",
      "Starting CNMF item:\n",
      "algo                                                             cnmf\n",
      "item_name                                          Sue_2x_3000_40_-46\n",
      "input_movie_path    09610b86-917a-41e7-a493-2d036bf44428/09610b86-...\n",
      "params              {'main': {'fr': 30, 'p': 1, 'nb': 2, 'merge_th...\n",
      "outputs                                                          None\n",
      "comments                                                         None\n",
      "uuid                             f67dbcb9-fd5b-4d81-acc4-f080a7f81db4\n",
      "Name: 4, dtype: object\n",
      "With params:{'main': {'fr': 30, 'p': 1, 'nb': 2, 'merge_thr': 0.8, 'rf': 15, 'stride': 6, 'K': 8, 'gSig': (6, 6), 'ssub': 1, 'tsub': 1, 'method_init': 'greedy_roi', 'min_SNR': 2.0, 'rval_thr': 0.7, 'use_cnn': True, 'min_cnn_thr': 0.8, 'cnn_lowest': 0.1, 'decay_time': 0.4}, 'refit': True}\n",
      "Decode mmap filename /home/kushalk/caiman_data/mesmerize-core-batch/09610b86-917a-41e7-a493-2d036bf44428/09610b86-917a-41e7-a493-2d036bf44428-Sue_2x_3000_40_-46_els__d1_170_d2_170_d3_1_order_F_frames_3000.mmap\n",
      "making memmap\n",
      "Decode mmap filename /home/kushalk/caiman_data/mesmerize-core-batch/09610b86-917a-41e7-a493-2d036bf44428/f67dbcb9-fd5b-4d81-acc4-f080a7f81db4_cnmf-memmap_d1_170_d2_170_d3_1_order_C_frames_3000.mmap\n"
     ]
    },
    {
     "name": "stderr",
     "output_type": "stream",
     "text": [
      "WARNING:root:Component 7 is only active jointly with neighboring components. Space correlation calculation might be unreliable.\n",
      "WARNING:root:Component 30 is only active jointly with neighboring components. Space correlation calculation might be unreliable.\n",
      "WARNING:root:Component 22 is only active jointly with neighboring components. Space correlation calculation might be unreliable.\n",
      "WARNING:root:Component 26 is only active jointly with neighboring components. Space correlation calculation might be unreliable.\n",
      "WARNING:root:Component 28 is only active jointly with neighboring components. Space correlation calculation might be unreliable.\n",
      "WARNING:root:Component 31 is only active jointly with neighboring components. Space correlation calculation might be unreliable.\n",
      "WARNING:root:Component 46 is only active jointly with neighboring components. Space correlation calculation might be unreliable.\n",
      "WARNING:root:Component 36 is only active jointly with neighboring components. Space correlation calculation might be unreliable.\n",
      "WARNING:root:Component 44 is only active jointly with neighboring components. Space correlation calculation might be unreliable.\n",
      "2023-01-08 01:32:18.253282: E tensorflow/stream_executor/cuda/cuda_driver.cc:265] failed call to cuInit: CUDA_ERROR_NO_DEVICE: no CUDA-capable device is detected\n",
      "2023-01-08 01:32:18.253303: I tensorflow/stream_executor/cuda/cuda_diagnostics.cc:169] retrieving CUDA diagnostic information for host: hantman-calcium\n",
      "2023-01-08 01:32:18.253306: I tensorflow/stream_executor/cuda/cuda_diagnostics.cc:176] hostname: hantman-calcium\n",
      "2023-01-08 01:32:18.253403: I tensorflow/stream_executor/cuda/cuda_diagnostics.cc:200] libcuda reported version is: 470.161.3\n",
      "2023-01-08 01:32:18.253416: I tensorflow/stream_executor/cuda/cuda_diagnostics.cc:204] kernel reported version is: 470.161.3\n",
      "2023-01-08 01:32:18.253419: I tensorflow/stream_executor/cuda/cuda_diagnostics.cc:310] kernel version seems to match DSO: 470.161.3\n",
      "2023-01-08 01:32:18.253571: I tensorflow/core/platform/cpu_feature_guard.cc:193] This TensorFlow binary is optimized with oneAPI Deep Neural Network Library (oneDNN) to use the following CPU instructions in performance-critical operations:  AVX2 FMA\n",
      "To enable them in other operations, rebuild TensorFlow with the appropriate compiler flags.\n"
     ]
    },
    {
     "name": "stdout",
     "output_type": "stream",
     "text": [
      "performing CNMF\n",
      "fitting images\n",
      "refitting\n",
      "performing eval\n",
      "GPU run not requested, disabling use of GPUs\n",
      "USING MODEL (keras API): /home/kushalk/caiman_data/model/cnn_model.json\n",
      "11/11 [==============================] - 0s 10ms/step\n",
      "Decode mmap filename /home/kushalk/caiman_data/mesmerize-core-batch/09610b86-917a-41e7-a493-2d036bf44428/f67dbcb9-fd5b-4d81-acc4-f080a7f81db4_cnmf-memmap_d1_170_d2_170_d3_1_order_C_frames_3000.mmap\n",
      "Decode mmap filename /home/kushalk/caiman_data/mesmerize-core-batch/09610b86-917a-41e7-a493-2d036bf44428/f67dbcb9-fd5b-4d81-acc4-f080a7f81db4_cnmf-memmap_d1_170_d2_170_d3_1_order_C_frames_3000.mmap\n",
      "Decode mmap filename /home/kushalk/caiman_data/mesmerize-core-batch/09610b86-917a-41e7-a493-2d036bf44428/f67dbcb9-fd5b-4d81-acc4-f080a7f81db4_cnmf-memmap_d1_170_d2_170_d3_1_order_C_frames_3000.mmap\n",
      "Decode mmap filename /home/kushalk/caiman_data/mesmerize-core-batch/09610b86-917a-41e7-a493-2d036bf44428/f67dbcb9-fd5b-4d81-acc4-f080a7f81db4_cnmf-memmap_d1_170_d2_170_d3_1_order_C_frames_3000.mmap\n",
      "Decode mmap filename /home/kushalk/caiman_data/mesmerize-core-batch/09610b86-917a-41e7-a493-2d036bf44428/f67dbcb9-fd5b-4d81-acc4-f080a7f81db4_cnmf-memmap_d1_170_d2_170_d3_1_order_C_frames_3000.mmap\n",
      "Decode mmap filename /home/kushalk/caiman_data/mesmerize-core-batch/09610b86-917a-41e7-a493-2d036bf44428/f67dbcb9-fd5b-4d81-acc4-f080a7f81db4_cnmf-memmap_d1_170_d2_170_d3_1_order_C_frames_3000.mmap\n",
      "Decode mmap filename /home/kushalk/caiman_data/mesmerize-core-batch/09610b86-917a-41e7-a493-2d036bf44428/f67dbcb9-fd5b-4d81-acc4-f080a7f81db4_cnmf-memmap_d1_170_d2_170_d3_1_order_C_frames_3000.mmap\n",
      "Decode mmap filename /home/kushalk/caiman_data/mesmerize-core-batch/09610b86-917a-41e7-a493-2d036bf44428/f67dbcb9-fd5b-4d81-acc4-f080a7f81db4_cnmf-memmap_d1_170_d2_170_d3_1_order_C_frames_3000.mmap\n",
      "Decode mmap filename /home/kushalk/caiman_data/mesmerize-core-batch/09610b86-917a-41e7-a493-2d036bf44428/f67dbcb9-fd5b-4d81-acc4-f080a7f81db4_cnmf-memmap_d1_170_d2_170_d3_1_order_C_frames_3000.mmap\n",
      "Decode mmap filename /home/kushalk/caiman_data/mesmerize-core-batch/09610b86-917a-41e7-a493-2d036bf44428/f67dbcb9-fd5b-4d81-acc4-f080a7f81db4_cnmf-memmap_d1_170_d2_170_d3_1_order_C_frames_3000.mmap\n",
      "Decode mmap filename /home/kushalk/caiman_data/mesmerize-core-batch/09610b86-917a-41e7-a493-2d036bf44428/f67dbcb9-fd5b-4d81-acc4-f080a7f81db4_cnmf-memmap_d1_170_d2_170_d3_1_order_C_frames_3000.mmap\n",
      "Decode mmap filename /home/kushalk/caiman_data/mesmerize-core-batch/09610b86-917a-41e7-a493-2d036bf44428/f67dbcb9-fd5b-4d81-acc4-f080a7f81db4_cnmf-memmap_d1_170_d2_170_d3_1_order_C_frames_3000.mmap\n",
      "Decode mmap filename /home/kushalk/caiman_data/mesmerize-core-batch/09610b86-917a-41e7-a493-2d036bf44428/f67dbcb9-fd5b-4d81-acc4-f080a7f81db4_cnmf-memmap_d1_170_d2_170_d3_1_order_C_frames_3000.mmap\n",
      "Decode mmap filename /home/kushalk/caiman_data/mesmerize-core-batch/09610b86-917a-41e7-a493-2d036bf44428/f67dbcb9-fd5b-4d81-acc4-f080a7f81db4_cnmf-memmap_d1_170_d2_170_d3_1_order_C_frames_3000.mmap\n",
      "Decode mmap filename /home/kushalk/caiman_data/mesmerize-core-batch/09610b86-917a-41e7-a493-2d036bf44428/f67dbcb9-fd5b-4d81-acc4-f080a7f81db4_cnmf-memmap_d1_170_d2_170_d3_1_order_C_frames_3000.mmap\n",
      "Decode mmap filename /home/kushalk/caiman_data/mesmerize-core-batch/09610b86-917a-41e7-a493-2d036bf44428/f67dbcb9-fd5b-4d81-acc4-f080a7f81db4_cnmf-memmap_d1_170_d2_170_d3_1_order_C_frames_3000.mmap\n",
      "Decode mmap filename /home/kushalk/caiman_data/mesmerize-core-batch/09610b86-917a-41e7-a493-2d036bf44428/f67dbcb9-fd5b-4d81-acc4-f080a7f81db4_cnmf-memmap_d1_170_d2_170_d3_1_order_C_frames_3000.mmap\n",
      "Decode mmap filename /home/kushalk/caiman_data/mesmerize-core-batch/09610b86-917a-41e7-a493-2d036bf44428/f67dbcb9-fd5b-4d81-acc4-f080a7f81db4_cnmf-memmap_d1_170_d2_170_d3_1_order_C_frames_3000.mmap\n",
      "Decode mmap filename /home/kushalk/caiman_data/mesmerize-core-batch/09610b86-917a-41e7-a493-2d036bf44428/f67dbcb9-fd5b-4d81-acc4-f080a7f81db4_cnmf-memmap_d1_170_d2_170_d3_1_order_C_frames_3000.mmap\n",
      "Decode mmap filename /home/kushalk/caiman_data/mesmerize-core-batch/09610b86-917a-41e7-a493-2d036bf44428/f67dbcb9-fd5b-4d81-acc4-f080a7f81db4_cnmf-memmap_d1_170_d2_170_d3_1_order_C_frames_3000.mmap\n",
      "Decode mmap filename /home/kushalk/caiman_data/mesmerize-core-batch/09610b86-917a-41e7-a493-2d036bf44428/f67dbcb9-fd5b-4d81-acc4-f080a7f81db4_cnmf-memmap_d1_170_d2_170_d3_1_order_C_frames_3000.mmap\n",
      "Decode mmap filename /home/kushalk/caiman_data/mesmerize-core-batch/09610b86-917a-41e7-a493-2d036bf44428/f67dbcb9-fd5b-4d81-acc4-f080a7f81db4_cnmf-memmap_d1_170_d2_170_d3_1_order_C_frames_3000.mmap\n",
      "Decode mmap filename /home/kushalk/caiman_data/mesmerize-core-batch/09610b86-917a-41e7-a493-2d036bf44428/f67dbcb9-fd5b-4d81-acc4-f080a7f81db4_cnmf-memmap_d1_170_d2_170_d3_1_order_C_frames_3000.mmap\n",
      "Decode mmap filename /home/kushalk/caiman_data/mesmerize-core-batch/09610b86-917a-41e7-a493-2d036bf44428/f67dbcb9-fd5b-4d81-acc4-f080a7f81db4_cnmf-memmap_d1_170_d2_170_d3_1_order_C_frames_3000.mmap\n",
      "Decode mmap filename /home/kushalk/caiman_data/mesmerize-core-batch/09610b86-917a-41e7-a493-2d036bf44428/f67dbcb9-fd5b-4d81-acc4-f080a7f81db4_cnmf-memmap_d1_170_d2_170_d3_1_order_C_frames_3000.mmap\n",
      "Decode mmap filename /home/kushalk/caiman_data/mesmerize-core-batch/09610b86-917a-41e7-a493-2d036bf44428/f67dbcb9-fd5b-4d81-acc4-f080a7f81db4_cnmf-memmap_d1_170_d2_170_d3_1_order_C_frames_3000.mmap\n",
      "Decode mmap filename /home/kushalk/caiman_data/mesmerize-core-batch/09610b86-917a-41e7-a493-2d036bf44428/f67dbcb9-fd5b-4d81-acc4-f080a7f81db4_cnmf-memmap_d1_170_d2_170_d3_1_order_C_frames_3000.mmap\n",
      "Decode mmap filename /home/kushalk/caiman_data/mesmerize-core-batch/09610b86-917a-41e7-a493-2d036bf44428/f67dbcb9-fd5b-4d81-acc4-f080a7f81db4_cnmf-memmap_d1_170_d2_170_d3_1_order_C_frames_3000.mmap\n",
      "Decode mmap filename /home/kushalk/caiman_data/mesmerize-core-batch/09610b86-917a-41e7-a493-2d036bf44428/f67dbcb9-fd5b-4d81-acc4-f080a7f81db4_cnmf-memmap_d1_170_d2_170_d3_1_order_C_frames_3000.mmap\n",
      "Decode mmap filename /home/kushalk/caiman_data/mesmerize-core-batch/09610b86-917a-41e7-a493-2d036bf44428/f67dbcb9-fd5b-4d81-acc4-f080a7f81db4_cnmf-memmap_d1_170_d2_170_d3_1_order_C_frames_3000.mmap\n",
      "Decode mmap filename /home/kushalk/caiman_data/mesmerize-core-batch/09610b86-917a-41e7-a493-2d036bf44428/f67dbcb9-fd5b-4d81-acc4-f080a7f81db4_cnmf-memmap_d1_170_d2_170_d3_1_order_C_frames_3000.mmap\n",
      "Decode mmap filename /home/kushalk/caiman_data/mesmerize-core-batch/09610b86-917a-41e7-a493-2d036bf44428/f67dbcb9-fd5b-4d81-acc4-f080a7f81db4_cnmf-memmap_d1_170_d2_170_d3_1_order_C_frames_3000.mmap\n",
      "Decode mmap filename /home/kushalk/caiman_data/mesmerize-core-batch/09610b86-917a-41e7-a493-2d036bf44428/f67dbcb9-fd5b-4d81-acc4-f080a7f81db4_cnmf-memmap_d1_170_d2_170_d3_1_order_C_frames_3000.mmap\n",
      "Decode mmap filename /home/kushalk/caiman_data/mesmerize-core-batch/09610b86-917a-41e7-a493-2d036bf44428/f67dbcb9-fd5b-4d81-acc4-f080a7f81db4_cnmf-memmap_d1_170_d2_170_d3_1_order_C_frames_3000.mmap\n",
      "Decode mmap filename /home/kushalk/caiman_data/mesmerize-core-batch/09610b86-917a-41e7-a493-2d036bf44428/f67dbcb9-fd5b-4d81-acc4-f080a7f81db4_cnmf-memmap_d1_170_d2_170_d3_1_order_C_frames_3000.mmap\n",
      "Decode mmap filename /home/kushalk/caiman_data/mesmerize-core-batch/09610b86-917a-41e7-a493-2d036bf44428/f67dbcb9-fd5b-4d81-acc4-f080a7f81db4_cnmf-memmap_d1_170_d2_170_d3_1_order_C_frames_3000.mmap\n",
      "Decode mmap filename /home/kushalk/caiman_data/mesmerize-core-batch/09610b86-917a-41e7-a493-2d036bf44428/f67dbcb9-fd5b-4d81-acc4-f080a7f81db4_cnmf-memmap_d1_170_d2_170_d3_1_order_C_frames_3000.mmap\n",
      "Decode mmap filename /home/kushalk/caiman_data/mesmerize-core-batch/09610b86-917a-41e7-a493-2d036bf44428/f67dbcb9-fd5b-4d81-acc4-f080a7f81db4_cnmf-memmap_d1_170_d2_170_d3_1_order_C_frames_3000.mmap\n",
      "Decode mmap filename /home/kushalk/caiman_data/mesmerize-core-batch/09610b86-917a-41e7-a493-2d036bf44428/f67dbcb9-fd5b-4d81-acc4-f080a7f81db4_cnmf-memmap_d1_170_d2_170_d3_1_order_C_frames_3000.mmap\n",
      "Decode mmap filename /home/kushalk/caiman_data/mesmerize-core-batch/09610b86-917a-41e7-a493-2d036bf44428/f67dbcb9-fd5b-4d81-acc4-f080a7f81db4_cnmf-memmap_d1_170_d2_170_d3_1_order_C_frames_3000.mmap\n",
      "Decode mmap filename /home/kushalk/caiman_data/mesmerize-core-batch/09610b86-917a-41e7-a493-2d036bf44428/f67dbcb9-fd5b-4d81-acc4-f080a7f81db4_cnmf-memmap_d1_170_d2_170_d3_1_order_C_frames_3000.mmap\n",
      "Decode mmap filename /home/kushalk/caiman_data/mesmerize-core-batch/09610b86-917a-41e7-a493-2d036bf44428/f67dbcb9-fd5b-4d81-acc4-f080a7f81db4_cnmf-memmap_d1_170_d2_170_d3_1_order_C_frames_3000.mmap\n",
      "Decode mmap filename /home/kushalk/caiman_data/mesmerize-core-batch/09610b86-917a-41e7-a493-2d036bf44428/f67dbcb9-fd5b-4d81-acc4-f080a7f81db4_cnmf-memmap_d1_170_d2_170_d3_1_order_C_frames_3000.mmap\n",
      "Decode mmap filename /home/kushalk/caiman_data/mesmerize-core-batch/09610b86-917a-41e7-a493-2d036bf44428/f67dbcb9-fd5b-4d81-acc4-f080a7f81db4_cnmf-memmap_d1_170_d2_170_d3_1_order_C_frames_3000.mmap\n",
      "Decode mmap filename /home/kushalk/caiman_data/mesmerize-core-batch/09610b86-917a-41e7-a493-2d036bf44428/f67dbcb9-fd5b-4d81-acc4-f080a7f81db4_cnmf-memmap_d1_170_d2_170_d3_1_order_C_frames_3000.mmap\n",
      "Decode mmap filename /home/kushalk/caiman_data/mesmerize-core-batch/09610b86-917a-41e7-a493-2d036bf44428/f67dbcb9-fd5b-4d81-acc4-f080a7f81db4_cnmf-memmap_d1_170_d2_170_d3_1_order_C_frames_3000.mmap\n",
      "Decode mmap filename /home/kushalk/caiman_data/mesmerize-core-batch/09610b86-917a-41e7-a493-2d036bf44428/f67dbcb9-fd5b-4d81-acc4-f080a7f81db4_cnmf-memmap_d1_170_d2_170_d3_1_order_C_frames_3000.mmap\n",
      "Decode mmap filename /home/kushalk/caiman_data/mesmerize-core-batch/09610b86-917a-41e7-a493-2d036bf44428/f67dbcb9-fd5b-4d81-acc4-f080a7f81db4_cnmf-memmap_d1_170_d2_170_d3_1_order_C_frames_3000.mmap\n",
      "Decode mmap filename /home/kushalk/caiman_data/mesmerize-core-batch/09610b86-917a-41e7-a493-2d036bf44428/f67dbcb9-fd5b-4d81-acc4-f080a7f81db4_cnmf-memmap_d1_170_d2_170_d3_1_order_C_frames_3000.mmap\n",
      "Decode mmap filename /home/kushalk/caiman_data/mesmerize-core-batch/09610b86-917a-41e7-a493-2d036bf44428/f67dbcb9-fd5b-4d81-acc4-f080a7f81db4_cnmf-memmap_d1_170_d2_170_d3_1_order_C_frames_3000.mmap\n",
      "Decode mmap filename /home/kushalk/caiman_data/mesmerize-core-batch/09610b86-917a-41e7-a493-2d036bf44428/f67dbcb9-fd5b-4d81-acc4-f080a7f81db4_cnmf-memmap_d1_170_d2_170_d3_1_order_C_frames_3000.mmap\n",
      "Decode mmap filename /home/kushalk/caiman_data/mesmerize-core-batch/09610b86-917a-41e7-a493-2d036bf44428/f67dbcb9-fd5b-4d81-acc4-f080a7f81db4_cnmf-memmap_d1_170_d2_170_d3_1_order_C_frames_3000.mmap\n",
      "Decode mmap filename /home/kushalk/caiman_data/mesmerize-core-batch/09610b86-917a-41e7-a493-2d036bf44428/f67dbcb9-fd5b-4d81-acc4-f080a7f81db4_cnmf-memmap_d1_170_d2_170_d3_1_order_C_frames_3000.mmap\n",
      "Decode mmap filename /home/kushalk/caiman_data/mesmerize-core-batch/09610b86-917a-41e7-a493-2d036bf44428/f67dbcb9-fd5b-4d81-acc4-f080a7f81db4_cnmf-memmap_d1_170_d2_170_d3_1_order_C_frames_3000.mmap\n",
      "Decode mmap filename /home/kushalk/caiman_data/mesmerize-core-batch/09610b86-917a-41e7-a493-2d036bf44428/f67dbcb9-fd5b-4d81-acc4-f080a7f81db4_cnmf-memmap_d1_170_d2_170_d3_1_order_C_frames_3000.mmap\n",
      "Decode mmap filename /home/kushalk/caiman_data/mesmerize-core-batch/09610b86-917a-41e7-a493-2d036bf44428/f67dbcb9-fd5b-4d81-acc4-f080a7f81db4_cnmf-memmap_d1_170_d2_170_d3_1_order_C_frames_3000.mmap\n",
      "Decode mmap filename /home/kushalk/caiman_data/mesmerize-core-batch/09610b86-917a-41e7-a493-2d036bf44428/f67dbcb9-fd5b-4d81-acc4-f080a7f81db4_cnmf-memmap_d1_170_d2_170_d3_1_order_C_frames_3000.mmap\n",
      "Decode mmap filename /home/kushalk/caiman_data/mesmerize-core-batch/09610b86-917a-41e7-a493-2d036bf44428/f67dbcb9-fd5b-4d81-acc4-f080a7f81db4_cnmf-memmap_d1_170_d2_170_d3_1_order_C_frames_3000.mmap\n",
      "Decode mmap filename /home/kushalk/caiman_data/mesmerize-core-batch/09610b86-917a-41e7-a493-2d036bf44428/f67dbcb9-fd5b-4d81-acc4-f080a7f81db4_cnmf-memmap_d1_170_d2_170_d3_1_order_C_frames_3000.mmap\n",
      "Decode mmap filename /home/kushalk/caiman_data/mesmerize-core-batch/09610b86-917a-41e7-a493-2d036bf44428/f67dbcb9-fd5b-4d81-acc4-f080a7f81db4_cnmf-memmap_d1_170_d2_170_d3_1_order_C_frames_3000.mmap\n",
      "Decode mmap filename /home/kushalk/caiman_data/mesmerize-core-batch/09610b86-917a-41e7-a493-2d036bf44428/f67dbcb9-fd5b-4d81-acc4-f080a7f81db4_cnmf-memmap_d1_170_d2_170_d3_1_order_C_frames_3000.mmap\n",
      "Decode mmap filename /home/kushalk/caiman_data/mesmerize-core-batch/09610b86-917a-41e7-a493-2d036bf44428/f67dbcb9-fd5b-4d81-acc4-f080a7f81db4_cnmf-memmap_d1_170_d2_170_d3_1_order_C_frames_3000.mmap\n",
      "Decode mmap filename /home/kushalk/caiman_data/mesmerize-core-batch/09610b86-917a-41e7-a493-2d036bf44428/f67dbcb9-fd5b-4d81-acc4-f080a7f81db4_cnmf-memmap_d1_170_d2_170_d3_1_order_C_frames_3000.mmap\n",
      "Decode mmap filename /home/kushalk/caiman_data/mesmerize-core-batch/09610b86-917a-41e7-a493-2d036bf44428/f67dbcb9-fd5b-4d81-acc4-f080a7f81db4_cnmf-memmap_d1_170_d2_170_d3_1_order_C_frames_3000.mmap\n",
      "Decode mmap filename /home/kushalk/caiman_data/mesmerize-core-batch/09610b86-917a-41e7-a493-2d036bf44428/f67dbcb9-fd5b-4d81-acc4-f080a7f81db4_cnmf-memmap_d1_170_d2_170_d3_1_order_C_frames_3000.mmap\n",
      "Decode mmap filename /home/kushalk/caiman_data/mesmerize-core-batch/09610b86-917a-41e7-a493-2d036bf44428/f67dbcb9-fd5b-4d81-acc4-f080a7f81db4_cnmf-memmap_d1_170_d2_170_d3_1_order_C_frames_3000.mmap\n",
      "Decode mmap filename /home/kushalk/caiman_data/mesmerize-core-batch/09610b86-917a-41e7-a493-2d036bf44428/f67dbcb9-fd5b-4d81-acc4-f080a7f81db4_cnmf-memmap_d1_170_d2_170_d3_1_order_C_frames_3000.mmap\n",
      "Decode mmap filename /home/kushalk/caiman_data/mesmerize-core-batch/09610b86-917a-41e7-a493-2d036bf44428/f67dbcb9-fd5b-4d81-acc4-f080a7f81db4_cnmf-memmap_d1_170_d2_170_d3_1_order_C_frames_3000.mmap\n",
      "Decode mmap filename /home/kushalk/caiman_data/mesmerize-core-batch/09610b86-917a-41e7-a493-2d036bf44428/f67dbcb9-fd5b-4d81-acc4-f080a7f81db4_cnmf-memmap_d1_170_d2_170_d3_1_order_C_frames_3000.mmap\n",
      "Decode mmap filename /home/kushalk/caiman_data/mesmerize-core-batch/09610b86-917a-41e7-a493-2d036bf44428/f67dbcb9-fd5b-4d81-acc4-f080a7f81db4_cnmf-memmap_d1_170_d2_170_d3_1_order_C_frames_3000.mmap\n",
      "Decode mmap filename /home/kushalk/caiman_data/mesmerize-core-batch/09610b86-917a-41e7-a493-2d036bf44428/f67dbcb9-fd5b-4d81-acc4-f080a7f81db4_cnmf-memmap_d1_170_d2_170_d3_1_order_C_frames_3000.mmap\n",
      "Decode mmap filename /home/kushalk/caiman_data/mesmerize-core-batch/09610b86-917a-41e7-a493-2d036bf44428/f67dbcb9-fd5b-4d81-acc4-f080a7f81db4_cnmf-memmap_d1_170_d2_170_d3_1_order_C_frames_3000.mmap\n",
      "Decode mmap filename /home/kushalk/caiman_data/mesmerize-core-batch/09610b86-917a-41e7-a493-2d036bf44428/f67dbcb9-fd5b-4d81-acc4-f080a7f81db4_cnmf-memmap_d1_170_d2_170_d3_1_order_C_frames_3000.mmap\n",
      "Decode mmap filename /home/kushalk/caiman_data/mesmerize-core-batch/09610b86-917a-41e7-a493-2d036bf44428/f67dbcb9-fd5b-4d81-acc4-f080a7f81db4_cnmf-memmap_d1_170_d2_170_d3_1_order_C_frames_3000.mmap\n",
      "Decode mmap filename /home/kushalk/caiman_data/mesmerize-core-batch/09610b86-917a-41e7-a493-2d036bf44428/f67dbcb9-fd5b-4d81-acc4-f080a7f81db4_cnmf-memmap_d1_170_d2_170_d3_1_order_C_frames_3000.mmap\n",
      "Decode mmap filename /home/kushalk/caiman_data/mesmerize-core-batch/09610b86-917a-41e7-a493-2d036bf44428/f67dbcb9-fd5b-4d81-acc4-f080a7f81db4_cnmf-memmap_d1_170_d2_170_d3_1_order_C_frames_3000.mmap\n",
      "Decode mmap filename /home/kushalk/caiman_data/mesmerize-core-batch/09610b86-917a-41e7-a493-2d036bf44428/f67dbcb9-fd5b-4d81-acc4-f080a7f81db4_cnmf-memmap_d1_170_d2_170_d3_1_order_C_frames_3000.mmap\n",
      "Decode mmap filename /home/kushalk/caiman_data/mesmerize-core-batch/09610b86-917a-41e7-a493-2d036bf44428/f67dbcb9-fd5b-4d81-acc4-f080a7f81db4_cnmf-memmap_d1_170_d2_170_d3_1_order_C_frames_3000.mmap\n",
      "Decode mmap filename /home/kushalk/caiman_data/mesmerize-core-batch/09610b86-917a-41e7-a493-2d036bf44428/f67dbcb9-fd5b-4d81-acc4-f080a7f81db4_cnmf-memmap_d1_170_d2_170_d3_1_order_C_frames_3000.mmap\n",
      "Decode mmap filename /home/kushalk/caiman_data/mesmerize-core-batch/09610b86-917a-41e7-a493-2d036bf44428/f67dbcb9-fd5b-4d81-acc4-f080a7f81db4_cnmf-memmap_d1_170_d2_170_d3_1_order_C_frames_3000.mmap\n",
      "Decode mmap filename /home/kushalk/caiman_data/mesmerize-core-batch/09610b86-917a-41e7-a493-2d036bf44428/f67dbcb9-fd5b-4d81-acc4-f080a7f81db4_cnmf-memmap_d1_170_d2_170_d3_1_order_C_frames_3000.mmap\n",
      "Decode mmap filename /home/kushalk/caiman_data/mesmerize-core-batch/09610b86-917a-41e7-a493-2d036bf44428/f67dbcb9-fd5b-4d81-acc4-f080a7f81db4_cnmf-memmap_d1_170_d2_170_d3_1_order_C_frames_3000.mmap\n",
      "Decode mmap filename /home/kushalk/caiman_data/mesmerize-core-batch/09610b86-917a-41e7-a493-2d036bf44428/f67dbcb9-fd5b-4d81-acc4-f080a7f81db4_cnmf-memmap_d1_170_d2_170_d3_1_order_C_frames_3000.mmap\n",
      "Decode mmap filename /home/kushalk/caiman_data/mesmerize-core-batch/09610b86-917a-41e7-a493-2d036bf44428/f67dbcb9-fd5b-4d81-acc4-f080a7f81db4_cnmf-memmap_d1_170_d2_170_d3_1_order_C_frames_3000.mmap\n",
      "Decode mmap filename /home/kushalk/caiman_data/mesmerize-core-batch/09610b86-917a-41e7-a493-2d036bf44428/f67dbcb9-fd5b-4d81-acc4-f080a7f81db4_cnmf-memmap_d1_170_d2_170_d3_1_order_C_frames_3000.mmap\n",
      "Decode mmap filename /home/kushalk/caiman_data/mesmerize-core-batch/09610b86-917a-41e7-a493-2d036bf44428/f67dbcb9-fd5b-4d81-acc4-f080a7f81db4_cnmf-memmap_d1_170_d2_170_d3_1_order_C_frames_3000.mmap\n",
      "Decode mmap filename /home/kushalk/caiman_data/mesmerize-core-batch/09610b86-917a-41e7-a493-2d036bf44428/f67dbcb9-fd5b-4d81-acc4-f080a7f81db4_cnmf-memmap_d1_170_d2_170_d3_1_order_C_frames_3000.mmap\n",
      "Decode mmap filename /home/kushalk/caiman_data/mesmerize-core-batch/09610b86-917a-41e7-a493-2d036bf44428/f67dbcb9-fd5b-4d81-acc4-f080a7f81db4_cnmf-memmap_d1_170_d2_170_d3_1_order_C_frames_3000.mmap\n",
      "Decode mmap filename /home/kushalk/caiman_data/mesmerize-core-batch/09610b86-917a-41e7-a493-2d036bf44428/f67dbcb9-fd5b-4d81-acc4-f080a7f81db4_cnmf-memmap_d1_170_d2_170_d3_1_order_C_frames_3000.mmap\n",
      "Decode mmap filename /home/kushalk/caiman_data/mesmerize-core-batch/09610b86-917a-41e7-a493-2d036bf44428/f67dbcb9-fd5b-4d81-acc4-f080a7f81db4_cnmf-memmap_d1_170_d2_170_d3_1_order_C_frames_3000.mmap\n",
      "Decode mmap filename /home/kushalk/caiman_data/mesmerize-core-batch/09610b86-917a-41e7-a493-2d036bf44428/f67dbcb9-fd5b-4d81-acc4-f080a7f81db4_cnmf-memmap_d1_170_d2_170_d3_1_order_C_frames_3000.mmap\n",
      "Decode mmap filename /home/kushalk/caiman_data/mesmerize-core-batch/09610b86-917a-41e7-a493-2d036bf44428/f67dbcb9-fd5b-4d81-acc4-f080a7f81db4_cnmf-memmap_d1_170_d2_170_d3_1_order_C_frames_3000.mmap\n",
      "Decode mmap filename /home/kushalk/caiman_data/mesmerize-core-batch/09610b86-917a-41e7-a493-2d036bf44428/f67dbcb9-fd5b-4d81-acc4-f080a7f81db4_cnmf-memmap_d1_170_d2_170_d3_1_order_C_frames_3000.mmap\n",
      "Decode mmap filename /home/kushalk/caiman_data/mesmerize-core-batch/09610b86-917a-41e7-a493-2d036bf44428/f67dbcb9-fd5b-4d81-acc4-f080a7f81db4_cnmf-memmap_d1_170_d2_170_d3_1_order_C_frames_3000.mmap\n",
      "Decode mmap filename /home/kushalk/caiman_data/mesmerize-core-batch/09610b86-917a-41e7-a493-2d036bf44428/f67dbcb9-fd5b-4d81-acc4-f080a7f81db4_cnmf-memmap_d1_170_d2_170_d3_1_order_C_frames_3000.mmap\n",
      "Decode mmap filename /home/kushalk/caiman_data/mesmerize-core-batch/09610b86-917a-41e7-a493-2d036bf44428/f67dbcb9-fd5b-4d81-acc4-f080a7f81db4_cnmf-memmap_d1_170_d2_170_d3_1_order_C_frames_3000.mmap\n",
      "Decode mmap filename /home/kushalk/caiman_data/mesmerize-core-batch/09610b86-917a-41e7-a493-2d036bf44428/f67dbcb9-fd5b-4d81-acc4-f080a7f81db4_cnmf-memmap_d1_170_d2_170_d3_1_order_C_frames_3000.mmap\n",
      "Decode mmap filename /home/kushalk/caiman_data/mesmerize-core-batch/09610b86-917a-41e7-a493-2d036bf44428/f67dbcb9-fd5b-4d81-acc4-f080a7f81db4_cnmf-memmap_d1_170_d2_170_d3_1_order_C_frames_3000.mmap\n",
      "Decode mmap filename /home/kushalk/caiman_data/mesmerize-core-batch/09610b86-917a-41e7-a493-2d036bf44428/f67dbcb9-fd5b-4d81-acc4-f080a7f81db4_cnmf-memmap_d1_170_d2_170_d3_1_order_C_frames_3000.mmap\n",
      "Decode mmap filename /home/kushalk/caiman_data/mesmerize-core-batch/09610b86-917a-41e7-a493-2d036bf44428/f67dbcb9-fd5b-4d81-acc4-f080a7f81db4_cnmf-memmap_d1_170_d2_170_d3_1_order_C_frames_3000.mmap\n",
      "Decode mmap filename /home/kushalk/caiman_data/mesmerize-core-batch/09610b86-917a-41e7-a493-2d036bf44428/f67dbcb9-fd5b-4d81-acc4-f080a7f81db4_cnmf-memmap_d1_170_d2_170_d3_1_order_C_frames_3000.mmap\n",
      "Decode mmap filename /home/kushalk/caiman_data/mesmerize-core-batch/09610b86-917a-41e7-a493-2d036bf44428/f67dbcb9-fd5b-4d81-acc4-f080a7f81db4_cnmf-memmap_d1_170_d2_170_d3_1_order_C_frames_3000.mmap\n",
      "Decode mmap filename /home/kushalk/caiman_data/mesmerize-core-batch/09610b86-917a-41e7-a493-2d036bf44428/f67dbcb9-fd5b-4d81-acc4-f080a7f81db4_cnmf-memmap_d1_170_d2_170_d3_1_order_C_frames_3000.mmap\n",
      "Decode mmap filename /home/kushalk/caiman_data/mesmerize-core-batch/09610b86-917a-41e7-a493-2d036bf44428/f67dbcb9-fd5b-4d81-acc4-f080a7f81db4_cnmf-memmap_d1_170_d2_170_d3_1_order_C_frames_3000.mmap\n",
      "Decode mmap filename /home/kushalk/caiman_data/mesmerize-core-batch/09610b86-917a-41e7-a493-2d036bf44428/f67dbcb9-fd5b-4d81-acc4-f080a7f81db4_cnmf-memmap_d1_170_d2_170_d3_1_order_C_frames_3000.mmap\n",
      "Decode mmap filename /home/kushalk/caiman_data/mesmerize-core-batch/09610b86-917a-41e7-a493-2d036bf44428/f67dbcb9-fd5b-4d81-acc4-f080a7f81db4_cnmf-memmap_d1_170_d2_170_d3_1_order_C_frames_3000.mmap\n",
      "Decode mmap filename /home/kushalk/caiman_data/mesmerize-core-batch/09610b86-917a-41e7-a493-2d036bf44428/f67dbcb9-fd5b-4d81-acc4-f080a7f81db4_cnmf-memmap_d1_170_d2_170_d3_1_order_C_frames_3000.mmap\n",
      "Decode mmap filename /home/kushalk/caiman_data/mesmerize-core-batch/09610b86-917a-41e7-a493-2d036bf44428/f67dbcb9-fd5b-4d81-acc4-f080a7f81db4_cnmf-memmap_d1_170_d2_170_d3_1_order_C_frames_3000.mmap\n",
      "Decode mmap filename /home/kushalk/caiman_data/mesmerize-core-batch/09610b86-917a-41e7-a493-2d036bf44428/f67dbcb9-fd5b-4d81-acc4-f080a7f81db4_cnmf-memmap_d1_170_d2_170_d3_1_order_C_frames_3000.mmap\n",
      "Decode mmap filename /home/kushalk/caiman_data/mesmerize-core-batch/09610b86-917a-41e7-a493-2d036bf44428/f67dbcb9-fd5b-4d81-acc4-f080a7f81db4_cnmf-memmap_d1_170_d2_170_d3_1_order_C_frames_3000.mmap\n",
      "Decode mmap filename /home/kushalk/caiman_data/mesmerize-core-batch/09610b86-917a-41e7-a493-2d036bf44428/f67dbcb9-fd5b-4d81-acc4-f080a7f81db4_cnmf-memmap_d1_170_d2_170_d3_1_order_C_frames_3000.mmap\n",
      "Decode mmap filename /home/kushalk/caiman_data/mesmerize-core-batch/09610b86-917a-41e7-a493-2d036bf44428/f67dbcb9-fd5b-4d81-acc4-f080a7f81db4_cnmf-memmap_d1_170_d2_170_d3_1_order_C_frames_3000.mmap\n",
      "Decode mmap filename /home/kushalk/caiman_data/mesmerize-core-batch/09610b86-917a-41e7-a493-2d036bf44428/f67dbcb9-fd5b-4d81-acc4-f080a7f81db4_cnmf-memmap_d1_170_d2_170_d3_1_order_C_frames_3000.mmap\n",
      "Decode mmap filename /home/kushalk/caiman_data/mesmerize-core-batch/09610b86-917a-41e7-a493-2d036bf44428/f67dbcb9-fd5b-4d81-acc4-f080a7f81db4_cnmf-memmap_d1_170_d2_170_d3_1_order_C_frames_3000.mmap\n",
      "Decode mmap filename /home/kushalk/caiman_data/mesmerize-core-batch/09610b86-917a-41e7-a493-2d036bf44428/f67dbcb9-fd5b-4d81-acc4-f080a7f81db4_cnmf-memmap_d1_170_d2_170_d3_1_order_C_frames_3000.mmap\n",
      "Decode mmap filename /home/kushalk/caiman_data/mesmerize-core-batch/09610b86-917a-41e7-a493-2d036bf44428/f67dbcb9-fd5b-4d81-acc4-f080a7f81db4_cnmf-memmap_d1_170_d2_170_d3_1_order_C_frames_3000.mmap\n",
      "Decode mmap filename /home/kushalk/caiman_data/mesmerize-core-batch/09610b86-917a-41e7-a493-2d036bf44428/f67dbcb9-fd5b-4d81-acc4-f080a7f81db4_cnmf-memmap_d1_170_d2_170_d3_1_order_C_frames_3000.mmap\n",
      "Decode mmap filename /home/kushalk/caiman_data/mesmerize-core-batch/09610b86-917a-41e7-a493-2d036bf44428/f67dbcb9-fd5b-4d81-acc4-f080a7f81db4_cnmf-memmap_d1_170_d2_170_d3_1_order_C_frames_3000.mmap\n",
      "Decode mmap filename /home/kushalk/caiman_data/mesmerize-core-batch/09610b86-917a-41e7-a493-2d036bf44428/f67dbcb9-fd5b-4d81-acc4-f080a7f81db4_cnmf-memmap_d1_170_d2_170_d3_1_order_C_frames_3000.mmap\n",
      "Decode mmap filename /home/kushalk/caiman_data/mesmerize-core-batch/09610b86-917a-41e7-a493-2d036bf44428/f67dbcb9-fd5b-4d81-acc4-f080a7f81db4_cnmf-memmap_d1_170_d2_170_d3_1_order_C_frames_3000.mmap\n",
      "Decode mmap filename /home/kushalk/caiman_data/mesmerize-core-batch/09610b86-917a-41e7-a493-2d036bf44428/f67dbcb9-fd5b-4d81-acc4-f080a7f81db4_cnmf-memmap_d1_170_d2_170_d3_1_order_C_frames_3000.mmap\n",
      "Decode mmap filename /home/kushalk/caiman_data/mesmerize-core-batch/09610b86-917a-41e7-a493-2d036bf44428/f67dbcb9-fd5b-4d81-acc4-f080a7f81db4_cnmf-memmap_d1_170_d2_170_d3_1_order_C_frames_3000.mmap\n",
      "Decode mmap filename /home/kushalk/caiman_data/mesmerize-core-batch/09610b86-917a-41e7-a493-2d036bf44428/f67dbcb9-fd5b-4d81-acc4-f080a7f81db4_cnmf-memmap_d1_170_d2_170_d3_1_order_C_frames_3000.mmap\n",
      "Decode mmap filename /home/kushalk/caiman_data/mesmerize-core-batch/09610b86-917a-41e7-a493-2d036bf44428/f67dbcb9-fd5b-4d81-acc4-f080a7f81db4_cnmf-memmap_d1_170_d2_170_d3_1_order_C_frames_3000.mmap\n",
      "Decode mmap filename /home/kushalk/caiman_data/mesmerize-core-batch/09610b86-917a-41e7-a493-2d036bf44428/f67dbcb9-fd5b-4d81-acc4-f080a7f81db4_cnmf-memmap_d1_170_d2_170_d3_1_order_C_frames_3000.mmap\n",
      "Decode mmap filename /home/kushalk/caiman_data/mesmerize-core-batch/09610b86-917a-41e7-a493-2d036bf44428/f67dbcb9-fd5b-4d81-acc4-f080a7f81db4_cnmf-memmap_d1_170_d2_170_d3_1_order_C_frames_3000.mmap\n",
      "Decode mmap filename /home/kushalk/caiman_data/mesmerize-core-batch/09610b86-917a-41e7-a493-2d036bf44428/f67dbcb9-fd5b-4d81-acc4-f080a7f81db4_cnmf-memmap_d1_170_d2_170_d3_1_order_C_frames_3000.mmap\n",
      "Decode mmap filename /home/kushalk/caiman_data/mesmerize-core-batch/09610b86-917a-41e7-a493-2d036bf44428/f67dbcb9-fd5b-4d81-acc4-f080a7f81db4_cnmf-memmap_d1_170_d2_170_d3_1_order_C_frames_3000.mmap\n",
      "Decode mmap filename /home/kushalk/caiman_data/mesmerize-core-batch/09610b86-917a-41e7-a493-2d036bf44428/f67dbcb9-fd5b-4d81-acc4-f080a7f81db4_cnmf-memmap_d1_170_d2_170_d3_1_order_C_frames_3000.mmap\n",
      "Decode mmap filename /home/kushalk/caiman_data/mesmerize-core-batch/09610b86-917a-41e7-a493-2d036bf44428/f67dbcb9-fd5b-4d81-acc4-f080a7f81db4_cnmf-memmap_d1_170_d2_170_d3_1_order_C_frames_3000.mmap\n",
      "Decode mmap filename /home/kushalk/caiman_data/mesmerize-core-batch/09610b86-917a-41e7-a493-2d036bf44428/f67dbcb9-fd5b-4d81-acc4-f080a7f81db4_cnmf-memmap_d1_170_d2_170_d3_1_order_C_frames_3000.mmap\n",
      "Decode mmap filename /home/kushalk/caiman_data/mesmerize-core-batch/09610b86-917a-41e7-a493-2d036bf44428/f67dbcb9-fd5b-4d81-acc4-f080a7f81db4_cnmf-memmap_d1_170_d2_170_d3_1_order_C_frames_3000.mmap\n",
      "Decode mmap filename /home/kushalk/caiman_data/mesmerize-core-batch/09610b86-917a-41e7-a493-2d036bf44428/f67dbcb9-fd5b-4d81-acc4-f080a7f81db4_cnmf-memmap_d1_170_d2_170_d3_1_order_C_frames_3000.mmap\n",
      "Decode mmap filename /home/kushalk/caiman_data/mesmerize-core-batch/09610b86-917a-41e7-a493-2d036bf44428/f67dbcb9-fd5b-4d81-acc4-f080a7f81db4_cnmf-memmap_d1_170_d2_170_d3_1_order_C_frames_3000.mmap\n",
      "Decode mmap filename /home/kushalk/caiman_data/mesmerize-core-batch/09610b86-917a-41e7-a493-2d036bf44428/f67dbcb9-fd5b-4d81-acc4-f080a7f81db4_cnmf-memmap_d1_170_d2_170_d3_1_order_C_frames_3000.mmap\n",
      "Decode mmap filename /home/kushalk/caiman_data/mesmerize-core-batch/09610b86-917a-41e7-a493-2d036bf44428/f67dbcb9-fd5b-4d81-acc4-f080a7f81db4_cnmf-memmap_d1_170_d2_170_d3_1_order_C_frames_3000.mmap\n",
      "Decode mmap filename /home/kushalk/caiman_data/mesmerize-core-batch/09610b86-917a-41e7-a493-2d036bf44428/f67dbcb9-fd5b-4d81-acc4-f080a7f81db4_cnmf-memmap_d1_170_d2_170_d3_1_order_C_frames_3000.mmap\n",
      "Decode mmap filename /home/kushalk/caiman_data/mesmerize-core-batch/09610b86-917a-41e7-a493-2d036bf44428/f67dbcb9-fd5b-4d81-acc4-f080a7f81db4_cnmf-memmap_d1_170_d2_170_d3_1_order_C_frames_3000.mmap\n",
      "Decode mmap filename /home/kushalk/caiman_data/mesmerize-core-batch/09610b86-917a-41e7-a493-2d036bf44428/f67dbcb9-fd5b-4d81-acc4-f080a7f81db4_cnmf-memmap_d1_170_d2_170_d3_1_order_C_frames_3000.mmap\n",
      "Decode mmap filename /home/kushalk/caiman_data/mesmerize-core-batch/09610b86-917a-41e7-a493-2d036bf44428/f67dbcb9-fd5b-4d81-acc4-f080a7f81db4_cnmf-memmap_d1_170_d2_170_d3_1_order_C_frames_3000.mmap\n",
      "Decode mmap filename /home/kushalk/caiman_data/mesmerize-core-batch/09610b86-917a-41e7-a493-2d036bf44428/f67dbcb9-fd5b-4d81-acc4-f080a7f81db4_cnmf-memmap_d1_170_d2_170_d3_1_order_C_frames_3000.mmap\n",
      "Decode mmap filename /home/kushalk/caiman_data/mesmerize-core-batch/09610b86-917a-41e7-a493-2d036bf44428/f67dbcb9-fd5b-4d81-acc4-f080a7f81db4_cnmf-memmap_d1_170_d2_170_d3_1_order_C_frames_3000.mmap\n",
      "Decode mmap filename /home/kushalk/caiman_data/mesmerize-core-batch/09610b86-917a-41e7-a493-2d036bf44428/f67dbcb9-fd5b-4d81-acc4-f080a7f81db4_cnmf-memmap_d1_170_d2_170_d3_1_order_C_frames_3000.mmap\n",
      "Decode mmap filename /home/kushalk/caiman_data/mesmerize-core-batch/09610b86-917a-41e7-a493-2d036bf44428/f67dbcb9-fd5b-4d81-acc4-f080a7f81db4_cnmf-memmap_d1_170_d2_170_d3_1_order_C_frames_3000.mmap\n",
      "Decode mmap filename /home/kushalk/caiman_data/mesmerize-core-batch/09610b86-917a-41e7-a493-2d036bf44428/f67dbcb9-fd5b-4d81-acc4-f080a7f81db4_cnmf-memmap_d1_170_d2_170_d3_1_order_C_frames_3000.mmap\n",
      "Decode mmap filename /home/kushalk/caiman_data/mesmerize-core-batch/09610b86-917a-41e7-a493-2d036bf44428/f67dbcb9-fd5b-4d81-acc4-f080a7f81db4_cnmf-memmap_d1_170_d2_170_d3_1_order_C_frames_3000.mmap\n",
      "Decode mmap filename /home/kushalk/caiman_data/mesmerize-core-batch/09610b86-917a-41e7-a493-2d036bf44428/f67dbcb9-fd5b-4d81-acc4-f080a7f81db4_cnmf-memmap_d1_170_d2_170_d3_1_order_C_frames_3000.mmap\n",
      "Decode mmap filename /home/kushalk/caiman_data/mesmerize-core-batch/09610b86-917a-41e7-a493-2d036bf44428/f67dbcb9-fd5b-4d81-acc4-f080a7f81db4_cnmf-memmap_d1_170_d2_170_d3_1_order_C_frames_3000.mmap\n",
      "Decode mmap filename /home/kushalk/caiman_data/mesmerize-core-batch/09610b86-917a-41e7-a493-2d036bf44428/f67dbcb9-fd5b-4d81-acc4-f080a7f81db4_cnmf-memmap_d1_170_d2_170_d3_1_order_C_frames_3000.mmap\n",
      "Decode mmap filename /home/kushalk/caiman_data/mesmerize-core-batch/09610b86-917a-41e7-a493-2d036bf44428/f67dbcb9-fd5b-4d81-acc4-f080a7f81db4_cnmf-memmap_d1_170_d2_170_d3_1_order_C_frames_3000.mmap\n",
      "Decode mmap filename /home/kushalk/caiman_data/mesmerize-core-batch/09610b86-917a-41e7-a493-2d036bf44428/f67dbcb9-fd5b-4d81-acc4-f080a7f81db4_cnmf-memmap_d1_170_d2_170_d3_1_order_C_frames_3000.mmap\n",
      "Decode mmap filename /home/kushalk/caiman_data/mesmerize-core-batch/09610b86-917a-41e7-a493-2d036bf44428/f67dbcb9-fd5b-4d81-acc4-f080a7f81db4_cnmf-memmap_d1_170_d2_170_d3_1_order_C_frames_3000.mmap\n",
      "Decode mmap filename /home/kushalk/caiman_data/mesmerize-core-batch/09610b86-917a-41e7-a493-2d036bf44428/f67dbcb9-fd5b-4d81-acc4-f080a7f81db4_cnmf-memmap_d1_170_d2_170_d3_1_order_C_frames_3000.mmap\n",
      "Decode mmap filename /home/kushalk/caiman_data/mesmerize-core-batch/09610b86-917a-41e7-a493-2d036bf44428/f67dbcb9-fd5b-4d81-acc4-f080a7f81db4_cnmf-memmap_d1_170_d2_170_d3_1_order_C_frames_3000.mmap\n",
      "Decode mmap filename /home/kushalk/caiman_data/mesmerize-core-batch/09610b86-917a-41e7-a493-2d036bf44428/f67dbcb9-fd5b-4d81-acc4-f080a7f81db4_cnmf-memmap_d1_170_d2_170_d3_1_order_C_frames_3000.mmap\n",
      "Decode mmap filename /home/kushalk/caiman_data/mesmerize-core-batch/09610b86-917a-41e7-a493-2d036bf44428/f67dbcb9-fd5b-4d81-acc4-f080a7f81db4_cnmf-memmap_d1_170_d2_170_d3_1_order_C_frames_3000.mmap\n",
      "Decode mmap filename /home/kushalk/caiman_data/mesmerize-core-batch/09610b86-917a-41e7-a493-2d036bf44428/f67dbcb9-fd5b-4d81-acc4-f080a7f81db4_cnmf-memmap_d1_170_d2_170_d3_1_order_C_frames_3000.mmap\n",
      "Decode mmap filename /home/kushalk/caiman_data/mesmerize-core-batch/09610b86-917a-41e7-a493-2d036bf44428/f67dbcb9-fd5b-4d81-acc4-f080a7f81db4_cnmf-memmap_d1_170_d2_170_d3_1_order_C_frames_3000.mmap\n",
      "Decode mmap filename /home/kushalk/caiman_data/mesmerize-core-batch/09610b86-917a-41e7-a493-2d036bf44428/f67dbcb9-fd5b-4d81-acc4-f080a7f81db4_cnmf-memmap_d1_170_d2_170_d3_1_order_C_frames_3000.mmap\n",
      "Decode mmap filename /home/kushalk/caiman_data/mesmerize-core-batch/09610b86-917a-41e7-a493-2d036bf44428/f67dbcb9-fd5b-4d81-acc4-f080a7f81db4_cnmf-memmap_d1_170_d2_170_d3_1_order_C_frames_3000.mmap\n",
      "Decode mmap filename /home/kushalk/caiman_data/mesmerize-core-batch/09610b86-917a-41e7-a493-2d036bf44428/f67dbcb9-fd5b-4d81-acc4-f080a7f81db4_cnmf-memmap_d1_170_d2_170_d3_1_order_C_frames_3000.mmap\n",
      "Decode mmap filename /home/kushalk/caiman_data/mesmerize-core-batch/09610b86-917a-41e7-a493-2d036bf44428/f67dbcb9-fd5b-4d81-acc4-f080a7f81db4_cnmf-memmap_d1_170_d2_170_d3_1_order_C_frames_3000.mmap\n",
      "Decode mmap filename /home/kushalk/caiman_data/mesmerize-core-batch/09610b86-917a-41e7-a493-2d036bf44428/f67dbcb9-fd5b-4d81-acc4-f080a7f81db4_cnmf-memmap_d1_170_d2_170_d3_1_order_C_frames_3000.mmap\n",
      "Decode mmap filename /home/kushalk/caiman_data/mesmerize-core-batch/09610b86-917a-41e7-a493-2d036bf44428/f67dbcb9-fd5b-4d81-acc4-f080a7f81db4_cnmf-memmap_d1_170_d2_170_d3_1_order_C_frames_3000.mmap\n",
      "Decode mmap filename /home/kushalk/caiman_data/mesmerize-core-batch/09610b86-917a-41e7-a493-2d036bf44428/f67dbcb9-fd5b-4d81-acc4-f080a7f81db4_cnmf-memmap_d1_170_d2_170_d3_1_order_C_frames_3000.mmap\n",
      "Decode mmap filename /home/kushalk/caiman_data/mesmerize-core-batch/09610b86-917a-41e7-a493-2d036bf44428/f67dbcb9-fd5b-4d81-acc4-f080a7f81db4_cnmf-memmap_d1_170_d2_170_d3_1_order_C_frames_3000.mmap\n",
      "Decode mmap filename /home/kushalk/caiman_data/mesmerize-core-batch/09610b86-917a-41e7-a493-2d036bf44428/f67dbcb9-fd5b-4d81-acc4-f080a7f81db4_cnmf-memmap_d1_170_d2_170_d3_1_order_C_frames_3000.mmap\n",
      "Decode mmap filename /home/kushalk/caiman_data/mesmerize-core-batch/09610b86-917a-41e7-a493-2d036bf44428/f67dbcb9-fd5b-4d81-acc4-f080a7f81db4_cnmf-memmap_d1_170_d2_170_d3_1_order_C_frames_3000.mmap\n",
      "Decode mmap filename /home/kushalk/caiman_data/mesmerize-core-batch/09610b86-917a-41e7-a493-2d036bf44428/f67dbcb9-fd5b-4d81-acc4-f080a7f81db4_cnmf-memmap_d1_170_d2_170_d3_1_order_C_frames_3000.mmap\n",
      "Decode mmap filename /home/kushalk/caiman_data/mesmerize-core-batch/09610b86-917a-41e7-a493-2d036bf44428/f67dbcb9-fd5b-4d81-acc4-f080a7f81db4_cnmf-memmap_d1_170_d2_170_d3_1_order_C_frames_3000.mmap\n",
      "Decode mmap filename /home/kushalk/caiman_data/mesmerize-core-batch/09610b86-917a-41e7-a493-2d036bf44428/f67dbcb9-fd5b-4d81-acc4-f080a7f81db4_cnmf-memmap_d1_170_d2_170_d3_1_order_C_frames_3000.mmap\n",
      "Decode mmap filename /home/kushalk/caiman_data/mesmerize-core-batch/09610b86-917a-41e7-a493-2d036bf44428/f67dbcb9-fd5b-4d81-acc4-f080a7f81db4_cnmf-memmap_d1_170_d2_170_d3_1_order_C_frames_3000.mmap\n",
      "Decode mmap filename /home/kushalk/caiman_data/mesmerize-core-batch/09610b86-917a-41e7-a493-2d036bf44428/f67dbcb9-fd5b-4d81-acc4-f080a7f81db4_cnmf-memmap_d1_170_d2_170_d3_1_order_C_frames_3000.mmap\n",
      "Decode mmap filename /home/kushalk/caiman_data/mesmerize-core-batch/09610b86-917a-41e7-a493-2d036bf44428/f67dbcb9-fd5b-4d81-acc4-f080a7f81db4_cnmf-memmap_d1_170_d2_170_d3_1_order_C_frames_3000.mmap\n",
      "Decode mmap filename /home/kushalk/caiman_data/mesmerize-core-batch/09610b86-917a-41e7-a493-2d036bf44428/f67dbcb9-fd5b-4d81-acc4-f080a7f81db4_cnmf-memmap_d1_170_d2_170_d3_1_order_C_frames_3000.mmap\n",
      "Decode mmap filename /home/kushalk/caiman_data/mesmerize-core-batch/09610b86-917a-41e7-a493-2d036bf44428/f67dbcb9-fd5b-4d81-acc4-f080a7f81db4_cnmf-memmap_d1_170_d2_170_d3_1_order_C_frames_3000.mmap\n",
      "Decode mmap filename /home/kushalk/caiman_data/mesmerize-core-batch/09610b86-917a-41e7-a493-2d036bf44428/f67dbcb9-fd5b-4d81-acc4-f080a7f81db4_cnmf-memmap_d1_170_d2_170_d3_1_order_C_frames_3000.mmap\n",
      "Decode mmap filename /home/kushalk/caiman_data/mesmerize-core-batch/09610b86-917a-41e7-a493-2d036bf44428/f67dbcb9-fd5b-4d81-acc4-f080a7f81db4_cnmf-memmap_d1_170_d2_170_d3_1_order_C_frames_3000.mmap\n",
      "Decode mmap filename /home/kushalk/caiman_data/mesmerize-core-batch/09610b86-917a-41e7-a493-2d036bf44428/f67dbcb9-fd5b-4d81-acc4-f080a7f81db4_cnmf-memmap_d1_170_d2_170_d3_1_order_C_frames_3000.mmap\n",
      "Decode mmap filename /home/kushalk/caiman_data/mesmerize-core-batch/09610b86-917a-41e7-a493-2d036bf44428/f67dbcb9-fd5b-4d81-acc4-f080a7f81db4_cnmf-memmap_d1_170_d2_170_d3_1_order_C_frames_3000.mmap\n",
      "Decode mmap filename /home/kushalk/caiman_data/mesmerize-core-batch/09610b86-917a-41e7-a493-2d036bf44428/f67dbcb9-fd5b-4d81-acc4-f080a7f81db4_cnmf-memmap_d1_170_d2_170_d3_1_order_C_frames_3000.mmap\n",
      "Decode mmap filename /home/kushalk/caiman_data/mesmerize-core-batch/09610b86-917a-41e7-a493-2d036bf44428/f67dbcb9-fd5b-4d81-acc4-f080a7f81db4_cnmf-memmap_d1_170_d2_170_d3_1_order_C_frames_3000.mmap\n",
      "Decode mmap filename /home/kushalk/caiman_data/mesmerize-core-batch/09610b86-917a-41e7-a493-2d036bf44428/f67dbcb9-fd5b-4d81-acc4-f080a7f81db4_cnmf-memmap_d1_170_d2_170_d3_1_order_C_frames_3000.mmap\n",
      "Decode mmap filename /home/kushalk/caiman_data/mesmerize-core-batch/09610b86-917a-41e7-a493-2d036bf44428/f67dbcb9-fd5b-4d81-acc4-f080a7f81db4_cnmf-memmap_d1_170_d2_170_d3_1_order_C_frames_3000.mmap\n",
      "Decode mmap filename /home/kushalk/caiman_data/mesmerize-core-batch/09610b86-917a-41e7-a493-2d036bf44428/f67dbcb9-fd5b-4d81-acc4-f080a7f81db4_cnmf-memmap_d1_170_d2_170_d3_1_order_C_frames_3000.mmap\n",
      "Decode mmap filename /home/kushalk/caiman_data/mesmerize-core-batch/09610b86-917a-41e7-a493-2d036bf44428/f67dbcb9-fd5b-4d81-acc4-f080a7f81db4_cnmf-memmap_d1_170_d2_170_d3_1_order_C_frames_3000.mmap\n",
      "Decode mmap filename /home/kushalk/caiman_data/mesmerize-core-batch/09610b86-917a-41e7-a493-2d036bf44428/f67dbcb9-fd5b-4d81-acc4-f080a7f81db4_cnmf-memmap_d1_170_d2_170_d3_1_order_C_frames_3000.mmap\n",
      "Decode mmap filename /home/kushalk/caiman_data/mesmerize-core-batch/09610b86-917a-41e7-a493-2d036bf44428/f67dbcb9-fd5b-4d81-acc4-f080a7f81db4_cnmf-memmap_d1_170_d2_170_d3_1_order_C_frames_3000.mmap\n",
      "Decode mmap filename /home/kushalk/caiman_data/mesmerize-core-batch/09610b86-917a-41e7-a493-2d036bf44428/f67dbcb9-fd5b-4d81-acc4-f080a7f81db4_cnmf-memmap_d1_170_d2_170_d3_1_order_C_frames_3000.mmap\n",
      "Decode mmap filename /home/kushalk/caiman_data/mesmerize-core-batch/09610b86-917a-41e7-a493-2d036bf44428/f67dbcb9-fd5b-4d81-acc4-f080a7f81db4_cnmf-memmap_d1_170_d2_170_d3_1_order_C_frames_3000.mmap\n",
      "Decode mmap filename /home/kushalk/caiman_data/mesmerize-core-batch/09610b86-917a-41e7-a493-2d036bf44428/f67dbcb9-fd5b-4d81-acc4-f080a7f81db4_cnmf-memmap_d1_170_d2_170_d3_1_order_C_frames_3000.mmap\n",
      "Decode mmap filename /home/kushalk/caiman_data/mesmerize-core-batch/09610b86-917a-41e7-a493-2d036bf44428/f67dbcb9-fd5b-4d81-acc4-f080a7f81db4_cnmf-memmap_d1_170_d2_170_d3_1_order_C_frames_3000.mmap\n",
      "Decode mmap filename /home/kushalk/caiman_data/mesmerize-core-batch/09610b86-917a-41e7-a493-2d036bf44428/f67dbcb9-fd5b-4d81-acc4-f080a7f81db4_cnmf-memmap_d1_170_d2_170_d3_1_order_C_frames_3000.mmap\n",
      "Decode mmap filename /home/kushalk/caiman_data/mesmerize-core-batch/09610b86-917a-41e7-a493-2d036bf44428/f67dbcb9-fd5b-4d81-acc4-f080a7f81db4_cnmf-memmap_d1_170_d2_170_d3_1_order_C_frames_3000.mmap\n",
      "Decode mmap filename /home/kushalk/caiman_data/mesmerize-core-batch/09610b86-917a-41e7-a493-2d036bf44428/f67dbcb9-fd5b-4d81-acc4-f080a7f81db4_cnmf-memmap_d1_170_d2_170_d3_1_order_C_frames_3000.mmap\n",
      "Decode mmap filename /home/kushalk/caiman_data/mesmerize-core-batch/09610b86-917a-41e7-a493-2d036bf44428/f67dbcb9-fd5b-4d81-acc4-f080a7f81db4_cnmf-memmap_d1_170_d2_170_d3_1_order_C_frames_3000.mmap\n",
      "Decode mmap filename /home/kushalk/caiman_data/mesmerize-core-batch/09610b86-917a-41e7-a493-2d036bf44428/f67dbcb9-fd5b-4d81-acc4-f080a7f81db4_cnmf-memmap_d1_170_d2_170_d3_1_order_C_frames_3000.mmap\n",
      "Decode mmap filename /home/kushalk/caiman_data/mesmerize-core-batch/09610b86-917a-41e7-a493-2d036bf44428/f67dbcb9-fd5b-4d81-acc4-f080a7f81db4_cnmf-memmap_d1_170_d2_170_d3_1_order_C_frames_3000.mmap\n",
      "Decode mmap filename /home/kushalk/caiman_data/mesmerize-core-batch/09610b86-917a-41e7-a493-2d036bf44428/f67dbcb9-fd5b-4d81-acc4-f080a7f81db4_cnmf-memmap_d1_170_d2_170_d3_1_order_C_frames_3000.mmap\n",
      "Decode mmap filename /home/kushalk/caiman_data/mesmerize-core-batch/09610b86-917a-41e7-a493-2d036bf44428/f67dbcb9-fd5b-4d81-acc4-f080a7f81db4_cnmf-memmap_d1_170_d2_170_d3_1_order_C_frames_3000.mmap\n",
      "Decode mmap filename /home/kushalk/caiman_data/mesmerize-core-batch/09610b86-917a-41e7-a493-2d036bf44428/f67dbcb9-fd5b-4d81-acc4-f080a7f81db4_cnmf-memmap_d1_170_d2_170_d3_1_order_C_frames_3000.mmap\n",
      "Decode mmap filename /home/kushalk/caiman_data/mesmerize-core-batch/09610b86-917a-41e7-a493-2d036bf44428/f67dbcb9-fd5b-4d81-acc4-f080a7f81db4_cnmf-memmap_d1_170_d2_170_d3_1_order_C_frames_3000.mmap\n",
      "Decode mmap filename /home/kushalk/caiman_data/mesmerize-core-batch/09610b86-917a-41e7-a493-2d036bf44428/f67dbcb9-fd5b-4d81-acc4-f080a7f81db4_cnmf-memmap_d1_170_d2_170_d3_1_order_C_frames_3000.mmap\n",
      "Decode mmap filename /home/kushalk/caiman_data/mesmerize-core-batch/09610b86-917a-41e7-a493-2d036bf44428/f67dbcb9-fd5b-4d81-acc4-f080a7f81db4_cnmf-memmap_d1_170_d2_170_d3_1_order_C_frames_3000.mmap\n",
      "Decode mmap filename /home/kushalk/caiman_data/mesmerize-core-batch/09610b86-917a-41e7-a493-2d036bf44428/f67dbcb9-fd5b-4d81-acc4-f080a7f81db4_cnmf-memmap_d1_170_d2_170_d3_1_order_C_frames_3000.mmap\n",
      "Decode mmap filename /home/kushalk/caiman_data/mesmerize-core-batch/09610b86-917a-41e7-a493-2d036bf44428/f67dbcb9-fd5b-4d81-acc4-f080a7f81db4_cnmf-memmap_d1_170_d2_170_d3_1_order_C_frames_3000.mmap\n",
      "Decode mmap filename /home/kushalk/caiman_data/mesmerize-core-batch/09610b86-917a-41e7-a493-2d036bf44428/f67dbcb9-fd5b-4d81-acc4-f080a7f81db4_cnmf-memmap_d1_170_d2_170_d3_1_order_C_frames_3000.mmap\n",
      "Decode mmap filename /home/kushalk/caiman_data/mesmerize-core-batch/09610b86-917a-41e7-a493-2d036bf44428/f67dbcb9-fd5b-4d81-acc4-f080a7f81db4_cnmf-memmap_d1_170_d2_170_d3_1_order_C_frames_3000.mmap\n",
      "Decode mmap filename /home/kushalk/caiman_data/mesmerize-core-batch/09610b86-917a-41e7-a493-2d036bf44428/f67dbcb9-fd5b-4d81-acc4-f080a7f81db4_cnmf-memmap_d1_170_d2_170_d3_1_order_C_frames_3000.mmap\n",
      "Decode mmap filename /home/kushalk/caiman_data/mesmerize-core-batch/09610b86-917a-41e7-a493-2d036bf44428/f67dbcb9-fd5b-4d81-acc4-f080a7f81db4_cnmf-memmap_d1_170_d2_170_d3_1_order_C_frames_3000.mmap\n",
      "Decode mmap filename /home/kushalk/caiman_data/mesmerize-core-batch/09610b86-917a-41e7-a493-2d036bf44428/f67dbcb9-fd5b-4d81-acc4-f080a7f81db4_cnmf-memmap_d1_170_d2_170_d3_1_order_C_frames_3000.mmap\n",
      "Decode mmap filename /home/kushalk/caiman_data/mesmerize-core-batch/09610b86-917a-41e7-a493-2d036bf44428/f67dbcb9-fd5b-4d81-acc4-f080a7f81db4_cnmf-memmap_d1_170_d2_170_d3_1_order_C_frames_3000.mmap\n",
      "Decode mmap filename /home/kushalk/caiman_data/mesmerize-core-batch/09610b86-917a-41e7-a493-2d036bf44428/f67dbcb9-fd5b-4d81-acc4-f080a7f81db4_cnmf-memmap_d1_170_d2_170_d3_1_order_C_frames_3000.mmap\n",
      "Decode mmap filename /home/kushalk/caiman_data/mesmerize-core-batch/09610b86-917a-41e7-a493-2d036bf44428/f67dbcb9-fd5b-4d81-acc4-f080a7f81db4_cnmf-memmap_d1_170_d2_170_d3_1_order_C_frames_3000.mmap\n",
      "Decode mmap filename /home/kushalk/caiman_data/mesmerize-core-batch/09610b86-917a-41e7-a493-2d036bf44428/f67dbcb9-fd5b-4d81-acc4-f080a7f81db4_cnmf-memmap_d1_170_d2_170_d3_1_order_C_frames_3000.mmap\n",
      "Decode mmap filename /home/kushalk/caiman_data/mesmerize-core-batch/09610b86-917a-41e7-a493-2d036bf44428/f67dbcb9-fd5b-4d81-acc4-f080a7f81db4_cnmf-memmap_d1_170_d2_170_d3_1_order_C_frames_3000.mmap\n",
      "Decode mmap filename /home/kushalk/caiman_data/mesmerize-core-batch/09610b86-917a-41e7-a493-2d036bf44428/f67dbcb9-fd5b-4d81-acc4-f080a7f81db4_cnmf-memmap_d1_170_d2_170_d3_1_order_C_frames_3000.mmap\n",
      "Decode mmap filename /home/kushalk/caiman_data/mesmerize-core-batch/09610b86-917a-41e7-a493-2d036bf44428/f67dbcb9-fd5b-4d81-acc4-f080a7f81db4_cnmf-memmap_d1_170_d2_170_d3_1_order_C_frames_3000.mmap\n",
      "Decode mmap filename /home/kushalk/caiman_data/mesmerize-core-batch/09610b86-917a-41e7-a493-2d036bf44428/f67dbcb9-fd5b-4d81-acc4-f080a7f81db4_cnmf-memmap_d1_170_d2_170_d3_1_order_C_frames_3000.mmap\n",
      "Decode mmap filename /home/kushalk/caiman_data/mesmerize-core-batch/09610b86-917a-41e7-a493-2d036bf44428/f67dbcb9-fd5b-4d81-acc4-f080a7f81db4_cnmf-memmap_d1_170_d2_170_d3_1_order_C_frames_3000.mmap\n",
      "Decode mmap filename /home/kushalk/caiman_data/mesmerize-core-batch/09610b86-917a-41e7-a493-2d036bf44428/f67dbcb9-fd5b-4d81-acc4-f080a7f81db4_cnmf-memmap_d1_170_d2_170_d3_1_order_C_frames_3000.mmap\n",
      "Decode mmap filename /home/kushalk/caiman_data/mesmerize-core-batch/09610b86-917a-41e7-a493-2d036bf44428/f67dbcb9-fd5b-4d81-acc4-f080a7f81db4_cnmf-memmap_d1_170_d2_170_d3_1_order_C_frames_3000.mmap\n",
      "Decode mmap filename /home/kushalk/caiman_data/mesmerize-core-batch/09610b86-917a-41e7-a493-2d036bf44428/f67dbcb9-fd5b-4d81-acc4-f080a7f81db4_cnmf-memmap_d1_170_d2_170_d3_1_order_C_frames_3000.mmap\n",
      "Decode mmap filename /home/kushalk/caiman_data/mesmerize-core-batch/09610b86-917a-41e7-a493-2d036bf44428/f67dbcb9-fd5b-4d81-acc4-f080a7f81db4_cnmf-memmap_d1_170_d2_170_d3_1_order_C_frames_3000.mmap\n",
      "Decode mmap filename /home/kushalk/caiman_data/mesmerize-core-batch/09610b86-917a-41e7-a493-2d036bf44428/f67dbcb9-fd5b-4d81-acc4-f080a7f81db4_cnmf-memmap_d1_170_d2_170_d3_1_order_C_frames_3000.mmap\n",
      "Decode mmap filename /home/kushalk/caiman_data/mesmerize-core-batch/09610b86-917a-41e7-a493-2d036bf44428/f67dbcb9-fd5b-4d81-acc4-f080a7f81db4_cnmf-memmap_d1_170_d2_170_d3_1_order_C_frames_3000.mmap\n",
      "Decode mmap filename /home/kushalk/caiman_data/mesmerize-core-batch/09610b86-917a-41e7-a493-2d036bf44428/f67dbcb9-fd5b-4d81-acc4-f080a7f81db4_cnmf-memmap_d1_170_d2_170_d3_1_order_C_frames_3000.mmap\n",
      "Decode mmap filename /home/kushalk/caiman_data/mesmerize-core-batch/09610b86-917a-41e7-a493-2d036bf44428/f67dbcb9-fd5b-4d81-acc4-f080a7f81db4_cnmf-memmap_d1_170_d2_170_d3_1_order_C_frames_3000.mmap\n",
      "Decode mmap filename /home/kushalk/caiman_data/mesmerize-core-batch/09610b86-917a-41e7-a493-2d036bf44428/f67dbcb9-fd5b-4d81-acc4-f080a7f81db4_cnmf-memmap_d1_170_d2_170_d3_1_order_C_frames_3000.mmap\n",
      "Decode mmap filename /home/kushalk/caiman_data/mesmerize-core-batch/09610b86-917a-41e7-a493-2d036bf44428/f67dbcb9-fd5b-4d81-acc4-f080a7f81db4_cnmf-memmap_d1_170_d2_170_d3_1_order_C_frames_3000.mmap\n",
      "Decode mmap filename /home/kushalk/caiman_data/mesmerize-core-batch/09610b86-917a-41e7-a493-2d036bf44428/f67dbcb9-fd5b-4d81-acc4-f080a7f81db4_cnmf-memmap_d1_170_d2_170_d3_1_order_C_frames_3000.mmap\n",
      "Decode mmap filename /home/kushalk/caiman_data/mesmerize-core-batch/09610b86-917a-41e7-a493-2d036bf44428/f67dbcb9-fd5b-4d81-acc4-f080a7f81db4_cnmf-memmap_d1_170_d2_170_d3_1_order_C_frames_3000.mmap\n",
      "Decode mmap filename /home/kushalk/caiman_data/mesmerize-core-batch/09610b86-917a-41e7-a493-2d036bf44428/f67dbcb9-fd5b-4d81-acc4-f080a7f81db4_cnmf-memmap_d1_170_d2_170_d3_1_order_C_frames_3000.mmap\n",
      "Decode mmap filename /home/kushalk/caiman_data/mesmerize-core-batch/09610b86-917a-41e7-a493-2d036bf44428/f67dbcb9-fd5b-4d81-acc4-f080a7f81db4_cnmf-memmap_d1_170_d2_170_d3_1_order_C_frames_3000.mmap\n",
      "Decode mmap filename /home/kushalk/caiman_data/mesmerize-core-batch/09610b86-917a-41e7-a493-2d036bf44428/f67dbcb9-fd5b-4d81-acc4-f080a7f81db4_cnmf-memmap_d1_170_d2_170_d3_1_order_C_frames_3000.mmap\n",
      "Decode mmap filename /home/kushalk/caiman_data/mesmerize-core-batch/09610b86-917a-41e7-a493-2d036bf44428/f67dbcb9-fd5b-4d81-acc4-f080a7f81db4_cnmf-memmap_d1_170_d2_170_d3_1_order_C_frames_3000.mmap\n",
      "Decode mmap filename /home/kushalk/caiman_data/mesmerize-core-batch/09610b86-917a-41e7-a493-2d036bf44428/f67dbcb9-fd5b-4d81-acc4-f080a7f81db4_cnmf-memmap_d1_170_d2_170_d3_1_order_C_frames_3000.mmap\n",
      "Decode mmap filename /home/kushalk/caiman_data/mesmerize-core-batch/09610b86-917a-41e7-a493-2d036bf44428/f67dbcb9-fd5b-4d81-acc4-f080a7f81db4_cnmf-memmap_d1_170_d2_170_d3_1_order_C_frames_3000.mmap\n",
      "Decode mmap filename /home/kushalk/caiman_data/mesmerize-core-batch/09610b86-917a-41e7-a493-2d036bf44428/f67dbcb9-fd5b-4d81-acc4-f080a7f81db4_cnmf-memmap_d1_170_d2_170_d3_1_order_C_frames_3000.mmap\n",
      "Decode mmap filename /home/kushalk/caiman_data/mesmerize-core-batch/09610b86-917a-41e7-a493-2d036bf44428/f67dbcb9-fd5b-4d81-acc4-f080a7f81db4_cnmf-memmap_d1_170_d2_170_d3_1_order_C_frames_3000.mmap\n",
      "Decode mmap filename /home/kushalk/caiman_data/mesmerize-core-batch/09610b86-917a-41e7-a493-2d036bf44428/f67dbcb9-fd5b-4d81-acc4-f080a7f81db4_cnmf-memmap_d1_170_d2_170_d3_1_order_C_frames_3000.mmap\n",
      "Decode mmap filename /home/kushalk/caiman_data/mesmerize-core-batch/09610b86-917a-41e7-a493-2d036bf44428/f67dbcb9-fd5b-4d81-acc4-f080a7f81db4_cnmf-memmap_d1_170_d2_170_d3_1_order_C_frames_3000.mmap\n",
      "Decode mmap filename /home/kushalk/caiman_data/mesmerize-core-batch/09610b86-917a-41e7-a493-2d036bf44428/f67dbcb9-fd5b-4d81-acc4-f080a7f81db4_cnmf-memmap_d1_170_d2_170_d3_1_order_C_frames_3000.mmap\n",
      "Decode mmap filename /home/kushalk/caiman_data/mesmerize-core-batch/09610b86-917a-41e7-a493-2d036bf44428/f67dbcb9-fd5b-4d81-acc4-f080a7f81db4_cnmf-memmap_d1_170_d2_170_d3_1_order_C_frames_3000.mmap\n",
      "Decode mmap filename /home/kushalk/caiman_data/mesmerize-core-batch/09610b86-917a-41e7-a493-2d036bf44428/f67dbcb9-fd5b-4d81-acc4-f080a7f81db4_cnmf-memmap_d1_170_d2_170_d3_1_order_C_frames_3000.mmap\n",
      "Decode mmap filename /home/kushalk/caiman_data/mesmerize-core-batch/09610b86-917a-41e7-a493-2d036bf44428/f67dbcb9-fd5b-4d81-acc4-f080a7f81db4_cnmf-memmap_d1_170_d2_170_d3_1_order_C_frames_3000.mmap\n",
      "Decode mmap filename /home/kushalk/caiman_data/mesmerize-core-batch/09610b86-917a-41e7-a493-2d036bf44428/f67dbcb9-fd5b-4d81-acc4-f080a7f81db4_cnmf-memmap_d1_170_d2_170_d3_1_order_C_frames_3000.mmap\n",
      "Decode mmap filename /home/kushalk/caiman_data/mesmerize-core-batch/09610b86-917a-41e7-a493-2d036bf44428/f67dbcb9-fd5b-4d81-acc4-f080a7f81db4_cnmf-memmap_d1_170_d2_170_d3_1_order_C_frames_3000.mmap\n",
      "Decode mmap filename /home/kushalk/caiman_data/mesmerize-core-batch/09610b86-917a-41e7-a493-2d036bf44428/f67dbcb9-fd5b-4d81-acc4-f080a7f81db4_cnmf-memmap_d1_170_d2_170_d3_1_order_C_frames_3000.mmap\n",
      "Decode mmap filename /home/kushalk/caiman_data/mesmerize-core-batch/09610b86-917a-41e7-a493-2d036bf44428/f67dbcb9-fd5b-4d81-acc4-f080a7f81db4_cnmf-memmap_d1_170_d2_170_d3_1_order_C_frames_3000.mmap\n",
      "Decode mmap filename /home/kushalk/caiman_data/mesmerize-core-batch/09610b86-917a-41e7-a493-2d036bf44428/f67dbcb9-fd5b-4d81-acc4-f080a7f81db4_cnmf-memmap_d1_170_d2_170_d3_1_order_C_frames_3000.mmap\n",
      "Decode mmap filename /home/kushalk/caiman_data/mesmerize-core-batch/09610b86-917a-41e7-a493-2d036bf44428/f67dbcb9-fd5b-4d81-acc4-f080a7f81db4_cnmf-memmap_d1_170_d2_170_d3_1_order_C_frames_3000.mmap\n"
     ]
    },
    {
     "name": "stderr",
     "output_type": "stream",
     "text": [
      "2023-01-08 01:32:21.996558: I tensorflow/core/platform/cpu_feature_guard.cc:193] This TensorFlow binary is optimized with oneAPI Deep Neural Network Library (oneDNN) to use the following CPU instructions in performance-critical operations:  AVX2 FMA\n",
      "To enable them in other operations, rebuild TensorFlow with the appropriate compiler flags.\n",
      "2023-01-08 01:32:22.079519: E tensorflow/stream_executor/cuda/cuda_blas.cc:2981] Unable to register cuBLAS factory: Attempting to register factory for plugin cuBLAS when one has already been registered\n",
      "2023-01-08 01:32:22.452268: W tensorflow/stream_executor/platform/default/dso_loader.cc:64] Could not load dynamic library 'libnvinfer.so.7'; dlerror: libnvinfer.so.7: cannot open shared object file: No such file or directory; LD_LIBRARY_PATH: /home/kushalk/python-venvs/mescore/lib/python3.10/site-packages/cv2/../../lib64:/home/kushalk/python-venvs/mescore/lib/python3.10/site-packages/cv2/../../lib64:/usr/local/cuda-11.2/lib64:/usr/local/cuda-11.2/lib64\n",
      "2023-01-08 01:32:22.452324: W tensorflow/stream_executor/platform/default/dso_loader.cc:64] Could not load dynamic library 'libnvinfer_plugin.so.7'; dlerror: libnvinfer_plugin.so.7: cannot open shared object file: No such file or directory; LD_LIBRARY_PATH: /home/kushalk/python-venvs/mescore/lib/python3.10/site-packages/cv2/../../lib64:/home/kushalk/python-venvs/mescore/lib/python3.10/site-packages/cv2/../../lib64:/usr/local/cuda-11.2/lib64:/usr/local/cuda-11.2/lib64\n",
      "2023-01-08 01:32:22.452328: W tensorflow/compiler/tf2tensorrt/utils/py_utils.cc:38] TF-TRT Warning: Cannot dlopen some TensorRT libraries. If you would like to use Nvidia GPU with TensorRT, please make sure the missing libraries mentioned above are installed properly.\n"
     ]
    },
    {
     "name": "stdout",
     "output_type": "stream",
     "text": [
      "************************************************************************\n",
      "\n",
      "Starting CNMF item:\n",
      "algo                                                             cnmf\n",
      "item_name                                          Sue_2x_3000_40_-46\n",
      "input_movie_path    09610b86-917a-41e7-a493-2d036bf44428/09610b86-...\n",
      "params              {'main': {'fr': 30, 'p': 1, 'nb': 2, 'merge_th...\n",
      "outputs                                                          None\n",
      "comments                                                         None\n",
      "uuid                             ff76c624-2c29-4c2d-ba91-3eb471a8e9e3\n",
      "Name: 5, dtype: object\n",
      "With params:{'main': {'fr': 30, 'p': 1, 'nb': 2, 'merge_thr': 0.95, 'rf': 15, 'stride': 6, 'K': 8, 'gSig': (6, 6), 'ssub': 1, 'tsub': 1, 'method_init': 'greedy_roi', 'min_SNR': 2.0, 'rval_thr': 0.7, 'use_cnn': True, 'min_cnn_thr': 0.8, 'cnn_lowest': 0.1, 'decay_time': 0.4}, 'refit': True}\n",
      "Decode mmap filename /home/kushalk/caiman_data/mesmerize-core-batch/09610b86-917a-41e7-a493-2d036bf44428/09610b86-917a-41e7-a493-2d036bf44428-Sue_2x_3000_40_-46_els__d1_170_d2_170_d3_1_order_F_frames_3000.mmap\n",
      "making memmap\n",
      "Decode mmap filename /home/kushalk/caiman_data/mesmerize-core-batch/09610b86-917a-41e7-a493-2d036bf44428/ff76c624-2c29-4c2d-ba91-3eb471a8e9e3_cnmf-memmap_d1_170_d2_170_d3_1_order_C_frames_3000.mmap\n"
     ]
    },
    {
     "name": "stderr",
     "output_type": "stream",
     "text": [
      "WARNING:root:Component 13 is only active jointly with neighboring components. Space correlation calculation might be unreliable.\n",
      "WARNING:root:Component 15 is only active jointly with neighboring components. Space correlation calculation might be unreliable.\n",
      "WARNING:root:Component 6 is only active jointly with neighboring components. Space correlation calculation might be unreliable.\n",
      "WARNING:root:Component 1 is only active jointly with neighboring components. Space correlation calculation might be unreliable.\n",
      "WARNING:root:Component 20 is only active jointly with neighboring components. Space correlation calculation might be unreliable.\n",
      "WARNING:root:Component 28 is only active jointly with neighboring components. Space correlation calculation might be unreliable.\n",
      "WARNING:root:Component 29 is only active jointly with neighboring components. Space correlation calculation might be unreliable.\n",
      "WARNING:root:Component 19 is only active jointly with neighboring components. Space correlation calculation might be unreliable.\n",
      "WARNING:root:Component 26 is only active jointly with neighboring components. Space correlation calculation might be unreliable.\n",
      "WARNING:root:Component 30 is only active jointly with neighboring components. Space correlation calculation might be unreliable.\n",
      "WARNING:root:Component 35 is only active jointly with neighboring components. Space correlation calculation might be unreliable.\n",
      "WARNING:root:Component 36 is only active jointly with neighboring components. Space correlation calculation might be unreliable.\n",
      "WARNING:root:Component 43 is only active jointly with neighboring components. Space correlation calculation might be unreliable.\n",
      "2023-01-08 01:32:39.381456: E tensorflow/stream_executor/cuda/cuda_driver.cc:265] failed call to cuInit: CUDA_ERROR_NO_DEVICE: no CUDA-capable device is detected\n",
      "2023-01-08 01:32:39.381479: I tensorflow/stream_executor/cuda/cuda_diagnostics.cc:169] retrieving CUDA diagnostic information for host: hantman-calcium\n",
      "2023-01-08 01:32:39.381483: I tensorflow/stream_executor/cuda/cuda_diagnostics.cc:176] hostname: hantman-calcium\n",
      "2023-01-08 01:32:39.381584: I tensorflow/stream_executor/cuda/cuda_diagnostics.cc:200] libcuda reported version is: 470.161.3\n",
      "2023-01-08 01:32:39.381598: I tensorflow/stream_executor/cuda/cuda_diagnostics.cc:204] kernel reported version is: 470.161.3\n",
      "2023-01-08 01:32:39.381601: I tensorflow/stream_executor/cuda/cuda_diagnostics.cc:310] kernel version seems to match DSO: 470.161.3\n",
      "2023-01-08 01:32:39.381751: I tensorflow/core/platform/cpu_feature_guard.cc:193] This TensorFlow binary is optimized with oneAPI Deep Neural Network Library (oneDNN) to use the following CPU instructions in performance-critical operations:  AVX2 FMA\n",
      "To enable them in other operations, rebuild TensorFlow with the appropriate compiler flags.\n"
     ]
    },
    {
     "name": "stdout",
     "output_type": "stream",
     "text": [
      "performing CNMF\n",
      "fitting images\n",
      "refitting\n",
      "performing eval\n",
      "GPU run not requested, disabling use of GPUs\n",
      "USING MODEL (keras API): /home/kushalk/caiman_data/model/cnn_model.json\n",
      "12/12 [==============================] - 0s 10ms/step\n",
      "Decode mmap filename /home/kushalk/caiman_data/mesmerize-core-batch/09610b86-917a-41e7-a493-2d036bf44428/ff76c624-2c29-4c2d-ba91-3eb471a8e9e3_cnmf-memmap_d1_170_d2_170_d3_1_order_C_frames_3000.mmap\n",
      "Decode mmap filename /home/kushalk/caiman_data/mesmerize-core-batch/09610b86-917a-41e7-a493-2d036bf44428/ff76c624-2c29-4c2d-ba91-3eb471a8e9e3_cnmf-memmap_d1_170_d2_170_d3_1_order_C_frames_3000.mmap\n",
      "Decode mmap filename /home/kushalk/caiman_data/mesmerize-core-batch/09610b86-917a-41e7-a493-2d036bf44428/ff76c624-2c29-4c2d-ba91-3eb471a8e9e3_cnmf-memmap_d1_170_d2_170_d3_1_order_C_frames_3000.mmap\n",
      "Decode mmap filename /home/kushalk/caiman_data/mesmerize-core-batch/09610b86-917a-41e7-a493-2d036bf44428/ff76c624-2c29-4c2d-ba91-3eb471a8e9e3_cnmf-memmap_d1_170_d2_170_d3_1_order_C_frames_3000.mmap\n",
      "Decode mmap filename /home/kushalk/caiman_data/mesmerize-core-batch/09610b86-917a-41e7-a493-2d036bf44428/ff76c624-2c29-4c2d-ba91-3eb471a8e9e3_cnmf-memmap_d1_170_d2_170_d3_1_order_C_frames_3000.mmap\n",
      "Decode mmap filename /home/kushalk/caiman_data/mesmerize-core-batch/09610b86-917a-41e7-a493-2d036bf44428/ff76c624-2c29-4c2d-ba91-3eb471a8e9e3_cnmf-memmap_d1_170_d2_170_d3_1_order_C_frames_3000.mmap\n",
      "Decode mmap filename /home/kushalk/caiman_data/mesmerize-core-batch/09610b86-917a-41e7-a493-2d036bf44428/ff76c624-2c29-4c2d-ba91-3eb471a8e9e3_cnmf-memmap_d1_170_d2_170_d3_1_order_C_frames_3000.mmap\n",
      "Decode mmap filename /home/kushalk/caiman_data/mesmerize-core-batch/09610b86-917a-41e7-a493-2d036bf44428/ff76c624-2c29-4c2d-ba91-3eb471a8e9e3_cnmf-memmap_d1_170_d2_170_d3_1_order_C_frames_3000.mmap\n",
      "Decode mmap filename /home/kushalk/caiman_data/mesmerize-core-batch/09610b86-917a-41e7-a493-2d036bf44428/ff76c624-2c29-4c2d-ba91-3eb471a8e9e3_cnmf-memmap_d1_170_d2_170_d3_1_order_C_frames_3000.mmap\n",
      "Decode mmap filename /home/kushalk/caiman_data/mesmerize-core-batch/09610b86-917a-41e7-a493-2d036bf44428/ff76c624-2c29-4c2d-ba91-3eb471a8e9e3_cnmf-memmap_d1_170_d2_170_d3_1_order_C_frames_3000.mmap\n",
      "Decode mmap filename /home/kushalk/caiman_data/mesmerize-core-batch/09610b86-917a-41e7-a493-2d036bf44428/ff76c624-2c29-4c2d-ba91-3eb471a8e9e3_cnmf-memmap_d1_170_d2_170_d3_1_order_C_frames_3000.mmap\n",
      "Decode mmap filename /home/kushalk/caiman_data/mesmerize-core-batch/09610b86-917a-41e7-a493-2d036bf44428/ff76c624-2c29-4c2d-ba91-3eb471a8e9e3_cnmf-memmap_d1_170_d2_170_d3_1_order_C_frames_3000.mmap\n",
      "Decode mmap filename /home/kushalk/caiman_data/mesmerize-core-batch/09610b86-917a-41e7-a493-2d036bf44428/ff76c624-2c29-4c2d-ba91-3eb471a8e9e3_cnmf-memmap_d1_170_d2_170_d3_1_order_C_frames_3000.mmap\n",
      "Decode mmap filename /home/kushalk/caiman_data/mesmerize-core-batch/09610b86-917a-41e7-a493-2d036bf44428/ff76c624-2c29-4c2d-ba91-3eb471a8e9e3_cnmf-memmap_d1_170_d2_170_d3_1_order_C_frames_3000.mmap\n",
      "Decode mmap filename /home/kushalk/caiman_data/mesmerize-core-batch/09610b86-917a-41e7-a493-2d036bf44428/ff76c624-2c29-4c2d-ba91-3eb471a8e9e3_cnmf-memmap_d1_170_d2_170_d3_1_order_C_frames_3000.mmap\n",
      "Decode mmap filename /home/kushalk/caiman_data/mesmerize-core-batch/09610b86-917a-41e7-a493-2d036bf44428/ff76c624-2c29-4c2d-ba91-3eb471a8e9e3_cnmf-memmap_d1_170_d2_170_d3_1_order_C_frames_3000.mmap\n",
      "Decode mmap filename /home/kushalk/caiman_data/mesmerize-core-batch/09610b86-917a-41e7-a493-2d036bf44428/ff76c624-2c29-4c2d-ba91-3eb471a8e9e3_cnmf-memmap_d1_170_d2_170_d3_1_order_C_frames_3000.mmap\n",
      "Decode mmap filename /home/kushalk/caiman_data/mesmerize-core-batch/09610b86-917a-41e7-a493-2d036bf44428/ff76c624-2c29-4c2d-ba91-3eb471a8e9e3_cnmf-memmap_d1_170_d2_170_d3_1_order_C_frames_3000.mmap\n",
      "Decode mmap filename /home/kushalk/caiman_data/mesmerize-core-batch/09610b86-917a-41e7-a493-2d036bf44428/ff76c624-2c29-4c2d-ba91-3eb471a8e9e3_cnmf-memmap_d1_170_d2_170_d3_1_order_C_frames_3000.mmap\n",
      "Decode mmap filename /home/kushalk/caiman_data/mesmerize-core-batch/09610b86-917a-41e7-a493-2d036bf44428/ff76c624-2c29-4c2d-ba91-3eb471a8e9e3_cnmf-memmap_d1_170_d2_170_d3_1_order_C_frames_3000.mmap\n",
      "Decode mmap filename /home/kushalk/caiman_data/mesmerize-core-batch/09610b86-917a-41e7-a493-2d036bf44428/ff76c624-2c29-4c2d-ba91-3eb471a8e9e3_cnmf-memmap_d1_170_d2_170_d3_1_order_C_frames_3000.mmap\n",
      "Decode mmap filename /home/kushalk/caiman_data/mesmerize-core-batch/09610b86-917a-41e7-a493-2d036bf44428/ff76c624-2c29-4c2d-ba91-3eb471a8e9e3_cnmf-memmap_d1_170_d2_170_d3_1_order_C_frames_3000.mmap\n",
      "Decode mmap filename /home/kushalk/caiman_data/mesmerize-core-batch/09610b86-917a-41e7-a493-2d036bf44428/ff76c624-2c29-4c2d-ba91-3eb471a8e9e3_cnmf-memmap_d1_170_d2_170_d3_1_order_C_frames_3000.mmap\n",
      "Decode mmap filename /home/kushalk/caiman_data/mesmerize-core-batch/09610b86-917a-41e7-a493-2d036bf44428/ff76c624-2c29-4c2d-ba91-3eb471a8e9e3_cnmf-memmap_d1_170_d2_170_d3_1_order_C_frames_3000.mmap\n",
      "Decode mmap filename /home/kushalk/caiman_data/mesmerize-core-batch/09610b86-917a-41e7-a493-2d036bf44428/ff76c624-2c29-4c2d-ba91-3eb471a8e9e3_cnmf-memmap_d1_170_d2_170_d3_1_order_C_frames_3000.mmap\n",
      "Decode mmap filename /home/kushalk/caiman_data/mesmerize-core-batch/09610b86-917a-41e7-a493-2d036bf44428/ff76c624-2c29-4c2d-ba91-3eb471a8e9e3_cnmf-memmap_d1_170_d2_170_d3_1_order_C_frames_3000.mmap\n",
      "Decode mmap filename /home/kushalk/caiman_data/mesmerize-core-batch/09610b86-917a-41e7-a493-2d036bf44428/ff76c624-2c29-4c2d-ba91-3eb471a8e9e3_cnmf-memmap_d1_170_d2_170_d3_1_order_C_frames_3000.mmap\n",
      "Decode mmap filename /home/kushalk/caiman_data/mesmerize-core-batch/09610b86-917a-41e7-a493-2d036bf44428/ff76c624-2c29-4c2d-ba91-3eb471a8e9e3_cnmf-memmap_d1_170_d2_170_d3_1_order_C_frames_3000.mmap\n",
      "Decode mmap filename /home/kushalk/caiman_data/mesmerize-core-batch/09610b86-917a-41e7-a493-2d036bf44428/ff76c624-2c29-4c2d-ba91-3eb471a8e9e3_cnmf-memmap_d1_170_d2_170_d3_1_order_C_frames_3000.mmap\n",
      "Decode mmap filename /home/kushalk/caiman_data/mesmerize-core-batch/09610b86-917a-41e7-a493-2d036bf44428/ff76c624-2c29-4c2d-ba91-3eb471a8e9e3_cnmf-memmap_d1_170_d2_170_d3_1_order_C_frames_3000.mmap\n",
      "Decode mmap filename /home/kushalk/caiman_data/mesmerize-core-batch/09610b86-917a-41e7-a493-2d036bf44428/ff76c624-2c29-4c2d-ba91-3eb471a8e9e3_cnmf-memmap_d1_170_d2_170_d3_1_order_C_frames_3000.mmap\n",
      "Decode mmap filename /home/kushalk/caiman_data/mesmerize-core-batch/09610b86-917a-41e7-a493-2d036bf44428/ff76c624-2c29-4c2d-ba91-3eb471a8e9e3_cnmf-memmap_d1_170_d2_170_d3_1_order_C_frames_3000.mmap\n",
      "Decode mmap filename /home/kushalk/caiman_data/mesmerize-core-batch/09610b86-917a-41e7-a493-2d036bf44428/ff76c624-2c29-4c2d-ba91-3eb471a8e9e3_cnmf-memmap_d1_170_d2_170_d3_1_order_C_frames_3000.mmap\n",
      "Decode mmap filename /home/kushalk/caiman_data/mesmerize-core-batch/09610b86-917a-41e7-a493-2d036bf44428/ff76c624-2c29-4c2d-ba91-3eb471a8e9e3_cnmf-memmap_d1_170_d2_170_d3_1_order_C_frames_3000.mmap\n",
      "Decode mmap filename /home/kushalk/caiman_data/mesmerize-core-batch/09610b86-917a-41e7-a493-2d036bf44428/ff76c624-2c29-4c2d-ba91-3eb471a8e9e3_cnmf-memmap_d1_170_d2_170_d3_1_order_C_frames_3000.mmap\n",
      "Decode mmap filename /home/kushalk/caiman_data/mesmerize-core-batch/09610b86-917a-41e7-a493-2d036bf44428/ff76c624-2c29-4c2d-ba91-3eb471a8e9e3_cnmf-memmap_d1_170_d2_170_d3_1_order_C_frames_3000.mmap\n",
      "Decode mmap filename /home/kushalk/caiman_data/mesmerize-core-batch/09610b86-917a-41e7-a493-2d036bf44428/ff76c624-2c29-4c2d-ba91-3eb471a8e9e3_cnmf-memmap_d1_170_d2_170_d3_1_order_C_frames_3000.mmap\n",
      "Decode mmap filename /home/kushalk/caiman_data/mesmerize-core-batch/09610b86-917a-41e7-a493-2d036bf44428/ff76c624-2c29-4c2d-ba91-3eb471a8e9e3_cnmf-memmap_d1_170_d2_170_d3_1_order_C_frames_3000.mmap\n",
      "Decode mmap filename /home/kushalk/caiman_data/mesmerize-core-batch/09610b86-917a-41e7-a493-2d036bf44428/ff76c624-2c29-4c2d-ba91-3eb471a8e9e3_cnmf-memmap_d1_170_d2_170_d3_1_order_C_frames_3000.mmap\n",
      "Decode mmap filename /home/kushalk/caiman_data/mesmerize-core-batch/09610b86-917a-41e7-a493-2d036bf44428/ff76c624-2c29-4c2d-ba91-3eb471a8e9e3_cnmf-memmap_d1_170_d2_170_d3_1_order_C_frames_3000.mmap\n",
      "Decode mmap filename /home/kushalk/caiman_data/mesmerize-core-batch/09610b86-917a-41e7-a493-2d036bf44428/ff76c624-2c29-4c2d-ba91-3eb471a8e9e3_cnmf-memmap_d1_170_d2_170_d3_1_order_C_frames_3000.mmap\n",
      "Decode mmap filename /home/kushalk/caiman_data/mesmerize-core-batch/09610b86-917a-41e7-a493-2d036bf44428/ff76c624-2c29-4c2d-ba91-3eb471a8e9e3_cnmf-memmap_d1_170_d2_170_d3_1_order_C_frames_3000.mmap\n",
      "Decode mmap filename /home/kushalk/caiman_data/mesmerize-core-batch/09610b86-917a-41e7-a493-2d036bf44428/ff76c624-2c29-4c2d-ba91-3eb471a8e9e3_cnmf-memmap_d1_170_d2_170_d3_1_order_C_frames_3000.mmap\n",
      "Decode mmap filename /home/kushalk/caiman_data/mesmerize-core-batch/09610b86-917a-41e7-a493-2d036bf44428/ff76c624-2c29-4c2d-ba91-3eb471a8e9e3_cnmf-memmap_d1_170_d2_170_d3_1_order_C_frames_3000.mmap\n",
      "Decode mmap filename /home/kushalk/caiman_data/mesmerize-core-batch/09610b86-917a-41e7-a493-2d036bf44428/ff76c624-2c29-4c2d-ba91-3eb471a8e9e3_cnmf-memmap_d1_170_d2_170_d3_1_order_C_frames_3000.mmap\n",
      "Decode mmap filename /home/kushalk/caiman_data/mesmerize-core-batch/09610b86-917a-41e7-a493-2d036bf44428/ff76c624-2c29-4c2d-ba91-3eb471a8e9e3_cnmf-memmap_d1_170_d2_170_d3_1_order_C_frames_3000.mmap\n",
      "Decode mmap filename /home/kushalk/caiman_data/mesmerize-core-batch/09610b86-917a-41e7-a493-2d036bf44428/ff76c624-2c29-4c2d-ba91-3eb471a8e9e3_cnmf-memmap_d1_170_d2_170_d3_1_order_C_frames_3000.mmap\n",
      "Decode mmap filename /home/kushalk/caiman_data/mesmerize-core-batch/09610b86-917a-41e7-a493-2d036bf44428/ff76c624-2c29-4c2d-ba91-3eb471a8e9e3_cnmf-memmap_d1_170_d2_170_d3_1_order_C_frames_3000.mmap\n",
      "Decode mmap filename /home/kushalk/caiman_data/mesmerize-core-batch/09610b86-917a-41e7-a493-2d036bf44428/ff76c624-2c29-4c2d-ba91-3eb471a8e9e3_cnmf-memmap_d1_170_d2_170_d3_1_order_C_frames_3000.mmap\n",
      "Decode mmap filename /home/kushalk/caiman_data/mesmerize-core-batch/09610b86-917a-41e7-a493-2d036bf44428/ff76c624-2c29-4c2d-ba91-3eb471a8e9e3_cnmf-memmap_d1_170_d2_170_d3_1_order_C_frames_3000.mmap\n",
      "Decode mmap filename /home/kushalk/caiman_data/mesmerize-core-batch/09610b86-917a-41e7-a493-2d036bf44428/ff76c624-2c29-4c2d-ba91-3eb471a8e9e3_cnmf-memmap_d1_170_d2_170_d3_1_order_C_frames_3000.mmap\n",
      "Decode mmap filename /home/kushalk/caiman_data/mesmerize-core-batch/09610b86-917a-41e7-a493-2d036bf44428/ff76c624-2c29-4c2d-ba91-3eb471a8e9e3_cnmf-memmap_d1_170_d2_170_d3_1_order_C_frames_3000.mmap\n",
      "Decode mmap filename /home/kushalk/caiman_data/mesmerize-core-batch/09610b86-917a-41e7-a493-2d036bf44428/ff76c624-2c29-4c2d-ba91-3eb471a8e9e3_cnmf-memmap_d1_170_d2_170_d3_1_order_C_frames_3000.mmap\n",
      "Decode mmap filename /home/kushalk/caiman_data/mesmerize-core-batch/09610b86-917a-41e7-a493-2d036bf44428/ff76c624-2c29-4c2d-ba91-3eb471a8e9e3_cnmf-memmap_d1_170_d2_170_d3_1_order_C_frames_3000.mmap\n",
      "Decode mmap filename /home/kushalk/caiman_data/mesmerize-core-batch/09610b86-917a-41e7-a493-2d036bf44428/ff76c624-2c29-4c2d-ba91-3eb471a8e9e3_cnmf-memmap_d1_170_d2_170_d3_1_order_C_frames_3000.mmap\n",
      "Decode mmap filename /home/kushalk/caiman_data/mesmerize-core-batch/09610b86-917a-41e7-a493-2d036bf44428/ff76c624-2c29-4c2d-ba91-3eb471a8e9e3_cnmf-memmap_d1_170_d2_170_d3_1_order_C_frames_3000.mmap\n",
      "Decode mmap filename /home/kushalk/caiman_data/mesmerize-core-batch/09610b86-917a-41e7-a493-2d036bf44428/ff76c624-2c29-4c2d-ba91-3eb471a8e9e3_cnmf-memmap_d1_170_d2_170_d3_1_order_C_frames_3000.mmap\n",
      "Decode mmap filename /home/kushalk/caiman_data/mesmerize-core-batch/09610b86-917a-41e7-a493-2d036bf44428/ff76c624-2c29-4c2d-ba91-3eb471a8e9e3_cnmf-memmap_d1_170_d2_170_d3_1_order_C_frames_3000.mmap\n",
      "Decode mmap filename /home/kushalk/caiman_data/mesmerize-core-batch/09610b86-917a-41e7-a493-2d036bf44428/ff76c624-2c29-4c2d-ba91-3eb471a8e9e3_cnmf-memmap_d1_170_d2_170_d3_1_order_C_frames_3000.mmap\n",
      "Decode mmap filename /home/kushalk/caiman_data/mesmerize-core-batch/09610b86-917a-41e7-a493-2d036bf44428/ff76c624-2c29-4c2d-ba91-3eb471a8e9e3_cnmf-memmap_d1_170_d2_170_d3_1_order_C_frames_3000.mmap\n",
      "Decode mmap filename /home/kushalk/caiman_data/mesmerize-core-batch/09610b86-917a-41e7-a493-2d036bf44428/ff76c624-2c29-4c2d-ba91-3eb471a8e9e3_cnmf-memmap_d1_170_d2_170_d3_1_order_C_frames_3000.mmap\n",
      "Decode mmap filename /home/kushalk/caiman_data/mesmerize-core-batch/09610b86-917a-41e7-a493-2d036bf44428/ff76c624-2c29-4c2d-ba91-3eb471a8e9e3_cnmf-memmap_d1_170_d2_170_d3_1_order_C_frames_3000.mmap\n",
      "Decode mmap filename /home/kushalk/caiman_data/mesmerize-core-batch/09610b86-917a-41e7-a493-2d036bf44428/ff76c624-2c29-4c2d-ba91-3eb471a8e9e3_cnmf-memmap_d1_170_d2_170_d3_1_order_C_frames_3000.mmap\n",
      "Decode mmap filename /home/kushalk/caiman_data/mesmerize-core-batch/09610b86-917a-41e7-a493-2d036bf44428/ff76c624-2c29-4c2d-ba91-3eb471a8e9e3_cnmf-memmap_d1_170_d2_170_d3_1_order_C_frames_3000.mmap\n",
      "Decode mmap filename /home/kushalk/caiman_data/mesmerize-core-batch/09610b86-917a-41e7-a493-2d036bf44428/ff76c624-2c29-4c2d-ba91-3eb471a8e9e3_cnmf-memmap_d1_170_d2_170_d3_1_order_C_frames_3000.mmap\n",
      "Decode mmap filename /home/kushalk/caiman_data/mesmerize-core-batch/09610b86-917a-41e7-a493-2d036bf44428/ff76c624-2c29-4c2d-ba91-3eb471a8e9e3_cnmf-memmap_d1_170_d2_170_d3_1_order_C_frames_3000.mmap\n",
      "Decode mmap filename /home/kushalk/caiman_data/mesmerize-core-batch/09610b86-917a-41e7-a493-2d036bf44428/ff76c624-2c29-4c2d-ba91-3eb471a8e9e3_cnmf-memmap_d1_170_d2_170_d3_1_order_C_frames_3000.mmap\n",
      "Decode mmap filename /home/kushalk/caiman_data/mesmerize-core-batch/09610b86-917a-41e7-a493-2d036bf44428/ff76c624-2c29-4c2d-ba91-3eb471a8e9e3_cnmf-memmap_d1_170_d2_170_d3_1_order_C_frames_3000.mmap\n",
      "Decode mmap filename /home/kushalk/caiman_data/mesmerize-core-batch/09610b86-917a-41e7-a493-2d036bf44428/ff76c624-2c29-4c2d-ba91-3eb471a8e9e3_cnmf-memmap_d1_170_d2_170_d3_1_order_C_frames_3000.mmap\n",
      "Decode mmap filename /home/kushalk/caiman_data/mesmerize-core-batch/09610b86-917a-41e7-a493-2d036bf44428/ff76c624-2c29-4c2d-ba91-3eb471a8e9e3_cnmf-memmap_d1_170_d2_170_d3_1_order_C_frames_3000.mmap\n",
      "Decode mmap filename /home/kushalk/caiman_data/mesmerize-core-batch/09610b86-917a-41e7-a493-2d036bf44428/ff76c624-2c29-4c2d-ba91-3eb471a8e9e3_cnmf-memmap_d1_170_d2_170_d3_1_order_C_frames_3000.mmap\n",
      "Decode mmap filename /home/kushalk/caiman_data/mesmerize-core-batch/09610b86-917a-41e7-a493-2d036bf44428/ff76c624-2c29-4c2d-ba91-3eb471a8e9e3_cnmf-memmap_d1_170_d2_170_d3_1_order_C_frames_3000.mmap\n",
      "Decode mmap filename /home/kushalk/caiman_data/mesmerize-core-batch/09610b86-917a-41e7-a493-2d036bf44428/ff76c624-2c29-4c2d-ba91-3eb471a8e9e3_cnmf-memmap_d1_170_d2_170_d3_1_order_C_frames_3000.mmap\n",
      "Decode mmap filename /home/kushalk/caiman_data/mesmerize-core-batch/09610b86-917a-41e7-a493-2d036bf44428/ff76c624-2c29-4c2d-ba91-3eb471a8e9e3_cnmf-memmap_d1_170_d2_170_d3_1_order_C_frames_3000.mmap\n",
      "Decode mmap filename /home/kushalk/caiman_data/mesmerize-core-batch/09610b86-917a-41e7-a493-2d036bf44428/ff76c624-2c29-4c2d-ba91-3eb471a8e9e3_cnmf-memmap_d1_170_d2_170_d3_1_order_C_frames_3000.mmap\n",
      "Decode mmap filename /home/kushalk/caiman_data/mesmerize-core-batch/09610b86-917a-41e7-a493-2d036bf44428/ff76c624-2c29-4c2d-ba91-3eb471a8e9e3_cnmf-memmap_d1_170_d2_170_d3_1_order_C_frames_3000.mmap\n",
      "Decode mmap filename /home/kushalk/caiman_data/mesmerize-core-batch/09610b86-917a-41e7-a493-2d036bf44428/ff76c624-2c29-4c2d-ba91-3eb471a8e9e3_cnmf-memmap_d1_170_d2_170_d3_1_order_C_frames_3000.mmap\n",
      "Decode mmap filename /home/kushalk/caiman_data/mesmerize-core-batch/09610b86-917a-41e7-a493-2d036bf44428/ff76c624-2c29-4c2d-ba91-3eb471a8e9e3_cnmf-memmap_d1_170_d2_170_d3_1_order_C_frames_3000.mmap\n",
      "Decode mmap filename /home/kushalk/caiman_data/mesmerize-core-batch/09610b86-917a-41e7-a493-2d036bf44428/ff76c624-2c29-4c2d-ba91-3eb471a8e9e3_cnmf-memmap_d1_170_d2_170_d3_1_order_C_frames_3000.mmap\n",
      "Decode mmap filename /home/kushalk/caiman_data/mesmerize-core-batch/09610b86-917a-41e7-a493-2d036bf44428/ff76c624-2c29-4c2d-ba91-3eb471a8e9e3_cnmf-memmap_d1_170_d2_170_d3_1_order_C_frames_3000.mmap\n",
      "Decode mmap filename /home/kushalk/caiman_data/mesmerize-core-batch/09610b86-917a-41e7-a493-2d036bf44428/ff76c624-2c29-4c2d-ba91-3eb471a8e9e3_cnmf-memmap_d1_170_d2_170_d3_1_order_C_frames_3000.mmap\n",
      "Decode mmap filename /home/kushalk/caiman_data/mesmerize-core-batch/09610b86-917a-41e7-a493-2d036bf44428/ff76c624-2c29-4c2d-ba91-3eb471a8e9e3_cnmf-memmap_d1_170_d2_170_d3_1_order_C_frames_3000.mmap\n",
      "Decode mmap filename /home/kushalk/caiman_data/mesmerize-core-batch/09610b86-917a-41e7-a493-2d036bf44428/ff76c624-2c29-4c2d-ba91-3eb471a8e9e3_cnmf-memmap_d1_170_d2_170_d3_1_order_C_frames_3000.mmap\n",
      "Decode mmap filename /home/kushalk/caiman_data/mesmerize-core-batch/09610b86-917a-41e7-a493-2d036bf44428/ff76c624-2c29-4c2d-ba91-3eb471a8e9e3_cnmf-memmap_d1_170_d2_170_d3_1_order_C_frames_3000.mmap\n",
      "Decode mmap filename /home/kushalk/caiman_data/mesmerize-core-batch/09610b86-917a-41e7-a493-2d036bf44428/ff76c624-2c29-4c2d-ba91-3eb471a8e9e3_cnmf-memmap_d1_170_d2_170_d3_1_order_C_frames_3000.mmap\n",
      "Decode mmap filename /home/kushalk/caiman_data/mesmerize-core-batch/09610b86-917a-41e7-a493-2d036bf44428/ff76c624-2c29-4c2d-ba91-3eb471a8e9e3_cnmf-memmap_d1_170_d2_170_d3_1_order_C_frames_3000.mmap\n",
      "Decode mmap filename /home/kushalk/caiman_data/mesmerize-core-batch/09610b86-917a-41e7-a493-2d036bf44428/ff76c624-2c29-4c2d-ba91-3eb471a8e9e3_cnmf-memmap_d1_170_d2_170_d3_1_order_C_frames_3000.mmap\n",
      "Decode mmap filename /home/kushalk/caiman_data/mesmerize-core-batch/09610b86-917a-41e7-a493-2d036bf44428/ff76c624-2c29-4c2d-ba91-3eb471a8e9e3_cnmf-memmap_d1_170_d2_170_d3_1_order_C_frames_3000.mmap\n",
      "Decode mmap filename /home/kushalk/caiman_data/mesmerize-core-batch/09610b86-917a-41e7-a493-2d036bf44428/ff76c624-2c29-4c2d-ba91-3eb471a8e9e3_cnmf-memmap_d1_170_d2_170_d3_1_order_C_frames_3000.mmap\n",
      "Decode mmap filename /home/kushalk/caiman_data/mesmerize-core-batch/09610b86-917a-41e7-a493-2d036bf44428/ff76c624-2c29-4c2d-ba91-3eb471a8e9e3_cnmf-memmap_d1_170_d2_170_d3_1_order_C_frames_3000.mmap\n",
      "Decode mmap filename /home/kushalk/caiman_data/mesmerize-core-batch/09610b86-917a-41e7-a493-2d036bf44428/ff76c624-2c29-4c2d-ba91-3eb471a8e9e3_cnmf-memmap_d1_170_d2_170_d3_1_order_C_frames_3000.mmap\n",
      "Decode mmap filename /home/kushalk/caiman_data/mesmerize-core-batch/09610b86-917a-41e7-a493-2d036bf44428/ff76c624-2c29-4c2d-ba91-3eb471a8e9e3_cnmf-memmap_d1_170_d2_170_d3_1_order_C_frames_3000.mmap\n",
      "Decode mmap filename /home/kushalk/caiman_data/mesmerize-core-batch/09610b86-917a-41e7-a493-2d036bf44428/ff76c624-2c29-4c2d-ba91-3eb471a8e9e3_cnmf-memmap_d1_170_d2_170_d3_1_order_C_frames_3000.mmap\n",
      "Decode mmap filename /home/kushalk/caiman_data/mesmerize-core-batch/09610b86-917a-41e7-a493-2d036bf44428/ff76c624-2c29-4c2d-ba91-3eb471a8e9e3_cnmf-memmap_d1_170_d2_170_d3_1_order_C_frames_3000.mmap\n",
      "Decode mmap filename /home/kushalk/caiman_data/mesmerize-core-batch/09610b86-917a-41e7-a493-2d036bf44428/ff76c624-2c29-4c2d-ba91-3eb471a8e9e3_cnmf-memmap_d1_170_d2_170_d3_1_order_C_frames_3000.mmap\n",
      "Decode mmap filename /home/kushalk/caiman_data/mesmerize-core-batch/09610b86-917a-41e7-a493-2d036bf44428/ff76c624-2c29-4c2d-ba91-3eb471a8e9e3_cnmf-memmap_d1_170_d2_170_d3_1_order_C_frames_3000.mmap\n",
      "Decode mmap filename /home/kushalk/caiman_data/mesmerize-core-batch/09610b86-917a-41e7-a493-2d036bf44428/ff76c624-2c29-4c2d-ba91-3eb471a8e9e3_cnmf-memmap_d1_170_d2_170_d3_1_order_C_frames_3000.mmap\n",
      "Decode mmap filename /home/kushalk/caiman_data/mesmerize-core-batch/09610b86-917a-41e7-a493-2d036bf44428/ff76c624-2c29-4c2d-ba91-3eb471a8e9e3_cnmf-memmap_d1_170_d2_170_d3_1_order_C_frames_3000.mmap\n",
      "Decode mmap filename /home/kushalk/caiman_data/mesmerize-core-batch/09610b86-917a-41e7-a493-2d036bf44428/ff76c624-2c29-4c2d-ba91-3eb471a8e9e3_cnmf-memmap_d1_170_d2_170_d3_1_order_C_frames_3000.mmap\n",
      "Decode mmap filename /home/kushalk/caiman_data/mesmerize-core-batch/09610b86-917a-41e7-a493-2d036bf44428/ff76c624-2c29-4c2d-ba91-3eb471a8e9e3_cnmf-memmap_d1_170_d2_170_d3_1_order_C_frames_3000.mmap\n",
      "Decode mmap filename /home/kushalk/caiman_data/mesmerize-core-batch/09610b86-917a-41e7-a493-2d036bf44428/ff76c624-2c29-4c2d-ba91-3eb471a8e9e3_cnmf-memmap_d1_170_d2_170_d3_1_order_C_frames_3000.mmap\n",
      "Decode mmap filename /home/kushalk/caiman_data/mesmerize-core-batch/09610b86-917a-41e7-a493-2d036bf44428/ff76c624-2c29-4c2d-ba91-3eb471a8e9e3_cnmf-memmap_d1_170_d2_170_d3_1_order_C_frames_3000.mmap\n",
      "Decode mmap filename /home/kushalk/caiman_data/mesmerize-core-batch/09610b86-917a-41e7-a493-2d036bf44428/ff76c624-2c29-4c2d-ba91-3eb471a8e9e3_cnmf-memmap_d1_170_d2_170_d3_1_order_C_frames_3000.mmap\n",
      "Decode mmap filename /home/kushalk/caiman_data/mesmerize-core-batch/09610b86-917a-41e7-a493-2d036bf44428/ff76c624-2c29-4c2d-ba91-3eb471a8e9e3_cnmf-memmap_d1_170_d2_170_d3_1_order_C_frames_3000.mmap\n",
      "Decode mmap filename /home/kushalk/caiman_data/mesmerize-core-batch/09610b86-917a-41e7-a493-2d036bf44428/ff76c624-2c29-4c2d-ba91-3eb471a8e9e3_cnmf-memmap_d1_170_d2_170_d3_1_order_C_frames_3000.mmap\n",
      "Decode mmap filename /home/kushalk/caiman_data/mesmerize-core-batch/09610b86-917a-41e7-a493-2d036bf44428/ff76c624-2c29-4c2d-ba91-3eb471a8e9e3_cnmf-memmap_d1_170_d2_170_d3_1_order_C_frames_3000.mmap\n",
      "Decode mmap filename /home/kushalk/caiman_data/mesmerize-core-batch/09610b86-917a-41e7-a493-2d036bf44428/ff76c624-2c29-4c2d-ba91-3eb471a8e9e3_cnmf-memmap_d1_170_d2_170_d3_1_order_C_frames_3000.mmap\n",
      "Decode mmap filename /home/kushalk/caiman_data/mesmerize-core-batch/09610b86-917a-41e7-a493-2d036bf44428/ff76c624-2c29-4c2d-ba91-3eb471a8e9e3_cnmf-memmap_d1_170_d2_170_d3_1_order_C_frames_3000.mmap\n",
      "Decode mmap filename /home/kushalk/caiman_data/mesmerize-core-batch/09610b86-917a-41e7-a493-2d036bf44428/ff76c624-2c29-4c2d-ba91-3eb471a8e9e3_cnmf-memmap_d1_170_d2_170_d3_1_order_C_frames_3000.mmap\n",
      "Decode mmap filename /home/kushalk/caiman_data/mesmerize-core-batch/09610b86-917a-41e7-a493-2d036bf44428/ff76c624-2c29-4c2d-ba91-3eb471a8e9e3_cnmf-memmap_d1_170_d2_170_d3_1_order_C_frames_3000.mmap\n",
      "Decode mmap filename /home/kushalk/caiman_data/mesmerize-core-batch/09610b86-917a-41e7-a493-2d036bf44428/ff76c624-2c29-4c2d-ba91-3eb471a8e9e3_cnmf-memmap_d1_170_d2_170_d3_1_order_C_frames_3000.mmap\n",
      "Decode mmap filename /home/kushalk/caiman_data/mesmerize-core-batch/09610b86-917a-41e7-a493-2d036bf44428/ff76c624-2c29-4c2d-ba91-3eb471a8e9e3_cnmf-memmap_d1_170_d2_170_d3_1_order_C_frames_3000.mmap\n",
      "Decode mmap filename /home/kushalk/caiman_data/mesmerize-core-batch/09610b86-917a-41e7-a493-2d036bf44428/ff76c624-2c29-4c2d-ba91-3eb471a8e9e3_cnmf-memmap_d1_170_d2_170_d3_1_order_C_frames_3000.mmap\n",
      "Decode mmap filename /home/kushalk/caiman_data/mesmerize-core-batch/09610b86-917a-41e7-a493-2d036bf44428/ff76c624-2c29-4c2d-ba91-3eb471a8e9e3_cnmf-memmap_d1_170_d2_170_d3_1_order_C_frames_3000.mmap\n",
      "Decode mmap filename /home/kushalk/caiman_data/mesmerize-core-batch/09610b86-917a-41e7-a493-2d036bf44428/ff76c624-2c29-4c2d-ba91-3eb471a8e9e3_cnmf-memmap_d1_170_d2_170_d3_1_order_C_frames_3000.mmap\n",
      "Decode mmap filename /home/kushalk/caiman_data/mesmerize-core-batch/09610b86-917a-41e7-a493-2d036bf44428/ff76c624-2c29-4c2d-ba91-3eb471a8e9e3_cnmf-memmap_d1_170_d2_170_d3_1_order_C_frames_3000.mmap\n",
      "Decode mmap filename /home/kushalk/caiman_data/mesmerize-core-batch/09610b86-917a-41e7-a493-2d036bf44428/ff76c624-2c29-4c2d-ba91-3eb471a8e9e3_cnmf-memmap_d1_170_d2_170_d3_1_order_C_frames_3000.mmap\n",
      "Decode mmap filename /home/kushalk/caiman_data/mesmerize-core-batch/09610b86-917a-41e7-a493-2d036bf44428/ff76c624-2c29-4c2d-ba91-3eb471a8e9e3_cnmf-memmap_d1_170_d2_170_d3_1_order_C_frames_3000.mmap\n",
      "Decode mmap filename /home/kushalk/caiman_data/mesmerize-core-batch/09610b86-917a-41e7-a493-2d036bf44428/ff76c624-2c29-4c2d-ba91-3eb471a8e9e3_cnmf-memmap_d1_170_d2_170_d3_1_order_C_frames_3000.mmap\n",
      "Decode mmap filename /home/kushalk/caiman_data/mesmerize-core-batch/09610b86-917a-41e7-a493-2d036bf44428/ff76c624-2c29-4c2d-ba91-3eb471a8e9e3_cnmf-memmap_d1_170_d2_170_d3_1_order_C_frames_3000.mmap\n",
      "Decode mmap filename /home/kushalk/caiman_data/mesmerize-core-batch/09610b86-917a-41e7-a493-2d036bf44428/ff76c624-2c29-4c2d-ba91-3eb471a8e9e3_cnmf-memmap_d1_170_d2_170_d3_1_order_C_frames_3000.mmap\n",
      "Decode mmap filename /home/kushalk/caiman_data/mesmerize-core-batch/09610b86-917a-41e7-a493-2d036bf44428/ff76c624-2c29-4c2d-ba91-3eb471a8e9e3_cnmf-memmap_d1_170_d2_170_d3_1_order_C_frames_3000.mmap\n",
      "Decode mmap filename /home/kushalk/caiman_data/mesmerize-core-batch/09610b86-917a-41e7-a493-2d036bf44428/ff76c624-2c29-4c2d-ba91-3eb471a8e9e3_cnmf-memmap_d1_170_d2_170_d3_1_order_C_frames_3000.mmap\n",
      "Decode mmap filename /home/kushalk/caiman_data/mesmerize-core-batch/09610b86-917a-41e7-a493-2d036bf44428/ff76c624-2c29-4c2d-ba91-3eb471a8e9e3_cnmf-memmap_d1_170_d2_170_d3_1_order_C_frames_3000.mmap\n",
      "Decode mmap filename /home/kushalk/caiman_data/mesmerize-core-batch/09610b86-917a-41e7-a493-2d036bf44428/ff76c624-2c29-4c2d-ba91-3eb471a8e9e3_cnmf-memmap_d1_170_d2_170_d3_1_order_C_frames_3000.mmap\n",
      "Decode mmap filename /home/kushalk/caiman_data/mesmerize-core-batch/09610b86-917a-41e7-a493-2d036bf44428/ff76c624-2c29-4c2d-ba91-3eb471a8e9e3_cnmf-memmap_d1_170_d2_170_d3_1_order_C_frames_3000.mmap\n",
      "Decode mmap filename /home/kushalk/caiman_data/mesmerize-core-batch/09610b86-917a-41e7-a493-2d036bf44428/ff76c624-2c29-4c2d-ba91-3eb471a8e9e3_cnmf-memmap_d1_170_d2_170_d3_1_order_C_frames_3000.mmap\n",
      "Decode mmap filename /home/kushalk/caiman_data/mesmerize-core-batch/09610b86-917a-41e7-a493-2d036bf44428/ff76c624-2c29-4c2d-ba91-3eb471a8e9e3_cnmf-memmap_d1_170_d2_170_d3_1_order_C_frames_3000.mmap\n",
      "Decode mmap filename /home/kushalk/caiman_data/mesmerize-core-batch/09610b86-917a-41e7-a493-2d036bf44428/ff76c624-2c29-4c2d-ba91-3eb471a8e9e3_cnmf-memmap_d1_170_d2_170_d3_1_order_C_frames_3000.mmap\n",
      "Decode mmap filename /home/kushalk/caiman_data/mesmerize-core-batch/09610b86-917a-41e7-a493-2d036bf44428/ff76c624-2c29-4c2d-ba91-3eb471a8e9e3_cnmf-memmap_d1_170_d2_170_d3_1_order_C_frames_3000.mmap\n",
      "Decode mmap filename /home/kushalk/caiman_data/mesmerize-core-batch/09610b86-917a-41e7-a493-2d036bf44428/ff76c624-2c29-4c2d-ba91-3eb471a8e9e3_cnmf-memmap_d1_170_d2_170_d3_1_order_C_frames_3000.mmap\n",
      "Decode mmap filename /home/kushalk/caiman_data/mesmerize-core-batch/09610b86-917a-41e7-a493-2d036bf44428/ff76c624-2c29-4c2d-ba91-3eb471a8e9e3_cnmf-memmap_d1_170_d2_170_d3_1_order_C_frames_3000.mmap\n",
      "Decode mmap filename /home/kushalk/caiman_data/mesmerize-core-batch/09610b86-917a-41e7-a493-2d036bf44428/ff76c624-2c29-4c2d-ba91-3eb471a8e9e3_cnmf-memmap_d1_170_d2_170_d3_1_order_C_frames_3000.mmap\n",
      "Decode mmap filename /home/kushalk/caiman_data/mesmerize-core-batch/09610b86-917a-41e7-a493-2d036bf44428/ff76c624-2c29-4c2d-ba91-3eb471a8e9e3_cnmf-memmap_d1_170_d2_170_d3_1_order_C_frames_3000.mmap\n",
      "Decode mmap filename /home/kushalk/caiman_data/mesmerize-core-batch/09610b86-917a-41e7-a493-2d036bf44428/ff76c624-2c29-4c2d-ba91-3eb471a8e9e3_cnmf-memmap_d1_170_d2_170_d3_1_order_C_frames_3000.mmap\n",
      "Decode mmap filename /home/kushalk/caiman_data/mesmerize-core-batch/09610b86-917a-41e7-a493-2d036bf44428/ff76c624-2c29-4c2d-ba91-3eb471a8e9e3_cnmf-memmap_d1_170_d2_170_d3_1_order_C_frames_3000.mmap\n",
      "Decode mmap filename /home/kushalk/caiman_data/mesmerize-core-batch/09610b86-917a-41e7-a493-2d036bf44428/ff76c624-2c29-4c2d-ba91-3eb471a8e9e3_cnmf-memmap_d1_170_d2_170_d3_1_order_C_frames_3000.mmap\n",
      "Decode mmap filename /home/kushalk/caiman_data/mesmerize-core-batch/09610b86-917a-41e7-a493-2d036bf44428/ff76c624-2c29-4c2d-ba91-3eb471a8e9e3_cnmf-memmap_d1_170_d2_170_d3_1_order_C_frames_3000.mmap\n",
      "Decode mmap filename /home/kushalk/caiman_data/mesmerize-core-batch/09610b86-917a-41e7-a493-2d036bf44428/ff76c624-2c29-4c2d-ba91-3eb471a8e9e3_cnmf-memmap_d1_170_d2_170_d3_1_order_C_frames_3000.mmap\n",
      "Decode mmap filename /home/kushalk/caiman_data/mesmerize-core-batch/09610b86-917a-41e7-a493-2d036bf44428/ff76c624-2c29-4c2d-ba91-3eb471a8e9e3_cnmf-memmap_d1_170_d2_170_d3_1_order_C_frames_3000.mmap\n",
      "Decode mmap filename /home/kushalk/caiman_data/mesmerize-core-batch/09610b86-917a-41e7-a493-2d036bf44428/ff76c624-2c29-4c2d-ba91-3eb471a8e9e3_cnmf-memmap_d1_170_d2_170_d3_1_order_C_frames_3000.mmap\n",
      "Decode mmap filename /home/kushalk/caiman_data/mesmerize-core-batch/09610b86-917a-41e7-a493-2d036bf44428/ff76c624-2c29-4c2d-ba91-3eb471a8e9e3_cnmf-memmap_d1_170_d2_170_d3_1_order_C_frames_3000.mmap\n",
      "Decode mmap filename /home/kushalk/caiman_data/mesmerize-core-batch/09610b86-917a-41e7-a493-2d036bf44428/ff76c624-2c29-4c2d-ba91-3eb471a8e9e3_cnmf-memmap_d1_170_d2_170_d3_1_order_C_frames_3000.mmap\n",
      "Decode mmap filename /home/kushalk/caiman_data/mesmerize-core-batch/09610b86-917a-41e7-a493-2d036bf44428/ff76c624-2c29-4c2d-ba91-3eb471a8e9e3_cnmf-memmap_d1_170_d2_170_d3_1_order_C_frames_3000.mmap\n",
      "Decode mmap filename /home/kushalk/caiman_data/mesmerize-core-batch/09610b86-917a-41e7-a493-2d036bf44428/ff76c624-2c29-4c2d-ba91-3eb471a8e9e3_cnmf-memmap_d1_170_d2_170_d3_1_order_C_frames_3000.mmap\n",
      "Decode mmap filename /home/kushalk/caiman_data/mesmerize-core-batch/09610b86-917a-41e7-a493-2d036bf44428/ff76c624-2c29-4c2d-ba91-3eb471a8e9e3_cnmf-memmap_d1_170_d2_170_d3_1_order_C_frames_3000.mmap\n",
      "Decode mmap filename /home/kushalk/caiman_data/mesmerize-core-batch/09610b86-917a-41e7-a493-2d036bf44428/ff76c624-2c29-4c2d-ba91-3eb471a8e9e3_cnmf-memmap_d1_170_d2_170_d3_1_order_C_frames_3000.mmap\n",
      "Decode mmap filename /home/kushalk/caiman_data/mesmerize-core-batch/09610b86-917a-41e7-a493-2d036bf44428/ff76c624-2c29-4c2d-ba91-3eb471a8e9e3_cnmf-memmap_d1_170_d2_170_d3_1_order_C_frames_3000.mmap\n",
      "Decode mmap filename /home/kushalk/caiman_data/mesmerize-core-batch/09610b86-917a-41e7-a493-2d036bf44428/ff76c624-2c29-4c2d-ba91-3eb471a8e9e3_cnmf-memmap_d1_170_d2_170_d3_1_order_C_frames_3000.mmap\n",
      "Decode mmap filename /home/kushalk/caiman_data/mesmerize-core-batch/09610b86-917a-41e7-a493-2d036bf44428/ff76c624-2c29-4c2d-ba91-3eb471a8e9e3_cnmf-memmap_d1_170_d2_170_d3_1_order_C_frames_3000.mmap\n",
      "Decode mmap filename /home/kushalk/caiman_data/mesmerize-core-batch/09610b86-917a-41e7-a493-2d036bf44428/ff76c624-2c29-4c2d-ba91-3eb471a8e9e3_cnmf-memmap_d1_170_d2_170_d3_1_order_C_frames_3000.mmap\n",
      "Decode mmap filename /home/kushalk/caiman_data/mesmerize-core-batch/09610b86-917a-41e7-a493-2d036bf44428/ff76c624-2c29-4c2d-ba91-3eb471a8e9e3_cnmf-memmap_d1_170_d2_170_d3_1_order_C_frames_3000.mmap\n",
      "Decode mmap filename /home/kushalk/caiman_data/mesmerize-core-batch/09610b86-917a-41e7-a493-2d036bf44428/ff76c624-2c29-4c2d-ba91-3eb471a8e9e3_cnmf-memmap_d1_170_d2_170_d3_1_order_C_frames_3000.mmap\n",
      "Decode mmap filename /home/kushalk/caiman_data/mesmerize-core-batch/09610b86-917a-41e7-a493-2d036bf44428/ff76c624-2c29-4c2d-ba91-3eb471a8e9e3_cnmf-memmap_d1_170_d2_170_d3_1_order_C_frames_3000.mmap\n",
      "Decode mmap filename /home/kushalk/caiman_data/mesmerize-core-batch/09610b86-917a-41e7-a493-2d036bf44428/ff76c624-2c29-4c2d-ba91-3eb471a8e9e3_cnmf-memmap_d1_170_d2_170_d3_1_order_C_frames_3000.mmap\n",
      "Decode mmap filename /home/kushalk/caiman_data/mesmerize-core-batch/09610b86-917a-41e7-a493-2d036bf44428/ff76c624-2c29-4c2d-ba91-3eb471a8e9e3_cnmf-memmap_d1_170_d2_170_d3_1_order_C_frames_3000.mmap\n",
      "Decode mmap filename /home/kushalk/caiman_data/mesmerize-core-batch/09610b86-917a-41e7-a493-2d036bf44428/ff76c624-2c29-4c2d-ba91-3eb471a8e9e3_cnmf-memmap_d1_170_d2_170_d3_1_order_C_frames_3000.mmap\n",
      "Decode mmap filename /home/kushalk/caiman_data/mesmerize-core-batch/09610b86-917a-41e7-a493-2d036bf44428/ff76c624-2c29-4c2d-ba91-3eb471a8e9e3_cnmf-memmap_d1_170_d2_170_d3_1_order_C_frames_3000.mmap\n",
      "Decode mmap filename /home/kushalk/caiman_data/mesmerize-core-batch/09610b86-917a-41e7-a493-2d036bf44428/ff76c624-2c29-4c2d-ba91-3eb471a8e9e3_cnmf-memmap_d1_170_d2_170_d3_1_order_C_frames_3000.mmap\n",
      "Decode mmap filename /home/kushalk/caiman_data/mesmerize-core-batch/09610b86-917a-41e7-a493-2d036bf44428/ff76c624-2c29-4c2d-ba91-3eb471a8e9e3_cnmf-memmap_d1_170_d2_170_d3_1_order_C_frames_3000.mmap\n",
      "Decode mmap filename /home/kushalk/caiman_data/mesmerize-core-batch/09610b86-917a-41e7-a493-2d036bf44428/ff76c624-2c29-4c2d-ba91-3eb471a8e9e3_cnmf-memmap_d1_170_d2_170_d3_1_order_C_frames_3000.mmap\n",
      "Decode mmap filename /home/kushalk/caiman_data/mesmerize-core-batch/09610b86-917a-41e7-a493-2d036bf44428/ff76c624-2c29-4c2d-ba91-3eb471a8e9e3_cnmf-memmap_d1_170_d2_170_d3_1_order_C_frames_3000.mmap\n",
      "Decode mmap filename /home/kushalk/caiman_data/mesmerize-core-batch/09610b86-917a-41e7-a493-2d036bf44428/ff76c624-2c29-4c2d-ba91-3eb471a8e9e3_cnmf-memmap_d1_170_d2_170_d3_1_order_C_frames_3000.mmap\n",
      "Decode mmap filename /home/kushalk/caiman_data/mesmerize-core-batch/09610b86-917a-41e7-a493-2d036bf44428/ff76c624-2c29-4c2d-ba91-3eb471a8e9e3_cnmf-memmap_d1_170_d2_170_d3_1_order_C_frames_3000.mmap\n",
      "Decode mmap filename /home/kushalk/caiman_data/mesmerize-core-batch/09610b86-917a-41e7-a493-2d036bf44428/ff76c624-2c29-4c2d-ba91-3eb471a8e9e3_cnmf-memmap_d1_170_d2_170_d3_1_order_C_frames_3000.mmap\n",
      "Decode mmap filename /home/kushalk/caiman_data/mesmerize-core-batch/09610b86-917a-41e7-a493-2d036bf44428/ff76c624-2c29-4c2d-ba91-3eb471a8e9e3_cnmf-memmap_d1_170_d2_170_d3_1_order_C_frames_3000.mmap\n",
      "Decode mmap filename /home/kushalk/caiman_data/mesmerize-core-batch/09610b86-917a-41e7-a493-2d036bf44428/ff76c624-2c29-4c2d-ba91-3eb471a8e9e3_cnmf-memmap_d1_170_d2_170_d3_1_order_C_frames_3000.mmap\n",
      "Decode mmap filename /home/kushalk/caiman_data/mesmerize-core-batch/09610b86-917a-41e7-a493-2d036bf44428/ff76c624-2c29-4c2d-ba91-3eb471a8e9e3_cnmf-memmap_d1_170_d2_170_d3_1_order_C_frames_3000.mmap\n",
      "Decode mmap filename /home/kushalk/caiman_data/mesmerize-core-batch/09610b86-917a-41e7-a493-2d036bf44428/ff76c624-2c29-4c2d-ba91-3eb471a8e9e3_cnmf-memmap_d1_170_d2_170_d3_1_order_C_frames_3000.mmap\n",
      "Decode mmap filename /home/kushalk/caiman_data/mesmerize-core-batch/09610b86-917a-41e7-a493-2d036bf44428/ff76c624-2c29-4c2d-ba91-3eb471a8e9e3_cnmf-memmap_d1_170_d2_170_d3_1_order_C_frames_3000.mmap\n",
      "Decode mmap filename /home/kushalk/caiman_data/mesmerize-core-batch/09610b86-917a-41e7-a493-2d036bf44428/ff76c624-2c29-4c2d-ba91-3eb471a8e9e3_cnmf-memmap_d1_170_d2_170_d3_1_order_C_frames_3000.mmap\n",
      "Decode mmap filename /home/kushalk/caiman_data/mesmerize-core-batch/09610b86-917a-41e7-a493-2d036bf44428/ff76c624-2c29-4c2d-ba91-3eb471a8e9e3_cnmf-memmap_d1_170_d2_170_d3_1_order_C_frames_3000.mmap\n",
      "Decode mmap filename /home/kushalk/caiman_data/mesmerize-core-batch/09610b86-917a-41e7-a493-2d036bf44428/ff76c624-2c29-4c2d-ba91-3eb471a8e9e3_cnmf-memmap_d1_170_d2_170_d3_1_order_C_frames_3000.mmap\n",
      "Decode mmap filename /home/kushalk/caiman_data/mesmerize-core-batch/09610b86-917a-41e7-a493-2d036bf44428/ff76c624-2c29-4c2d-ba91-3eb471a8e9e3_cnmf-memmap_d1_170_d2_170_d3_1_order_C_frames_3000.mmap\n",
      "Decode mmap filename /home/kushalk/caiman_data/mesmerize-core-batch/09610b86-917a-41e7-a493-2d036bf44428/ff76c624-2c29-4c2d-ba91-3eb471a8e9e3_cnmf-memmap_d1_170_d2_170_d3_1_order_C_frames_3000.mmap\n",
      "Decode mmap filename /home/kushalk/caiman_data/mesmerize-core-batch/09610b86-917a-41e7-a493-2d036bf44428/ff76c624-2c29-4c2d-ba91-3eb471a8e9e3_cnmf-memmap_d1_170_d2_170_d3_1_order_C_frames_3000.mmap\n",
      "Decode mmap filename /home/kushalk/caiman_data/mesmerize-core-batch/09610b86-917a-41e7-a493-2d036bf44428/ff76c624-2c29-4c2d-ba91-3eb471a8e9e3_cnmf-memmap_d1_170_d2_170_d3_1_order_C_frames_3000.mmap\n",
      "Decode mmap filename /home/kushalk/caiman_data/mesmerize-core-batch/09610b86-917a-41e7-a493-2d036bf44428/ff76c624-2c29-4c2d-ba91-3eb471a8e9e3_cnmf-memmap_d1_170_d2_170_d3_1_order_C_frames_3000.mmap\n",
      "Decode mmap filename /home/kushalk/caiman_data/mesmerize-core-batch/09610b86-917a-41e7-a493-2d036bf44428/ff76c624-2c29-4c2d-ba91-3eb471a8e9e3_cnmf-memmap_d1_170_d2_170_d3_1_order_C_frames_3000.mmap\n",
      "Decode mmap filename /home/kushalk/caiman_data/mesmerize-core-batch/09610b86-917a-41e7-a493-2d036bf44428/ff76c624-2c29-4c2d-ba91-3eb471a8e9e3_cnmf-memmap_d1_170_d2_170_d3_1_order_C_frames_3000.mmap\n",
      "Decode mmap filename /home/kushalk/caiman_data/mesmerize-core-batch/09610b86-917a-41e7-a493-2d036bf44428/ff76c624-2c29-4c2d-ba91-3eb471a8e9e3_cnmf-memmap_d1_170_d2_170_d3_1_order_C_frames_3000.mmap\n",
      "Decode mmap filename /home/kushalk/caiman_data/mesmerize-core-batch/09610b86-917a-41e7-a493-2d036bf44428/ff76c624-2c29-4c2d-ba91-3eb471a8e9e3_cnmf-memmap_d1_170_d2_170_d3_1_order_C_frames_3000.mmap\n",
      "Decode mmap filename /home/kushalk/caiman_data/mesmerize-core-batch/09610b86-917a-41e7-a493-2d036bf44428/ff76c624-2c29-4c2d-ba91-3eb471a8e9e3_cnmf-memmap_d1_170_d2_170_d3_1_order_C_frames_3000.mmap\n",
      "Decode mmap filename /home/kushalk/caiman_data/mesmerize-core-batch/09610b86-917a-41e7-a493-2d036bf44428/ff76c624-2c29-4c2d-ba91-3eb471a8e9e3_cnmf-memmap_d1_170_d2_170_d3_1_order_C_frames_3000.mmap\n",
      "Decode mmap filename /home/kushalk/caiman_data/mesmerize-core-batch/09610b86-917a-41e7-a493-2d036bf44428/ff76c624-2c29-4c2d-ba91-3eb471a8e9e3_cnmf-memmap_d1_170_d2_170_d3_1_order_C_frames_3000.mmap\n",
      "Decode mmap filename /home/kushalk/caiman_data/mesmerize-core-batch/09610b86-917a-41e7-a493-2d036bf44428/ff76c624-2c29-4c2d-ba91-3eb471a8e9e3_cnmf-memmap_d1_170_d2_170_d3_1_order_C_frames_3000.mmap\n",
      "Decode mmap filename /home/kushalk/caiman_data/mesmerize-core-batch/09610b86-917a-41e7-a493-2d036bf44428/ff76c624-2c29-4c2d-ba91-3eb471a8e9e3_cnmf-memmap_d1_170_d2_170_d3_1_order_C_frames_3000.mmap\n",
      "Decode mmap filename /home/kushalk/caiman_data/mesmerize-core-batch/09610b86-917a-41e7-a493-2d036bf44428/ff76c624-2c29-4c2d-ba91-3eb471a8e9e3_cnmf-memmap_d1_170_d2_170_d3_1_order_C_frames_3000.mmap\n",
      "Decode mmap filename /home/kushalk/caiman_data/mesmerize-core-batch/09610b86-917a-41e7-a493-2d036bf44428/ff76c624-2c29-4c2d-ba91-3eb471a8e9e3_cnmf-memmap_d1_170_d2_170_d3_1_order_C_frames_3000.mmap\n",
      "Decode mmap filename /home/kushalk/caiman_data/mesmerize-core-batch/09610b86-917a-41e7-a493-2d036bf44428/ff76c624-2c29-4c2d-ba91-3eb471a8e9e3_cnmf-memmap_d1_170_d2_170_d3_1_order_C_frames_3000.mmap\n",
      "Decode mmap filename /home/kushalk/caiman_data/mesmerize-core-batch/09610b86-917a-41e7-a493-2d036bf44428/ff76c624-2c29-4c2d-ba91-3eb471a8e9e3_cnmf-memmap_d1_170_d2_170_d3_1_order_C_frames_3000.mmap\n",
      "Decode mmap filename /home/kushalk/caiman_data/mesmerize-core-batch/09610b86-917a-41e7-a493-2d036bf44428/ff76c624-2c29-4c2d-ba91-3eb471a8e9e3_cnmf-memmap_d1_170_d2_170_d3_1_order_C_frames_3000.mmap\n",
      "Decode mmap filename /home/kushalk/caiman_data/mesmerize-core-batch/09610b86-917a-41e7-a493-2d036bf44428/ff76c624-2c29-4c2d-ba91-3eb471a8e9e3_cnmf-memmap_d1_170_d2_170_d3_1_order_C_frames_3000.mmap\n",
      "Decode mmap filename /home/kushalk/caiman_data/mesmerize-core-batch/09610b86-917a-41e7-a493-2d036bf44428/ff76c624-2c29-4c2d-ba91-3eb471a8e9e3_cnmf-memmap_d1_170_d2_170_d3_1_order_C_frames_3000.mmap\n",
      "Decode mmap filename /home/kushalk/caiman_data/mesmerize-core-batch/09610b86-917a-41e7-a493-2d036bf44428/ff76c624-2c29-4c2d-ba91-3eb471a8e9e3_cnmf-memmap_d1_170_d2_170_d3_1_order_C_frames_3000.mmap\n",
      "Decode mmap filename /home/kushalk/caiman_data/mesmerize-core-batch/09610b86-917a-41e7-a493-2d036bf44428/ff76c624-2c29-4c2d-ba91-3eb471a8e9e3_cnmf-memmap_d1_170_d2_170_d3_1_order_C_frames_3000.mmap\n",
      "Decode mmap filename /home/kushalk/caiman_data/mesmerize-core-batch/09610b86-917a-41e7-a493-2d036bf44428/ff76c624-2c29-4c2d-ba91-3eb471a8e9e3_cnmf-memmap_d1_170_d2_170_d3_1_order_C_frames_3000.mmap\n",
      "Decode mmap filename /home/kushalk/caiman_data/mesmerize-core-batch/09610b86-917a-41e7-a493-2d036bf44428/ff76c624-2c29-4c2d-ba91-3eb471a8e9e3_cnmf-memmap_d1_170_d2_170_d3_1_order_C_frames_3000.mmap\n",
      "Decode mmap filename /home/kushalk/caiman_data/mesmerize-core-batch/09610b86-917a-41e7-a493-2d036bf44428/ff76c624-2c29-4c2d-ba91-3eb471a8e9e3_cnmf-memmap_d1_170_d2_170_d3_1_order_C_frames_3000.mmap\n",
      "Decode mmap filename /home/kushalk/caiman_data/mesmerize-core-batch/09610b86-917a-41e7-a493-2d036bf44428/ff76c624-2c29-4c2d-ba91-3eb471a8e9e3_cnmf-memmap_d1_170_d2_170_d3_1_order_C_frames_3000.mmap\n",
      "Decode mmap filename /home/kushalk/caiman_data/mesmerize-core-batch/09610b86-917a-41e7-a493-2d036bf44428/ff76c624-2c29-4c2d-ba91-3eb471a8e9e3_cnmf-memmap_d1_170_d2_170_d3_1_order_C_frames_3000.mmap\n",
      "Decode mmap filename /home/kushalk/caiman_data/mesmerize-core-batch/09610b86-917a-41e7-a493-2d036bf44428/ff76c624-2c29-4c2d-ba91-3eb471a8e9e3_cnmf-memmap_d1_170_d2_170_d3_1_order_C_frames_3000.mmap\n",
      "Decode mmap filename /home/kushalk/caiman_data/mesmerize-core-batch/09610b86-917a-41e7-a493-2d036bf44428/ff76c624-2c29-4c2d-ba91-3eb471a8e9e3_cnmf-memmap_d1_170_d2_170_d3_1_order_C_frames_3000.mmap\n",
      "Decode mmap filename /home/kushalk/caiman_data/mesmerize-core-batch/09610b86-917a-41e7-a493-2d036bf44428/ff76c624-2c29-4c2d-ba91-3eb471a8e9e3_cnmf-memmap_d1_170_d2_170_d3_1_order_C_frames_3000.mmap\n",
      "Decode mmap filename /home/kushalk/caiman_data/mesmerize-core-batch/09610b86-917a-41e7-a493-2d036bf44428/ff76c624-2c29-4c2d-ba91-3eb471a8e9e3_cnmf-memmap_d1_170_d2_170_d3_1_order_C_frames_3000.mmap\n",
      "Decode mmap filename /home/kushalk/caiman_data/mesmerize-core-batch/09610b86-917a-41e7-a493-2d036bf44428/ff76c624-2c29-4c2d-ba91-3eb471a8e9e3_cnmf-memmap_d1_170_d2_170_d3_1_order_C_frames_3000.mmap\n",
      "Decode mmap filename /home/kushalk/caiman_data/mesmerize-core-batch/09610b86-917a-41e7-a493-2d036bf44428/ff76c624-2c29-4c2d-ba91-3eb471a8e9e3_cnmf-memmap_d1_170_d2_170_d3_1_order_C_frames_3000.mmap\n",
      "Decode mmap filename /home/kushalk/caiman_data/mesmerize-core-batch/09610b86-917a-41e7-a493-2d036bf44428/ff76c624-2c29-4c2d-ba91-3eb471a8e9e3_cnmf-memmap_d1_170_d2_170_d3_1_order_C_frames_3000.mmap\n",
      "Decode mmap filename /home/kushalk/caiman_data/mesmerize-core-batch/09610b86-917a-41e7-a493-2d036bf44428/ff76c624-2c29-4c2d-ba91-3eb471a8e9e3_cnmf-memmap_d1_170_d2_170_d3_1_order_C_frames_3000.mmap\n",
      "Decode mmap filename /home/kushalk/caiman_data/mesmerize-core-batch/09610b86-917a-41e7-a493-2d036bf44428/ff76c624-2c29-4c2d-ba91-3eb471a8e9e3_cnmf-memmap_d1_170_d2_170_d3_1_order_C_frames_3000.mmap\n",
      "Decode mmap filename /home/kushalk/caiman_data/mesmerize-core-batch/09610b86-917a-41e7-a493-2d036bf44428/ff76c624-2c29-4c2d-ba91-3eb471a8e9e3_cnmf-memmap_d1_170_d2_170_d3_1_order_C_frames_3000.mmap\n",
      "Decode mmap filename /home/kushalk/caiman_data/mesmerize-core-batch/09610b86-917a-41e7-a493-2d036bf44428/ff76c624-2c29-4c2d-ba91-3eb471a8e9e3_cnmf-memmap_d1_170_d2_170_d3_1_order_C_frames_3000.mmap\n",
      "Decode mmap filename /home/kushalk/caiman_data/mesmerize-core-batch/09610b86-917a-41e7-a493-2d036bf44428/ff76c624-2c29-4c2d-ba91-3eb471a8e9e3_cnmf-memmap_d1_170_d2_170_d3_1_order_C_frames_3000.mmap\n",
      "Decode mmap filename /home/kushalk/caiman_data/mesmerize-core-batch/09610b86-917a-41e7-a493-2d036bf44428/ff76c624-2c29-4c2d-ba91-3eb471a8e9e3_cnmf-memmap_d1_170_d2_170_d3_1_order_C_frames_3000.mmap\n",
      "Decode mmap filename /home/kushalk/caiman_data/mesmerize-core-batch/09610b86-917a-41e7-a493-2d036bf44428/ff76c624-2c29-4c2d-ba91-3eb471a8e9e3_cnmf-memmap_d1_170_d2_170_d3_1_order_C_frames_3000.mmap\n",
      "Decode mmap filename /home/kushalk/caiman_data/mesmerize-core-batch/09610b86-917a-41e7-a493-2d036bf44428/ff76c624-2c29-4c2d-ba91-3eb471a8e9e3_cnmf-memmap_d1_170_d2_170_d3_1_order_C_frames_3000.mmap\n",
      "Decode mmap filename /home/kushalk/caiman_data/mesmerize-core-batch/09610b86-917a-41e7-a493-2d036bf44428/ff76c624-2c29-4c2d-ba91-3eb471a8e9e3_cnmf-memmap_d1_170_d2_170_d3_1_order_C_frames_3000.mmap\n",
      "Decode mmap filename /home/kushalk/caiman_data/mesmerize-core-batch/09610b86-917a-41e7-a493-2d036bf44428/ff76c624-2c29-4c2d-ba91-3eb471a8e9e3_cnmf-memmap_d1_170_d2_170_d3_1_order_C_frames_3000.mmap\n",
      "Decode mmap filename /home/kushalk/caiman_data/mesmerize-core-batch/09610b86-917a-41e7-a493-2d036bf44428/ff76c624-2c29-4c2d-ba91-3eb471a8e9e3_cnmf-memmap_d1_170_d2_170_d3_1_order_C_frames_3000.mmap\n",
      "Decode mmap filename /home/kushalk/caiman_data/mesmerize-core-batch/09610b86-917a-41e7-a493-2d036bf44428/ff76c624-2c29-4c2d-ba91-3eb471a8e9e3_cnmf-memmap_d1_170_d2_170_d3_1_order_C_frames_3000.mmap\n",
      "Decode mmap filename /home/kushalk/caiman_data/mesmerize-core-batch/09610b86-917a-41e7-a493-2d036bf44428/ff76c624-2c29-4c2d-ba91-3eb471a8e9e3_cnmf-memmap_d1_170_d2_170_d3_1_order_C_frames_3000.mmap\n",
      "Decode mmap filename /home/kushalk/caiman_data/mesmerize-core-batch/09610b86-917a-41e7-a493-2d036bf44428/ff76c624-2c29-4c2d-ba91-3eb471a8e9e3_cnmf-memmap_d1_170_d2_170_d3_1_order_C_frames_3000.mmap\n",
      "Decode mmap filename /home/kushalk/caiman_data/mesmerize-core-batch/09610b86-917a-41e7-a493-2d036bf44428/ff76c624-2c29-4c2d-ba91-3eb471a8e9e3_cnmf-memmap_d1_170_d2_170_d3_1_order_C_frames_3000.mmap\n",
      "Decode mmap filename /home/kushalk/caiman_data/mesmerize-core-batch/09610b86-917a-41e7-a493-2d036bf44428/ff76c624-2c29-4c2d-ba91-3eb471a8e9e3_cnmf-memmap_d1_170_d2_170_d3_1_order_C_frames_3000.mmap\n",
      "Decode mmap filename /home/kushalk/caiman_data/mesmerize-core-batch/09610b86-917a-41e7-a493-2d036bf44428/ff76c624-2c29-4c2d-ba91-3eb471a8e9e3_cnmf-memmap_d1_170_d2_170_d3_1_order_C_frames_3000.mmap\n",
      "Decode mmap filename /home/kushalk/caiman_data/mesmerize-core-batch/09610b86-917a-41e7-a493-2d036bf44428/ff76c624-2c29-4c2d-ba91-3eb471a8e9e3_cnmf-memmap_d1_170_d2_170_d3_1_order_C_frames_3000.mmap\n",
      "Decode mmap filename /home/kushalk/caiman_data/mesmerize-core-batch/09610b86-917a-41e7-a493-2d036bf44428/ff76c624-2c29-4c2d-ba91-3eb471a8e9e3_cnmf-memmap_d1_170_d2_170_d3_1_order_C_frames_3000.mmap\n",
      "Decode mmap filename /home/kushalk/caiman_data/mesmerize-core-batch/09610b86-917a-41e7-a493-2d036bf44428/ff76c624-2c29-4c2d-ba91-3eb471a8e9e3_cnmf-memmap_d1_170_d2_170_d3_1_order_C_frames_3000.mmap\n",
      "Decode mmap filename /home/kushalk/caiman_data/mesmerize-core-batch/09610b86-917a-41e7-a493-2d036bf44428/ff76c624-2c29-4c2d-ba91-3eb471a8e9e3_cnmf-memmap_d1_170_d2_170_d3_1_order_C_frames_3000.mmap\n",
      "Decode mmap filename /home/kushalk/caiman_data/mesmerize-core-batch/09610b86-917a-41e7-a493-2d036bf44428/ff76c624-2c29-4c2d-ba91-3eb471a8e9e3_cnmf-memmap_d1_170_d2_170_d3_1_order_C_frames_3000.mmap\n",
      "Decode mmap filename /home/kushalk/caiman_data/mesmerize-core-batch/09610b86-917a-41e7-a493-2d036bf44428/ff76c624-2c29-4c2d-ba91-3eb471a8e9e3_cnmf-memmap_d1_170_d2_170_d3_1_order_C_frames_3000.mmap\n",
      "Decode mmap filename /home/kushalk/caiman_data/mesmerize-core-batch/09610b86-917a-41e7-a493-2d036bf44428/ff76c624-2c29-4c2d-ba91-3eb471a8e9e3_cnmf-memmap_d1_170_d2_170_d3_1_order_C_frames_3000.mmap\n",
      "Decode mmap filename /home/kushalk/caiman_data/mesmerize-core-batch/09610b86-917a-41e7-a493-2d036bf44428/ff76c624-2c29-4c2d-ba91-3eb471a8e9e3_cnmf-memmap_d1_170_d2_170_d3_1_order_C_frames_3000.mmap\n",
      "Decode mmap filename /home/kushalk/caiman_data/mesmerize-core-batch/09610b86-917a-41e7-a493-2d036bf44428/ff76c624-2c29-4c2d-ba91-3eb471a8e9e3_cnmf-memmap_d1_170_d2_170_d3_1_order_C_frames_3000.mmap\n",
      "Decode mmap filename /home/kushalk/caiman_data/mesmerize-core-batch/09610b86-917a-41e7-a493-2d036bf44428/ff76c624-2c29-4c2d-ba91-3eb471a8e9e3_cnmf-memmap_d1_170_d2_170_d3_1_order_C_frames_3000.mmap\n",
      "Decode mmap filename /home/kushalk/caiman_data/mesmerize-core-batch/09610b86-917a-41e7-a493-2d036bf44428/ff76c624-2c29-4c2d-ba91-3eb471a8e9e3_cnmf-memmap_d1_170_d2_170_d3_1_order_C_frames_3000.mmap\n",
      "Decode mmap filename /home/kushalk/caiman_data/mesmerize-core-batch/09610b86-917a-41e7-a493-2d036bf44428/ff76c624-2c29-4c2d-ba91-3eb471a8e9e3_cnmf-memmap_d1_170_d2_170_d3_1_order_C_frames_3000.mmap\n",
      "Decode mmap filename /home/kushalk/caiman_data/mesmerize-core-batch/09610b86-917a-41e7-a493-2d036bf44428/ff76c624-2c29-4c2d-ba91-3eb471a8e9e3_cnmf-memmap_d1_170_d2_170_d3_1_order_C_frames_3000.mmap\n",
      "Decode mmap filename /home/kushalk/caiman_data/mesmerize-core-batch/09610b86-917a-41e7-a493-2d036bf44428/ff76c624-2c29-4c2d-ba91-3eb471a8e9e3_cnmf-memmap_d1_170_d2_170_d3_1_order_C_frames_3000.mmap\n",
      "Decode mmap filename /home/kushalk/caiman_data/mesmerize-core-batch/09610b86-917a-41e7-a493-2d036bf44428/ff76c624-2c29-4c2d-ba91-3eb471a8e9e3_cnmf-memmap_d1_170_d2_170_d3_1_order_C_frames_3000.mmap\n",
      "Decode mmap filename /home/kushalk/caiman_data/mesmerize-core-batch/09610b86-917a-41e7-a493-2d036bf44428/ff76c624-2c29-4c2d-ba91-3eb471a8e9e3_cnmf-memmap_d1_170_d2_170_d3_1_order_C_frames_3000.mmap\n",
      "Decode mmap filename /home/kushalk/caiman_data/mesmerize-core-batch/09610b86-917a-41e7-a493-2d036bf44428/ff76c624-2c29-4c2d-ba91-3eb471a8e9e3_cnmf-memmap_d1_170_d2_170_d3_1_order_C_frames_3000.mmap\n",
      "Decode mmap filename /home/kushalk/caiman_data/mesmerize-core-batch/09610b86-917a-41e7-a493-2d036bf44428/ff76c624-2c29-4c2d-ba91-3eb471a8e9e3_cnmf-memmap_d1_170_d2_170_d3_1_order_C_frames_3000.mmap\n",
      "Decode mmap filename /home/kushalk/caiman_data/mesmerize-core-batch/09610b86-917a-41e7-a493-2d036bf44428/ff76c624-2c29-4c2d-ba91-3eb471a8e9e3_cnmf-memmap_d1_170_d2_170_d3_1_order_C_frames_3000.mmap\n",
      "Decode mmap filename /home/kushalk/caiman_data/mesmerize-core-batch/09610b86-917a-41e7-a493-2d036bf44428/ff76c624-2c29-4c2d-ba91-3eb471a8e9e3_cnmf-memmap_d1_170_d2_170_d3_1_order_C_frames_3000.mmap\n",
      "Decode mmap filename /home/kushalk/caiman_data/mesmerize-core-batch/09610b86-917a-41e7-a493-2d036bf44428/ff76c624-2c29-4c2d-ba91-3eb471a8e9e3_cnmf-memmap_d1_170_d2_170_d3_1_order_C_frames_3000.mmap\n",
      "Decode mmap filename /home/kushalk/caiman_data/mesmerize-core-batch/09610b86-917a-41e7-a493-2d036bf44428/ff76c624-2c29-4c2d-ba91-3eb471a8e9e3_cnmf-memmap_d1_170_d2_170_d3_1_order_C_frames_3000.mmap\n",
      "Decode mmap filename /home/kushalk/caiman_data/mesmerize-core-batch/09610b86-917a-41e7-a493-2d036bf44428/ff76c624-2c29-4c2d-ba91-3eb471a8e9e3_cnmf-memmap_d1_170_d2_170_d3_1_order_C_frames_3000.mmap\n",
      "Decode mmap filename /home/kushalk/caiman_data/mesmerize-core-batch/09610b86-917a-41e7-a493-2d036bf44428/ff76c624-2c29-4c2d-ba91-3eb471a8e9e3_cnmf-memmap_d1_170_d2_170_d3_1_order_C_frames_3000.mmap\n",
      "Decode mmap filename /home/kushalk/caiman_data/mesmerize-core-batch/09610b86-917a-41e7-a493-2d036bf44428/ff76c624-2c29-4c2d-ba91-3eb471a8e9e3_cnmf-memmap_d1_170_d2_170_d3_1_order_C_frames_3000.mmap\n",
      "Decode mmap filename /home/kushalk/caiman_data/mesmerize-core-batch/09610b86-917a-41e7-a493-2d036bf44428/ff76c624-2c29-4c2d-ba91-3eb471a8e9e3_cnmf-memmap_d1_170_d2_170_d3_1_order_C_frames_3000.mmap\n",
      "Decode mmap filename /home/kushalk/caiman_data/mesmerize-core-batch/09610b86-917a-41e7-a493-2d036bf44428/ff76c624-2c29-4c2d-ba91-3eb471a8e9e3_cnmf-memmap_d1_170_d2_170_d3_1_order_C_frames_3000.mmap\n",
      "Decode mmap filename /home/kushalk/caiman_data/mesmerize-core-batch/09610b86-917a-41e7-a493-2d036bf44428/ff76c624-2c29-4c2d-ba91-3eb471a8e9e3_cnmf-memmap_d1_170_d2_170_d3_1_order_C_frames_3000.mmap\n"
     ]
    },
    {
     "name": "stderr",
     "output_type": "stream",
     "text": [
      "2023-01-08 01:32:43.116534: I tensorflow/core/platform/cpu_feature_guard.cc:193] This TensorFlow binary is optimized with oneAPI Deep Neural Network Library (oneDNN) to use the following CPU instructions in performance-critical operations:  AVX2 FMA\n",
      "To enable them in other operations, rebuild TensorFlow with the appropriate compiler flags.\n",
      "2023-01-08 01:32:43.199247: E tensorflow/stream_executor/cuda/cuda_blas.cc:2981] Unable to register cuBLAS factory: Attempting to register factory for plugin cuBLAS when one has already been registered\n",
      "2023-01-08 01:32:43.572060: W tensorflow/stream_executor/platform/default/dso_loader.cc:64] Could not load dynamic library 'libnvinfer.so.7'; dlerror: libnvinfer.so.7: cannot open shared object file: No such file or directory; LD_LIBRARY_PATH: /home/kushalk/python-venvs/mescore/lib/python3.10/site-packages/cv2/../../lib64:/home/kushalk/python-venvs/mescore/lib/python3.10/site-packages/cv2/../../lib64:/usr/local/cuda-11.2/lib64:/usr/local/cuda-11.2/lib64\n",
      "2023-01-08 01:32:43.572113: W tensorflow/stream_executor/platform/default/dso_loader.cc:64] Could not load dynamic library 'libnvinfer_plugin.so.7'; dlerror: libnvinfer_plugin.so.7: cannot open shared object file: No such file or directory; LD_LIBRARY_PATH: /home/kushalk/python-venvs/mescore/lib/python3.10/site-packages/cv2/../../lib64:/home/kushalk/python-venvs/mescore/lib/python3.10/site-packages/cv2/../../lib64:/usr/local/cuda-11.2/lib64:/usr/local/cuda-11.2/lib64\n",
      "2023-01-08 01:32:43.572118: W tensorflow/compiler/tf2tensorrt/utils/py_utils.cc:38] TF-TRT Warning: Cannot dlopen some TensorRT libraries. If you would like to use Nvidia GPU with TensorRT, please make sure the missing libraries mentioned above are installed properly.\n"
     ]
    },
    {
     "name": "stdout",
     "output_type": "stream",
     "text": [
      "************************************************************************\n",
      "\n",
      "Starting CNMF item:\n",
      "algo                                                             cnmf\n",
      "item_name                                          Sue_2x_3000_40_-46\n",
      "input_movie_path    09610b86-917a-41e7-a493-2d036bf44428/09610b86-...\n",
      "params              {'main': {'fr': 30, 'p': 1, 'nb': 2, 'merge_th...\n",
      "outputs                                                          None\n",
      "comments                                                         None\n",
      "uuid                             879d1d8b-dfe7-4b4f-aa2f-b987d83f7788\n",
      "Name: 6, dtype: object\n",
      "With params:{'main': {'fr': 30, 'p': 1, 'nb': 2, 'merge_thr': 0.8, 'rf': 15, 'stride': 6, 'K': 4, 'gSig': (8, 8), 'ssub': 1, 'tsub': 1, 'method_init': 'greedy_roi', 'min_SNR': 2.0, 'rval_thr': 0.7, 'use_cnn': True, 'min_cnn_thr': 0.8, 'cnn_lowest': 0.1, 'decay_time': 0.4}, 'refit': True}\n"
     ]
    },
    {
     "name": "stderr",
     "output_type": "stream",
     "text": [
      "WARNING:root:Changing rf from 15 to 34 because the constraint rf > gSiz was not satisfied.\n"
     ]
    },
    {
     "name": "stdout",
     "output_type": "stream",
     "text": [
      "Decode mmap filename /home/kushalk/caiman_data/mesmerize-core-batch/09610b86-917a-41e7-a493-2d036bf44428/09610b86-917a-41e7-a493-2d036bf44428-Sue_2x_3000_40_-46_els__d1_170_d2_170_d3_1_order_F_frames_3000.mmap\n",
      "making memmap\n",
      "Decode mmap filename /home/kushalk/caiman_data/mesmerize-core-batch/09610b86-917a-41e7-a493-2d036bf44428/879d1d8b-dfe7-4b4f-aa2f-b987d83f7788_cnmf-memmap_d1_170_d2_170_d3_1_order_C_frames_3000.mmap\n"
     ]
    },
    {
     "name": "stderr",
     "output_type": "stream",
     "text": [
      "WARNING:root:Component 1 is only active jointly with neighboring components. Space correlation calculation might be unreliable.\n",
      "WARNING:root:Component 3 is only active jointly with neighboring components. Space correlation calculation might be unreliable.\n",
      "WARNING:root:Component 23 is only active jointly with neighboring components. Space correlation calculation might be unreliable.\n",
      "WARNING:root:Component 45 is only active jointly with neighboring components. Space correlation calculation might be unreliable.\n",
      "2023-01-08 01:32:58.389478: E tensorflow/stream_executor/cuda/cuda_driver.cc:265] failed call to cuInit: CUDA_ERROR_NO_DEVICE: no CUDA-capable device is detected\n",
      "2023-01-08 01:32:58.389498: I tensorflow/stream_executor/cuda/cuda_diagnostics.cc:169] retrieving CUDA diagnostic information for host: hantman-calcium\n",
      "2023-01-08 01:32:58.389501: I tensorflow/stream_executor/cuda/cuda_diagnostics.cc:176] hostname: hantman-calcium\n",
      "2023-01-08 01:32:58.389603: I tensorflow/stream_executor/cuda/cuda_diagnostics.cc:200] libcuda reported version is: 470.161.3\n",
      "2023-01-08 01:32:58.389615: I tensorflow/stream_executor/cuda/cuda_diagnostics.cc:204] kernel reported version is: 470.161.3\n",
      "2023-01-08 01:32:58.389619: I tensorflow/stream_executor/cuda/cuda_diagnostics.cc:310] kernel version seems to match DSO: 470.161.3\n",
      "2023-01-08 01:32:58.389791: I tensorflow/core/platform/cpu_feature_guard.cc:193] This TensorFlow binary is optimized with oneAPI Deep Neural Network Library (oneDNN) to use the following CPU instructions in performance-critical operations:  AVX2 FMA\n",
      "To enable them in other operations, rebuild TensorFlow with the appropriate compiler flags.\n"
     ]
    },
    {
     "name": "stdout",
     "output_type": "stream",
     "text": [
      "performing CNMF\n",
      "fitting images\n",
      "refitting\n",
      "performing eval\n",
      "GPU run not requested, disabling use of GPUs\n",
      "USING MODEL (keras API): /home/kushalk/caiman_data/model/cnn_model.json\n",
      "6/6 [==============================] - 0s 9ms/step\n",
      "Decode mmap filename /home/kushalk/caiman_data/mesmerize-core-batch/09610b86-917a-41e7-a493-2d036bf44428/879d1d8b-dfe7-4b4f-aa2f-b987d83f7788_cnmf-memmap_d1_170_d2_170_d3_1_order_C_frames_3000.mmap\n",
      "Decode mmap filename /home/kushalk/caiman_data/mesmerize-core-batch/09610b86-917a-41e7-a493-2d036bf44428/879d1d8b-dfe7-4b4f-aa2f-b987d83f7788_cnmf-memmap_d1_170_d2_170_d3_1_order_C_frames_3000.mmap\n",
      "Decode mmap filename /home/kushalk/caiman_data/mesmerize-core-batch/09610b86-917a-41e7-a493-2d036bf44428/879d1d8b-dfe7-4b4f-aa2f-b987d83f7788_cnmf-memmap_d1_170_d2_170_d3_1_order_C_frames_3000.mmap\n",
      "Decode mmap filename /home/kushalk/caiman_data/mesmerize-core-batch/09610b86-917a-41e7-a493-2d036bf44428/879d1d8b-dfe7-4b4f-aa2f-b987d83f7788_cnmf-memmap_d1_170_d2_170_d3_1_order_C_frames_3000.mmap\n",
      "Decode mmap filename /home/kushalk/caiman_data/mesmerize-core-batch/09610b86-917a-41e7-a493-2d036bf44428/879d1d8b-dfe7-4b4f-aa2f-b987d83f7788_cnmf-memmap_d1_170_d2_170_d3_1_order_C_frames_3000.mmap\n",
      "Decode mmap filename /home/kushalk/caiman_data/mesmerize-core-batch/09610b86-917a-41e7-a493-2d036bf44428/879d1d8b-dfe7-4b4f-aa2f-b987d83f7788_cnmf-memmap_d1_170_d2_170_d3_1_order_C_frames_3000.mmap\n",
      "Decode mmap filename /home/kushalk/caiman_data/mesmerize-core-batch/09610b86-917a-41e7-a493-2d036bf44428/879d1d8b-dfe7-4b4f-aa2f-b987d83f7788_cnmf-memmap_d1_170_d2_170_d3_1_order_C_frames_3000.mmap\n",
      "Decode mmap filename /home/kushalk/caiman_data/mesmerize-core-batch/09610b86-917a-41e7-a493-2d036bf44428/879d1d8b-dfe7-4b4f-aa2f-b987d83f7788_cnmf-memmap_d1_170_d2_170_d3_1_order_C_frames_3000.mmap\n",
      "Decode mmap filename /home/kushalk/caiman_data/mesmerize-core-batch/09610b86-917a-41e7-a493-2d036bf44428/879d1d8b-dfe7-4b4f-aa2f-b987d83f7788_cnmf-memmap_d1_170_d2_170_d3_1_order_C_frames_3000.mmap\n",
      "Decode mmap filename /home/kushalk/caiman_data/mesmerize-core-batch/09610b86-917a-41e7-a493-2d036bf44428/879d1d8b-dfe7-4b4f-aa2f-b987d83f7788_cnmf-memmap_d1_170_d2_170_d3_1_order_C_frames_3000.mmap\n",
      "Decode mmap filename /home/kushalk/caiman_data/mesmerize-core-batch/09610b86-917a-41e7-a493-2d036bf44428/879d1d8b-dfe7-4b4f-aa2f-b987d83f7788_cnmf-memmap_d1_170_d2_170_d3_1_order_C_frames_3000.mmap\n",
      "Decode mmap filename /home/kushalk/caiman_data/mesmerize-core-batch/09610b86-917a-41e7-a493-2d036bf44428/879d1d8b-dfe7-4b4f-aa2f-b987d83f7788_cnmf-memmap_d1_170_d2_170_d3_1_order_C_frames_3000.mmap\n",
      "Decode mmap filename /home/kushalk/caiman_data/mesmerize-core-batch/09610b86-917a-41e7-a493-2d036bf44428/879d1d8b-dfe7-4b4f-aa2f-b987d83f7788_cnmf-memmap_d1_170_d2_170_d3_1_order_C_frames_3000.mmap\n",
      "Decode mmap filename /home/kushalk/caiman_data/mesmerize-core-batch/09610b86-917a-41e7-a493-2d036bf44428/879d1d8b-dfe7-4b4f-aa2f-b987d83f7788_cnmf-memmap_d1_170_d2_170_d3_1_order_C_frames_3000.mmap\n",
      "Decode mmap filename /home/kushalk/caiman_data/mesmerize-core-batch/09610b86-917a-41e7-a493-2d036bf44428/879d1d8b-dfe7-4b4f-aa2f-b987d83f7788_cnmf-memmap_d1_170_d2_170_d3_1_order_C_frames_3000.mmap\n",
      "Decode mmap filename /home/kushalk/caiman_data/mesmerize-core-batch/09610b86-917a-41e7-a493-2d036bf44428/879d1d8b-dfe7-4b4f-aa2f-b987d83f7788_cnmf-memmap_d1_170_d2_170_d3_1_order_C_frames_3000.mmap\n",
      "Decode mmap filename /home/kushalk/caiman_data/mesmerize-core-batch/09610b86-917a-41e7-a493-2d036bf44428/879d1d8b-dfe7-4b4f-aa2f-b987d83f7788_cnmf-memmap_d1_170_d2_170_d3_1_order_C_frames_3000.mmap\n",
      "Decode mmap filename /home/kushalk/caiman_data/mesmerize-core-batch/09610b86-917a-41e7-a493-2d036bf44428/879d1d8b-dfe7-4b4f-aa2f-b987d83f7788_cnmf-memmap_d1_170_d2_170_d3_1_order_C_frames_3000.mmap\n",
      "Decode mmap filename /home/kushalk/caiman_data/mesmerize-core-batch/09610b86-917a-41e7-a493-2d036bf44428/879d1d8b-dfe7-4b4f-aa2f-b987d83f7788_cnmf-memmap_d1_170_d2_170_d3_1_order_C_frames_3000.mmap\n",
      "Decode mmap filename /home/kushalk/caiman_data/mesmerize-core-batch/09610b86-917a-41e7-a493-2d036bf44428/879d1d8b-dfe7-4b4f-aa2f-b987d83f7788_cnmf-memmap_d1_170_d2_170_d3_1_order_C_frames_3000.mmap\n",
      "Decode mmap filename /home/kushalk/caiman_data/mesmerize-core-batch/09610b86-917a-41e7-a493-2d036bf44428/879d1d8b-dfe7-4b4f-aa2f-b987d83f7788_cnmf-memmap_d1_170_d2_170_d3_1_order_C_frames_3000.mmap\n",
      "Decode mmap filename /home/kushalk/caiman_data/mesmerize-core-batch/09610b86-917a-41e7-a493-2d036bf44428/879d1d8b-dfe7-4b4f-aa2f-b987d83f7788_cnmf-memmap_d1_170_d2_170_d3_1_order_C_frames_3000.mmap\n",
      "Decode mmap filename /home/kushalk/caiman_data/mesmerize-core-batch/09610b86-917a-41e7-a493-2d036bf44428/879d1d8b-dfe7-4b4f-aa2f-b987d83f7788_cnmf-memmap_d1_170_d2_170_d3_1_order_C_frames_3000.mmap\n",
      "Decode mmap filename /home/kushalk/caiman_data/mesmerize-core-batch/09610b86-917a-41e7-a493-2d036bf44428/879d1d8b-dfe7-4b4f-aa2f-b987d83f7788_cnmf-memmap_d1_170_d2_170_d3_1_order_C_frames_3000.mmap\n",
      "Decode mmap filename /home/kushalk/caiman_data/mesmerize-core-batch/09610b86-917a-41e7-a493-2d036bf44428/879d1d8b-dfe7-4b4f-aa2f-b987d83f7788_cnmf-memmap_d1_170_d2_170_d3_1_order_C_frames_3000.mmap\n",
      "Decode mmap filename /home/kushalk/caiman_data/mesmerize-core-batch/09610b86-917a-41e7-a493-2d036bf44428/879d1d8b-dfe7-4b4f-aa2f-b987d83f7788_cnmf-memmap_d1_170_d2_170_d3_1_order_C_frames_3000.mmap\n",
      "Decode mmap filename /home/kushalk/caiman_data/mesmerize-core-batch/09610b86-917a-41e7-a493-2d036bf44428/879d1d8b-dfe7-4b4f-aa2f-b987d83f7788_cnmf-memmap_d1_170_d2_170_d3_1_order_C_frames_3000.mmap\n",
      "Decode mmap filename /home/kushalk/caiman_data/mesmerize-core-batch/09610b86-917a-41e7-a493-2d036bf44428/879d1d8b-dfe7-4b4f-aa2f-b987d83f7788_cnmf-memmap_d1_170_d2_170_d3_1_order_C_frames_3000.mmap\n",
      "Decode mmap filename /home/kushalk/caiman_data/mesmerize-core-batch/09610b86-917a-41e7-a493-2d036bf44428/879d1d8b-dfe7-4b4f-aa2f-b987d83f7788_cnmf-memmap_d1_170_d2_170_d3_1_order_C_frames_3000.mmap\n",
      "Decode mmap filename /home/kushalk/caiman_data/mesmerize-core-batch/09610b86-917a-41e7-a493-2d036bf44428/879d1d8b-dfe7-4b4f-aa2f-b987d83f7788_cnmf-memmap_d1_170_d2_170_d3_1_order_C_frames_3000.mmap\n",
      "Decode mmap filename /home/kushalk/caiman_data/mesmerize-core-batch/09610b86-917a-41e7-a493-2d036bf44428/879d1d8b-dfe7-4b4f-aa2f-b987d83f7788_cnmf-memmap_d1_170_d2_170_d3_1_order_C_frames_3000.mmap\n",
      "Decode mmap filename /home/kushalk/caiman_data/mesmerize-core-batch/09610b86-917a-41e7-a493-2d036bf44428/879d1d8b-dfe7-4b4f-aa2f-b987d83f7788_cnmf-memmap_d1_170_d2_170_d3_1_order_C_frames_3000.mmap\n",
      "Decode mmap filename /home/kushalk/caiman_data/mesmerize-core-batch/09610b86-917a-41e7-a493-2d036bf44428/879d1d8b-dfe7-4b4f-aa2f-b987d83f7788_cnmf-memmap_d1_170_d2_170_d3_1_order_C_frames_3000.mmap\n",
      "Decode mmap filename /home/kushalk/caiman_data/mesmerize-core-batch/09610b86-917a-41e7-a493-2d036bf44428/879d1d8b-dfe7-4b4f-aa2f-b987d83f7788_cnmf-memmap_d1_170_d2_170_d3_1_order_C_frames_3000.mmap\n",
      "Decode mmap filename /home/kushalk/caiman_data/mesmerize-core-batch/09610b86-917a-41e7-a493-2d036bf44428/879d1d8b-dfe7-4b4f-aa2f-b987d83f7788_cnmf-memmap_d1_170_d2_170_d3_1_order_C_frames_3000.mmap\n",
      "Decode mmap filename /home/kushalk/caiman_data/mesmerize-core-batch/09610b86-917a-41e7-a493-2d036bf44428/879d1d8b-dfe7-4b4f-aa2f-b987d83f7788_cnmf-memmap_d1_170_d2_170_d3_1_order_C_frames_3000.mmap\n",
      "Decode mmap filename /home/kushalk/caiman_data/mesmerize-core-batch/09610b86-917a-41e7-a493-2d036bf44428/879d1d8b-dfe7-4b4f-aa2f-b987d83f7788_cnmf-memmap_d1_170_d2_170_d3_1_order_C_frames_3000.mmap\n",
      "Decode mmap filename /home/kushalk/caiman_data/mesmerize-core-batch/09610b86-917a-41e7-a493-2d036bf44428/879d1d8b-dfe7-4b4f-aa2f-b987d83f7788_cnmf-memmap_d1_170_d2_170_d3_1_order_C_frames_3000.mmap\n",
      "Decode mmap filename /home/kushalk/caiman_data/mesmerize-core-batch/09610b86-917a-41e7-a493-2d036bf44428/879d1d8b-dfe7-4b4f-aa2f-b987d83f7788_cnmf-memmap_d1_170_d2_170_d3_1_order_C_frames_3000.mmap\n",
      "Decode mmap filename /home/kushalk/caiman_data/mesmerize-core-batch/09610b86-917a-41e7-a493-2d036bf44428/879d1d8b-dfe7-4b4f-aa2f-b987d83f7788_cnmf-memmap_d1_170_d2_170_d3_1_order_C_frames_3000.mmap\n",
      "Decode mmap filename /home/kushalk/caiman_data/mesmerize-core-batch/09610b86-917a-41e7-a493-2d036bf44428/879d1d8b-dfe7-4b4f-aa2f-b987d83f7788_cnmf-memmap_d1_170_d2_170_d3_1_order_C_frames_3000.mmap\n",
      "Decode mmap filename /home/kushalk/caiman_data/mesmerize-core-batch/09610b86-917a-41e7-a493-2d036bf44428/879d1d8b-dfe7-4b4f-aa2f-b987d83f7788_cnmf-memmap_d1_170_d2_170_d3_1_order_C_frames_3000.mmap\n",
      "Decode mmap filename /home/kushalk/caiman_data/mesmerize-core-batch/09610b86-917a-41e7-a493-2d036bf44428/879d1d8b-dfe7-4b4f-aa2f-b987d83f7788_cnmf-memmap_d1_170_d2_170_d3_1_order_C_frames_3000.mmap\n",
      "Decode mmap filename /home/kushalk/caiman_data/mesmerize-core-batch/09610b86-917a-41e7-a493-2d036bf44428/879d1d8b-dfe7-4b4f-aa2f-b987d83f7788_cnmf-memmap_d1_170_d2_170_d3_1_order_C_frames_3000.mmap\n",
      "Decode mmap filename /home/kushalk/caiman_data/mesmerize-core-batch/09610b86-917a-41e7-a493-2d036bf44428/879d1d8b-dfe7-4b4f-aa2f-b987d83f7788_cnmf-memmap_d1_170_d2_170_d3_1_order_C_frames_3000.mmap\n",
      "Decode mmap filename /home/kushalk/caiman_data/mesmerize-core-batch/09610b86-917a-41e7-a493-2d036bf44428/879d1d8b-dfe7-4b4f-aa2f-b987d83f7788_cnmf-memmap_d1_170_d2_170_d3_1_order_C_frames_3000.mmap\n",
      "Decode mmap filename /home/kushalk/caiman_data/mesmerize-core-batch/09610b86-917a-41e7-a493-2d036bf44428/879d1d8b-dfe7-4b4f-aa2f-b987d83f7788_cnmf-memmap_d1_170_d2_170_d3_1_order_C_frames_3000.mmap\n",
      "Decode mmap filename /home/kushalk/caiman_data/mesmerize-core-batch/09610b86-917a-41e7-a493-2d036bf44428/879d1d8b-dfe7-4b4f-aa2f-b987d83f7788_cnmf-memmap_d1_170_d2_170_d3_1_order_C_frames_3000.mmap\n",
      "Decode mmap filename /home/kushalk/caiman_data/mesmerize-core-batch/09610b86-917a-41e7-a493-2d036bf44428/879d1d8b-dfe7-4b4f-aa2f-b987d83f7788_cnmf-memmap_d1_170_d2_170_d3_1_order_C_frames_3000.mmap\n",
      "Decode mmap filename /home/kushalk/caiman_data/mesmerize-core-batch/09610b86-917a-41e7-a493-2d036bf44428/879d1d8b-dfe7-4b4f-aa2f-b987d83f7788_cnmf-memmap_d1_170_d2_170_d3_1_order_C_frames_3000.mmap\n",
      "Decode mmap filename /home/kushalk/caiman_data/mesmerize-core-batch/09610b86-917a-41e7-a493-2d036bf44428/879d1d8b-dfe7-4b4f-aa2f-b987d83f7788_cnmf-memmap_d1_170_d2_170_d3_1_order_C_frames_3000.mmap\n",
      "Decode mmap filename /home/kushalk/caiman_data/mesmerize-core-batch/09610b86-917a-41e7-a493-2d036bf44428/879d1d8b-dfe7-4b4f-aa2f-b987d83f7788_cnmf-memmap_d1_170_d2_170_d3_1_order_C_frames_3000.mmap\n",
      "Decode mmap filename /home/kushalk/caiman_data/mesmerize-core-batch/09610b86-917a-41e7-a493-2d036bf44428/879d1d8b-dfe7-4b4f-aa2f-b987d83f7788_cnmf-memmap_d1_170_d2_170_d3_1_order_C_frames_3000.mmap\n",
      "Decode mmap filename /home/kushalk/caiman_data/mesmerize-core-batch/09610b86-917a-41e7-a493-2d036bf44428/879d1d8b-dfe7-4b4f-aa2f-b987d83f7788_cnmf-memmap_d1_170_d2_170_d3_1_order_C_frames_3000.mmap\n",
      "Decode mmap filename /home/kushalk/caiman_data/mesmerize-core-batch/09610b86-917a-41e7-a493-2d036bf44428/879d1d8b-dfe7-4b4f-aa2f-b987d83f7788_cnmf-memmap_d1_170_d2_170_d3_1_order_C_frames_3000.mmap\n",
      "Decode mmap filename /home/kushalk/caiman_data/mesmerize-core-batch/09610b86-917a-41e7-a493-2d036bf44428/879d1d8b-dfe7-4b4f-aa2f-b987d83f7788_cnmf-memmap_d1_170_d2_170_d3_1_order_C_frames_3000.mmap\n",
      "Decode mmap filename /home/kushalk/caiman_data/mesmerize-core-batch/09610b86-917a-41e7-a493-2d036bf44428/879d1d8b-dfe7-4b4f-aa2f-b987d83f7788_cnmf-memmap_d1_170_d2_170_d3_1_order_C_frames_3000.mmap\n",
      "Decode mmap filename /home/kushalk/caiman_data/mesmerize-core-batch/09610b86-917a-41e7-a493-2d036bf44428/879d1d8b-dfe7-4b4f-aa2f-b987d83f7788_cnmf-memmap_d1_170_d2_170_d3_1_order_C_frames_3000.mmap\n",
      "Decode mmap filename /home/kushalk/caiman_data/mesmerize-core-batch/09610b86-917a-41e7-a493-2d036bf44428/879d1d8b-dfe7-4b4f-aa2f-b987d83f7788_cnmf-memmap_d1_170_d2_170_d3_1_order_C_frames_3000.mmap\n",
      "Decode mmap filename /home/kushalk/caiman_data/mesmerize-core-batch/09610b86-917a-41e7-a493-2d036bf44428/879d1d8b-dfe7-4b4f-aa2f-b987d83f7788_cnmf-memmap_d1_170_d2_170_d3_1_order_C_frames_3000.mmap\n",
      "Decode mmap filename /home/kushalk/caiman_data/mesmerize-core-batch/09610b86-917a-41e7-a493-2d036bf44428/879d1d8b-dfe7-4b4f-aa2f-b987d83f7788_cnmf-memmap_d1_170_d2_170_d3_1_order_C_frames_3000.mmap\n",
      "Decode mmap filename /home/kushalk/caiman_data/mesmerize-core-batch/09610b86-917a-41e7-a493-2d036bf44428/879d1d8b-dfe7-4b4f-aa2f-b987d83f7788_cnmf-memmap_d1_170_d2_170_d3_1_order_C_frames_3000.mmap\n",
      "Decode mmap filename /home/kushalk/caiman_data/mesmerize-core-batch/09610b86-917a-41e7-a493-2d036bf44428/879d1d8b-dfe7-4b4f-aa2f-b987d83f7788_cnmf-memmap_d1_170_d2_170_d3_1_order_C_frames_3000.mmap\n",
      "Decode mmap filename /home/kushalk/caiman_data/mesmerize-core-batch/09610b86-917a-41e7-a493-2d036bf44428/879d1d8b-dfe7-4b4f-aa2f-b987d83f7788_cnmf-memmap_d1_170_d2_170_d3_1_order_C_frames_3000.mmap\n",
      "Decode mmap filename /home/kushalk/caiman_data/mesmerize-core-batch/09610b86-917a-41e7-a493-2d036bf44428/879d1d8b-dfe7-4b4f-aa2f-b987d83f7788_cnmf-memmap_d1_170_d2_170_d3_1_order_C_frames_3000.mmap\n",
      "Decode mmap filename /home/kushalk/caiman_data/mesmerize-core-batch/09610b86-917a-41e7-a493-2d036bf44428/879d1d8b-dfe7-4b4f-aa2f-b987d83f7788_cnmf-memmap_d1_170_d2_170_d3_1_order_C_frames_3000.mmap\n",
      "Decode mmap filename /home/kushalk/caiman_data/mesmerize-core-batch/09610b86-917a-41e7-a493-2d036bf44428/879d1d8b-dfe7-4b4f-aa2f-b987d83f7788_cnmf-memmap_d1_170_d2_170_d3_1_order_C_frames_3000.mmap\n",
      "Decode mmap filename /home/kushalk/caiman_data/mesmerize-core-batch/09610b86-917a-41e7-a493-2d036bf44428/879d1d8b-dfe7-4b4f-aa2f-b987d83f7788_cnmf-memmap_d1_170_d2_170_d3_1_order_C_frames_3000.mmap\n",
      "Decode mmap filename /home/kushalk/caiman_data/mesmerize-core-batch/09610b86-917a-41e7-a493-2d036bf44428/879d1d8b-dfe7-4b4f-aa2f-b987d83f7788_cnmf-memmap_d1_170_d2_170_d3_1_order_C_frames_3000.mmap\n",
      "Decode mmap filename /home/kushalk/caiman_data/mesmerize-core-batch/09610b86-917a-41e7-a493-2d036bf44428/879d1d8b-dfe7-4b4f-aa2f-b987d83f7788_cnmf-memmap_d1_170_d2_170_d3_1_order_C_frames_3000.mmap\n",
      "Decode mmap filename /home/kushalk/caiman_data/mesmerize-core-batch/09610b86-917a-41e7-a493-2d036bf44428/879d1d8b-dfe7-4b4f-aa2f-b987d83f7788_cnmf-memmap_d1_170_d2_170_d3_1_order_C_frames_3000.mmap\n",
      "Decode mmap filename /home/kushalk/caiman_data/mesmerize-core-batch/09610b86-917a-41e7-a493-2d036bf44428/879d1d8b-dfe7-4b4f-aa2f-b987d83f7788_cnmf-memmap_d1_170_d2_170_d3_1_order_C_frames_3000.mmap\n",
      "Decode mmap filename /home/kushalk/caiman_data/mesmerize-core-batch/09610b86-917a-41e7-a493-2d036bf44428/879d1d8b-dfe7-4b4f-aa2f-b987d83f7788_cnmf-memmap_d1_170_d2_170_d3_1_order_C_frames_3000.mmap\n",
      "Decode mmap filename /home/kushalk/caiman_data/mesmerize-core-batch/09610b86-917a-41e7-a493-2d036bf44428/879d1d8b-dfe7-4b4f-aa2f-b987d83f7788_cnmf-memmap_d1_170_d2_170_d3_1_order_C_frames_3000.mmap\n",
      "Decode mmap filename /home/kushalk/caiman_data/mesmerize-core-batch/09610b86-917a-41e7-a493-2d036bf44428/879d1d8b-dfe7-4b4f-aa2f-b987d83f7788_cnmf-memmap_d1_170_d2_170_d3_1_order_C_frames_3000.mmap\n",
      "Decode mmap filename /home/kushalk/caiman_data/mesmerize-core-batch/09610b86-917a-41e7-a493-2d036bf44428/879d1d8b-dfe7-4b4f-aa2f-b987d83f7788_cnmf-memmap_d1_170_d2_170_d3_1_order_C_frames_3000.mmap\n",
      "Decode mmap filename /home/kushalk/caiman_data/mesmerize-core-batch/09610b86-917a-41e7-a493-2d036bf44428/879d1d8b-dfe7-4b4f-aa2f-b987d83f7788_cnmf-memmap_d1_170_d2_170_d3_1_order_C_frames_3000.mmap\n",
      "Decode mmap filename /home/kushalk/caiman_data/mesmerize-core-batch/09610b86-917a-41e7-a493-2d036bf44428/879d1d8b-dfe7-4b4f-aa2f-b987d83f7788_cnmf-memmap_d1_170_d2_170_d3_1_order_C_frames_3000.mmap\n",
      "Decode mmap filename /home/kushalk/caiman_data/mesmerize-core-batch/09610b86-917a-41e7-a493-2d036bf44428/879d1d8b-dfe7-4b4f-aa2f-b987d83f7788_cnmf-memmap_d1_170_d2_170_d3_1_order_C_frames_3000.mmap\n",
      "Decode mmap filename /home/kushalk/caiman_data/mesmerize-core-batch/09610b86-917a-41e7-a493-2d036bf44428/879d1d8b-dfe7-4b4f-aa2f-b987d83f7788_cnmf-memmap_d1_170_d2_170_d3_1_order_C_frames_3000.mmap\n",
      "Decode mmap filename /home/kushalk/caiman_data/mesmerize-core-batch/09610b86-917a-41e7-a493-2d036bf44428/879d1d8b-dfe7-4b4f-aa2f-b987d83f7788_cnmf-memmap_d1_170_d2_170_d3_1_order_C_frames_3000.mmap\n",
      "Decode mmap filename /home/kushalk/caiman_data/mesmerize-core-batch/09610b86-917a-41e7-a493-2d036bf44428/879d1d8b-dfe7-4b4f-aa2f-b987d83f7788_cnmf-memmap_d1_170_d2_170_d3_1_order_C_frames_3000.mmap\n",
      "Decode mmap filename /home/kushalk/caiman_data/mesmerize-core-batch/09610b86-917a-41e7-a493-2d036bf44428/879d1d8b-dfe7-4b4f-aa2f-b987d83f7788_cnmf-memmap_d1_170_d2_170_d3_1_order_C_frames_3000.mmap\n",
      "Decode mmap filename /home/kushalk/caiman_data/mesmerize-core-batch/09610b86-917a-41e7-a493-2d036bf44428/879d1d8b-dfe7-4b4f-aa2f-b987d83f7788_cnmf-memmap_d1_170_d2_170_d3_1_order_C_frames_3000.mmap\n",
      "Decode mmap filename /home/kushalk/caiman_data/mesmerize-core-batch/09610b86-917a-41e7-a493-2d036bf44428/879d1d8b-dfe7-4b4f-aa2f-b987d83f7788_cnmf-memmap_d1_170_d2_170_d3_1_order_C_frames_3000.mmap\n",
      "Decode mmap filename /home/kushalk/caiman_data/mesmerize-core-batch/09610b86-917a-41e7-a493-2d036bf44428/879d1d8b-dfe7-4b4f-aa2f-b987d83f7788_cnmf-memmap_d1_170_d2_170_d3_1_order_C_frames_3000.mmap\n",
      "Decode mmap filename /home/kushalk/caiman_data/mesmerize-core-batch/09610b86-917a-41e7-a493-2d036bf44428/879d1d8b-dfe7-4b4f-aa2f-b987d83f7788_cnmf-memmap_d1_170_d2_170_d3_1_order_C_frames_3000.mmap\n",
      "Decode mmap filename /home/kushalk/caiman_data/mesmerize-core-batch/09610b86-917a-41e7-a493-2d036bf44428/879d1d8b-dfe7-4b4f-aa2f-b987d83f7788_cnmf-memmap_d1_170_d2_170_d3_1_order_C_frames_3000.mmap\n",
      "Decode mmap filename /home/kushalk/caiman_data/mesmerize-core-batch/09610b86-917a-41e7-a493-2d036bf44428/879d1d8b-dfe7-4b4f-aa2f-b987d83f7788_cnmf-memmap_d1_170_d2_170_d3_1_order_C_frames_3000.mmap\n",
      "Decode mmap filename /home/kushalk/caiman_data/mesmerize-core-batch/09610b86-917a-41e7-a493-2d036bf44428/879d1d8b-dfe7-4b4f-aa2f-b987d83f7788_cnmf-memmap_d1_170_d2_170_d3_1_order_C_frames_3000.mmap\n",
      "Decode mmap filename /home/kushalk/caiman_data/mesmerize-core-batch/09610b86-917a-41e7-a493-2d036bf44428/879d1d8b-dfe7-4b4f-aa2f-b987d83f7788_cnmf-memmap_d1_170_d2_170_d3_1_order_C_frames_3000.mmap\n",
      "Decode mmap filename /home/kushalk/caiman_data/mesmerize-core-batch/09610b86-917a-41e7-a493-2d036bf44428/879d1d8b-dfe7-4b4f-aa2f-b987d83f7788_cnmf-memmap_d1_170_d2_170_d3_1_order_C_frames_3000.mmap\n",
      "Decode mmap filename /home/kushalk/caiman_data/mesmerize-core-batch/09610b86-917a-41e7-a493-2d036bf44428/879d1d8b-dfe7-4b4f-aa2f-b987d83f7788_cnmf-memmap_d1_170_d2_170_d3_1_order_C_frames_3000.mmap\n",
      "Decode mmap filename /home/kushalk/caiman_data/mesmerize-core-batch/09610b86-917a-41e7-a493-2d036bf44428/879d1d8b-dfe7-4b4f-aa2f-b987d83f7788_cnmf-memmap_d1_170_d2_170_d3_1_order_C_frames_3000.mmap\n",
      "Decode mmap filename /home/kushalk/caiman_data/mesmerize-core-batch/09610b86-917a-41e7-a493-2d036bf44428/879d1d8b-dfe7-4b4f-aa2f-b987d83f7788_cnmf-memmap_d1_170_d2_170_d3_1_order_C_frames_3000.mmap\n",
      "Decode mmap filename /home/kushalk/caiman_data/mesmerize-core-batch/09610b86-917a-41e7-a493-2d036bf44428/879d1d8b-dfe7-4b4f-aa2f-b987d83f7788_cnmf-memmap_d1_170_d2_170_d3_1_order_C_frames_3000.mmap\n",
      "Decode mmap filename /home/kushalk/caiman_data/mesmerize-core-batch/09610b86-917a-41e7-a493-2d036bf44428/879d1d8b-dfe7-4b4f-aa2f-b987d83f7788_cnmf-memmap_d1_170_d2_170_d3_1_order_C_frames_3000.mmap\n",
      "Decode mmap filename /home/kushalk/caiman_data/mesmerize-core-batch/09610b86-917a-41e7-a493-2d036bf44428/879d1d8b-dfe7-4b4f-aa2f-b987d83f7788_cnmf-memmap_d1_170_d2_170_d3_1_order_C_frames_3000.mmap\n",
      "Decode mmap filename /home/kushalk/caiman_data/mesmerize-core-batch/09610b86-917a-41e7-a493-2d036bf44428/879d1d8b-dfe7-4b4f-aa2f-b987d83f7788_cnmf-memmap_d1_170_d2_170_d3_1_order_C_frames_3000.mmap\n",
      "Decode mmap filename /home/kushalk/caiman_data/mesmerize-core-batch/09610b86-917a-41e7-a493-2d036bf44428/879d1d8b-dfe7-4b4f-aa2f-b987d83f7788_cnmf-memmap_d1_170_d2_170_d3_1_order_C_frames_3000.mmap\n",
      "Decode mmap filename /home/kushalk/caiman_data/mesmerize-core-batch/09610b86-917a-41e7-a493-2d036bf44428/879d1d8b-dfe7-4b4f-aa2f-b987d83f7788_cnmf-memmap_d1_170_d2_170_d3_1_order_C_frames_3000.mmap\n",
      "Decode mmap filename /home/kushalk/caiman_data/mesmerize-core-batch/09610b86-917a-41e7-a493-2d036bf44428/879d1d8b-dfe7-4b4f-aa2f-b987d83f7788_cnmf-memmap_d1_170_d2_170_d3_1_order_C_frames_3000.mmap\n",
      "Decode mmap filename /home/kushalk/caiman_data/mesmerize-core-batch/09610b86-917a-41e7-a493-2d036bf44428/879d1d8b-dfe7-4b4f-aa2f-b987d83f7788_cnmf-memmap_d1_170_d2_170_d3_1_order_C_frames_3000.mmap\n",
      "Decode mmap filename /home/kushalk/caiman_data/mesmerize-core-batch/09610b86-917a-41e7-a493-2d036bf44428/879d1d8b-dfe7-4b4f-aa2f-b987d83f7788_cnmf-memmap_d1_170_d2_170_d3_1_order_C_frames_3000.mmap\n",
      "Decode mmap filename /home/kushalk/caiman_data/mesmerize-core-batch/09610b86-917a-41e7-a493-2d036bf44428/879d1d8b-dfe7-4b4f-aa2f-b987d83f7788_cnmf-memmap_d1_170_d2_170_d3_1_order_C_frames_3000.mmap\n",
      "Decode mmap filename /home/kushalk/caiman_data/mesmerize-core-batch/09610b86-917a-41e7-a493-2d036bf44428/879d1d8b-dfe7-4b4f-aa2f-b987d83f7788_cnmf-memmap_d1_170_d2_170_d3_1_order_C_frames_3000.mmap\n",
      "Decode mmap filename /home/kushalk/caiman_data/mesmerize-core-batch/09610b86-917a-41e7-a493-2d036bf44428/879d1d8b-dfe7-4b4f-aa2f-b987d83f7788_cnmf-memmap_d1_170_d2_170_d3_1_order_C_frames_3000.mmap\n",
      "Decode mmap filename /home/kushalk/caiman_data/mesmerize-core-batch/09610b86-917a-41e7-a493-2d036bf44428/879d1d8b-dfe7-4b4f-aa2f-b987d83f7788_cnmf-memmap_d1_170_d2_170_d3_1_order_C_frames_3000.mmap\n",
      "Decode mmap filename /home/kushalk/caiman_data/mesmerize-core-batch/09610b86-917a-41e7-a493-2d036bf44428/879d1d8b-dfe7-4b4f-aa2f-b987d83f7788_cnmf-memmap_d1_170_d2_170_d3_1_order_C_frames_3000.mmap\n",
      "Decode mmap filename /home/kushalk/caiman_data/mesmerize-core-batch/09610b86-917a-41e7-a493-2d036bf44428/879d1d8b-dfe7-4b4f-aa2f-b987d83f7788_cnmf-memmap_d1_170_d2_170_d3_1_order_C_frames_3000.mmap\n",
      "Decode mmap filename /home/kushalk/caiman_data/mesmerize-core-batch/09610b86-917a-41e7-a493-2d036bf44428/879d1d8b-dfe7-4b4f-aa2f-b987d83f7788_cnmf-memmap_d1_170_d2_170_d3_1_order_C_frames_3000.mmap\n",
      "Decode mmap filename /home/kushalk/caiman_data/mesmerize-core-batch/09610b86-917a-41e7-a493-2d036bf44428/879d1d8b-dfe7-4b4f-aa2f-b987d83f7788_cnmf-memmap_d1_170_d2_170_d3_1_order_C_frames_3000.mmap\n",
      "Decode mmap filename /home/kushalk/caiman_data/mesmerize-core-batch/09610b86-917a-41e7-a493-2d036bf44428/879d1d8b-dfe7-4b4f-aa2f-b987d83f7788_cnmf-memmap_d1_170_d2_170_d3_1_order_C_frames_3000.mmap\n",
      "Decode mmap filename /home/kushalk/caiman_data/mesmerize-core-batch/09610b86-917a-41e7-a493-2d036bf44428/879d1d8b-dfe7-4b4f-aa2f-b987d83f7788_cnmf-memmap_d1_170_d2_170_d3_1_order_C_frames_3000.mmap\n",
      "Decode mmap filename /home/kushalk/caiman_data/mesmerize-core-batch/09610b86-917a-41e7-a493-2d036bf44428/879d1d8b-dfe7-4b4f-aa2f-b987d83f7788_cnmf-memmap_d1_170_d2_170_d3_1_order_C_frames_3000.mmap\n",
      "Decode mmap filename /home/kushalk/caiman_data/mesmerize-core-batch/09610b86-917a-41e7-a493-2d036bf44428/879d1d8b-dfe7-4b4f-aa2f-b987d83f7788_cnmf-memmap_d1_170_d2_170_d3_1_order_C_frames_3000.mmap\n",
      "Decode mmap filename /home/kushalk/caiman_data/mesmerize-core-batch/09610b86-917a-41e7-a493-2d036bf44428/879d1d8b-dfe7-4b4f-aa2f-b987d83f7788_cnmf-memmap_d1_170_d2_170_d3_1_order_C_frames_3000.mmap\n",
      "Decode mmap filename /home/kushalk/caiman_data/mesmerize-core-batch/09610b86-917a-41e7-a493-2d036bf44428/879d1d8b-dfe7-4b4f-aa2f-b987d83f7788_cnmf-memmap_d1_170_d2_170_d3_1_order_C_frames_3000.mmap\n",
      "Decode mmap filename /home/kushalk/caiman_data/mesmerize-core-batch/09610b86-917a-41e7-a493-2d036bf44428/879d1d8b-dfe7-4b4f-aa2f-b987d83f7788_cnmf-memmap_d1_170_d2_170_d3_1_order_C_frames_3000.mmap\n",
      "Decode mmap filename /home/kushalk/caiman_data/mesmerize-core-batch/09610b86-917a-41e7-a493-2d036bf44428/879d1d8b-dfe7-4b4f-aa2f-b987d83f7788_cnmf-memmap_d1_170_d2_170_d3_1_order_C_frames_3000.mmap\n",
      "Decode mmap filename /home/kushalk/caiman_data/mesmerize-core-batch/09610b86-917a-41e7-a493-2d036bf44428/879d1d8b-dfe7-4b4f-aa2f-b987d83f7788_cnmf-memmap_d1_170_d2_170_d3_1_order_C_frames_3000.mmap\n",
      "Decode mmap filename /home/kushalk/caiman_data/mesmerize-core-batch/09610b86-917a-41e7-a493-2d036bf44428/879d1d8b-dfe7-4b4f-aa2f-b987d83f7788_cnmf-memmap_d1_170_d2_170_d3_1_order_C_frames_3000.mmap\n",
      "Decode mmap filename /home/kushalk/caiman_data/mesmerize-core-batch/09610b86-917a-41e7-a493-2d036bf44428/879d1d8b-dfe7-4b4f-aa2f-b987d83f7788_cnmf-memmap_d1_170_d2_170_d3_1_order_C_frames_3000.mmap\n",
      "Decode mmap filename /home/kushalk/caiman_data/mesmerize-core-batch/09610b86-917a-41e7-a493-2d036bf44428/879d1d8b-dfe7-4b4f-aa2f-b987d83f7788_cnmf-memmap_d1_170_d2_170_d3_1_order_C_frames_3000.mmap\n",
      "Decode mmap filename /home/kushalk/caiman_data/mesmerize-core-batch/09610b86-917a-41e7-a493-2d036bf44428/879d1d8b-dfe7-4b4f-aa2f-b987d83f7788_cnmf-memmap_d1_170_d2_170_d3_1_order_C_frames_3000.mmap\n",
      "Decode mmap filename /home/kushalk/caiman_data/mesmerize-core-batch/09610b86-917a-41e7-a493-2d036bf44428/879d1d8b-dfe7-4b4f-aa2f-b987d83f7788_cnmf-memmap_d1_170_d2_170_d3_1_order_C_frames_3000.mmap\n",
      "Decode mmap filename /home/kushalk/caiman_data/mesmerize-core-batch/09610b86-917a-41e7-a493-2d036bf44428/879d1d8b-dfe7-4b4f-aa2f-b987d83f7788_cnmf-memmap_d1_170_d2_170_d3_1_order_C_frames_3000.mmap\n",
      "Decode mmap filename /home/kushalk/caiman_data/mesmerize-core-batch/09610b86-917a-41e7-a493-2d036bf44428/879d1d8b-dfe7-4b4f-aa2f-b987d83f7788_cnmf-memmap_d1_170_d2_170_d3_1_order_C_frames_3000.mmap\n",
      "Decode mmap filename /home/kushalk/caiman_data/mesmerize-core-batch/09610b86-917a-41e7-a493-2d036bf44428/879d1d8b-dfe7-4b4f-aa2f-b987d83f7788_cnmf-memmap_d1_170_d2_170_d3_1_order_C_frames_3000.mmap\n",
      "Decode mmap filename /home/kushalk/caiman_data/mesmerize-core-batch/09610b86-917a-41e7-a493-2d036bf44428/879d1d8b-dfe7-4b4f-aa2f-b987d83f7788_cnmf-memmap_d1_170_d2_170_d3_1_order_C_frames_3000.mmap\n",
      "Decode mmap filename /home/kushalk/caiman_data/mesmerize-core-batch/09610b86-917a-41e7-a493-2d036bf44428/879d1d8b-dfe7-4b4f-aa2f-b987d83f7788_cnmf-memmap_d1_170_d2_170_d3_1_order_C_frames_3000.mmap\n",
      "Decode mmap filename /home/kushalk/caiman_data/mesmerize-core-batch/09610b86-917a-41e7-a493-2d036bf44428/879d1d8b-dfe7-4b4f-aa2f-b987d83f7788_cnmf-memmap_d1_170_d2_170_d3_1_order_C_frames_3000.mmap\n",
      "Decode mmap filename /home/kushalk/caiman_data/mesmerize-core-batch/09610b86-917a-41e7-a493-2d036bf44428/879d1d8b-dfe7-4b4f-aa2f-b987d83f7788_cnmf-memmap_d1_170_d2_170_d3_1_order_C_frames_3000.mmap\n",
      "Decode mmap filename /home/kushalk/caiman_data/mesmerize-core-batch/09610b86-917a-41e7-a493-2d036bf44428/879d1d8b-dfe7-4b4f-aa2f-b987d83f7788_cnmf-memmap_d1_170_d2_170_d3_1_order_C_frames_3000.mmap\n",
      "Decode mmap filename /home/kushalk/caiman_data/mesmerize-core-batch/09610b86-917a-41e7-a493-2d036bf44428/879d1d8b-dfe7-4b4f-aa2f-b987d83f7788_cnmf-memmap_d1_170_d2_170_d3_1_order_C_frames_3000.mmap\n",
      "Decode mmap filename /home/kushalk/caiman_data/mesmerize-core-batch/09610b86-917a-41e7-a493-2d036bf44428/879d1d8b-dfe7-4b4f-aa2f-b987d83f7788_cnmf-memmap_d1_170_d2_170_d3_1_order_C_frames_3000.mmap\n",
      "Decode mmap filename /home/kushalk/caiman_data/mesmerize-core-batch/09610b86-917a-41e7-a493-2d036bf44428/879d1d8b-dfe7-4b4f-aa2f-b987d83f7788_cnmf-memmap_d1_170_d2_170_d3_1_order_C_frames_3000.mmap\n",
      "Decode mmap filename /home/kushalk/caiman_data/mesmerize-core-batch/09610b86-917a-41e7-a493-2d036bf44428/879d1d8b-dfe7-4b4f-aa2f-b987d83f7788_cnmf-memmap_d1_170_d2_170_d3_1_order_C_frames_3000.mmap\n",
      "Decode mmap filename /home/kushalk/caiman_data/mesmerize-core-batch/09610b86-917a-41e7-a493-2d036bf44428/879d1d8b-dfe7-4b4f-aa2f-b987d83f7788_cnmf-memmap_d1_170_d2_170_d3_1_order_C_frames_3000.mmap\n",
      "Decode mmap filename /home/kushalk/caiman_data/mesmerize-core-batch/09610b86-917a-41e7-a493-2d036bf44428/879d1d8b-dfe7-4b4f-aa2f-b987d83f7788_cnmf-memmap_d1_170_d2_170_d3_1_order_C_frames_3000.mmap\n",
      "Decode mmap filename /home/kushalk/caiman_data/mesmerize-core-batch/09610b86-917a-41e7-a493-2d036bf44428/879d1d8b-dfe7-4b4f-aa2f-b987d83f7788_cnmf-memmap_d1_170_d2_170_d3_1_order_C_frames_3000.mmap\n",
      "Decode mmap filename /home/kushalk/caiman_data/mesmerize-core-batch/09610b86-917a-41e7-a493-2d036bf44428/879d1d8b-dfe7-4b4f-aa2f-b987d83f7788_cnmf-memmap_d1_170_d2_170_d3_1_order_C_frames_3000.mmap\n",
      "Decode mmap filename /home/kushalk/caiman_data/mesmerize-core-batch/09610b86-917a-41e7-a493-2d036bf44428/879d1d8b-dfe7-4b4f-aa2f-b987d83f7788_cnmf-memmap_d1_170_d2_170_d3_1_order_C_frames_3000.mmap\n",
      "Decode mmap filename /home/kushalk/caiman_data/mesmerize-core-batch/09610b86-917a-41e7-a493-2d036bf44428/879d1d8b-dfe7-4b4f-aa2f-b987d83f7788_cnmf-memmap_d1_170_d2_170_d3_1_order_C_frames_3000.mmap\n",
      "Decode mmap filename /home/kushalk/caiman_data/mesmerize-core-batch/09610b86-917a-41e7-a493-2d036bf44428/879d1d8b-dfe7-4b4f-aa2f-b987d83f7788_cnmf-memmap_d1_170_d2_170_d3_1_order_C_frames_3000.mmap\n",
      "Decode mmap filename /home/kushalk/caiman_data/mesmerize-core-batch/09610b86-917a-41e7-a493-2d036bf44428/879d1d8b-dfe7-4b4f-aa2f-b987d83f7788_cnmf-memmap_d1_170_d2_170_d3_1_order_C_frames_3000.mmap\n",
      "Decode mmap filename /home/kushalk/caiman_data/mesmerize-core-batch/09610b86-917a-41e7-a493-2d036bf44428/879d1d8b-dfe7-4b4f-aa2f-b987d83f7788_cnmf-memmap_d1_170_d2_170_d3_1_order_C_frames_3000.mmap\n",
      "Decode mmap filename /home/kushalk/caiman_data/mesmerize-core-batch/09610b86-917a-41e7-a493-2d036bf44428/879d1d8b-dfe7-4b4f-aa2f-b987d83f7788_cnmf-memmap_d1_170_d2_170_d3_1_order_C_frames_3000.mmap\n",
      "Decode mmap filename /home/kushalk/caiman_data/mesmerize-core-batch/09610b86-917a-41e7-a493-2d036bf44428/879d1d8b-dfe7-4b4f-aa2f-b987d83f7788_cnmf-memmap_d1_170_d2_170_d3_1_order_C_frames_3000.mmap\n",
      "Decode mmap filename /home/kushalk/caiman_data/mesmerize-core-batch/09610b86-917a-41e7-a493-2d036bf44428/879d1d8b-dfe7-4b4f-aa2f-b987d83f7788_cnmf-memmap_d1_170_d2_170_d3_1_order_C_frames_3000.mmap\n",
      "Decode mmap filename /home/kushalk/caiman_data/mesmerize-core-batch/09610b86-917a-41e7-a493-2d036bf44428/879d1d8b-dfe7-4b4f-aa2f-b987d83f7788_cnmf-memmap_d1_170_d2_170_d3_1_order_C_frames_3000.mmap\n",
      "Decode mmap filename /home/kushalk/caiman_data/mesmerize-core-batch/09610b86-917a-41e7-a493-2d036bf44428/879d1d8b-dfe7-4b4f-aa2f-b987d83f7788_cnmf-memmap_d1_170_d2_170_d3_1_order_C_frames_3000.mmap\n",
      "Decode mmap filename /home/kushalk/caiman_data/mesmerize-core-batch/09610b86-917a-41e7-a493-2d036bf44428/879d1d8b-dfe7-4b4f-aa2f-b987d83f7788_cnmf-memmap_d1_170_d2_170_d3_1_order_C_frames_3000.mmap\n",
      "Decode mmap filename /home/kushalk/caiman_data/mesmerize-core-batch/09610b86-917a-41e7-a493-2d036bf44428/879d1d8b-dfe7-4b4f-aa2f-b987d83f7788_cnmf-memmap_d1_170_d2_170_d3_1_order_C_frames_3000.mmap\n",
      "Decode mmap filename /home/kushalk/caiman_data/mesmerize-core-batch/09610b86-917a-41e7-a493-2d036bf44428/879d1d8b-dfe7-4b4f-aa2f-b987d83f7788_cnmf-memmap_d1_170_d2_170_d3_1_order_C_frames_3000.mmap\n",
      "Decode mmap filename /home/kushalk/caiman_data/mesmerize-core-batch/09610b86-917a-41e7-a493-2d036bf44428/879d1d8b-dfe7-4b4f-aa2f-b987d83f7788_cnmf-memmap_d1_170_d2_170_d3_1_order_C_frames_3000.mmap\n",
      "Decode mmap filename /home/kushalk/caiman_data/mesmerize-core-batch/09610b86-917a-41e7-a493-2d036bf44428/879d1d8b-dfe7-4b4f-aa2f-b987d83f7788_cnmf-memmap_d1_170_d2_170_d3_1_order_C_frames_3000.mmap\n",
      "Decode mmap filename /home/kushalk/caiman_data/mesmerize-core-batch/09610b86-917a-41e7-a493-2d036bf44428/879d1d8b-dfe7-4b4f-aa2f-b987d83f7788_cnmf-memmap_d1_170_d2_170_d3_1_order_C_frames_3000.mmap\n",
      "Decode mmap filename /home/kushalk/caiman_data/mesmerize-core-batch/09610b86-917a-41e7-a493-2d036bf44428/879d1d8b-dfe7-4b4f-aa2f-b987d83f7788_cnmf-memmap_d1_170_d2_170_d3_1_order_C_frames_3000.mmap\n",
      "Decode mmap filename /home/kushalk/caiman_data/mesmerize-core-batch/09610b86-917a-41e7-a493-2d036bf44428/879d1d8b-dfe7-4b4f-aa2f-b987d83f7788_cnmf-memmap_d1_170_d2_170_d3_1_order_C_frames_3000.mmap\n",
      "Decode mmap filename /home/kushalk/caiman_data/mesmerize-core-batch/09610b86-917a-41e7-a493-2d036bf44428/879d1d8b-dfe7-4b4f-aa2f-b987d83f7788_cnmf-memmap_d1_170_d2_170_d3_1_order_C_frames_3000.mmap\n",
      "Decode mmap filename /home/kushalk/caiman_data/mesmerize-core-batch/09610b86-917a-41e7-a493-2d036bf44428/879d1d8b-dfe7-4b4f-aa2f-b987d83f7788_cnmf-memmap_d1_170_d2_170_d3_1_order_C_frames_3000.mmap\n",
      "Decode mmap filename /home/kushalk/caiman_data/mesmerize-core-batch/09610b86-917a-41e7-a493-2d036bf44428/879d1d8b-dfe7-4b4f-aa2f-b987d83f7788_cnmf-memmap_d1_170_d2_170_d3_1_order_C_frames_3000.mmap\n",
      "Decode mmap filename /home/kushalk/caiman_data/mesmerize-core-batch/09610b86-917a-41e7-a493-2d036bf44428/879d1d8b-dfe7-4b4f-aa2f-b987d83f7788_cnmf-memmap_d1_170_d2_170_d3_1_order_C_frames_3000.mmap\n",
      "Decode mmap filename /home/kushalk/caiman_data/mesmerize-core-batch/09610b86-917a-41e7-a493-2d036bf44428/879d1d8b-dfe7-4b4f-aa2f-b987d83f7788_cnmf-memmap_d1_170_d2_170_d3_1_order_C_frames_3000.mmap\n",
      "Decode mmap filename /home/kushalk/caiman_data/mesmerize-core-batch/09610b86-917a-41e7-a493-2d036bf44428/879d1d8b-dfe7-4b4f-aa2f-b987d83f7788_cnmf-memmap_d1_170_d2_170_d3_1_order_C_frames_3000.mmap\n",
      "Decode mmap filename /home/kushalk/caiman_data/mesmerize-core-batch/09610b86-917a-41e7-a493-2d036bf44428/879d1d8b-dfe7-4b4f-aa2f-b987d83f7788_cnmf-memmap_d1_170_d2_170_d3_1_order_C_frames_3000.mmap\n",
      "Decode mmap filename /home/kushalk/caiman_data/mesmerize-core-batch/09610b86-917a-41e7-a493-2d036bf44428/879d1d8b-dfe7-4b4f-aa2f-b987d83f7788_cnmf-memmap_d1_170_d2_170_d3_1_order_C_frames_3000.mmap\n",
      "Decode mmap filename /home/kushalk/caiman_data/mesmerize-core-batch/09610b86-917a-41e7-a493-2d036bf44428/879d1d8b-dfe7-4b4f-aa2f-b987d83f7788_cnmf-memmap_d1_170_d2_170_d3_1_order_C_frames_3000.mmap\n",
      "Decode mmap filename /home/kushalk/caiman_data/mesmerize-core-batch/09610b86-917a-41e7-a493-2d036bf44428/879d1d8b-dfe7-4b4f-aa2f-b987d83f7788_cnmf-memmap_d1_170_d2_170_d3_1_order_C_frames_3000.mmap\n",
      "Decode mmap filename /home/kushalk/caiman_data/mesmerize-core-batch/09610b86-917a-41e7-a493-2d036bf44428/879d1d8b-dfe7-4b4f-aa2f-b987d83f7788_cnmf-memmap_d1_170_d2_170_d3_1_order_C_frames_3000.mmap\n",
      "Decode mmap filename /home/kushalk/caiman_data/mesmerize-core-batch/09610b86-917a-41e7-a493-2d036bf44428/879d1d8b-dfe7-4b4f-aa2f-b987d83f7788_cnmf-memmap_d1_170_d2_170_d3_1_order_C_frames_3000.mmap\n",
      "Decode mmap filename /home/kushalk/caiman_data/mesmerize-core-batch/09610b86-917a-41e7-a493-2d036bf44428/879d1d8b-dfe7-4b4f-aa2f-b987d83f7788_cnmf-memmap_d1_170_d2_170_d3_1_order_C_frames_3000.mmap\n",
      "Decode mmap filename /home/kushalk/caiman_data/mesmerize-core-batch/09610b86-917a-41e7-a493-2d036bf44428/879d1d8b-dfe7-4b4f-aa2f-b987d83f7788_cnmf-memmap_d1_170_d2_170_d3_1_order_C_frames_3000.mmap\n",
      "Decode mmap filename /home/kushalk/caiman_data/mesmerize-core-batch/09610b86-917a-41e7-a493-2d036bf44428/879d1d8b-dfe7-4b4f-aa2f-b987d83f7788_cnmf-memmap_d1_170_d2_170_d3_1_order_C_frames_3000.mmap\n",
      "Decode mmap filename /home/kushalk/caiman_data/mesmerize-core-batch/09610b86-917a-41e7-a493-2d036bf44428/879d1d8b-dfe7-4b4f-aa2f-b987d83f7788_cnmf-memmap_d1_170_d2_170_d3_1_order_C_frames_3000.mmap\n",
      "Decode mmap filename /home/kushalk/caiman_data/mesmerize-core-batch/09610b86-917a-41e7-a493-2d036bf44428/879d1d8b-dfe7-4b4f-aa2f-b987d83f7788_cnmf-memmap_d1_170_d2_170_d3_1_order_C_frames_3000.mmap\n",
      "Decode mmap filename /home/kushalk/caiman_data/mesmerize-core-batch/09610b86-917a-41e7-a493-2d036bf44428/879d1d8b-dfe7-4b4f-aa2f-b987d83f7788_cnmf-memmap_d1_170_d2_170_d3_1_order_C_frames_3000.mmap\n",
      "Decode mmap filename /home/kushalk/caiman_data/mesmerize-core-batch/09610b86-917a-41e7-a493-2d036bf44428/879d1d8b-dfe7-4b4f-aa2f-b987d83f7788_cnmf-memmap_d1_170_d2_170_d3_1_order_C_frames_3000.mmap\n",
      "Decode mmap filename /home/kushalk/caiman_data/mesmerize-core-batch/09610b86-917a-41e7-a493-2d036bf44428/879d1d8b-dfe7-4b4f-aa2f-b987d83f7788_cnmf-memmap_d1_170_d2_170_d3_1_order_C_frames_3000.mmap\n",
      "Decode mmap filename /home/kushalk/caiman_data/mesmerize-core-batch/09610b86-917a-41e7-a493-2d036bf44428/879d1d8b-dfe7-4b4f-aa2f-b987d83f7788_cnmf-memmap_d1_170_d2_170_d3_1_order_C_frames_3000.mmap\n",
      "Decode mmap filename /home/kushalk/caiman_data/mesmerize-core-batch/09610b86-917a-41e7-a493-2d036bf44428/879d1d8b-dfe7-4b4f-aa2f-b987d83f7788_cnmf-memmap_d1_170_d2_170_d3_1_order_C_frames_3000.mmap\n",
      "Decode mmap filename /home/kushalk/caiman_data/mesmerize-core-batch/09610b86-917a-41e7-a493-2d036bf44428/879d1d8b-dfe7-4b4f-aa2f-b987d83f7788_cnmf-memmap_d1_170_d2_170_d3_1_order_C_frames_3000.mmap\n",
      "Decode mmap filename /home/kushalk/caiman_data/mesmerize-core-batch/09610b86-917a-41e7-a493-2d036bf44428/879d1d8b-dfe7-4b4f-aa2f-b987d83f7788_cnmf-memmap_d1_170_d2_170_d3_1_order_C_frames_3000.mmap\n",
      "Decode mmap filename /home/kushalk/caiman_data/mesmerize-core-batch/09610b86-917a-41e7-a493-2d036bf44428/879d1d8b-dfe7-4b4f-aa2f-b987d83f7788_cnmf-memmap_d1_170_d2_170_d3_1_order_C_frames_3000.mmap\n",
      "Decode mmap filename /home/kushalk/caiman_data/mesmerize-core-batch/09610b86-917a-41e7-a493-2d036bf44428/879d1d8b-dfe7-4b4f-aa2f-b987d83f7788_cnmf-memmap_d1_170_d2_170_d3_1_order_C_frames_3000.mmap\n",
      "Decode mmap filename /home/kushalk/caiman_data/mesmerize-core-batch/09610b86-917a-41e7-a493-2d036bf44428/879d1d8b-dfe7-4b4f-aa2f-b987d83f7788_cnmf-memmap_d1_170_d2_170_d3_1_order_C_frames_3000.mmap\n",
      "Decode mmap filename /home/kushalk/caiman_data/mesmerize-core-batch/09610b86-917a-41e7-a493-2d036bf44428/879d1d8b-dfe7-4b4f-aa2f-b987d83f7788_cnmf-memmap_d1_170_d2_170_d3_1_order_C_frames_3000.mmap\n",
      "Decode mmap filename /home/kushalk/caiman_data/mesmerize-core-batch/09610b86-917a-41e7-a493-2d036bf44428/879d1d8b-dfe7-4b4f-aa2f-b987d83f7788_cnmf-memmap_d1_170_d2_170_d3_1_order_C_frames_3000.mmap\n",
      "Decode mmap filename /home/kushalk/caiman_data/mesmerize-core-batch/09610b86-917a-41e7-a493-2d036bf44428/879d1d8b-dfe7-4b4f-aa2f-b987d83f7788_cnmf-memmap_d1_170_d2_170_d3_1_order_C_frames_3000.mmap\n",
      "Decode mmap filename /home/kushalk/caiman_data/mesmerize-core-batch/09610b86-917a-41e7-a493-2d036bf44428/879d1d8b-dfe7-4b4f-aa2f-b987d83f7788_cnmf-memmap_d1_170_d2_170_d3_1_order_C_frames_3000.mmap\n",
      "Decode mmap filename /home/kushalk/caiman_data/mesmerize-core-batch/09610b86-917a-41e7-a493-2d036bf44428/879d1d8b-dfe7-4b4f-aa2f-b987d83f7788_cnmf-memmap_d1_170_d2_170_d3_1_order_C_frames_3000.mmap\n",
      "Decode mmap filename /home/kushalk/caiman_data/mesmerize-core-batch/09610b86-917a-41e7-a493-2d036bf44428/879d1d8b-dfe7-4b4f-aa2f-b987d83f7788_cnmf-memmap_d1_170_d2_170_d3_1_order_C_frames_3000.mmap\n",
      "Decode mmap filename /home/kushalk/caiman_data/mesmerize-core-batch/09610b86-917a-41e7-a493-2d036bf44428/879d1d8b-dfe7-4b4f-aa2f-b987d83f7788_cnmf-memmap_d1_170_d2_170_d3_1_order_C_frames_3000.mmap\n",
      "Decode mmap filename /home/kushalk/caiman_data/mesmerize-core-batch/09610b86-917a-41e7-a493-2d036bf44428/879d1d8b-dfe7-4b4f-aa2f-b987d83f7788_cnmf-memmap_d1_170_d2_170_d3_1_order_C_frames_3000.mmap\n",
      "Decode mmap filename /home/kushalk/caiman_data/mesmerize-core-batch/09610b86-917a-41e7-a493-2d036bf44428/879d1d8b-dfe7-4b4f-aa2f-b987d83f7788_cnmf-memmap_d1_170_d2_170_d3_1_order_C_frames_3000.mmap\n",
      "Decode mmap filename /home/kushalk/caiman_data/mesmerize-core-batch/09610b86-917a-41e7-a493-2d036bf44428/879d1d8b-dfe7-4b4f-aa2f-b987d83f7788_cnmf-memmap_d1_170_d2_170_d3_1_order_C_frames_3000.mmap\n",
      "Decode mmap filename /home/kushalk/caiman_data/mesmerize-core-batch/09610b86-917a-41e7-a493-2d036bf44428/879d1d8b-dfe7-4b4f-aa2f-b987d83f7788_cnmf-memmap_d1_170_d2_170_d3_1_order_C_frames_3000.mmap\n",
      "Decode mmap filename /home/kushalk/caiman_data/mesmerize-core-batch/09610b86-917a-41e7-a493-2d036bf44428/879d1d8b-dfe7-4b4f-aa2f-b987d83f7788_cnmf-memmap_d1_170_d2_170_d3_1_order_C_frames_3000.mmap\n",
      "Decode mmap filename /home/kushalk/caiman_data/mesmerize-core-batch/09610b86-917a-41e7-a493-2d036bf44428/879d1d8b-dfe7-4b4f-aa2f-b987d83f7788_cnmf-memmap_d1_170_d2_170_d3_1_order_C_frames_3000.mmap\n",
      "Decode mmap filename /home/kushalk/caiman_data/mesmerize-core-batch/09610b86-917a-41e7-a493-2d036bf44428/879d1d8b-dfe7-4b4f-aa2f-b987d83f7788_cnmf-memmap_d1_170_d2_170_d3_1_order_C_frames_3000.mmap\n",
      "Decode mmap filename /home/kushalk/caiman_data/mesmerize-core-batch/09610b86-917a-41e7-a493-2d036bf44428/879d1d8b-dfe7-4b4f-aa2f-b987d83f7788_cnmf-memmap_d1_170_d2_170_d3_1_order_C_frames_3000.mmap\n",
      "Decode mmap filename /home/kushalk/caiman_data/mesmerize-core-batch/09610b86-917a-41e7-a493-2d036bf44428/879d1d8b-dfe7-4b4f-aa2f-b987d83f7788_cnmf-memmap_d1_170_d2_170_d3_1_order_C_frames_3000.mmap\n",
      "Decode mmap filename /home/kushalk/caiman_data/mesmerize-core-batch/09610b86-917a-41e7-a493-2d036bf44428/879d1d8b-dfe7-4b4f-aa2f-b987d83f7788_cnmf-memmap_d1_170_d2_170_d3_1_order_C_frames_3000.mmap\n",
      "Decode mmap filename /home/kushalk/caiman_data/mesmerize-core-batch/09610b86-917a-41e7-a493-2d036bf44428/879d1d8b-dfe7-4b4f-aa2f-b987d83f7788_cnmf-memmap_d1_170_d2_170_d3_1_order_C_frames_3000.mmap\n",
      "Decode mmap filename /home/kushalk/caiman_data/mesmerize-core-batch/09610b86-917a-41e7-a493-2d036bf44428/879d1d8b-dfe7-4b4f-aa2f-b987d83f7788_cnmf-memmap_d1_170_d2_170_d3_1_order_C_frames_3000.mmap\n",
      "Decode mmap filename /home/kushalk/caiman_data/mesmerize-core-batch/09610b86-917a-41e7-a493-2d036bf44428/879d1d8b-dfe7-4b4f-aa2f-b987d83f7788_cnmf-memmap_d1_170_d2_170_d3_1_order_C_frames_3000.mmap\n",
      "Decode mmap filename /home/kushalk/caiman_data/mesmerize-core-batch/09610b86-917a-41e7-a493-2d036bf44428/879d1d8b-dfe7-4b4f-aa2f-b987d83f7788_cnmf-memmap_d1_170_d2_170_d3_1_order_C_frames_3000.mmap\n",
      "Decode mmap filename /home/kushalk/caiman_data/mesmerize-core-batch/09610b86-917a-41e7-a493-2d036bf44428/879d1d8b-dfe7-4b4f-aa2f-b987d83f7788_cnmf-memmap_d1_170_d2_170_d3_1_order_C_frames_3000.mmap\n",
      "Decode mmap filename /home/kushalk/caiman_data/mesmerize-core-batch/09610b86-917a-41e7-a493-2d036bf44428/879d1d8b-dfe7-4b4f-aa2f-b987d83f7788_cnmf-memmap_d1_170_d2_170_d3_1_order_C_frames_3000.mmap\n",
      "Decode mmap filename /home/kushalk/caiman_data/mesmerize-core-batch/09610b86-917a-41e7-a493-2d036bf44428/879d1d8b-dfe7-4b4f-aa2f-b987d83f7788_cnmf-memmap_d1_170_d2_170_d3_1_order_C_frames_3000.mmap\n",
      "Decode mmap filename /home/kushalk/caiman_data/mesmerize-core-batch/09610b86-917a-41e7-a493-2d036bf44428/879d1d8b-dfe7-4b4f-aa2f-b987d83f7788_cnmf-memmap_d1_170_d2_170_d3_1_order_C_frames_3000.mmap\n",
      "Decode mmap filename /home/kushalk/caiman_data/mesmerize-core-batch/09610b86-917a-41e7-a493-2d036bf44428/879d1d8b-dfe7-4b4f-aa2f-b987d83f7788_cnmf-memmap_d1_170_d2_170_d3_1_order_C_frames_3000.mmap\n",
      "Decode mmap filename /home/kushalk/caiman_data/mesmerize-core-batch/09610b86-917a-41e7-a493-2d036bf44428/879d1d8b-dfe7-4b4f-aa2f-b987d83f7788_cnmf-memmap_d1_170_d2_170_d3_1_order_C_frames_3000.mmap\n",
      "Decode mmap filename /home/kushalk/caiman_data/mesmerize-core-batch/09610b86-917a-41e7-a493-2d036bf44428/879d1d8b-dfe7-4b4f-aa2f-b987d83f7788_cnmf-memmap_d1_170_d2_170_d3_1_order_C_frames_3000.mmap\n",
      "Decode mmap filename /home/kushalk/caiman_data/mesmerize-core-batch/09610b86-917a-41e7-a493-2d036bf44428/879d1d8b-dfe7-4b4f-aa2f-b987d83f7788_cnmf-memmap_d1_170_d2_170_d3_1_order_C_frames_3000.mmap\n",
      "Decode mmap filename /home/kushalk/caiman_data/mesmerize-core-batch/09610b86-917a-41e7-a493-2d036bf44428/879d1d8b-dfe7-4b4f-aa2f-b987d83f7788_cnmf-memmap_d1_170_d2_170_d3_1_order_C_frames_3000.mmap\n",
      "Decode mmap filename /home/kushalk/caiman_data/mesmerize-core-batch/09610b86-917a-41e7-a493-2d036bf44428/879d1d8b-dfe7-4b4f-aa2f-b987d83f7788_cnmf-memmap_d1_170_d2_170_d3_1_order_C_frames_3000.mmap\n",
      "Decode mmap filename /home/kushalk/caiman_data/mesmerize-core-batch/09610b86-917a-41e7-a493-2d036bf44428/879d1d8b-dfe7-4b4f-aa2f-b987d83f7788_cnmf-memmap_d1_170_d2_170_d3_1_order_C_frames_3000.mmap\n",
      "Decode mmap filename /home/kushalk/caiman_data/mesmerize-core-batch/09610b86-917a-41e7-a493-2d036bf44428/879d1d8b-dfe7-4b4f-aa2f-b987d83f7788_cnmf-memmap_d1_170_d2_170_d3_1_order_C_frames_3000.mmap\n",
      "Decode mmap filename /home/kushalk/caiman_data/mesmerize-core-batch/09610b86-917a-41e7-a493-2d036bf44428/879d1d8b-dfe7-4b4f-aa2f-b987d83f7788_cnmf-memmap_d1_170_d2_170_d3_1_order_C_frames_3000.mmap\n",
      "Decode mmap filename /home/kushalk/caiman_data/mesmerize-core-batch/09610b86-917a-41e7-a493-2d036bf44428/879d1d8b-dfe7-4b4f-aa2f-b987d83f7788_cnmf-memmap_d1_170_d2_170_d3_1_order_C_frames_3000.mmap\n",
      "Decode mmap filename /home/kushalk/caiman_data/mesmerize-core-batch/09610b86-917a-41e7-a493-2d036bf44428/879d1d8b-dfe7-4b4f-aa2f-b987d83f7788_cnmf-memmap_d1_170_d2_170_d3_1_order_C_frames_3000.mmap\n",
      "Decode mmap filename /home/kushalk/caiman_data/mesmerize-core-batch/09610b86-917a-41e7-a493-2d036bf44428/879d1d8b-dfe7-4b4f-aa2f-b987d83f7788_cnmf-memmap_d1_170_d2_170_d3_1_order_C_frames_3000.mmap\n",
      "Decode mmap filename /home/kushalk/caiman_data/mesmerize-core-batch/09610b86-917a-41e7-a493-2d036bf44428/879d1d8b-dfe7-4b4f-aa2f-b987d83f7788_cnmf-memmap_d1_170_d2_170_d3_1_order_C_frames_3000.mmap\n",
      "Decode mmap filename /home/kushalk/caiman_data/mesmerize-core-batch/09610b86-917a-41e7-a493-2d036bf44428/879d1d8b-dfe7-4b4f-aa2f-b987d83f7788_cnmf-memmap_d1_170_d2_170_d3_1_order_C_frames_3000.mmap\n",
      "Decode mmap filename /home/kushalk/caiman_data/mesmerize-core-batch/09610b86-917a-41e7-a493-2d036bf44428/879d1d8b-dfe7-4b4f-aa2f-b987d83f7788_cnmf-memmap_d1_170_d2_170_d3_1_order_C_frames_3000.mmap\n",
      "Decode mmap filename /home/kushalk/caiman_data/mesmerize-core-batch/09610b86-917a-41e7-a493-2d036bf44428/879d1d8b-dfe7-4b4f-aa2f-b987d83f7788_cnmf-memmap_d1_170_d2_170_d3_1_order_C_frames_3000.mmap\n",
      "Decode mmap filename /home/kushalk/caiman_data/mesmerize-core-batch/09610b86-917a-41e7-a493-2d036bf44428/879d1d8b-dfe7-4b4f-aa2f-b987d83f7788_cnmf-memmap_d1_170_d2_170_d3_1_order_C_frames_3000.mmap\n",
      "Decode mmap filename /home/kushalk/caiman_data/mesmerize-core-batch/09610b86-917a-41e7-a493-2d036bf44428/879d1d8b-dfe7-4b4f-aa2f-b987d83f7788_cnmf-memmap_d1_170_d2_170_d3_1_order_C_frames_3000.mmap\n",
      "Decode mmap filename /home/kushalk/caiman_data/mesmerize-core-batch/09610b86-917a-41e7-a493-2d036bf44428/879d1d8b-dfe7-4b4f-aa2f-b987d83f7788_cnmf-memmap_d1_170_d2_170_d3_1_order_C_frames_3000.mmap\n",
      "Decode mmap filename /home/kushalk/caiman_data/mesmerize-core-batch/09610b86-917a-41e7-a493-2d036bf44428/879d1d8b-dfe7-4b4f-aa2f-b987d83f7788_cnmf-memmap_d1_170_d2_170_d3_1_order_C_frames_3000.mmap\n",
      "Decode mmap filename /home/kushalk/caiman_data/mesmerize-core-batch/09610b86-917a-41e7-a493-2d036bf44428/879d1d8b-dfe7-4b4f-aa2f-b987d83f7788_cnmf-memmap_d1_170_d2_170_d3_1_order_C_frames_3000.mmap\n",
      "Decode mmap filename /home/kushalk/caiman_data/mesmerize-core-batch/09610b86-917a-41e7-a493-2d036bf44428/879d1d8b-dfe7-4b4f-aa2f-b987d83f7788_cnmf-memmap_d1_170_d2_170_d3_1_order_C_frames_3000.mmap\n",
      "Decode mmap filename /home/kushalk/caiman_data/mesmerize-core-batch/09610b86-917a-41e7-a493-2d036bf44428/879d1d8b-dfe7-4b4f-aa2f-b987d83f7788_cnmf-memmap_d1_170_d2_170_d3_1_order_C_frames_3000.mmap\n",
      "Decode mmap filename /home/kushalk/caiman_data/mesmerize-core-batch/09610b86-917a-41e7-a493-2d036bf44428/879d1d8b-dfe7-4b4f-aa2f-b987d83f7788_cnmf-memmap_d1_170_d2_170_d3_1_order_C_frames_3000.mmap\n",
      "Decode mmap filename /home/kushalk/caiman_data/mesmerize-core-batch/09610b86-917a-41e7-a493-2d036bf44428/879d1d8b-dfe7-4b4f-aa2f-b987d83f7788_cnmf-memmap_d1_170_d2_170_d3_1_order_C_frames_3000.mmap\n",
      "Decode mmap filename /home/kushalk/caiman_data/mesmerize-core-batch/09610b86-917a-41e7-a493-2d036bf44428/879d1d8b-dfe7-4b4f-aa2f-b987d83f7788_cnmf-memmap_d1_170_d2_170_d3_1_order_C_frames_3000.mmap\n",
      "Decode mmap filename /home/kushalk/caiman_data/mesmerize-core-batch/09610b86-917a-41e7-a493-2d036bf44428/879d1d8b-dfe7-4b4f-aa2f-b987d83f7788_cnmf-memmap_d1_170_d2_170_d3_1_order_C_frames_3000.mmap\n",
      "Decode mmap filename /home/kushalk/caiman_data/mesmerize-core-batch/09610b86-917a-41e7-a493-2d036bf44428/879d1d8b-dfe7-4b4f-aa2f-b987d83f7788_cnmf-memmap_d1_170_d2_170_d3_1_order_C_frames_3000.mmap\n",
      "Decode mmap filename /home/kushalk/caiman_data/mesmerize-core-batch/09610b86-917a-41e7-a493-2d036bf44428/879d1d8b-dfe7-4b4f-aa2f-b987d83f7788_cnmf-memmap_d1_170_d2_170_d3_1_order_C_frames_3000.mmap\n",
      "Decode mmap filename /home/kushalk/caiman_data/mesmerize-core-batch/09610b86-917a-41e7-a493-2d036bf44428/879d1d8b-dfe7-4b4f-aa2f-b987d83f7788_cnmf-memmap_d1_170_d2_170_d3_1_order_C_frames_3000.mmap\n",
      "Decode mmap filename /home/kushalk/caiman_data/mesmerize-core-batch/09610b86-917a-41e7-a493-2d036bf44428/879d1d8b-dfe7-4b4f-aa2f-b987d83f7788_cnmf-memmap_d1_170_d2_170_d3_1_order_C_frames_3000.mmap\n",
      "Decode mmap filename /home/kushalk/caiman_data/mesmerize-core-batch/09610b86-917a-41e7-a493-2d036bf44428/879d1d8b-dfe7-4b4f-aa2f-b987d83f7788_cnmf-memmap_d1_170_d2_170_d3_1_order_C_frames_3000.mmap\n",
      "Decode mmap filename /home/kushalk/caiman_data/mesmerize-core-batch/09610b86-917a-41e7-a493-2d036bf44428/879d1d8b-dfe7-4b4f-aa2f-b987d83f7788_cnmf-memmap_d1_170_d2_170_d3_1_order_C_frames_3000.mmap\n",
      "Decode mmap filename /home/kushalk/caiman_data/mesmerize-core-batch/09610b86-917a-41e7-a493-2d036bf44428/879d1d8b-dfe7-4b4f-aa2f-b987d83f7788_cnmf-memmap_d1_170_d2_170_d3_1_order_C_frames_3000.mmap\n",
      "Decode mmap filename /home/kushalk/caiman_data/mesmerize-core-batch/09610b86-917a-41e7-a493-2d036bf44428/879d1d8b-dfe7-4b4f-aa2f-b987d83f7788_cnmf-memmap_d1_170_d2_170_d3_1_order_C_frames_3000.mmap\n",
      "Decode mmap filename /home/kushalk/caiman_data/mesmerize-core-batch/09610b86-917a-41e7-a493-2d036bf44428/879d1d8b-dfe7-4b4f-aa2f-b987d83f7788_cnmf-memmap_d1_170_d2_170_d3_1_order_C_frames_3000.mmap\n",
      "Decode mmap filename /home/kushalk/caiman_data/mesmerize-core-batch/09610b86-917a-41e7-a493-2d036bf44428/879d1d8b-dfe7-4b4f-aa2f-b987d83f7788_cnmf-memmap_d1_170_d2_170_d3_1_order_C_frames_3000.mmap\n"
     ]
    },
    {
     "name": "stderr",
     "output_type": "stream",
     "text": [
      "2023-01-08 01:33:02.142924: I tensorflow/core/platform/cpu_feature_guard.cc:193] This TensorFlow binary is optimized with oneAPI Deep Neural Network Library (oneDNN) to use the following CPU instructions in performance-critical operations:  AVX2 FMA\n",
      "To enable them in other operations, rebuild TensorFlow with the appropriate compiler flags.\n",
      "2023-01-08 01:33:02.233379: E tensorflow/stream_executor/cuda/cuda_blas.cc:2981] Unable to register cuBLAS factory: Attempting to register factory for plugin cuBLAS when one has already been registered\n",
      "2023-01-08 01:33:02.608255: W tensorflow/stream_executor/platform/default/dso_loader.cc:64] Could not load dynamic library 'libnvinfer.so.7'; dlerror: libnvinfer.so.7: cannot open shared object file: No such file or directory; LD_LIBRARY_PATH: /home/kushalk/python-venvs/mescore/lib/python3.10/site-packages/cv2/../../lib64:/home/kushalk/python-venvs/mescore/lib/python3.10/site-packages/cv2/../../lib64:/usr/local/cuda-11.2/lib64:/usr/local/cuda-11.2/lib64\n",
      "2023-01-08 01:33:02.608301: W tensorflow/stream_executor/platform/default/dso_loader.cc:64] Could not load dynamic library 'libnvinfer_plugin.so.7'; dlerror: libnvinfer_plugin.so.7: cannot open shared object file: No such file or directory; LD_LIBRARY_PATH: /home/kushalk/python-venvs/mescore/lib/python3.10/site-packages/cv2/../../lib64:/home/kushalk/python-venvs/mescore/lib/python3.10/site-packages/cv2/../../lib64:/usr/local/cuda-11.2/lib64:/usr/local/cuda-11.2/lib64\n",
      "2023-01-08 01:33:02.608306: W tensorflow/compiler/tf2tensorrt/utils/py_utils.cc:38] TF-TRT Warning: Cannot dlopen some TensorRT libraries. If you would like to use Nvidia GPU with TensorRT, please make sure the missing libraries mentioned above are installed properly.\n"
     ]
    },
    {
     "name": "stdout",
     "output_type": "stream",
     "text": [
      "************************************************************************\n",
      "\n",
      "Starting CNMF item:\n",
      "algo                                                             cnmf\n",
      "item_name                                          Sue_2x_3000_40_-46\n",
      "input_movie_path    09610b86-917a-41e7-a493-2d036bf44428/09610b86-...\n",
      "params              {'main': {'fr': 30, 'p': 1, 'nb': 2, 'merge_th...\n",
      "outputs                                                          None\n",
      "comments                                                         None\n",
      "uuid                             539745c5-ec3e-4a63-a7c2-eb41af9a080e\n",
      "Name: 7, dtype: object\n",
      "With params:{'main': {'fr': 30, 'p': 1, 'nb': 2, 'merge_thr': 0.95, 'rf': 15, 'stride': 6, 'K': 4, 'gSig': (8, 8), 'ssub': 1, 'tsub': 1, 'method_init': 'greedy_roi', 'min_SNR': 2.0, 'rval_thr': 0.7, 'use_cnn': True, 'min_cnn_thr': 0.8, 'cnn_lowest': 0.1, 'decay_time': 0.4}, 'refit': True}\n"
     ]
    },
    {
     "name": "stderr",
     "output_type": "stream",
     "text": [
      "WARNING:root:Changing rf from 15 to 34 because the constraint rf > gSiz was not satisfied.\n"
     ]
    },
    {
     "name": "stdout",
     "output_type": "stream",
     "text": [
      "Decode mmap filename /home/kushalk/caiman_data/mesmerize-core-batch/09610b86-917a-41e7-a493-2d036bf44428/09610b86-917a-41e7-a493-2d036bf44428-Sue_2x_3000_40_-46_els__d1_170_d2_170_d3_1_order_F_frames_3000.mmap\n",
      "making memmap\n",
      "Decode mmap filename /home/kushalk/caiman_data/mesmerize-core-batch/09610b86-917a-41e7-a493-2d036bf44428/539745c5-ec3e-4a63-a7c2-eb41af9a080e_cnmf-memmap_d1_170_d2_170_d3_1_order_C_frames_3000.mmap\n"
     ]
    },
    {
     "name": "stderr",
     "output_type": "stream",
     "text": [
      "WARNING:root:Component 8 is only active jointly with neighboring components. Space correlation calculation might be unreliable.\n",
      "WARNING:root:Component 3 is only active jointly with neighboring components. Space correlation calculation might be unreliable.\n",
      "WARNING:root:Component 5 is only active jointly with neighboring components. Space correlation calculation might be unreliable.\n",
      "WARNING:root:Component 3 is only active jointly with neighboring components. Space correlation calculation might be unreliable.\n",
      "WARNING:root:Component 8 is only active jointly with neighboring components. Space correlation calculation might be unreliable.\n",
      "WARNING:root:Component 27 is only active jointly with neighboring components. Space correlation calculation might be unreliable.\n",
      "2023-01-08 01:33:17.433498: E tensorflow/stream_executor/cuda/cuda_driver.cc:265] failed call to cuInit: CUDA_ERROR_NO_DEVICE: no CUDA-capable device is detected\n",
      "2023-01-08 01:33:17.433522: I tensorflow/stream_executor/cuda/cuda_diagnostics.cc:169] retrieving CUDA diagnostic information for host: hantman-calcium\n",
      "2023-01-08 01:33:17.433525: I tensorflow/stream_executor/cuda/cuda_diagnostics.cc:176] hostname: hantman-calcium\n",
      "2023-01-08 01:33:17.433637: I tensorflow/stream_executor/cuda/cuda_diagnostics.cc:200] libcuda reported version is: 470.161.3\n",
      "2023-01-08 01:33:17.433651: I tensorflow/stream_executor/cuda/cuda_diagnostics.cc:204] kernel reported version is: 470.161.3\n",
      "2023-01-08 01:33:17.433654: I tensorflow/stream_executor/cuda/cuda_diagnostics.cc:310] kernel version seems to match DSO: 470.161.3\n",
      "2023-01-08 01:33:17.433816: I tensorflow/core/platform/cpu_feature_guard.cc:193] This TensorFlow binary is optimized with oneAPI Deep Neural Network Library (oneDNN) to use the following CPU instructions in performance-critical operations:  AVX2 FMA\n",
      "To enable them in other operations, rebuild TensorFlow with the appropriate compiler flags.\n"
     ]
    },
    {
     "name": "stdout",
     "output_type": "stream",
     "text": [
      "performing CNMF\n",
      "fitting images\n",
      "refitting\n",
      "performing eval\n",
      "GPU run not requested, disabling use of GPUs\n",
      "USING MODEL (keras API): /home/kushalk/caiman_data/model/cnn_model.json\n",
      "6/6 [==============================] - 0s 11ms/step\n",
      "Decode mmap filename /home/kushalk/caiman_data/mesmerize-core-batch/09610b86-917a-41e7-a493-2d036bf44428/539745c5-ec3e-4a63-a7c2-eb41af9a080e_cnmf-memmap_d1_170_d2_170_d3_1_order_C_frames_3000.mmap\n",
      "Decode mmap filename /home/kushalk/caiman_data/mesmerize-core-batch/09610b86-917a-41e7-a493-2d036bf44428/539745c5-ec3e-4a63-a7c2-eb41af9a080e_cnmf-memmap_d1_170_d2_170_d3_1_order_C_frames_3000.mmap\n",
      "Decode mmap filename /home/kushalk/caiman_data/mesmerize-core-batch/09610b86-917a-41e7-a493-2d036bf44428/539745c5-ec3e-4a63-a7c2-eb41af9a080e_cnmf-memmap_d1_170_d2_170_d3_1_order_C_frames_3000.mmap\n",
      "Decode mmap filename /home/kushalk/caiman_data/mesmerize-core-batch/09610b86-917a-41e7-a493-2d036bf44428/539745c5-ec3e-4a63-a7c2-eb41af9a080e_cnmf-memmap_d1_170_d2_170_d3_1_order_C_frames_3000.mmap\n",
      "Decode mmap filename /home/kushalk/caiman_data/mesmerize-core-batch/09610b86-917a-41e7-a493-2d036bf44428/539745c5-ec3e-4a63-a7c2-eb41af9a080e_cnmf-memmap_d1_170_d2_170_d3_1_order_C_frames_3000.mmap\n",
      "Decode mmap filename /home/kushalk/caiman_data/mesmerize-core-batch/09610b86-917a-41e7-a493-2d036bf44428/539745c5-ec3e-4a63-a7c2-eb41af9a080e_cnmf-memmap_d1_170_d2_170_d3_1_order_C_frames_3000.mmap\n",
      "Decode mmap filename /home/kushalk/caiman_data/mesmerize-core-batch/09610b86-917a-41e7-a493-2d036bf44428/539745c5-ec3e-4a63-a7c2-eb41af9a080e_cnmf-memmap_d1_170_d2_170_d3_1_order_C_frames_3000.mmap\n",
      "Decode mmap filename /home/kushalk/caiman_data/mesmerize-core-batch/09610b86-917a-41e7-a493-2d036bf44428/539745c5-ec3e-4a63-a7c2-eb41af9a080e_cnmf-memmap_d1_170_d2_170_d3_1_order_C_frames_3000.mmap\n",
      "Decode mmap filename /home/kushalk/caiman_data/mesmerize-core-batch/09610b86-917a-41e7-a493-2d036bf44428/539745c5-ec3e-4a63-a7c2-eb41af9a080e_cnmf-memmap_d1_170_d2_170_d3_1_order_C_frames_3000.mmap\n",
      "Decode mmap filename /home/kushalk/caiman_data/mesmerize-core-batch/09610b86-917a-41e7-a493-2d036bf44428/539745c5-ec3e-4a63-a7c2-eb41af9a080e_cnmf-memmap_d1_170_d2_170_d3_1_order_C_frames_3000.mmap\n",
      "Decode mmap filename /home/kushalk/caiman_data/mesmerize-core-batch/09610b86-917a-41e7-a493-2d036bf44428/539745c5-ec3e-4a63-a7c2-eb41af9a080e_cnmf-memmap_d1_170_d2_170_d3_1_order_C_frames_3000.mmap\n",
      "Decode mmap filename /home/kushalk/caiman_data/mesmerize-core-batch/09610b86-917a-41e7-a493-2d036bf44428/539745c5-ec3e-4a63-a7c2-eb41af9a080e_cnmf-memmap_d1_170_d2_170_d3_1_order_C_frames_3000.mmap\n",
      "Decode mmap filename /home/kushalk/caiman_data/mesmerize-core-batch/09610b86-917a-41e7-a493-2d036bf44428/539745c5-ec3e-4a63-a7c2-eb41af9a080e_cnmf-memmap_d1_170_d2_170_d3_1_order_C_frames_3000.mmap\n",
      "Decode mmap filename /home/kushalk/caiman_data/mesmerize-core-batch/09610b86-917a-41e7-a493-2d036bf44428/539745c5-ec3e-4a63-a7c2-eb41af9a080e_cnmf-memmap_d1_170_d2_170_d3_1_order_C_frames_3000.mmap\n",
      "Decode mmap filename /home/kushalk/caiman_data/mesmerize-core-batch/09610b86-917a-41e7-a493-2d036bf44428/539745c5-ec3e-4a63-a7c2-eb41af9a080e_cnmf-memmap_d1_170_d2_170_d3_1_order_C_frames_3000.mmap\n",
      "Decode mmap filename /home/kushalk/caiman_data/mesmerize-core-batch/09610b86-917a-41e7-a493-2d036bf44428/539745c5-ec3e-4a63-a7c2-eb41af9a080e_cnmf-memmap_d1_170_d2_170_d3_1_order_C_frames_3000.mmap\n",
      "Decode mmap filename /home/kushalk/caiman_data/mesmerize-core-batch/09610b86-917a-41e7-a493-2d036bf44428/539745c5-ec3e-4a63-a7c2-eb41af9a080e_cnmf-memmap_d1_170_d2_170_d3_1_order_C_frames_3000.mmap\n",
      "Decode mmap filename /home/kushalk/caiman_data/mesmerize-core-batch/09610b86-917a-41e7-a493-2d036bf44428/539745c5-ec3e-4a63-a7c2-eb41af9a080e_cnmf-memmap_d1_170_d2_170_d3_1_order_C_frames_3000.mmap\n",
      "Decode mmap filename /home/kushalk/caiman_data/mesmerize-core-batch/09610b86-917a-41e7-a493-2d036bf44428/539745c5-ec3e-4a63-a7c2-eb41af9a080e_cnmf-memmap_d1_170_d2_170_d3_1_order_C_frames_3000.mmap\n",
      "Decode mmap filename /home/kushalk/caiman_data/mesmerize-core-batch/09610b86-917a-41e7-a493-2d036bf44428/539745c5-ec3e-4a63-a7c2-eb41af9a080e_cnmf-memmap_d1_170_d2_170_d3_1_order_C_frames_3000.mmap\n",
      "Decode mmap filename /home/kushalk/caiman_data/mesmerize-core-batch/09610b86-917a-41e7-a493-2d036bf44428/539745c5-ec3e-4a63-a7c2-eb41af9a080e_cnmf-memmap_d1_170_d2_170_d3_1_order_C_frames_3000.mmap\n",
      "Decode mmap filename /home/kushalk/caiman_data/mesmerize-core-batch/09610b86-917a-41e7-a493-2d036bf44428/539745c5-ec3e-4a63-a7c2-eb41af9a080e_cnmf-memmap_d1_170_d2_170_d3_1_order_C_frames_3000.mmap\n",
      "Decode mmap filename /home/kushalk/caiman_data/mesmerize-core-batch/09610b86-917a-41e7-a493-2d036bf44428/539745c5-ec3e-4a63-a7c2-eb41af9a080e_cnmf-memmap_d1_170_d2_170_d3_1_order_C_frames_3000.mmap\n",
      "Decode mmap filename /home/kushalk/caiman_data/mesmerize-core-batch/09610b86-917a-41e7-a493-2d036bf44428/539745c5-ec3e-4a63-a7c2-eb41af9a080e_cnmf-memmap_d1_170_d2_170_d3_1_order_C_frames_3000.mmap\n",
      "Decode mmap filename /home/kushalk/caiman_data/mesmerize-core-batch/09610b86-917a-41e7-a493-2d036bf44428/539745c5-ec3e-4a63-a7c2-eb41af9a080e_cnmf-memmap_d1_170_d2_170_d3_1_order_C_frames_3000.mmap\n",
      "Decode mmap filename /home/kushalk/caiman_data/mesmerize-core-batch/09610b86-917a-41e7-a493-2d036bf44428/539745c5-ec3e-4a63-a7c2-eb41af9a080e_cnmf-memmap_d1_170_d2_170_d3_1_order_C_frames_3000.mmap\n",
      "Decode mmap filename /home/kushalk/caiman_data/mesmerize-core-batch/09610b86-917a-41e7-a493-2d036bf44428/539745c5-ec3e-4a63-a7c2-eb41af9a080e_cnmf-memmap_d1_170_d2_170_d3_1_order_C_frames_3000.mmap\n",
      "Decode mmap filename /home/kushalk/caiman_data/mesmerize-core-batch/09610b86-917a-41e7-a493-2d036bf44428/539745c5-ec3e-4a63-a7c2-eb41af9a080e_cnmf-memmap_d1_170_d2_170_d3_1_order_C_frames_3000.mmap\n",
      "Decode mmap filename /home/kushalk/caiman_data/mesmerize-core-batch/09610b86-917a-41e7-a493-2d036bf44428/539745c5-ec3e-4a63-a7c2-eb41af9a080e_cnmf-memmap_d1_170_d2_170_d3_1_order_C_frames_3000.mmap\n",
      "Decode mmap filename /home/kushalk/caiman_data/mesmerize-core-batch/09610b86-917a-41e7-a493-2d036bf44428/539745c5-ec3e-4a63-a7c2-eb41af9a080e_cnmf-memmap_d1_170_d2_170_d3_1_order_C_frames_3000.mmap\n",
      "Decode mmap filename /home/kushalk/caiman_data/mesmerize-core-batch/09610b86-917a-41e7-a493-2d036bf44428/539745c5-ec3e-4a63-a7c2-eb41af9a080e_cnmf-memmap_d1_170_d2_170_d3_1_order_C_frames_3000.mmap\n",
      "Decode mmap filename /home/kushalk/caiman_data/mesmerize-core-batch/09610b86-917a-41e7-a493-2d036bf44428/539745c5-ec3e-4a63-a7c2-eb41af9a080e_cnmf-memmap_d1_170_d2_170_d3_1_order_C_frames_3000.mmap\n",
      "Decode mmap filename /home/kushalk/caiman_data/mesmerize-core-batch/09610b86-917a-41e7-a493-2d036bf44428/539745c5-ec3e-4a63-a7c2-eb41af9a080e_cnmf-memmap_d1_170_d2_170_d3_1_order_C_frames_3000.mmap\n",
      "Decode mmap filename /home/kushalk/caiman_data/mesmerize-core-batch/09610b86-917a-41e7-a493-2d036bf44428/539745c5-ec3e-4a63-a7c2-eb41af9a080e_cnmf-memmap_d1_170_d2_170_d3_1_order_C_frames_3000.mmap\n",
      "Decode mmap filename /home/kushalk/caiman_data/mesmerize-core-batch/09610b86-917a-41e7-a493-2d036bf44428/539745c5-ec3e-4a63-a7c2-eb41af9a080e_cnmf-memmap_d1_170_d2_170_d3_1_order_C_frames_3000.mmap\n",
      "Decode mmap filename /home/kushalk/caiman_data/mesmerize-core-batch/09610b86-917a-41e7-a493-2d036bf44428/539745c5-ec3e-4a63-a7c2-eb41af9a080e_cnmf-memmap_d1_170_d2_170_d3_1_order_C_frames_3000.mmap\n",
      "Decode mmap filename /home/kushalk/caiman_data/mesmerize-core-batch/09610b86-917a-41e7-a493-2d036bf44428/539745c5-ec3e-4a63-a7c2-eb41af9a080e_cnmf-memmap_d1_170_d2_170_d3_1_order_C_frames_3000.mmap\n",
      "Decode mmap filename /home/kushalk/caiman_data/mesmerize-core-batch/09610b86-917a-41e7-a493-2d036bf44428/539745c5-ec3e-4a63-a7c2-eb41af9a080e_cnmf-memmap_d1_170_d2_170_d3_1_order_C_frames_3000.mmap\n",
      "Decode mmap filename /home/kushalk/caiman_data/mesmerize-core-batch/09610b86-917a-41e7-a493-2d036bf44428/539745c5-ec3e-4a63-a7c2-eb41af9a080e_cnmf-memmap_d1_170_d2_170_d3_1_order_C_frames_3000.mmap\n",
      "Decode mmap filename /home/kushalk/caiman_data/mesmerize-core-batch/09610b86-917a-41e7-a493-2d036bf44428/539745c5-ec3e-4a63-a7c2-eb41af9a080e_cnmf-memmap_d1_170_d2_170_d3_1_order_C_frames_3000.mmap\n",
      "Decode mmap filename /home/kushalk/caiman_data/mesmerize-core-batch/09610b86-917a-41e7-a493-2d036bf44428/539745c5-ec3e-4a63-a7c2-eb41af9a080e_cnmf-memmap_d1_170_d2_170_d3_1_order_C_frames_3000.mmap\n",
      "Decode mmap filename /home/kushalk/caiman_data/mesmerize-core-batch/09610b86-917a-41e7-a493-2d036bf44428/539745c5-ec3e-4a63-a7c2-eb41af9a080e_cnmf-memmap_d1_170_d2_170_d3_1_order_C_frames_3000.mmap\n",
      "Decode mmap filename /home/kushalk/caiman_data/mesmerize-core-batch/09610b86-917a-41e7-a493-2d036bf44428/539745c5-ec3e-4a63-a7c2-eb41af9a080e_cnmf-memmap_d1_170_d2_170_d3_1_order_C_frames_3000.mmap\n",
      "Decode mmap filename /home/kushalk/caiman_data/mesmerize-core-batch/09610b86-917a-41e7-a493-2d036bf44428/539745c5-ec3e-4a63-a7c2-eb41af9a080e_cnmf-memmap_d1_170_d2_170_d3_1_order_C_frames_3000.mmap\n",
      "Decode mmap filename /home/kushalk/caiman_data/mesmerize-core-batch/09610b86-917a-41e7-a493-2d036bf44428/539745c5-ec3e-4a63-a7c2-eb41af9a080e_cnmf-memmap_d1_170_d2_170_d3_1_order_C_frames_3000.mmap\n",
      "Decode mmap filename /home/kushalk/caiman_data/mesmerize-core-batch/09610b86-917a-41e7-a493-2d036bf44428/539745c5-ec3e-4a63-a7c2-eb41af9a080e_cnmf-memmap_d1_170_d2_170_d3_1_order_C_frames_3000.mmap\n",
      "Decode mmap filename /home/kushalk/caiman_data/mesmerize-core-batch/09610b86-917a-41e7-a493-2d036bf44428/539745c5-ec3e-4a63-a7c2-eb41af9a080e_cnmf-memmap_d1_170_d2_170_d3_1_order_C_frames_3000.mmap\n",
      "Decode mmap filename /home/kushalk/caiman_data/mesmerize-core-batch/09610b86-917a-41e7-a493-2d036bf44428/539745c5-ec3e-4a63-a7c2-eb41af9a080e_cnmf-memmap_d1_170_d2_170_d3_1_order_C_frames_3000.mmap\n",
      "Decode mmap filename /home/kushalk/caiman_data/mesmerize-core-batch/09610b86-917a-41e7-a493-2d036bf44428/539745c5-ec3e-4a63-a7c2-eb41af9a080e_cnmf-memmap_d1_170_d2_170_d3_1_order_C_frames_3000.mmap\n",
      "Decode mmap filename /home/kushalk/caiman_data/mesmerize-core-batch/09610b86-917a-41e7-a493-2d036bf44428/539745c5-ec3e-4a63-a7c2-eb41af9a080e_cnmf-memmap_d1_170_d2_170_d3_1_order_C_frames_3000.mmap\n",
      "Decode mmap filename /home/kushalk/caiman_data/mesmerize-core-batch/09610b86-917a-41e7-a493-2d036bf44428/539745c5-ec3e-4a63-a7c2-eb41af9a080e_cnmf-memmap_d1_170_d2_170_d3_1_order_C_frames_3000.mmap\n",
      "Decode mmap filename /home/kushalk/caiman_data/mesmerize-core-batch/09610b86-917a-41e7-a493-2d036bf44428/539745c5-ec3e-4a63-a7c2-eb41af9a080e_cnmf-memmap_d1_170_d2_170_d3_1_order_C_frames_3000.mmap\n",
      "Decode mmap filename /home/kushalk/caiman_data/mesmerize-core-batch/09610b86-917a-41e7-a493-2d036bf44428/539745c5-ec3e-4a63-a7c2-eb41af9a080e_cnmf-memmap_d1_170_d2_170_d3_1_order_C_frames_3000.mmap\n",
      "Decode mmap filename /home/kushalk/caiman_data/mesmerize-core-batch/09610b86-917a-41e7-a493-2d036bf44428/539745c5-ec3e-4a63-a7c2-eb41af9a080e_cnmf-memmap_d1_170_d2_170_d3_1_order_C_frames_3000.mmap\n",
      "Decode mmap filename /home/kushalk/caiman_data/mesmerize-core-batch/09610b86-917a-41e7-a493-2d036bf44428/539745c5-ec3e-4a63-a7c2-eb41af9a080e_cnmf-memmap_d1_170_d2_170_d3_1_order_C_frames_3000.mmap\n",
      "Decode mmap filename /home/kushalk/caiman_data/mesmerize-core-batch/09610b86-917a-41e7-a493-2d036bf44428/539745c5-ec3e-4a63-a7c2-eb41af9a080e_cnmf-memmap_d1_170_d2_170_d3_1_order_C_frames_3000.mmap\n",
      "Decode mmap filename /home/kushalk/caiman_data/mesmerize-core-batch/09610b86-917a-41e7-a493-2d036bf44428/539745c5-ec3e-4a63-a7c2-eb41af9a080e_cnmf-memmap_d1_170_d2_170_d3_1_order_C_frames_3000.mmap\n",
      "Decode mmap filename /home/kushalk/caiman_data/mesmerize-core-batch/09610b86-917a-41e7-a493-2d036bf44428/539745c5-ec3e-4a63-a7c2-eb41af9a080e_cnmf-memmap_d1_170_d2_170_d3_1_order_C_frames_3000.mmap\n",
      "Decode mmap filename /home/kushalk/caiman_data/mesmerize-core-batch/09610b86-917a-41e7-a493-2d036bf44428/539745c5-ec3e-4a63-a7c2-eb41af9a080e_cnmf-memmap_d1_170_d2_170_d3_1_order_C_frames_3000.mmap\n",
      "Decode mmap filename /home/kushalk/caiman_data/mesmerize-core-batch/09610b86-917a-41e7-a493-2d036bf44428/539745c5-ec3e-4a63-a7c2-eb41af9a080e_cnmf-memmap_d1_170_d2_170_d3_1_order_C_frames_3000.mmap\n",
      "Decode mmap filename /home/kushalk/caiman_data/mesmerize-core-batch/09610b86-917a-41e7-a493-2d036bf44428/539745c5-ec3e-4a63-a7c2-eb41af9a080e_cnmf-memmap_d1_170_d2_170_d3_1_order_C_frames_3000.mmap\n",
      "Decode mmap filename /home/kushalk/caiman_data/mesmerize-core-batch/09610b86-917a-41e7-a493-2d036bf44428/539745c5-ec3e-4a63-a7c2-eb41af9a080e_cnmf-memmap_d1_170_d2_170_d3_1_order_C_frames_3000.mmap\n",
      "Decode mmap filename /home/kushalk/caiman_data/mesmerize-core-batch/09610b86-917a-41e7-a493-2d036bf44428/539745c5-ec3e-4a63-a7c2-eb41af9a080e_cnmf-memmap_d1_170_d2_170_d3_1_order_C_frames_3000.mmap\n",
      "Decode mmap filename /home/kushalk/caiman_data/mesmerize-core-batch/09610b86-917a-41e7-a493-2d036bf44428/539745c5-ec3e-4a63-a7c2-eb41af9a080e_cnmf-memmap_d1_170_d2_170_d3_1_order_C_frames_3000.mmap\n",
      "Decode mmap filename /home/kushalk/caiman_data/mesmerize-core-batch/09610b86-917a-41e7-a493-2d036bf44428/539745c5-ec3e-4a63-a7c2-eb41af9a080e_cnmf-memmap_d1_170_d2_170_d3_1_order_C_frames_3000.mmap\n",
      "Decode mmap filename /home/kushalk/caiman_data/mesmerize-core-batch/09610b86-917a-41e7-a493-2d036bf44428/539745c5-ec3e-4a63-a7c2-eb41af9a080e_cnmf-memmap_d1_170_d2_170_d3_1_order_C_frames_3000.mmap\n",
      "Decode mmap filename /home/kushalk/caiman_data/mesmerize-core-batch/09610b86-917a-41e7-a493-2d036bf44428/539745c5-ec3e-4a63-a7c2-eb41af9a080e_cnmf-memmap_d1_170_d2_170_d3_1_order_C_frames_3000.mmap\n",
      "Decode mmap filename /home/kushalk/caiman_data/mesmerize-core-batch/09610b86-917a-41e7-a493-2d036bf44428/539745c5-ec3e-4a63-a7c2-eb41af9a080e_cnmf-memmap_d1_170_d2_170_d3_1_order_C_frames_3000.mmap\n",
      "Decode mmap filename /home/kushalk/caiman_data/mesmerize-core-batch/09610b86-917a-41e7-a493-2d036bf44428/539745c5-ec3e-4a63-a7c2-eb41af9a080e_cnmf-memmap_d1_170_d2_170_d3_1_order_C_frames_3000.mmap\n",
      "Decode mmap filename /home/kushalk/caiman_data/mesmerize-core-batch/09610b86-917a-41e7-a493-2d036bf44428/539745c5-ec3e-4a63-a7c2-eb41af9a080e_cnmf-memmap_d1_170_d2_170_d3_1_order_C_frames_3000.mmap\n",
      "Decode mmap filename /home/kushalk/caiman_data/mesmerize-core-batch/09610b86-917a-41e7-a493-2d036bf44428/539745c5-ec3e-4a63-a7c2-eb41af9a080e_cnmf-memmap_d1_170_d2_170_d3_1_order_C_frames_3000.mmap\n",
      "Decode mmap filename /home/kushalk/caiman_data/mesmerize-core-batch/09610b86-917a-41e7-a493-2d036bf44428/539745c5-ec3e-4a63-a7c2-eb41af9a080e_cnmf-memmap_d1_170_d2_170_d3_1_order_C_frames_3000.mmap\n",
      "Decode mmap filename /home/kushalk/caiman_data/mesmerize-core-batch/09610b86-917a-41e7-a493-2d036bf44428/539745c5-ec3e-4a63-a7c2-eb41af9a080e_cnmf-memmap_d1_170_d2_170_d3_1_order_C_frames_3000.mmap\n",
      "Decode mmap filename /home/kushalk/caiman_data/mesmerize-core-batch/09610b86-917a-41e7-a493-2d036bf44428/539745c5-ec3e-4a63-a7c2-eb41af9a080e_cnmf-memmap_d1_170_d2_170_d3_1_order_C_frames_3000.mmap\n",
      "Decode mmap filename /home/kushalk/caiman_data/mesmerize-core-batch/09610b86-917a-41e7-a493-2d036bf44428/539745c5-ec3e-4a63-a7c2-eb41af9a080e_cnmf-memmap_d1_170_d2_170_d3_1_order_C_frames_3000.mmap\n",
      "Decode mmap filename /home/kushalk/caiman_data/mesmerize-core-batch/09610b86-917a-41e7-a493-2d036bf44428/539745c5-ec3e-4a63-a7c2-eb41af9a080e_cnmf-memmap_d1_170_d2_170_d3_1_order_C_frames_3000.mmap\n",
      "Decode mmap filename /home/kushalk/caiman_data/mesmerize-core-batch/09610b86-917a-41e7-a493-2d036bf44428/539745c5-ec3e-4a63-a7c2-eb41af9a080e_cnmf-memmap_d1_170_d2_170_d3_1_order_C_frames_3000.mmap\n",
      "Decode mmap filename /home/kushalk/caiman_data/mesmerize-core-batch/09610b86-917a-41e7-a493-2d036bf44428/539745c5-ec3e-4a63-a7c2-eb41af9a080e_cnmf-memmap_d1_170_d2_170_d3_1_order_C_frames_3000.mmap\n",
      "Decode mmap filename /home/kushalk/caiman_data/mesmerize-core-batch/09610b86-917a-41e7-a493-2d036bf44428/539745c5-ec3e-4a63-a7c2-eb41af9a080e_cnmf-memmap_d1_170_d2_170_d3_1_order_C_frames_3000.mmap\n",
      "Decode mmap filename /home/kushalk/caiman_data/mesmerize-core-batch/09610b86-917a-41e7-a493-2d036bf44428/539745c5-ec3e-4a63-a7c2-eb41af9a080e_cnmf-memmap_d1_170_d2_170_d3_1_order_C_frames_3000.mmap\n",
      "Decode mmap filename /home/kushalk/caiman_data/mesmerize-core-batch/09610b86-917a-41e7-a493-2d036bf44428/539745c5-ec3e-4a63-a7c2-eb41af9a080e_cnmf-memmap_d1_170_d2_170_d3_1_order_C_frames_3000.mmap\n",
      "Decode mmap filename /home/kushalk/caiman_data/mesmerize-core-batch/09610b86-917a-41e7-a493-2d036bf44428/539745c5-ec3e-4a63-a7c2-eb41af9a080e_cnmf-memmap_d1_170_d2_170_d3_1_order_C_frames_3000.mmap\n",
      "Decode mmap filename /home/kushalk/caiman_data/mesmerize-core-batch/09610b86-917a-41e7-a493-2d036bf44428/539745c5-ec3e-4a63-a7c2-eb41af9a080e_cnmf-memmap_d1_170_d2_170_d3_1_order_C_frames_3000.mmap\n",
      "Decode mmap filename /home/kushalk/caiman_data/mesmerize-core-batch/09610b86-917a-41e7-a493-2d036bf44428/539745c5-ec3e-4a63-a7c2-eb41af9a080e_cnmf-memmap_d1_170_d2_170_d3_1_order_C_frames_3000.mmap\n",
      "Decode mmap filename /home/kushalk/caiman_data/mesmerize-core-batch/09610b86-917a-41e7-a493-2d036bf44428/539745c5-ec3e-4a63-a7c2-eb41af9a080e_cnmf-memmap_d1_170_d2_170_d3_1_order_C_frames_3000.mmap\n",
      "Decode mmap filename /home/kushalk/caiman_data/mesmerize-core-batch/09610b86-917a-41e7-a493-2d036bf44428/539745c5-ec3e-4a63-a7c2-eb41af9a080e_cnmf-memmap_d1_170_d2_170_d3_1_order_C_frames_3000.mmap\n",
      "Decode mmap filename /home/kushalk/caiman_data/mesmerize-core-batch/09610b86-917a-41e7-a493-2d036bf44428/539745c5-ec3e-4a63-a7c2-eb41af9a080e_cnmf-memmap_d1_170_d2_170_d3_1_order_C_frames_3000.mmap\n",
      "Decode mmap filename /home/kushalk/caiman_data/mesmerize-core-batch/09610b86-917a-41e7-a493-2d036bf44428/539745c5-ec3e-4a63-a7c2-eb41af9a080e_cnmf-memmap_d1_170_d2_170_d3_1_order_C_frames_3000.mmap\n",
      "Decode mmap filename /home/kushalk/caiman_data/mesmerize-core-batch/09610b86-917a-41e7-a493-2d036bf44428/539745c5-ec3e-4a63-a7c2-eb41af9a080e_cnmf-memmap_d1_170_d2_170_d3_1_order_C_frames_3000.mmap\n",
      "Decode mmap filename /home/kushalk/caiman_data/mesmerize-core-batch/09610b86-917a-41e7-a493-2d036bf44428/539745c5-ec3e-4a63-a7c2-eb41af9a080e_cnmf-memmap_d1_170_d2_170_d3_1_order_C_frames_3000.mmap\n",
      "Decode mmap filename /home/kushalk/caiman_data/mesmerize-core-batch/09610b86-917a-41e7-a493-2d036bf44428/539745c5-ec3e-4a63-a7c2-eb41af9a080e_cnmf-memmap_d1_170_d2_170_d3_1_order_C_frames_3000.mmap\n",
      "Decode mmap filename /home/kushalk/caiman_data/mesmerize-core-batch/09610b86-917a-41e7-a493-2d036bf44428/539745c5-ec3e-4a63-a7c2-eb41af9a080e_cnmf-memmap_d1_170_d2_170_d3_1_order_C_frames_3000.mmap\n",
      "Decode mmap filename /home/kushalk/caiman_data/mesmerize-core-batch/09610b86-917a-41e7-a493-2d036bf44428/539745c5-ec3e-4a63-a7c2-eb41af9a080e_cnmf-memmap_d1_170_d2_170_d3_1_order_C_frames_3000.mmap\n",
      "Decode mmap filename /home/kushalk/caiman_data/mesmerize-core-batch/09610b86-917a-41e7-a493-2d036bf44428/539745c5-ec3e-4a63-a7c2-eb41af9a080e_cnmf-memmap_d1_170_d2_170_d3_1_order_C_frames_3000.mmap\n",
      "Decode mmap filename /home/kushalk/caiman_data/mesmerize-core-batch/09610b86-917a-41e7-a493-2d036bf44428/539745c5-ec3e-4a63-a7c2-eb41af9a080e_cnmf-memmap_d1_170_d2_170_d3_1_order_C_frames_3000.mmap\n",
      "Decode mmap filename /home/kushalk/caiman_data/mesmerize-core-batch/09610b86-917a-41e7-a493-2d036bf44428/539745c5-ec3e-4a63-a7c2-eb41af9a080e_cnmf-memmap_d1_170_d2_170_d3_1_order_C_frames_3000.mmap\n",
      "Decode mmap filename /home/kushalk/caiman_data/mesmerize-core-batch/09610b86-917a-41e7-a493-2d036bf44428/539745c5-ec3e-4a63-a7c2-eb41af9a080e_cnmf-memmap_d1_170_d2_170_d3_1_order_C_frames_3000.mmap\n",
      "Decode mmap filename /home/kushalk/caiman_data/mesmerize-core-batch/09610b86-917a-41e7-a493-2d036bf44428/539745c5-ec3e-4a63-a7c2-eb41af9a080e_cnmf-memmap_d1_170_d2_170_d3_1_order_C_frames_3000.mmap\n",
      "Decode mmap filename /home/kushalk/caiman_data/mesmerize-core-batch/09610b86-917a-41e7-a493-2d036bf44428/539745c5-ec3e-4a63-a7c2-eb41af9a080e_cnmf-memmap_d1_170_d2_170_d3_1_order_C_frames_3000.mmap\n",
      "Decode mmap filename /home/kushalk/caiman_data/mesmerize-core-batch/09610b86-917a-41e7-a493-2d036bf44428/539745c5-ec3e-4a63-a7c2-eb41af9a080e_cnmf-memmap_d1_170_d2_170_d3_1_order_C_frames_3000.mmap\n",
      "Decode mmap filename /home/kushalk/caiman_data/mesmerize-core-batch/09610b86-917a-41e7-a493-2d036bf44428/539745c5-ec3e-4a63-a7c2-eb41af9a080e_cnmf-memmap_d1_170_d2_170_d3_1_order_C_frames_3000.mmap\n",
      "Decode mmap filename /home/kushalk/caiman_data/mesmerize-core-batch/09610b86-917a-41e7-a493-2d036bf44428/539745c5-ec3e-4a63-a7c2-eb41af9a080e_cnmf-memmap_d1_170_d2_170_d3_1_order_C_frames_3000.mmap\n",
      "Decode mmap filename /home/kushalk/caiman_data/mesmerize-core-batch/09610b86-917a-41e7-a493-2d036bf44428/539745c5-ec3e-4a63-a7c2-eb41af9a080e_cnmf-memmap_d1_170_d2_170_d3_1_order_C_frames_3000.mmap\n",
      "Decode mmap filename /home/kushalk/caiman_data/mesmerize-core-batch/09610b86-917a-41e7-a493-2d036bf44428/539745c5-ec3e-4a63-a7c2-eb41af9a080e_cnmf-memmap_d1_170_d2_170_d3_1_order_C_frames_3000.mmap\n",
      "Decode mmap filename /home/kushalk/caiman_data/mesmerize-core-batch/09610b86-917a-41e7-a493-2d036bf44428/539745c5-ec3e-4a63-a7c2-eb41af9a080e_cnmf-memmap_d1_170_d2_170_d3_1_order_C_frames_3000.mmap\n",
      "Decode mmap filename /home/kushalk/caiman_data/mesmerize-core-batch/09610b86-917a-41e7-a493-2d036bf44428/539745c5-ec3e-4a63-a7c2-eb41af9a080e_cnmf-memmap_d1_170_d2_170_d3_1_order_C_frames_3000.mmap\n",
      "Decode mmap filename /home/kushalk/caiman_data/mesmerize-core-batch/09610b86-917a-41e7-a493-2d036bf44428/539745c5-ec3e-4a63-a7c2-eb41af9a080e_cnmf-memmap_d1_170_d2_170_d3_1_order_C_frames_3000.mmap\n",
      "Decode mmap filename /home/kushalk/caiman_data/mesmerize-core-batch/09610b86-917a-41e7-a493-2d036bf44428/539745c5-ec3e-4a63-a7c2-eb41af9a080e_cnmf-memmap_d1_170_d2_170_d3_1_order_C_frames_3000.mmap\n",
      "Decode mmap filename /home/kushalk/caiman_data/mesmerize-core-batch/09610b86-917a-41e7-a493-2d036bf44428/539745c5-ec3e-4a63-a7c2-eb41af9a080e_cnmf-memmap_d1_170_d2_170_d3_1_order_C_frames_3000.mmap\n",
      "Decode mmap filename /home/kushalk/caiman_data/mesmerize-core-batch/09610b86-917a-41e7-a493-2d036bf44428/539745c5-ec3e-4a63-a7c2-eb41af9a080e_cnmf-memmap_d1_170_d2_170_d3_1_order_C_frames_3000.mmap\n",
      "Decode mmap filename /home/kushalk/caiman_data/mesmerize-core-batch/09610b86-917a-41e7-a493-2d036bf44428/539745c5-ec3e-4a63-a7c2-eb41af9a080e_cnmf-memmap_d1_170_d2_170_d3_1_order_C_frames_3000.mmap\n",
      "Decode mmap filename /home/kushalk/caiman_data/mesmerize-core-batch/09610b86-917a-41e7-a493-2d036bf44428/539745c5-ec3e-4a63-a7c2-eb41af9a080e_cnmf-memmap_d1_170_d2_170_d3_1_order_C_frames_3000.mmap\n",
      "Decode mmap filename /home/kushalk/caiman_data/mesmerize-core-batch/09610b86-917a-41e7-a493-2d036bf44428/539745c5-ec3e-4a63-a7c2-eb41af9a080e_cnmf-memmap_d1_170_d2_170_d3_1_order_C_frames_3000.mmap\n",
      "Decode mmap filename /home/kushalk/caiman_data/mesmerize-core-batch/09610b86-917a-41e7-a493-2d036bf44428/539745c5-ec3e-4a63-a7c2-eb41af9a080e_cnmf-memmap_d1_170_d2_170_d3_1_order_C_frames_3000.mmap\n",
      "Decode mmap filename /home/kushalk/caiman_data/mesmerize-core-batch/09610b86-917a-41e7-a493-2d036bf44428/539745c5-ec3e-4a63-a7c2-eb41af9a080e_cnmf-memmap_d1_170_d2_170_d3_1_order_C_frames_3000.mmap\n",
      "Decode mmap filename /home/kushalk/caiman_data/mesmerize-core-batch/09610b86-917a-41e7-a493-2d036bf44428/539745c5-ec3e-4a63-a7c2-eb41af9a080e_cnmf-memmap_d1_170_d2_170_d3_1_order_C_frames_3000.mmap\n",
      "Decode mmap filename /home/kushalk/caiman_data/mesmerize-core-batch/09610b86-917a-41e7-a493-2d036bf44428/539745c5-ec3e-4a63-a7c2-eb41af9a080e_cnmf-memmap_d1_170_d2_170_d3_1_order_C_frames_3000.mmap\n",
      "Decode mmap filename /home/kushalk/caiman_data/mesmerize-core-batch/09610b86-917a-41e7-a493-2d036bf44428/539745c5-ec3e-4a63-a7c2-eb41af9a080e_cnmf-memmap_d1_170_d2_170_d3_1_order_C_frames_3000.mmap\n",
      "Decode mmap filename /home/kushalk/caiman_data/mesmerize-core-batch/09610b86-917a-41e7-a493-2d036bf44428/539745c5-ec3e-4a63-a7c2-eb41af9a080e_cnmf-memmap_d1_170_d2_170_d3_1_order_C_frames_3000.mmap\n",
      "Decode mmap filename /home/kushalk/caiman_data/mesmerize-core-batch/09610b86-917a-41e7-a493-2d036bf44428/539745c5-ec3e-4a63-a7c2-eb41af9a080e_cnmf-memmap_d1_170_d2_170_d3_1_order_C_frames_3000.mmap\n",
      "Decode mmap filename /home/kushalk/caiman_data/mesmerize-core-batch/09610b86-917a-41e7-a493-2d036bf44428/539745c5-ec3e-4a63-a7c2-eb41af9a080e_cnmf-memmap_d1_170_d2_170_d3_1_order_C_frames_3000.mmap\n",
      "Decode mmap filename /home/kushalk/caiman_data/mesmerize-core-batch/09610b86-917a-41e7-a493-2d036bf44428/539745c5-ec3e-4a63-a7c2-eb41af9a080e_cnmf-memmap_d1_170_d2_170_d3_1_order_C_frames_3000.mmap\n",
      "Decode mmap filename /home/kushalk/caiman_data/mesmerize-core-batch/09610b86-917a-41e7-a493-2d036bf44428/539745c5-ec3e-4a63-a7c2-eb41af9a080e_cnmf-memmap_d1_170_d2_170_d3_1_order_C_frames_3000.mmap\n",
      "Decode mmap filename /home/kushalk/caiman_data/mesmerize-core-batch/09610b86-917a-41e7-a493-2d036bf44428/539745c5-ec3e-4a63-a7c2-eb41af9a080e_cnmf-memmap_d1_170_d2_170_d3_1_order_C_frames_3000.mmap\n",
      "Decode mmap filename /home/kushalk/caiman_data/mesmerize-core-batch/09610b86-917a-41e7-a493-2d036bf44428/539745c5-ec3e-4a63-a7c2-eb41af9a080e_cnmf-memmap_d1_170_d2_170_d3_1_order_C_frames_3000.mmap\n",
      "Decode mmap filename /home/kushalk/caiman_data/mesmerize-core-batch/09610b86-917a-41e7-a493-2d036bf44428/539745c5-ec3e-4a63-a7c2-eb41af9a080e_cnmf-memmap_d1_170_d2_170_d3_1_order_C_frames_3000.mmap\n",
      "Decode mmap filename /home/kushalk/caiman_data/mesmerize-core-batch/09610b86-917a-41e7-a493-2d036bf44428/539745c5-ec3e-4a63-a7c2-eb41af9a080e_cnmf-memmap_d1_170_d2_170_d3_1_order_C_frames_3000.mmap\n",
      "Decode mmap filename /home/kushalk/caiman_data/mesmerize-core-batch/09610b86-917a-41e7-a493-2d036bf44428/539745c5-ec3e-4a63-a7c2-eb41af9a080e_cnmf-memmap_d1_170_d2_170_d3_1_order_C_frames_3000.mmap\n",
      "Decode mmap filename /home/kushalk/caiman_data/mesmerize-core-batch/09610b86-917a-41e7-a493-2d036bf44428/539745c5-ec3e-4a63-a7c2-eb41af9a080e_cnmf-memmap_d1_170_d2_170_d3_1_order_C_frames_3000.mmap\n",
      "Decode mmap filename /home/kushalk/caiman_data/mesmerize-core-batch/09610b86-917a-41e7-a493-2d036bf44428/539745c5-ec3e-4a63-a7c2-eb41af9a080e_cnmf-memmap_d1_170_d2_170_d3_1_order_C_frames_3000.mmap\n",
      "Decode mmap filename /home/kushalk/caiman_data/mesmerize-core-batch/09610b86-917a-41e7-a493-2d036bf44428/539745c5-ec3e-4a63-a7c2-eb41af9a080e_cnmf-memmap_d1_170_d2_170_d3_1_order_C_frames_3000.mmap\n",
      "Decode mmap filename /home/kushalk/caiman_data/mesmerize-core-batch/09610b86-917a-41e7-a493-2d036bf44428/539745c5-ec3e-4a63-a7c2-eb41af9a080e_cnmf-memmap_d1_170_d2_170_d3_1_order_C_frames_3000.mmap\n",
      "Decode mmap filename /home/kushalk/caiman_data/mesmerize-core-batch/09610b86-917a-41e7-a493-2d036bf44428/539745c5-ec3e-4a63-a7c2-eb41af9a080e_cnmf-memmap_d1_170_d2_170_d3_1_order_C_frames_3000.mmap\n",
      "Decode mmap filename /home/kushalk/caiman_data/mesmerize-core-batch/09610b86-917a-41e7-a493-2d036bf44428/539745c5-ec3e-4a63-a7c2-eb41af9a080e_cnmf-memmap_d1_170_d2_170_d3_1_order_C_frames_3000.mmap\n",
      "Decode mmap filename /home/kushalk/caiman_data/mesmerize-core-batch/09610b86-917a-41e7-a493-2d036bf44428/539745c5-ec3e-4a63-a7c2-eb41af9a080e_cnmf-memmap_d1_170_d2_170_d3_1_order_C_frames_3000.mmap\n",
      "Decode mmap filename /home/kushalk/caiman_data/mesmerize-core-batch/09610b86-917a-41e7-a493-2d036bf44428/539745c5-ec3e-4a63-a7c2-eb41af9a080e_cnmf-memmap_d1_170_d2_170_d3_1_order_C_frames_3000.mmap\n",
      "Decode mmap filename /home/kushalk/caiman_data/mesmerize-core-batch/09610b86-917a-41e7-a493-2d036bf44428/539745c5-ec3e-4a63-a7c2-eb41af9a080e_cnmf-memmap_d1_170_d2_170_d3_1_order_C_frames_3000.mmap\n",
      "Decode mmap filename /home/kushalk/caiman_data/mesmerize-core-batch/09610b86-917a-41e7-a493-2d036bf44428/539745c5-ec3e-4a63-a7c2-eb41af9a080e_cnmf-memmap_d1_170_d2_170_d3_1_order_C_frames_3000.mmap\n",
      "Decode mmap filename /home/kushalk/caiman_data/mesmerize-core-batch/09610b86-917a-41e7-a493-2d036bf44428/539745c5-ec3e-4a63-a7c2-eb41af9a080e_cnmf-memmap_d1_170_d2_170_d3_1_order_C_frames_3000.mmap\n",
      "Decode mmap filename /home/kushalk/caiman_data/mesmerize-core-batch/09610b86-917a-41e7-a493-2d036bf44428/539745c5-ec3e-4a63-a7c2-eb41af9a080e_cnmf-memmap_d1_170_d2_170_d3_1_order_C_frames_3000.mmap\n",
      "Decode mmap filename /home/kushalk/caiman_data/mesmerize-core-batch/09610b86-917a-41e7-a493-2d036bf44428/539745c5-ec3e-4a63-a7c2-eb41af9a080e_cnmf-memmap_d1_170_d2_170_d3_1_order_C_frames_3000.mmap\n",
      "Decode mmap filename /home/kushalk/caiman_data/mesmerize-core-batch/09610b86-917a-41e7-a493-2d036bf44428/539745c5-ec3e-4a63-a7c2-eb41af9a080e_cnmf-memmap_d1_170_d2_170_d3_1_order_C_frames_3000.mmap\n",
      "Decode mmap filename /home/kushalk/caiman_data/mesmerize-core-batch/09610b86-917a-41e7-a493-2d036bf44428/539745c5-ec3e-4a63-a7c2-eb41af9a080e_cnmf-memmap_d1_170_d2_170_d3_1_order_C_frames_3000.mmap\n",
      "Decode mmap filename /home/kushalk/caiman_data/mesmerize-core-batch/09610b86-917a-41e7-a493-2d036bf44428/539745c5-ec3e-4a63-a7c2-eb41af9a080e_cnmf-memmap_d1_170_d2_170_d3_1_order_C_frames_3000.mmap\n",
      "Decode mmap filename /home/kushalk/caiman_data/mesmerize-core-batch/09610b86-917a-41e7-a493-2d036bf44428/539745c5-ec3e-4a63-a7c2-eb41af9a080e_cnmf-memmap_d1_170_d2_170_d3_1_order_C_frames_3000.mmap\n",
      "Decode mmap filename /home/kushalk/caiman_data/mesmerize-core-batch/09610b86-917a-41e7-a493-2d036bf44428/539745c5-ec3e-4a63-a7c2-eb41af9a080e_cnmf-memmap_d1_170_d2_170_d3_1_order_C_frames_3000.mmap\n",
      "Decode mmap filename /home/kushalk/caiman_data/mesmerize-core-batch/09610b86-917a-41e7-a493-2d036bf44428/539745c5-ec3e-4a63-a7c2-eb41af9a080e_cnmf-memmap_d1_170_d2_170_d3_1_order_C_frames_3000.mmap\n",
      "Decode mmap filename /home/kushalk/caiman_data/mesmerize-core-batch/09610b86-917a-41e7-a493-2d036bf44428/539745c5-ec3e-4a63-a7c2-eb41af9a080e_cnmf-memmap_d1_170_d2_170_d3_1_order_C_frames_3000.mmap\n",
      "Decode mmap filename /home/kushalk/caiman_data/mesmerize-core-batch/09610b86-917a-41e7-a493-2d036bf44428/539745c5-ec3e-4a63-a7c2-eb41af9a080e_cnmf-memmap_d1_170_d2_170_d3_1_order_C_frames_3000.mmap\n",
      "Decode mmap filename /home/kushalk/caiman_data/mesmerize-core-batch/09610b86-917a-41e7-a493-2d036bf44428/539745c5-ec3e-4a63-a7c2-eb41af9a080e_cnmf-memmap_d1_170_d2_170_d3_1_order_C_frames_3000.mmap\n",
      "Decode mmap filename /home/kushalk/caiman_data/mesmerize-core-batch/09610b86-917a-41e7-a493-2d036bf44428/539745c5-ec3e-4a63-a7c2-eb41af9a080e_cnmf-memmap_d1_170_d2_170_d3_1_order_C_frames_3000.mmap\n",
      "Decode mmap filename /home/kushalk/caiman_data/mesmerize-core-batch/09610b86-917a-41e7-a493-2d036bf44428/539745c5-ec3e-4a63-a7c2-eb41af9a080e_cnmf-memmap_d1_170_d2_170_d3_1_order_C_frames_3000.mmap\n",
      "Decode mmap filename /home/kushalk/caiman_data/mesmerize-core-batch/09610b86-917a-41e7-a493-2d036bf44428/539745c5-ec3e-4a63-a7c2-eb41af9a080e_cnmf-memmap_d1_170_d2_170_d3_1_order_C_frames_3000.mmap\n",
      "Decode mmap filename /home/kushalk/caiman_data/mesmerize-core-batch/09610b86-917a-41e7-a493-2d036bf44428/539745c5-ec3e-4a63-a7c2-eb41af9a080e_cnmf-memmap_d1_170_d2_170_d3_1_order_C_frames_3000.mmap\n",
      "Decode mmap filename /home/kushalk/caiman_data/mesmerize-core-batch/09610b86-917a-41e7-a493-2d036bf44428/539745c5-ec3e-4a63-a7c2-eb41af9a080e_cnmf-memmap_d1_170_d2_170_d3_1_order_C_frames_3000.mmap\n",
      "Decode mmap filename /home/kushalk/caiman_data/mesmerize-core-batch/09610b86-917a-41e7-a493-2d036bf44428/539745c5-ec3e-4a63-a7c2-eb41af9a080e_cnmf-memmap_d1_170_d2_170_d3_1_order_C_frames_3000.mmap\n",
      "Decode mmap filename /home/kushalk/caiman_data/mesmerize-core-batch/09610b86-917a-41e7-a493-2d036bf44428/539745c5-ec3e-4a63-a7c2-eb41af9a080e_cnmf-memmap_d1_170_d2_170_d3_1_order_C_frames_3000.mmap\n",
      "Decode mmap filename /home/kushalk/caiman_data/mesmerize-core-batch/09610b86-917a-41e7-a493-2d036bf44428/539745c5-ec3e-4a63-a7c2-eb41af9a080e_cnmf-memmap_d1_170_d2_170_d3_1_order_C_frames_3000.mmap\n",
      "Decode mmap filename /home/kushalk/caiman_data/mesmerize-core-batch/09610b86-917a-41e7-a493-2d036bf44428/539745c5-ec3e-4a63-a7c2-eb41af9a080e_cnmf-memmap_d1_170_d2_170_d3_1_order_C_frames_3000.mmap\n",
      "Decode mmap filename /home/kushalk/caiman_data/mesmerize-core-batch/09610b86-917a-41e7-a493-2d036bf44428/539745c5-ec3e-4a63-a7c2-eb41af9a080e_cnmf-memmap_d1_170_d2_170_d3_1_order_C_frames_3000.mmap\n",
      "Decode mmap filename /home/kushalk/caiman_data/mesmerize-core-batch/09610b86-917a-41e7-a493-2d036bf44428/539745c5-ec3e-4a63-a7c2-eb41af9a080e_cnmf-memmap_d1_170_d2_170_d3_1_order_C_frames_3000.mmap\n",
      "Decode mmap filename /home/kushalk/caiman_data/mesmerize-core-batch/09610b86-917a-41e7-a493-2d036bf44428/539745c5-ec3e-4a63-a7c2-eb41af9a080e_cnmf-memmap_d1_170_d2_170_d3_1_order_C_frames_3000.mmap\n",
      "Decode mmap filename /home/kushalk/caiman_data/mesmerize-core-batch/09610b86-917a-41e7-a493-2d036bf44428/539745c5-ec3e-4a63-a7c2-eb41af9a080e_cnmf-memmap_d1_170_d2_170_d3_1_order_C_frames_3000.mmap\n",
      "Decode mmap filename /home/kushalk/caiman_data/mesmerize-core-batch/09610b86-917a-41e7-a493-2d036bf44428/539745c5-ec3e-4a63-a7c2-eb41af9a080e_cnmf-memmap_d1_170_d2_170_d3_1_order_C_frames_3000.mmap\n",
      "Decode mmap filename /home/kushalk/caiman_data/mesmerize-core-batch/09610b86-917a-41e7-a493-2d036bf44428/539745c5-ec3e-4a63-a7c2-eb41af9a080e_cnmf-memmap_d1_170_d2_170_d3_1_order_C_frames_3000.mmap\n",
      "Decode mmap filename /home/kushalk/caiman_data/mesmerize-core-batch/09610b86-917a-41e7-a493-2d036bf44428/539745c5-ec3e-4a63-a7c2-eb41af9a080e_cnmf-memmap_d1_170_d2_170_d3_1_order_C_frames_3000.mmap\n",
      "Decode mmap filename /home/kushalk/caiman_data/mesmerize-core-batch/09610b86-917a-41e7-a493-2d036bf44428/539745c5-ec3e-4a63-a7c2-eb41af9a080e_cnmf-memmap_d1_170_d2_170_d3_1_order_C_frames_3000.mmap\n",
      "Decode mmap filename /home/kushalk/caiman_data/mesmerize-core-batch/09610b86-917a-41e7-a493-2d036bf44428/539745c5-ec3e-4a63-a7c2-eb41af9a080e_cnmf-memmap_d1_170_d2_170_d3_1_order_C_frames_3000.mmap\n",
      "Decode mmap filename /home/kushalk/caiman_data/mesmerize-core-batch/09610b86-917a-41e7-a493-2d036bf44428/539745c5-ec3e-4a63-a7c2-eb41af9a080e_cnmf-memmap_d1_170_d2_170_d3_1_order_C_frames_3000.mmap\n",
      "Decode mmap filename /home/kushalk/caiman_data/mesmerize-core-batch/09610b86-917a-41e7-a493-2d036bf44428/539745c5-ec3e-4a63-a7c2-eb41af9a080e_cnmf-memmap_d1_170_d2_170_d3_1_order_C_frames_3000.mmap\n",
      "Decode mmap filename /home/kushalk/caiman_data/mesmerize-core-batch/09610b86-917a-41e7-a493-2d036bf44428/539745c5-ec3e-4a63-a7c2-eb41af9a080e_cnmf-memmap_d1_170_d2_170_d3_1_order_C_frames_3000.mmap\n",
      "Decode mmap filename /home/kushalk/caiman_data/mesmerize-core-batch/09610b86-917a-41e7-a493-2d036bf44428/539745c5-ec3e-4a63-a7c2-eb41af9a080e_cnmf-memmap_d1_170_d2_170_d3_1_order_C_frames_3000.mmap\n",
      "Decode mmap filename /home/kushalk/caiman_data/mesmerize-core-batch/09610b86-917a-41e7-a493-2d036bf44428/539745c5-ec3e-4a63-a7c2-eb41af9a080e_cnmf-memmap_d1_170_d2_170_d3_1_order_C_frames_3000.mmap\n",
      "Decode mmap filename /home/kushalk/caiman_data/mesmerize-core-batch/09610b86-917a-41e7-a493-2d036bf44428/539745c5-ec3e-4a63-a7c2-eb41af9a080e_cnmf-memmap_d1_170_d2_170_d3_1_order_C_frames_3000.mmap\n",
      "Decode mmap filename /home/kushalk/caiman_data/mesmerize-core-batch/09610b86-917a-41e7-a493-2d036bf44428/539745c5-ec3e-4a63-a7c2-eb41af9a080e_cnmf-memmap_d1_170_d2_170_d3_1_order_C_frames_3000.mmap\n",
      "Decode mmap filename /home/kushalk/caiman_data/mesmerize-core-batch/09610b86-917a-41e7-a493-2d036bf44428/539745c5-ec3e-4a63-a7c2-eb41af9a080e_cnmf-memmap_d1_170_d2_170_d3_1_order_C_frames_3000.mmap\n",
      "Decode mmap filename /home/kushalk/caiman_data/mesmerize-core-batch/09610b86-917a-41e7-a493-2d036bf44428/539745c5-ec3e-4a63-a7c2-eb41af9a080e_cnmf-memmap_d1_170_d2_170_d3_1_order_C_frames_3000.mmap\n",
      "Decode mmap filename /home/kushalk/caiman_data/mesmerize-core-batch/09610b86-917a-41e7-a493-2d036bf44428/539745c5-ec3e-4a63-a7c2-eb41af9a080e_cnmf-memmap_d1_170_d2_170_d3_1_order_C_frames_3000.mmap\n",
      "Decode mmap filename /home/kushalk/caiman_data/mesmerize-core-batch/09610b86-917a-41e7-a493-2d036bf44428/539745c5-ec3e-4a63-a7c2-eb41af9a080e_cnmf-memmap_d1_170_d2_170_d3_1_order_C_frames_3000.mmap\n",
      "Decode mmap filename /home/kushalk/caiman_data/mesmerize-core-batch/09610b86-917a-41e7-a493-2d036bf44428/539745c5-ec3e-4a63-a7c2-eb41af9a080e_cnmf-memmap_d1_170_d2_170_d3_1_order_C_frames_3000.mmap\n",
      "Decode mmap filename /home/kushalk/caiman_data/mesmerize-core-batch/09610b86-917a-41e7-a493-2d036bf44428/539745c5-ec3e-4a63-a7c2-eb41af9a080e_cnmf-memmap_d1_170_d2_170_d3_1_order_C_frames_3000.mmap\n",
      "Decode mmap filename /home/kushalk/caiman_data/mesmerize-core-batch/09610b86-917a-41e7-a493-2d036bf44428/539745c5-ec3e-4a63-a7c2-eb41af9a080e_cnmf-memmap_d1_170_d2_170_d3_1_order_C_frames_3000.mmap\n",
      "Decode mmap filename /home/kushalk/caiman_data/mesmerize-core-batch/09610b86-917a-41e7-a493-2d036bf44428/539745c5-ec3e-4a63-a7c2-eb41af9a080e_cnmf-memmap_d1_170_d2_170_d3_1_order_C_frames_3000.mmap\n",
      "Decode mmap filename /home/kushalk/caiman_data/mesmerize-core-batch/09610b86-917a-41e7-a493-2d036bf44428/539745c5-ec3e-4a63-a7c2-eb41af9a080e_cnmf-memmap_d1_170_d2_170_d3_1_order_C_frames_3000.mmap\n",
      "Decode mmap filename /home/kushalk/caiman_data/mesmerize-core-batch/09610b86-917a-41e7-a493-2d036bf44428/539745c5-ec3e-4a63-a7c2-eb41af9a080e_cnmf-memmap_d1_170_d2_170_d3_1_order_C_frames_3000.mmap\n",
      "Decode mmap filename /home/kushalk/caiman_data/mesmerize-core-batch/09610b86-917a-41e7-a493-2d036bf44428/539745c5-ec3e-4a63-a7c2-eb41af9a080e_cnmf-memmap_d1_170_d2_170_d3_1_order_C_frames_3000.mmap\n",
      "Decode mmap filename /home/kushalk/caiman_data/mesmerize-core-batch/09610b86-917a-41e7-a493-2d036bf44428/539745c5-ec3e-4a63-a7c2-eb41af9a080e_cnmf-memmap_d1_170_d2_170_d3_1_order_C_frames_3000.mmap\n",
      "Decode mmap filename /home/kushalk/caiman_data/mesmerize-core-batch/09610b86-917a-41e7-a493-2d036bf44428/539745c5-ec3e-4a63-a7c2-eb41af9a080e_cnmf-memmap_d1_170_d2_170_d3_1_order_C_frames_3000.mmap\n",
      "Decode mmap filename /home/kushalk/caiman_data/mesmerize-core-batch/09610b86-917a-41e7-a493-2d036bf44428/539745c5-ec3e-4a63-a7c2-eb41af9a080e_cnmf-memmap_d1_170_d2_170_d3_1_order_C_frames_3000.mmap\n",
      "Decode mmap filename /home/kushalk/caiman_data/mesmerize-core-batch/09610b86-917a-41e7-a493-2d036bf44428/539745c5-ec3e-4a63-a7c2-eb41af9a080e_cnmf-memmap_d1_170_d2_170_d3_1_order_C_frames_3000.mmap\n",
      "Decode mmap filename /home/kushalk/caiman_data/mesmerize-core-batch/09610b86-917a-41e7-a493-2d036bf44428/539745c5-ec3e-4a63-a7c2-eb41af9a080e_cnmf-memmap_d1_170_d2_170_d3_1_order_C_frames_3000.mmap\n",
      "Decode mmap filename /home/kushalk/caiman_data/mesmerize-core-batch/09610b86-917a-41e7-a493-2d036bf44428/539745c5-ec3e-4a63-a7c2-eb41af9a080e_cnmf-memmap_d1_170_d2_170_d3_1_order_C_frames_3000.mmap\n",
      "Decode mmap filename /home/kushalk/caiman_data/mesmerize-core-batch/09610b86-917a-41e7-a493-2d036bf44428/539745c5-ec3e-4a63-a7c2-eb41af9a080e_cnmf-memmap_d1_170_d2_170_d3_1_order_C_frames_3000.mmap\n",
      "Decode mmap filename /home/kushalk/caiman_data/mesmerize-core-batch/09610b86-917a-41e7-a493-2d036bf44428/539745c5-ec3e-4a63-a7c2-eb41af9a080e_cnmf-memmap_d1_170_d2_170_d3_1_order_C_frames_3000.mmap\n",
      "Decode mmap filename /home/kushalk/caiman_data/mesmerize-core-batch/09610b86-917a-41e7-a493-2d036bf44428/539745c5-ec3e-4a63-a7c2-eb41af9a080e_cnmf-memmap_d1_170_d2_170_d3_1_order_C_frames_3000.mmap\n",
      "Decode mmap filename /home/kushalk/caiman_data/mesmerize-core-batch/09610b86-917a-41e7-a493-2d036bf44428/539745c5-ec3e-4a63-a7c2-eb41af9a080e_cnmf-memmap_d1_170_d2_170_d3_1_order_C_frames_3000.mmap\n",
      "Decode mmap filename /home/kushalk/caiman_data/mesmerize-core-batch/09610b86-917a-41e7-a493-2d036bf44428/539745c5-ec3e-4a63-a7c2-eb41af9a080e_cnmf-memmap_d1_170_d2_170_d3_1_order_C_frames_3000.mmap\n",
      "Decode mmap filename /home/kushalk/caiman_data/mesmerize-core-batch/09610b86-917a-41e7-a493-2d036bf44428/539745c5-ec3e-4a63-a7c2-eb41af9a080e_cnmf-memmap_d1_170_d2_170_d3_1_order_C_frames_3000.mmap\n",
      "Decode mmap filename /home/kushalk/caiman_data/mesmerize-core-batch/09610b86-917a-41e7-a493-2d036bf44428/539745c5-ec3e-4a63-a7c2-eb41af9a080e_cnmf-memmap_d1_170_d2_170_d3_1_order_C_frames_3000.mmap\n",
      "Decode mmap filename /home/kushalk/caiman_data/mesmerize-core-batch/09610b86-917a-41e7-a493-2d036bf44428/539745c5-ec3e-4a63-a7c2-eb41af9a080e_cnmf-memmap_d1_170_d2_170_d3_1_order_C_frames_3000.mmap\n",
      "Decode mmap filename /home/kushalk/caiman_data/mesmerize-core-batch/09610b86-917a-41e7-a493-2d036bf44428/539745c5-ec3e-4a63-a7c2-eb41af9a080e_cnmf-memmap_d1_170_d2_170_d3_1_order_C_frames_3000.mmap\n",
      "Decode mmap filename /home/kushalk/caiman_data/mesmerize-core-batch/09610b86-917a-41e7-a493-2d036bf44428/539745c5-ec3e-4a63-a7c2-eb41af9a080e_cnmf-memmap_d1_170_d2_170_d3_1_order_C_frames_3000.mmap\n",
      "Decode mmap filename /home/kushalk/caiman_data/mesmerize-core-batch/09610b86-917a-41e7-a493-2d036bf44428/539745c5-ec3e-4a63-a7c2-eb41af9a080e_cnmf-memmap_d1_170_d2_170_d3_1_order_C_frames_3000.mmap\n",
      "Decode mmap filename /home/kushalk/caiman_data/mesmerize-core-batch/09610b86-917a-41e7-a493-2d036bf44428/539745c5-ec3e-4a63-a7c2-eb41af9a080e_cnmf-memmap_d1_170_d2_170_d3_1_order_C_frames_3000.mmap\n",
      "Decode mmap filename /home/kushalk/caiman_data/mesmerize-core-batch/09610b86-917a-41e7-a493-2d036bf44428/539745c5-ec3e-4a63-a7c2-eb41af9a080e_cnmf-memmap_d1_170_d2_170_d3_1_order_C_frames_3000.mmap\n",
      "Decode mmap filename /home/kushalk/caiman_data/mesmerize-core-batch/09610b86-917a-41e7-a493-2d036bf44428/539745c5-ec3e-4a63-a7c2-eb41af9a080e_cnmf-memmap_d1_170_d2_170_d3_1_order_C_frames_3000.mmap\n",
      "Decode mmap filename /home/kushalk/caiman_data/mesmerize-core-batch/09610b86-917a-41e7-a493-2d036bf44428/539745c5-ec3e-4a63-a7c2-eb41af9a080e_cnmf-memmap_d1_170_d2_170_d3_1_order_C_frames_3000.mmap\n",
      "Decode mmap filename /home/kushalk/caiman_data/mesmerize-core-batch/09610b86-917a-41e7-a493-2d036bf44428/539745c5-ec3e-4a63-a7c2-eb41af9a080e_cnmf-memmap_d1_170_d2_170_d3_1_order_C_frames_3000.mmap\n",
      "Decode mmap filename /home/kushalk/caiman_data/mesmerize-core-batch/09610b86-917a-41e7-a493-2d036bf44428/539745c5-ec3e-4a63-a7c2-eb41af9a080e_cnmf-memmap_d1_170_d2_170_d3_1_order_C_frames_3000.mmap\n",
      "Decode mmap filename /home/kushalk/caiman_data/mesmerize-core-batch/09610b86-917a-41e7-a493-2d036bf44428/539745c5-ec3e-4a63-a7c2-eb41af9a080e_cnmf-memmap_d1_170_d2_170_d3_1_order_C_frames_3000.mmap\n",
      "Decode mmap filename /home/kushalk/caiman_data/mesmerize-core-batch/09610b86-917a-41e7-a493-2d036bf44428/539745c5-ec3e-4a63-a7c2-eb41af9a080e_cnmf-memmap_d1_170_d2_170_d3_1_order_C_frames_3000.mmap\n",
      "Decode mmap filename /home/kushalk/caiman_data/mesmerize-core-batch/09610b86-917a-41e7-a493-2d036bf44428/539745c5-ec3e-4a63-a7c2-eb41af9a080e_cnmf-memmap_d1_170_d2_170_d3_1_order_C_frames_3000.mmap\n",
      "Decode mmap filename /home/kushalk/caiman_data/mesmerize-core-batch/09610b86-917a-41e7-a493-2d036bf44428/539745c5-ec3e-4a63-a7c2-eb41af9a080e_cnmf-memmap_d1_170_d2_170_d3_1_order_C_frames_3000.mmap\n",
      "Decode mmap filename /home/kushalk/caiman_data/mesmerize-core-batch/09610b86-917a-41e7-a493-2d036bf44428/539745c5-ec3e-4a63-a7c2-eb41af9a080e_cnmf-memmap_d1_170_d2_170_d3_1_order_C_frames_3000.mmap\n",
      "Decode mmap filename /home/kushalk/caiman_data/mesmerize-core-batch/09610b86-917a-41e7-a493-2d036bf44428/539745c5-ec3e-4a63-a7c2-eb41af9a080e_cnmf-memmap_d1_170_d2_170_d3_1_order_C_frames_3000.mmap\n",
      "Decode mmap filename /home/kushalk/caiman_data/mesmerize-core-batch/09610b86-917a-41e7-a493-2d036bf44428/539745c5-ec3e-4a63-a7c2-eb41af9a080e_cnmf-memmap_d1_170_d2_170_d3_1_order_C_frames_3000.mmap\n",
      "Decode mmap filename /home/kushalk/caiman_data/mesmerize-core-batch/09610b86-917a-41e7-a493-2d036bf44428/539745c5-ec3e-4a63-a7c2-eb41af9a080e_cnmf-memmap_d1_170_d2_170_d3_1_order_C_frames_3000.mmap\n",
      "Decode mmap filename /home/kushalk/caiman_data/mesmerize-core-batch/09610b86-917a-41e7-a493-2d036bf44428/539745c5-ec3e-4a63-a7c2-eb41af9a080e_cnmf-memmap_d1_170_d2_170_d3_1_order_C_frames_3000.mmap\n",
      "Decode mmap filename /home/kushalk/caiman_data/mesmerize-core-batch/09610b86-917a-41e7-a493-2d036bf44428/539745c5-ec3e-4a63-a7c2-eb41af9a080e_cnmf-memmap_d1_170_d2_170_d3_1_order_C_frames_3000.mmap\n",
      "Decode mmap filename /home/kushalk/caiman_data/mesmerize-core-batch/09610b86-917a-41e7-a493-2d036bf44428/539745c5-ec3e-4a63-a7c2-eb41af9a080e_cnmf-memmap_d1_170_d2_170_d3_1_order_C_frames_3000.mmap\n",
      "Decode mmap filename /home/kushalk/caiman_data/mesmerize-core-batch/09610b86-917a-41e7-a493-2d036bf44428/539745c5-ec3e-4a63-a7c2-eb41af9a080e_cnmf-memmap_d1_170_d2_170_d3_1_order_C_frames_3000.mmap\n",
      "Decode mmap filename /home/kushalk/caiman_data/mesmerize-core-batch/09610b86-917a-41e7-a493-2d036bf44428/539745c5-ec3e-4a63-a7c2-eb41af9a080e_cnmf-memmap_d1_170_d2_170_d3_1_order_C_frames_3000.mmap\n",
      "Decode mmap filename /home/kushalk/caiman_data/mesmerize-core-batch/09610b86-917a-41e7-a493-2d036bf44428/539745c5-ec3e-4a63-a7c2-eb41af9a080e_cnmf-memmap_d1_170_d2_170_d3_1_order_C_frames_3000.mmap\n",
      "Decode mmap filename /home/kushalk/caiman_data/mesmerize-core-batch/09610b86-917a-41e7-a493-2d036bf44428/539745c5-ec3e-4a63-a7c2-eb41af9a080e_cnmf-memmap_d1_170_d2_170_d3_1_order_C_frames_3000.mmap\n",
      "Decode mmap filename /home/kushalk/caiman_data/mesmerize-core-batch/09610b86-917a-41e7-a493-2d036bf44428/539745c5-ec3e-4a63-a7c2-eb41af9a080e_cnmf-memmap_d1_170_d2_170_d3_1_order_C_frames_3000.mmap\n",
      "Decode mmap filename /home/kushalk/caiman_data/mesmerize-core-batch/09610b86-917a-41e7-a493-2d036bf44428/539745c5-ec3e-4a63-a7c2-eb41af9a080e_cnmf-memmap_d1_170_d2_170_d3_1_order_C_frames_3000.mmap\n",
      "Decode mmap filename /home/kushalk/caiman_data/mesmerize-core-batch/09610b86-917a-41e7-a493-2d036bf44428/539745c5-ec3e-4a63-a7c2-eb41af9a080e_cnmf-memmap_d1_170_d2_170_d3_1_order_C_frames_3000.mmap\n",
      "Decode mmap filename /home/kushalk/caiman_data/mesmerize-core-batch/09610b86-917a-41e7-a493-2d036bf44428/539745c5-ec3e-4a63-a7c2-eb41af9a080e_cnmf-memmap_d1_170_d2_170_d3_1_order_C_frames_3000.mmap\n",
      "Decode mmap filename /home/kushalk/caiman_data/mesmerize-core-batch/09610b86-917a-41e7-a493-2d036bf44428/539745c5-ec3e-4a63-a7c2-eb41af9a080e_cnmf-memmap_d1_170_d2_170_d3_1_order_C_frames_3000.mmap\n",
      "Decode mmap filename /home/kushalk/caiman_data/mesmerize-core-batch/09610b86-917a-41e7-a493-2d036bf44428/539745c5-ec3e-4a63-a7c2-eb41af9a080e_cnmf-memmap_d1_170_d2_170_d3_1_order_C_frames_3000.mmap\n",
      "Decode mmap filename /home/kushalk/caiman_data/mesmerize-core-batch/09610b86-917a-41e7-a493-2d036bf44428/539745c5-ec3e-4a63-a7c2-eb41af9a080e_cnmf-memmap_d1_170_d2_170_d3_1_order_C_frames_3000.mmap\n",
      "Decode mmap filename /home/kushalk/caiman_data/mesmerize-core-batch/09610b86-917a-41e7-a493-2d036bf44428/539745c5-ec3e-4a63-a7c2-eb41af9a080e_cnmf-memmap_d1_170_d2_170_d3_1_order_C_frames_3000.mmap\n",
      "Decode mmap filename /home/kushalk/caiman_data/mesmerize-core-batch/09610b86-917a-41e7-a493-2d036bf44428/539745c5-ec3e-4a63-a7c2-eb41af9a080e_cnmf-memmap_d1_170_d2_170_d3_1_order_C_frames_3000.mmap\n",
      "Decode mmap filename /home/kushalk/caiman_data/mesmerize-core-batch/09610b86-917a-41e7-a493-2d036bf44428/539745c5-ec3e-4a63-a7c2-eb41af9a080e_cnmf-memmap_d1_170_d2_170_d3_1_order_C_frames_3000.mmap\n",
      "Decode mmap filename /home/kushalk/caiman_data/mesmerize-core-batch/09610b86-917a-41e7-a493-2d036bf44428/539745c5-ec3e-4a63-a7c2-eb41af9a080e_cnmf-memmap_d1_170_d2_170_d3_1_order_C_frames_3000.mmap\n",
      "Decode mmap filename /home/kushalk/caiman_data/mesmerize-core-batch/09610b86-917a-41e7-a493-2d036bf44428/539745c5-ec3e-4a63-a7c2-eb41af9a080e_cnmf-memmap_d1_170_d2_170_d3_1_order_C_frames_3000.mmap\n",
      "Decode mmap filename /home/kushalk/caiman_data/mesmerize-core-batch/09610b86-917a-41e7-a493-2d036bf44428/539745c5-ec3e-4a63-a7c2-eb41af9a080e_cnmf-memmap_d1_170_d2_170_d3_1_order_C_frames_3000.mmap\n",
      "Decode mmap filename /home/kushalk/caiman_data/mesmerize-core-batch/09610b86-917a-41e7-a493-2d036bf44428/539745c5-ec3e-4a63-a7c2-eb41af9a080e_cnmf-memmap_d1_170_d2_170_d3_1_order_C_frames_3000.mmap\n",
      "Decode mmap filename /home/kushalk/caiman_data/mesmerize-core-batch/09610b86-917a-41e7-a493-2d036bf44428/539745c5-ec3e-4a63-a7c2-eb41af9a080e_cnmf-memmap_d1_170_d2_170_d3_1_order_C_frames_3000.mmap\n",
      "Decode mmap filename /home/kushalk/caiman_data/mesmerize-core-batch/09610b86-917a-41e7-a493-2d036bf44428/539745c5-ec3e-4a63-a7c2-eb41af9a080e_cnmf-memmap_d1_170_d2_170_d3_1_order_C_frames_3000.mmap\n",
      "Decode mmap filename /home/kushalk/caiman_data/mesmerize-core-batch/09610b86-917a-41e7-a493-2d036bf44428/539745c5-ec3e-4a63-a7c2-eb41af9a080e_cnmf-memmap_d1_170_d2_170_d3_1_order_C_frames_3000.mmap\n",
      "Decode mmap filename /home/kushalk/caiman_data/mesmerize-core-batch/09610b86-917a-41e7-a493-2d036bf44428/539745c5-ec3e-4a63-a7c2-eb41af9a080e_cnmf-memmap_d1_170_d2_170_d3_1_order_C_frames_3000.mmap\n",
      "Decode mmap filename /home/kushalk/caiman_data/mesmerize-core-batch/09610b86-917a-41e7-a493-2d036bf44428/539745c5-ec3e-4a63-a7c2-eb41af9a080e_cnmf-memmap_d1_170_d2_170_d3_1_order_C_frames_3000.mmap\n",
      "Decode mmap filename /home/kushalk/caiman_data/mesmerize-core-batch/09610b86-917a-41e7-a493-2d036bf44428/539745c5-ec3e-4a63-a7c2-eb41af9a080e_cnmf-memmap_d1_170_d2_170_d3_1_order_C_frames_3000.mmap\n",
      "Decode mmap filename /home/kushalk/caiman_data/mesmerize-core-batch/09610b86-917a-41e7-a493-2d036bf44428/539745c5-ec3e-4a63-a7c2-eb41af9a080e_cnmf-memmap_d1_170_d2_170_d3_1_order_C_frames_3000.mmap\n",
      "Decode mmap filename /home/kushalk/caiman_data/mesmerize-core-batch/09610b86-917a-41e7-a493-2d036bf44428/539745c5-ec3e-4a63-a7c2-eb41af9a080e_cnmf-memmap_d1_170_d2_170_d3_1_order_C_frames_3000.mmap\n",
      "Decode mmap filename /home/kushalk/caiman_data/mesmerize-core-batch/09610b86-917a-41e7-a493-2d036bf44428/539745c5-ec3e-4a63-a7c2-eb41af9a080e_cnmf-memmap_d1_170_d2_170_d3_1_order_C_frames_3000.mmap\n",
      "Decode mmap filename /home/kushalk/caiman_data/mesmerize-core-batch/09610b86-917a-41e7-a493-2d036bf44428/539745c5-ec3e-4a63-a7c2-eb41af9a080e_cnmf-memmap_d1_170_d2_170_d3_1_order_C_frames_3000.mmap\n",
      "Decode mmap filename /home/kushalk/caiman_data/mesmerize-core-batch/09610b86-917a-41e7-a493-2d036bf44428/539745c5-ec3e-4a63-a7c2-eb41af9a080e_cnmf-memmap_d1_170_d2_170_d3_1_order_C_frames_3000.mmap\n"
     ]
    },
    {
     "name": "stderr",
     "output_type": "stream",
     "text": [
      "2023-01-08 01:33:20.979488: I tensorflow/core/platform/cpu_feature_guard.cc:193] This TensorFlow binary is optimized with oneAPI Deep Neural Network Library (oneDNN) to use the following CPU instructions in performance-critical operations:  AVX2 FMA\n",
      "To enable them in other operations, rebuild TensorFlow with the appropriate compiler flags.\n",
      "2023-01-08 01:33:21.061581: E tensorflow/stream_executor/cuda/cuda_blas.cc:2981] Unable to register cuBLAS factory: Attempting to register factory for plugin cuBLAS when one has already been registered\n",
      "2023-01-08 01:33:21.426480: W tensorflow/stream_executor/platform/default/dso_loader.cc:64] Could not load dynamic library 'libnvinfer.so.7'; dlerror: libnvinfer.so.7: cannot open shared object file: No such file or directory; LD_LIBRARY_PATH: /home/kushalk/python-venvs/mescore/lib/python3.10/site-packages/cv2/../../lib64:/home/kushalk/python-venvs/mescore/lib/python3.10/site-packages/cv2/../../lib64:/usr/local/cuda-11.2/lib64:/usr/local/cuda-11.2/lib64\n",
      "2023-01-08 01:33:21.426526: W tensorflow/stream_executor/platform/default/dso_loader.cc:64] Could not load dynamic library 'libnvinfer_plugin.so.7'; dlerror: libnvinfer_plugin.so.7: cannot open shared object file: No such file or directory; LD_LIBRARY_PATH: /home/kushalk/python-venvs/mescore/lib/python3.10/site-packages/cv2/../../lib64:/home/kushalk/python-venvs/mescore/lib/python3.10/site-packages/cv2/../../lib64:/usr/local/cuda-11.2/lib64:/usr/local/cuda-11.2/lib64\n",
      "2023-01-08 01:33:21.426530: W tensorflow/compiler/tf2tensorrt/utils/py_utils.cc:38] TF-TRT Warning: Cannot dlopen some TensorRT libraries. If you would like to use Nvidia GPU with TensorRT, please make sure the missing libraries mentioned above are installed properly.\n"
     ]
    },
    {
     "name": "stdout",
     "output_type": "stream",
     "text": [
      "************************************************************************\n",
      "\n",
      "Starting CNMF item:\n",
      "algo                                                             cnmf\n",
      "item_name                                          Sue_2x_3000_40_-46\n",
      "input_movie_path    09610b86-917a-41e7-a493-2d036bf44428/09610b86-...\n",
      "params              {'main': {'fr': 30, 'p': 1, 'nb': 2, 'merge_th...\n",
      "outputs                                                          None\n",
      "comments                                                         None\n",
      "uuid                             da760704-f760-4f34-b26a-06eb5cc3cfec\n",
      "Name: 8, dtype: object\n",
      "With params:{'main': {'fr': 30, 'p': 1, 'nb': 2, 'merge_thr': 0.8, 'rf': 15, 'stride': 6, 'K': 8, 'gSig': (8, 8), 'ssub': 1, 'tsub': 1, 'method_init': 'greedy_roi', 'min_SNR': 2.0, 'rval_thr': 0.7, 'use_cnn': True, 'min_cnn_thr': 0.8, 'cnn_lowest': 0.1, 'decay_time': 0.4}, 'refit': True}\n"
     ]
    },
    {
     "name": "stderr",
     "output_type": "stream",
     "text": [
      "WARNING:root:Changing rf from 15 to 34 because the constraint rf > gSiz was not satisfied.\n"
     ]
    },
    {
     "name": "stdout",
     "output_type": "stream",
     "text": [
      "Decode mmap filename /home/kushalk/caiman_data/mesmerize-core-batch/09610b86-917a-41e7-a493-2d036bf44428/09610b86-917a-41e7-a493-2d036bf44428-Sue_2x_3000_40_-46_els__d1_170_d2_170_d3_1_order_F_frames_3000.mmap\n",
      "making memmap\n",
      "Decode mmap filename /home/kushalk/caiman_data/mesmerize-core-batch/09610b86-917a-41e7-a493-2d036bf44428/da760704-f760-4f34-b26a-06eb5cc3cfec_cnmf-memmap_d1_170_d2_170_d3_1_order_C_frames_3000.mmap\n"
     ]
    },
    {
     "name": "stderr",
     "output_type": "stream",
     "text": [
      "WARNING:root:Component 5 is only active jointly with neighboring components. Space correlation calculation might be unreliable.\n",
      "WARNING:root:Component 7 is only active jointly with neighboring components. Space correlation calculation might be unreliable.\n",
      "WARNING:root:Component 20 is only active jointly with neighboring components. Space correlation calculation might be unreliable.\n",
      "WARNING:root:Component 12 is only active jointly with neighboring components. Space correlation calculation might be unreliable.\n",
      "WARNING:root:Component 17 is only active jointly with neighboring components. Space correlation calculation might be unreliable.\n",
      "WARNING:root:Component 20 is only active jointly with neighboring components. Space correlation calculation might be unreliable.\n",
      "WARNING:root:Component 20 is only active jointly with neighboring components. Space correlation calculation might be unreliable.\n",
      "WARNING:root:Component 33 is only active jointly with neighboring components. Space correlation calculation might be unreliable.\n",
      "WARNING:root:Component 38 is only active jointly with neighboring components. Space correlation calculation might be unreliable.\n",
      "WARNING:root:Component 37 is only active jointly with neighboring components. Space correlation calculation might be unreliable.\n",
      "2023-01-08 01:33:39.939145: E tensorflow/stream_executor/cuda/cuda_driver.cc:265] failed call to cuInit: CUDA_ERROR_NO_DEVICE: no CUDA-capable device is detected\n",
      "2023-01-08 01:33:39.939174: I tensorflow/stream_executor/cuda/cuda_diagnostics.cc:169] retrieving CUDA diagnostic information for host: hantman-calcium\n",
      "2023-01-08 01:33:39.939179: I tensorflow/stream_executor/cuda/cuda_diagnostics.cc:176] hostname: hantman-calcium\n",
      "2023-01-08 01:33:39.939313: I tensorflow/stream_executor/cuda/cuda_diagnostics.cc:200] libcuda reported version is: 470.161.3\n",
      "2023-01-08 01:33:39.939331: I tensorflow/stream_executor/cuda/cuda_diagnostics.cc:204] kernel reported version is: 470.161.3\n",
      "2023-01-08 01:33:39.939337: I tensorflow/stream_executor/cuda/cuda_diagnostics.cc:310] kernel version seems to match DSO: 470.161.3\n",
      "2023-01-08 01:33:39.939553: I tensorflow/core/platform/cpu_feature_guard.cc:193] This TensorFlow binary is optimized with oneAPI Deep Neural Network Library (oneDNN) to use the following CPU instructions in performance-critical operations:  AVX2 FMA\n",
      "To enable them in other operations, rebuild TensorFlow with the appropriate compiler flags.\n"
     ]
    },
    {
     "name": "stdout",
     "output_type": "stream",
     "text": [
      "performing CNMF\n",
      "fitting images\n",
      "refitting\n",
      "performing eval\n",
      "GPU run not requested, disabling use of GPUs\n",
      "USING MODEL (keras API): /home/kushalk/caiman_data/model/cnn_model.json\n",
      "12/12 [==============================] - 0s 10ms/step\n",
      "Decode mmap filename /home/kushalk/caiman_data/mesmerize-core-batch/09610b86-917a-41e7-a493-2d036bf44428/da760704-f760-4f34-b26a-06eb5cc3cfec_cnmf-memmap_d1_170_d2_170_d3_1_order_C_frames_3000.mmap\n",
      "Decode mmap filename /home/kushalk/caiman_data/mesmerize-core-batch/09610b86-917a-41e7-a493-2d036bf44428/da760704-f760-4f34-b26a-06eb5cc3cfec_cnmf-memmap_d1_170_d2_170_d3_1_order_C_frames_3000.mmap\n",
      "Decode mmap filename /home/kushalk/caiman_data/mesmerize-core-batch/09610b86-917a-41e7-a493-2d036bf44428/da760704-f760-4f34-b26a-06eb5cc3cfec_cnmf-memmap_d1_170_d2_170_d3_1_order_C_frames_3000.mmap\n",
      "Decode mmap filename /home/kushalk/caiman_data/mesmerize-core-batch/09610b86-917a-41e7-a493-2d036bf44428/da760704-f760-4f34-b26a-06eb5cc3cfec_cnmf-memmap_d1_170_d2_170_d3_1_order_C_frames_3000.mmap\n",
      "Decode mmap filename /home/kushalk/caiman_data/mesmerize-core-batch/09610b86-917a-41e7-a493-2d036bf44428/da760704-f760-4f34-b26a-06eb5cc3cfec_cnmf-memmap_d1_170_d2_170_d3_1_order_C_frames_3000.mmap\n",
      "Decode mmap filename /home/kushalk/caiman_data/mesmerize-core-batch/09610b86-917a-41e7-a493-2d036bf44428/da760704-f760-4f34-b26a-06eb5cc3cfec_cnmf-memmap_d1_170_d2_170_d3_1_order_C_frames_3000.mmap\n",
      "Decode mmap filename /home/kushalk/caiman_data/mesmerize-core-batch/09610b86-917a-41e7-a493-2d036bf44428/da760704-f760-4f34-b26a-06eb5cc3cfec_cnmf-memmap_d1_170_d2_170_d3_1_order_C_frames_3000.mmap\n",
      "Decode mmap filename /home/kushalk/caiman_data/mesmerize-core-batch/09610b86-917a-41e7-a493-2d036bf44428/da760704-f760-4f34-b26a-06eb5cc3cfec_cnmf-memmap_d1_170_d2_170_d3_1_order_C_frames_3000.mmap\n",
      "Decode mmap filename /home/kushalk/caiman_data/mesmerize-core-batch/09610b86-917a-41e7-a493-2d036bf44428/da760704-f760-4f34-b26a-06eb5cc3cfec_cnmf-memmap_d1_170_d2_170_d3_1_order_C_frames_3000.mmap\n",
      "Decode mmap filename /home/kushalk/caiman_data/mesmerize-core-batch/09610b86-917a-41e7-a493-2d036bf44428/da760704-f760-4f34-b26a-06eb5cc3cfec_cnmf-memmap_d1_170_d2_170_d3_1_order_C_frames_3000.mmap\n",
      "Decode mmap filename /home/kushalk/caiman_data/mesmerize-core-batch/09610b86-917a-41e7-a493-2d036bf44428/da760704-f760-4f34-b26a-06eb5cc3cfec_cnmf-memmap_d1_170_d2_170_d3_1_order_C_frames_3000.mmap\n",
      "Decode mmap filename /home/kushalk/caiman_data/mesmerize-core-batch/09610b86-917a-41e7-a493-2d036bf44428/da760704-f760-4f34-b26a-06eb5cc3cfec_cnmf-memmap_d1_170_d2_170_d3_1_order_C_frames_3000.mmap\n",
      "Decode mmap filename /home/kushalk/caiman_data/mesmerize-core-batch/09610b86-917a-41e7-a493-2d036bf44428/da760704-f760-4f34-b26a-06eb5cc3cfec_cnmf-memmap_d1_170_d2_170_d3_1_order_C_frames_3000.mmap\n",
      "Decode mmap filename /home/kushalk/caiman_data/mesmerize-core-batch/09610b86-917a-41e7-a493-2d036bf44428/da760704-f760-4f34-b26a-06eb5cc3cfec_cnmf-memmap_d1_170_d2_170_d3_1_order_C_frames_3000.mmap\n",
      "Decode mmap filename /home/kushalk/caiman_data/mesmerize-core-batch/09610b86-917a-41e7-a493-2d036bf44428/da760704-f760-4f34-b26a-06eb5cc3cfec_cnmf-memmap_d1_170_d2_170_d3_1_order_C_frames_3000.mmap\n",
      "Decode mmap filename /home/kushalk/caiman_data/mesmerize-core-batch/09610b86-917a-41e7-a493-2d036bf44428/da760704-f760-4f34-b26a-06eb5cc3cfec_cnmf-memmap_d1_170_d2_170_d3_1_order_C_frames_3000.mmap\n",
      "Decode mmap filename /home/kushalk/caiman_data/mesmerize-core-batch/09610b86-917a-41e7-a493-2d036bf44428/da760704-f760-4f34-b26a-06eb5cc3cfec_cnmf-memmap_d1_170_d2_170_d3_1_order_C_frames_3000.mmap\n",
      "Decode mmap filename /home/kushalk/caiman_data/mesmerize-core-batch/09610b86-917a-41e7-a493-2d036bf44428/da760704-f760-4f34-b26a-06eb5cc3cfec_cnmf-memmap_d1_170_d2_170_d3_1_order_C_frames_3000.mmap\n",
      "Decode mmap filename /home/kushalk/caiman_data/mesmerize-core-batch/09610b86-917a-41e7-a493-2d036bf44428/da760704-f760-4f34-b26a-06eb5cc3cfec_cnmf-memmap_d1_170_d2_170_d3_1_order_C_frames_3000.mmap\n",
      "Decode mmap filename /home/kushalk/caiman_data/mesmerize-core-batch/09610b86-917a-41e7-a493-2d036bf44428/da760704-f760-4f34-b26a-06eb5cc3cfec_cnmf-memmap_d1_170_d2_170_d3_1_order_C_frames_3000.mmap\n",
      "Decode mmap filename /home/kushalk/caiman_data/mesmerize-core-batch/09610b86-917a-41e7-a493-2d036bf44428/da760704-f760-4f34-b26a-06eb5cc3cfec_cnmf-memmap_d1_170_d2_170_d3_1_order_C_frames_3000.mmap\n",
      "Decode mmap filename /home/kushalk/caiman_data/mesmerize-core-batch/09610b86-917a-41e7-a493-2d036bf44428/da760704-f760-4f34-b26a-06eb5cc3cfec_cnmf-memmap_d1_170_d2_170_d3_1_order_C_frames_3000.mmap\n",
      "Decode mmap filename /home/kushalk/caiman_data/mesmerize-core-batch/09610b86-917a-41e7-a493-2d036bf44428/da760704-f760-4f34-b26a-06eb5cc3cfec_cnmf-memmap_d1_170_d2_170_d3_1_order_C_frames_3000.mmap\n",
      "Decode mmap filename /home/kushalk/caiman_data/mesmerize-core-batch/09610b86-917a-41e7-a493-2d036bf44428/da760704-f760-4f34-b26a-06eb5cc3cfec_cnmf-memmap_d1_170_d2_170_d3_1_order_C_frames_3000.mmap\n",
      "Decode mmap filename /home/kushalk/caiman_data/mesmerize-core-batch/09610b86-917a-41e7-a493-2d036bf44428/da760704-f760-4f34-b26a-06eb5cc3cfec_cnmf-memmap_d1_170_d2_170_d3_1_order_C_frames_3000.mmap\n",
      "Decode mmap filename /home/kushalk/caiman_data/mesmerize-core-batch/09610b86-917a-41e7-a493-2d036bf44428/da760704-f760-4f34-b26a-06eb5cc3cfec_cnmf-memmap_d1_170_d2_170_d3_1_order_C_frames_3000.mmap\n",
      "Decode mmap filename /home/kushalk/caiman_data/mesmerize-core-batch/09610b86-917a-41e7-a493-2d036bf44428/da760704-f760-4f34-b26a-06eb5cc3cfec_cnmf-memmap_d1_170_d2_170_d3_1_order_C_frames_3000.mmap\n",
      "Decode mmap filename /home/kushalk/caiman_data/mesmerize-core-batch/09610b86-917a-41e7-a493-2d036bf44428/da760704-f760-4f34-b26a-06eb5cc3cfec_cnmf-memmap_d1_170_d2_170_d3_1_order_C_frames_3000.mmap\n",
      "Decode mmap filename /home/kushalk/caiman_data/mesmerize-core-batch/09610b86-917a-41e7-a493-2d036bf44428/da760704-f760-4f34-b26a-06eb5cc3cfec_cnmf-memmap_d1_170_d2_170_d3_1_order_C_frames_3000.mmap\n",
      "Decode mmap filename /home/kushalk/caiman_data/mesmerize-core-batch/09610b86-917a-41e7-a493-2d036bf44428/da760704-f760-4f34-b26a-06eb5cc3cfec_cnmf-memmap_d1_170_d2_170_d3_1_order_C_frames_3000.mmap\n",
      "Decode mmap filename /home/kushalk/caiman_data/mesmerize-core-batch/09610b86-917a-41e7-a493-2d036bf44428/da760704-f760-4f34-b26a-06eb5cc3cfec_cnmf-memmap_d1_170_d2_170_d3_1_order_C_frames_3000.mmap\n",
      "Decode mmap filename /home/kushalk/caiman_data/mesmerize-core-batch/09610b86-917a-41e7-a493-2d036bf44428/da760704-f760-4f34-b26a-06eb5cc3cfec_cnmf-memmap_d1_170_d2_170_d3_1_order_C_frames_3000.mmap\n",
      "Decode mmap filename /home/kushalk/caiman_data/mesmerize-core-batch/09610b86-917a-41e7-a493-2d036bf44428/da760704-f760-4f34-b26a-06eb5cc3cfec_cnmf-memmap_d1_170_d2_170_d3_1_order_C_frames_3000.mmap\n",
      "Decode mmap filename /home/kushalk/caiman_data/mesmerize-core-batch/09610b86-917a-41e7-a493-2d036bf44428/da760704-f760-4f34-b26a-06eb5cc3cfec_cnmf-memmap_d1_170_d2_170_d3_1_order_C_frames_3000.mmap\n",
      "Decode mmap filename /home/kushalk/caiman_data/mesmerize-core-batch/09610b86-917a-41e7-a493-2d036bf44428/da760704-f760-4f34-b26a-06eb5cc3cfec_cnmf-memmap_d1_170_d2_170_d3_1_order_C_frames_3000.mmap\n",
      "Decode mmap filename /home/kushalk/caiman_data/mesmerize-core-batch/09610b86-917a-41e7-a493-2d036bf44428/da760704-f760-4f34-b26a-06eb5cc3cfec_cnmf-memmap_d1_170_d2_170_d3_1_order_C_frames_3000.mmap\n",
      "Decode mmap filename /home/kushalk/caiman_data/mesmerize-core-batch/09610b86-917a-41e7-a493-2d036bf44428/da760704-f760-4f34-b26a-06eb5cc3cfec_cnmf-memmap_d1_170_d2_170_d3_1_order_C_frames_3000.mmap\n",
      "Decode mmap filename /home/kushalk/caiman_data/mesmerize-core-batch/09610b86-917a-41e7-a493-2d036bf44428/da760704-f760-4f34-b26a-06eb5cc3cfec_cnmf-memmap_d1_170_d2_170_d3_1_order_C_frames_3000.mmap\n",
      "Decode mmap filename /home/kushalk/caiman_data/mesmerize-core-batch/09610b86-917a-41e7-a493-2d036bf44428/da760704-f760-4f34-b26a-06eb5cc3cfec_cnmf-memmap_d1_170_d2_170_d3_1_order_C_frames_3000.mmap\n",
      "Decode mmap filename /home/kushalk/caiman_data/mesmerize-core-batch/09610b86-917a-41e7-a493-2d036bf44428/da760704-f760-4f34-b26a-06eb5cc3cfec_cnmf-memmap_d1_170_d2_170_d3_1_order_C_frames_3000.mmap\n",
      "Decode mmap filename /home/kushalk/caiman_data/mesmerize-core-batch/09610b86-917a-41e7-a493-2d036bf44428/da760704-f760-4f34-b26a-06eb5cc3cfec_cnmf-memmap_d1_170_d2_170_d3_1_order_C_frames_3000.mmap\n",
      "Decode mmap filename /home/kushalk/caiman_data/mesmerize-core-batch/09610b86-917a-41e7-a493-2d036bf44428/da760704-f760-4f34-b26a-06eb5cc3cfec_cnmf-memmap_d1_170_d2_170_d3_1_order_C_frames_3000.mmap\n",
      "Decode mmap filename /home/kushalk/caiman_data/mesmerize-core-batch/09610b86-917a-41e7-a493-2d036bf44428/da760704-f760-4f34-b26a-06eb5cc3cfec_cnmf-memmap_d1_170_d2_170_d3_1_order_C_frames_3000.mmap\n",
      "Decode mmap filename /home/kushalk/caiman_data/mesmerize-core-batch/09610b86-917a-41e7-a493-2d036bf44428/da760704-f760-4f34-b26a-06eb5cc3cfec_cnmf-memmap_d1_170_d2_170_d3_1_order_C_frames_3000.mmap\n",
      "Decode mmap filename /home/kushalk/caiman_data/mesmerize-core-batch/09610b86-917a-41e7-a493-2d036bf44428/da760704-f760-4f34-b26a-06eb5cc3cfec_cnmf-memmap_d1_170_d2_170_d3_1_order_C_frames_3000.mmap\n",
      "Decode mmap filename /home/kushalk/caiman_data/mesmerize-core-batch/09610b86-917a-41e7-a493-2d036bf44428/da760704-f760-4f34-b26a-06eb5cc3cfec_cnmf-memmap_d1_170_d2_170_d3_1_order_C_frames_3000.mmap\n",
      "Decode mmap filename /home/kushalk/caiman_data/mesmerize-core-batch/09610b86-917a-41e7-a493-2d036bf44428/da760704-f760-4f34-b26a-06eb5cc3cfec_cnmf-memmap_d1_170_d2_170_d3_1_order_C_frames_3000.mmap\n",
      "Decode mmap filename /home/kushalk/caiman_data/mesmerize-core-batch/09610b86-917a-41e7-a493-2d036bf44428/da760704-f760-4f34-b26a-06eb5cc3cfec_cnmf-memmap_d1_170_d2_170_d3_1_order_C_frames_3000.mmap\n",
      "Decode mmap filename /home/kushalk/caiman_data/mesmerize-core-batch/09610b86-917a-41e7-a493-2d036bf44428/da760704-f760-4f34-b26a-06eb5cc3cfec_cnmf-memmap_d1_170_d2_170_d3_1_order_C_frames_3000.mmap\n",
      "Decode mmap filename /home/kushalk/caiman_data/mesmerize-core-batch/09610b86-917a-41e7-a493-2d036bf44428/da760704-f760-4f34-b26a-06eb5cc3cfec_cnmf-memmap_d1_170_d2_170_d3_1_order_C_frames_3000.mmap\n",
      "Decode mmap filename /home/kushalk/caiman_data/mesmerize-core-batch/09610b86-917a-41e7-a493-2d036bf44428/da760704-f760-4f34-b26a-06eb5cc3cfec_cnmf-memmap_d1_170_d2_170_d3_1_order_C_frames_3000.mmap\n",
      "Decode mmap filename /home/kushalk/caiman_data/mesmerize-core-batch/09610b86-917a-41e7-a493-2d036bf44428/da760704-f760-4f34-b26a-06eb5cc3cfec_cnmf-memmap_d1_170_d2_170_d3_1_order_C_frames_3000.mmap\n",
      "Decode mmap filename /home/kushalk/caiman_data/mesmerize-core-batch/09610b86-917a-41e7-a493-2d036bf44428/da760704-f760-4f34-b26a-06eb5cc3cfec_cnmf-memmap_d1_170_d2_170_d3_1_order_C_frames_3000.mmap\n",
      "Decode mmap filename /home/kushalk/caiman_data/mesmerize-core-batch/09610b86-917a-41e7-a493-2d036bf44428/da760704-f760-4f34-b26a-06eb5cc3cfec_cnmf-memmap_d1_170_d2_170_d3_1_order_C_frames_3000.mmap\n",
      "Decode mmap filename /home/kushalk/caiman_data/mesmerize-core-batch/09610b86-917a-41e7-a493-2d036bf44428/da760704-f760-4f34-b26a-06eb5cc3cfec_cnmf-memmap_d1_170_d2_170_d3_1_order_C_frames_3000.mmap\n",
      "Decode mmap filename /home/kushalk/caiman_data/mesmerize-core-batch/09610b86-917a-41e7-a493-2d036bf44428/da760704-f760-4f34-b26a-06eb5cc3cfec_cnmf-memmap_d1_170_d2_170_d3_1_order_C_frames_3000.mmap\n",
      "Decode mmap filename /home/kushalk/caiman_data/mesmerize-core-batch/09610b86-917a-41e7-a493-2d036bf44428/da760704-f760-4f34-b26a-06eb5cc3cfec_cnmf-memmap_d1_170_d2_170_d3_1_order_C_frames_3000.mmap\n",
      "Decode mmap filename /home/kushalk/caiman_data/mesmerize-core-batch/09610b86-917a-41e7-a493-2d036bf44428/da760704-f760-4f34-b26a-06eb5cc3cfec_cnmf-memmap_d1_170_d2_170_d3_1_order_C_frames_3000.mmap\n",
      "Decode mmap filename /home/kushalk/caiman_data/mesmerize-core-batch/09610b86-917a-41e7-a493-2d036bf44428/da760704-f760-4f34-b26a-06eb5cc3cfec_cnmf-memmap_d1_170_d2_170_d3_1_order_C_frames_3000.mmap\n",
      "Decode mmap filename /home/kushalk/caiman_data/mesmerize-core-batch/09610b86-917a-41e7-a493-2d036bf44428/da760704-f760-4f34-b26a-06eb5cc3cfec_cnmf-memmap_d1_170_d2_170_d3_1_order_C_frames_3000.mmap\n",
      "Decode mmap filename /home/kushalk/caiman_data/mesmerize-core-batch/09610b86-917a-41e7-a493-2d036bf44428/da760704-f760-4f34-b26a-06eb5cc3cfec_cnmf-memmap_d1_170_d2_170_d3_1_order_C_frames_3000.mmap\n",
      "Decode mmap filename /home/kushalk/caiman_data/mesmerize-core-batch/09610b86-917a-41e7-a493-2d036bf44428/da760704-f760-4f34-b26a-06eb5cc3cfec_cnmf-memmap_d1_170_d2_170_d3_1_order_C_frames_3000.mmap\n",
      "Decode mmap filename /home/kushalk/caiman_data/mesmerize-core-batch/09610b86-917a-41e7-a493-2d036bf44428/da760704-f760-4f34-b26a-06eb5cc3cfec_cnmf-memmap_d1_170_d2_170_d3_1_order_C_frames_3000.mmap\n",
      "Decode mmap filename /home/kushalk/caiman_data/mesmerize-core-batch/09610b86-917a-41e7-a493-2d036bf44428/da760704-f760-4f34-b26a-06eb5cc3cfec_cnmf-memmap_d1_170_d2_170_d3_1_order_C_frames_3000.mmap\n",
      "Decode mmap filename /home/kushalk/caiman_data/mesmerize-core-batch/09610b86-917a-41e7-a493-2d036bf44428/da760704-f760-4f34-b26a-06eb5cc3cfec_cnmf-memmap_d1_170_d2_170_d3_1_order_C_frames_3000.mmap\n",
      "Decode mmap filename /home/kushalk/caiman_data/mesmerize-core-batch/09610b86-917a-41e7-a493-2d036bf44428/da760704-f760-4f34-b26a-06eb5cc3cfec_cnmf-memmap_d1_170_d2_170_d3_1_order_C_frames_3000.mmap\n",
      "Decode mmap filename /home/kushalk/caiman_data/mesmerize-core-batch/09610b86-917a-41e7-a493-2d036bf44428/da760704-f760-4f34-b26a-06eb5cc3cfec_cnmf-memmap_d1_170_d2_170_d3_1_order_C_frames_3000.mmap\n",
      "Decode mmap filename /home/kushalk/caiman_data/mesmerize-core-batch/09610b86-917a-41e7-a493-2d036bf44428/da760704-f760-4f34-b26a-06eb5cc3cfec_cnmf-memmap_d1_170_d2_170_d3_1_order_C_frames_3000.mmap\n",
      "Decode mmap filename /home/kushalk/caiman_data/mesmerize-core-batch/09610b86-917a-41e7-a493-2d036bf44428/da760704-f760-4f34-b26a-06eb5cc3cfec_cnmf-memmap_d1_170_d2_170_d3_1_order_C_frames_3000.mmap\n",
      "Decode mmap filename /home/kushalk/caiman_data/mesmerize-core-batch/09610b86-917a-41e7-a493-2d036bf44428/da760704-f760-4f34-b26a-06eb5cc3cfec_cnmf-memmap_d1_170_d2_170_d3_1_order_C_frames_3000.mmap\n",
      "Decode mmap filename /home/kushalk/caiman_data/mesmerize-core-batch/09610b86-917a-41e7-a493-2d036bf44428/da760704-f760-4f34-b26a-06eb5cc3cfec_cnmf-memmap_d1_170_d2_170_d3_1_order_C_frames_3000.mmap\n",
      "Decode mmap filename /home/kushalk/caiman_data/mesmerize-core-batch/09610b86-917a-41e7-a493-2d036bf44428/da760704-f760-4f34-b26a-06eb5cc3cfec_cnmf-memmap_d1_170_d2_170_d3_1_order_C_frames_3000.mmap\n",
      "Decode mmap filename /home/kushalk/caiman_data/mesmerize-core-batch/09610b86-917a-41e7-a493-2d036bf44428/da760704-f760-4f34-b26a-06eb5cc3cfec_cnmf-memmap_d1_170_d2_170_d3_1_order_C_frames_3000.mmap\n",
      "Decode mmap filename /home/kushalk/caiman_data/mesmerize-core-batch/09610b86-917a-41e7-a493-2d036bf44428/da760704-f760-4f34-b26a-06eb5cc3cfec_cnmf-memmap_d1_170_d2_170_d3_1_order_C_frames_3000.mmap\n",
      "Decode mmap filename /home/kushalk/caiman_data/mesmerize-core-batch/09610b86-917a-41e7-a493-2d036bf44428/da760704-f760-4f34-b26a-06eb5cc3cfec_cnmf-memmap_d1_170_d2_170_d3_1_order_C_frames_3000.mmap\n",
      "Decode mmap filename /home/kushalk/caiman_data/mesmerize-core-batch/09610b86-917a-41e7-a493-2d036bf44428/da760704-f760-4f34-b26a-06eb5cc3cfec_cnmf-memmap_d1_170_d2_170_d3_1_order_C_frames_3000.mmap\n",
      "Decode mmap filename /home/kushalk/caiman_data/mesmerize-core-batch/09610b86-917a-41e7-a493-2d036bf44428/da760704-f760-4f34-b26a-06eb5cc3cfec_cnmf-memmap_d1_170_d2_170_d3_1_order_C_frames_3000.mmap\n",
      "Decode mmap filename /home/kushalk/caiman_data/mesmerize-core-batch/09610b86-917a-41e7-a493-2d036bf44428/da760704-f760-4f34-b26a-06eb5cc3cfec_cnmf-memmap_d1_170_d2_170_d3_1_order_C_frames_3000.mmap\n",
      "Decode mmap filename /home/kushalk/caiman_data/mesmerize-core-batch/09610b86-917a-41e7-a493-2d036bf44428/da760704-f760-4f34-b26a-06eb5cc3cfec_cnmf-memmap_d1_170_d2_170_d3_1_order_C_frames_3000.mmap\n",
      "Decode mmap filename /home/kushalk/caiman_data/mesmerize-core-batch/09610b86-917a-41e7-a493-2d036bf44428/da760704-f760-4f34-b26a-06eb5cc3cfec_cnmf-memmap_d1_170_d2_170_d3_1_order_C_frames_3000.mmap\n",
      "Decode mmap filename /home/kushalk/caiman_data/mesmerize-core-batch/09610b86-917a-41e7-a493-2d036bf44428/da760704-f760-4f34-b26a-06eb5cc3cfec_cnmf-memmap_d1_170_d2_170_d3_1_order_C_frames_3000.mmap\n",
      "Decode mmap filename /home/kushalk/caiman_data/mesmerize-core-batch/09610b86-917a-41e7-a493-2d036bf44428/da760704-f760-4f34-b26a-06eb5cc3cfec_cnmf-memmap_d1_170_d2_170_d3_1_order_C_frames_3000.mmap\n",
      "Decode mmap filename /home/kushalk/caiman_data/mesmerize-core-batch/09610b86-917a-41e7-a493-2d036bf44428/da760704-f760-4f34-b26a-06eb5cc3cfec_cnmf-memmap_d1_170_d2_170_d3_1_order_C_frames_3000.mmap\n",
      "Decode mmap filename /home/kushalk/caiman_data/mesmerize-core-batch/09610b86-917a-41e7-a493-2d036bf44428/da760704-f760-4f34-b26a-06eb5cc3cfec_cnmf-memmap_d1_170_d2_170_d3_1_order_C_frames_3000.mmap\n",
      "Decode mmap filename /home/kushalk/caiman_data/mesmerize-core-batch/09610b86-917a-41e7-a493-2d036bf44428/da760704-f760-4f34-b26a-06eb5cc3cfec_cnmf-memmap_d1_170_d2_170_d3_1_order_C_frames_3000.mmap\n",
      "Decode mmap filename /home/kushalk/caiman_data/mesmerize-core-batch/09610b86-917a-41e7-a493-2d036bf44428/da760704-f760-4f34-b26a-06eb5cc3cfec_cnmf-memmap_d1_170_d2_170_d3_1_order_C_frames_3000.mmap\n",
      "Decode mmap filename /home/kushalk/caiman_data/mesmerize-core-batch/09610b86-917a-41e7-a493-2d036bf44428/da760704-f760-4f34-b26a-06eb5cc3cfec_cnmf-memmap_d1_170_d2_170_d3_1_order_C_frames_3000.mmap\n",
      "Decode mmap filename /home/kushalk/caiman_data/mesmerize-core-batch/09610b86-917a-41e7-a493-2d036bf44428/da760704-f760-4f34-b26a-06eb5cc3cfec_cnmf-memmap_d1_170_d2_170_d3_1_order_C_frames_3000.mmap\n",
      "Decode mmap filename /home/kushalk/caiman_data/mesmerize-core-batch/09610b86-917a-41e7-a493-2d036bf44428/da760704-f760-4f34-b26a-06eb5cc3cfec_cnmf-memmap_d1_170_d2_170_d3_1_order_C_frames_3000.mmap\n",
      "Decode mmap filename /home/kushalk/caiman_data/mesmerize-core-batch/09610b86-917a-41e7-a493-2d036bf44428/da760704-f760-4f34-b26a-06eb5cc3cfec_cnmf-memmap_d1_170_d2_170_d3_1_order_C_frames_3000.mmap\n",
      "Decode mmap filename /home/kushalk/caiman_data/mesmerize-core-batch/09610b86-917a-41e7-a493-2d036bf44428/da760704-f760-4f34-b26a-06eb5cc3cfec_cnmf-memmap_d1_170_d2_170_d3_1_order_C_frames_3000.mmap\n",
      "Decode mmap filename /home/kushalk/caiman_data/mesmerize-core-batch/09610b86-917a-41e7-a493-2d036bf44428/da760704-f760-4f34-b26a-06eb5cc3cfec_cnmf-memmap_d1_170_d2_170_d3_1_order_C_frames_3000.mmap\n",
      "Decode mmap filename /home/kushalk/caiman_data/mesmerize-core-batch/09610b86-917a-41e7-a493-2d036bf44428/da760704-f760-4f34-b26a-06eb5cc3cfec_cnmf-memmap_d1_170_d2_170_d3_1_order_C_frames_3000.mmap\n",
      "Decode mmap filename /home/kushalk/caiman_data/mesmerize-core-batch/09610b86-917a-41e7-a493-2d036bf44428/da760704-f760-4f34-b26a-06eb5cc3cfec_cnmf-memmap_d1_170_d2_170_d3_1_order_C_frames_3000.mmap\n",
      "Decode mmap filename /home/kushalk/caiman_data/mesmerize-core-batch/09610b86-917a-41e7-a493-2d036bf44428/da760704-f760-4f34-b26a-06eb5cc3cfec_cnmf-memmap_d1_170_d2_170_d3_1_order_C_frames_3000.mmap\n",
      "Decode mmap filename /home/kushalk/caiman_data/mesmerize-core-batch/09610b86-917a-41e7-a493-2d036bf44428/da760704-f760-4f34-b26a-06eb5cc3cfec_cnmf-memmap_d1_170_d2_170_d3_1_order_C_frames_3000.mmap\n",
      "Decode mmap filename /home/kushalk/caiman_data/mesmerize-core-batch/09610b86-917a-41e7-a493-2d036bf44428/da760704-f760-4f34-b26a-06eb5cc3cfec_cnmf-memmap_d1_170_d2_170_d3_1_order_C_frames_3000.mmap\n",
      "Decode mmap filename /home/kushalk/caiman_data/mesmerize-core-batch/09610b86-917a-41e7-a493-2d036bf44428/da760704-f760-4f34-b26a-06eb5cc3cfec_cnmf-memmap_d1_170_d2_170_d3_1_order_C_frames_3000.mmap\n",
      "Decode mmap filename /home/kushalk/caiman_data/mesmerize-core-batch/09610b86-917a-41e7-a493-2d036bf44428/da760704-f760-4f34-b26a-06eb5cc3cfec_cnmf-memmap_d1_170_d2_170_d3_1_order_C_frames_3000.mmap\n",
      "Decode mmap filename /home/kushalk/caiman_data/mesmerize-core-batch/09610b86-917a-41e7-a493-2d036bf44428/da760704-f760-4f34-b26a-06eb5cc3cfec_cnmf-memmap_d1_170_d2_170_d3_1_order_C_frames_3000.mmap\n",
      "Decode mmap filename /home/kushalk/caiman_data/mesmerize-core-batch/09610b86-917a-41e7-a493-2d036bf44428/da760704-f760-4f34-b26a-06eb5cc3cfec_cnmf-memmap_d1_170_d2_170_d3_1_order_C_frames_3000.mmap\n",
      "Decode mmap filename /home/kushalk/caiman_data/mesmerize-core-batch/09610b86-917a-41e7-a493-2d036bf44428/da760704-f760-4f34-b26a-06eb5cc3cfec_cnmf-memmap_d1_170_d2_170_d3_1_order_C_frames_3000.mmap\n",
      "Decode mmap filename /home/kushalk/caiman_data/mesmerize-core-batch/09610b86-917a-41e7-a493-2d036bf44428/da760704-f760-4f34-b26a-06eb5cc3cfec_cnmf-memmap_d1_170_d2_170_d3_1_order_C_frames_3000.mmap\n",
      "Decode mmap filename /home/kushalk/caiman_data/mesmerize-core-batch/09610b86-917a-41e7-a493-2d036bf44428/da760704-f760-4f34-b26a-06eb5cc3cfec_cnmf-memmap_d1_170_d2_170_d3_1_order_C_frames_3000.mmap\n",
      "Decode mmap filename /home/kushalk/caiman_data/mesmerize-core-batch/09610b86-917a-41e7-a493-2d036bf44428/da760704-f760-4f34-b26a-06eb5cc3cfec_cnmf-memmap_d1_170_d2_170_d3_1_order_C_frames_3000.mmap\n",
      "Decode mmap filename /home/kushalk/caiman_data/mesmerize-core-batch/09610b86-917a-41e7-a493-2d036bf44428/da760704-f760-4f34-b26a-06eb5cc3cfec_cnmf-memmap_d1_170_d2_170_d3_1_order_C_frames_3000.mmap\n",
      "Decode mmap filename /home/kushalk/caiman_data/mesmerize-core-batch/09610b86-917a-41e7-a493-2d036bf44428/da760704-f760-4f34-b26a-06eb5cc3cfec_cnmf-memmap_d1_170_d2_170_d3_1_order_C_frames_3000.mmap\n",
      "Decode mmap filename /home/kushalk/caiman_data/mesmerize-core-batch/09610b86-917a-41e7-a493-2d036bf44428/da760704-f760-4f34-b26a-06eb5cc3cfec_cnmf-memmap_d1_170_d2_170_d3_1_order_C_frames_3000.mmap\n",
      "Decode mmap filename /home/kushalk/caiman_data/mesmerize-core-batch/09610b86-917a-41e7-a493-2d036bf44428/da760704-f760-4f34-b26a-06eb5cc3cfec_cnmf-memmap_d1_170_d2_170_d3_1_order_C_frames_3000.mmap\n",
      "Decode mmap filename /home/kushalk/caiman_data/mesmerize-core-batch/09610b86-917a-41e7-a493-2d036bf44428/da760704-f760-4f34-b26a-06eb5cc3cfec_cnmf-memmap_d1_170_d2_170_d3_1_order_C_frames_3000.mmap\n",
      "Decode mmap filename /home/kushalk/caiman_data/mesmerize-core-batch/09610b86-917a-41e7-a493-2d036bf44428/da760704-f760-4f34-b26a-06eb5cc3cfec_cnmf-memmap_d1_170_d2_170_d3_1_order_C_frames_3000.mmap\n",
      "Decode mmap filename /home/kushalk/caiman_data/mesmerize-core-batch/09610b86-917a-41e7-a493-2d036bf44428/da760704-f760-4f34-b26a-06eb5cc3cfec_cnmf-memmap_d1_170_d2_170_d3_1_order_C_frames_3000.mmap\n",
      "Decode mmap filename /home/kushalk/caiman_data/mesmerize-core-batch/09610b86-917a-41e7-a493-2d036bf44428/da760704-f760-4f34-b26a-06eb5cc3cfec_cnmf-memmap_d1_170_d2_170_d3_1_order_C_frames_3000.mmap\n",
      "Decode mmap filename /home/kushalk/caiman_data/mesmerize-core-batch/09610b86-917a-41e7-a493-2d036bf44428/da760704-f760-4f34-b26a-06eb5cc3cfec_cnmf-memmap_d1_170_d2_170_d3_1_order_C_frames_3000.mmap\n",
      "Decode mmap filename /home/kushalk/caiman_data/mesmerize-core-batch/09610b86-917a-41e7-a493-2d036bf44428/da760704-f760-4f34-b26a-06eb5cc3cfec_cnmf-memmap_d1_170_d2_170_d3_1_order_C_frames_3000.mmap\n",
      "Decode mmap filename /home/kushalk/caiman_data/mesmerize-core-batch/09610b86-917a-41e7-a493-2d036bf44428/da760704-f760-4f34-b26a-06eb5cc3cfec_cnmf-memmap_d1_170_d2_170_d3_1_order_C_frames_3000.mmap\n",
      "Decode mmap filename /home/kushalk/caiman_data/mesmerize-core-batch/09610b86-917a-41e7-a493-2d036bf44428/da760704-f760-4f34-b26a-06eb5cc3cfec_cnmf-memmap_d1_170_d2_170_d3_1_order_C_frames_3000.mmap\n",
      "Decode mmap filename /home/kushalk/caiman_data/mesmerize-core-batch/09610b86-917a-41e7-a493-2d036bf44428/da760704-f760-4f34-b26a-06eb5cc3cfec_cnmf-memmap_d1_170_d2_170_d3_1_order_C_frames_3000.mmap\n",
      "Decode mmap filename /home/kushalk/caiman_data/mesmerize-core-batch/09610b86-917a-41e7-a493-2d036bf44428/da760704-f760-4f34-b26a-06eb5cc3cfec_cnmf-memmap_d1_170_d2_170_d3_1_order_C_frames_3000.mmap\n",
      "Decode mmap filename /home/kushalk/caiman_data/mesmerize-core-batch/09610b86-917a-41e7-a493-2d036bf44428/da760704-f760-4f34-b26a-06eb5cc3cfec_cnmf-memmap_d1_170_d2_170_d3_1_order_C_frames_3000.mmap\n",
      "Decode mmap filename /home/kushalk/caiman_data/mesmerize-core-batch/09610b86-917a-41e7-a493-2d036bf44428/da760704-f760-4f34-b26a-06eb5cc3cfec_cnmf-memmap_d1_170_d2_170_d3_1_order_C_frames_3000.mmap\n",
      "Decode mmap filename /home/kushalk/caiman_data/mesmerize-core-batch/09610b86-917a-41e7-a493-2d036bf44428/da760704-f760-4f34-b26a-06eb5cc3cfec_cnmf-memmap_d1_170_d2_170_d3_1_order_C_frames_3000.mmap\n",
      "Decode mmap filename /home/kushalk/caiman_data/mesmerize-core-batch/09610b86-917a-41e7-a493-2d036bf44428/da760704-f760-4f34-b26a-06eb5cc3cfec_cnmf-memmap_d1_170_d2_170_d3_1_order_C_frames_3000.mmap\n",
      "Decode mmap filename /home/kushalk/caiman_data/mesmerize-core-batch/09610b86-917a-41e7-a493-2d036bf44428/da760704-f760-4f34-b26a-06eb5cc3cfec_cnmf-memmap_d1_170_d2_170_d3_1_order_C_frames_3000.mmap\n",
      "Decode mmap filename /home/kushalk/caiman_data/mesmerize-core-batch/09610b86-917a-41e7-a493-2d036bf44428/da760704-f760-4f34-b26a-06eb5cc3cfec_cnmf-memmap_d1_170_d2_170_d3_1_order_C_frames_3000.mmap\n",
      "Decode mmap filename /home/kushalk/caiman_data/mesmerize-core-batch/09610b86-917a-41e7-a493-2d036bf44428/da760704-f760-4f34-b26a-06eb5cc3cfec_cnmf-memmap_d1_170_d2_170_d3_1_order_C_frames_3000.mmap\n",
      "Decode mmap filename /home/kushalk/caiman_data/mesmerize-core-batch/09610b86-917a-41e7-a493-2d036bf44428/da760704-f760-4f34-b26a-06eb5cc3cfec_cnmf-memmap_d1_170_d2_170_d3_1_order_C_frames_3000.mmap\n",
      "Decode mmap filename /home/kushalk/caiman_data/mesmerize-core-batch/09610b86-917a-41e7-a493-2d036bf44428/da760704-f760-4f34-b26a-06eb5cc3cfec_cnmf-memmap_d1_170_d2_170_d3_1_order_C_frames_3000.mmap\n",
      "Decode mmap filename /home/kushalk/caiman_data/mesmerize-core-batch/09610b86-917a-41e7-a493-2d036bf44428/da760704-f760-4f34-b26a-06eb5cc3cfec_cnmf-memmap_d1_170_d2_170_d3_1_order_C_frames_3000.mmap\n",
      "Decode mmap filename /home/kushalk/caiman_data/mesmerize-core-batch/09610b86-917a-41e7-a493-2d036bf44428/da760704-f760-4f34-b26a-06eb5cc3cfec_cnmf-memmap_d1_170_d2_170_d3_1_order_C_frames_3000.mmap\n",
      "Decode mmap filename /home/kushalk/caiman_data/mesmerize-core-batch/09610b86-917a-41e7-a493-2d036bf44428/da760704-f760-4f34-b26a-06eb5cc3cfec_cnmf-memmap_d1_170_d2_170_d3_1_order_C_frames_3000.mmap\n",
      "Decode mmap filename /home/kushalk/caiman_data/mesmerize-core-batch/09610b86-917a-41e7-a493-2d036bf44428/da760704-f760-4f34-b26a-06eb5cc3cfec_cnmf-memmap_d1_170_d2_170_d3_1_order_C_frames_3000.mmap\n",
      "Decode mmap filename /home/kushalk/caiman_data/mesmerize-core-batch/09610b86-917a-41e7-a493-2d036bf44428/da760704-f760-4f34-b26a-06eb5cc3cfec_cnmf-memmap_d1_170_d2_170_d3_1_order_C_frames_3000.mmap\n",
      "Decode mmap filename /home/kushalk/caiman_data/mesmerize-core-batch/09610b86-917a-41e7-a493-2d036bf44428/da760704-f760-4f34-b26a-06eb5cc3cfec_cnmf-memmap_d1_170_d2_170_d3_1_order_C_frames_3000.mmap\n",
      "Decode mmap filename /home/kushalk/caiman_data/mesmerize-core-batch/09610b86-917a-41e7-a493-2d036bf44428/da760704-f760-4f34-b26a-06eb5cc3cfec_cnmf-memmap_d1_170_d2_170_d3_1_order_C_frames_3000.mmap\n",
      "Decode mmap filename /home/kushalk/caiman_data/mesmerize-core-batch/09610b86-917a-41e7-a493-2d036bf44428/da760704-f760-4f34-b26a-06eb5cc3cfec_cnmf-memmap_d1_170_d2_170_d3_1_order_C_frames_3000.mmap\n",
      "Decode mmap filename /home/kushalk/caiman_data/mesmerize-core-batch/09610b86-917a-41e7-a493-2d036bf44428/da760704-f760-4f34-b26a-06eb5cc3cfec_cnmf-memmap_d1_170_d2_170_d3_1_order_C_frames_3000.mmap\n",
      "Decode mmap filename /home/kushalk/caiman_data/mesmerize-core-batch/09610b86-917a-41e7-a493-2d036bf44428/da760704-f760-4f34-b26a-06eb5cc3cfec_cnmf-memmap_d1_170_d2_170_d3_1_order_C_frames_3000.mmap\n",
      "Decode mmap filename /home/kushalk/caiman_data/mesmerize-core-batch/09610b86-917a-41e7-a493-2d036bf44428/da760704-f760-4f34-b26a-06eb5cc3cfec_cnmf-memmap_d1_170_d2_170_d3_1_order_C_frames_3000.mmap\n",
      "Decode mmap filename /home/kushalk/caiman_data/mesmerize-core-batch/09610b86-917a-41e7-a493-2d036bf44428/da760704-f760-4f34-b26a-06eb5cc3cfec_cnmf-memmap_d1_170_d2_170_d3_1_order_C_frames_3000.mmap\n",
      "Decode mmap filename /home/kushalk/caiman_data/mesmerize-core-batch/09610b86-917a-41e7-a493-2d036bf44428/da760704-f760-4f34-b26a-06eb5cc3cfec_cnmf-memmap_d1_170_d2_170_d3_1_order_C_frames_3000.mmap\n",
      "Decode mmap filename /home/kushalk/caiman_data/mesmerize-core-batch/09610b86-917a-41e7-a493-2d036bf44428/da760704-f760-4f34-b26a-06eb5cc3cfec_cnmf-memmap_d1_170_d2_170_d3_1_order_C_frames_3000.mmap\n",
      "Decode mmap filename /home/kushalk/caiman_data/mesmerize-core-batch/09610b86-917a-41e7-a493-2d036bf44428/da760704-f760-4f34-b26a-06eb5cc3cfec_cnmf-memmap_d1_170_d2_170_d3_1_order_C_frames_3000.mmap\n",
      "Decode mmap filename /home/kushalk/caiman_data/mesmerize-core-batch/09610b86-917a-41e7-a493-2d036bf44428/da760704-f760-4f34-b26a-06eb5cc3cfec_cnmf-memmap_d1_170_d2_170_d3_1_order_C_frames_3000.mmap\n",
      "Decode mmap filename /home/kushalk/caiman_data/mesmerize-core-batch/09610b86-917a-41e7-a493-2d036bf44428/da760704-f760-4f34-b26a-06eb5cc3cfec_cnmf-memmap_d1_170_d2_170_d3_1_order_C_frames_3000.mmap\n",
      "Decode mmap filename /home/kushalk/caiman_data/mesmerize-core-batch/09610b86-917a-41e7-a493-2d036bf44428/da760704-f760-4f34-b26a-06eb5cc3cfec_cnmf-memmap_d1_170_d2_170_d3_1_order_C_frames_3000.mmap\n",
      "Decode mmap filename /home/kushalk/caiman_data/mesmerize-core-batch/09610b86-917a-41e7-a493-2d036bf44428/da760704-f760-4f34-b26a-06eb5cc3cfec_cnmf-memmap_d1_170_d2_170_d3_1_order_C_frames_3000.mmap\n",
      "Decode mmap filename /home/kushalk/caiman_data/mesmerize-core-batch/09610b86-917a-41e7-a493-2d036bf44428/da760704-f760-4f34-b26a-06eb5cc3cfec_cnmf-memmap_d1_170_d2_170_d3_1_order_C_frames_3000.mmap\n",
      "Decode mmap filename /home/kushalk/caiman_data/mesmerize-core-batch/09610b86-917a-41e7-a493-2d036bf44428/da760704-f760-4f34-b26a-06eb5cc3cfec_cnmf-memmap_d1_170_d2_170_d3_1_order_C_frames_3000.mmap\n",
      "Decode mmap filename /home/kushalk/caiman_data/mesmerize-core-batch/09610b86-917a-41e7-a493-2d036bf44428/da760704-f760-4f34-b26a-06eb5cc3cfec_cnmf-memmap_d1_170_d2_170_d3_1_order_C_frames_3000.mmap\n",
      "Decode mmap filename /home/kushalk/caiman_data/mesmerize-core-batch/09610b86-917a-41e7-a493-2d036bf44428/da760704-f760-4f34-b26a-06eb5cc3cfec_cnmf-memmap_d1_170_d2_170_d3_1_order_C_frames_3000.mmap\n",
      "Decode mmap filename /home/kushalk/caiman_data/mesmerize-core-batch/09610b86-917a-41e7-a493-2d036bf44428/da760704-f760-4f34-b26a-06eb5cc3cfec_cnmf-memmap_d1_170_d2_170_d3_1_order_C_frames_3000.mmap\n",
      "Decode mmap filename /home/kushalk/caiman_data/mesmerize-core-batch/09610b86-917a-41e7-a493-2d036bf44428/da760704-f760-4f34-b26a-06eb5cc3cfec_cnmf-memmap_d1_170_d2_170_d3_1_order_C_frames_3000.mmap\n",
      "Decode mmap filename /home/kushalk/caiman_data/mesmerize-core-batch/09610b86-917a-41e7-a493-2d036bf44428/da760704-f760-4f34-b26a-06eb5cc3cfec_cnmf-memmap_d1_170_d2_170_d3_1_order_C_frames_3000.mmap\n",
      "Decode mmap filename /home/kushalk/caiman_data/mesmerize-core-batch/09610b86-917a-41e7-a493-2d036bf44428/da760704-f760-4f34-b26a-06eb5cc3cfec_cnmf-memmap_d1_170_d2_170_d3_1_order_C_frames_3000.mmap\n",
      "Decode mmap filename /home/kushalk/caiman_data/mesmerize-core-batch/09610b86-917a-41e7-a493-2d036bf44428/da760704-f760-4f34-b26a-06eb5cc3cfec_cnmf-memmap_d1_170_d2_170_d3_1_order_C_frames_3000.mmap\n",
      "Decode mmap filename /home/kushalk/caiman_data/mesmerize-core-batch/09610b86-917a-41e7-a493-2d036bf44428/da760704-f760-4f34-b26a-06eb5cc3cfec_cnmf-memmap_d1_170_d2_170_d3_1_order_C_frames_3000.mmap\n",
      "Decode mmap filename /home/kushalk/caiman_data/mesmerize-core-batch/09610b86-917a-41e7-a493-2d036bf44428/da760704-f760-4f34-b26a-06eb5cc3cfec_cnmf-memmap_d1_170_d2_170_d3_1_order_C_frames_3000.mmap\n",
      "Decode mmap filename /home/kushalk/caiman_data/mesmerize-core-batch/09610b86-917a-41e7-a493-2d036bf44428/da760704-f760-4f34-b26a-06eb5cc3cfec_cnmf-memmap_d1_170_d2_170_d3_1_order_C_frames_3000.mmap\n",
      "Decode mmap filename /home/kushalk/caiman_data/mesmerize-core-batch/09610b86-917a-41e7-a493-2d036bf44428/da760704-f760-4f34-b26a-06eb5cc3cfec_cnmf-memmap_d1_170_d2_170_d3_1_order_C_frames_3000.mmap\n",
      "Decode mmap filename /home/kushalk/caiman_data/mesmerize-core-batch/09610b86-917a-41e7-a493-2d036bf44428/da760704-f760-4f34-b26a-06eb5cc3cfec_cnmf-memmap_d1_170_d2_170_d3_1_order_C_frames_3000.mmap\n",
      "Decode mmap filename /home/kushalk/caiman_data/mesmerize-core-batch/09610b86-917a-41e7-a493-2d036bf44428/da760704-f760-4f34-b26a-06eb5cc3cfec_cnmf-memmap_d1_170_d2_170_d3_1_order_C_frames_3000.mmap\n",
      "Decode mmap filename /home/kushalk/caiman_data/mesmerize-core-batch/09610b86-917a-41e7-a493-2d036bf44428/da760704-f760-4f34-b26a-06eb5cc3cfec_cnmf-memmap_d1_170_d2_170_d3_1_order_C_frames_3000.mmap\n",
      "Decode mmap filename /home/kushalk/caiman_data/mesmerize-core-batch/09610b86-917a-41e7-a493-2d036bf44428/da760704-f760-4f34-b26a-06eb5cc3cfec_cnmf-memmap_d1_170_d2_170_d3_1_order_C_frames_3000.mmap\n",
      "Decode mmap filename /home/kushalk/caiman_data/mesmerize-core-batch/09610b86-917a-41e7-a493-2d036bf44428/da760704-f760-4f34-b26a-06eb5cc3cfec_cnmf-memmap_d1_170_d2_170_d3_1_order_C_frames_3000.mmap\n",
      "Decode mmap filename /home/kushalk/caiman_data/mesmerize-core-batch/09610b86-917a-41e7-a493-2d036bf44428/da760704-f760-4f34-b26a-06eb5cc3cfec_cnmf-memmap_d1_170_d2_170_d3_1_order_C_frames_3000.mmap\n",
      "Decode mmap filename /home/kushalk/caiman_data/mesmerize-core-batch/09610b86-917a-41e7-a493-2d036bf44428/da760704-f760-4f34-b26a-06eb5cc3cfec_cnmf-memmap_d1_170_d2_170_d3_1_order_C_frames_3000.mmap\n",
      "Decode mmap filename /home/kushalk/caiman_data/mesmerize-core-batch/09610b86-917a-41e7-a493-2d036bf44428/da760704-f760-4f34-b26a-06eb5cc3cfec_cnmf-memmap_d1_170_d2_170_d3_1_order_C_frames_3000.mmap\n",
      "Decode mmap filename /home/kushalk/caiman_data/mesmerize-core-batch/09610b86-917a-41e7-a493-2d036bf44428/da760704-f760-4f34-b26a-06eb5cc3cfec_cnmf-memmap_d1_170_d2_170_d3_1_order_C_frames_3000.mmap\n",
      "Decode mmap filename /home/kushalk/caiman_data/mesmerize-core-batch/09610b86-917a-41e7-a493-2d036bf44428/da760704-f760-4f34-b26a-06eb5cc3cfec_cnmf-memmap_d1_170_d2_170_d3_1_order_C_frames_3000.mmap\n",
      "Decode mmap filename /home/kushalk/caiman_data/mesmerize-core-batch/09610b86-917a-41e7-a493-2d036bf44428/da760704-f760-4f34-b26a-06eb5cc3cfec_cnmf-memmap_d1_170_d2_170_d3_1_order_C_frames_3000.mmap\n",
      "Decode mmap filename /home/kushalk/caiman_data/mesmerize-core-batch/09610b86-917a-41e7-a493-2d036bf44428/da760704-f760-4f34-b26a-06eb5cc3cfec_cnmf-memmap_d1_170_d2_170_d3_1_order_C_frames_3000.mmap\n",
      "Decode mmap filename /home/kushalk/caiman_data/mesmerize-core-batch/09610b86-917a-41e7-a493-2d036bf44428/da760704-f760-4f34-b26a-06eb5cc3cfec_cnmf-memmap_d1_170_d2_170_d3_1_order_C_frames_3000.mmap\n",
      "Decode mmap filename /home/kushalk/caiman_data/mesmerize-core-batch/09610b86-917a-41e7-a493-2d036bf44428/da760704-f760-4f34-b26a-06eb5cc3cfec_cnmf-memmap_d1_170_d2_170_d3_1_order_C_frames_3000.mmap\n",
      "Decode mmap filename /home/kushalk/caiman_data/mesmerize-core-batch/09610b86-917a-41e7-a493-2d036bf44428/da760704-f760-4f34-b26a-06eb5cc3cfec_cnmf-memmap_d1_170_d2_170_d3_1_order_C_frames_3000.mmap\n",
      "Decode mmap filename /home/kushalk/caiman_data/mesmerize-core-batch/09610b86-917a-41e7-a493-2d036bf44428/da760704-f760-4f34-b26a-06eb5cc3cfec_cnmf-memmap_d1_170_d2_170_d3_1_order_C_frames_3000.mmap\n",
      "Decode mmap filename /home/kushalk/caiman_data/mesmerize-core-batch/09610b86-917a-41e7-a493-2d036bf44428/da760704-f760-4f34-b26a-06eb5cc3cfec_cnmf-memmap_d1_170_d2_170_d3_1_order_C_frames_3000.mmap\n",
      "Decode mmap filename /home/kushalk/caiman_data/mesmerize-core-batch/09610b86-917a-41e7-a493-2d036bf44428/da760704-f760-4f34-b26a-06eb5cc3cfec_cnmf-memmap_d1_170_d2_170_d3_1_order_C_frames_3000.mmap\n",
      "Decode mmap filename /home/kushalk/caiman_data/mesmerize-core-batch/09610b86-917a-41e7-a493-2d036bf44428/da760704-f760-4f34-b26a-06eb5cc3cfec_cnmf-memmap_d1_170_d2_170_d3_1_order_C_frames_3000.mmap\n",
      "Decode mmap filename /home/kushalk/caiman_data/mesmerize-core-batch/09610b86-917a-41e7-a493-2d036bf44428/da760704-f760-4f34-b26a-06eb5cc3cfec_cnmf-memmap_d1_170_d2_170_d3_1_order_C_frames_3000.mmap\n",
      "Decode mmap filename /home/kushalk/caiman_data/mesmerize-core-batch/09610b86-917a-41e7-a493-2d036bf44428/da760704-f760-4f34-b26a-06eb5cc3cfec_cnmf-memmap_d1_170_d2_170_d3_1_order_C_frames_3000.mmap\n",
      "Decode mmap filename /home/kushalk/caiman_data/mesmerize-core-batch/09610b86-917a-41e7-a493-2d036bf44428/da760704-f760-4f34-b26a-06eb5cc3cfec_cnmf-memmap_d1_170_d2_170_d3_1_order_C_frames_3000.mmap\n",
      "Decode mmap filename /home/kushalk/caiman_data/mesmerize-core-batch/09610b86-917a-41e7-a493-2d036bf44428/da760704-f760-4f34-b26a-06eb5cc3cfec_cnmf-memmap_d1_170_d2_170_d3_1_order_C_frames_3000.mmap\n",
      "Decode mmap filename /home/kushalk/caiman_data/mesmerize-core-batch/09610b86-917a-41e7-a493-2d036bf44428/da760704-f760-4f34-b26a-06eb5cc3cfec_cnmf-memmap_d1_170_d2_170_d3_1_order_C_frames_3000.mmap\n",
      "Decode mmap filename /home/kushalk/caiman_data/mesmerize-core-batch/09610b86-917a-41e7-a493-2d036bf44428/da760704-f760-4f34-b26a-06eb5cc3cfec_cnmf-memmap_d1_170_d2_170_d3_1_order_C_frames_3000.mmap\n",
      "Decode mmap filename /home/kushalk/caiman_data/mesmerize-core-batch/09610b86-917a-41e7-a493-2d036bf44428/da760704-f760-4f34-b26a-06eb5cc3cfec_cnmf-memmap_d1_170_d2_170_d3_1_order_C_frames_3000.mmap\n",
      "Decode mmap filename /home/kushalk/caiman_data/mesmerize-core-batch/09610b86-917a-41e7-a493-2d036bf44428/da760704-f760-4f34-b26a-06eb5cc3cfec_cnmf-memmap_d1_170_d2_170_d3_1_order_C_frames_3000.mmap\n",
      "Decode mmap filename /home/kushalk/caiman_data/mesmerize-core-batch/09610b86-917a-41e7-a493-2d036bf44428/da760704-f760-4f34-b26a-06eb5cc3cfec_cnmf-memmap_d1_170_d2_170_d3_1_order_C_frames_3000.mmap\n",
      "Decode mmap filename /home/kushalk/caiman_data/mesmerize-core-batch/09610b86-917a-41e7-a493-2d036bf44428/da760704-f760-4f34-b26a-06eb5cc3cfec_cnmf-memmap_d1_170_d2_170_d3_1_order_C_frames_3000.mmap\n",
      "Decode mmap filename /home/kushalk/caiman_data/mesmerize-core-batch/09610b86-917a-41e7-a493-2d036bf44428/da760704-f760-4f34-b26a-06eb5cc3cfec_cnmf-memmap_d1_170_d2_170_d3_1_order_C_frames_3000.mmap\n",
      "Decode mmap filename /home/kushalk/caiman_data/mesmerize-core-batch/09610b86-917a-41e7-a493-2d036bf44428/da760704-f760-4f34-b26a-06eb5cc3cfec_cnmf-memmap_d1_170_d2_170_d3_1_order_C_frames_3000.mmap\n",
      "Decode mmap filename /home/kushalk/caiman_data/mesmerize-core-batch/09610b86-917a-41e7-a493-2d036bf44428/da760704-f760-4f34-b26a-06eb5cc3cfec_cnmf-memmap_d1_170_d2_170_d3_1_order_C_frames_3000.mmap\n",
      "Decode mmap filename /home/kushalk/caiman_data/mesmerize-core-batch/09610b86-917a-41e7-a493-2d036bf44428/da760704-f760-4f34-b26a-06eb5cc3cfec_cnmf-memmap_d1_170_d2_170_d3_1_order_C_frames_3000.mmap\n",
      "Decode mmap filename /home/kushalk/caiman_data/mesmerize-core-batch/09610b86-917a-41e7-a493-2d036bf44428/da760704-f760-4f34-b26a-06eb5cc3cfec_cnmf-memmap_d1_170_d2_170_d3_1_order_C_frames_3000.mmap\n",
      "Decode mmap filename /home/kushalk/caiman_data/mesmerize-core-batch/09610b86-917a-41e7-a493-2d036bf44428/da760704-f760-4f34-b26a-06eb5cc3cfec_cnmf-memmap_d1_170_d2_170_d3_1_order_C_frames_3000.mmap\n",
      "Decode mmap filename /home/kushalk/caiman_data/mesmerize-core-batch/09610b86-917a-41e7-a493-2d036bf44428/da760704-f760-4f34-b26a-06eb5cc3cfec_cnmf-memmap_d1_170_d2_170_d3_1_order_C_frames_3000.mmap\n",
      "Decode mmap filename /home/kushalk/caiman_data/mesmerize-core-batch/09610b86-917a-41e7-a493-2d036bf44428/da760704-f760-4f34-b26a-06eb5cc3cfec_cnmf-memmap_d1_170_d2_170_d3_1_order_C_frames_3000.mmap\n",
      "Decode mmap filename /home/kushalk/caiman_data/mesmerize-core-batch/09610b86-917a-41e7-a493-2d036bf44428/da760704-f760-4f34-b26a-06eb5cc3cfec_cnmf-memmap_d1_170_d2_170_d3_1_order_C_frames_3000.mmap\n",
      "Decode mmap filename /home/kushalk/caiman_data/mesmerize-core-batch/09610b86-917a-41e7-a493-2d036bf44428/da760704-f760-4f34-b26a-06eb5cc3cfec_cnmf-memmap_d1_170_d2_170_d3_1_order_C_frames_3000.mmap\n",
      "Decode mmap filename /home/kushalk/caiman_data/mesmerize-core-batch/09610b86-917a-41e7-a493-2d036bf44428/da760704-f760-4f34-b26a-06eb5cc3cfec_cnmf-memmap_d1_170_d2_170_d3_1_order_C_frames_3000.mmap\n",
      "Decode mmap filename /home/kushalk/caiman_data/mesmerize-core-batch/09610b86-917a-41e7-a493-2d036bf44428/da760704-f760-4f34-b26a-06eb5cc3cfec_cnmf-memmap_d1_170_d2_170_d3_1_order_C_frames_3000.mmap\n",
      "Decode mmap filename /home/kushalk/caiman_data/mesmerize-core-batch/09610b86-917a-41e7-a493-2d036bf44428/da760704-f760-4f34-b26a-06eb5cc3cfec_cnmf-memmap_d1_170_d2_170_d3_1_order_C_frames_3000.mmap\n",
      "Decode mmap filename /home/kushalk/caiman_data/mesmerize-core-batch/09610b86-917a-41e7-a493-2d036bf44428/da760704-f760-4f34-b26a-06eb5cc3cfec_cnmf-memmap_d1_170_d2_170_d3_1_order_C_frames_3000.mmap\n",
      "Decode mmap filename /home/kushalk/caiman_data/mesmerize-core-batch/09610b86-917a-41e7-a493-2d036bf44428/da760704-f760-4f34-b26a-06eb5cc3cfec_cnmf-memmap_d1_170_d2_170_d3_1_order_C_frames_3000.mmap\n",
      "Decode mmap filename /home/kushalk/caiman_data/mesmerize-core-batch/09610b86-917a-41e7-a493-2d036bf44428/da760704-f760-4f34-b26a-06eb5cc3cfec_cnmf-memmap_d1_170_d2_170_d3_1_order_C_frames_3000.mmap\n",
      "Decode mmap filename /home/kushalk/caiman_data/mesmerize-core-batch/09610b86-917a-41e7-a493-2d036bf44428/da760704-f760-4f34-b26a-06eb5cc3cfec_cnmf-memmap_d1_170_d2_170_d3_1_order_C_frames_3000.mmap\n",
      "Decode mmap filename /home/kushalk/caiman_data/mesmerize-core-batch/09610b86-917a-41e7-a493-2d036bf44428/da760704-f760-4f34-b26a-06eb5cc3cfec_cnmf-memmap_d1_170_d2_170_d3_1_order_C_frames_3000.mmap\n",
      "Decode mmap filename /home/kushalk/caiman_data/mesmerize-core-batch/09610b86-917a-41e7-a493-2d036bf44428/da760704-f760-4f34-b26a-06eb5cc3cfec_cnmf-memmap_d1_170_d2_170_d3_1_order_C_frames_3000.mmap\n",
      "Decode mmap filename /home/kushalk/caiman_data/mesmerize-core-batch/09610b86-917a-41e7-a493-2d036bf44428/da760704-f760-4f34-b26a-06eb5cc3cfec_cnmf-memmap_d1_170_d2_170_d3_1_order_C_frames_3000.mmap\n",
      "Decode mmap filename /home/kushalk/caiman_data/mesmerize-core-batch/09610b86-917a-41e7-a493-2d036bf44428/da760704-f760-4f34-b26a-06eb5cc3cfec_cnmf-memmap_d1_170_d2_170_d3_1_order_C_frames_3000.mmap\n",
      "Decode mmap filename /home/kushalk/caiman_data/mesmerize-core-batch/09610b86-917a-41e7-a493-2d036bf44428/da760704-f760-4f34-b26a-06eb5cc3cfec_cnmf-memmap_d1_170_d2_170_d3_1_order_C_frames_3000.mmap\n",
      "Decode mmap filename /home/kushalk/caiman_data/mesmerize-core-batch/09610b86-917a-41e7-a493-2d036bf44428/da760704-f760-4f34-b26a-06eb5cc3cfec_cnmf-memmap_d1_170_d2_170_d3_1_order_C_frames_3000.mmap\n",
      "Decode mmap filename /home/kushalk/caiman_data/mesmerize-core-batch/09610b86-917a-41e7-a493-2d036bf44428/da760704-f760-4f34-b26a-06eb5cc3cfec_cnmf-memmap_d1_170_d2_170_d3_1_order_C_frames_3000.mmap\n",
      "Decode mmap filename /home/kushalk/caiman_data/mesmerize-core-batch/09610b86-917a-41e7-a493-2d036bf44428/da760704-f760-4f34-b26a-06eb5cc3cfec_cnmf-memmap_d1_170_d2_170_d3_1_order_C_frames_3000.mmap\n",
      "Decode mmap filename /home/kushalk/caiman_data/mesmerize-core-batch/09610b86-917a-41e7-a493-2d036bf44428/da760704-f760-4f34-b26a-06eb5cc3cfec_cnmf-memmap_d1_170_d2_170_d3_1_order_C_frames_3000.mmap\n",
      "Decode mmap filename /home/kushalk/caiman_data/mesmerize-core-batch/09610b86-917a-41e7-a493-2d036bf44428/da760704-f760-4f34-b26a-06eb5cc3cfec_cnmf-memmap_d1_170_d2_170_d3_1_order_C_frames_3000.mmap\n",
      "Decode mmap filename /home/kushalk/caiman_data/mesmerize-core-batch/09610b86-917a-41e7-a493-2d036bf44428/da760704-f760-4f34-b26a-06eb5cc3cfec_cnmf-memmap_d1_170_d2_170_d3_1_order_C_frames_3000.mmap\n",
      "Decode mmap filename /home/kushalk/caiman_data/mesmerize-core-batch/09610b86-917a-41e7-a493-2d036bf44428/da760704-f760-4f34-b26a-06eb5cc3cfec_cnmf-memmap_d1_170_d2_170_d3_1_order_C_frames_3000.mmap\n",
      "Decode mmap filename /home/kushalk/caiman_data/mesmerize-core-batch/09610b86-917a-41e7-a493-2d036bf44428/da760704-f760-4f34-b26a-06eb5cc3cfec_cnmf-memmap_d1_170_d2_170_d3_1_order_C_frames_3000.mmap\n",
      "Decode mmap filename /home/kushalk/caiman_data/mesmerize-core-batch/09610b86-917a-41e7-a493-2d036bf44428/da760704-f760-4f34-b26a-06eb5cc3cfec_cnmf-memmap_d1_170_d2_170_d3_1_order_C_frames_3000.mmap\n",
      "Decode mmap filename /home/kushalk/caiman_data/mesmerize-core-batch/09610b86-917a-41e7-a493-2d036bf44428/da760704-f760-4f34-b26a-06eb5cc3cfec_cnmf-memmap_d1_170_d2_170_d3_1_order_C_frames_3000.mmap\n",
      "Decode mmap filename /home/kushalk/caiman_data/mesmerize-core-batch/09610b86-917a-41e7-a493-2d036bf44428/da760704-f760-4f34-b26a-06eb5cc3cfec_cnmf-memmap_d1_170_d2_170_d3_1_order_C_frames_3000.mmap\n",
      "Decode mmap filename /home/kushalk/caiman_data/mesmerize-core-batch/09610b86-917a-41e7-a493-2d036bf44428/da760704-f760-4f34-b26a-06eb5cc3cfec_cnmf-memmap_d1_170_d2_170_d3_1_order_C_frames_3000.mmap\n",
      "Decode mmap filename /home/kushalk/caiman_data/mesmerize-core-batch/09610b86-917a-41e7-a493-2d036bf44428/da760704-f760-4f34-b26a-06eb5cc3cfec_cnmf-memmap_d1_170_d2_170_d3_1_order_C_frames_3000.mmap\n",
      "Decode mmap filename /home/kushalk/caiman_data/mesmerize-core-batch/09610b86-917a-41e7-a493-2d036bf44428/da760704-f760-4f34-b26a-06eb5cc3cfec_cnmf-memmap_d1_170_d2_170_d3_1_order_C_frames_3000.mmap\n",
      "Decode mmap filename /home/kushalk/caiman_data/mesmerize-core-batch/09610b86-917a-41e7-a493-2d036bf44428/da760704-f760-4f34-b26a-06eb5cc3cfec_cnmf-memmap_d1_170_d2_170_d3_1_order_C_frames_3000.mmap\n",
      "Decode mmap filename /home/kushalk/caiman_data/mesmerize-core-batch/09610b86-917a-41e7-a493-2d036bf44428/da760704-f760-4f34-b26a-06eb5cc3cfec_cnmf-memmap_d1_170_d2_170_d3_1_order_C_frames_3000.mmap\n",
      "Decode mmap filename /home/kushalk/caiman_data/mesmerize-core-batch/09610b86-917a-41e7-a493-2d036bf44428/da760704-f760-4f34-b26a-06eb5cc3cfec_cnmf-memmap_d1_170_d2_170_d3_1_order_C_frames_3000.mmap\n",
      "Decode mmap filename /home/kushalk/caiman_data/mesmerize-core-batch/09610b86-917a-41e7-a493-2d036bf44428/da760704-f760-4f34-b26a-06eb5cc3cfec_cnmf-memmap_d1_170_d2_170_d3_1_order_C_frames_3000.mmap\n",
      "Decode mmap filename /home/kushalk/caiman_data/mesmerize-core-batch/09610b86-917a-41e7-a493-2d036bf44428/da760704-f760-4f34-b26a-06eb5cc3cfec_cnmf-memmap_d1_170_d2_170_d3_1_order_C_frames_3000.mmap\n",
      "Decode mmap filename /home/kushalk/caiman_data/mesmerize-core-batch/09610b86-917a-41e7-a493-2d036bf44428/da760704-f760-4f34-b26a-06eb5cc3cfec_cnmf-memmap_d1_170_d2_170_d3_1_order_C_frames_3000.mmap\n",
      "Decode mmap filename /home/kushalk/caiman_data/mesmerize-core-batch/09610b86-917a-41e7-a493-2d036bf44428/da760704-f760-4f34-b26a-06eb5cc3cfec_cnmf-memmap_d1_170_d2_170_d3_1_order_C_frames_3000.mmap\n",
      "Decode mmap filename /home/kushalk/caiman_data/mesmerize-core-batch/09610b86-917a-41e7-a493-2d036bf44428/da760704-f760-4f34-b26a-06eb5cc3cfec_cnmf-memmap_d1_170_d2_170_d3_1_order_C_frames_3000.mmap\n",
      "Decode mmap filename /home/kushalk/caiman_data/mesmerize-core-batch/09610b86-917a-41e7-a493-2d036bf44428/da760704-f760-4f34-b26a-06eb5cc3cfec_cnmf-memmap_d1_170_d2_170_d3_1_order_C_frames_3000.mmap\n",
      "Decode mmap filename /home/kushalk/caiman_data/mesmerize-core-batch/09610b86-917a-41e7-a493-2d036bf44428/da760704-f760-4f34-b26a-06eb5cc3cfec_cnmf-memmap_d1_170_d2_170_d3_1_order_C_frames_3000.mmap\n",
      "Decode mmap filename /home/kushalk/caiman_data/mesmerize-core-batch/09610b86-917a-41e7-a493-2d036bf44428/da760704-f760-4f34-b26a-06eb5cc3cfec_cnmf-memmap_d1_170_d2_170_d3_1_order_C_frames_3000.mmap\n",
      "Decode mmap filename /home/kushalk/caiman_data/mesmerize-core-batch/09610b86-917a-41e7-a493-2d036bf44428/da760704-f760-4f34-b26a-06eb5cc3cfec_cnmf-memmap_d1_170_d2_170_d3_1_order_C_frames_3000.mmap\n",
      "Decode mmap filename /home/kushalk/caiman_data/mesmerize-core-batch/09610b86-917a-41e7-a493-2d036bf44428/da760704-f760-4f34-b26a-06eb5cc3cfec_cnmf-memmap_d1_170_d2_170_d3_1_order_C_frames_3000.mmap\n",
      "Decode mmap filename /home/kushalk/caiman_data/mesmerize-core-batch/09610b86-917a-41e7-a493-2d036bf44428/da760704-f760-4f34-b26a-06eb5cc3cfec_cnmf-memmap_d1_170_d2_170_d3_1_order_C_frames_3000.mmap\n",
      "Decode mmap filename /home/kushalk/caiman_data/mesmerize-core-batch/09610b86-917a-41e7-a493-2d036bf44428/da760704-f760-4f34-b26a-06eb5cc3cfec_cnmf-memmap_d1_170_d2_170_d3_1_order_C_frames_3000.mmap\n",
      "Decode mmap filename /home/kushalk/caiman_data/mesmerize-core-batch/09610b86-917a-41e7-a493-2d036bf44428/da760704-f760-4f34-b26a-06eb5cc3cfec_cnmf-memmap_d1_170_d2_170_d3_1_order_C_frames_3000.mmap\n",
      "Decode mmap filename /home/kushalk/caiman_data/mesmerize-core-batch/09610b86-917a-41e7-a493-2d036bf44428/da760704-f760-4f34-b26a-06eb5cc3cfec_cnmf-memmap_d1_170_d2_170_d3_1_order_C_frames_3000.mmap\n",
      "Decode mmap filename /home/kushalk/caiman_data/mesmerize-core-batch/09610b86-917a-41e7-a493-2d036bf44428/da760704-f760-4f34-b26a-06eb5cc3cfec_cnmf-memmap_d1_170_d2_170_d3_1_order_C_frames_3000.mmap\n",
      "Decode mmap filename /home/kushalk/caiman_data/mesmerize-core-batch/09610b86-917a-41e7-a493-2d036bf44428/da760704-f760-4f34-b26a-06eb5cc3cfec_cnmf-memmap_d1_170_d2_170_d3_1_order_C_frames_3000.mmap\n",
      "Decode mmap filename /home/kushalk/caiman_data/mesmerize-core-batch/09610b86-917a-41e7-a493-2d036bf44428/da760704-f760-4f34-b26a-06eb5cc3cfec_cnmf-memmap_d1_170_d2_170_d3_1_order_C_frames_3000.mmap\n",
      "Decode mmap filename /home/kushalk/caiman_data/mesmerize-core-batch/09610b86-917a-41e7-a493-2d036bf44428/da760704-f760-4f34-b26a-06eb5cc3cfec_cnmf-memmap_d1_170_d2_170_d3_1_order_C_frames_3000.mmap\n",
      "Decode mmap filename /home/kushalk/caiman_data/mesmerize-core-batch/09610b86-917a-41e7-a493-2d036bf44428/da760704-f760-4f34-b26a-06eb5cc3cfec_cnmf-memmap_d1_170_d2_170_d3_1_order_C_frames_3000.mmap\n",
      "Decode mmap filename /home/kushalk/caiman_data/mesmerize-core-batch/09610b86-917a-41e7-a493-2d036bf44428/da760704-f760-4f34-b26a-06eb5cc3cfec_cnmf-memmap_d1_170_d2_170_d3_1_order_C_frames_3000.mmap\n",
      "Decode mmap filename /home/kushalk/caiman_data/mesmerize-core-batch/09610b86-917a-41e7-a493-2d036bf44428/da760704-f760-4f34-b26a-06eb5cc3cfec_cnmf-memmap_d1_170_d2_170_d3_1_order_C_frames_3000.mmap\n",
      "Decode mmap filename /home/kushalk/caiman_data/mesmerize-core-batch/09610b86-917a-41e7-a493-2d036bf44428/da760704-f760-4f34-b26a-06eb5cc3cfec_cnmf-memmap_d1_170_d2_170_d3_1_order_C_frames_3000.mmap\n",
      "Decode mmap filename /home/kushalk/caiman_data/mesmerize-core-batch/09610b86-917a-41e7-a493-2d036bf44428/da760704-f760-4f34-b26a-06eb5cc3cfec_cnmf-memmap_d1_170_d2_170_d3_1_order_C_frames_3000.mmap\n",
      "Decode mmap filename /home/kushalk/caiman_data/mesmerize-core-batch/09610b86-917a-41e7-a493-2d036bf44428/da760704-f760-4f34-b26a-06eb5cc3cfec_cnmf-memmap_d1_170_d2_170_d3_1_order_C_frames_3000.mmap\n",
      "Decode mmap filename /home/kushalk/caiman_data/mesmerize-core-batch/09610b86-917a-41e7-a493-2d036bf44428/da760704-f760-4f34-b26a-06eb5cc3cfec_cnmf-memmap_d1_170_d2_170_d3_1_order_C_frames_3000.mmap\n"
     ]
    },
    {
     "name": "stderr",
     "output_type": "stream",
     "text": [
      "2023-01-08 01:33:43.710247: I tensorflow/core/platform/cpu_feature_guard.cc:193] This TensorFlow binary is optimized with oneAPI Deep Neural Network Library (oneDNN) to use the following CPU instructions in performance-critical operations:  AVX2 FMA\n",
      "To enable them in other operations, rebuild TensorFlow with the appropriate compiler flags.\n",
      "2023-01-08 01:33:43.791697: E tensorflow/stream_executor/cuda/cuda_blas.cc:2981] Unable to register cuBLAS factory: Attempting to register factory for plugin cuBLAS when one has already been registered\n",
      "2023-01-08 01:33:44.162603: W tensorflow/stream_executor/platform/default/dso_loader.cc:64] Could not load dynamic library 'libnvinfer.so.7'; dlerror: libnvinfer.so.7: cannot open shared object file: No such file or directory; LD_LIBRARY_PATH: /home/kushalk/python-venvs/mescore/lib/python3.10/site-packages/cv2/../../lib64:/home/kushalk/python-venvs/mescore/lib/python3.10/site-packages/cv2/../../lib64:/usr/local/cuda-11.2/lib64:/usr/local/cuda-11.2/lib64\n",
      "2023-01-08 01:33:44.162657: W tensorflow/stream_executor/platform/default/dso_loader.cc:64] Could not load dynamic library 'libnvinfer_plugin.so.7'; dlerror: libnvinfer_plugin.so.7: cannot open shared object file: No such file or directory; LD_LIBRARY_PATH: /home/kushalk/python-venvs/mescore/lib/python3.10/site-packages/cv2/../../lib64:/home/kushalk/python-venvs/mescore/lib/python3.10/site-packages/cv2/../../lib64:/usr/local/cuda-11.2/lib64:/usr/local/cuda-11.2/lib64\n",
      "2023-01-08 01:33:44.162661: W tensorflow/compiler/tf2tensorrt/utils/py_utils.cc:38] TF-TRT Warning: Cannot dlopen some TensorRT libraries. If you would like to use Nvidia GPU with TensorRT, please make sure the missing libraries mentioned above are installed properly.\n"
     ]
    },
    {
     "name": "stdout",
     "output_type": "stream",
     "text": [
      "************************************************************************\n",
      "\n",
      "Starting CNMF item:\n",
      "algo                                                             cnmf\n",
      "item_name                                          Sue_2x_3000_40_-46\n",
      "input_movie_path    09610b86-917a-41e7-a493-2d036bf44428/09610b86-...\n",
      "params              {'main': {'fr': 30, 'p': 1, 'nb': 2, 'merge_th...\n",
      "outputs                                                          None\n",
      "comments                                                         None\n",
      "uuid                             f4474d42-f6ae-4fba-a1a5-c181b4b1796e\n",
      "Name: 9, dtype: object\n",
      "With params:{'main': {'fr': 30, 'p': 1, 'nb': 2, 'merge_thr': 0.95, 'rf': 15, 'stride': 6, 'K': 8, 'gSig': (8, 8), 'ssub': 1, 'tsub': 1, 'method_init': 'greedy_roi', 'min_SNR': 2.0, 'rval_thr': 0.7, 'use_cnn': True, 'min_cnn_thr': 0.8, 'cnn_lowest': 0.1, 'decay_time': 0.4}, 'refit': True}\n"
     ]
    },
    {
     "name": "stderr",
     "output_type": "stream",
     "text": [
      "WARNING:root:Changing rf from 15 to 34 because the constraint rf > gSiz was not satisfied.\n"
     ]
    },
    {
     "name": "stdout",
     "output_type": "stream",
     "text": [
      "Decode mmap filename /home/kushalk/caiman_data/mesmerize-core-batch/09610b86-917a-41e7-a493-2d036bf44428/09610b86-917a-41e7-a493-2d036bf44428-Sue_2x_3000_40_-46_els__d1_170_d2_170_d3_1_order_F_frames_3000.mmap\n",
      "making memmap\n",
      "Decode mmap filename /home/kushalk/caiman_data/mesmerize-core-batch/09610b86-917a-41e7-a493-2d036bf44428/f4474d42-f6ae-4fba-a1a5-c181b4b1796e_cnmf-memmap_d1_170_d2_170_d3_1_order_C_frames_3000.mmap\n"
     ]
    },
    {
     "name": "stderr",
     "output_type": "stream",
     "text": [
      "WARNING:root:Component 14 is only active jointly with neighboring components. Space correlation calculation might be unreliable.\n",
      "WARNING:root:Component 26 is only active jointly with neighboring components. Space correlation calculation might be unreliable.\n",
      "WARNING:root:Component 31 is only active jointly with neighboring components. Space correlation calculation might be unreliable.\n",
      "WARNING:root:Component 32 is only active jointly with neighboring components. Space correlation calculation might be unreliable.\n",
      "WARNING:root:Component 19 is only active jointly with neighboring components. Space correlation calculation might be unreliable.\n",
      "WARNING:root:Component 25 is only active jointly with neighboring components. Space correlation calculation might be unreliable.\n",
      "WARNING:root:Component 30 is only active jointly with neighboring components. Space correlation calculation might be unreliable.\n",
      "WARNING:root:Component 46 is only active jointly with neighboring components. Space correlation calculation might be unreliable.\n",
      "WARNING:root:Component 36 is only active jointly with neighboring components. Space correlation calculation might be unreliable.\n",
      "WARNING:root:Component 35 is only active jointly with neighboring components. Space correlation calculation might be unreliable.\n",
      "WARNING:root:Component 37 is only active jointly with neighboring components. Space correlation calculation might be unreliable.\n",
      "WARNING:root:Component 37 is only active jointly with neighboring components. Space correlation calculation might be unreliable.\n",
      "WARNING:root:Component 33 is only active jointly with neighboring components. Space correlation calculation might be unreliable.\n",
      "WARNING:root:Component 45 is only active jointly with neighboring components. Space correlation calculation might be unreliable.\n",
      "WARNING:root:Component 35 is only active jointly with neighboring components. Space correlation calculation might be unreliable.\n",
      "WARNING:root:Component 41 is only active jointly with neighboring components. Space correlation calculation might be unreliable.\n",
      "2023-01-08 01:34:02.991238: E tensorflow/stream_executor/cuda/cuda_driver.cc:265] failed call to cuInit: CUDA_ERROR_NO_DEVICE: no CUDA-capable device is detected\n",
      "2023-01-08 01:34:02.991270: I tensorflow/stream_executor/cuda/cuda_diagnostics.cc:169] retrieving CUDA diagnostic information for host: hantman-calcium\n",
      "2023-01-08 01:34:02.991276: I tensorflow/stream_executor/cuda/cuda_diagnostics.cc:176] hostname: hantman-calcium\n",
      "2023-01-08 01:34:02.991406: I tensorflow/stream_executor/cuda/cuda_diagnostics.cc:200] libcuda reported version is: 470.161.3\n",
      "2023-01-08 01:34:02.991425: I tensorflow/stream_executor/cuda/cuda_diagnostics.cc:204] kernel reported version is: 470.161.3\n",
      "2023-01-08 01:34:02.991430: I tensorflow/stream_executor/cuda/cuda_diagnostics.cc:310] kernel version seems to match DSO: 470.161.3\n",
      "2023-01-08 01:34:02.991645: I tensorflow/core/platform/cpu_feature_guard.cc:193] This TensorFlow binary is optimized with oneAPI Deep Neural Network Library (oneDNN) to use the following CPU instructions in performance-critical operations:  AVX2 FMA\n",
      "To enable them in other operations, rebuild TensorFlow with the appropriate compiler flags.\n"
     ]
    },
    {
     "name": "stdout",
     "output_type": "stream",
     "text": [
      "performing CNMF\n",
      "fitting images\n",
      "refitting\n",
      "performing eval\n",
      "GPU run not requested, disabling use of GPUs\n",
      "USING MODEL (keras API): /home/kushalk/caiman_data/model/cnn_model.json\n",
      "12/12 [==============================] - 0s 10ms/step\n",
      "Decode mmap filename /home/kushalk/caiman_data/mesmerize-core-batch/09610b86-917a-41e7-a493-2d036bf44428/f4474d42-f6ae-4fba-a1a5-c181b4b1796e_cnmf-memmap_d1_170_d2_170_d3_1_order_C_frames_3000.mmap\n",
      "Decode mmap filename /home/kushalk/caiman_data/mesmerize-core-batch/09610b86-917a-41e7-a493-2d036bf44428/f4474d42-f6ae-4fba-a1a5-c181b4b1796e_cnmf-memmap_d1_170_d2_170_d3_1_order_C_frames_3000.mmap\n",
      "Decode mmap filename /home/kushalk/caiman_data/mesmerize-core-batch/09610b86-917a-41e7-a493-2d036bf44428/f4474d42-f6ae-4fba-a1a5-c181b4b1796e_cnmf-memmap_d1_170_d2_170_d3_1_order_C_frames_3000.mmap\n",
      "Decode mmap filename /home/kushalk/caiman_data/mesmerize-core-batch/09610b86-917a-41e7-a493-2d036bf44428/f4474d42-f6ae-4fba-a1a5-c181b4b1796e_cnmf-memmap_d1_170_d2_170_d3_1_order_C_frames_3000.mmap\n",
      "Decode mmap filename /home/kushalk/caiman_data/mesmerize-core-batch/09610b86-917a-41e7-a493-2d036bf44428/f4474d42-f6ae-4fba-a1a5-c181b4b1796e_cnmf-memmap_d1_170_d2_170_d3_1_order_C_frames_3000.mmap\n",
      "Decode mmap filename /home/kushalk/caiman_data/mesmerize-core-batch/09610b86-917a-41e7-a493-2d036bf44428/f4474d42-f6ae-4fba-a1a5-c181b4b1796e_cnmf-memmap_d1_170_d2_170_d3_1_order_C_frames_3000.mmap\n",
      "Decode mmap filename /home/kushalk/caiman_data/mesmerize-core-batch/09610b86-917a-41e7-a493-2d036bf44428/f4474d42-f6ae-4fba-a1a5-c181b4b1796e_cnmf-memmap_d1_170_d2_170_d3_1_order_C_frames_3000.mmap\n",
      "Decode mmap filename /home/kushalk/caiman_data/mesmerize-core-batch/09610b86-917a-41e7-a493-2d036bf44428/f4474d42-f6ae-4fba-a1a5-c181b4b1796e_cnmf-memmap_d1_170_d2_170_d3_1_order_C_frames_3000.mmap\n",
      "Decode mmap filename /home/kushalk/caiman_data/mesmerize-core-batch/09610b86-917a-41e7-a493-2d036bf44428/f4474d42-f6ae-4fba-a1a5-c181b4b1796e_cnmf-memmap_d1_170_d2_170_d3_1_order_C_frames_3000.mmap\n",
      "Decode mmap filename /home/kushalk/caiman_data/mesmerize-core-batch/09610b86-917a-41e7-a493-2d036bf44428/f4474d42-f6ae-4fba-a1a5-c181b4b1796e_cnmf-memmap_d1_170_d2_170_d3_1_order_C_frames_3000.mmap\n",
      "Decode mmap filename /home/kushalk/caiman_data/mesmerize-core-batch/09610b86-917a-41e7-a493-2d036bf44428/f4474d42-f6ae-4fba-a1a5-c181b4b1796e_cnmf-memmap_d1_170_d2_170_d3_1_order_C_frames_3000.mmap\n",
      "Decode mmap filename /home/kushalk/caiman_data/mesmerize-core-batch/09610b86-917a-41e7-a493-2d036bf44428/f4474d42-f6ae-4fba-a1a5-c181b4b1796e_cnmf-memmap_d1_170_d2_170_d3_1_order_C_frames_3000.mmap\n",
      "Decode mmap filename /home/kushalk/caiman_data/mesmerize-core-batch/09610b86-917a-41e7-a493-2d036bf44428/f4474d42-f6ae-4fba-a1a5-c181b4b1796e_cnmf-memmap_d1_170_d2_170_d3_1_order_C_frames_3000.mmap\n",
      "Decode mmap filename /home/kushalk/caiman_data/mesmerize-core-batch/09610b86-917a-41e7-a493-2d036bf44428/f4474d42-f6ae-4fba-a1a5-c181b4b1796e_cnmf-memmap_d1_170_d2_170_d3_1_order_C_frames_3000.mmap\n",
      "Decode mmap filename /home/kushalk/caiman_data/mesmerize-core-batch/09610b86-917a-41e7-a493-2d036bf44428/f4474d42-f6ae-4fba-a1a5-c181b4b1796e_cnmf-memmap_d1_170_d2_170_d3_1_order_C_frames_3000.mmap\n",
      "Decode mmap filename /home/kushalk/caiman_data/mesmerize-core-batch/09610b86-917a-41e7-a493-2d036bf44428/f4474d42-f6ae-4fba-a1a5-c181b4b1796e_cnmf-memmap_d1_170_d2_170_d3_1_order_C_frames_3000.mmap\n",
      "Decode mmap filename /home/kushalk/caiman_data/mesmerize-core-batch/09610b86-917a-41e7-a493-2d036bf44428/f4474d42-f6ae-4fba-a1a5-c181b4b1796e_cnmf-memmap_d1_170_d2_170_d3_1_order_C_frames_3000.mmap\n",
      "Decode mmap filename /home/kushalk/caiman_data/mesmerize-core-batch/09610b86-917a-41e7-a493-2d036bf44428/f4474d42-f6ae-4fba-a1a5-c181b4b1796e_cnmf-memmap_d1_170_d2_170_d3_1_order_C_frames_3000.mmap\n",
      "Decode mmap filename /home/kushalk/caiman_data/mesmerize-core-batch/09610b86-917a-41e7-a493-2d036bf44428/f4474d42-f6ae-4fba-a1a5-c181b4b1796e_cnmf-memmap_d1_170_d2_170_d3_1_order_C_frames_3000.mmap\n",
      "Decode mmap filename /home/kushalk/caiman_data/mesmerize-core-batch/09610b86-917a-41e7-a493-2d036bf44428/f4474d42-f6ae-4fba-a1a5-c181b4b1796e_cnmf-memmap_d1_170_d2_170_d3_1_order_C_frames_3000.mmap\n",
      "Decode mmap filename /home/kushalk/caiman_data/mesmerize-core-batch/09610b86-917a-41e7-a493-2d036bf44428/f4474d42-f6ae-4fba-a1a5-c181b4b1796e_cnmf-memmap_d1_170_d2_170_d3_1_order_C_frames_3000.mmap\n",
      "Decode mmap filename /home/kushalk/caiman_data/mesmerize-core-batch/09610b86-917a-41e7-a493-2d036bf44428/f4474d42-f6ae-4fba-a1a5-c181b4b1796e_cnmf-memmap_d1_170_d2_170_d3_1_order_C_frames_3000.mmap\n",
      "Decode mmap filename /home/kushalk/caiman_data/mesmerize-core-batch/09610b86-917a-41e7-a493-2d036bf44428/f4474d42-f6ae-4fba-a1a5-c181b4b1796e_cnmf-memmap_d1_170_d2_170_d3_1_order_C_frames_3000.mmap\n",
      "Decode mmap filename /home/kushalk/caiman_data/mesmerize-core-batch/09610b86-917a-41e7-a493-2d036bf44428/f4474d42-f6ae-4fba-a1a5-c181b4b1796e_cnmf-memmap_d1_170_d2_170_d3_1_order_C_frames_3000.mmap\n",
      "Decode mmap filename /home/kushalk/caiman_data/mesmerize-core-batch/09610b86-917a-41e7-a493-2d036bf44428/f4474d42-f6ae-4fba-a1a5-c181b4b1796e_cnmf-memmap_d1_170_d2_170_d3_1_order_C_frames_3000.mmap\n",
      "Decode mmap filename /home/kushalk/caiman_data/mesmerize-core-batch/09610b86-917a-41e7-a493-2d036bf44428/f4474d42-f6ae-4fba-a1a5-c181b4b1796e_cnmf-memmap_d1_170_d2_170_d3_1_order_C_frames_3000.mmap\n",
      "Decode mmap filename /home/kushalk/caiman_data/mesmerize-core-batch/09610b86-917a-41e7-a493-2d036bf44428/f4474d42-f6ae-4fba-a1a5-c181b4b1796e_cnmf-memmap_d1_170_d2_170_d3_1_order_C_frames_3000.mmap\n",
      "Decode mmap filename /home/kushalk/caiman_data/mesmerize-core-batch/09610b86-917a-41e7-a493-2d036bf44428/f4474d42-f6ae-4fba-a1a5-c181b4b1796e_cnmf-memmap_d1_170_d2_170_d3_1_order_C_frames_3000.mmap\n",
      "Decode mmap filename /home/kushalk/caiman_data/mesmerize-core-batch/09610b86-917a-41e7-a493-2d036bf44428/f4474d42-f6ae-4fba-a1a5-c181b4b1796e_cnmf-memmap_d1_170_d2_170_d3_1_order_C_frames_3000.mmap\n",
      "Decode mmap filename /home/kushalk/caiman_data/mesmerize-core-batch/09610b86-917a-41e7-a493-2d036bf44428/f4474d42-f6ae-4fba-a1a5-c181b4b1796e_cnmf-memmap_d1_170_d2_170_d3_1_order_C_frames_3000.mmap\n",
      "Decode mmap filename /home/kushalk/caiman_data/mesmerize-core-batch/09610b86-917a-41e7-a493-2d036bf44428/f4474d42-f6ae-4fba-a1a5-c181b4b1796e_cnmf-memmap_d1_170_d2_170_d3_1_order_C_frames_3000.mmap\n",
      "Decode mmap filename /home/kushalk/caiman_data/mesmerize-core-batch/09610b86-917a-41e7-a493-2d036bf44428/f4474d42-f6ae-4fba-a1a5-c181b4b1796e_cnmf-memmap_d1_170_d2_170_d3_1_order_C_frames_3000.mmap\n",
      "Decode mmap filename /home/kushalk/caiman_data/mesmerize-core-batch/09610b86-917a-41e7-a493-2d036bf44428/f4474d42-f6ae-4fba-a1a5-c181b4b1796e_cnmf-memmap_d1_170_d2_170_d3_1_order_C_frames_3000.mmap\n",
      "Decode mmap filename /home/kushalk/caiman_data/mesmerize-core-batch/09610b86-917a-41e7-a493-2d036bf44428/f4474d42-f6ae-4fba-a1a5-c181b4b1796e_cnmf-memmap_d1_170_d2_170_d3_1_order_C_frames_3000.mmap\n",
      "Decode mmap filename /home/kushalk/caiman_data/mesmerize-core-batch/09610b86-917a-41e7-a493-2d036bf44428/f4474d42-f6ae-4fba-a1a5-c181b4b1796e_cnmf-memmap_d1_170_d2_170_d3_1_order_C_frames_3000.mmap\n",
      "Decode mmap filename /home/kushalk/caiman_data/mesmerize-core-batch/09610b86-917a-41e7-a493-2d036bf44428/f4474d42-f6ae-4fba-a1a5-c181b4b1796e_cnmf-memmap_d1_170_d2_170_d3_1_order_C_frames_3000.mmap\n",
      "Decode mmap filename /home/kushalk/caiman_data/mesmerize-core-batch/09610b86-917a-41e7-a493-2d036bf44428/f4474d42-f6ae-4fba-a1a5-c181b4b1796e_cnmf-memmap_d1_170_d2_170_d3_1_order_C_frames_3000.mmap\n",
      "Decode mmap filename /home/kushalk/caiman_data/mesmerize-core-batch/09610b86-917a-41e7-a493-2d036bf44428/f4474d42-f6ae-4fba-a1a5-c181b4b1796e_cnmf-memmap_d1_170_d2_170_d3_1_order_C_frames_3000.mmap\n",
      "Decode mmap filename /home/kushalk/caiman_data/mesmerize-core-batch/09610b86-917a-41e7-a493-2d036bf44428/f4474d42-f6ae-4fba-a1a5-c181b4b1796e_cnmf-memmap_d1_170_d2_170_d3_1_order_C_frames_3000.mmap\n",
      "Decode mmap filename /home/kushalk/caiman_data/mesmerize-core-batch/09610b86-917a-41e7-a493-2d036bf44428/f4474d42-f6ae-4fba-a1a5-c181b4b1796e_cnmf-memmap_d1_170_d2_170_d3_1_order_C_frames_3000.mmap\n",
      "Decode mmap filename /home/kushalk/caiman_data/mesmerize-core-batch/09610b86-917a-41e7-a493-2d036bf44428/f4474d42-f6ae-4fba-a1a5-c181b4b1796e_cnmf-memmap_d1_170_d2_170_d3_1_order_C_frames_3000.mmap\n",
      "Decode mmap filename /home/kushalk/caiman_data/mesmerize-core-batch/09610b86-917a-41e7-a493-2d036bf44428/f4474d42-f6ae-4fba-a1a5-c181b4b1796e_cnmf-memmap_d1_170_d2_170_d3_1_order_C_frames_3000.mmap\n",
      "Decode mmap filename /home/kushalk/caiman_data/mesmerize-core-batch/09610b86-917a-41e7-a493-2d036bf44428/f4474d42-f6ae-4fba-a1a5-c181b4b1796e_cnmf-memmap_d1_170_d2_170_d3_1_order_C_frames_3000.mmap\n",
      "Decode mmap filename /home/kushalk/caiman_data/mesmerize-core-batch/09610b86-917a-41e7-a493-2d036bf44428/f4474d42-f6ae-4fba-a1a5-c181b4b1796e_cnmf-memmap_d1_170_d2_170_d3_1_order_C_frames_3000.mmap\n",
      "Decode mmap filename /home/kushalk/caiman_data/mesmerize-core-batch/09610b86-917a-41e7-a493-2d036bf44428/f4474d42-f6ae-4fba-a1a5-c181b4b1796e_cnmf-memmap_d1_170_d2_170_d3_1_order_C_frames_3000.mmap\n",
      "Decode mmap filename /home/kushalk/caiman_data/mesmerize-core-batch/09610b86-917a-41e7-a493-2d036bf44428/f4474d42-f6ae-4fba-a1a5-c181b4b1796e_cnmf-memmap_d1_170_d2_170_d3_1_order_C_frames_3000.mmap\n",
      "Decode mmap filename /home/kushalk/caiman_data/mesmerize-core-batch/09610b86-917a-41e7-a493-2d036bf44428/f4474d42-f6ae-4fba-a1a5-c181b4b1796e_cnmf-memmap_d1_170_d2_170_d3_1_order_C_frames_3000.mmap\n",
      "Decode mmap filename /home/kushalk/caiman_data/mesmerize-core-batch/09610b86-917a-41e7-a493-2d036bf44428/f4474d42-f6ae-4fba-a1a5-c181b4b1796e_cnmf-memmap_d1_170_d2_170_d3_1_order_C_frames_3000.mmap\n",
      "Decode mmap filename /home/kushalk/caiman_data/mesmerize-core-batch/09610b86-917a-41e7-a493-2d036bf44428/f4474d42-f6ae-4fba-a1a5-c181b4b1796e_cnmf-memmap_d1_170_d2_170_d3_1_order_C_frames_3000.mmap\n",
      "Decode mmap filename /home/kushalk/caiman_data/mesmerize-core-batch/09610b86-917a-41e7-a493-2d036bf44428/f4474d42-f6ae-4fba-a1a5-c181b4b1796e_cnmf-memmap_d1_170_d2_170_d3_1_order_C_frames_3000.mmap\n",
      "Decode mmap filename /home/kushalk/caiman_data/mesmerize-core-batch/09610b86-917a-41e7-a493-2d036bf44428/f4474d42-f6ae-4fba-a1a5-c181b4b1796e_cnmf-memmap_d1_170_d2_170_d3_1_order_C_frames_3000.mmap\n",
      "Decode mmap filename /home/kushalk/caiman_data/mesmerize-core-batch/09610b86-917a-41e7-a493-2d036bf44428/f4474d42-f6ae-4fba-a1a5-c181b4b1796e_cnmf-memmap_d1_170_d2_170_d3_1_order_C_frames_3000.mmap\n",
      "Decode mmap filename /home/kushalk/caiman_data/mesmerize-core-batch/09610b86-917a-41e7-a493-2d036bf44428/f4474d42-f6ae-4fba-a1a5-c181b4b1796e_cnmf-memmap_d1_170_d2_170_d3_1_order_C_frames_3000.mmap\n",
      "Decode mmap filename /home/kushalk/caiman_data/mesmerize-core-batch/09610b86-917a-41e7-a493-2d036bf44428/f4474d42-f6ae-4fba-a1a5-c181b4b1796e_cnmf-memmap_d1_170_d2_170_d3_1_order_C_frames_3000.mmap\n",
      "Decode mmap filename /home/kushalk/caiman_data/mesmerize-core-batch/09610b86-917a-41e7-a493-2d036bf44428/f4474d42-f6ae-4fba-a1a5-c181b4b1796e_cnmf-memmap_d1_170_d2_170_d3_1_order_C_frames_3000.mmap\n",
      "Decode mmap filename /home/kushalk/caiman_data/mesmerize-core-batch/09610b86-917a-41e7-a493-2d036bf44428/f4474d42-f6ae-4fba-a1a5-c181b4b1796e_cnmf-memmap_d1_170_d2_170_d3_1_order_C_frames_3000.mmap\n",
      "Decode mmap filename /home/kushalk/caiman_data/mesmerize-core-batch/09610b86-917a-41e7-a493-2d036bf44428/f4474d42-f6ae-4fba-a1a5-c181b4b1796e_cnmf-memmap_d1_170_d2_170_d3_1_order_C_frames_3000.mmap\n",
      "Decode mmap filename /home/kushalk/caiman_data/mesmerize-core-batch/09610b86-917a-41e7-a493-2d036bf44428/f4474d42-f6ae-4fba-a1a5-c181b4b1796e_cnmf-memmap_d1_170_d2_170_d3_1_order_C_frames_3000.mmap\n",
      "Decode mmap filename /home/kushalk/caiman_data/mesmerize-core-batch/09610b86-917a-41e7-a493-2d036bf44428/f4474d42-f6ae-4fba-a1a5-c181b4b1796e_cnmf-memmap_d1_170_d2_170_d3_1_order_C_frames_3000.mmap\n",
      "Decode mmap filename /home/kushalk/caiman_data/mesmerize-core-batch/09610b86-917a-41e7-a493-2d036bf44428/f4474d42-f6ae-4fba-a1a5-c181b4b1796e_cnmf-memmap_d1_170_d2_170_d3_1_order_C_frames_3000.mmap\n",
      "Decode mmap filename /home/kushalk/caiman_data/mesmerize-core-batch/09610b86-917a-41e7-a493-2d036bf44428/f4474d42-f6ae-4fba-a1a5-c181b4b1796e_cnmf-memmap_d1_170_d2_170_d3_1_order_C_frames_3000.mmap\n",
      "Decode mmap filename /home/kushalk/caiman_data/mesmerize-core-batch/09610b86-917a-41e7-a493-2d036bf44428/f4474d42-f6ae-4fba-a1a5-c181b4b1796e_cnmf-memmap_d1_170_d2_170_d3_1_order_C_frames_3000.mmap\n",
      "Decode mmap filename /home/kushalk/caiman_data/mesmerize-core-batch/09610b86-917a-41e7-a493-2d036bf44428/f4474d42-f6ae-4fba-a1a5-c181b4b1796e_cnmf-memmap_d1_170_d2_170_d3_1_order_C_frames_3000.mmap\n",
      "Decode mmap filename /home/kushalk/caiman_data/mesmerize-core-batch/09610b86-917a-41e7-a493-2d036bf44428/f4474d42-f6ae-4fba-a1a5-c181b4b1796e_cnmf-memmap_d1_170_d2_170_d3_1_order_C_frames_3000.mmap\n",
      "Decode mmap filename /home/kushalk/caiman_data/mesmerize-core-batch/09610b86-917a-41e7-a493-2d036bf44428/f4474d42-f6ae-4fba-a1a5-c181b4b1796e_cnmf-memmap_d1_170_d2_170_d3_1_order_C_frames_3000.mmap\n",
      "Decode mmap filename /home/kushalk/caiman_data/mesmerize-core-batch/09610b86-917a-41e7-a493-2d036bf44428/f4474d42-f6ae-4fba-a1a5-c181b4b1796e_cnmf-memmap_d1_170_d2_170_d3_1_order_C_frames_3000.mmap\n",
      "Decode mmap filename /home/kushalk/caiman_data/mesmerize-core-batch/09610b86-917a-41e7-a493-2d036bf44428/f4474d42-f6ae-4fba-a1a5-c181b4b1796e_cnmf-memmap_d1_170_d2_170_d3_1_order_C_frames_3000.mmap\n",
      "Decode mmap filename /home/kushalk/caiman_data/mesmerize-core-batch/09610b86-917a-41e7-a493-2d036bf44428/f4474d42-f6ae-4fba-a1a5-c181b4b1796e_cnmf-memmap_d1_170_d2_170_d3_1_order_C_frames_3000.mmap\n",
      "Decode mmap filename /home/kushalk/caiman_data/mesmerize-core-batch/09610b86-917a-41e7-a493-2d036bf44428/f4474d42-f6ae-4fba-a1a5-c181b4b1796e_cnmf-memmap_d1_170_d2_170_d3_1_order_C_frames_3000.mmap\n",
      "Decode mmap filename /home/kushalk/caiman_data/mesmerize-core-batch/09610b86-917a-41e7-a493-2d036bf44428/f4474d42-f6ae-4fba-a1a5-c181b4b1796e_cnmf-memmap_d1_170_d2_170_d3_1_order_C_frames_3000.mmap\n",
      "Decode mmap filename /home/kushalk/caiman_data/mesmerize-core-batch/09610b86-917a-41e7-a493-2d036bf44428/f4474d42-f6ae-4fba-a1a5-c181b4b1796e_cnmf-memmap_d1_170_d2_170_d3_1_order_C_frames_3000.mmap\n",
      "Decode mmap filename /home/kushalk/caiman_data/mesmerize-core-batch/09610b86-917a-41e7-a493-2d036bf44428/f4474d42-f6ae-4fba-a1a5-c181b4b1796e_cnmf-memmap_d1_170_d2_170_d3_1_order_C_frames_3000.mmap\n",
      "Decode mmap filename /home/kushalk/caiman_data/mesmerize-core-batch/09610b86-917a-41e7-a493-2d036bf44428/f4474d42-f6ae-4fba-a1a5-c181b4b1796e_cnmf-memmap_d1_170_d2_170_d3_1_order_C_frames_3000.mmap\n",
      "Decode mmap filename /home/kushalk/caiman_data/mesmerize-core-batch/09610b86-917a-41e7-a493-2d036bf44428/f4474d42-f6ae-4fba-a1a5-c181b4b1796e_cnmf-memmap_d1_170_d2_170_d3_1_order_C_frames_3000.mmap\n",
      "Decode mmap filename /home/kushalk/caiman_data/mesmerize-core-batch/09610b86-917a-41e7-a493-2d036bf44428/f4474d42-f6ae-4fba-a1a5-c181b4b1796e_cnmf-memmap_d1_170_d2_170_d3_1_order_C_frames_3000.mmap\n",
      "Decode mmap filename /home/kushalk/caiman_data/mesmerize-core-batch/09610b86-917a-41e7-a493-2d036bf44428/f4474d42-f6ae-4fba-a1a5-c181b4b1796e_cnmf-memmap_d1_170_d2_170_d3_1_order_C_frames_3000.mmap\n",
      "Decode mmap filename /home/kushalk/caiman_data/mesmerize-core-batch/09610b86-917a-41e7-a493-2d036bf44428/f4474d42-f6ae-4fba-a1a5-c181b4b1796e_cnmf-memmap_d1_170_d2_170_d3_1_order_C_frames_3000.mmap\n",
      "Decode mmap filename /home/kushalk/caiman_data/mesmerize-core-batch/09610b86-917a-41e7-a493-2d036bf44428/f4474d42-f6ae-4fba-a1a5-c181b4b1796e_cnmf-memmap_d1_170_d2_170_d3_1_order_C_frames_3000.mmap\n",
      "Decode mmap filename /home/kushalk/caiman_data/mesmerize-core-batch/09610b86-917a-41e7-a493-2d036bf44428/f4474d42-f6ae-4fba-a1a5-c181b4b1796e_cnmf-memmap_d1_170_d2_170_d3_1_order_C_frames_3000.mmap\n",
      "Decode mmap filename /home/kushalk/caiman_data/mesmerize-core-batch/09610b86-917a-41e7-a493-2d036bf44428/f4474d42-f6ae-4fba-a1a5-c181b4b1796e_cnmf-memmap_d1_170_d2_170_d3_1_order_C_frames_3000.mmap\n",
      "Decode mmap filename /home/kushalk/caiman_data/mesmerize-core-batch/09610b86-917a-41e7-a493-2d036bf44428/f4474d42-f6ae-4fba-a1a5-c181b4b1796e_cnmf-memmap_d1_170_d2_170_d3_1_order_C_frames_3000.mmap\n",
      "Decode mmap filename /home/kushalk/caiman_data/mesmerize-core-batch/09610b86-917a-41e7-a493-2d036bf44428/f4474d42-f6ae-4fba-a1a5-c181b4b1796e_cnmf-memmap_d1_170_d2_170_d3_1_order_C_frames_3000.mmap\n",
      "Decode mmap filename /home/kushalk/caiman_data/mesmerize-core-batch/09610b86-917a-41e7-a493-2d036bf44428/f4474d42-f6ae-4fba-a1a5-c181b4b1796e_cnmf-memmap_d1_170_d2_170_d3_1_order_C_frames_3000.mmap\n",
      "Decode mmap filename /home/kushalk/caiman_data/mesmerize-core-batch/09610b86-917a-41e7-a493-2d036bf44428/f4474d42-f6ae-4fba-a1a5-c181b4b1796e_cnmf-memmap_d1_170_d2_170_d3_1_order_C_frames_3000.mmap\n",
      "Decode mmap filename /home/kushalk/caiman_data/mesmerize-core-batch/09610b86-917a-41e7-a493-2d036bf44428/f4474d42-f6ae-4fba-a1a5-c181b4b1796e_cnmf-memmap_d1_170_d2_170_d3_1_order_C_frames_3000.mmap\n",
      "Decode mmap filename /home/kushalk/caiman_data/mesmerize-core-batch/09610b86-917a-41e7-a493-2d036bf44428/f4474d42-f6ae-4fba-a1a5-c181b4b1796e_cnmf-memmap_d1_170_d2_170_d3_1_order_C_frames_3000.mmap\n",
      "Decode mmap filename /home/kushalk/caiman_data/mesmerize-core-batch/09610b86-917a-41e7-a493-2d036bf44428/f4474d42-f6ae-4fba-a1a5-c181b4b1796e_cnmf-memmap_d1_170_d2_170_d3_1_order_C_frames_3000.mmap\n",
      "Decode mmap filename /home/kushalk/caiman_data/mesmerize-core-batch/09610b86-917a-41e7-a493-2d036bf44428/f4474d42-f6ae-4fba-a1a5-c181b4b1796e_cnmf-memmap_d1_170_d2_170_d3_1_order_C_frames_3000.mmap\n",
      "Decode mmap filename /home/kushalk/caiman_data/mesmerize-core-batch/09610b86-917a-41e7-a493-2d036bf44428/f4474d42-f6ae-4fba-a1a5-c181b4b1796e_cnmf-memmap_d1_170_d2_170_d3_1_order_C_frames_3000.mmap\n",
      "Decode mmap filename /home/kushalk/caiman_data/mesmerize-core-batch/09610b86-917a-41e7-a493-2d036bf44428/f4474d42-f6ae-4fba-a1a5-c181b4b1796e_cnmf-memmap_d1_170_d2_170_d3_1_order_C_frames_3000.mmap\n",
      "Decode mmap filename /home/kushalk/caiman_data/mesmerize-core-batch/09610b86-917a-41e7-a493-2d036bf44428/f4474d42-f6ae-4fba-a1a5-c181b4b1796e_cnmf-memmap_d1_170_d2_170_d3_1_order_C_frames_3000.mmap\n",
      "Decode mmap filename /home/kushalk/caiman_data/mesmerize-core-batch/09610b86-917a-41e7-a493-2d036bf44428/f4474d42-f6ae-4fba-a1a5-c181b4b1796e_cnmf-memmap_d1_170_d2_170_d3_1_order_C_frames_3000.mmap\n",
      "Decode mmap filename /home/kushalk/caiman_data/mesmerize-core-batch/09610b86-917a-41e7-a493-2d036bf44428/f4474d42-f6ae-4fba-a1a5-c181b4b1796e_cnmf-memmap_d1_170_d2_170_d3_1_order_C_frames_3000.mmap\n",
      "Decode mmap filename /home/kushalk/caiman_data/mesmerize-core-batch/09610b86-917a-41e7-a493-2d036bf44428/f4474d42-f6ae-4fba-a1a5-c181b4b1796e_cnmf-memmap_d1_170_d2_170_d3_1_order_C_frames_3000.mmap\n",
      "Decode mmap filename /home/kushalk/caiman_data/mesmerize-core-batch/09610b86-917a-41e7-a493-2d036bf44428/f4474d42-f6ae-4fba-a1a5-c181b4b1796e_cnmf-memmap_d1_170_d2_170_d3_1_order_C_frames_3000.mmap\n",
      "Decode mmap filename /home/kushalk/caiman_data/mesmerize-core-batch/09610b86-917a-41e7-a493-2d036bf44428/f4474d42-f6ae-4fba-a1a5-c181b4b1796e_cnmf-memmap_d1_170_d2_170_d3_1_order_C_frames_3000.mmap\n",
      "Decode mmap filename /home/kushalk/caiman_data/mesmerize-core-batch/09610b86-917a-41e7-a493-2d036bf44428/f4474d42-f6ae-4fba-a1a5-c181b4b1796e_cnmf-memmap_d1_170_d2_170_d3_1_order_C_frames_3000.mmap\n",
      "Decode mmap filename /home/kushalk/caiman_data/mesmerize-core-batch/09610b86-917a-41e7-a493-2d036bf44428/f4474d42-f6ae-4fba-a1a5-c181b4b1796e_cnmf-memmap_d1_170_d2_170_d3_1_order_C_frames_3000.mmap\n",
      "Decode mmap filename /home/kushalk/caiman_data/mesmerize-core-batch/09610b86-917a-41e7-a493-2d036bf44428/f4474d42-f6ae-4fba-a1a5-c181b4b1796e_cnmf-memmap_d1_170_d2_170_d3_1_order_C_frames_3000.mmap\n",
      "Decode mmap filename /home/kushalk/caiman_data/mesmerize-core-batch/09610b86-917a-41e7-a493-2d036bf44428/f4474d42-f6ae-4fba-a1a5-c181b4b1796e_cnmf-memmap_d1_170_d2_170_d3_1_order_C_frames_3000.mmap\n",
      "Decode mmap filename /home/kushalk/caiman_data/mesmerize-core-batch/09610b86-917a-41e7-a493-2d036bf44428/f4474d42-f6ae-4fba-a1a5-c181b4b1796e_cnmf-memmap_d1_170_d2_170_d3_1_order_C_frames_3000.mmap\n",
      "Decode mmap filename /home/kushalk/caiman_data/mesmerize-core-batch/09610b86-917a-41e7-a493-2d036bf44428/f4474d42-f6ae-4fba-a1a5-c181b4b1796e_cnmf-memmap_d1_170_d2_170_d3_1_order_C_frames_3000.mmap\n",
      "Decode mmap filename /home/kushalk/caiman_data/mesmerize-core-batch/09610b86-917a-41e7-a493-2d036bf44428/f4474d42-f6ae-4fba-a1a5-c181b4b1796e_cnmf-memmap_d1_170_d2_170_d3_1_order_C_frames_3000.mmap\n",
      "Decode mmap filename /home/kushalk/caiman_data/mesmerize-core-batch/09610b86-917a-41e7-a493-2d036bf44428/f4474d42-f6ae-4fba-a1a5-c181b4b1796e_cnmf-memmap_d1_170_d2_170_d3_1_order_C_frames_3000.mmap\n",
      "Decode mmap filename /home/kushalk/caiman_data/mesmerize-core-batch/09610b86-917a-41e7-a493-2d036bf44428/f4474d42-f6ae-4fba-a1a5-c181b4b1796e_cnmf-memmap_d1_170_d2_170_d3_1_order_C_frames_3000.mmap\n",
      "Decode mmap filename /home/kushalk/caiman_data/mesmerize-core-batch/09610b86-917a-41e7-a493-2d036bf44428/f4474d42-f6ae-4fba-a1a5-c181b4b1796e_cnmf-memmap_d1_170_d2_170_d3_1_order_C_frames_3000.mmap\n",
      "Decode mmap filename /home/kushalk/caiman_data/mesmerize-core-batch/09610b86-917a-41e7-a493-2d036bf44428/f4474d42-f6ae-4fba-a1a5-c181b4b1796e_cnmf-memmap_d1_170_d2_170_d3_1_order_C_frames_3000.mmap\n",
      "Decode mmap filename /home/kushalk/caiman_data/mesmerize-core-batch/09610b86-917a-41e7-a493-2d036bf44428/f4474d42-f6ae-4fba-a1a5-c181b4b1796e_cnmf-memmap_d1_170_d2_170_d3_1_order_C_frames_3000.mmap\n",
      "Decode mmap filename /home/kushalk/caiman_data/mesmerize-core-batch/09610b86-917a-41e7-a493-2d036bf44428/f4474d42-f6ae-4fba-a1a5-c181b4b1796e_cnmf-memmap_d1_170_d2_170_d3_1_order_C_frames_3000.mmap\n",
      "Decode mmap filename /home/kushalk/caiman_data/mesmerize-core-batch/09610b86-917a-41e7-a493-2d036bf44428/f4474d42-f6ae-4fba-a1a5-c181b4b1796e_cnmf-memmap_d1_170_d2_170_d3_1_order_C_frames_3000.mmap\n",
      "Decode mmap filename /home/kushalk/caiman_data/mesmerize-core-batch/09610b86-917a-41e7-a493-2d036bf44428/f4474d42-f6ae-4fba-a1a5-c181b4b1796e_cnmf-memmap_d1_170_d2_170_d3_1_order_C_frames_3000.mmap\n",
      "Decode mmap filename /home/kushalk/caiman_data/mesmerize-core-batch/09610b86-917a-41e7-a493-2d036bf44428/f4474d42-f6ae-4fba-a1a5-c181b4b1796e_cnmf-memmap_d1_170_d2_170_d3_1_order_C_frames_3000.mmap\n",
      "Decode mmap filename /home/kushalk/caiman_data/mesmerize-core-batch/09610b86-917a-41e7-a493-2d036bf44428/f4474d42-f6ae-4fba-a1a5-c181b4b1796e_cnmf-memmap_d1_170_d2_170_d3_1_order_C_frames_3000.mmap\n",
      "Decode mmap filename /home/kushalk/caiman_data/mesmerize-core-batch/09610b86-917a-41e7-a493-2d036bf44428/f4474d42-f6ae-4fba-a1a5-c181b4b1796e_cnmf-memmap_d1_170_d2_170_d3_1_order_C_frames_3000.mmap\n",
      "Decode mmap filename /home/kushalk/caiman_data/mesmerize-core-batch/09610b86-917a-41e7-a493-2d036bf44428/f4474d42-f6ae-4fba-a1a5-c181b4b1796e_cnmf-memmap_d1_170_d2_170_d3_1_order_C_frames_3000.mmap\n",
      "Decode mmap filename /home/kushalk/caiman_data/mesmerize-core-batch/09610b86-917a-41e7-a493-2d036bf44428/f4474d42-f6ae-4fba-a1a5-c181b4b1796e_cnmf-memmap_d1_170_d2_170_d3_1_order_C_frames_3000.mmap\n",
      "Decode mmap filename /home/kushalk/caiman_data/mesmerize-core-batch/09610b86-917a-41e7-a493-2d036bf44428/f4474d42-f6ae-4fba-a1a5-c181b4b1796e_cnmf-memmap_d1_170_d2_170_d3_1_order_C_frames_3000.mmap\n",
      "Decode mmap filename /home/kushalk/caiman_data/mesmerize-core-batch/09610b86-917a-41e7-a493-2d036bf44428/f4474d42-f6ae-4fba-a1a5-c181b4b1796e_cnmf-memmap_d1_170_d2_170_d3_1_order_C_frames_3000.mmap\n",
      "Decode mmap filename /home/kushalk/caiman_data/mesmerize-core-batch/09610b86-917a-41e7-a493-2d036bf44428/f4474d42-f6ae-4fba-a1a5-c181b4b1796e_cnmf-memmap_d1_170_d2_170_d3_1_order_C_frames_3000.mmap\n",
      "Decode mmap filename /home/kushalk/caiman_data/mesmerize-core-batch/09610b86-917a-41e7-a493-2d036bf44428/f4474d42-f6ae-4fba-a1a5-c181b4b1796e_cnmf-memmap_d1_170_d2_170_d3_1_order_C_frames_3000.mmap\n",
      "Decode mmap filename /home/kushalk/caiman_data/mesmerize-core-batch/09610b86-917a-41e7-a493-2d036bf44428/f4474d42-f6ae-4fba-a1a5-c181b4b1796e_cnmf-memmap_d1_170_d2_170_d3_1_order_C_frames_3000.mmap\n",
      "Decode mmap filename /home/kushalk/caiman_data/mesmerize-core-batch/09610b86-917a-41e7-a493-2d036bf44428/f4474d42-f6ae-4fba-a1a5-c181b4b1796e_cnmf-memmap_d1_170_d2_170_d3_1_order_C_frames_3000.mmap\n",
      "Decode mmap filename /home/kushalk/caiman_data/mesmerize-core-batch/09610b86-917a-41e7-a493-2d036bf44428/f4474d42-f6ae-4fba-a1a5-c181b4b1796e_cnmf-memmap_d1_170_d2_170_d3_1_order_C_frames_3000.mmap\n",
      "Decode mmap filename /home/kushalk/caiman_data/mesmerize-core-batch/09610b86-917a-41e7-a493-2d036bf44428/f4474d42-f6ae-4fba-a1a5-c181b4b1796e_cnmf-memmap_d1_170_d2_170_d3_1_order_C_frames_3000.mmap\n",
      "Decode mmap filename /home/kushalk/caiman_data/mesmerize-core-batch/09610b86-917a-41e7-a493-2d036bf44428/f4474d42-f6ae-4fba-a1a5-c181b4b1796e_cnmf-memmap_d1_170_d2_170_d3_1_order_C_frames_3000.mmap\n",
      "Decode mmap filename /home/kushalk/caiman_data/mesmerize-core-batch/09610b86-917a-41e7-a493-2d036bf44428/f4474d42-f6ae-4fba-a1a5-c181b4b1796e_cnmf-memmap_d1_170_d2_170_d3_1_order_C_frames_3000.mmap\n",
      "Decode mmap filename /home/kushalk/caiman_data/mesmerize-core-batch/09610b86-917a-41e7-a493-2d036bf44428/f4474d42-f6ae-4fba-a1a5-c181b4b1796e_cnmf-memmap_d1_170_d2_170_d3_1_order_C_frames_3000.mmap\n",
      "Decode mmap filename /home/kushalk/caiman_data/mesmerize-core-batch/09610b86-917a-41e7-a493-2d036bf44428/f4474d42-f6ae-4fba-a1a5-c181b4b1796e_cnmf-memmap_d1_170_d2_170_d3_1_order_C_frames_3000.mmap\n",
      "Decode mmap filename /home/kushalk/caiman_data/mesmerize-core-batch/09610b86-917a-41e7-a493-2d036bf44428/f4474d42-f6ae-4fba-a1a5-c181b4b1796e_cnmf-memmap_d1_170_d2_170_d3_1_order_C_frames_3000.mmap\n",
      "Decode mmap filename /home/kushalk/caiman_data/mesmerize-core-batch/09610b86-917a-41e7-a493-2d036bf44428/f4474d42-f6ae-4fba-a1a5-c181b4b1796e_cnmf-memmap_d1_170_d2_170_d3_1_order_C_frames_3000.mmap\n",
      "Decode mmap filename /home/kushalk/caiman_data/mesmerize-core-batch/09610b86-917a-41e7-a493-2d036bf44428/f4474d42-f6ae-4fba-a1a5-c181b4b1796e_cnmf-memmap_d1_170_d2_170_d3_1_order_C_frames_3000.mmap\n",
      "Decode mmap filename /home/kushalk/caiman_data/mesmerize-core-batch/09610b86-917a-41e7-a493-2d036bf44428/f4474d42-f6ae-4fba-a1a5-c181b4b1796e_cnmf-memmap_d1_170_d2_170_d3_1_order_C_frames_3000.mmap\n",
      "Decode mmap filename /home/kushalk/caiman_data/mesmerize-core-batch/09610b86-917a-41e7-a493-2d036bf44428/f4474d42-f6ae-4fba-a1a5-c181b4b1796e_cnmf-memmap_d1_170_d2_170_d3_1_order_C_frames_3000.mmap\n",
      "Decode mmap filename /home/kushalk/caiman_data/mesmerize-core-batch/09610b86-917a-41e7-a493-2d036bf44428/f4474d42-f6ae-4fba-a1a5-c181b4b1796e_cnmf-memmap_d1_170_d2_170_d3_1_order_C_frames_3000.mmap\n",
      "Decode mmap filename /home/kushalk/caiman_data/mesmerize-core-batch/09610b86-917a-41e7-a493-2d036bf44428/f4474d42-f6ae-4fba-a1a5-c181b4b1796e_cnmf-memmap_d1_170_d2_170_d3_1_order_C_frames_3000.mmap\n",
      "Decode mmap filename /home/kushalk/caiman_data/mesmerize-core-batch/09610b86-917a-41e7-a493-2d036bf44428/f4474d42-f6ae-4fba-a1a5-c181b4b1796e_cnmf-memmap_d1_170_d2_170_d3_1_order_C_frames_3000.mmap\n",
      "Decode mmap filename /home/kushalk/caiman_data/mesmerize-core-batch/09610b86-917a-41e7-a493-2d036bf44428/f4474d42-f6ae-4fba-a1a5-c181b4b1796e_cnmf-memmap_d1_170_d2_170_d3_1_order_C_frames_3000.mmap\n",
      "Decode mmap filename /home/kushalk/caiman_data/mesmerize-core-batch/09610b86-917a-41e7-a493-2d036bf44428/f4474d42-f6ae-4fba-a1a5-c181b4b1796e_cnmf-memmap_d1_170_d2_170_d3_1_order_C_frames_3000.mmap\n",
      "Decode mmap filename /home/kushalk/caiman_data/mesmerize-core-batch/09610b86-917a-41e7-a493-2d036bf44428/f4474d42-f6ae-4fba-a1a5-c181b4b1796e_cnmf-memmap_d1_170_d2_170_d3_1_order_C_frames_3000.mmap\n",
      "Decode mmap filename /home/kushalk/caiman_data/mesmerize-core-batch/09610b86-917a-41e7-a493-2d036bf44428/f4474d42-f6ae-4fba-a1a5-c181b4b1796e_cnmf-memmap_d1_170_d2_170_d3_1_order_C_frames_3000.mmap\n",
      "Decode mmap filename /home/kushalk/caiman_data/mesmerize-core-batch/09610b86-917a-41e7-a493-2d036bf44428/f4474d42-f6ae-4fba-a1a5-c181b4b1796e_cnmf-memmap_d1_170_d2_170_d3_1_order_C_frames_3000.mmap\n",
      "Decode mmap filename /home/kushalk/caiman_data/mesmerize-core-batch/09610b86-917a-41e7-a493-2d036bf44428/f4474d42-f6ae-4fba-a1a5-c181b4b1796e_cnmf-memmap_d1_170_d2_170_d3_1_order_C_frames_3000.mmap\n",
      "Decode mmap filename /home/kushalk/caiman_data/mesmerize-core-batch/09610b86-917a-41e7-a493-2d036bf44428/f4474d42-f6ae-4fba-a1a5-c181b4b1796e_cnmf-memmap_d1_170_d2_170_d3_1_order_C_frames_3000.mmap\n",
      "Decode mmap filename /home/kushalk/caiman_data/mesmerize-core-batch/09610b86-917a-41e7-a493-2d036bf44428/f4474d42-f6ae-4fba-a1a5-c181b4b1796e_cnmf-memmap_d1_170_d2_170_d3_1_order_C_frames_3000.mmap\n",
      "Decode mmap filename /home/kushalk/caiman_data/mesmerize-core-batch/09610b86-917a-41e7-a493-2d036bf44428/f4474d42-f6ae-4fba-a1a5-c181b4b1796e_cnmf-memmap_d1_170_d2_170_d3_1_order_C_frames_3000.mmap\n",
      "Decode mmap filename /home/kushalk/caiman_data/mesmerize-core-batch/09610b86-917a-41e7-a493-2d036bf44428/f4474d42-f6ae-4fba-a1a5-c181b4b1796e_cnmf-memmap_d1_170_d2_170_d3_1_order_C_frames_3000.mmap\n",
      "Decode mmap filename /home/kushalk/caiman_data/mesmerize-core-batch/09610b86-917a-41e7-a493-2d036bf44428/f4474d42-f6ae-4fba-a1a5-c181b4b1796e_cnmf-memmap_d1_170_d2_170_d3_1_order_C_frames_3000.mmap\n",
      "Decode mmap filename /home/kushalk/caiman_data/mesmerize-core-batch/09610b86-917a-41e7-a493-2d036bf44428/f4474d42-f6ae-4fba-a1a5-c181b4b1796e_cnmf-memmap_d1_170_d2_170_d3_1_order_C_frames_3000.mmap\n",
      "Decode mmap filename /home/kushalk/caiman_data/mesmerize-core-batch/09610b86-917a-41e7-a493-2d036bf44428/f4474d42-f6ae-4fba-a1a5-c181b4b1796e_cnmf-memmap_d1_170_d2_170_d3_1_order_C_frames_3000.mmap\n",
      "Decode mmap filename /home/kushalk/caiman_data/mesmerize-core-batch/09610b86-917a-41e7-a493-2d036bf44428/f4474d42-f6ae-4fba-a1a5-c181b4b1796e_cnmf-memmap_d1_170_d2_170_d3_1_order_C_frames_3000.mmap\n",
      "Decode mmap filename /home/kushalk/caiman_data/mesmerize-core-batch/09610b86-917a-41e7-a493-2d036bf44428/f4474d42-f6ae-4fba-a1a5-c181b4b1796e_cnmf-memmap_d1_170_d2_170_d3_1_order_C_frames_3000.mmap\n",
      "Decode mmap filename /home/kushalk/caiman_data/mesmerize-core-batch/09610b86-917a-41e7-a493-2d036bf44428/f4474d42-f6ae-4fba-a1a5-c181b4b1796e_cnmf-memmap_d1_170_d2_170_d3_1_order_C_frames_3000.mmap\n",
      "Decode mmap filename /home/kushalk/caiman_data/mesmerize-core-batch/09610b86-917a-41e7-a493-2d036bf44428/f4474d42-f6ae-4fba-a1a5-c181b4b1796e_cnmf-memmap_d1_170_d2_170_d3_1_order_C_frames_3000.mmap\n",
      "Decode mmap filename /home/kushalk/caiman_data/mesmerize-core-batch/09610b86-917a-41e7-a493-2d036bf44428/f4474d42-f6ae-4fba-a1a5-c181b4b1796e_cnmf-memmap_d1_170_d2_170_d3_1_order_C_frames_3000.mmap\n",
      "Decode mmap filename /home/kushalk/caiman_data/mesmerize-core-batch/09610b86-917a-41e7-a493-2d036bf44428/f4474d42-f6ae-4fba-a1a5-c181b4b1796e_cnmf-memmap_d1_170_d2_170_d3_1_order_C_frames_3000.mmap\n",
      "Decode mmap filename /home/kushalk/caiman_data/mesmerize-core-batch/09610b86-917a-41e7-a493-2d036bf44428/f4474d42-f6ae-4fba-a1a5-c181b4b1796e_cnmf-memmap_d1_170_d2_170_d3_1_order_C_frames_3000.mmap\n",
      "Decode mmap filename /home/kushalk/caiman_data/mesmerize-core-batch/09610b86-917a-41e7-a493-2d036bf44428/f4474d42-f6ae-4fba-a1a5-c181b4b1796e_cnmf-memmap_d1_170_d2_170_d3_1_order_C_frames_3000.mmap\n",
      "Decode mmap filename /home/kushalk/caiman_data/mesmerize-core-batch/09610b86-917a-41e7-a493-2d036bf44428/f4474d42-f6ae-4fba-a1a5-c181b4b1796e_cnmf-memmap_d1_170_d2_170_d3_1_order_C_frames_3000.mmap\n",
      "Decode mmap filename /home/kushalk/caiman_data/mesmerize-core-batch/09610b86-917a-41e7-a493-2d036bf44428/f4474d42-f6ae-4fba-a1a5-c181b4b1796e_cnmf-memmap_d1_170_d2_170_d3_1_order_C_frames_3000.mmap\n",
      "Decode mmap filename /home/kushalk/caiman_data/mesmerize-core-batch/09610b86-917a-41e7-a493-2d036bf44428/f4474d42-f6ae-4fba-a1a5-c181b4b1796e_cnmf-memmap_d1_170_d2_170_d3_1_order_C_frames_3000.mmap\n",
      "Decode mmap filename /home/kushalk/caiman_data/mesmerize-core-batch/09610b86-917a-41e7-a493-2d036bf44428/f4474d42-f6ae-4fba-a1a5-c181b4b1796e_cnmf-memmap_d1_170_d2_170_d3_1_order_C_frames_3000.mmap\n",
      "Decode mmap filename /home/kushalk/caiman_data/mesmerize-core-batch/09610b86-917a-41e7-a493-2d036bf44428/f4474d42-f6ae-4fba-a1a5-c181b4b1796e_cnmf-memmap_d1_170_d2_170_d3_1_order_C_frames_3000.mmap\n",
      "Decode mmap filename /home/kushalk/caiman_data/mesmerize-core-batch/09610b86-917a-41e7-a493-2d036bf44428/f4474d42-f6ae-4fba-a1a5-c181b4b1796e_cnmf-memmap_d1_170_d2_170_d3_1_order_C_frames_3000.mmap\n",
      "Decode mmap filename /home/kushalk/caiman_data/mesmerize-core-batch/09610b86-917a-41e7-a493-2d036bf44428/f4474d42-f6ae-4fba-a1a5-c181b4b1796e_cnmf-memmap_d1_170_d2_170_d3_1_order_C_frames_3000.mmap\n",
      "Decode mmap filename /home/kushalk/caiman_data/mesmerize-core-batch/09610b86-917a-41e7-a493-2d036bf44428/f4474d42-f6ae-4fba-a1a5-c181b4b1796e_cnmf-memmap_d1_170_d2_170_d3_1_order_C_frames_3000.mmap\n",
      "Decode mmap filename /home/kushalk/caiman_data/mesmerize-core-batch/09610b86-917a-41e7-a493-2d036bf44428/f4474d42-f6ae-4fba-a1a5-c181b4b1796e_cnmf-memmap_d1_170_d2_170_d3_1_order_C_frames_3000.mmap\n",
      "Decode mmap filename /home/kushalk/caiman_data/mesmerize-core-batch/09610b86-917a-41e7-a493-2d036bf44428/f4474d42-f6ae-4fba-a1a5-c181b4b1796e_cnmf-memmap_d1_170_d2_170_d3_1_order_C_frames_3000.mmap\n",
      "Decode mmap filename /home/kushalk/caiman_data/mesmerize-core-batch/09610b86-917a-41e7-a493-2d036bf44428/f4474d42-f6ae-4fba-a1a5-c181b4b1796e_cnmf-memmap_d1_170_d2_170_d3_1_order_C_frames_3000.mmap\n",
      "Decode mmap filename /home/kushalk/caiman_data/mesmerize-core-batch/09610b86-917a-41e7-a493-2d036bf44428/f4474d42-f6ae-4fba-a1a5-c181b4b1796e_cnmf-memmap_d1_170_d2_170_d3_1_order_C_frames_3000.mmap\n",
      "Decode mmap filename /home/kushalk/caiman_data/mesmerize-core-batch/09610b86-917a-41e7-a493-2d036bf44428/f4474d42-f6ae-4fba-a1a5-c181b4b1796e_cnmf-memmap_d1_170_d2_170_d3_1_order_C_frames_3000.mmap\n",
      "Decode mmap filename /home/kushalk/caiman_data/mesmerize-core-batch/09610b86-917a-41e7-a493-2d036bf44428/f4474d42-f6ae-4fba-a1a5-c181b4b1796e_cnmf-memmap_d1_170_d2_170_d3_1_order_C_frames_3000.mmap\n",
      "Decode mmap filename /home/kushalk/caiman_data/mesmerize-core-batch/09610b86-917a-41e7-a493-2d036bf44428/f4474d42-f6ae-4fba-a1a5-c181b4b1796e_cnmf-memmap_d1_170_d2_170_d3_1_order_C_frames_3000.mmap\n",
      "Decode mmap filename /home/kushalk/caiman_data/mesmerize-core-batch/09610b86-917a-41e7-a493-2d036bf44428/f4474d42-f6ae-4fba-a1a5-c181b4b1796e_cnmf-memmap_d1_170_d2_170_d3_1_order_C_frames_3000.mmap\n",
      "Decode mmap filename /home/kushalk/caiman_data/mesmerize-core-batch/09610b86-917a-41e7-a493-2d036bf44428/f4474d42-f6ae-4fba-a1a5-c181b4b1796e_cnmf-memmap_d1_170_d2_170_d3_1_order_C_frames_3000.mmap\n",
      "Decode mmap filename /home/kushalk/caiman_data/mesmerize-core-batch/09610b86-917a-41e7-a493-2d036bf44428/f4474d42-f6ae-4fba-a1a5-c181b4b1796e_cnmf-memmap_d1_170_d2_170_d3_1_order_C_frames_3000.mmap\n",
      "Decode mmap filename /home/kushalk/caiman_data/mesmerize-core-batch/09610b86-917a-41e7-a493-2d036bf44428/f4474d42-f6ae-4fba-a1a5-c181b4b1796e_cnmf-memmap_d1_170_d2_170_d3_1_order_C_frames_3000.mmap\n",
      "Decode mmap filename /home/kushalk/caiman_data/mesmerize-core-batch/09610b86-917a-41e7-a493-2d036bf44428/f4474d42-f6ae-4fba-a1a5-c181b4b1796e_cnmf-memmap_d1_170_d2_170_d3_1_order_C_frames_3000.mmap\n",
      "Decode mmap filename /home/kushalk/caiman_data/mesmerize-core-batch/09610b86-917a-41e7-a493-2d036bf44428/f4474d42-f6ae-4fba-a1a5-c181b4b1796e_cnmf-memmap_d1_170_d2_170_d3_1_order_C_frames_3000.mmap\n",
      "Decode mmap filename /home/kushalk/caiman_data/mesmerize-core-batch/09610b86-917a-41e7-a493-2d036bf44428/f4474d42-f6ae-4fba-a1a5-c181b4b1796e_cnmf-memmap_d1_170_d2_170_d3_1_order_C_frames_3000.mmap\n",
      "Decode mmap filename /home/kushalk/caiman_data/mesmerize-core-batch/09610b86-917a-41e7-a493-2d036bf44428/f4474d42-f6ae-4fba-a1a5-c181b4b1796e_cnmf-memmap_d1_170_d2_170_d3_1_order_C_frames_3000.mmap\n",
      "Decode mmap filename /home/kushalk/caiman_data/mesmerize-core-batch/09610b86-917a-41e7-a493-2d036bf44428/f4474d42-f6ae-4fba-a1a5-c181b4b1796e_cnmf-memmap_d1_170_d2_170_d3_1_order_C_frames_3000.mmap\n",
      "Decode mmap filename /home/kushalk/caiman_data/mesmerize-core-batch/09610b86-917a-41e7-a493-2d036bf44428/f4474d42-f6ae-4fba-a1a5-c181b4b1796e_cnmf-memmap_d1_170_d2_170_d3_1_order_C_frames_3000.mmap\n",
      "Decode mmap filename /home/kushalk/caiman_data/mesmerize-core-batch/09610b86-917a-41e7-a493-2d036bf44428/f4474d42-f6ae-4fba-a1a5-c181b4b1796e_cnmf-memmap_d1_170_d2_170_d3_1_order_C_frames_3000.mmap\n",
      "Decode mmap filename /home/kushalk/caiman_data/mesmerize-core-batch/09610b86-917a-41e7-a493-2d036bf44428/f4474d42-f6ae-4fba-a1a5-c181b4b1796e_cnmf-memmap_d1_170_d2_170_d3_1_order_C_frames_3000.mmap\n",
      "Decode mmap filename /home/kushalk/caiman_data/mesmerize-core-batch/09610b86-917a-41e7-a493-2d036bf44428/f4474d42-f6ae-4fba-a1a5-c181b4b1796e_cnmf-memmap_d1_170_d2_170_d3_1_order_C_frames_3000.mmap\n",
      "Decode mmap filename /home/kushalk/caiman_data/mesmerize-core-batch/09610b86-917a-41e7-a493-2d036bf44428/f4474d42-f6ae-4fba-a1a5-c181b4b1796e_cnmf-memmap_d1_170_d2_170_d3_1_order_C_frames_3000.mmap\n",
      "Decode mmap filename /home/kushalk/caiman_data/mesmerize-core-batch/09610b86-917a-41e7-a493-2d036bf44428/f4474d42-f6ae-4fba-a1a5-c181b4b1796e_cnmf-memmap_d1_170_d2_170_d3_1_order_C_frames_3000.mmap\n",
      "Decode mmap filename /home/kushalk/caiman_data/mesmerize-core-batch/09610b86-917a-41e7-a493-2d036bf44428/f4474d42-f6ae-4fba-a1a5-c181b4b1796e_cnmf-memmap_d1_170_d2_170_d3_1_order_C_frames_3000.mmap\n",
      "Decode mmap filename /home/kushalk/caiman_data/mesmerize-core-batch/09610b86-917a-41e7-a493-2d036bf44428/f4474d42-f6ae-4fba-a1a5-c181b4b1796e_cnmf-memmap_d1_170_d2_170_d3_1_order_C_frames_3000.mmap\n",
      "Decode mmap filename /home/kushalk/caiman_data/mesmerize-core-batch/09610b86-917a-41e7-a493-2d036bf44428/f4474d42-f6ae-4fba-a1a5-c181b4b1796e_cnmf-memmap_d1_170_d2_170_d3_1_order_C_frames_3000.mmap\n",
      "Decode mmap filename /home/kushalk/caiman_data/mesmerize-core-batch/09610b86-917a-41e7-a493-2d036bf44428/f4474d42-f6ae-4fba-a1a5-c181b4b1796e_cnmf-memmap_d1_170_d2_170_d3_1_order_C_frames_3000.mmap\n",
      "Decode mmap filename /home/kushalk/caiman_data/mesmerize-core-batch/09610b86-917a-41e7-a493-2d036bf44428/f4474d42-f6ae-4fba-a1a5-c181b4b1796e_cnmf-memmap_d1_170_d2_170_d3_1_order_C_frames_3000.mmap\n",
      "Decode mmap filename /home/kushalk/caiman_data/mesmerize-core-batch/09610b86-917a-41e7-a493-2d036bf44428/f4474d42-f6ae-4fba-a1a5-c181b4b1796e_cnmf-memmap_d1_170_d2_170_d3_1_order_C_frames_3000.mmap\n",
      "Decode mmap filename /home/kushalk/caiman_data/mesmerize-core-batch/09610b86-917a-41e7-a493-2d036bf44428/f4474d42-f6ae-4fba-a1a5-c181b4b1796e_cnmf-memmap_d1_170_d2_170_d3_1_order_C_frames_3000.mmap\n",
      "Decode mmap filename /home/kushalk/caiman_data/mesmerize-core-batch/09610b86-917a-41e7-a493-2d036bf44428/f4474d42-f6ae-4fba-a1a5-c181b4b1796e_cnmf-memmap_d1_170_d2_170_d3_1_order_C_frames_3000.mmap\n",
      "Decode mmap filename /home/kushalk/caiman_data/mesmerize-core-batch/09610b86-917a-41e7-a493-2d036bf44428/f4474d42-f6ae-4fba-a1a5-c181b4b1796e_cnmf-memmap_d1_170_d2_170_d3_1_order_C_frames_3000.mmap\n",
      "Decode mmap filename /home/kushalk/caiman_data/mesmerize-core-batch/09610b86-917a-41e7-a493-2d036bf44428/f4474d42-f6ae-4fba-a1a5-c181b4b1796e_cnmf-memmap_d1_170_d2_170_d3_1_order_C_frames_3000.mmap\n",
      "Decode mmap filename /home/kushalk/caiman_data/mesmerize-core-batch/09610b86-917a-41e7-a493-2d036bf44428/f4474d42-f6ae-4fba-a1a5-c181b4b1796e_cnmf-memmap_d1_170_d2_170_d3_1_order_C_frames_3000.mmap\n",
      "Decode mmap filename /home/kushalk/caiman_data/mesmerize-core-batch/09610b86-917a-41e7-a493-2d036bf44428/f4474d42-f6ae-4fba-a1a5-c181b4b1796e_cnmf-memmap_d1_170_d2_170_d3_1_order_C_frames_3000.mmap\n",
      "Decode mmap filename /home/kushalk/caiman_data/mesmerize-core-batch/09610b86-917a-41e7-a493-2d036bf44428/f4474d42-f6ae-4fba-a1a5-c181b4b1796e_cnmf-memmap_d1_170_d2_170_d3_1_order_C_frames_3000.mmap\n",
      "Decode mmap filename /home/kushalk/caiman_data/mesmerize-core-batch/09610b86-917a-41e7-a493-2d036bf44428/f4474d42-f6ae-4fba-a1a5-c181b4b1796e_cnmf-memmap_d1_170_d2_170_d3_1_order_C_frames_3000.mmap\n",
      "Decode mmap filename /home/kushalk/caiman_data/mesmerize-core-batch/09610b86-917a-41e7-a493-2d036bf44428/f4474d42-f6ae-4fba-a1a5-c181b4b1796e_cnmf-memmap_d1_170_d2_170_d3_1_order_C_frames_3000.mmap\n",
      "Decode mmap filename /home/kushalk/caiman_data/mesmerize-core-batch/09610b86-917a-41e7-a493-2d036bf44428/f4474d42-f6ae-4fba-a1a5-c181b4b1796e_cnmf-memmap_d1_170_d2_170_d3_1_order_C_frames_3000.mmap\n",
      "Decode mmap filename /home/kushalk/caiman_data/mesmerize-core-batch/09610b86-917a-41e7-a493-2d036bf44428/f4474d42-f6ae-4fba-a1a5-c181b4b1796e_cnmf-memmap_d1_170_d2_170_d3_1_order_C_frames_3000.mmap\n",
      "Decode mmap filename /home/kushalk/caiman_data/mesmerize-core-batch/09610b86-917a-41e7-a493-2d036bf44428/f4474d42-f6ae-4fba-a1a5-c181b4b1796e_cnmf-memmap_d1_170_d2_170_d3_1_order_C_frames_3000.mmap\n",
      "Decode mmap filename /home/kushalk/caiman_data/mesmerize-core-batch/09610b86-917a-41e7-a493-2d036bf44428/f4474d42-f6ae-4fba-a1a5-c181b4b1796e_cnmf-memmap_d1_170_d2_170_d3_1_order_C_frames_3000.mmap\n",
      "Decode mmap filename /home/kushalk/caiman_data/mesmerize-core-batch/09610b86-917a-41e7-a493-2d036bf44428/f4474d42-f6ae-4fba-a1a5-c181b4b1796e_cnmf-memmap_d1_170_d2_170_d3_1_order_C_frames_3000.mmap\n",
      "Decode mmap filename /home/kushalk/caiman_data/mesmerize-core-batch/09610b86-917a-41e7-a493-2d036bf44428/f4474d42-f6ae-4fba-a1a5-c181b4b1796e_cnmf-memmap_d1_170_d2_170_d3_1_order_C_frames_3000.mmap\n",
      "Decode mmap filename /home/kushalk/caiman_data/mesmerize-core-batch/09610b86-917a-41e7-a493-2d036bf44428/f4474d42-f6ae-4fba-a1a5-c181b4b1796e_cnmf-memmap_d1_170_d2_170_d3_1_order_C_frames_3000.mmap\n",
      "Decode mmap filename /home/kushalk/caiman_data/mesmerize-core-batch/09610b86-917a-41e7-a493-2d036bf44428/f4474d42-f6ae-4fba-a1a5-c181b4b1796e_cnmf-memmap_d1_170_d2_170_d3_1_order_C_frames_3000.mmap\n",
      "Decode mmap filename /home/kushalk/caiman_data/mesmerize-core-batch/09610b86-917a-41e7-a493-2d036bf44428/f4474d42-f6ae-4fba-a1a5-c181b4b1796e_cnmf-memmap_d1_170_d2_170_d3_1_order_C_frames_3000.mmap\n",
      "Decode mmap filename /home/kushalk/caiman_data/mesmerize-core-batch/09610b86-917a-41e7-a493-2d036bf44428/f4474d42-f6ae-4fba-a1a5-c181b4b1796e_cnmf-memmap_d1_170_d2_170_d3_1_order_C_frames_3000.mmap\n",
      "Decode mmap filename /home/kushalk/caiman_data/mesmerize-core-batch/09610b86-917a-41e7-a493-2d036bf44428/f4474d42-f6ae-4fba-a1a5-c181b4b1796e_cnmf-memmap_d1_170_d2_170_d3_1_order_C_frames_3000.mmap\n",
      "Decode mmap filename /home/kushalk/caiman_data/mesmerize-core-batch/09610b86-917a-41e7-a493-2d036bf44428/f4474d42-f6ae-4fba-a1a5-c181b4b1796e_cnmf-memmap_d1_170_d2_170_d3_1_order_C_frames_3000.mmap\n",
      "Decode mmap filename /home/kushalk/caiman_data/mesmerize-core-batch/09610b86-917a-41e7-a493-2d036bf44428/f4474d42-f6ae-4fba-a1a5-c181b4b1796e_cnmf-memmap_d1_170_d2_170_d3_1_order_C_frames_3000.mmap\n",
      "Decode mmap filename /home/kushalk/caiman_data/mesmerize-core-batch/09610b86-917a-41e7-a493-2d036bf44428/f4474d42-f6ae-4fba-a1a5-c181b4b1796e_cnmf-memmap_d1_170_d2_170_d3_1_order_C_frames_3000.mmap\n",
      "Decode mmap filename /home/kushalk/caiman_data/mesmerize-core-batch/09610b86-917a-41e7-a493-2d036bf44428/f4474d42-f6ae-4fba-a1a5-c181b4b1796e_cnmf-memmap_d1_170_d2_170_d3_1_order_C_frames_3000.mmap\n",
      "Decode mmap filename /home/kushalk/caiman_data/mesmerize-core-batch/09610b86-917a-41e7-a493-2d036bf44428/f4474d42-f6ae-4fba-a1a5-c181b4b1796e_cnmf-memmap_d1_170_d2_170_d3_1_order_C_frames_3000.mmap\n",
      "Decode mmap filename /home/kushalk/caiman_data/mesmerize-core-batch/09610b86-917a-41e7-a493-2d036bf44428/f4474d42-f6ae-4fba-a1a5-c181b4b1796e_cnmf-memmap_d1_170_d2_170_d3_1_order_C_frames_3000.mmap\n",
      "Decode mmap filename /home/kushalk/caiman_data/mesmerize-core-batch/09610b86-917a-41e7-a493-2d036bf44428/f4474d42-f6ae-4fba-a1a5-c181b4b1796e_cnmf-memmap_d1_170_d2_170_d3_1_order_C_frames_3000.mmap\n",
      "Decode mmap filename /home/kushalk/caiman_data/mesmerize-core-batch/09610b86-917a-41e7-a493-2d036bf44428/f4474d42-f6ae-4fba-a1a5-c181b4b1796e_cnmf-memmap_d1_170_d2_170_d3_1_order_C_frames_3000.mmap\n",
      "Decode mmap filename /home/kushalk/caiman_data/mesmerize-core-batch/09610b86-917a-41e7-a493-2d036bf44428/f4474d42-f6ae-4fba-a1a5-c181b4b1796e_cnmf-memmap_d1_170_d2_170_d3_1_order_C_frames_3000.mmap\n",
      "Decode mmap filename /home/kushalk/caiman_data/mesmerize-core-batch/09610b86-917a-41e7-a493-2d036bf44428/f4474d42-f6ae-4fba-a1a5-c181b4b1796e_cnmf-memmap_d1_170_d2_170_d3_1_order_C_frames_3000.mmap\n",
      "Decode mmap filename /home/kushalk/caiman_data/mesmerize-core-batch/09610b86-917a-41e7-a493-2d036bf44428/f4474d42-f6ae-4fba-a1a5-c181b4b1796e_cnmf-memmap_d1_170_d2_170_d3_1_order_C_frames_3000.mmap\n",
      "Decode mmap filename /home/kushalk/caiman_data/mesmerize-core-batch/09610b86-917a-41e7-a493-2d036bf44428/f4474d42-f6ae-4fba-a1a5-c181b4b1796e_cnmf-memmap_d1_170_d2_170_d3_1_order_C_frames_3000.mmap\n",
      "Decode mmap filename /home/kushalk/caiman_data/mesmerize-core-batch/09610b86-917a-41e7-a493-2d036bf44428/f4474d42-f6ae-4fba-a1a5-c181b4b1796e_cnmf-memmap_d1_170_d2_170_d3_1_order_C_frames_3000.mmap\n",
      "Decode mmap filename /home/kushalk/caiman_data/mesmerize-core-batch/09610b86-917a-41e7-a493-2d036bf44428/f4474d42-f6ae-4fba-a1a5-c181b4b1796e_cnmf-memmap_d1_170_d2_170_d3_1_order_C_frames_3000.mmap\n",
      "Decode mmap filename /home/kushalk/caiman_data/mesmerize-core-batch/09610b86-917a-41e7-a493-2d036bf44428/f4474d42-f6ae-4fba-a1a5-c181b4b1796e_cnmf-memmap_d1_170_d2_170_d3_1_order_C_frames_3000.mmap\n",
      "Decode mmap filename /home/kushalk/caiman_data/mesmerize-core-batch/09610b86-917a-41e7-a493-2d036bf44428/f4474d42-f6ae-4fba-a1a5-c181b4b1796e_cnmf-memmap_d1_170_d2_170_d3_1_order_C_frames_3000.mmap\n",
      "Decode mmap filename /home/kushalk/caiman_data/mesmerize-core-batch/09610b86-917a-41e7-a493-2d036bf44428/f4474d42-f6ae-4fba-a1a5-c181b4b1796e_cnmf-memmap_d1_170_d2_170_d3_1_order_C_frames_3000.mmap\n",
      "Decode mmap filename /home/kushalk/caiman_data/mesmerize-core-batch/09610b86-917a-41e7-a493-2d036bf44428/f4474d42-f6ae-4fba-a1a5-c181b4b1796e_cnmf-memmap_d1_170_d2_170_d3_1_order_C_frames_3000.mmap\n",
      "Decode mmap filename /home/kushalk/caiman_data/mesmerize-core-batch/09610b86-917a-41e7-a493-2d036bf44428/f4474d42-f6ae-4fba-a1a5-c181b4b1796e_cnmf-memmap_d1_170_d2_170_d3_1_order_C_frames_3000.mmap\n",
      "Decode mmap filename /home/kushalk/caiman_data/mesmerize-core-batch/09610b86-917a-41e7-a493-2d036bf44428/f4474d42-f6ae-4fba-a1a5-c181b4b1796e_cnmf-memmap_d1_170_d2_170_d3_1_order_C_frames_3000.mmap\n",
      "Decode mmap filename /home/kushalk/caiman_data/mesmerize-core-batch/09610b86-917a-41e7-a493-2d036bf44428/f4474d42-f6ae-4fba-a1a5-c181b4b1796e_cnmf-memmap_d1_170_d2_170_d3_1_order_C_frames_3000.mmap\n",
      "Decode mmap filename /home/kushalk/caiman_data/mesmerize-core-batch/09610b86-917a-41e7-a493-2d036bf44428/f4474d42-f6ae-4fba-a1a5-c181b4b1796e_cnmf-memmap_d1_170_d2_170_d3_1_order_C_frames_3000.mmap\n",
      "Decode mmap filename /home/kushalk/caiman_data/mesmerize-core-batch/09610b86-917a-41e7-a493-2d036bf44428/f4474d42-f6ae-4fba-a1a5-c181b4b1796e_cnmf-memmap_d1_170_d2_170_d3_1_order_C_frames_3000.mmap\n",
      "Decode mmap filename /home/kushalk/caiman_data/mesmerize-core-batch/09610b86-917a-41e7-a493-2d036bf44428/f4474d42-f6ae-4fba-a1a5-c181b4b1796e_cnmf-memmap_d1_170_d2_170_d3_1_order_C_frames_3000.mmap\n",
      "Decode mmap filename /home/kushalk/caiman_data/mesmerize-core-batch/09610b86-917a-41e7-a493-2d036bf44428/f4474d42-f6ae-4fba-a1a5-c181b4b1796e_cnmf-memmap_d1_170_d2_170_d3_1_order_C_frames_3000.mmap\n",
      "Decode mmap filename /home/kushalk/caiman_data/mesmerize-core-batch/09610b86-917a-41e7-a493-2d036bf44428/f4474d42-f6ae-4fba-a1a5-c181b4b1796e_cnmf-memmap_d1_170_d2_170_d3_1_order_C_frames_3000.mmap\n",
      "Decode mmap filename /home/kushalk/caiman_data/mesmerize-core-batch/09610b86-917a-41e7-a493-2d036bf44428/f4474d42-f6ae-4fba-a1a5-c181b4b1796e_cnmf-memmap_d1_170_d2_170_d3_1_order_C_frames_3000.mmap\n",
      "Decode mmap filename /home/kushalk/caiman_data/mesmerize-core-batch/09610b86-917a-41e7-a493-2d036bf44428/f4474d42-f6ae-4fba-a1a5-c181b4b1796e_cnmf-memmap_d1_170_d2_170_d3_1_order_C_frames_3000.mmap\n",
      "Decode mmap filename /home/kushalk/caiman_data/mesmerize-core-batch/09610b86-917a-41e7-a493-2d036bf44428/f4474d42-f6ae-4fba-a1a5-c181b4b1796e_cnmf-memmap_d1_170_d2_170_d3_1_order_C_frames_3000.mmap\n",
      "Decode mmap filename /home/kushalk/caiman_data/mesmerize-core-batch/09610b86-917a-41e7-a493-2d036bf44428/f4474d42-f6ae-4fba-a1a5-c181b4b1796e_cnmf-memmap_d1_170_d2_170_d3_1_order_C_frames_3000.mmap\n",
      "Decode mmap filename /home/kushalk/caiman_data/mesmerize-core-batch/09610b86-917a-41e7-a493-2d036bf44428/f4474d42-f6ae-4fba-a1a5-c181b4b1796e_cnmf-memmap_d1_170_d2_170_d3_1_order_C_frames_3000.mmap\n",
      "Decode mmap filename /home/kushalk/caiman_data/mesmerize-core-batch/09610b86-917a-41e7-a493-2d036bf44428/f4474d42-f6ae-4fba-a1a5-c181b4b1796e_cnmf-memmap_d1_170_d2_170_d3_1_order_C_frames_3000.mmap\n",
      "Decode mmap filename /home/kushalk/caiman_data/mesmerize-core-batch/09610b86-917a-41e7-a493-2d036bf44428/f4474d42-f6ae-4fba-a1a5-c181b4b1796e_cnmf-memmap_d1_170_d2_170_d3_1_order_C_frames_3000.mmap\n",
      "Decode mmap filename /home/kushalk/caiman_data/mesmerize-core-batch/09610b86-917a-41e7-a493-2d036bf44428/f4474d42-f6ae-4fba-a1a5-c181b4b1796e_cnmf-memmap_d1_170_d2_170_d3_1_order_C_frames_3000.mmap\n",
      "Decode mmap filename /home/kushalk/caiman_data/mesmerize-core-batch/09610b86-917a-41e7-a493-2d036bf44428/f4474d42-f6ae-4fba-a1a5-c181b4b1796e_cnmf-memmap_d1_170_d2_170_d3_1_order_C_frames_3000.mmap\n",
      "Decode mmap filename /home/kushalk/caiman_data/mesmerize-core-batch/09610b86-917a-41e7-a493-2d036bf44428/f4474d42-f6ae-4fba-a1a5-c181b4b1796e_cnmf-memmap_d1_170_d2_170_d3_1_order_C_frames_3000.mmap\n",
      "Decode mmap filename /home/kushalk/caiman_data/mesmerize-core-batch/09610b86-917a-41e7-a493-2d036bf44428/f4474d42-f6ae-4fba-a1a5-c181b4b1796e_cnmf-memmap_d1_170_d2_170_d3_1_order_C_frames_3000.mmap\n",
      "Decode mmap filename /home/kushalk/caiman_data/mesmerize-core-batch/09610b86-917a-41e7-a493-2d036bf44428/f4474d42-f6ae-4fba-a1a5-c181b4b1796e_cnmf-memmap_d1_170_d2_170_d3_1_order_C_frames_3000.mmap\n",
      "Decode mmap filename /home/kushalk/caiman_data/mesmerize-core-batch/09610b86-917a-41e7-a493-2d036bf44428/f4474d42-f6ae-4fba-a1a5-c181b4b1796e_cnmf-memmap_d1_170_d2_170_d3_1_order_C_frames_3000.mmap\n",
      "Decode mmap filename /home/kushalk/caiman_data/mesmerize-core-batch/09610b86-917a-41e7-a493-2d036bf44428/f4474d42-f6ae-4fba-a1a5-c181b4b1796e_cnmf-memmap_d1_170_d2_170_d3_1_order_C_frames_3000.mmap\n"
     ]
    }
   ],
   "source": [
    "for i, row in df.iterrows():\n",
    "    if i < 1:\n",
    "        continue\n",
    "    process = row.caiman.run()\n",
    "    \n",
    "    # on Windows you MUST reload the batch dataframe after every iteration because it uses the `local` backend.\n",
    "    # this is unnecessary on Linux & Mac\n",
    "    # \"DummyProcess\" is used for local backend so this is automatic\n",
    "    if process.__class__.__name__ == \"DummyProcess\":\n",
    "        df = load_batch(df.paths.get_batch_path())"
   ]
  },
  {
   "cell_type": "markdown",
   "id": "7b34a336-d750-4347-bde5-c5abb555c885",
   "metadata": {
    "pycharm": {
     "name": "#%% md\n"
    }
   },
   "source": [
    "### We now have CNMF outputs"
   ]
  },
  {
   "cell_type": "code",
   "execution_count": 135,
   "id": "0f0110b6-4367-46c0-86a1-9c985c6ea91e",
   "metadata": {
    "pycharm": {
     "name": "#%%\n"
    }
   },
   "outputs": [
    {
     "data": {
      "text/html": [
       "<div>\n",
       "<style scoped>\n",
       "    .dataframe tbody tr th:only-of-type {\n",
       "        vertical-align: middle;\n",
       "    }\n",
       "\n",
       "    .dataframe tbody tr th {\n",
       "        vertical-align: top;\n",
       "    }\n",
       "\n",
       "    .dataframe thead th {\n",
       "        text-align: right;\n",
       "    }\n",
       "</style>\n",
       "<table border=\"1\" class=\"dataframe\">\n",
       "  <thead>\n",
       "    <tr style=\"text-align: right;\">\n",
       "      <th></th>\n",
       "      <th>algo</th>\n",
       "      <th>item_name</th>\n",
       "      <th>input_movie_path</th>\n",
       "      <th>params</th>\n",
       "      <th>outputs</th>\n",
       "      <th>comments</th>\n",
       "      <th>uuid</th>\n",
       "    </tr>\n",
       "  </thead>\n",
       "  <tbody>\n",
       "    <tr>\n",
       "      <th>1</th>\n",
       "      <td>cnmf</td>\n",
       "      <td>Sue_2x_3000_40_-46</td>\n",
       "      <td>abe66fc1-5303-4b43-952b-ccf8ebe82301/abe66fc1-5303-4b43-952b-ccf8ebe82301-Sue_2x_3000_40_-46_els__d1_170_d2_170_d3_1...</td>\n",
       "      <td>{'main': {'fr': 30, 'p': 1, 'nb': 2, 'merge_thr': 0.85, 'rf': 15, 'stride': 6, 'K': 4, 'gSig': (4, 4), 'ssub': 1, 't...</td>\n",
       "      <td>{'mean-projection-path': aa43b012-7352-4f6d-906d-43df7d91972e/aa43b012-7352-4f6d-906d-43df7d91972e_mean_projection.n...</td>\n",
       "      <td>None</td>\n",
       "      <td>aa43b012-7352-4f6d-906d-43df7d91972e</td>\n",
       "    </tr>\n",
       "    <tr>\n",
       "      <th>2</th>\n",
       "      <td>cnmf</td>\n",
       "      <td>Sue_2x_3000_40_-46</td>\n",
       "      <td>abe66fc1-5303-4b43-952b-ccf8ebe82301/abe66fc1-5303-4b43-952b-ccf8ebe82301-Sue_2x_3000_40_-46_els__d1_170_d2_170_d3_1...</td>\n",
       "      <td>{'main': {'fr': 30, 'p': 1, 'nb': 2, 'merge_thr': 0.8, 'rf': 15, 'stride': 6, 'K': 4, 'gSig': (6, 6), 'ssub': 1, 'ts...</td>\n",
       "      <td>{'mean-projection-path': 858ae543-70db-48df-975c-9a4d98847234/858ae543-70db-48df-975c-9a4d98847234_mean_projection.n...</td>\n",
       "      <td>None</td>\n",
       "      <td>858ae543-70db-48df-975c-9a4d98847234</td>\n",
       "    </tr>\n",
       "    <tr>\n",
       "      <th>3</th>\n",
       "      <td>cnmf</td>\n",
       "      <td>Sue_2x_3000_40_-46</td>\n",
       "      <td>abe66fc1-5303-4b43-952b-ccf8ebe82301/abe66fc1-5303-4b43-952b-ccf8ebe82301-Sue_2x_3000_40_-46_els__d1_170_d2_170_d3_1...</td>\n",
       "      <td>{'main': {'fr': 30, 'p': 1, 'nb': 2, 'merge_thr': 0.95, 'rf': 15, 'stride': 6, 'K': 4, 'gSig': (6, 6), 'ssub': 1, 't...</td>\n",
       "      <td>{'mean-projection-path': 1f83e8dd-9c9b-4f57-8ee1-6b2e5c9e7afe/1f83e8dd-9c9b-4f57-8ee1-6b2e5c9e7afe_mean_projection.n...</td>\n",
       "      <td>None</td>\n",
       "      <td>1f83e8dd-9c9b-4f57-8ee1-6b2e5c9e7afe</td>\n",
       "    </tr>\n",
       "    <tr>\n",
       "      <th>4</th>\n",
       "      <td>cnmf</td>\n",
       "      <td>Sue_2x_3000_40_-46</td>\n",
       "      <td>abe66fc1-5303-4b43-952b-ccf8ebe82301/abe66fc1-5303-4b43-952b-ccf8ebe82301-Sue_2x_3000_40_-46_els__d1_170_d2_170_d3_1...</td>\n",
       "      <td>{'main': {'fr': 30, 'p': 1, 'nb': 2, 'merge_thr': 0.8, 'rf': 15, 'stride': 6, 'K': 8, 'gSig': (6, 6), 'ssub': 1, 'ts...</td>\n",
       "      <td>{'mean-projection-path': a41bc279-4a98-4f34-8f4e-e19037991fde/a41bc279-4a98-4f34-8f4e-e19037991fde_mean_projection.n...</td>\n",
       "      <td>None</td>\n",
       "      <td>a41bc279-4a98-4f34-8f4e-e19037991fde</td>\n",
       "    </tr>\n",
       "    <tr>\n",
       "      <th>5</th>\n",
       "      <td>cnmf</td>\n",
       "      <td>Sue_2x_3000_40_-46</td>\n",
       "      <td>abe66fc1-5303-4b43-952b-ccf8ebe82301/abe66fc1-5303-4b43-952b-ccf8ebe82301-Sue_2x_3000_40_-46_els__d1_170_d2_170_d3_1...</td>\n",
       "      <td>{'main': {'fr': 30, 'p': 1, 'nb': 2, 'merge_thr': 0.95, 'rf': 15, 'stride': 6, 'K': 8, 'gSig': (6, 6), 'ssub': 1, 't...</td>\n",
       "      <td>{'mean-projection-path': c39a789d-c233-4b4c-89d1-cab1ba6ba251/c39a789d-c233-4b4c-89d1-cab1ba6ba251_mean_projection.n...</td>\n",
       "      <td>None</td>\n",
       "      <td>c39a789d-c233-4b4c-89d1-cab1ba6ba251</td>\n",
       "    </tr>\n",
       "    <tr>\n",
       "      <th>6</th>\n",
       "      <td>cnmf</td>\n",
       "      <td>Sue_2x_3000_40_-46</td>\n",
       "      <td>abe66fc1-5303-4b43-952b-ccf8ebe82301/abe66fc1-5303-4b43-952b-ccf8ebe82301-Sue_2x_3000_40_-46_els__d1_170_d2_170_d3_1...</td>\n",
       "      <td>{'main': {'fr': 30, 'p': 1, 'nb': 2, 'merge_thr': 0.8, 'rf': 15, 'stride': 6, 'K': 4, 'gSig': (8, 8), 'ssub': 1, 'ts...</td>\n",
       "      <td>{'mean-projection-path': 6619cfdc-b4ac-44fc-9fb2-691eb9a73b14/6619cfdc-b4ac-44fc-9fb2-691eb9a73b14_mean_projection.n...</td>\n",
       "      <td>None</td>\n",
       "      <td>6619cfdc-b4ac-44fc-9fb2-691eb9a73b14</td>\n",
       "    </tr>\n",
       "    <tr>\n",
       "      <th>7</th>\n",
       "      <td>cnmf</td>\n",
       "      <td>Sue_2x_3000_40_-46</td>\n",
       "      <td>abe66fc1-5303-4b43-952b-ccf8ebe82301/abe66fc1-5303-4b43-952b-ccf8ebe82301-Sue_2x_3000_40_-46_els__d1_170_d2_170_d3_1...</td>\n",
       "      <td>{'main': {'fr': 30, 'p': 1, 'nb': 2, 'merge_thr': 0.95, 'rf': 15, 'stride': 6, 'K': 4, 'gSig': (8, 8), 'ssub': 1, 't...</td>\n",
       "      <td>{'mean-projection-path': ff63724a-052b-44b7-9421-9daea5f7e380/ff63724a-052b-44b7-9421-9daea5f7e380_mean_projection.n...</td>\n",
       "      <td>None</td>\n",
       "      <td>ff63724a-052b-44b7-9421-9daea5f7e380</td>\n",
       "    </tr>\n",
       "    <tr>\n",
       "      <th>8</th>\n",
       "      <td>cnmf</td>\n",
       "      <td>Sue_2x_3000_40_-46</td>\n",
       "      <td>abe66fc1-5303-4b43-952b-ccf8ebe82301/abe66fc1-5303-4b43-952b-ccf8ebe82301-Sue_2x_3000_40_-46_els__d1_170_d2_170_d3_1...</td>\n",
       "      <td>{'main': {'fr': 30, 'p': 1, 'nb': 2, 'merge_thr': 0.8, 'rf': 15, 'stride': 6, 'K': 8, 'gSig': (8, 8), 'ssub': 1, 'ts...</td>\n",
       "      <td>{'mean-projection-path': 96edc395-671c-49b9-8ecf-870a4c4f0c1a/96edc395-671c-49b9-8ecf-870a4c4f0c1a_mean_projection.n...</td>\n",
       "      <td>None</td>\n",
       "      <td>96edc395-671c-49b9-8ecf-870a4c4f0c1a</td>\n",
       "    </tr>\n",
       "    <tr>\n",
       "      <th>9</th>\n",
       "      <td>cnmf</td>\n",
       "      <td>Sue_2x_3000_40_-46</td>\n",
       "      <td>abe66fc1-5303-4b43-952b-ccf8ebe82301/abe66fc1-5303-4b43-952b-ccf8ebe82301-Sue_2x_3000_40_-46_els__d1_170_d2_170_d3_1...</td>\n",
       "      <td>{'main': {'fr': 30, 'p': 1, 'nb': 2, 'merge_thr': 0.95, 'rf': 15, 'stride': 6, 'K': 8, 'gSig': (8, 8), 'ssub': 1, 't...</td>\n",
       "      <td>{'mean-projection-path': 9992fd2c-3a4f-449a-a404-2b1c4bb0772e/9992fd2c-3a4f-449a-a404-2b1c4bb0772e_mean_projection.n...</td>\n",
       "      <td>None</td>\n",
       "      <td>9992fd2c-3a4f-449a-a404-2b1c4bb0772e</td>\n",
       "    </tr>\n",
       "  </tbody>\n",
       "</table>\n",
       "</div>"
      ],
      "text/plain": [
       "   algo           item_name  \\\n",
       "1  cnmf  Sue_2x_3000_40_-46   \n",
       "2  cnmf  Sue_2x_3000_40_-46   \n",
       "3  cnmf  Sue_2x_3000_40_-46   \n",
       "4  cnmf  Sue_2x_3000_40_-46   \n",
       "5  cnmf  Sue_2x_3000_40_-46   \n",
       "6  cnmf  Sue_2x_3000_40_-46   \n",
       "7  cnmf  Sue_2x_3000_40_-46   \n",
       "8  cnmf  Sue_2x_3000_40_-46   \n",
       "9  cnmf  Sue_2x_3000_40_-46   \n",
       "\n",
       "                                                                                                          input_movie_path  \\\n",
       "1  abe66fc1-5303-4b43-952b-ccf8ebe82301/abe66fc1-5303-4b43-952b-ccf8ebe82301-Sue_2x_3000_40_-46_els__d1_170_d2_170_d3_1...   \n",
       "2  abe66fc1-5303-4b43-952b-ccf8ebe82301/abe66fc1-5303-4b43-952b-ccf8ebe82301-Sue_2x_3000_40_-46_els__d1_170_d2_170_d3_1...   \n",
       "3  abe66fc1-5303-4b43-952b-ccf8ebe82301/abe66fc1-5303-4b43-952b-ccf8ebe82301-Sue_2x_3000_40_-46_els__d1_170_d2_170_d3_1...   \n",
       "4  abe66fc1-5303-4b43-952b-ccf8ebe82301/abe66fc1-5303-4b43-952b-ccf8ebe82301-Sue_2x_3000_40_-46_els__d1_170_d2_170_d3_1...   \n",
       "5  abe66fc1-5303-4b43-952b-ccf8ebe82301/abe66fc1-5303-4b43-952b-ccf8ebe82301-Sue_2x_3000_40_-46_els__d1_170_d2_170_d3_1...   \n",
       "6  abe66fc1-5303-4b43-952b-ccf8ebe82301/abe66fc1-5303-4b43-952b-ccf8ebe82301-Sue_2x_3000_40_-46_els__d1_170_d2_170_d3_1...   \n",
       "7  abe66fc1-5303-4b43-952b-ccf8ebe82301/abe66fc1-5303-4b43-952b-ccf8ebe82301-Sue_2x_3000_40_-46_els__d1_170_d2_170_d3_1...   \n",
       "8  abe66fc1-5303-4b43-952b-ccf8ebe82301/abe66fc1-5303-4b43-952b-ccf8ebe82301-Sue_2x_3000_40_-46_els__d1_170_d2_170_d3_1...   \n",
       "9  abe66fc1-5303-4b43-952b-ccf8ebe82301/abe66fc1-5303-4b43-952b-ccf8ebe82301-Sue_2x_3000_40_-46_els__d1_170_d2_170_d3_1...   \n",
       "\n",
       "                                                                                                                    params  \\\n",
       "1  {'main': {'fr': 30, 'p': 1, 'nb': 2, 'merge_thr': 0.85, 'rf': 15, 'stride': 6, 'K': 4, 'gSig': (4, 4), 'ssub': 1, 't...   \n",
       "2  {'main': {'fr': 30, 'p': 1, 'nb': 2, 'merge_thr': 0.8, 'rf': 15, 'stride': 6, 'K': 4, 'gSig': (6, 6), 'ssub': 1, 'ts...   \n",
       "3  {'main': {'fr': 30, 'p': 1, 'nb': 2, 'merge_thr': 0.95, 'rf': 15, 'stride': 6, 'K': 4, 'gSig': (6, 6), 'ssub': 1, 't...   \n",
       "4  {'main': {'fr': 30, 'p': 1, 'nb': 2, 'merge_thr': 0.8, 'rf': 15, 'stride': 6, 'K': 8, 'gSig': (6, 6), 'ssub': 1, 'ts...   \n",
       "5  {'main': {'fr': 30, 'p': 1, 'nb': 2, 'merge_thr': 0.95, 'rf': 15, 'stride': 6, 'K': 8, 'gSig': (6, 6), 'ssub': 1, 't...   \n",
       "6  {'main': {'fr': 30, 'p': 1, 'nb': 2, 'merge_thr': 0.8, 'rf': 15, 'stride': 6, 'K': 4, 'gSig': (8, 8), 'ssub': 1, 'ts...   \n",
       "7  {'main': {'fr': 30, 'p': 1, 'nb': 2, 'merge_thr': 0.95, 'rf': 15, 'stride': 6, 'K': 4, 'gSig': (8, 8), 'ssub': 1, 't...   \n",
       "8  {'main': {'fr': 30, 'p': 1, 'nb': 2, 'merge_thr': 0.8, 'rf': 15, 'stride': 6, 'K': 8, 'gSig': (8, 8), 'ssub': 1, 'ts...   \n",
       "9  {'main': {'fr': 30, 'p': 1, 'nb': 2, 'merge_thr': 0.95, 'rf': 15, 'stride': 6, 'K': 8, 'gSig': (8, 8), 'ssub': 1, 't...   \n",
       "\n",
       "                                                                                                                   outputs  \\\n",
       "1  {'mean-projection-path': aa43b012-7352-4f6d-906d-43df7d91972e/aa43b012-7352-4f6d-906d-43df7d91972e_mean_projection.n...   \n",
       "2  {'mean-projection-path': 858ae543-70db-48df-975c-9a4d98847234/858ae543-70db-48df-975c-9a4d98847234_mean_projection.n...   \n",
       "3  {'mean-projection-path': 1f83e8dd-9c9b-4f57-8ee1-6b2e5c9e7afe/1f83e8dd-9c9b-4f57-8ee1-6b2e5c9e7afe_mean_projection.n...   \n",
       "4  {'mean-projection-path': a41bc279-4a98-4f34-8f4e-e19037991fde/a41bc279-4a98-4f34-8f4e-e19037991fde_mean_projection.n...   \n",
       "5  {'mean-projection-path': c39a789d-c233-4b4c-89d1-cab1ba6ba251/c39a789d-c233-4b4c-89d1-cab1ba6ba251_mean_projection.n...   \n",
       "6  {'mean-projection-path': 6619cfdc-b4ac-44fc-9fb2-691eb9a73b14/6619cfdc-b4ac-44fc-9fb2-691eb9a73b14_mean_projection.n...   \n",
       "7  {'mean-projection-path': ff63724a-052b-44b7-9421-9daea5f7e380/ff63724a-052b-44b7-9421-9daea5f7e380_mean_projection.n...   \n",
       "8  {'mean-projection-path': 96edc395-671c-49b9-8ecf-870a4c4f0c1a/96edc395-671c-49b9-8ecf-870a4c4f0c1a_mean_projection.n...   \n",
       "9  {'mean-projection-path': 9992fd2c-3a4f-449a-a404-2b1c4bb0772e/9992fd2c-3a4f-449a-a404-2b1c4bb0772e_mean_projection.n...   \n",
       "\n",
       "  comments                                  uuid  \n",
       "1     None  aa43b012-7352-4f6d-906d-43df7d91972e  \n",
       "2     None  858ae543-70db-48df-975c-9a4d98847234  \n",
       "3     None  1f83e8dd-9c9b-4f57-8ee1-6b2e5c9e7afe  \n",
       "4     None  a41bc279-4a98-4f34-8f4e-e19037991fde  \n",
       "5     None  c39a789d-c233-4b4c-89d1-cab1ba6ba251  \n",
       "6     None  6619cfdc-b4ac-44fc-9fb2-691eb9a73b14  \n",
       "7     None  ff63724a-052b-44b7-9421-9daea5f7e380  \n",
       "8     None  96edc395-671c-49b9-8ecf-870a4c4f0c1a  \n",
       "9     None  9992fd2c-3a4f-449a-a404-2b1c4bb0772e  "
      ]
     },
     "execution_count": 135,
     "metadata": {},
     "output_type": "execute_result"
    }
   ],
   "source": [
    "df = df.caiman.reload_from_disk()\n",
    "df[df[\"algo\"] == \"cnmf\"]"
   ]
  },
  {
   "cell_type": "code",
   "execution_count": 136,
   "id": "a8668f23-6abd-4bb8-a5ab-3c367caef688",
   "metadata": {
    "pycharm": {
     "name": "#%%\n"
    }
   },
   "outputs": [
    {
     "data": {
      "text/plain": [
       "1    True\n",
       "2    True\n",
       "3    True\n",
       "4    True\n",
       "5    True\n",
       "6    True\n",
       "7    True\n",
       "8    True\n",
       "9    True\n",
       "Name: outputs, dtype: bool"
      ]
     },
     "execution_count": 136,
     "metadata": {},
     "output_type": "execute_result"
    }
   ],
   "source": [
    "# see which batch items completed succcessfully\n",
    "df[df[\"algo\"] == \"cnmf\"][\"outputs\"].apply(lambda x: x[\"success\"])"
   ]
  },
  {
   "cell_type": "markdown",
   "id": "5561bc54-c9b9-4a39-972c-a1dc2e7574ec",
   "metadata": {
    "pycharm": {
     "name": "#%% md\n"
    }
   },
   "source": [
    "# Load outputs\n",
    "\n",
    "CNMF pandas extensions API: https://mesmerize-core.readthedocs.io/en/latest/api/cnmf.html "
   ]
  },
  {
   "cell_type": "code",
   "execution_count": null,
   "id": "b9f1c3d6-d9a6-4895-bd26-3d4e89f123fa",
   "metadata": {
    "pycharm": {
     "name": "#%%\n"
    }
   },
   "outputs": [
    {
     "name": "stdout",
     "output_type": "stream",
     "text": [
      "Decode mmap filename /home/kushalk/caiman_data/mesmerize-core-batch/abe66fc1-5303-4b43-952b-ccf8ebe82301/abe66fc1-5303-4b43-952b-ccf8ebe82301-Sue_2x_3000_40_-46_els__d1_170_d2_170_d3_1_order_F_frames_3000.mmap\n"
     ]
    }
   ],
   "source": [
    "# You can change this to plot the outputs for different batch items\n",
    "index = 1\n",
    "\n",
    "# get the motion corrected input movie as a memmap\n",
    "cnmf_movie = df.iloc[index].caiman.get_input_movie()\n",
    "\n",
    "# we can get the contours of the spatial components\n",
    "contours, coms = df.iloc[index].cnmf.get_contours(\"all\", swap_dim=False)\n",
    "\n",
    "# and temporal components\n",
    "temporal = df.iloc[index].cnmf.get_temporal(\"all\")\n",
    "\n",
    "ixs_good = df.iloc[index].cnmf.get_good_components()\n",
    "ixs_bad = df.iloc[index].cnmf.get_bad_components()"
   ]
  },
  {
   "cell_type": "markdown",
   "id": "ed51988f-430f-462d-a874-cf8e3bdf306f",
   "metadata": {
    "pycharm": {
     "name": "#%% md\n"
    }
   },
   "source": [
    "# Visualize CNMF outputs. We'll create some simple and more complex plots."
   ]
  },
  {
   "cell_type": "markdown",
   "id": "30e932dc-5e22-4616-aecf-7a58b9105503",
   "metadata": {
    "pycharm": {
     "name": "#%%\n"
    }
   },
   "source": [
    "### `ImageWidget` to view contours, and a simple `fastplotlib.Plot` to view temporal components"
   ]
  },
  {
   "cell_type": "code",
   "execution_count": null,
   "id": "fe388d6e-cd7e-4278-acb2-0fd9ad148693",
   "metadata": {},
   "outputs": [],
   "source": [
    "# LineSlider is very new and experimental and is likely to change\n",
    "# that's why it's not exposed as a top-level import\n",
    "from fastplotlib.graphics.line_slider import LineSlider"
   ]
  },
  {
   "cell_type": "code",
   "execution_count": null,
   "id": "ada2258e-35c3-4a1a-8260-a9c5022bd7e0",
   "metadata": {},
   "outputs": [
    {
     "data": {
      "application/vnd.jupyter.widget-view+json": {
       "model_id": "",
       "version_major": 2,
       "version_minor": 0
      },
      "text/plain": [
       "RFBOutputContext()"
      ]
     },
     "metadata": {},
     "output_type": "display_data"
    },
    {
     "data": {
      "application/vnd.jupyter.widget-view+json": {
       "model_id": "",
       "version_major": 2,
       "version_minor": 0
      },
      "text/plain": [
       "RFBOutputContext()"
      ]
     },
     "metadata": {},
     "output_type": "display_data"
    },
    {
     "data": {
      "application/vnd.jupyter.widget-view+json": {
       "model_id": "",
       "version_major": 2,
       "version_minor": 0
      },
      "text/plain": [
       "VBox(children=(JupyterWgpuCanvas(), VBox(children=(JupyterWgpuCanvas(), IntSlider(value=0, description='dimens…"
      ]
     },
     "metadata": {},
     "output_type": "display_data"
    }
   ],
   "source": [
    "# for the image data and contours\n",
    "iw_cnmf = ImageWidget(cnmf_movie, vmin_vmax_sliders=True, cmap=\"gnuplot2\")\n",
    "\n",
    "# add good contours to the plot within the widget\n",
    "contours_graphic = iw_cnmf.plot.add_line_collection(contours, colors=\"cyan\", name=\"contours\")\n",
    "contours_graphic[ixs_good].colors = \"cyan\"\n",
    "contours_graphic[ixs_bad].colors = \"magenta\"\n",
    "\n",
    "\n",
    "# temporal plot\n",
    "plot_temporal = Plot()\n",
    "\n",
    "temporal_graphic = plot_temporal.add_line_collection(temporal, colors=\"cyan\", name=\"temporal\")\n",
    "temporal_graphic[ixs_good].colors = \"cyan\"\n",
    "temporal_graphic[ixs_bad].colors = \"magenta\"\n",
    "\n",
    "# a vertical line that is syncronized to the image widget \"t\" (timepoint) slider\n",
    "_ls = LineSlider(x_pos=0, bounds=(temporal.min(), temporal.max()), slider=iw_cnmf.sliders[\"t\"])\n",
    "plot_temporal.add_graphic(_ls)\n",
    "\n",
    "# stack them\n",
    "VBox([plot_temporal.show(), iw_cnmf.show()])"
   ]
  },
  {
   "cell_type": "markdown",
   "id": "86100367-17c8-4e75-a0cc-7117ade1058f",
   "metadata": {},
   "source": [
    "Auto-scale temporal plot, you can only do this after calling `show()`"
   ]
  },
  {
   "cell_type": "code",
   "execution_count": null,
   "id": "71f449e5-f6d6-46c1-93e7-845cc8abe46f",
   "metadata": {},
   "outputs": [],
   "source": [
    "plot_temporal.auto_scale()\n",
    "plot_temporal.camera.scale.x = 0.85"
   ]
  },
  {
   "cell_type": "markdown",
   "id": "c2ae3c25-a178-4b35-9129-843fde843a26",
   "metadata": {},
   "source": [
    "# Interactivity"
   ]
  },
  {
   "cell_type": "code",
   "execution_count": null,
   "id": "bf0d2d09-10b1-4fc2-906d-7c70a0c87fc6",
   "metadata": {},
   "outputs": [],
   "source": [
    "# don't worry about understanding this function\n",
    "def euclidean(source, target, event, new_data):\n",
    "    \"\"\"maps click events to contour\"\"\"\n",
    "    # calculate coms of line collection\n",
    "    indices = np.array(event.pick_info[\"index\"])\n",
    "    \n",
    "    coms = list()\n",
    "\n",
    "    for contour in target.items:\n",
    "        coors = contour.data()[~np.isnan(contour.data()).any(axis=1)]\n",
    "        com = coors.mean(axis=0)\n",
    "        coms.append(com)\n",
    "\n",
    "    # euclidean distance to find closest index of com \n",
    "    indices = np.append(indices, [0])\n",
    "    \n",
    "    ix = int(np.linalg.norm((coms - indices), axis=1).argsort()[0])\n",
    "    \n",
    "    target._set_feature(feature=\"colors\", new_data=new_data, indices=ix)\n",
    "    \n",
    "    return None"
   ]
  },
  {
   "cell_type": "code",
   "execution_count": null,
   "id": "7bf4ff67-ef17-4466-9ca5-7f4fba267fab",
   "metadata": {},
   "outputs": [
    {
     "name": "stderr",
     "output_type": "stream",
     "text": [
      "/home/kushalk/repos/fastplotlib/fastplotlib/graphics/features/_base.py:87: UserWarning: Event handler <bound method Interaction.event_handler of 'contours' fastplotlib.LineCollection @ 0x7f38e09e4490> is already registered.\n",
      "  warn(f\"Event handler {handler} is already registered.\")\n"
     ]
    }
   ],
   "source": [
    "# so we can view them one by one, first hide all of them\n",
    "temporal_graphic[:].present = False\n",
    "\n",
    "image_graphic = iw_cnmf.plot[\"image\"]\n",
    "\n",
    "# link image to contours\n",
    "image_graphic.link(\n",
    "    \"click\",\n",
    "    target=contours_graphic,\n",
    "    feature=\"colors\", \n",
    "    new_data=\"w\", \n",
    "    callback=euclidean\n",
    ")\n",
    "\n",
    "# link contour color changes (which are triggered by the click events as defined above) to everything else\n",
    "\n",
    "# thickness of contour\n",
    "contours_graphic.link(\"colors\", target=contours_graphic, feature=\"thickness\", new_data=5)\n",
    "\n",
    "# toggle temporal component when contour changes color\n",
    "contours_graphic.link(\"colors\", target=temporal_graphic, feature=\"present\", new_data=True)\n",
    "# autoscale temporal plot to the current temporal component\n",
    "temporal_graphic[:].present.add_event_handler(plot_temporal.auto_scale)"
   ]
  },
  {
   "cell_type": "markdown",
   "id": "d284f9f9-5e97-4de0-9fa0-8dfb2a1b85e2",
   "metadata": {},
   "source": [
    "Close canvases if you GPU is slow"
   ]
  },
  {
   "cell_type": "code",
   "execution_count": null,
   "id": "870bb2d9-5291-4b5d-bac8-dd41e8ca2151",
   "metadata": {
    "pycharm": {
     "name": "#%%\n"
    }
   },
   "outputs": [],
   "source": [
    "plot_temporal.canvas.close()\n",
    "iw_cnmf.plot.canvas.close()"
   ]
  },
  {
   "cell_type": "markdown",
   "id": "da7ad740-1492-4525-bfb8-e8590096883f",
   "metadata": {
    "pycharm": {
     "name": "#%% md\n"
    }
   },
   "source": [
    "# View the reconstructed movie, residuals, and reconstructed background\n",
    "\n",
    "### We can get each of these as a mesmerize `LazyArray` which allows fast visualization of larger-than-RAM arrays that can be computed on the fly."
   ]
  },
  {
   "cell_type": "code",
   "execution_count": null,
   "id": "9b2f0c68-d193-44e2-8f7a-443591d58641",
   "metadata": {
    "pycharm": {
     "name": "#%%\n"
    }
   },
   "outputs": [
    {
     "data": {
      "text/plain": [
       "LazyArrayRCM @0x7f38e09e60e0\n",
       "LazyArray for reconstructed movie, i.e. A ⊗ C\n",
       "Frames are computed only upon indexing\n",
       "shape [frames, x, y]: (3000, 170, 170)\n",
       "n_components: 155"
      ]
     },
     "execution_count": 14,
     "metadata": {},
     "output_type": "execute_result"
    }
   ],
   "source": [
    "# reconstructed movie, A * C\n",
    "rcm = df.iloc[index].cnmf.get_rcm()\n",
    "rcm"
   ]
  },
  {
   "cell_type": "markdown",
   "id": "95f2cdf0-fdfe-48dc-addf-7f512bd5e852",
   "metadata": {},
   "source": [
    "### `LazyArray` behaves similar to numpy arrays. But frames are computed only uppon indexing."
   ]
  },
  {
   "cell_type": "code",
   "execution_count": null,
   "id": "5e2340c8-f102-46ee-a996-639d2d67b17b",
   "metadata": {},
   "outputs": [
    {
     "data": {
      "text/plain": [
       "array([[ 0.        ,  0.        ,  0.        , ...,  0.        ,\n",
       "         0.        ,  0.        ],\n",
       "       [ 0.        ,  0.        ,  0.        , ..., -0.37123169,\n",
       "         0.        ,  0.        ],\n",
       "       [ 0.        ,  0.        ,  0.        , ..., -0.4506279 ,\n",
       "         0.        ,  0.        ],\n",
       "       ...,\n",
       "       [ 0.        ,  0.        ,  0.        , ...,  0.        ,\n",
       "         0.        ,  0.        ],\n",
       "       [ 0.        ,  0.        ,  0.        , ...,  0.        ,\n",
       "         0.        ,  0.        ],\n",
       "       [ 0.        ,  0.        ,  0.        , ...,  0.        ,\n",
       "         0.        ,  0.        ]])"
      ]
     },
     "execution_count": 15,
     "metadata": {},
     "output_type": "execute_result"
    }
   ],
   "source": [
    "rcm[100]"
   ]
  },
  {
   "cell_type": "markdown",
   "id": "762b413e-09d0-4ef5-b982-ed1132bbd64d",
   "metadata": {},
   "source": [
    "### Some lazy arrays contain pre-computed min and max for the array, and other useful properties"
   ]
  },
  {
   "cell_type": "code",
   "execution_count": null,
   "id": "0190f0de-c9c7-4420-add1-dd802a51afd2",
   "metadata": {},
   "outputs": [
    {
     "data": {
      "text/plain": [
       "1720.0178092400397"
      ]
     },
     "execution_count": 16,
     "metadata": {},
     "output_type": "execute_result"
    }
   ],
   "source": [
    "rcm.max"
   ]
  },
  {
   "cell_type": "code",
   "execution_count": null,
   "id": "b3f5d455-fb0f-442f-9467-6563d1ee0af9",
   "metadata": {},
   "outputs": [
    {
     "data": {
      "application/vnd.jupyter.widget-view+json": {
       "model_id": "",
       "version_major": 2,
       "version_minor": 0
      },
      "text/plain": [
       "RFBOutputContext()"
      ]
     },
     "metadata": {},
     "output_type": "display_data"
    },
    {
     "data": {
      "text/html": [
       "<div class='initial-snapshot-48675f501da04f729cd21acc0efd9319' style='position:relative;'><img src='data:image/png;base64,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' style='width:500.0px;height:300.0px;' /><div style='position: absolute; top:0; left:0; padding:1px 3px; background: #777; color:#fff; font-size: 90%; font-family:sans-serif; '>initial snapshot</div></div>"
      ],
      "text/plain": [
       "<jupyter_rfb._utils.Snapshot object>"
      ]
     },
     "metadata": {},
     "output_type": "display_data"
    },
    {
     "data": {
      "application/vnd.jupyter.widget-view+json": {
       "model_id": "",
       "version_major": 2,
       "version_minor": 0
      },
      "text/plain": [
       "JupyterWgpuCanvas()"
      ]
     },
     "execution_count": 17,
     "metadata": {},
     "output_type": "execute_result"
    }
   ],
   "source": [
    "gp = GridPlot((2, 2))\n",
    "\n",
    "for sp, img in zip(gp, [rcm.max_image, rcm.min_image, rcm.mean_image, rcm.std_image]):\n",
    "    sp.add_image(img)\n",
    "    \n",
    "gp.show()"
   ]
  },
  {
   "cell_type": "markdown",
   "id": "31bef089-6267-4340-ab6d-d226251c0838",
   "metadata": {},
   "source": [
    "### Get size of the full array in gigabytes if it were entirely stored in RAM"
   ]
  },
  {
   "cell_type": "code",
   "execution_count": null,
   "id": "92d93626-1035-4bd6-b72c-5b07c176b9e0",
   "metadata": {},
   "outputs": [
    {
     "data": {
      "text/plain": [
       "0.6936"
      ]
     },
     "execution_count": 18,
     "metadata": {},
     "output_type": "execute_result"
    }
   ],
   "source": [
    "rcm.nbytes_gb"
   ]
  },
  {
   "cell_type": "markdown",
   "id": "59ab82cb-eb00-4a36-b444-3ddfb1166f67",
   "metadata": {},
   "source": [
    "# Visualize RCM, RCB and Residuals"
   ]
  },
  {
   "cell_type": "code",
   "execution_count": null,
   "id": "bf833a41-4a97-4cf4-a2f3-1fcf3b3cbcf9",
   "metadata": {},
   "outputs": [
    {
     "name": "stdout",
     "output_type": "stream",
     "text": [
      "Decode mmap filename /home/kushalk/caiman_data/mesmerize-core-batch/abe66fc1-5303-4b43-952b-ccf8ebe82301/abe66fc1-5303-4b43-952b-ccf8ebe82301-Sue_2x_3000_40_-46_els__d1_170_d2_170_d3_1_order_F_frames_3000.mmap\n"
     ]
    },
    {
     "data": {
      "application/vnd.jupyter.widget-view+json": {
       "model_id": "",
       "version_major": 2,
       "version_minor": 0
      },
      "text/plain": [
       "RFBOutputContext()"
      ]
     },
     "metadata": {},
     "output_type": "display_data"
    },
    {
     "name": "stderr",
     "output_type": "stream",
     "text": [
      "/home/kushalk/repos/mesmerize-core/mesmerize_core/arrays/_cnmf.py:246: UserWarning: min and max not yet implemented for LazyArrayResiduals. Using first frame of raw movie\n",
      "  warn(\"min and max not yet implemented for LazyArrayResiduals. \"\n",
      "/home/kushalk/repos/mesmerize-core/mesmerize_core/arrays/_cnmf.py:252: UserWarning: min and max not yet implemented for LazyArrayResiduals. Using first frame of raw movie\n",
      "  warn(\"min and max not yet implemented for LazyArrayResiduals. \"\n"
     ]
    },
    {
     "data": {
      "application/vnd.jupyter.widget-view+json": {
       "model_id": "",
       "version_major": 2,
       "version_minor": 0
      },
      "text/plain": [
       "VBox(children=(JupyterWgpuCanvas(), IntSlider(value=0, description='dimension: t', max=2999), FloatRangeSlider…"
      ]
     },
     "metadata": {},
     "output_type": "display_data"
    }
   ],
   "source": [
    "rcb = df.iloc[index].cnmf.get_rcb()\n",
    "residuals = df.iloc[index].cnmf.get_residuals()\n",
    "\n",
    "iw_cnmf_grid = ImageWidget(\n",
    "    data=[cnmf_movie, rcm, rcb, residuals],\n",
    "    vmin_vmax_sliders=True,\n",
    "    cmap=\"gnuplot2\",\n",
    "    names=[\"movie\", \"A * C\", \"b * f\", \"residuals\"]\n",
    ")\n",
    "\n",
    "iw_cnmf_grid.show()"
   ]
  },
  {
   "cell_type": "markdown",
   "id": "e5e0abad-00a1-4719-a3ee-7326dbd3a46c",
   "metadata": {},
   "source": [
    "### Close the canvas to free up the GPU if necessary "
   ]
  },
  {
   "cell_type": "code",
   "execution_count": null,
   "id": "46024add-4576-4c8b-85fd-3e6f3052a919",
   "metadata": {},
   "outputs": [],
   "source": [
    "iw_cnmf_grid.plot.canvas.close()"
   ]
  },
  {
   "cell_type": "markdown",
   "id": "3ea14761-5082-437b-8af5-eff2b8c44765",
   "metadata": {},
   "source": [
    "# Visualize movie, rcm, and stack of temporal components\n",
    "\n",
    "This example shows only good components, but as shown before you can also compare between good and bad components if you want"
   ]
  },
  {
   "cell_type": "code",
   "execution_count": null,
   "id": "6e2fdf49-8312-4e70-9a33-f76e3ae12ce2",
   "metadata": {},
   "outputs": [
    {
     "data": {
      "application/vnd.jupyter.widget-view+json": {
       "model_id": "",
       "version_major": 2,
       "version_minor": 0
      },
      "text/plain": [
       "RFBOutputContext()"
      ]
     },
     "metadata": {},
     "output_type": "display_data"
    },
    {
     "data": {
      "application/vnd.jupyter.widget-view+json": {
       "model_id": "",
       "version_major": 2,
       "version_minor": 0
      },
      "text/plain": [
       "RFBOutputContext()"
      ]
     },
     "metadata": {},
     "output_type": "display_data"
    },
    {
     "data": {
      "application/vnd.jupyter.widget-view+json": {
       "model_id": "",
       "version_major": 2,
       "version_minor": 0
      },
      "text/plain": [
       "VBox(children=(JupyterWgpuCanvas(), JupyterWgpuCanvas(), IntSlider(value=0, max=2999)))"
      ]
     },
     "metadata": {},
     "output_type": "display_data"
    }
   ],
   "source": [
    "# 1 row, 3 columns, sync the first 2 subplots plots\n",
    "cnmf_grid_more = GridPlot((1, 3), controllers=[[0, 0, 1]], names=[[\"movie\", \"rcm\", \"temporal\"]])\n",
    "\n",
    "# movie and rcm, rcm is a lazy array and behaves similar to numpy arrays\n",
    "movie_graphic = cnmf_grid_more[\"movie\"].add_image(cnmf_movie[0], cmap=\"gnuplot2\")\n",
    "rcm_graphic = cnmf_grid_more[\"rcm\"].add_image(rcm[0], cmap=\"gnuplot2\")\n",
    "\n",
    "# contours for good components\n",
    "contours_good, coms = df.iloc[index].cnmf.get_contours(\"good\")\n",
    "\n",
    "# random colors for contours and temporal components\n",
    "# make an RGBA array for each color\n",
    "rand_colors = np.random.rand(len(contours_good), 4)  # [n_contours, RGBA]\n",
    "rand_colors[:, -1] = 1 # set alpha = 1\n",
    "\n",
    "# get temporal of only good components\n",
    "temporal_good = df.iloc[index].cnmf.get_temporal(\"good\")\n",
    "\n",
    "# add contours to both movie and rcm subplots\n",
    "contours_movie = cnmf_grid_more[\"movie\"].add_line_collection(contours_good, colors=rand_colors)\n",
    "contours_rcm = cnmf_grid_more[\"rcm\"].add_line_collection(contours_good, colors=rand_colors)\n",
    "\n",
    "# line stack of temporal components\n",
    "temporal_stack = cnmf_grid_more[\"temporal\"].add_line_stack(temporal_good, colors=rand_colors)\n",
    "\n",
    "# plot single temporal, just like before\n",
    "plot_temporal_single = Plot()\n",
    "temporal_graphic = plot_temporal_single.add_line_collection(temporal_good, colors=rand_colors)\n",
    "\n",
    "# since this is a GridPlot and not an ImageWidget we need to define sliders\n",
    "slider = IntSlider(min=0, max=cnmf_movie.shape[0] - 1, value=0, step=1)\n",
    "\n",
    "# vertical line sliders\n",
    "_ls = LineSlider(x_pos=0, bounds=(temporal.min(), temporal.max()), slider=slider)\n",
    "_ls2 = LineSlider(x_pos=0, bounds=(temporal.min(), temporal.max() + temporal_stack.items[-1].position.y), slider=slider)\n",
    "plot_temporal_single.add_graphic(_ls)\n",
    "cnmf_grid_more[\"temporal\"].add_graphic(_ls2)\n",
    "\n",
    "# function to update each frame\n",
    "def update_frame(change):\n",
    "    ix = change[\"new\"]\n",
    "    movie_graphic.data = cnmf_movie[ix]\n",
    "    rcm_graphic.data = rcm[ix]\n",
    "    \n",
    "slider.observe(update_frame, \"value\")\n",
    "\n",
    "@plot_temporal_single.renderer.add_event_handler(\"resize\")\n",
    "def update_slider_width(*args):\n",
    "    width, h = plot_temporal_single.renderer.logical_size\n",
    "    slider.layout = Layout(width=f\"{width}px\")\n",
    "    \n",
    "VBox([plot_temporal_single.show(), cnmf_grid_more.show(), slider])"
   ]
  },
  {
   "cell_type": "markdown",
   "id": "9becf3f5-9188-4652-8b6c-854e47e64a03",
   "metadata": {},
   "source": [
    "### autoscaling"
   ]
  },
  {
   "cell_type": "code",
   "execution_count": null,
   "id": "f5c4876b-1220-417f-b8f7-b959c370adb6",
   "metadata": {},
   "outputs": [],
   "source": [
    "plot_temporal_single.auto_scale()\n",
    "plot_temporal_single.camera.scale.x = 0.85\n",
    "cnmf_grid_more[\"temporal\"].auto_scale()"
   ]
  },
  {
   "cell_type": "markdown",
   "id": "a45c8741-cb01-4b2d-9405-2d516825bd08",
   "metadata": {},
   "source": [
    "### Interactivity just like before"
   ]
  },
  {
   "cell_type": "code",
   "execution_count": null,
   "id": "4276fe3f-263f-4bda-9c4c-eea1882eee7e",
   "metadata": {},
   "outputs": [],
   "source": [
    "# so we can view them one by one, first hide all of them\n",
    "temporal_graphic[:].present = False\n",
    "\n",
    "# link image to contours\n",
    "movie_graphic.link(\n",
    "    \"click\",\n",
    "    target=contours_movie,\n",
    "    feature=\"colors\", \n",
    "    new_data=\"w\", \n",
    "    callback=euclidean  # we cam re-use it from before\n",
    ")\n",
    "\n",
    "# link image to contours\n",
    "rcm_graphic.link(\n",
    "    \"click\",\n",
    "    target=contours_rcm,\n",
    "    feature=\"colors\", \n",
    "    new_data=\"w\", \n",
    "    callback=euclidean  # we cam re-use it from before\n",
    ")"
   ]
  },
  {
   "cell_type": "code",
   "execution_count": null,
   "id": "311650f2-4508-4e3e-a0cb-2e43657a8bd9",
   "metadata": {},
   "outputs": [],
   "source": [
    "# contours colors -> contor thickness\n",
    "contours_movie.link(\"colors\", target=contours_movie, feature=\"thickness\", new_data=5)\n",
    "contours_rcm.link(\"colors\", target=contours_rcm, feature=\"thickness\", new_data=5)"
   ]
  },
  {
   "cell_type": "code",
   "execution_count": null,
   "id": "eb0c65d6-0c69-46b0-ab4d-5210598c0f94",
   "metadata": {},
   "outputs": [
    {
     "name": "stderr",
     "output_type": "stream",
     "text": [
      "/home/kushalk/repos/fastplotlib/fastplotlib/graphics/features/_base.py:87: UserWarning: Event handler <bound method Interaction.event_handler of fastplotlib.LineCollection @ 0x7f3817e11210> is already registered.\n",
      "  warn(f\"Event handler {handler} is already registered.\")\n",
      "/home/kushalk/repos/fastplotlib/fastplotlib/graphics/features/_base.py:87: UserWarning: Event handler <bound method Interaction.event_handler of fastplotlib.LineCollection @ 0x7f3834199690> is already registered.\n",
      "  warn(f\"Event handler {handler} is already registered.\")\n"
     ]
    },
    {
     "ename": "RecursionError",
     "evalue": "maximum recursion depth exceeded in comparison",
     "output_type": "error",
     "traceback": [
      "\u001b[0;31m---------------------------------------------------------------------------\u001b[0m",
      "\u001b[0;31mRecursionError\u001b[0m                            Traceback (most recent call last)",
      "Cell \u001b[0;32mIn [27], line 2\u001b[0m\n\u001b[1;32m      1\u001b[0m \u001b[38;5;66;03m# contours_movie <-> contours_rcm\u001b[39;00m\n\u001b[0;32m----> 2\u001b[0m \u001b[43mcontours_rcm\u001b[49m\u001b[38;5;241;43m.\u001b[39;49m\u001b[43mlink\u001b[49m\u001b[43m(\u001b[49m\u001b[38;5;124;43m\"\u001b[39;49m\u001b[38;5;124;43mcolors\u001b[39;49m\u001b[38;5;124;43m\"\u001b[39;49m\u001b[43m,\u001b[49m\u001b[43m \u001b[49m\u001b[43mtarget\u001b[49m\u001b[38;5;241;43m=\u001b[39;49m\u001b[43mcontours_movie\u001b[49m\u001b[43m,\u001b[49m\u001b[43m \u001b[49m\u001b[43mfeature\u001b[49m\u001b[38;5;241;43m=\u001b[39;49m\u001b[38;5;124;43m\"\u001b[39;49m\u001b[38;5;124;43mcolors\u001b[39;49m\u001b[38;5;124;43m\"\u001b[39;49m\u001b[43m,\u001b[49m\u001b[43m \u001b[49m\u001b[43mnew_data\u001b[49m\u001b[38;5;241;43m=\u001b[39;49m\u001b[38;5;124;43m\"\u001b[39;49m\u001b[38;5;124;43mw\u001b[39;49m\u001b[38;5;124;43m\"\u001b[39;49m\u001b[43m,\u001b[49m\u001b[43m \u001b[49m\u001b[43mbidirectional\u001b[49m\u001b[38;5;241;43m=\u001b[39;49m\u001b[38;5;28;43;01mTrue\u001b[39;49;00m\u001b[43m)\u001b[49m\n",
      "File \u001b[0;32m~/repos/fastplotlib/fastplotlib/graphics/_base.py:135\u001b[0m, in \u001b[0;36mInteraction.link\u001b[0;34m(self, event_type, target, feature, new_data, callback, bidirectional)\u001b[0m\n\u001b[1;32m    131\u001b[0m     \u001b[38;5;28mself\u001b[39m\u001b[38;5;241m.\u001b[39mregistered_callbacks[event_type]\u001b[38;5;241m.\u001b[39mappend(\n\u001b[1;32m    132\u001b[0m         CallbackData(target\u001b[38;5;241m=\u001b[39mtarget, feature\u001b[38;5;241m=\u001b[39mfeature, new_data\u001b[38;5;241m=\u001b[39mnew_data, callback_function\u001b[38;5;241m=\u001b[39mcallback))\n\u001b[1;32m    134\u001b[0m \u001b[38;5;28;01mif\u001b[39;00m bidirectional:\n\u001b[0;32m--> 135\u001b[0m     \u001b[43mtarget\u001b[49m\u001b[38;5;241;43m.\u001b[39;49m\u001b[43mlink\u001b[49m\u001b[43m(\u001b[49m\n\u001b[1;32m    136\u001b[0m \u001b[43m        \u001b[49m\u001b[43mevent_type\u001b[49m\u001b[38;5;241;43m=\u001b[39;49m\u001b[43mevent_type\u001b[49m\u001b[43m,\u001b[49m\n\u001b[1;32m    137\u001b[0m \u001b[43m        \u001b[49m\u001b[43mtarget\u001b[49m\u001b[38;5;241;43m=\u001b[39;49m\u001b[38;5;28;43mself\u001b[39;49m\u001b[43m,\u001b[49m\n\u001b[1;32m    138\u001b[0m \u001b[43m        \u001b[49m\u001b[43mfeature\u001b[49m\u001b[38;5;241;43m=\u001b[39;49m\u001b[43mfeature\u001b[49m\u001b[43m,\u001b[49m\n\u001b[1;32m    139\u001b[0m \u001b[43m        \u001b[49m\u001b[43mnew_data\u001b[49m\u001b[38;5;241;43m=\u001b[39;49m\u001b[43mnew_data\u001b[49m\u001b[43m,\u001b[49m\n\u001b[1;32m    140\u001b[0m \u001b[43m        \u001b[49m\u001b[43mcallback\u001b[49m\u001b[38;5;241;43m=\u001b[39;49m\u001b[43mcallback\u001b[49m\u001b[43m,\u001b[49m\n\u001b[1;32m    141\u001b[0m \u001b[43m        \u001b[49m\u001b[43mbidirectional\u001b[49m\u001b[38;5;241;43m=\u001b[39;49m\u001b[43mbidirectional\u001b[49m\n\u001b[1;32m    142\u001b[0m \u001b[43m    \u001b[49m\u001b[43m)\u001b[49m\n",
      "File \u001b[0;32m~/repos/fastplotlib/fastplotlib/graphics/_base.py:135\u001b[0m, in \u001b[0;36mInteraction.link\u001b[0;34m(self, event_type, target, feature, new_data, callback, bidirectional)\u001b[0m\n\u001b[1;32m    131\u001b[0m     \u001b[38;5;28mself\u001b[39m\u001b[38;5;241m.\u001b[39mregistered_callbacks[event_type]\u001b[38;5;241m.\u001b[39mappend(\n\u001b[1;32m    132\u001b[0m         CallbackData(target\u001b[38;5;241m=\u001b[39mtarget, feature\u001b[38;5;241m=\u001b[39mfeature, new_data\u001b[38;5;241m=\u001b[39mnew_data, callback_function\u001b[38;5;241m=\u001b[39mcallback))\n\u001b[1;32m    134\u001b[0m \u001b[38;5;28;01mif\u001b[39;00m bidirectional:\n\u001b[0;32m--> 135\u001b[0m     \u001b[43mtarget\u001b[49m\u001b[38;5;241;43m.\u001b[39;49m\u001b[43mlink\u001b[49m\u001b[43m(\u001b[49m\n\u001b[1;32m    136\u001b[0m \u001b[43m        \u001b[49m\u001b[43mevent_type\u001b[49m\u001b[38;5;241;43m=\u001b[39;49m\u001b[43mevent_type\u001b[49m\u001b[43m,\u001b[49m\n\u001b[1;32m    137\u001b[0m \u001b[43m        \u001b[49m\u001b[43mtarget\u001b[49m\u001b[38;5;241;43m=\u001b[39;49m\u001b[38;5;28;43mself\u001b[39;49m\u001b[43m,\u001b[49m\n\u001b[1;32m    138\u001b[0m \u001b[43m        \u001b[49m\u001b[43mfeature\u001b[49m\u001b[38;5;241;43m=\u001b[39;49m\u001b[43mfeature\u001b[49m\u001b[43m,\u001b[49m\n\u001b[1;32m    139\u001b[0m \u001b[43m        \u001b[49m\u001b[43mnew_data\u001b[49m\u001b[38;5;241;43m=\u001b[39;49m\u001b[43mnew_data\u001b[49m\u001b[43m,\u001b[49m\n\u001b[1;32m    140\u001b[0m \u001b[43m        \u001b[49m\u001b[43mcallback\u001b[49m\u001b[38;5;241;43m=\u001b[39;49m\u001b[43mcallback\u001b[49m\u001b[43m,\u001b[49m\n\u001b[1;32m    141\u001b[0m \u001b[43m        \u001b[49m\u001b[43mbidirectional\u001b[49m\u001b[38;5;241;43m=\u001b[39;49m\u001b[43mbidirectional\u001b[49m\n\u001b[1;32m    142\u001b[0m \u001b[43m    \u001b[49m\u001b[43m)\u001b[49m\n",
      "    \u001b[0;31m[... skipping similar frames: Interaction.link at line 135 (2959 times)]\u001b[0m\n",
      "File \u001b[0;32m~/repos/fastplotlib/fastplotlib/graphics/_base.py:135\u001b[0m, in \u001b[0;36mInteraction.link\u001b[0;34m(self, event_type, target, feature, new_data, callback, bidirectional)\u001b[0m\n\u001b[1;32m    131\u001b[0m     \u001b[38;5;28mself\u001b[39m\u001b[38;5;241m.\u001b[39mregistered_callbacks[event_type]\u001b[38;5;241m.\u001b[39mappend(\n\u001b[1;32m    132\u001b[0m         CallbackData(target\u001b[38;5;241m=\u001b[39mtarget, feature\u001b[38;5;241m=\u001b[39mfeature, new_data\u001b[38;5;241m=\u001b[39mnew_data, callback_function\u001b[38;5;241m=\u001b[39mcallback))\n\u001b[1;32m    134\u001b[0m \u001b[38;5;28;01mif\u001b[39;00m bidirectional:\n\u001b[0;32m--> 135\u001b[0m     \u001b[43mtarget\u001b[49m\u001b[38;5;241;43m.\u001b[39;49m\u001b[43mlink\u001b[49m\u001b[43m(\u001b[49m\n\u001b[1;32m    136\u001b[0m \u001b[43m        \u001b[49m\u001b[43mevent_type\u001b[49m\u001b[38;5;241;43m=\u001b[39;49m\u001b[43mevent_type\u001b[49m\u001b[43m,\u001b[49m\n\u001b[1;32m    137\u001b[0m \u001b[43m        \u001b[49m\u001b[43mtarget\u001b[49m\u001b[38;5;241;43m=\u001b[39;49m\u001b[38;5;28;43mself\u001b[39;49m\u001b[43m,\u001b[49m\n\u001b[1;32m    138\u001b[0m \u001b[43m        \u001b[49m\u001b[43mfeature\u001b[49m\u001b[38;5;241;43m=\u001b[39;49m\u001b[43mfeature\u001b[49m\u001b[43m,\u001b[49m\n\u001b[1;32m    139\u001b[0m \u001b[43m        \u001b[49m\u001b[43mnew_data\u001b[49m\u001b[38;5;241;43m=\u001b[39;49m\u001b[43mnew_data\u001b[49m\u001b[43m,\u001b[49m\n\u001b[1;32m    140\u001b[0m \u001b[43m        \u001b[49m\u001b[43mcallback\u001b[49m\u001b[38;5;241;43m=\u001b[39;49m\u001b[43mcallback\u001b[49m\u001b[43m,\u001b[49m\n\u001b[1;32m    141\u001b[0m \u001b[43m        \u001b[49m\u001b[43mbidirectional\u001b[49m\u001b[38;5;241;43m=\u001b[39;49m\u001b[43mbidirectional\u001b[49m\n\u001b[1;32m    142\u001b[0m \u001b[43m    \u001b[49m\u001b[43m)\u001b[49m\n",
      "File \u001b[0;32m~/repos/fastplotlib/fastplotlib/graphics/_base.py:112\u001b[0m, in \u001b[0;36mInteraction.link\u001b[0;34m(self, event_type, target, feature, new_data, callback, bidirectional)\u001b[0m\n\u001b[1;32m    110\u001b[0m \u001b[38;5;28;01melif\u001b[39;00m event_type \u001b[38;5;129;01min\u001b[39;00m \u001b[38;5;28mself\u001b[39m\u001b[38;5;241m.\u001b[39mfeature_events:\n\u001b[1;32m    111\u001b[0m     \u001b[38;5;28;01mif\u001b[39;00m \u001b[38;5;28misinstance\u001b[39m(\u001b[38;5;28mself\u001b[39m, GraphicCollection):\n\u001b[0;32m--> 112\u001b[0m         feature_instance \u001b[38;5;241m=\u001b[39m \u001b[38;5;28mgetattr\u001b[39m(\u001b[38;5;28;43mself\u001b[39;49m\u001b[43m[\u001b[49m\u001b[43m:\u001b[49m\u001b[43m]\u001b[49m, event_type)\n\u001b[1;32m    113\u001b[0m     \u001b[38;5;28;01melse\u001b[39;00m:\n\u001b[1;32m    114\u001b[0m         feature_instance \u001b[38;5;241m=\u001b[39m \u001b[38;5;28mgetattr\u001b[39m(\u001b[38;5;28mself\u001b[39m, event_type)\n",
      "File \u001b[0;32m~/repos/fastplotlib/fastplotlib/graphics/_base.py:249\u001b[0m, in \u001b[0;36mGraphicCollection.__getitem__\u001b[0;34m(self, key)\u001b[0m\n\u001b[1;32m    244\u001b[0m \u001b[38;5;28;01melse\u001b[39;00m:\n\u001b[1;32m    245\u001b[0m     \u001b[38;5;28;01mraise\u001b[39;00m \u001b[38;5;167;01mTypeError\u001b[39;00m(\u001b[38;5;124mf\u001b[39m\u001b[38;5;124m\"\u001b[39m\u001b[38;5;132;01m{\u001b[39;00m\u001b[38;5;28mself\u001b[39m\u001b[38;5;241m.\u001b[39m\u001b[38;5;18m__class__\u001b[39m\u001b[38;5;241m.\u001b[39m\u001b[38;5;18m__name__\u001b[39m\u001b[38;5;132;01m}\u001b[39;00m\u001b[38;5;124m indexing supports \u001b[39m\u001b[38;5;124m\"\u001b[39m\n\u001b[1;32m    246\u001b[0m                     \u001b[38;5;124mf\u001b[39m\u001b[38;5;124m\"\u001b[39m\u001b[38;5;124m1D numpy arrays, int, slice, tuple or list of integers, \u001b[39m\u001b[38;5;124m\"\u001b[39m\n\u001b[1;32m    247\u001b[0m                     \u001b[38;5;124mf\u001b[39m\u001b[38;5;124m\"\u001b[39m\u001b[38;5;124myou have passed a <\u001b[39m\u001b[38;5;132;01m{\u001b[39;00m\u001b[38;5;28mtype\u001b[39m(key)\u001b[38;5;132;01m}\u001b[39;00m\u001b[38;5;124m>\u001b[39m\u001b[38;5;124m\"\u001b[39m)\n\u001b[0;32m--> 249\u001b[0m \u001b[38;5;28;01mreturn\u001b[39;00m \u001b[43mCollectionIndexer\u001b[49m\u001b[43m(\u001b[49m\n\u001b[1;32m    250\u001b[0m \u001b[43m    \u001b[49m\u001b[43mparent\u001b[49m\u001b[38;5;241;43m=\u001b[39;49m\u001b[38;5;28;43mself\u001b[39;49m\u001b[43m,\u001b[49m\n\u001b[1;32m    251\u001b[0m \u001b[43m    \u001b[49m\u001b[43mselection\u001b[49m\u001b[38;5;241;43m=\u001b[39;49m\u001b[43mselection\u001b[49m\u001b[43m,\u001b[49m\n\u001b[1;32m    252\u001b[0m \u001b[43m    \u001b[49m\u001b[43mselection_indices\u001b[49m\u001b[38;5;241;43m=\u001b[39;49m\u001b[43mselection_indices\u001b[49m\n\u001b[1;32m    253\u001b[0m \u001b[43m\u001b[49m\u001b[43m)\u001b[49m\n",
      "File \u001b[0;32m~/repos/fastplotlib/fastplotlib/graphics/_base.py:281\u001b[0m, in \u001b[0;36mCollectionIndexer.__init__\u001b[0;34m(self, parent, selection, selection_indices)\u001b[0m\n\u001b[1;32m    279\u001b[0m attr \u001b[38;5;241m=\u001b[39m \u001b[38;5;28mgetattr\u001b[39m(\u001b[38;5;28mself\u001b[39m\u001b[38;5;241m.\u001b[39m_selection[\u001b[38;5;241m0\u001b[39m], attr_name)\n\u001b[1;32m    280\u001b[0m \u001b[38;5;28;01mif\u001b[39;00m \u001b[38;5;28misinstance\u001b[39m(attr, GraphicFeature):\n\u001b[0;32m--> 281\u001b[0m     collection_feature \u001b[38;5;241m=\u001b[39m \u001b[43mCollectionFeature\u001b[49m\u001b[43m(\u001b[49m\n\u001b[1;32m    282\u001b[0m \u001b[43m        \u001b[49m\u001b[43mparent\u001b[49m\u001b[43m,\u001b[49m\n\u001b[1;32m    283\u001b[0m \u001b[43m        \u001b[49m\u001b[38;5;28;43mself\u001b[39;49m\u001b[38;5;241;43m.\u001b[39;49m\u001b[43m_selection\u001b[49m\u001b[43m,\u001b[49m\n\u001b[1;32m    284\u001b[0m \u001b[43m        \u001b[49m\u001b[43mselection_indices\u001b[49m\u001b[38;5;241;43m=\u001b[39;49m\u001b[43mselection_indices\u001b[49m\u001b[43m,\u001b[49m\n\u001b[1;32m    285\u001b[0m \u001b[43m        \u001b[49m\u001b[43mfeature\u001b[49m\u001b[38;5;241;43m=\u001b[39;49m\u001b[43mattr_name\u001b[49m\n\u001b[1;32m    286\u001b[0m \u001b[43m    \u001b[49m\u001b[43m)\u001b[49m\n\u001b[1;32m    287\u001b[0m     collection_feature\u001b[38;5;241m.\u001b[39m\u001b[38;5;18m__doc__\u001b[39m \u001b[38;5;241m=\u001b[39m \u001b[38;5;124mf\u001b[39m\u001b[38;5;124m\"\u001b[39m\u001b[38;5;124mindexable \u001b[39m\u001b[38;5;132;01m{\u001b[39;00mattr_name\u001b[38;5;132;01m}\u001b[39;00m\u001b[38;5;124m feature for collection\u001b[39m\u001b[38;5;124m\"\u001b[39m\n\u001b[1;32m    288\u001b[0m     \u001b[38;5;28msetattr\u001b[39m(\u001b[38;5;28mself\u001b[39m, attr_name, collection_feature)\n",
      "File \u001b[0;32m~/repos/fastplotlib/fastplotlib/graphics/_base.py:322\u001b[0m, in \u001b[0;36mCollectionFeature.__init__\u001b[0;34m(self, parent, selection, selection_indices, feature)\u001b[0m\n\u001b[1;32m    319\u001b[0m     fi \u001b[38;5;241m=\u001b[39m \u001b[38;5;28mgetattr\u001b[39m(graphic, \u001b[38;5;28mself\u001b[39m\u001b[38;5;241m.\u001b[39m_feature)\n\u001b[1;32m    320\u001b[0m     \u001b[38;5;28mself\u001b[39m\u001b[38;5;241m.\u001b[39m_feature_instances\u001b[38;5;241m.\u001b[39mappend(fi)\n\u001b[0;32m--> 322\u001b[0m \u001b[38;5;28;01mif\u001b[39;00m \u001b[38;5;28;43misinstance\u001b[39;49m\u001b[43m(\u001b[49m\u001b[43mfi\u001b[49m\u001b[43m,\u001b[49m\u001b[43m \u001b[49m\u001b[43mGraphicFeatureIndexable\u001b[49m\u001b[43m)\u001b[49m:\n\u001b[1;32m    323\u001b[0m     \u001b[38;5;28mself\u001b[39m\u001b[38;5;241m.\u001b[39m_indexable \u001b[38;5;241m=\u001b[39m \u001b[38;5;28;01mTrue\u001b[39;00m\n\u001b[1;32m    324\u001b[0m \u001b[38;5;28;01melse\u001b[39;00m:\n",
      "File \u001b[0;32m/usr/local/lib/python3.10/abc.py:119\u001b[0m, in \u001b[0;36mABCMeta.__instancecheck__\u001b[0;34m(cls, instance)\u001b[0m\n\u001b[1;32m    117\u001b[0m \u001b[38;5;28;01mdef\u001b[39;00m \u001b[38;5;21m__instancecheck__\u001b[39m(\u001b[38;5;28mcls\u001b[39m, instance):\n\u001b[1;32m    118\u001b[0m     \u001b[38;5;124;03m\"\"\"Override for isinstance(instance, cls).\"\"\"\u001b[39;00m\n\u001b[0;32m--> 119\u001b[0m     \u001b[38;5;28;01mreturn\u001b[39;00m \u001b[43m_abc_instancecheck\u001b[49m\u001b[43m(\u001b[49m\u001b[38;5;28;43mcls\u001b[39;49m\u001b[43m,\u001b[49m\u001b[43m \u001b[49m\u001b[43minstance\u001b[49m\u001b[43m)\u001b[49m\n",
      "\u001b[0;31mRecursionError\u001b[0m: maximum recursion depth exceeded in comparison"
     ]
    }
   ],
   "source": [
    "# contours_movie <-> contours_rcm\n",
    "contours_rcm.link(\"colors\", target=contours_movie, feature=\"colors\", new_data=\"w\", bidirectional=True)"
   ]
  },
  {
   "cell_type": "code",
   "execution_count": null,
   "id": "0e1d7212-5650-4300-a3bf-ec0c90645c97",
   "metadata": {},
   "outputs": [
    {
     "data": {
      "text/plain": [
       "{'colors': [CallbackData(target=fastplotlib.LineCollection @ 0x7f4aa1ec1cf0, feature='thickness', new_data=5, callback_function=None),\n",
       "  CallbackData(target=fastplotlib.LineCollection @ 0x7f4aa1ec1f30, feature='colors', new_data='w', callback_function=None)]}"
      ]
     },
     "execution_count": 136,
     "metadata": {},
     "output_type": "execute_result"
    }
   ],
   "source": [
    "contours_movie.registered_callbacks"
   ]
  },
  {
   "cell_type": "code",
   "execution_count": null,
   "id": "7d6ea629-4009-4b18-84fd-316f2bb81f26",
   "metadata": {
    "tags": []
   },
   "outputs": [],
   "source": [
    "# contours -> temporal stack\n",
    "contours_movie.link(\"colors\", target=temporal_stack, feature=\"colors\", new_data=\"w\")\n",
    "contours_movie.link(\"colors\", target=temporal_stack, feature=\"thickness\", new_data=4)"
   ]
  },
  {
   "cell_type": "code",
   "execution_count": null,
   "id": "df1ebe6e-edaa-435b-82ec-ab14e2b611e7",
   "metadata": {},
   "outputs": [],
   "source": [
    "# contours rcm -> temporal stack\n",
    "contours_rcm.link(\"colors\", target=temporal_stack, feature=\"colors\", new_data=\"w\")\n",
    "contours_rcm.link(\"colors\", target=temporal_stack, feature=\"thickness\", new_data=4)"
   ]
  },
  {
   "cell_type": "code",
   "execution_count": null,
   "id": "2ad9fcbd-05cf-4de9-b0f6-85b0cd4a6495",
   "metadata": {},
   "outputs": [
    {
     "name": "stderr",
     "output_type": "stream",
     "text": [
      "/home/kushalk/repos/fastplotlib/fastplotlib/graphics/features/_base.py:87: UserWarning: Event handler <bound method Interaction.event_handler of fastplotlib.LineCollection @ 0x7f4ab3f0bd00> is already registered.\n",
      "  warn(f\"Event handler {handler} is already registered.\")\n",
      "/home/kushalk/repos/fastplotlib/fastplotlib/graphics/features/_base.py:87: UserWarning: Event handler <bound method Interaction.event_handler of fastplotlib.LineCollection @ 0x7f4ab3f0bf40> is already registered.\n",
      "  warn(f\"Event handler {handler} is already registered.\")\n",
      "/home/kushalk/repos/fastplotlib/fastplotlib/graphics/features/_base.py:87: UserWarning: Event handler <bound method Interaction.event_handler of fastplotlib.LineStack @ 0x7f4ab3f283a0> is already registered.\n",
      "  warn(f\"Event handler {handler} is already registered.\")\n"
     ]
    }
   ],
   "source": [
    "# temporal stack -> temporal single\n",
    "temporal_stack.link(\"colors\", target=temporal_graphic, feature=\"present\", new_data=True)\n",
    "temporal_stack.link(\"colors\", target=temporal_graphic, feature=\"colors\", new_data=\"w\")\n",
    "\n",
    "# temporal stack click -> contours\n",
    "# since this changes the contour's color, it will trigger everything else defined above\n",
    "temporal_stack.link(\"click\", target=temporal_graphic, feature=\"colors\", new_data=\"w\")\n",
    "\n",
    "# autoscale temporal plot to the current temporal component\n",
    "temporal_graphic[:].present.add_event_handler(plot_temporal_single.auto_scale)"
   ]
  },
  {
   "cell_type": "markdown",
   "id": "4ed6855b-429b-4181-ba9d-4076e48b4ad5",
   "metadata": {},
   "source": [
    "### You can get the temporal components using `cnmf.get_temporal()`. Visualize using `seaborn`, stacked line plots and heatmaps are not yet implemented in `fastplotlib`."
   ]
  },
  {
   "cell_type": "code",
   "execution_count": null,
   "id": "6f957582-1a74-4d59-b6b5-f1ca628df0fa",
   "metadata": {
    "pycharm": {
     "name": "#%%\n"
    }
   },
   "outputs": [
    {
     "data": {
      "text/plain": [
       "<AxesSubplot:>"
      ]
     },
     "execution_count": 35,
     "metadata": {},
     "output_type": "execute_result"
    },
    {
     "data": {
      "image/png": "[encoded data removed]",
      "text/plain": [
       "<Figure size 720x720 with 2 Axes>"
      ]
     },
     "metadata": {
      "needs_background": "light"
     },
     "output_type": "display_data"
    }
   ],
   "source": [
    "import seaborn as sns # if you have seaborn installed\n",
    "\n",
    "fig = plt.figure(figsize=(10, 10))\n",
    "sns.heatmap(df.iloc[index].cnmf.get_temporal())"
   ]
  },
  {
   "cell_type": "markdown",
   "id": "8b4aec71-43d6-45bc-81f3-a952a24e294a",
   "metadata": {},
   "source": [
    "# Component Evaluation\n",
    "\n",
    "These are some ipywidgets that you can use for interactive component evaluation"
   ]
  },
  {
   "cell_type": "code",
   "execution_count": null,
   "id": "182458d0-ddc0-4995-b429-20f780914917",
   "metadata": {},
   "outputs": [],
   "source": [
    "# import some stuff\n",
    "from ipywidgets import FloatSlider, FloatText, Label, HBox, VBox, link, Layout\n",
    "from collections import OrderedDict"
   ]
  },
  {
   "cell_type": "markdown",
   "id": "61783906-51fb-4c6b-a590-a580e8ff6e21",
   "metadata": {},
   "source": [
    "#### This is just GUI layout stuff"
   ]
  },
  {
   "cell_type": "code",
   "execution_count": null,
   "id": "a0f90b11-5400-4a09-9a9f-5b56a0468226",
   "metadata": {},
   "outputs": [],
   "source": [
    "# low thresholds\n",
    "lt = OrderedDict(\n",
    "    rval_lowest=(-1.0, -1.0, 1.0), # (val, min, max)\n",
    "    SNR_lowest=(0.5, 0., 100), \n",
    "    cnn_lowest=(0.1, 0., 1.0),\n",
    ")\n",
    "\n",
    "# high thresholds\n",
    "ht = OrderedDict(\n",
    "    rval_thr=(0.8, 0., 1.0),\n",
    "    min_SNR=(2.5, 0., 100),\n",
    "    min_cnn_thr=(0.9, 0., 1.0),\n",
    ")\n",
    "\n",
    "lw = list()\n",
    "for k in lt:\n",
    "    kwargs = dict(value=lt[k][0], min=lt[k][1], max=lt[k][2], step=0.01, description=k)\n",
    "    slider = FloatSlider(**kwargs)\n",
    "    entry = FloatText(**kwargs, layout=Layout(width=\"150px\"))\n",
    "    \n",
    "    link((slider, \"value\"), (entry, \"value\"))\n",
    "    \n",
    "    lw.append(HBox([slider, entry]))\n",
    "    \n",
    "hw = list()\n",
    "for k in ht:\n",
    "    kwargs = dict(value=ht[k][0], min=ht[k][1], max=ht[k][2], step=0.01, description=k)\n",
    "    slider = FloatSlider(**kwargs)\n",
    "    entry = FloatText(**kwargs, layout=Layout(width=\"150px\"))\n",
    "    \n",
    "    link((slider, \"value\"), (entry, \"value\"))\n",
    "    \n",
    "    hw.append(HBox([slider, entry]))\n",
    "\n",
    "def get_eval_params():\n",
    "    \"\"\"get the values from the GUI\"\"\"\n",
    "    _eval_params = [{w.children[0].description: w.children[0].value for w in ws} for ws in [lw, hw]]\n",
    "    return {**_eval_params[0], **_eval_params[1]}"
   ]
  },
  {
   "cell_type": "markdown",
   "id": "2ce3a74f-dab8-49a4-9397-fd8576568506",
   "metadata": {},
   "source": [
    "### Get the contour coordinates and cnmf movie for the 5th index"
   ]
  },
  {
   "cell_type": "code",
   "execution_count": null,
   "id": "b7b857ee-4ac5-43f5-af0f-f52e89699bec",
   "metadata": {},
   "outputs": [
    {
     "name": "stderr",
     "output_type": "stream",
     "text": [
      "/tmp/ipykernel_671788/3614576863.py:5: FutureWarning: You are trying to use the following experimental feature, this may change in the future without warning:\n",
      "CaimanSeriesExtensions.get_input_movie\n",
      "\n",
      "\n",
      "  cnmf_movie = df.iloc[index].caiman.get_input_movie()\n"
     ]
    }
   ],
   "source": [
    "# You can change this index to do eval for different batch items\n",
    "index = 5\n",
    "\n",
    "# get the motion corrected movie as a memmap\n",
    "cnmf_movie = df.iloc[index].caiman.get_input_movie()\n",
    "\n",
    "# we can get the contours of the spatial components\n",
    "coors_all, coms_all = df.iloc[index].cnmf.get_contours(component_indices=\"all\")\n",
    "\n",
    "# initial good and bad component indices\n",
    "good_ixs = df.iloc[index].cnmf.get_good_components()\n",
    "bad_ixs = df.iloc[index].cnmf.get_bad_components()\n",
    "\n",
    "# RGBA array, good = cyan, bad = magenta\n",
    "good_color = [0, 1, 1, 0.7]\n",
    "bad_color = [1, 0, 1, 0.7]"
   ]
  },
  {
   "cell_type": "markdown",
   "id": "d55bad92-ae75-41dc-a0b3-dddcadf1e893",
   "metadata": {},
   "source": [
    "#### Sanity check"
   ]
  },
  {
   "cell_type": "code",
   "execution_count": null,
   "id": "84308c34-b6a3-42ef-ae91-8765b3c35184",
   "metadata": {},
   "outputs": [
    {
     "data": {
      "text/plain": [
       "True"
      ]
     },
     "execution_count": 39,
     "metadata": {},
     "output_type": "execute_result"
    }
   ],
   "source": [
    "len(coors_all) == good_ixs.size + bad_ixs.size"
   ]
  },
  {
   "cell_type": "markdown",
   "id": "bf88409b-49bf-4f70-a5b9-81f7e1d2e94d",
   "metadata": {},
   "source": [
    "### This plot updates the contour colors interactively to label them as bad or good. It also stores them in the batch item's params dict in a new key called `\"eval\"`, you can view them using `df.iloc[index].params`."
   ]
  },
  {
   "cell_type": "code",
   "execution_count": null,
   "id": "1199b063-4d1e-471b-9ad3-f66b8e7ecc4a",
   "metadata": {},
   "outputs": [
    {
     "data": {
      "application/vnd.jupyter.widget-view+json": {
       "model_id": "3d56f883d70c4536a4872037236e8b8b",
       "version_major": 2,
       "version_minor": 0
      },
      "text/plain": [
       "RFBOutputContext()"
      ]
     },
     "metadata": {},
     "output_type": "display_data"
    },
    {
     "data": {
      "application/vnd.jupyter.widget-view+json": {
       "model_id": "ad4202b4f6844ede9a2f89778d057b3f",
       "version_major": 2,
       "version_minor": 0
      },
      "text/plain": [
       "VBox(children=(JupyterWgpuCanvas(), IntSlider(value=0, description='frame index', max=2999), Label(value=''), …"
      ]
     },
     "metadata": {},
     "output_type": "display_data"
    }
   ],
   "source": [
    "eval_params = get_eval_params()\n",
    "\n",
    "# create a simple plot\n",
    "plot = Plot()\n",
    "\n",
    "# plot the first frame, transpose so it lines up with contours\n",
    "image_graphic = plot.image(data=cnmf_movie[0].T, cmap='gray')\n",
    "\n",
    "# plot contours according to good/bad colors\n",
    "contour_graphics = list()\n",
    "for ix, coor in enumerate(coors_all):\n",
    "    if ix in good_ixs:\n",
    "        color = good_color\n",
    "    elif ix in bad_ixs:\n",
    "        color = bad_color\n",
    "    cg = plot.line(data=coor, zlevel=1, colors=color)\n",
    "    contour_graphics.append(cg)\n",
    "    \n",
    "# make a slider like for mcorr\n",
    "slider_cnmf = IntSlider(value=0, min=0, max=cnmf_movie.shape[0] - 1, step=1, description=\"frame index\")\n",
    "    \n",
    "previous_ix = 0\n",
    "\n",
    "label_eval = Label(value=\"\")\n",
    "\n",
    "# animate func just like mcorr viz\n",
    "def update_frame_cnmf():\n",
    "    global eval_params\n",
    "    global previous_ix\n",
    "    if slider_cnmf.value != previous_ix:\n",
    "        # update with frame from slider value, again transpose to line up with contours\n",
    "        image_graphic.update_data(data=cnmf_movie[slider_cnmf.value].T)\n",
    "        previous_ix = slider_cnmf.value\n",
    "    \n",
    "    new_eval_params = get_eval_params()\n",
    "    if new_eval_params == eval_params:\n",
    "        return\n",
    "    label_eval.value = \"Please wait running eval...\"\n",
    "    # run eval\n",
    "    df.iloc[index].cnmf.run_eval(new_eval_params)\n",
    "    \n",
    "    # get the new indices after eval\n",
    "    good_ixs = df.iloc[index].cnmf.get_good_components()\n",
    "    bad_ixs = df.iloc[index].cnmf.get_bad_components()\n",
    "\n",
    "    for ix, cg in enumerate(contour_graphics):\n",
    "        if ix in good_ixs:\n",
    "            color = good_color\n",
    "        elif ix in bad_ixs:\n",
    "            color = bad_color\n",
    "        cg.update_colors(color)\n",
    "    label_eval.value= \"Eval done!\"\n",
    "    eval_params = new_eval_params\n",
    "\n",
    "plot.add_animations([update_frame_cnmf])\n",
    "    \n",
    "VBox([\n",
    "    plot.show(), \n",
    "    slider_cnmf,\n",
    "    label_eval,\n",
    "    Label(value=\"Low Thresholds\"),\n",
    "    *lw,\n",
    "    Label(value=\"High Thresholds\"),\n",
    "    *hw   \n",
    "])"
   ]
  },
  {
   "cell_type": "markdown",
   "id": "cd969a77-1577-48e8-af9f-57eb2920b30c",
   "metadata": {},
   "source": [
    "### Eval params are stored, you can view them here:"
   ]
  },
  {
   "cell_type": "code",
   "execution_count": null,
   "id": "e2d56cb6-f070-4c1c-96a0-6a147bb19351",
   "metadata": {},
   "outputs": [
    {
     "data": {
      "text/plain": [
       "{'main': {'fr': 30,\n",
       "  'p': 1,\n",
       "  'nb': 2,\n",
       "  'merge_thr': 0.85,\n",
       "  'rf': 15,\n",
       "  'stride': 6,\n",
       "  'K': 4,\n",
       "  'gSig': (4, 4),\n",
       "  'ssub': 1,\n",
       "  'tsub': 1,\n",
       "  'method_init': 'greedy_roi',\n",
       "  'min_SNR': 2.0,\n",
       "  'rval_thr': 0.7,\n",
       "  'use_cnn': True,\n",
       "  'min_cnn_thr': 0.8,\n",
       "  'cnn_lowest': 0.1,\n",
       "  'decay_time': 0.4},\n",
       " 'refit': True,\n",
       " 'eval': {'rval_lowest': -1.0,\n",
       "  'SNR_lowest': 1.47,\n",
       "  'cnn_lowest': 0.24,\n",
       "  'rval_thr': 0.8,\n",
       "  'min_SNR': 0.0,\n",
       "  'min_cnn_thr': 0.72}}"
      ]
     },
     "execution_count": 41,
     "metadata": {},
     "output_type": "execute_result"
    }
   ],
   "source": [
    "df.iloc[index].params"
   ]
  },
  {
   "cell_type": "markdown",
   "id": "801f8820-9d61-4aef-934e-c3ac0554fb03",
   "metadata": {},
   "source": [
    "### If you want to save them to disk use the `caiman.save_to_disk()` extension. Changes to the DataFrame are only saved when you use `caiman.add_item()`. In other cases, such as saving the eval params, you can use `save_to_disk()`"
   ]
  },
  {
   "cell_type": "code",
   "execution_count": null,
   "id": "3e109cab-420f-4938-a0e9-dede35d85896",
   "metadata": {},
   "outputs": [],
   "source": [
    "df.caiman.save_to_disk()"
   ]
  },
  {
   "cell_type": "code",
   "execution_count": null,
   "id": "7ae6d9ac-b6d7-4294-82e9-c283d46d1cbf",
   "metadata": {},
   "outputs": [],
   "source": []
  }
 ],
 "metadata": {
  "kernelspec": {
   "display_name": "Python 3 (ipykernel)",
   "language": "python",
   "name": "python3"
  },
  "language_info": {
   "codemirror_mode": {
    "name": "ipython",
    "version": 3
   },
   "file_extension": ".py",
   "mimetype": "text/x-python",
   "name": "python",
   "nbconvert_exporter": "python",
   "pygments_lexer": "ipython3",
   "version": "3.10.5"
  }
 },
 "nbformat": 4,
 "nbformat_minor": 5
}
