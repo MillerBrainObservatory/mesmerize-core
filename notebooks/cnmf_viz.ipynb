{
 "cells": [
  {
   "cell_type": "markdown",
   "id": "8af06ee3-cba7-4f5c-8c5e-c47712aae6ad",
   "metadata": {},
   "source": [
    "# Visualization of CNMF outputs\n",
    "\n",
    "You must already have a containing CNMF outputs to run this nb"
   ]
  },
  {
   "cell_type": "code",
   "execution_count": 1,
   "id": "222bf36f-45e9-4408-800b-aaaa843d748d",
   "metadata": {
    "pycharm": {
     "name": "#%%\n"
    },
    "tags": []
   },
   "outputs": [
    {
     "name": "stderr",
     "output_type": "stream",
     "text": [
      "2023-01-08 01:31:44.276767: I tensorflow/core/platform/cpu_feature_guard.cc:193] This TensorFlow binary is optimized with oneAPI Deep Neural Network Library (oneDNN) to use the following CPU instructions in performance-critical operations:  AVX2 FMA\n",
      "To enable them in other operations, rebuild TensorFlow with the appropriate compiler flags.\n",
      "2023-01-08 01:31:44.359716: E tensorflow/stream_executor/cuda/cuda_blas.cc:2981] Unable to register cuBLAS factory: Attempting to register factory for plugin cuBLAS when one has already been registered\n",
      "2023-01-08 01:31:44.758577: W tensorflow/stream_executor/platform/default/dso_loader.cc:64] Could not load dynamic library 'libnvinfer.so.7'; dlerror: libnvinfer.so.7: cannot open shared object file: No such file or directory; LD_LIBRARY_PATH: /home/kushalk/python-venvs/mescore/lib/python3.10/site-packages/cv2/../../lib64:/usr/local/cuda-11.2/lib64:/usr/local/cuda-11.2/lib64\n",
      "2023-01-08 01:31:44.758636: W tensorflow/stream_executor/platform/default/dso_loader.cc:64] Could not load dynamic library 'libnvinfer_plugin.so.7'; dlerror: libnvinfer_plugin.so.7: cannot open shared object file: No such file or directory; LD_LIBRARY_PATH: /home/kushalk/python-venvs/mescore/lib/python3.10/site-packages/cv2/../../lib64:/usr/local/cuda-11.2/lib64:/usr/local/cuda-11.2/lib64\n",
      "2023-01-08 01:31:44.758640: W tensorflow/compiler/tf2tensorrt/utils/py_utils.cc:38] TF-TRT Warning: Cannot dlopen some TensorRT libraries. If you would like to use Nvidia GPU with TensorRT, please make sure the missing libraries mentioned above are installed properly.\n"
     ]
    }
   ],
   "source": [
    "from mesmerize_core import *\n",
    "import numpy as np\n",
    "import pandas as pd"
   ]
  },
  {
   "cell_type": "markdown",
   "id": "13a3b78e-a54e-4693-acda-1ac75c3ade9e",
   "metadata": {},
   "source": [
    "**You will need `fastplotlib` installed for the visualizations**"
   ]
  },
  {
   "cell_type": "code",
   "execution_count": 2,
   "id": "468afef4-7a36-4c2c-adb4-20bfd785b786",
   "metadata": {
    "pycharm": {
     "name": "#%%\n"
    }
   },
   "outputs": [],
   "source": [
    "from fastplotlib import ImageWidget, Plot, GridPlot\n",
    "from ipywidgets import VBox, IntSlider, Layout"
   ]
  },
  {
   "cell_type": "code",
   "execution_count": 3,
   "id": "82f6922d-c042-4ecd-bed7-560705d247f4",
   "metadata": {},
   "outputs": [],
   "source": [
    "pd.options.display.max_colwidth = 120"
   ]
  },
  {
   "cell_type": "markdown",
   "id": "3873e438-e232-41f6-87a3-9b49daa3cf38",
   "metadata": {},
   "source": [
    "# Paths"
   ]
  },
  {
   "cell_type": "code",
   "execution_count": 4,
   "id": "b6f3f3ed-29f0-4831-816b-7fe05119734a",
   "metadata": {
    "pycharm": {
     "name": "#%%\n"
    }
   },
   "outputs": [],
   "source": [
    "# for this demo set this dir as the path to your `caiman_data` dir\n",
    "set_parent_raw_data_path(\"/home/kushalk/caiman_data/\")\n",
    "\n",
    "# batch path\n",
    "batch_path = get_parent_raw_data_path().joinpath(\"mesmerize-core-batch/batch.pickle\")"
   ]
  },
  {
   "cell_type": "markdown",
   "id": "607a2164-da03-4b21-a951-8a57c2120c48",
   "metadata": {},
   "source": [
    "## Load batch"
   ]
  },
  {
   "cell_type": "code",
   "execution_count": 5,
   "id": "ba62939e-4584-44b8-8b84-df6c63b52187",
   "metadata": {
    "pycharm": {
     "name": "#%%\n"
    }
   },
   "outputs": [
    {
     "data": {
      "text/html": [
       "<div>\n",
       "<style scoped>\n",
       "    .dataframe tbody tr th:only-of-type {\n",
       "        vertical-align: middle;\n",
       "    }\n",
       "\n",
       "    .dataframe tbody tr th {\n",
       "        vertical-align: top;\n",
       "    }\n",
       "\n",
       "    .dataframe thead th {\n",
       "        text-align: right;\n",
       "    }\n",
       "</style>\n",
       "<table border=\"1\" class=\"dataframe\">\n",
       "  <thead>\n",
       "    <tr style=\"text-align: right;\">\n",
       "      <th></th>\n",
       "      <th>algo</th>\n",
       "      <th>item_name</th>\n",
       "      <th>input_movie_path</th>\n",
       "      <th>params</th>\n",
       "      <th>outputs</th>\n",
       "      <th>comments</th>\n",
       "      <th>uuid</th>\n",
       "    </tr>\n",
       "  </thead>\n",
       "  <tbody>\n",
       "    <tr>\n",
       "      <th>0</th>\n",
       "      <td>mcorr</td>\n",
       "      <td>Sue_2x_3000_40_-46</td>\n",
       "      <td>example_movies/Sue_2x_3000_40_-46.tif</td>\n",
       "      <td>{'main': {'max_shifts': (6, 6), 'strides': (24, 24), 'overlaps': (12, 12), 'max_deviation_rigid': 3, 'border_nan': '...</td>\n",
       "      <td>{'mean-projection-path': 09610b86-917a-41e7-a493-2d036bf44428/09610b86-917a-41e7-a493-2d036bf44428_mean_projection.n...</td>\n",
       "      <td>None</td>\n",
       "      <td>09610b86-917a-41e7-a493-2d036bf44428</td>\n",
       "    </tr>\n",
       "    <tr>\n",
       "      <th>1</th>\n",
       "      <td>cnmf</td>\n",
       "      <td>Sue_2x_3000_40_-46</td>\n",
       "      <td>09610b86-917a-41e7-a493-2d036bf44428/09610b86-917a-41e7-a493-2d036bf44428-Sue_2x_3000_40_-46_els__d1_170_d2_170_d3_1...</td>\n",
       "      <td>{'main': {'fr': 30, 'p': 1, 'nb': 2, 'merge_thr': 0.85, 'rf': 15, 'stride': 6, 'K': 4, 'gSig': (4, 4), 'ssub': 1, 't...</td>\n",
       "      <td>{'mean-projection-path': 2b9dabd8-7d22-4327-8479-aea36bde79cf/2b9dabd8-7d22-4327-8479-aea36bde79cf_mean_projection.n...</td>\n",
       "      <td>None</td>\n",
       "      <td>2b9dabd8-7d22-4327-8479-aea36bde79cf</td>\n",
       "    </tr>\n",
       "    <tr>\n",
       "      <th>2</th>\n",
       "      <td>cnmf</td>\n",
       "      <td>Sue_2x_3000_40_-46</td>\n",
       "      <td>09610b86-917a-41e7-a493-2d036bf44428/09610b86-917a-41e7-a493-2d036bf44428-Sue_2x_3000_40_-46_els__d1_170_d2_170_d3_1...</td>\n",
       "      <td>{'main': {'fr': 30, 'p': 1, 'nb': 2, 'merge_thr': 0.8, 'rf': 15, 'stride': 6, 'K': 4, 'gSig': (6, 6), 'ssub': 1, 'ts...</td>\n",
       "      <td>{'mean-projection-path': 38f85afb-417f-453a-8da5-28753b0dc290/38f85afb-417f-453a-8da5-28753b0dc290_mean_projection.n...</td>\n",
       "      <td>None</td>\n",
       "      <td>38f85afb-417f-453a-8da5-28753b0dc290</td>\n",
       "    </tr>\n",
       "    <tr>\n",
       "      <th>3</th>\n",
       "      <td>cnmf</td>\n",
       "      <td>Sue_2x_3000_40_-46</td>\n",
       "      <td>09610b86-917a-41e7-a493-2d036bf44428/09610b86-917a-41e7-a493-2d036bf44428-Sue_2x_3000_40_-46_els__d1_170_d2_170_d3_1...</td>\n",
       "      <td>{'main': {'fr': 30, 'p': 1, 'nb': 2, 'merge_thr': 0.95, 'rf': 15, 'stride': 6, 'K': 4, 'gSig': (6, 6), 'ssub': 1, 't...</td>\n",
       "      <td>None</td>\n",
       "      <td>None</td>\n",
       "      <td>a49689ad-f093-49ff-9a86-058835eccd34</td>\n",
       "    </tr>\n",
       "    <tr>\n",
       "      <th>4</th>\n",
       "      <td>cnmf</td>\n",
       "      <td>Sue_2x_3000_40_-46</td>\n",
       "      <td>09610b86-917a-41e7-a493-2d036bf44428/09610b86-917a-41e7-a493-2d036bf44428-Sue_2x_3000_40_-46_els__d1_170_d2_170_d3_1...</td>\n",
       "      <td>{'main': {'fr': 30, 'p': 1, 'nb': 2, 'merge_thr': 0.8, 'rf': 15, 'stride': 6, 'K': 8, 'gSig': (6, 6), 'ssub': 1, 'ts...</td>\n",
       "      <td>None</td>\n",
       "      <td>None</td>\n",
       "      <td>f67dbcb9-fd5b-4d81-acc4-f080a7f81db4</td>\n",
       "    </tr>\n",
       "    <tr>\n",
       "      <th>5</th>\n",
       "      <td>cnmf</td>\n",
       "      <td>Sue_2x_3000_40_-46</td>\n",
       "      <td>09610b86-917a-41e7-a493-2d036bf44428/09610b86-917a-41e7-a493-2d036bf44428-Sue_2x_3000_40_-46_els__d1_170_d2_170_d3_1...</td>\n",
       "      <td>{'main': {'fr': 30, 'p': 1, 'nb': 2, 'merge_thr': 0.95, 'rf': 15, 'stride': 6, 'K': 8, 'gSig': (6, 6), 'ssub': 1, 't...</td>\n",
       "      <td>None</td>\n",
       "      <td>None</td>\n",
       "      <td>ff76c624-2c29-4c2d-ba91-3eb471a8e9e3</td>\n",
       "    </tr>\n",
       "    <tr>\n",
       "      <th>6</th>\n",
       "      <td>cnmf</td>\n",
       "      <td>Sue_2x_3000_40_-46</td>\n",
       "      <td>09610b86-917a-41e7-a493-2d036bf44428/09610b86-917a-41e7-a493-2d036bf44428-Sue_2x_3000_40_-46_els__d1_170_d2_170_d3_1...</td>\n",
       "      <td>{'main': {'fr': 30, 'p': 1, 'nb': 2, 'merge_thr': 0.8, 'rf': 15, 'stride': 6, 'K': 4, 'gSig': (8, 8), 'ssub': 1, 'ts...</td>\n",
       "      <td>None</td>\n",
       "      <td>None</td>\n",
       "      <td>879d1d8b-dfe7-4b4f-aa2f-b987d83f7788</td>\n",
       "    </tr>\n",
       "    <tr>\n",
       "      <th>7</th>\n",
       "      <td>cnmf</td>\n",
       "      <td>Sue_2x_3000_40_-46</td>\n",
       "      <td>09610b86-917a-41e7-a493-2d036bf44428/09610b86-917a-41e7-a493-2d036bf44428-Sue_2x_3000_40_-46_els__d1_170_d2_170_d3_1...</td>\n",
       "      <td>{'main': {'fr': 30, 'p': 1, 'nb': 2, 'merge_thr': 0.95, 'rf': 15, 'stride': 6, 'K': 4, 'gSig': (8, 8), 'ssub': 1, 't...</td>\n",
       "      <td>None</td>\n",
       "      <td>None</td>\n",
       "      <td>539745c5-ec3e-4a63-a7c2-eb41af9a080e</td>\n",
       "    </tr>\n",
       "    <tr>\n",
       "      <th>8</th>\n",
       "      <td>cnmf</td>\n",
       "      <td>Sue_2x_3000_40_-46</td>\n",
       "      <td>09610b86-917a-41e7-a493-2d036bf44428/09610b86-917a-41e7-a493-2d036bf44428-Sue_2x_3000_40_-46_els__d1_170_d2_170_d3_1...</td>\n",
       "      <td>{'main': {'fr': 30, 'p': 1, 'nb': 2, 'merge_thr': 0.8, 'rf': 15, 'stride': 6, 'K': 8, 'gSig': (8, 8), 'ssub': 1, 'ts...</td>\n",
       "      <td>None</td>\n",
       "      <td>None</td>\n",
       "      <td>da760704-f760-4f34-b26a-06eb5cc3cfec</td>\n",
       "    </tr>\n",
       "    <tr>\n",
       "      <th>9</th>\n",
       "      <td>cnmf</td>\n",
       "      <td>Sue_2x_3000_40_-46</td>\n",
       "      <td>09610b86-917a-41e7-a493-2d036bf44428/09610b86-917a-41e7-a493-2d036bf44428-Sue_2x_3000_40_-46_els__d1_170_d2_170_d3_1...</td>\n",
       "      <td>{'main': {'fr': 30, 'p': 1, 'nb': 2, 'merge_thr': 0.95, 'rf': 15, 'stride': 6, 'K': 8, 'gSig': (8, 8), 'ssub': 1, 't...</td>\n",
       "      <td>None</td>\n",
       "      <td>None</td>\n",
       "      <td>f4474d42-f6ae-4fba-a1a5-c181b4b1796e</td>\n",
       "    </tr>\n",
       "  </tbody>\n",
       "</table>\n",
       "</div>"
      ],
      "text/plain": [
       "    algo           item_name  \\\n",
       "0  mcorr  Sue_2x_3000_40_-46   \n",
       "1   cnmf  Sue_2x_3000_40_-46   \n",
       "2   cnmf  Sue_2x_3000_40_-46   \n",
       "3   cnmf  Sue_2x_3000_40_-46   \n",
       "4   cnmf  Sue_2x_3000_40_-46   \n",
       "5   cnmf  Sue_2x_3000_40_-46   \n",
       "6   cnmf  Sue_2x_3000_40_-46   \n",
       "7   cnmf  Sue_2x_3000_40_-46   \n",
       "8   cnmf  Sue_2x_3000_40_-46   \n",
       "9   cnmf  Sue_2x_3000_40_-46   \n",
       "\n",
       "                                                                                                          input_movie_path  \\\n",
       "0                                                                                    example_movies/Sue_2x_3000_40_-46.tif   \n",
       "1  09610b86-917a-41e7-a493-2d036bf44428/09610b86-917a-41e7-a493-2d036bf44428-Sue_2x_3000_40_-46_els__d1_170_d2_170_d3_1...   \n",
       "2  09610b86-917a-41e7-a493-2d036bf44428/09610b86-917a-41e7-a493-2d036bf44428-Sue_2x_3000_40_-46_els__d1_170_d2_170_d3_1...   \n",
       "3  09610b86-917a-41e7-a493-2d036bf44428/09610b86-917a-41e7-a493-2d036bf44428-Sue_2x_3000_40_-46_els__d1_170_d2_170_d3_1...   \n",
       "4  09610b86-917a-41e7-a493-2d036bf44428/09610b86-917a-41e7-a493-2d036bf44428-Sue_2x_3000_40_-46_els__d1_170_d2_170_d3_1...   \n",
       "5  09610b86-917a-41e7-a493-2d036bf44428/09610b86-917a-41e7-a493-2d036bf44428-Sue_2x_3000_40_-46_els__d1_170_d2_170_d3_1...   \n",
       "6  09610b86-917a-41e7-a493-2d036bf44428/09610b86-917a-41e7-a493-2d036bf44428-Sue_2x_3000_40_-46_els__d1_170_d2_170_d3_1...   \n",
       "7  09610b86-917a-41e7-a493-2d036bf44428/09610b86-917a-41e7-a493-2d036bf44428-Sue_2x_3000_40_-46_els__d1_170_d2_170_d3_1...   \n",
       "8  09610b86-917a-41e7-a493-2d036bf44428/09610b86-917a-41e7-a493-2d036bf44428-Sue_2x_3000_40_-46_els__d1_170_d2_170_d3_1...   \n",
       "9  09610b86-917a-41e7-a493-2d036bf44428/09610b86-917a-41e7-a493-2d036bf44428-Sue_2x_3000_40_-46_els__d1_170_d2_170_d3_1...   \n",
       "\n",
       "                                                                                                                    params  \\\n",
       "0  {'main': {'max_shifts': (6, 6), 'strides': (24, 24), 'overlaps': (12, 12), 'max_deviation_rigid': 3, 'border_nan': '...   \n",
       "1  {'main': {'fr': 30, 'p': 1, 'nb': 2, 'merge_thr': 0.85, 'rf': 15, 'stride': 6, 'K': 4, 'gSig': (4, 4), 'ssub': 1, 't...   \n",
       "2  {'main': {'fr': 30, 'p': 1, 'nb': 2, 'merge_thr': 0.8, 'rf': 15, 'stride': 6, 'K': 4, 'gSig': (6, 6), 'ssub': 1, 'ts...   \n",
       "3  {'main': {'fr': 30, 'p': 1, 'nb': 2, 'merge_thr': 0.95, 'rf': 15, 'stride': 6, 'K': 4, 'gSig': (6, 6), 'ssub': 1, 't...   \n",
       "4  {'main': {'fr': 30, 'p': 1, 'nb': 2, 'merge_thr': 0.8, 'rf': 15, 'stride': 6, 'K': 8, 'gSig': (6, 6), 'ssub': 1, 'ts...   \n",
       "5  {'main': {'fr': 30, 'p': 1, 'nb': 2, 'merge_thr': 0.95, 'rf': 15, 'stride': 6, 'K': 8, 'gSig': (6, 6), 'ssub': 1, 't...   \n",
       "6  {'main': {'fr': 30, 'p': 1, 'nb': 2, 'merge_thr': 0.8, 'rf': 15, 'stride': 6, 'K': 4, 'gSig': (8, 8), 'ssub': 1, 'ts...   \n",
       "7  {'main': {'fr': 30, 'p': 1, 'nb': 2, 'merge_thr': 0.95, 'rf': 15, 'stride': 6, 'K': 4, 'gSig': (8, 8), 'ssub': 1, 't...   \n",
       "8  {'main': {'fr': 30, 'p': 1, 'nb': 2, 'merge_thr': 0.8, 'rf': 15, 'stride': 6, 'K': 8, 'gSig': (8, 8), 'ssub': 1, 'ts...   \n",
       "9  {'main': {'fr': 30, 'p': 1, 'nb': 2, 'merge_thr': 0.95, 'rf': 15, 'stride': 6, 'K': 8, 'gSig': (8, 8), 'ssub': 1, 't...   \n",
       "\n",
       "                                                                                                                   outputs  \\\n",
       "0  {'mean-projection-path': 09610b86-917a-41e7-a493-2d036bf44428/09610b86-917a-41e7-a493-2d036bf44428_mean_projection.n...   \n",
       "1  {'mean-projection-path': 2b9dabd8-7d22-4327-8479-aea36bde79cf/2b9dabd8-7d22-4327-8479-aea36bde79cf_mean_projection.n...   \n",
       "2  {'mean-projection-path': 38f85afb-417f-453a-8da5-28753b0dc290/38f85afb-417f-453a-8da5-28753b0dc290_mean_projection.n...   \n",
       "3                                                                                                                     None   \n",
       "4                                                                                                                     None   \n",
       "5                                                                                                                     None   \n",
       "6                                                                                                                     None   \n",
       "7                                                                                                                     None   \n",
       "8                                                                                                                     None   \n",
       "9                                                                                                                     None   \n",
       "\n",
       "  comments                                  uuid  \n",
       "0     None  09610b86-917a-41e7-a493-2d036bf44428  \n",
       "1     None  2b9dabd8-7d22-4327-8479-aea36bde79cf  \n",
       "2     None  38f85afb-417f-453a-8da5-28753b0dc290  \n",
       "3     None  a49689ad-f093-49ff-9a86-058835eccd34  \n",
       "4     None  f67dbcb9-fd5b-4d81-acc4-f080a7f81db4  \n",
       "5     None  ff76c624-2c29-4c2d-ba91-3eb471a8e9e3  \n",
       "6     None  879d1d8b-dfe7-4b4f-aa2f-b987d83f7788  \n",
       "7     None  539745c5-ec3e-4a63-a7c2-eb41af9a080e  \n",
       "8     None  da760704-f760-4f34-b26a-06eb5cc3cfec  \n",
       "9     None  f4474d42-f6ae-4fba-a1a5-c181b4b1796e  "
      ]
     },
     "execution_count": 5,
     "metadata": {},
     "output_type": "execute_result"
    }
   ],
   "source": [
    "df = load_batch(batch_path)\n",
    "df"
   ]
  },
  {
   "cell_type": "markdown",
   "id": "5e04d6b2-77b8-4790-b88d-e72c5623c777",
   "metadata": {
    "pycharm": {
     "name": "#%% md\n"
    }
   },
   "source": [
    "# Load outputs\n",
    "\n",
    "CNMF pandas extensions API: https://mesmerize-core.readthedocs.io/en/latest/api/cnmf.html "
   ]
  },
  {
   "cell_type": "code",
   "execution_count": 6,
   "id": "91132418-82f8-4853-bd77-084a0b5e2915",
   "metadata": {
    "pycharm": {
     "name": "#%%\n"
    }
   },
   "outputs": [
    {
     "name": "stdout",
     "output_type": "stream",
     "text": [
      "Decode mmap filename /home/kushalk/caiman_data/mesmerize-core-batch/09610b86-917a-41e7-a493-2d036bf44428/09610b86-917a-41e7-a493-2d036bf44428-Sue_2x_3000_40_-46_els__d1_170_d2_170_d3_1_order_F_frames_3000.mmap\n"
     ]
    }
   ],
   "source": [
    "# You can change this to plot the outputs for different batch items\n",
    "index = 1\n",
    "\n",
    "# get the motion corrected input movie as a memmap\n",
    "cnmf_movie = df.iloc[index].caiman.get_input_movie()\n",
    "\n",
    "# we can get the contours of the spatial components\n",
    "contours, coms = df.iloc[index].cnmf.get_contours(\"all\", swap_dim=False)\n",
    "\n",
    "# and temporal components\n",
    "temporal = df.iloc[index].cnmf.get_temporal(\"all\")\n",
    "\n",
    "ixs_good = df.iloc[index].cnmf.get_good_components()\n",
    "ixs_bad = df.iloc[index].cnmf.get_bad_components()"
   ]
  },
  {
   "cell_type": "markdown",
   "id": "7e99e620-ba30-421a-84f0-1e3fb41e37c0",
   "metadata": {
    "pycharm": {
     "name": "#%% md\n"
    }
   },
   "source": [
    "# Visualize CNMF outputs. We'll create some simple and more complex plots."
   ]
  },
  {
   "cell_type": "markdown",
   "id": "cc84e4bb-a5ac-4eaf-94f3-05928e2b9f7b",
   "metadata": {
    "pycharm": {
     "name": "#%%\n"
    }
   },
   "source": [
    "### `ImageWidget` to view contours, and a simple `fastplotlib.Plot` to view temporal components"
   ]
  },
  {
   "cell_type": "code",
   "execution_count": 7,
   "id": "8f61a04d-8c27-4aa1-9955-3190a528dee0",
   "metadata": {},
   "outputs": [],
   "source": [
    "# LineSlider is very new and experimental and is likely to change\n",
    "# that's why it's not exposed as a top-level import\n",
    "from fastplotlib.graphics.line_slider import LineSlider"
   ]
  },
  {
   "cell_type": "code",
   "execution_count": 8,
   "id": "133fe390-988c-465f-a26f-552ac81d26ea",
   "metadata": {},
   "outputs": [
    {
     "data": {
      "application/vnd.jupyter.widget-view+json": {
       "model_id": "52f388375a07491b82fc8599b4861053",
       "version_major": 2,
       "version_minor": 0
      },
      "text/plain": [
       "RFBOutputContext()"
      ]
     },
     "metadata": {},
     "output_type": "display_data"
    },
    {
     "data": {
      "application/vnd.jupyter.widget-view+json": {
       "model_id": "73e8144010a74d598693d490e15d4c9d",
       "version_major": 2,
       "version_minor": 0
      },
      "text/plain": [
       "RFBOutputContext()"
      ]
     },
     "metadata": {},
     "output_type": "display_data"
    },
    {
     "data": {
      "application/vnd.jupyter.widget-view+json": {
       "model_id": "421117e75dad4e069ebc036c0188441d",
       "version_major": 2,
       "version_minor": 0
      },
      "text/plain": [
       "VBox(children=(JupyterWgpuCanvas(), VBox(children=(JupyterWgpuCanvas(), IntSlider(value=0, description='dimens…"
      ]
     },
     "metadata": {},
     "output_type": "display_data"
    }
   ],
   "source": [
    "# for the image data and contours\n",
    "iw_cnmf = ImageWidget(cnmf_movie, vmin_vmax_sliders=True, cmap=\"gnuplot2\")\n",
    "\n",
    "# add good contours to the plot within the widget\n",
    "contours_graphic = iw_cnmf.plot.add_line_collection(contours, colors=\"cyan\", name=\"contours\")\n",
    "contours_graphic[ixs_good].colors = \"cyan\"\n",
    "contours_graphic[ixs_bad].colors = \"magenta\"\n",
    "\n",
    "\n",
    "# temporal plot\n",
    "plot_temporal = Plot()\n",
    "\n",
    "temporal_graphic = plot_temporal.add_line_collection(temporal, colors=\"cyan\", name=\"temporal\")\n",
    "temporal_graphic[ixs_good].colors = \"cyan\"\n",
    "temporal_graphic[ixs_bad].colors = \"magenta\"\n",
    "\n",
    "# a vertical line that is syncronized to the image widget \"t\" (timepoint) slider\n",
    "_ls = LineSlider(x_pos=0, bounds=(temporal.min(), temporal.max()), slider=iw_cnmf.sliders[\"t\"])\n",
    "plot_temporal.add_graphic(_ls)\n",
    "\n",
    "# stack them\n",
    "VBox([plot_temporal.show(), iw_cnmf.show()])"
   ]
  },
  {
   "cell_type": "markdown",
   "id": "4df8e635-4992-4827-b070-6c285c428c8a",
   "metadata": {},
   "source": [
    "Auto-scale temporal plot, you can only do this after calling `show()`"
   ]
  },
  {
   "cell_type": "code",
   "execution_count": 9,
   "id": "9d69932b-ea97-4af1-a27f-46649a6b1c9a",
   "metadata": {},
   "outputs": [],
   "source": [
    "plot_temporal.auto_scale()\n",
    "plot_temporal.camera.scale.x = 0.85"
   ]
  },
  {
   "cell_type": "markdown",
   "id": "085920a1-dc24-4367-aa92-62e1ef5c1da3",
   "metadata": {},
   "source": [
    "# Interactivity"
   ]
  },
  {
   "cell_type": "code",
   "execution_count": 10,
   "id": "2d4dc4b4-acc6-40fd-b1d5-542106c21540",
   "metadata": {},
   "outputs": [],
   "source": [
    "# don't worry about understanding this function\n",
    "def euclidean(source, target, event, new_data):\n",
    "    \"\"\"maps click events to contour\"\"\"\n",
    "    # calculate coms of line collection\n",
    "    indices = np.array(event.pick_info[\"index\"])\n",
    "    \n",
    "    coms = list()\n",
    "\n",
    "    for contour in target.items:\n",
    "        coors = contour.data()[~np.isnan(contour.data()).any(axis=1)]\n",
    "        com = coors.mean(axis=0)\n",
    "        coms.append(com)\n",
    "\n",
    "    # euclidean distance to find closest index of com \n",
    "    indices = np.append(indices, [0])\n",
    "    \n",
    "    ix = int(np.linalg.norm((coms - indices), axis=1).argsort()[0])\n",
    "    \n",
    "    target._set_feature(feature=\"colors\", new_data=new_data, indices=ix)\n",
    "    \n",
    "    return None"
   ]
  },
  {
   "cell_type": "code",
   "execution_count": 11,
   "id": "1633e5b1-fca2-4e21-a55d-a45a2f482c54",
   "metadata": {},
   "outputs": [
    {
     "name": "stderr",
     "output_type": "stream",
     "text": [
      "/home/kushalk/repos/fastplotlib/fastplotlib/graphics/features/_base.py:87: UserWarning: Event handler <bound method Interaction.event_handler of 'contours' fastplotlib.LineCollection @ 0x7f4d8a60f310> is already registered.\n",
      "  warn(f\"Event handler {handler} is already registered.\")\n"
     ]
    }
   ],
   "source": [
    "# so we can view them one by one, first hide all of them\n",
    "temporal_graphic[:].present = False\n",
    "\n",
    "image_graphic = iw_cnmf.plot[\"image\"]\n",
    "\n",
    "# link image to contours\n",
    "image_graphic.link(\n",
    "    \"click\",\n",
    "    target=contours_graphic,\n",
    "    feature=\"colors\", \n",
    "    new_data=\"w\", \n",
    "    callback=euclidean\n",
    ")\n",
    "\n",
    "# link contour color changes (which are triggered by the click events as defined above) to everything else\n",
    "\n",
    "# thickness of contour\n",
    "contours_graphic.link(\"colors\", target=contours_graphic, feature=\"thickness\", new_data=5)\n",
    "\n",
    "# toggle temporal component when contour changes color\n",
    "contours_graphic.link(\"colors\", target=temporal_graphic, feature=\"present\", new_data=True)\n",
    "# autoscale temporal plot to the current temporal component\n",
    "temporal_graphic[:].present.add_event_handler(plot_temporal.auto_scale)"
   ]
  },
  {
   "cell_type": "markdown",
   "id": "7ecf6c63-8190-4e72-bcdb-eca0304d891d",
   "metadata": {},
   "source": [
    "Close canvases if you GPU is slow"
   ]
  },
  {
   "cell_type": "code",
   "execution_count": 12,
   "id": "51102b50-e146-4c25-94ee-4a532cf4a27b",
   "metadata": {
    "pycharm": {
     "name": "#%%\n"
    }
   },
   "outputs": [],
   "source": [
    "plot_temporal.canvas.close()\n",
    "iw_cnmf.plot.canvas.close()"
   ]
  },
  {
   "cell_type": "markdown",
   "id": "50012ed6-ffb9-4a44-9f41-554fb96a88a0",
   "metadata": {
    "pycharm": {
     "name": "#%% md\n"
    }
   },
   "source": [
    "# View the reconstructed movie, residuals, and reconstructed background\n",
    "\n",
    "### We can get each of these as a mesmerize `LazyArray` which allows fast visualization of larger-than-RAM arrays that can be computed on the fly."
   ]
  },
  {
   "cell_type": "code",
   "execution_count": 13,
   "id": "9294d10b-4d09-467e-b9f3-63ef7b55b766",
   "metadata": {
    "pycharm": {
     "name": "#%%\n"
    }
   },
   "outputs": [
    {
     "data": {
      "text/plain": [
       "LazyArrayRCM @0x7f4cdc65e9e0\n",
       "LazyArray for reconstructed movie, i.e. A ⊗ C\n",
       "Frames are computed only upon indexing\n",
       "shape [frames, x, y]: (3000, 170, 170)\n",
       "n_components: 155"
      ]
     },
     "execution_count": 13,
     "metadata": {},
     "output_type": "execute_result"
    }
   ],
   "source": [
    "# reconstructed movie, A * C\n",
    "rcm = df.iloc[index].cnmf.get_rcm()\n",
    "rcm"
   ]
  },
  {
   "cell_type": "markdown",
   "id": "2f1504c2-7f1a-45e0-88ef-69feb629ba1d",
   "metadata": {},
   "source": [
    "### `LazyArray` behaves similar to numpy arrays. But frames are computed only uppon indexing."
   ]
  },
  {
   "cell_type": "code",
   "execution_count": 14,
   "id": "6cf04c45-f1ba-4fe5-b4c8-95ba9e6d0a2e",
   "metadata": {},
   "outputs": [
    {
     "data": {
      "text/plain": [
       "(170, 170)"
      ]
     },
     "execution_count": 14,
     "metadata": {},
     "output_type": "execute_result"
    }
   ],
   "source": [
    "rcm[100].shape"
   ]
  },
  {
   "cell_type": "code",
   "execution_count": 15,
   "id": "f35fd885-bf63-4df2-9eed-7c4d24bf9cb1",
   "metadata": {},
   "outputs": [
    {
     "data": {
      "text/plain": [
       "(3000, 170, 170)"
      ]
     },
     "execution_count": 15,
     "metadata": {},
     "output_type": "execute_result"
    }
   ],
   "source": [
    "rcm.shape"
   ]
  },
  {
   "cell_type": "markdown",
   "id": "34dd3cc2-bca9-4f39-941f-33a090b8f8df",
   "metadata": {
    "tags": []
   },
   "source": [
    "### Get size of the full array in gigabytes if it were entirely stored in RAM. This can be very large for real daa."
   ]
  },
  {
   "cell_type": "code",
   "execution_count": 16,
   "id": "f3f708fe-e3d5-4daa-94d4-ab52f40b0817",
   "metadata": {},
   "outputs": [
    {
     "data": {
      "text/plain": [
       "0.6936"
      ]
     },
     "execution_count": 16,
     "metadata": {},
     "output_type": "execute_result"
    }
   ],
   "source": [
    "rcm.nbytes_gb"
   ]
  },
  {
   "cell_type": "markdown",
   "id": "1ba34cb1-7a82-41bf-90d4-423cad3875c2",
   "metadata": {},
   "source": [
    "### Some lazy arrays contain pre-computed min and max for the array, and other useful properties"
   ]
  },
  {
   "cell_type": "code",
   "execution_count": 17,
   "id": "2d1d4b79-8d42-4284-806a-4ed93ab54259",
   "metadata": {},
   "outputs": [
    {
     "data": {
      "text/plain": [
       "1720.2145222469883"
      ]
     },
     "execution_count": 17,
     "metadata": {},
     "output_type": "execute_result"
    }
   ],
   "source": [
    "rcm.max"
   ]
  },
  {
   "cell_type": "code",
   "execution_count": 18,
   "id": "66a293c3-9c0e-477c-ab30-bc476352656e",
   "metadata": {},
   "outputs": [
    {
     "data": {
      "application/vnd.jupyter.widget-view+json": {
       "model_id": "12998c195446452c946b1f8a217f1f03",
       "version_major": 2,
       "version_minor": 0
      },
      "text/plain": [
       "RFBOutputContext()"
      ]
     },
     "metadata": {},
     "output_type": "display_data"
    },
    {
     "data": {
      "text/html": [
       "<div class='initial-snapshot-0f827b7bc80a4620ae000cd58fb2aff3' style='position:relative;'><img src='data:image/png;base64,iVBORw0KGgoAAAANSUhEUgAAAfQAAAEsCAYAAAA1u0HIAAEgFklEQVR42ux9B3Qc13V2SGCxoGQRnSTACmwD2ERSoqhONaraVqNsWbZlW7ZsxyWOUhynOHGRRBIECPYi9qKS37HzJ8dxYud3HMdOXOXIVrOK1QtFgSSAbQBI+v7v3vfuzJvB7O7M7gLkUPPOeWcBYncaePDd8t3v+4M/CFawghWsYAUrWMEKVrCCFaxgBStYwQpWsIIVrGAFK1jBClawghWsYAUrWMEKVrCCdVqsceOCHWz3O1g+XOPGtdZWjr/qksrxy5bm31dru9B7y7HluUJquzv3aF+beU1hsavHXyO2fn1j8VxKv/6R28sxrroE/8+c7P+3wfK2rlhWUfu3X3/XJV+5711LT9X91VPgGpyu6aun6LWN5sb/K/h/5mT/vw2Wx4V/oM+q/vrhs6rvS+fbdeH7043hFel6sWsKvLccu7Zani9R1ZWeU9WTjoa76PuJtvfh9xPD96VrxPXhZyZq/47/NrFM14PHaRDnnxbuTM8T13NlaGP6lspN6ZtCm9LnVK1NN4dXjslzKeX6a9XvcHp4dXqG2PXi+xrxzLwd6+uH8f/Myf5/Gyz3C7Mt/AN9sH/m4d50azrfPpyMpA/3R9OHByLp3lRbutD7S97iHHiuvoPR9MAr+Irfi/Om7O+T7+0V10c7ZX7e/LcyXS9ek3gGR3sj6f7XI+nkS5H0wMuR9NG3I+q5jPIzKcP14/M40helXcyzwf8r+H8myNR9tjDrkn+oV0CuXSP25PBqaKnqgilVq6EhvAom5nl/OXZdeCU0hTuho2otnBPaDO1V62CS+L6meiWdG1/rxK4X19KgNr6/Ue0mtfE4+N5SrgXPh+eZGu4S17MBLq/cAe8fvx8+M+4h+MT4A3Bl5XZorVqjzjW6z6XYXaOe1RTxe4yJZ5kQe6r4ffIzdX+s+7Iiq7/sZP+/DZb7hX+UMevCP9R9Q62Qcw+2QX8yDgN9CRjoT0B/Okb/lvczpW48ZyYKqUNxGHwhBumDMehP4Xkj2nvE19moeF+MrmlgIC6uMwoDuAfU9+Lf8TglXy9eD55DPIPMG3EYei4Gx34Tg+EnY/Q9XVs2MvrPpZSN1yeexUB/HJLiPvCavT4b8X8l+5X733VZAOg+W+4AfaUA8i4BAN3QLF7HAtBrFBDjuVoECE0WwINfI2jWii0BfxUBEv5Mvq6mgAOvc7oAWHxtFO/B95dyvXgdeJzp4nhzQxsJ0N9bsRduF2B+8/h9cFHlNgJ0PtfJBm+ngKRWPTcE9WnhbnG9a2kjqNcGgH5aLy+AjuCYPJogQJPAOjbA1Z+JEDgT+GAgwQCkAJ8AG3cqLoHqaBxShxOQPpSAVG+cAhEZgERKuxbxeTwOPgME8MEXYzD0bJSCjcxbcRk8ZBSon2zgdhOYDKjgzOPvMgB0ny43gI5AgGDZrDK6uhIBkjPsiQV+rmeWjSoLr9dAHb/Ha5omgBYzT8zYEZzwWhF8EazKBej16lxtAgQXh7aIrHwn3FCxh8B9YWgTzBSAzs/mZAO40/XjM+AgCQOhiLjeuaENdN11AaCf1ssVoOMf+2xUAroAAM56y5HxugVSysIp047R1/RvDOhJE7T7BZjiTgpgT78dl4CeipcpQ5eAjudKiWNnXxeg/rLMzjGAMAIHur5TALjzZuptFCSleuXvMwD0d8Bym6E3EKjKLLmULBQBF0vXMzDbF8BrL/ci8NapDLxWZcYzxXsjVT0EPrPERrDmnyOI4vfTKBvvNLJ3LsOXGnzw/fMxsRowS5xrTmg9tQLOFmCOIN8i7qnJc/naet+jVfVgQMc9SdzDeQLIl4tA5PaK3XBJaKu49s4A0E/j5Q7QI5R1chZsglaRAEkZYlQrhbt4P5XU49ZroCxdZc0i0Ej2IXhHzWtNxrTsvAzVhEH1LDCIEOdJ9sUoaEj3cqbLgcMpnKEPyopH+lAMhp5uh+HfdEDmVXxGAaCf9ssNoOugxtlxKWAexR6uAMSIAEIE5Ik2YKtTpWF8xRJ6IrQO5oc2Qof4TIcAo7j4/BQVDOAx8Wssr+N7G7UMvraE/rkOsHgMzm5rVbaOAD5bXMu5lZshJu4Dg5P6IlsR/Gz5enWOQE31yrzVDLfHb6CWQRecK57j+yr2wB+Pfwj+UOz3CFBvC3cHgH4aL9cZOmXpmP1GZcm72CxUgTmXewcQcKnvXCAzRrBMqiw4KcHTKG2LVzwOlsJxM+AbGX05svMRzyNCoI6ZekZk6skjildwKpfbEczTEUgJMB9+PAEnvj8XTvxwNgw/heV399cdALpPl1tAN0rhRWa8CCotipAVF8CMgB5TxCx7D1cHUAToGSpDx92On61aTxk5k97qVfVAkuJMQK8pIvCggEIBIFcB7EEMniMuQPzSygfgOgGI54pMvcWh2uC+nG9WQBrVPTQpXgC+4v0V89wnqiAKg4254llfK673jvH74NPjHoJ7xj0CnxCvyAWIhdd4OHYA6H5brnvoNjArKgul7FCW7gnMqXzvgmCHQQAR36JGyVsCetS8FsqarVm5UZ4vBmQ5iMnxc8xyk4eRrBeH4SclqGOgUrZKQFmBvE3yEPqj4joFmD8VhxP/3QG//3cB6D9uh2NPIEEuGgD66b68AHopu4lAcB1lte2YZQtgxkwd+9KFgFBmrBJoEZymqRI7M+45g+X3FZOZ16jqAwJzuwDr2Xht4dVG755L97ixyoClduyjXyey3QtD2+hzxQQ6XMpH8JYthR5F6OuijfeJ1QC+T/eBgmTmI58gSsHHNmLk3zP+YfjDcQ/Dp//gYbhL7ADQT//lGdBL2di37VfEOgZzkW17yqBVpUACddQs/etb/1kRrQHqwyejFBzgNXO/XgdcZNFj73z46RgcezwGgy/FPJWtcz+jiIUjYNxvsWV8dTwMctKH5PUe/4XIzn+SgN//V4cAdgnoCPYBoJ/ma6wAvYF64Wsow8ayOWbo2HtuspXc3QBVnZbB1jsAXTH9aAwCpgnwu1AA9U0CpG8Ue5G4zhYF6vWKO4AZL94HAvrFldsFUG6nXjq+zxtb3FpuR+CdKcAcmef4ykELfo0g36xIf26z8gZFJMTj4ueRyPcecU/vr9gHt4os/Y5xB+DD4x6Eqyt3wEzxnqDkfvquMQV0KlPLsa9kn9l3JgArJovl7Qj60aKycwTz1JEYZF+LQeY1vFYu2WugPigDk8ybcRh6Pkbja5j5Uv++1P65PVgpITDRnwPxDPrikp2PVYXfxuH4owk4/vME3UN/Kii5n/bLLaBPLBIwuUyPYIgAg1lnKwFXD2WeXkCQM3Aew2LWe6lz5rjrxTEQzO8UYPeH4x6Cj4p9iwDAdnGdjdqsO2e92P+fF9pIwB5X2bzXLNpadpfHnaZG7qYRS7/bIPy5YdAz/wA5BdPEs20WG58xPutFIujA4AODkPMEuJ8vrvvCys1UjcD7CwD99F1jC+gSsAxmekqNeY3G+FuBknmuzySPRGHohZgAPATqKGRf1YBa21heTx4RAHlQAjt+LefQSyy7c0tDD0iM83qpYqjZfN5qRh97/bhTh+M0148Aj2N+WJIPAP00X24A3QBl1dMmcHFJ1NL77pw9Tqa5cu8CNXpwwBlofRnG0vCzzeKellU+AB8TQP7JcQ/D3X/wMHxo3H6Yr6oIfD4ag6uWojfTw93Eup+m5vOnqPvyyqxnEly9qjyggE+Ldrwml6OCDOgI4piVz1AlfKyGIKBfIO7vvNBW6v9PUhUObFt4G7ULAN1vqyhALwYsRwB7cRl0Wa/DITtOvyXAXGTcw8/gxhlzKVAjM+eIJVtGghn+jNj11Lfn0bnyjMgVLVLjMJ9PM/oDqjIyYBL4+H1miT9P8KB+1psKAN2XqxCgM0N6lgCYRSITPU9kpTrL3A1Y2YGoVmNwFwO+dSrbZwJcMSxwnUk+mfrm6+CGil1wx7gHBZA/CB8RwP5+ka3PURksZ+iNWs++jsbmpJgNAvosmu1GbkAPcQY89/HVeBm3E4oJWCSRsNMo1yNPAdscKIizQGTl86o2UvbO7HnvFY4A0P22PCnFIQCkkFEeK12oZbDNW9aZszxdqliMeW8Izkhuwwx96HeylJ59OUb99BH9eb5uHpFLM2hiFozZcFSx94sf7Ss10zdAPRU3ZvUHDEJhxFI14efASnI0fpe1ViXkv8egNxkJAN2PKx+gI4gguMQEMLy3ehv80Rl74DNiL63aRuDlTZCkfNsQSiny/DXGTHanIUwzJ7QBllXshFvG74flYt9UsRcuDG2BqSrjZmlZXU6WWfj870ikWyaCgqWV2wnUdfAvxLjXqw/27TVYqVEVBCzZI08hQqpwPVS+l7PyhZ9PTU4Z2wDQ/bbcjq3hH3gqMb+hSswiK+1zM0N+qm8tS6W++EEpFoMkNyy3pw5jxm32zkcAuno2fWo8Lnk0Rspx2Vfk8U7qXLoB6nH3+gE8858yP2NOCwSA7uuVD9AlAawbLqvaCl+dtB32zdoCm6dtg1smbBNA0XNKqqK5BfQ6Beg8uz5FfH22APWLKx+gvTi0GWaoHj8HNgiQLUotj/vpTDzjwOeKyh1wfmgbdOBoXbjbaCsUGjvT5Vlri6w62KsYXL6Xmu2rjXtxG/A4BxMBoPttuQL0rNT+xmz12FMxGH42RiNbpxOgyyy9DZL9SizmUJzIcdRbHtTfq6vVtVn61VJNL0YBQRbV446oufmT+ZwY1DMFdOa1Ursls09rgYDavam2AND9uPIBOoLRfAFMn5iwB/ZENsM/JDbAmuYdcI3K0Iudjz7Zm8GzzjaOhipq0wWIz1QqdpyJ6+DIBjU8H16vOAWY6WPPGoF8btVGmBfaRONik1Vrgs+RT+62rsiMPFeWzq2JJk3hz01Vg0f/eJbfej0BoPttFQR0/AOfikJaZK4oQHL817IcjUSq0wLQudRsAcCI3DSyZv67WY62Md+17FWy+ONEOkPRGeqvjxbxz0PQUrAfr/fOs1FL790C6uLnASnOpysXoOMfcRzFWhTaCB89YxdsEdn5pulb4XMTd8A5qg/bpIxR8NVt9neqbGbd27Xpa1UPmgFQJ+DJ3rbsl+ugLrXj11DPGkFdMuA3kYKcroSns/T152wQBsvgDOcUuOiVhElq/K3Q70rP0q3tggDQ/bYKA7ocNcOMdehZ2VdOvxlXM9rarPSp7DBWZGZrBfqI2VNWann9TOrTyvYGAa0/oQG6bSxvrIMgy4x+DnA33tNqlfnVyH7cOggA3afLCdCZCDcjLHvLS6o2w3smbIUbqreSdCj2YsmsRexWUnBbS8BeDt30USmxOwAYXmuzmtFu0cRtmCzHmTIDOovLNCgLUh4rm6RsZbFXjXua6lvjrH2rqmIwYDeqz3q3LC0d2OXIoByBm+xiZt4p+AgA3Z+rIKBnIyZD+ogacdLduTSylG9B3c112zLYPo1F3mdTsGMnMyy5Gwx5/XkahLMxfl6DEWOELS+ZkLP0lPMoXgDoPl1OgF6nTE+alWsZAjbKtGKZfbJiX/PM9ExllsIiL6cioHMPmwFK+puvpOuOhdZSVl2fYxabHd14zK5B3TuCIwYDOALWrpjkEQXoUhxGPit+JhgM4PObXbWevMjHGtR5XJA5AMWI4ASA7s/lJkM3SrBpWx/WrsrmR0Bntn2h92Q0DXt7iT0ZM+RsWXaWtOqTqi1hMMrbqLJBgVFfmRzgvN6r1u8vRI4zf6/W5xMAuk+XE6DznPVkpZJG5DH1Nc+SI3ChpnpE9YnLJfAyalm6rYTM94gz2zw77vQ52SNfbRDhGtT3COao4X51xU64snIHVTI4sGnW/Ns508fjJ8SzWhLaSqptMVXVKB5Yi6tU1GmjfgGgvzNWXkDXR8ucxswU0BPD+1R2GCs1Qx90Vm8j9bUjkvWPHANitWsZe59u9arOg6Q7ZNKn34qTxetJAfXBXCV3p38feYwA0H268pXceUSLS80MPviK4DU/tImyzQbFEo+c0QkzJqyC+lMAwEeC2YoRDmxuHOTYYY1NYDhDb1VyqtdU7IILBUgj658DmwaH+XEpXoPz7uthgQgEUNMe2edexXXslYdiPluaVWsA6H5bhQE9Fyu61SzLsrmKpZx8CgB12UFQ21lpBoPkN+mHrpentV67rbROCnNHlVc7suBTp4hDmwddgADQfbqcAN1kgZtZLQMfl60xY0eBmVnhNRA/cyV8PLYKti37CvRctAI+MqMLpk04tbL1iSrb1gMToxzvgiSmq7lxuwGDmUXkh95DZfkm5cfuZHnKM+usZ4/qbezhfip6qAeAfvqskqRflRe5nMOOwMDBuTDw2BJIPX4OJN9sF0B1CoCxUyBSBtEWLl2TkMxRG5jnC4jI+EVJsLLV66kA6B52AOg+XflY7lYXs5UWQZVJqiSP/fZbp66A7y//C3h75XJ4/a8+Av98w9fhinqc4T75QM6bndqQjd7sUUPeHug0UVm9yzBQIS/2An7ozKrH2XTiJAhAx7L9WPfSA0B/563SAJ2zOpF5Hk5A6p+WQu/XlsPRlTdC+l8vgoG+U2ysbVA5qXEQUrSKW6sixsVMedW0NspW4HNSxEaTYfWgo34q7ADQfbrcmrNI9bFVIiPvgjYFStR/ru6Eu1p74Fd33gPJnuuh//73wK8/9gW4a9Y6aBY/IzBTZWtmTjuzp0d3k/a6GilrU/3rYq6BWe9NilcghVu6jXJ7IUCXZikS0Nu0OfWTD9T8e15hIQ+OrAIEgO635d0PvZUsRXFGm8vr+HXqtTmQ2n0VHPri+6H3S7dBctfVkH51jqmydipsBvOkJKyVlBlruu4Gc9yNKhwDOmb27DhnH2s7lbZR0QgA3ffLrTkLAuC5oQ3w3oqd8J6KXdQ/xrEsBLWb6zfANy7uhpfvuRt6/3o5PP6xzxHIT65eZQA6jU2J93YIEEN99JmkJ24e/yyHr8u5J2mAjiNlxUrX1mqcAiYLTtFIc7nK96bQS6cx2obs+qYyZOillt450DLH6lYbevKTlM5Ak2HIEwC635YnQFciMyiHij1jBCWav0bL0YPtMPSdJdC/6t1w5Ms3Q3LHNQLk544EdOVUJoOBNsdzlKzxnmMb2XlSMdJTJYzaOfmyZ10AOnMNFBO+n5nwp8qEgOH2ZjOjyZiTDAGg+3S5AXQEnKkCgM8LbYKbx++Bm8RGhvdMpQ2+OLwW/q5lB/zPe78Mz33sM/D/xOt7pnQZgImAjiI1aOzywcpd8Imq3XBDaBvERKZPGaEq5dcWZRbiLUNHsxI0KkEVt2IIaTwCV68ZxPBm5Twn3Xb9PmkULqzGx4pwZpvo4t/cZ+TcCuiCJehVj5WXqi7iBPCeqixdpXre/QGg+2x5A/QIGZWkeuO0aSxL/ZHH8vrwr2bD4J6lkOq+BjLfuhQGehMjVdiQSNYrVdQG+mPWLFlXKRsNkNMBHfvXyXIZzBRhcWop/Z+EmfQcgQaZyqSjI6oPpEWgRvIC6VefrkKAzn1jmeF2wyKR3Z4jALFN/IFnlbUZmKWfuRnWz14PB87rhq8n1sOcMzqNY6DX+CIBFJ+s2gVfm3AA1tTvhfubdsKdNZugpXqVIeTCWe9oKM/VVUtb0Shl6OspQy82O9Y5BdxO0PXXJ1bnB2Ie/Sv23OV6LkzyayaC41q4pnIbCQdJO1hp3TpF8Q54tr4pvDIAdJ8trxm6FJqJErDroNufaYP0GzEY+skCGPr3xZD9zXyyF7VkyOJ7BPLsK3EYfFGanySPOjiXsUBLucVXWKfckqGX6tZWqvf5KZKZq2cvKy8xS2bO1YRkv+z5Hx6IBoDux+XGPlX3Mm8ilrdp7ckmJ2hkcl71Wrh0wkZYKF4bNLBqEKB9XXgTrK7bAw9M2QUHWrfCNxIb4CstG6BtQqcBVCxow7Kqpc1Lj7wPDBgw+5yuKaa59XUvBLL5Rt/KtcvNaq/VlO+QqY/mNBHMxElIxyy1t1RJf/VZNJq3KgB0n63i/NAjI0vMJL4SgWQfZuAJmsm2gxVmf2hcMvS8NHgZ/m0UMm9qpXfDolUTaSn3jLteBSikmPZO2oMRo7dvmrFoMrcpSeQb6BOA3h8Aui+XW1IcA0q9AnD2CCfVuKrVapxLZvEt4S4LECNovq9uI+yfvxm+e2EnfGdRF3xrbg/8VUuPZbyNR8smq+yQQb1cgM497GYC9TV0nYZpSQmytXXaMymoka4RBN2ANwdUPAtfTjMcrr40qt9ds613ztUSrs60ERGyMwB0n62SAV2fu2ZAZrC0AXqyL0pa8Mcej8HxJ8Tr06gRb5tZRyZ6JmpRXiu7CcyI0v5JAHW39zNWWbxd9U/fymFOjugJQO+LpgNA9+HyAujcb2USGP+xx4yas2lyIKu2AhsC+l3T18EP3/1VePpDX4DvXrQKVk3fDNecuRYaq1daXMZws9zqFCW3Wh73MdOoBIOFiFFC7hwhAuM1M+fSdEMO+Vh7iZvBMhcrnp/zZGUEg4HHLCWx26D69OXM+nkUkTkM/DtmyVtWv0NAnxoAuu+Wd5a7Sepir2zDUtRQlXMulWN5/dhvEnDiZwkCdSy5DyQjI2fDMTBQo11EHEuPgk68qgSYLmJlKL27vUYDPCO5z6sJ9dj3qI0CavP1hid6Us7YG310BPSjAaD7cnnN0BnAeE9VpKlJmuFHjQJxLmfj6401G2H72RvgR9d/BbbOWQ/Lz9yA2Z7BGK/TetAIKhgkjAag16g58qgCdK40eAX0ekX0Q2LgDMX2L8Sal4Aus/mWKlNy1t5fb1QBjdTK7yEdfVSWiysN+NEo7ddoYM7n5/l6HtFDdbwgQ/ffKi5Db7OSpQaU7KmuemZx9lKA3h+FwRficPyxuHiNUXne4mCmle8tWfpoADoR9OJm2T1bJFDqbHe3QYEb8l/WNFIht7OkNMjBax6VjF03ZEnGDZ4BjdYpMpy0hg0ydN8uL4DOf/inEJDJjHE6va4xzEjqFDA0qRK0NAXphPNDm+HOiTvhq61r4Y669dAqsk72E9elUnnEjfu3kvVeHsDicjUeE0EYRV4aVTDhFiTx89PFdSEj/NLKrXB2aBNl+ywQ46bkzkERgmaj5lM+UXu+01SggFkxauZ3UH97LXEYyj0FoEv9crVBn6/nn0neQUCK89sqHtBNwMUyLO7UEfF9SjLXpZ2oJgurjEmQ4Z55E8lwmta5pXTfZgYMqZgVdL0CmbICzTUeVxLLnH3TDVEZj71+Jujl+pzW52e3O7NaMQrZuQJzqoqoTb/TwwlDo5577IcHIgGg+3EVA+gzxB/2BQLIOgTQTFXmJgg209UYG2fcDFxIpkKXsXbxnmi1yDw15zLeTVpfvkEDWdZQz5VB61anjuVk9TN9nEzO1a9WlYVOQ97WbWZ+iQhOPjhuP9wu9iWVD9AYXLNHgZhaRQC0z683kM1plxYo9dDrNOWSVo7gZsQ9GV7vncaoWova+DWTH+XvJRhb89sqGtDV+Fn67YQ0GUHP9LeVDGraNCkxSssZLSPN5unXauNS8lUnsHkcZRPvH0jKCoLT5/pVFlwMMQ5Huwb64pSxGr1+r8exOJrZxvu0++bnOWokPm5xDMiM3NgK0ElzPm0GX72ptgDQ/biKAfSIyGyvrtwpwGybAOtuyhqxhM32qlzCRmcvFlGZLj5TX20FaAaJBg1QuDdv9HW199jJZDUKjHLNrutZeY2NMc9lZS57uwF0abDSCcsqtsOHxh2gmfwLxDNAk5qpVV2eAB2vvUm7X245NComPkvK4ubyvJNcrRvme02BETm93I6tDh3U8bWOXfYoKAqEZfy2igV0HG3KviL2a3FyEMORtPShGGXplt40i5JkrBm4oyiLLqfK/uqD9mzfbVlbZs8ITHRNjll6xBlQXQY0DObSKjVRBKC3OgvSWMrtdmnZ0SHI9eu+9/02UD+asHANelOtAaD7cblVimPQwJL6wqp18FGRnX5w/H4qO+MM89kiS8Ue7zSVpXO/fYrqtXN/WZcT5fKzXu5tUSQwsx+/0nA44/J4PZWlO2kWfpqqENgJZgxAnL1LUBtJPJukqgX5AJ3vBbPw+aENAtB3wrUVu2Fp5XYC9HOUap4X5TkG9GYFoGzswnatpgLdamLm19mqEHx/ekBjPFftXuoUZ4B/J4XuUdcC0IMr83cXALrfVrGAjiXz4afEfjoGmdcxW5cAT7agfVrf28FxzMhOdVtWi8d43Krihj/PcFm7zQaIOcrlat5ctgPiuSVoDYc4l/Krgyb4Gb1mLod7lXBlbXcmFWYjludhEg4LBB3lYMKrZ2kI7wyY90U9dC0gCwDdp8uVUlzYBMOpmKFWPgCfHvcQfGzcg/Deij2wuHILWYIieWu6Bug1ihiXzwiFQYmJV1PVjHi9ko1lUl2jVpLHMv9CEUBguXse2pCGu0aMjOkkuFyZLJe9c2W//B6+PuQJnC8CmCsrdsHllTvhQnH+JSEUY9lCc9z1ngB9pSUj5kpBDbcZqs05f86wdaDW+948MmfwELR7ZkB3YwKjBwnMa6gb0c4IAN1vqxhAR3BMH4zBsSfkHn42SmCOM+YE6EcTlt65K7AxMnEG9Hh+5zI13kZ99owWNOiEsyT3g/OUw1Ww0J+JuQNMo78fNzcCYLJEQLcT5Eao0OW5Np2UVwYpW53wSNtWGcD/KwGg+3B5BfR2AZ53jt8Lnxv3MHx4/INwi8jSMVNNqOxcAtMqV6DGgNOoARNnpvUjANrM5lH8BM95jciSzxNgOrNKktt0UpreP893fjzvVEXQc5JU1SVeWwT4YgBxsQDyi8ReHJKkuDni37BS4ClDV8DNlQm97K7fg/1+rAGBMojRnN+aVSWDP8cA3RguzOTXbXMbcrYyAkD32yoK0NNtMPhCVIL5b3G2PAqDmJ33YnauMlcv5WcGL0vfuEB5nVnqzMBWmawlKEgykSwPA13rV+cFfaNdoGnCa73tovvbRjZeROnf3jbI2IIbL8ex6bZbAN0izxsAum+X15L7XAEed1fsgz8RgP4psd83XhLDpqkM062628Rqa5bK5h+GgEqOfjG+Z3oVZuibRLa8DeYSmHaPEIhxq6om1e86jYDAqYLAICtJfp0Qq1oLs8nTfB0x0Zu1AEQve+uBkJuMWJ/HdxMUMPMcZVnj4nrmhTYSURGvR281mFl67kqEHcx1sl4A6P5eRQF6SgD681GaJR9+Okoyrum3ZB+96BGuTAzsTPdCnzOBODqy56wAfcSYF8+8268hF6Byn9t+P/b+e0kSsHy8Ytj2qsKQjiuWelxq1Hvu52ttD2bW62Q/Y2IgIMX5drklxTFQTaleBRdXbYA7KvYIQH8IPiAA/RwBrk1KTMaNNWqNBhxy3rkrr/WovVSN4DRDOafNICKeFVDrwqaAi56t2rNcHdAxqGh0KEvrGTO3EPj9PNJlWsOuHMHSry0A6vZ+v1tiHc+rY4sDWx0I5ktojG4jVRzsmX69BaRzBFja78We0ZvVjgDQ/baKK7lLkZjsyzJDR0CnMTS9J+6qzF6iDKt+Li4ZGyNyspefPpggNTrUmjeDBydWeR4mfS7AHswHjmNkuDIYMVoAWI1ARjqBelHVgjYLoFvK7RojPwB0ny6vgE6ZoQDvhSITfE/FTlhWuZ0y1noPZXbu/XKZfbKWUbqRRGW1txZNTU4nblEZvaqLhFAwgzX60DZw1cluXLJudCDX5aou2MG3rnqloaym97PdKLt51Wnn4GEqGc5IQMd2wCycJgjnqG4UqKDwfbFxzETH6wsA3W+rKFKc+uOPQjGZN2Tf3LMVqZERRoyxtrIBIJH24pB9NQHHHuuA4acw24wac9/9mtiNAYppjYxXymgYZ/vFlr6LOJ/kEsQNvoBsMZTWSzcrJtzTbw0A3e/L69gabzRcSWCpV+wpqtzuFtC5VDyLsuxuYqzrveRCGS1n1fx+vYzMM+Y4+x5Vs/HMErcDKwcHbD6C73caP9MBPBfoMpjziJmepY+GHSwD9CTlhoakvOnEBch9jTXhcmjBB4Dut1U0oKs//gPJGO0RIFmgxGz2uvVSfUQep4hM3ficyo7RNWzouTgc+1U7DD6vmO6pHMpsWdOYBGfLcwJiIZKfbX48J8N/NECdn2W5AiOn+1QVkYDl7tPlJUO3e33Xqx54nUeQQBDG7HlRaBNcU7EDzg6tJ0BqUyX0QuV3BmJ7Zs6z5hwwkAELZvFVq3P0g1cYynQYlMRCcpZez3BrFCjz+Rq1kjWX4JGRjsQ0vPapNnGdcuquO2Xp3Peu0yoGTq2F8u0A0P22SgL0UsrLCKLJOM2IY5ZPs+y6MpwnAZmItX+eiRGAZ96I05x8+pBSPMtF1mNimgByJPWREE02d8/cykY3wY+Z9djPNkV1xsj8ZQytWANSnE9XKYCuk668losRQFEO9tbx+2BZ5U4B7pthngB4lDk1RrgKjLtZeryaaA3PcutqZ405xraMvjsK5hDZbQPMDHcbXACdhc+bS9JN5EIm1dwww2ezFy/989HI3O0jbgGgv7NXyYBeLJhQlh6h+XXyRsdZ9sNSyITGzLxkmjrzHAOCAcl+Tx5BMFe7t0BvWQEzqt5J8Ne03XmkzmJEo3zgVWBiaK0nTwKYj/EOAN2nq9iSO4MH25E2uZhztoN6NLwGLgptFcC+VQH6RiJ4cS/bix+6KRRj9q+ZCOYkPOP0eZa0RQY9lq+xPz2Tsu4uUsNjFj6DJo+84cYMXddzL5d3uZfj6Dar5TZwCXro/l3lAXSPzHYNRAdSUZKMxW0A+oCu314g+9cyZdKX71PZ+IAssaOindSZdyHPqhTgZBCAwUGUNh7DOu+uOcQZgQRXB8zxtlFzRTsZ2bom4hMAuk9XKYBeo/rGNLpV1ZVXQMa59L6KsuE26l/3ULl7qpqlNo1Z8iu46aVzBNUIWXyaLO9azfWtEGBNUi5sGFzgfDtK254rvkagr3MgidWqcntdgf564Yx6hae+d6HAxEsg5Pb3XK/Y/AGg+2+VA9A5Oy7KsYxU12I0akW9+LQqaWdc9KCNQEJly+JzKZGJD74sgoPeqNFXl6Vwl9KpqP/eL4l+mTfFxpL9wTiBumMwYBGAGZuSt/sAq4zH1H7HASnOp6vUDB2BV89OvXzW0HKvNrNf3ailUClfz4TxvQjk6EqGs9hEEPMIaqwch2Q/nK2/oWIPXFG5HeIi2PAiGuMVLOvCK3PqtNcpTXy9vZCTmKd6/G5HAL1UPqYowZqa6sCcxW+rLBk6s9SLHjuzAWIu0xKnzzPgZ9som8Z+OcrRDj0tQP1gjERwzNl4d6N0GBigtSsq3w0/KV6faYfk4biza9uptnUp2zJODVC1o1/O9fcmA7c1X65iAd0YcQqv9CyIwkInTmIuDOqFsnP9/ayEhpk96sljho0Kbq3hNa6rBjxON4lm3LvhHHGMGyp2wl0V++HdoQeIjT8a/XC+XwLiaqsme121VVs93yQBHgfJf1PVKJ9XXkO+31WzZqUauK35b5UF0BlcPWf1UWdWNgN6XqW4VqO0zWQ26pmLzHr4yTic+P5cOP6jOZB9OW6Wwd0AV1rKySKpDr3bj/10Lgz94wWQ/dUiOv5YMNbzBj8FgddUz3OtT1/od4UBjmGlmoDDA4Efui9XIUDXBUd0JTedxe2lxyuV3kwHNjvgMoPdDRDr0qyT1Sx5uwD0q87cCDedtRGunLAB2lxIsnImzCV77OVfWbkDPlFxAO494wD8aXi/+H4rNFa7m7X3CuiNap4ciXXc79cV2yZrNqu55uIbNJe2FiXUUw5iHAZqGCi0KPvWuiBD993yBOgWQ5Ui+7SDUgseM2CWinXMfAsx59lzXbxivxwBB/vw2VelvvzxH8+G4z+YB8O/aSeb15zjXIPmqFtfRgYGmYMCzF+Mw/Gfd8DQIxfC0ftuhNSuZZB9cr4MDkYNzCM5ApzWEe0F52cSNQRmSCGvTGV3vOek8kfHYCHI0H268gG6DuayV95N42boLIb97ikuPcC534zAhJ9jq9Vcn3fTj9bH1Lhsjde49F1rYdPsNfDIvB5YOWkH3BLaLs7X7ThbrrP0EVRxpn5xaAtcJsD8xop98MlxD8HfVD4Mf17xMNxSsYOsU8sN6PxsJikxHJ6tZzBngNa13kc+LxkEMfDqQj0lX1vYNLCRPIKgh+63VRDQLaYkUSsBzK26m+EgFiESHM6II/EMX7FvXhQTfIRneIyY6anDUci80g6D/3I+DO2+BI59+1wYeqZdMucH842iSYY8jrode0pk+D9PwInvioBg34WQXHU9pNctg8H/PkcAWnmy3pzPSTeZ0asVbmbadYEcL1azBa8pamb+2WAO3bfLDuhEgKpmty9zBjsigBwzV/T+noua4aENlGG7lWtFQEAGO46FzVLjXaUSt5zc0z4Q6YT/ef9fwI+uvxc2Ne+GT1fsJ7tXe5bOrYJ6LRNGXfhLK7eTNSpq1H923MPwxfGPwD3jHoHlFTvJaa5cvWnHAMU2eocBD47E4WjcJGWv6pR1M/Ay/8Ctap+b35veHglY7v5cjoA+aAq96GItVIpWHtnsBe7KYUwBFYI3Esyyr+GImhKUKQV02PKTtilR2v/WPOjbKUB4/dVw/FvnwvFfcg88YvuszVlMABYS6k48Goff/+dsOPFPC2Fox6WQ7r4ashuugMH/Ohf6B8pMNnOZtRv2qm7AN1O+crthmqPpAwQsd58uHdCNTBHduwRYt9BI1mpICFC5tHIblaEvUR7g2Kee4QLQuYSO2T0GAThnjkBVLmC0O5J9ZO598JtPfg7+55avCUDfA39UcQDOE+dlYRl95Iy13nncDTP08yq3wNUCvD8mPvfVMw7A34UehnvGPww3qQy9XONohYC9njgBXQToM1Q1I99cuxs1Oy9AXqvxI6xEuwDQ/bZGALomJcp/xLGvjCxvLGljOZqy6141CpaOOgOtrTRPDPQjUugFs2DLnHdJgNNKYC5nw9U42aH50LvlJkitvxZO/N9FcPxnHZA6pGbQNe13Inol46agTVIy24efTsDx/5kNx76xBAZW3QAD998A2S0C0H+ySLxvjOfKWavdDaDr1ZCS/dE1MqGufhcAun+XDuj4R5s10LGXjGzxJaEtcH3FLvjwuAfhTrGXi8z1avE9GoGgZejEPABTz0pq4rj43laSVu3OqdpWjr20oRN2LFoP3zx7A2xr3gV/UnkAllRtMECJs/E2dY9TVW+YAR4DjyWhTfDJ8F5YM2kX/M2EA/Chir1wrjhGXbU7vflybHx2zUrWldXnRuuZ2cv3jVqmX6OJ5JwVALov1whAN2RQZQZOvem34uR3jjapQ89J9jcCH5bMjZ6yzlRXWuByXCxKmbgkVslgwPRLLxM42sfX+mOQ/d75MLzvIjjxj+dIQO9N2MrzcjQNKwZy9j1hCMSQDvyL7TD0L+dDb9etMLDhOhj6zhLIvNRO/f+xBnRXjH8vVY1CgZTuZMeBklHyD4RlfLssGboqr6KYyuwqWX6+cfxeuH3cAXJW+/S4h+F2AehXiQx2fmgjAeBER1CQSnA8E84ELyy7swxrOXq8TntG9Sr41Lu2wLrJO6GnaTd8rHKvuJc1BpN8Eqm7dVPbAJnweI26GA1as+K9XR7aBssn7IAbQztFhr/RyM7p/kbp2u3PkF3dmlS5vRyZv5O2fI2W3XOJPXfQFQC635ZThk5lW1JaS1BGPfxslFzV0C4VCWdDL8jS+QhCm+5rjuV5AfiDv2NrVQZSzZazrIYs5tcIutlnZ8Pxf1sIx/91AQw/kaDZchlgKFeywwkYfEncy/PyXkxmeITeiwHL4HMdkP3fhTD8s/mQfaFDzqKP9ay5G8Z/UcGBA5/ACMiihoSu03kDQPfpcuqhy37yeio9v2/8AfioAPPPCTD/hHi9QWTn+LOpeQhxCOZzREBwjsjukUDHbHgeMePMzws73m05GcFpnggibqzeBO8LbxOZ9ToRSJg67DxTjeNtuLGtUKtl3vjzmWRJKtnuqByHJD6dYe7W5CRXNm+xWc2h7MbgWldi8MMgzpUJp/n+Oq3/zteVuxoQALrflnMPvU0ym4/GCPSOPRWF44/F4MQv4nD81zHK1gkgMw6GLCpDR0nX4V+3w/Efz4HMKwnTilPvx3rJOj3ZsrYK8I1C+jURkLzQLgKTKF2rQexSvuFY+kfgpnsxyGiS1Y3/RuQ97Pm/rqoRXjXmXd2Tu/spy7kyGmHOHkxpfII+vYXhcKwA0H26nFjuNdUyU72wcgvcKjLyuwSQf14A+sfF65WVD1ApONcffCTTIVkOAR1JZi02xjWDsyc5U42c52a+Gn+OGfUMJS5jsQ5Vx5lKLm+rR4zHMZBOUo5t7SJ4wRaEPjPv2vddXXuN7d6ZkT5FsdcbHO6Lz+HmPIWuge1mm3n0zPb7kAx7k02fyzM9AHR/rnwsdyyVY3aN2fnxXwlA/2lCvMZJd90C5jaBGGSyZ8R7hh9rh6HHZ0OSxsZiGlvbYwnZwvR2/zkJ4hpZjsvIqq0gS+0OvWlN0hWBP/12gqoRZXMyY5AuZym90M5GHEbatAkG5En0Kx38TH5VvQDQfbqcAJ3nmmMCyC4XAL58/F74qAD25RW7Rda93sIY17NnVhXDrHcaCZF0WiRTvYI5AyL3vtlr3K1qm5Oft2k7mnuum9oPqocdDa2lFgS3CbyIy/BoHZe5azSSGQJ6sxox46y53GV7HonjOf3JhtqbGZiQwp74XSH5bqoG6LVBhn7arLxja2iPKjJdZKUP/1Zk6r+Jw9CzcRoNs/pkW93O0OAk85ZyUTuiW4lKSVfXBC8NXI3xsnQJFqF6lo+67wMFsu5ByexH8p80dinjyJoO6KNlsWrXm8d2Q9JhpE2b5R+wAHqQoZ9WK9ccOoM6SqjOrloHC0MbYXZoHYGcDtC12piVrhrnBNwmuLkrFXMZmOegOYtsLHEsq0bdWz41Oi6/s/Ias7y9irXoz4jZ41z+RlBn7/RyEt74nNwPn6Qx+hmsGcwnV0lBHgzC9JJ7AOinzyo4h05uYjFSSUNi2QBnqvbMrz9h9MZlWRfLtm0jsnK0FqWfuwFH3UUtbfbA5edLGXcr3CfWQbesc922ZztqWbo2wmY8c2NqIQb6vLusROimOPmd4gJA9+nKlaHXae5lzcqABclkk2yAXmcD9Hz9Xj1bLQRKdYoUJoG8y/A3Z8Z3KWVovQRfyOiE++7FSqnqmvW6U5vesy43e10/Ppfam1WGjkFEoyIBcmAxSQUstWHd9jUA9NNl5QR0XZ2Mx5Z4xCujjZyNAHRbSTcXoLuZX9fZ8tz/VscvCdAZTN1onlt05csM6IaQzCiMwukiM8azswI7/V51saCMu5ZIAOg+XU6AXqeIcXKcy2SHc5laJ3AZfWIXYK17dRfuP5vMeCwHR0JrKaggJbSq1a5Y3xyY1DpUC9yOn9Ua5DTTxWxinvPkK31PtN2f3OUts/Oxm5StLcvBzlA2sPg9BmbTVGDk3SkuAHS/rZyAroRgkBzGxisstWoBIPvcekrrl+us6qxtpC3jIuPVMmkeoWODENcENcP2M5dTmjuNd4vIzqniqlbgmi2AntKCIdVLN8rrujodj7XlIeIFgO7T5QToDUrUZIoqB+tl9Jo84OgWJN2+T2bInQTo0ap11MtuLiCDqgcOnOU3lpAF633wXCY0XJ4vl0JbOQC9UdN2R3IfMvrPDm2EOaEN9DU+y8ZwMa5sAaD7bVkAXROCQWY4GptkXk9QyT1v71rPYu1ZHgO7/jlWonNrmEKjZNq8eMoDQU0Js5Q8ImfI1xbhKneyAN3Ivk0QJxMb8SxJ6W8gXtS9BIDu02UHdPwDP4U9zpWveKFS+mgCExLr5oTWwyWhLXBhaBPMrlpLzPmmPD1wnUyns8iLyYZ5RtsetNgV6rgnP1bPiIOrQoA+g3T3e2C2eIZLK7fDhZUP0DgeTiIUF+QEgO63ZQB6qjXNTmPIDh98th1O/OccGHqyg8DU6LFm8vSbddAbNMfAylGWxmvAHj6KvuA1utM2t0mhFlva1me0/ZCda1UWvYeOvz8S08Hn2JcoegwvAHSfLgT0iQLQuYQtx5ikQhkCAkuAjoVKmT3rRZ11lJ29ObQD/iS0H+4JHYAPhXbDxaHNNBuO2Wejg2EKj4YZs95hTSNdea+7qhBombneY9aPTZr31asso2deuALF7lqtBeD07BoUk366AnQcv1sontsiERjFaTa/WPndAND9thjQjxyJpKVZSpzG1QafT8Dv/2s2HPtVBxHiEAAGUh7K3GXKMqXITYxmxlHQBt3UUm9zL78AW96ussZBQNYDMOvEtbEaMStjlm6Q/0j9T1Y5iLWfLJ6HEAC6T5f447y0Lnx/mke4MCPFP/Zsl1lvZLdjC+icZS6r2gRfnrAf1tXtg+0zdsADrdvgC3XboSPco0bYVjl+lklhXApn5zI0iIkqdTg314D3Lk1S1hCxTHqvY396Nc2nYwl7LhnOdFMAUqMFAOXyJM93bTxbnwvUMUPvEGCO2vvzlUgO+6UXd+4A0P22GND73oqkM6/jH/822sO/jcPxXyZg6Bml3/4WlmrH2phEZudotTr4otgvSNlZVK/DIKM/E83d09ZZ3tmoka0OKGlXOVfuRhtdKd+pzw2kbKBu6a+fBLAvRKxjFvuADMqSxEEorQURALpPFwJ6rQB0Lhdj9opuaNMEoHMW2mQTIxmrDB3PfWN4M/Q07IEHI1vh2wvXwHcWrYb7Zq6FyIRVOXvxzCxnTXJmeyMoY6Yaowy1UwNHSVrTOQK6clyrcprDzJYDBMx+YyE0c9lqmNW0iePbKwOjDehcOXA6T11Yes8joKPMLV4/BiL1JTHrA0D322JAP3pIAPqbMRo1GxBZ3OAPF8PQLxZQDz3zui7hOvZa5iTF+oZUbMMMHZXqUImuX7G0c2bOOks+Y2apKPtKevIuneJIh/5InJ5D6u2YVc99UBurK6fwjIfnk7d6YAC6KrOz5G4JLYgA0H26uOTOQIaZK+qbz1AsaCy/T64q/6y0G0BHkL3+zHWwZcZW+O4Fq+DH134VvrGgB/6kpQemTliZlzFvtxRtUuN3COo4c62L0+iz9HWW0a0VZCpzvgBrdJrDeXwsr7M8Lj4nBPILKh+Aiyu3wzni62ZFJGRZ19EAdN1qlXv3unytfl+TlTY/mtG0aH7rxVddAkD32zJK7kcj6WS/tDRNv9wBw/+8BIb/e6HIjOOkdz78tCx3J/uiY2tQQq5oUTJ1yb4ap8rB4PNxZb8ayy8jq3r6DPzS8zxWWFDGcoxWcobLvpyA4acS4jrsgG7zZc+MYRWD2wiZqDGJMIK3oE0hsKiM9VoDUtw7ZjEpjjLi6lX0xx97rlieRkY5ZqK6eUk57DldgbkC1bnVXfBH9dvhkUXr4JuXrYF7mnbA+eH1BpAVZLuHrWNntQ6jYvqsuA7s+DpPZLfXV+yGmyr2iMy+2wBTfCacuaPzHAL6ktBWEuLhcxlgW6ZMXSco1mrn0IMWuzKfXqXA3yWCOk8KFEfiCwDdb8tKimujDPTYf82D3//bfDjx3x1w/DcxOP6EAPRnYpQhk1tanxKNGSvgEgDKWfqxxyWoyz66NopVSCDGZudaEMw1WdTUoSgceywBx37ZDgN90RGAqfepR2Tp+rlHC9CzVja7XZbXEnAYI2sepwUCQPf/YkDHzBM90Nuq1tKYWItSSGNrUQY5N2zuiTooa/PWOQVnFFg5AewUce4LwhvgE3U74WOTtsMlVZtFZtxjIamVWjnga2URGQZJvHfsOV8gAPv80BYyeTlLVQ4w08VnhX3p8yu30Z5btd4QoZH66Z2U4ZtqcKWBuV7K5/YAAztzBFpIv95sR+ig36hAfZK6Hn6GAaCf3ksH9PShCBz7+Ww4/k8L4cT358KJRwWAPolgHoWh38UMMxN8pfJ7Jrdkqjl3rvrXWfucs9uxtYjKsiPU96ZreF310FM2oZRyCrQwCGel7StWKrIvScKgFVAjVkDPRkYArmGGUg5SnX3kTxf/ScUVgVHT2rcDOgsEcbbuRYY3AHR/LwZ0BCkEA87OWTe90ZaxMuA5uoiFrQCDY2+Y8ccF8MWJjNVpmeXWFenkeVZCE36v7Fen0gz1GpgjgPLc0Gbxuo6y4ulqhlrPVovNgDnjxuNhWRrPN1ndNz4DfBatVLVYo3rP5nU3K9e2uTTbvZY+p98/OrZh77q9aj3ZyNZXFz+nbtcG4Ovg+8fzoX89muLMUtrzOnHOXjWoKzoYCgDdb0ufQx/oi8Dgk3PgxPfOhuM/6SAwRw90JKQRiB9KSFvRl7CPHR3ZT2dddwUgaHyCjm0I/plXY2TYMtBvm0+3AbcO+obsKzLakzE1PqcY9ywzy8pzaaVOVxJYtloJbgzIaAWriHQjNM6NUT2ncneEngFODxAJL1Vi0KG1DwwQ1rJ0FALCtgj+fohjkI6aingZUyfAAPIie+kBoPt06XPoDFKTtcy8QSu1F3I8Y0BHMJymLEiXiMz2moqdcEXldponn6L1b5n4xvKyMQFEy89aB+8Nb4YFAiQTAqBmi9cFAsxpdpqkZzuNjNeu4FYUmIdNJjsy1ueI88xSAYM5mrZSjrvZbE4Nz3K8nmorgGJwhNeMmfu54hkkBPA3uWDW57pO9nFnhTcm8vFzwOtFQD9bMdnZVa0mPLJMb5V4DUrup/uyC8sgAA8/3k6+5+iDPvhClEACwRz90amX/XrMOUPXs8GkLItT3/sxERx8fwEc+9E8cTzpTW4BEkuWGaVjpw9GCQSx340iKHhuFpah3a+VjTnjdENyK5CVW7TOLVl4xLB/ldfuplUQoUCApgQOSUGXUkRpdF17cxTPVN7rJ0CPEucBz0nPx8nlboTEawDo74ilAzoDLI97jVCJK5DV6WQtmb2uhUsEoGH/+ToB6gsF2ExTPWYGdB4pQ1nS+QKQPlO7FT4e3gMXic/NE++fK0ARX+dogK5fn95Hd6tAp5PumJWOGTSCIXq4Y0YtQdPaBmCJ21zHI7MT1E5X935eaCtcWrlDPIPtRJ5rUbPfXq7zLNUHxyAjWiWd3yYr21cWzuFngERGfM90BfpcuWD/dt0Vr1AbJAD002fZpV8x686+jKAgM3NklGNWThaiAlSRIZ7ujZML20gSmsrQqcwcJac1/Pzwz+fA8LcXw/D3FxGxLHXELjkaMUbMEPQGX2gX51fnPJowZqdTb8tXGr9SmzXkpehNmQA9l9a8PsteKNPHYyUVmQ/Z+W+gMI7LUTknMBfBE3IXpLBO3Bw7yyh9/LQsoSNZEH9f+HsyghxLFcFpBz30d8TSAR3/wOuz27W2bM5LRkc9X+rLd0JUgGU03E2Aw6XyGr3srlzB0MN84YQuOFcA6lwlUYqSrzhmFgutI6Bioh5v7lnXaNupcmAHLt31DPkCUQXAS0LbKIhoUWN77q1eZZaP17xABAaYlS8VYH6dCGbeXbGXVNpwVr1OC45cZebiGS4Wx7xKXNdFlVsJ2CdppX0mvZl9/9UFrWFL2wGg+22NAPRUGwz9Lkoz39SvfksqtKXVlqIkdmJY60iimOHkhYS2CAxgbxcBGYMBXUrWlglTFpqSo2okUaoycgR1Ujk7pPbb5tcYaJQM6AyORrZfnIqa3jfHXjYL4mDWjMDe71acR3u2RFZ8tQMGH5sHg89I5T5dK9+q2S5Z/J6Y/B53AOg+XVZAX2kts4/I8JzJbxNzgKYd8HJZq9Zo/1ar5F5bVKbL3uoI5mwu0qxtPRPl4MDug+507ewTzjK3mJ2jLCqCOpau2abVbSkfz4tge4EA3mUVu+ByAebLKnbC8vH74f3jDhBTPiGCBjky5o6MhgHOEhFcfLZ6N/xl+AB8pHIvSd9yf5zbGwzgnHm7cZJzCh4CQD89lyOgi+wcM2sEzZQCS8yqSUnOnpkPOiipcUbolAHrfdt80rD83oxJ5MJrIBB/S24sK1M22qvmq43goHgQNtzi3JjH5Opzp+NGWwCvD0mFw0/Jigf21L0ctz8ZgczzsyH5D1dB//obIPvtiyD1VrsiGdoAPR03qh48phcAerCMZddydzOWZi9Xl3M0C/v4PCrXoPWxOROdzDagSs0Ov2bHMGJ6h7spINBHt5xKy3wPDQrU25TqG/a6uWTtRRwGn0FMHAPL61cL8L6icidcJQD95vH74H0C1C+v3Ebs/BZVYSik1NYkMvNLRJDx2dA+WNe0G3ZO2wErG3fBleFNxEPgdgUeCwMbffKAwT6fja1eIZDciJV5PNADQPfzGuG2hnPXA5LMJU1ZojQ21q+2ya5ulaCRVNlg0qMDmhvwUP1hgymflr7sBqgflIx3DDwMWVrudXvpVQ9awbFPbwd4BTy2kx2QVrIYBCGQ49hf+s2YVYe+EJinIpB+dh6kDlwFr/35nfD8XZ+Gg6tvh8zTC8T9msBNGXl/wjqCxs8h1z3kCroCQD99l5PbmhOAWzzQCTxXE3Dq5LlyADoCN7LYuVesgxT3jNnKlcfqeEQsQmz6dcTUn6TNZPPoXK7rq1X3M1VVAXTJW7eEOzxXuzj/pQLQrxQZOpbbZf/8ASqVY3Y+VWsZ5HM6w39vC6+BD4R2wr0THoQHpuyCv49shr2tW+AzZ+6AuWSsssIwYMFj6gFCoR69Duj6aFsue9gA0P29cvuht43MxLWeKwGJckBLqr42CpeUMyM0skzNepVMWg4nqL+ORL30WwnK0CkAYRtXDi68gnI5ZFx1QGeHM6xuvB1VYO6yby2CnlRvFNLfvwh6v7wcXrjrbvjNzffAM3/4WUj+y5Uw0NuhWhpRxSOwEe4MSdjclQQLuY8B3sV9B4Du02UnxTl6fWujYTVqBrtFlbt1El1NHoByA4r4PjwWzndjttwhwHmaIoCxL7kurco98OniWnC0DZXasP+N/XYEdSzXN7rItHVC2yRttE5vOxS69lod0Ct3kdAMAvpixXBHHsBU9cz4eeU6LgYH88T7PxneDd1n7YcdzTvhG/GN8K0562Blw154f2gbdIRl4IHBgZ3A5+Y5M3DruvfuqhIBoPttjczQHURQuL+ssmU5Ey7HsbDXjWBq2nE6i7f0Z7EX7CI7N4BFsbdTJjib2agcA5Pa5Cqo6JNObBaL1XTMWt53na2XEJQoQNe9xw0Sm5c5dPEcM6+KQOCbl8Ob93wQfvfRT8JjN/4p/O8tX4Terlsh9cvFMHBUU77z3Jvn56xXKCKusvYA0H26dKW4XL1XfdyJGOwqK2S5UTOTdeitK09zBNemAlk8j82x1Sf2oReFNsFUJVeqy5vysTFLRwIdlroxK8ZeeEJ8Xvqn9xiAV6iczDKxnNXXeADzs1RZf4bInBHA8VouEpn5pQTq22l0DXvzUXE9jVrmn+vY+JwwQFletQNW1OyF/bO2wbfP7oZ/XNAF99bvhs9XHIBrxTGxitGktRe8bF0DgJj5ip/A0rC5yY8BoPtt2cfWjDlnu9oZ25BmJIMdyW3E2k5HRuiZy0yZhVYkMS5zMAJDz8Ug2RvLrzJHgGiCFJeTuSdNLQDKPtuM0jqV4nk87G1VftYFZ8bSw1xnyqetwjdexG/wPnHkb/AH58FbX3s/PH3H5+GnV/0NPPqJL8HhLTfB4CMXQ/aJuVQdMZ5JEddq8bJ36SgXALpPl56h6yIt9jI7jzlRhq4Y5gxKtTaymz77zCNpmHXHlLhMrmxSjmf1CPDbAtfTqNseAvZ5ArBx3M0JlJFJjxrrFwqAu0B5fccEGLbp41sueQGlytri9UeVehxWCxDIMUuX5fftItjYSGS/fN7seK04Qkc68VUb4GNnbocdkY3wjXndsCraBVec2QPXiPtchnP94ufNRdqgNiitACYbTlUz7s2q5ZA74w8A3W/LCuitNmGVVosEqjleJsenkDDHPWET0FXWqMbJMJPOvhaDY0/F4PiP5sLwfyyC9Cuzad48V5kdP0Ns+P64UUI3KwB6WdkMArBKQCS+3oQJ6Ok8Ou+jBuit1uehM9DTLufQs21UAUGOQPbFDkh9dyk8/+VPwWOf/TN48Z8/Av2vL4Chx2fD8K87iEPgOELoJmig56aec1qfV48EgH46LqceOiunUS+5etUIcG9So166JriecTI46uYoCMgIdmzfyeBZR6It8nyYxeP89mUCAJFUdrEArktUlosl+EYHpTU8xhSlyoYiNDFSk5NgPlmdp9S+vpesFwMMvA/UdMfqwuWVOyVBrnIXubJxll7v0Jtn7XVW6ENi3OzqLrh54ka4o24zXDmxh5T0cBQwEe4hNn5UMee9gHqNUgXEgGAuCen00JZB0BrDXnViAOinxXLsoTO5LB01iXE6wKteNo2xHVaAkLSWxmX/WJbFkcSWeSNKI1fHfnA2HPvh2ZB+I2GRJzXH3GKGmAzPURuldi7p5wBBM7OPjxRgGQswt2e+mjGKtWIQyftZuo+kNMqhsT/kKDyxBJI/vxgGXlkkte2TbdRjz7wRk4YxRWTpbHqDe8AiBZtfbCYAdJ8uJ0BHgOYSLJPeuFyuS8S2kSvbmpxa5XogUFtt+orjqy6RiuB3MYHfVpJ4RQDEEbIFKstdSqX3zRbL05Gktk66Fjz+dPIu7yrSfKQ0QKdevyLwoVDOleJecA4d2e43VOwW97fRYPDbR9c4wNErEfhMZ4a7oV0EKjPEPfH9sM1tPLRePL9ui3vcyMqDlRsxkdoDXfRsMchAhj+2JyKKUMgz+M7BUADoflu5SHE66U32pKOqvN5KZXSyE2Vd90MmABtjUzxTnpYlesoGkxHIvhyHY79qh8yrCQItQwudsv4oSZZKhbiEAci6Fnle0NKU1AxwKqe+exG7XyPJyV1gXp6DAFslAp8NZuyYuetM9tQRqQpH0rIe2wqY2aNMLHrM49f9uixsHjW8ANB9uvQeOv/Rb1QZOPdU8RXLsZh9IrAjyQuzYfTZxtJws8uZbc78DUlSBcSYld8kwO42AXqXqv4z7gsVmGPGjiXsKTkAXSe1sTwqBg3FAnqNAmWdOFbnYqyrRgVDTNzD+0Lb1TvHH4DPjn8IPixeLxb3oRPv3JXyO0eUwvG62Bp1huqlO7H5nRTu8N+wrI/KfQtEgMHHSCgteNTLz020CwDdb8veQ7dkyljm7lNARKQzafpBFqsHUQVOSrsisEtxl4RVmWxEKVqVxt+S42e6NzdWAjDbRJlZKrfrsq6pmJXtnqfc3c+jbqWaoVgqB9as29NxFKCz2h15kqe9C+AQm30gYSW/KWtZBHVSkNOZ/XYwdrh2/CypAB6MyRaINtPel2fkLQB0ny6nDL2R+t7dBpOdQR0BZWF4Ddxc/QBcE3qASsoI6FOUX3ox4IkghApyKBF7dcVOOK9yC5WSMUO/tmKPyGqlyhrKsU4qwObmKgC1A8KrXTHccwUdzZbqhDmeVzhoMUmC5BQnntHdAsj/rOJhuEPcz9nKka3WA6A3qHlze2ldn6XnKkqj8ka3X5P9/jloazYMaHpI4W6J+D3MFyCPgB8A+umxcpXcSbq1LzGij03ZpsgSB59PwNBzcQJ1yhCPmBk6Z+e5smcqm2dNpzLOwlG2FOfL2UmNR9QMUxQ+7mD+krVx3CJkTS3Xa9dBz7gnjtmrHQToh9XzLEL+VbYdEiPZ7IOtBkGQOQMFy/raMfX+Pgni9Ju/51zPOQB0ny4nQMfsFDPdNtXvnqSU2+YKMP9MzRbY2LIdvnzWXrhegHqHMh3xbsNpBeLp1GPvMbJFLLGj4hoqrCGZrM3QMS8M6hyA8Mx3fta2ddepoGCG8oVPVHdDrFr2xCVfwNRAzzcGx+XziHiOV4rg5GZxHxeGtoh76Da95V0+s7rq3La1unQuj8O5EYjRZ/qn0u+6hzJ29HZHQJ9W1ZXjOAGg+23lLLkrYxEqpyvhGDlTnYDsM7PhODqy/XgODP5OirzIUnJMc/OKjgDZ3H7hXGrWSvTMXH9DCsjI/jhn9jEXoF6c8YjxeR3suEqQipnfexGfMfrirK1eZOlef352x7esVdPdHfkuYiXuJdVEQQDop+dCQJ8oAJ1Z7GY5dzVl37OrNghw3QjLROb26epdsHHqdng4sgU2T9oNXwjvhUsrZQk5H7i5AS0k3+kZMfZ4ca6bLVNjqsyPVqZ1eQCLSXsIxhggsFBMbQHRFAbhBpWd4zmvOmsj3Dt7Ddzbvg5ue9cmAeqrLXPwhYCT1NyoAoFkvx465hSD5e6+amDvg+uvnKEzkNdUuzs2H5OrGmxVi89shuHoFgD66bB0P3RLRjvYRprtWP5mZTbMxtGJjcD8m+fAiX+dD8f+t53KtsZIliFo0mYBjT4l45oXZA0Z2YhBysMyP5q8YJZORievKmvQggYpbUbm73lkjR3MUG72zXZIPXoepH9xHmRenC05BZrTm2vLVr18X1QLoM3WArAZ2+iZudvzaK0Ec9RO09gPSu6n1yJAD9+XrjcEYsxeLM5V41z3xQLMl4/fC/dU7Yfuur2wpWkPrK3ZD39edQCuET+bUiKgs4ypDpLcu67XCG8xxV6vKwCk6Kd+Tf1a+NKybvjs++6F+VHZ/3byTq+ptprP4P3jWN651Wvgaws2w6N//Bfwi4//NWyavx4uPmOtUaZmJTovPXkWbqkpEJAUOpYeVOjmLLr4jn3qIFdFgSVzp6gWBXMAagOW+2mzTEBvS1uya/WHHslSBKSvSfnS479shxPfnwu//858+P2/z4Xjv2in3ndOmVE1V96XcTEWZVcrU98ToS6lleSPuiOA4bWnDgrwPZzIzY7PGQgghyAOmZ+dC4e6boPDnbdA9t8uhMwrMoChykV/GRzeigR3Y95fz7AzWlDlpd+va7+7eK4BoPt0IaDXCEBnGVFkiLcJIJ+JvVWRJUvmeBfMFWB6hQDvuyv3wt+EHoK/rnwYPog94dD6kmVfa1xkz2ymwk5w5E+uGOH2z7VMWAF/0d4JP17zRfjFP94NH7rxXqibMFL5TS/P8z3UKfC95Iwu2DxnCzxx15/AUx/+AvzfJavh/e/aRmzz6YrZ73Ukzk3WXJdjnG2i7XqnaoEFl9qblK/8NDWyN2KUMEeZn0v6FoW8YA79tFk6oBMRDmfHaYY8SqNRmKXLknuMsuX0GyJLfzIBJ/6nnfbQc5Isl5+s1laGDLVVidRoAja6vvzgyPen34rC0E/mQ/a/z4F+9GDPeWyevde+F3ugT3z+e4vh8Nduhd6/ug3SW6+CYz+ZA8NPxUifHUG9aFGXUsA8Lcv3pnVsQsuuY5Zs2z2ou1OJCwDdx4tL7lxqjhIzeztch6NjoS1kKCLn0VfS+NRFoc1we8Ve+Mj4A9QbbhPgNlaz3jzqhn10vE4sYU9zKA/Xib20oRNWXdsFK963BS6LrqPP1NoADrNSBGhk609TmT+D57zqLvjSpB3w75fcDz+67Kuwp2Mj3FK9g4RrsJzPnuTlHIszGOmq/dFAI4KdVOrHHv5UrbePQcVUTQgGuQII9HL8zOqb7ua8hnhQuJCvfADoflsWQFd9Y+yTD/02AcOPJ2DwBemyxmQ2Uok7FIOhZ6VYDAqbyJ72WAm3cIk5Su5rmK0bo2AjWNwRkVEnIPNSh3I5a3M8Hme69p9jQDP8y7mQ2XIVpFZeB4M7lsKJ/5gLJ36RoPvH3r6cjY9CXt30ku6XqwZtRh+dhHcOKw39o+YkAsnNKqBPMtCPgoVqAOg+XUyKk+zsVTBDgMB1FTvgI+MehNvG7yFCWjNloyxIsprmqy8gNvo6i7NZOYEt388wsEBGNrYDYkritVljZcuxrNVw/Zlb4NaqvSII2UYBgG72gozwxeLeriUjle0kHzuFdePDKwlE76zfAv+4YDX8w9x18LdNO+Gy0AN0zogiCzZym6AEQqA9YKlXVQisjuBIGV7bVZU7aPxtCerCq1FBBHRdqrWZwHwN6djze6aS/7w7pTz3OwB0v60RY2vZKIHf0JPtBF7Hfj6biGkGu5pc1iIyW1dl51GRVR2M5O7jin9L9kelX/ubEtwkkcsGXll5nam3E2Z53ELIk2NfNPfePzKjxfG87HOzIbt3KQxuvQyOf3Mx/P57c+H3P5gNxx6XhD0mkOV1NislG0+xHoAMrHBLMRjJmrdo16ckmKeUYQ4r5pVbXCcAdJ8uix+6stFcKMDgepIX3Uaz1JNt888sG9ocLn5cLSeoVa8saKQyU2mmoygKKp2hbjtmrnWqP92k5rNRQhaFXfB9OGON1qrcw24VX18vApcPicDl3RV74Fzx3mmq9I4bA4Lb6zbB38/thi1tm+GOsBS3mScAPUpg2UWjXVPDXa6Z5W6y83qlFDeXRGl2wE3j95Gn+m1i41hfIrSO7m2qKqsz+x2/xooFVhs6QlJBbpr2nvJVUQJA99vKJf2aejsGg79th8Fn25Vm+0iwNHvjZQB0zZTF0I3PA0TYEkDPdip9Y1/9sHIc02e0lcIcE9lGaKkj4CPZ7m0JjJLZrdnDCjAlQN+3FIb//kI48Z9z4Pc/7JCA/uuEAnRV6h6FDN0Q9zmi3OUOSnIiBigocauDtiy1S2U+BHo57mf+rJygHgC6T5cd0GtUX7qFQLFbzXNbAYF7zU3GbHZ5wJydvxrC+f3VMcCYrdzVyIxFfD2dAF0CoiTQrSOluYtEhrsY7UtD8j1MZouH14rsfCd5lV9duYvAGgl3DYYoTDfcecYO6JqxDb4weTOcW7UR2sUx8DhyhK6HQBPPPUuVt+tKyIR1uVysHuBkASrLfaTiAHx8/INw17iH4D0Vu6jFMU3TCOCZdw5i8PrwOrEsz+X4Ro+z+AGgn17LEdCVCxeWrJP9yhfdKQMdjBQ1l+24eXY8o4+GRY1rGQF2KG4jgg4k61GW3qvK30YVQRHGkqa5i105jgHTBD/t50gIFPc+9OvZMPzP58HwjxbA8cficOJnCTjxk3YYflqO05k66CXMvOfKztNyfh3BHGf9WZXPsKw9mjBH4RTTHZ8BCtikjihVOpdyrgGgvwOW3ZzFrijGIOM0/zyJSFhdJWenOqDrPuS5yFk8DoZZNOuZs+gMlsJjqi+O+u/nVG4xyuTNWkY7S4AiysyiX/k5VMpeRz9ngtgi8fmPCrBfHtoJ88IyK0aN+Fk0fraWqgId4viYsWOVgI9fKnCa8+tr4NbQDvhK9QH426qH4LMC0K+v3EbnYLc7tmAlERvVQ8dgJqKmARjMGwoy1wNAP53XSEBngLb1cHOBVTZanj4tz6pbxE5iZvbr0FsmUlxSycUe1Rjngxp5jue/Hcri1JNOau5s2s/x2CkBnsd/2gHHHu2AoWdiMPxkVIB6DI49HiPJVCr1J23XWS5QV88C5+6zr8VJnhVfU0fUTH4fByFRc24+yXoBmhSvXRynDNcXALpP14gM3UM/mLP0cpLiWGa1QQOiiXney6DFlQXMXhnMEXDbxUa9c5ZH5WABPdQxk8XeeUJ5lXOG3VzdScp1t47fC+eTfauUvp2pTEwwgOigz26kYGGBqhTEVJ+ewdNpTM4tqDeLY9xRtRVWnLkfvjJhP9xeuUMEL2ssgjD1mn0tAjoGMyR/G+6m6+SSO7PgywPqAaD7bY0QlmG3NU+97jKVc9V8tZFd64YmuY6va5+zSI1NZCWnelrWavtq758jaB9/VCriIaAOPRuF4afEfiZKZEAjQ7box5fhWWjCODiDn31ZthYyRMJT+vZGFSOimdpobHc9UElrUrhlaI8EgO7T5aQU5ymbDK8sO9ubxU50cMx3DTzShdkrqbuJrB2lYuMCqNsUG56zb644YNkee+YtqqWgVxkmVa8iQtpiAdSzlLIbOcYp9TwEcyTlLQ5thSWhbaQ7j37nKHwzXTHPJ6vrR1KalyCJAyt8rueG1whQ3wbvqdoEc9S0gVE10Z65rhTH10rjh+Ja27RsPQD0d+bKpRTnvf9d5nKzsmg1pGfdAqUeEOiOaxmHkrM+9+5AlkPQHnwxbsjRYlmfZtBZux5L+Uldc95mQ8qcAK/PRt2DVKuToI7nln3+qFHNMJj1NmEYBu4Btp1lclzGVn0JAP2dtUoB9HqbqEm5QJ3AWYFiIUBnUMfyO46UIZhHVGl8huo3k1GLsl61S6XWORybS/e6jSgHGVhux/MggF9cuR0uV37n2IOPh9YZ42S6Fn4hIRknoRvmE6BiXgsL2eSoVujmMQz4TcqHXhLoumRgUb3SUdc9APTTe5UM6KXKrObYxKQ/EteIXS4A3Si123rHXnXdtf419aIVh4B67lzSHkhY5sCN7Nhe4nZhKGN5j97/Z8KhIiAavIIcx7AovLFRjWEpW74+egDoPl3FADoruyFYTlel7HJalUpfcJPMVYh0h0p1aEt6VeVOYqvPUtfE/WM7oFrIdznAliVU7SCPgQKW888VgH6ByM4voex8C5Xtp6vgYYqmJZ8L0I3Zb9XmsLca6tS9s3JbXYES/kSH6+fApTFH4BIA+jtjlQToSqNcd00rG9Mbj52MGcSugkCkQJiyUb4ep+zb7WYQTWk9/EFNU91uiZrS9d2Zre8iiOAgRLUNpKta3LgPQ/tdz8qzOe5pBGlRBQuZ8gZcAaD7dBUD6LXKvAV70EhAYzvQcpbdzUy10PtWwFxxDVeT7/geAtfpmm94oczYiwsb9qmnKmcy7p/PCndTQKFrqdeFV1okWe0ldx794xG9WgXkMkDqpoyaZ8x1UK8Pe5t714Vqgjn0d+4qGtAVmCeVJWhfMZrpLkDVLRAxY72QsYjn6sMIkFTkPUf99CICB53Al8SZecmep30ooch+EUMRj0fxvKnAlaDQFwD66bPcArquJoaggsQwzIbnVm0wzE/KLTDjFmg7xLVcpDJlnJtvyuGbXmobADXeJ6ueOxLg5lVtzGlMYzdUcQL0yaqUTnatyM4PrRPZ/0bqxXP/n81lGmzs/5PxrANA9+fyDOhs5qFmuJGohWInfaMhrMJZpov3EcCqPna5hVRyXVd/ORj+WssCCW84Wz/8tNhPxUk7f/AlnJOP07OmaoGh2z7GkrMBoPt/uQF0LrFLdvVqyiKxj3xZ5Q4a/WosY7nda2kerwkz5nY1Dz6lDKNjObNdzcmshcrvawhoiwlCGkhAZjUR85YIAL80JMfrFtLs/ANwYeU28e9bRcC0kVTj6lXroE4pyY2V3K4ZnKxU7Y/7A0D32fIE6Mq9TI6WSaIWMsHTb5VJXCZf+bggKEbMKsGYydC2uWoFuCu7yxG1od/F4Pj/JuD49+fDie/Pg+P/NZcc7tJvJczy/1jeo8O1ojNfAOg+XG4BvZEySlNiFAEdgQelYYsBtXJk5ggwU7URLeq5uyzVlyNjd2Oh6nzt5ufPE4HIJ0LSivaq0APEnL8UpV4rdsHllTsJ1KcrWVsOYPB3UD9Gz1xXsJNciRUBoPtsuQZ0Hg8zysNxUivLvhqnOfDRkD11/173pflRAfVC11bgurCknjoSI/Y8BkjHnojDiX87G0584xw48a1FBOo4E2+Zxz8ZgK6ec28yEgC6H5cbQOd5bxSRQT/y+SKjXFy5meRX0dykvmyEq5FZYa6SNRPIWtSMuF769tIbLzWoqNUY5k7X63Qt+qjdYvH8Pl61C/44vA9uqNxFRDuUql1qsOc3UY9e/z1MU4p2YwHmUlu+0xjzmxJeFQC6z5YnQGcyGKqrUa83QWNcBd3WxgJoihkPK9O5icyWiZjCMnpWbvjD574+nHlna1hUgxt6TmTpP50NJ76zQOyFMPyr2SR1a56T73kMgxZVAcH/A4cHAkD35SoE6NzvRTIYjoNhn/rG8XvgjnH74TJyW+spm1KcvqnHXLXaEbg4a2QWN/e1x7rsrwMsi7jUK4Z6jUaQcyKx8az5JJKxXQPnhzYTkKNqHe6FpBsvy+1cXq9Rs/Zt5PZWfp6AfeOoHwZxppjOBmgNdwWA7rPlCtDZIzwpZ6Gzr8fh2G/i5IWefSlBEqknFdBPVsaKW817s3EKSeWmYtoImQuWObPnk1J9DoMkBPXhJxIw/HRCaulnrXPyY8IT4IBFqfcRo78vAYf7ogGg+3HlA3QGTgRLYrVXrSf3rw+MPwCfHPcQ3FyxCxLiD325y9t6ablRA64aLQvmDB5BlLzBq1aXcTTL3aaSvxKbaVOz78xSn6Spszll6Aj6yJpHwJysdNjnkLKdnBxoU+Yq+ucbSWN+LYE9PvfG6tHN0huN69pIEre4A0D333IF6Co7I53wXmmpevxnCfj9f8wRoNMuQL6M42olZeljD+pULj8sBWdIdOaQ1IZHiVaaX9fFbQpdHwYH/Uqr/bAUssG+OqnB6dk5M+xHy7LVdk2G1KzSjw8A3aerEKBTlqlmsOeLP+yXCkC/vmI3fHDcg3BTxR6YJ0C+3IBexyV+AsbVBpBzH7dJGawwIW6Wsk8djUpBvqBDKs6ZHuUoOhPRwH1qjjn0mmqTzIeAOUWx57Gkzdk+C+LYs3MEfBSxQWEbtK9tGEVQb1BsfpxmwPMhsE8NdwaA7rPlOkMflH/YsSw89LzUMz/x4w449hiah4xh+dchuy1U0h7NqgCPy+GIGRLXMm9J5n/mIBupSBW5nDP6FlEZ1rPnHTXn0PXfRSaaW852FAIlZN9jIEeudH3xoOTu1+WWFIcOYPNEBnmJAPRrBaC/X2TpV1fugFi4p6ylbl3JjeVTWdMdM1QWbcHdpkrBmBU3jYIve75SO4u8sN1ps7JSRR31GeE1BlGPAZ2DIy7DY0UBx9TaNG91DlYoc1fBgM4wx+OhmxoTElHUpl2cZ7QIgPg7R1c7PBeq4s2p2hD00H24vLDcEVyQ0T70XBSOPSEA/aftMPxbzNpOEqCrUrWjrOsYVQX6MyavgJXlEPwwuyZAP8yA7mQw01agFG/rxTOrPqtr3ecwryljhp7sVx7sKIErvj4ckOL8udzOobMDGLKul1XugusqdsEC8Qd+NMq+3B9vUCCHJWkESwTwODmdraXMkXq6SuN8rLLzWlUZYIEX/VpZmY4DD76uGpXtNquRv+lKnCZOgN5jBC0N2udZqMYkpq2iZ5BQpjBLKrdStWSeyNLLraXPgdUU5WaH2TmOJ0bEtTYGLHffLW9jaxEqr+Os9DE1K40AbykJj3JGbCiwZZmMVl6vb+/XElVe5DFTWU7tAbaetbjXab7vbtn5hkpc1Hi1mNeM4vOncTr0jO+VHAG8n95kWwDoflxelOIQ1GeKDHROaL0UcBmlci9LojJYIqAj8F0qgOU6Yn8/IH3QxXVg1lo3RmCOmTL2lVnFjcA6vNKiOue02Q1tFgUk0tq1Q7nBzWKPdk3aVVd3q9WqFXjeiDKHwc9iUNOi5u7rcljNGlUPxcj3ErjIIGotXSN+3USqd8Ecut9WMcIyyLim7PMIgvkYAinLrmpGKHaP8zEDc4teu2ZNyjuXlrsBzPrnIoXvO6O5uakgwjy++4pGzvfqRjVaBQJ5AKmjcUPPHs8XCMv4dHmVfpUZ6irDutMNOJcCoFx+bxfA8unqXfCVM/fDp8Noa7qVwFHvM49KYFFtmrNIAl439cxxXK4hn7WrBvQMytNUZo7e61g2R3JbG1UYVltG3vSAhsv6+rlnkulMl2HYUh/ObTOL/zYdjWvEs8IKi1Pww9dYq90rnRdn5atXGS518hoDpTi/raKkX6l3HLEyr8cISJN9Uh41eUQ3HBkrIRlNy90i+2oHwlbT4c1+fZYqQ9RdQKJ7xRs2rd4Cmf5sRJH0cjyvwYglMDH699modRxvKFCK8+2yA3opM9wTbV8X8jMvDOgrDF30mACjT4V3wVfPOCAAfQ/NZ8+iEnBpVQLOXuurrRakCGSsBjctLDNyNKJBQG1VpDcsoecD9BrjPmRgMkWV3LFlgPKus5VPO2f79vvmrJuV5fCzGMSwtztn8rXVuS1sm8S+fWIP/GndNrguvJXA3cnIpd7WMsidzQeA7rdVFvvUMQX0uCRnHXVp2uIRsK1964hhmEJlbYsxS1xpqucgu1nG1Zz14C2Zfc6s2Zrd47np3lMeCHHi+lK9URoxxHl3x0DMuDfZJiDb2hyytgGg+3SFBKAvPuv+9DU1q+DyM7phaXUPtIe7qTfuFogZFOtsIDZJ8wNnZTRWc/NiioLvR3BdJjLaWyt3wGWhLZTZNqu572ICBpyxRiBtF+B4VdUmuFIcewFpqGOPvofGwhaKoAElWHH2fq7q12N2HBWgintqHhMYe2DEo3gYFESUR3tLuMtwhdNH7nQCHX+P98kjZDjW1mwLAnLtyeI9d0/cBF+r3QPvq9pFgZH9+XOwMUMEDDNVeb0uAPTTZjGgHz4aTfejVSjOUvciWEXHZizKI6CjHziyriWQloHZrnTpB5JR2jxiRjrtKQlsOIJG3uzsqpaStq7SnzxWoIxdKBuO5L02O6BLxrmylXXtEd8K6TejMPy0HK1DIRsrc16W9OleD4n3vCrNYch73eF4AaD7dNVULlv6ldn3pf/P+athe/tm6GzaCR8I74A5AjTcZr9cUp6k2NosrKL3hcmARFmKNhQBwtK+tFNky6upp96oytBO9qiFKg1M+EJgvVoA9p9VPkj7BpRardwK54t9dcVOeE/FHnh3xV64Qbzi/H2bmjNHMhv2sGeKr73cBzmqKanaSRr7nQE8X5sD34+ZeRz5C2LPdKkjP0m8Z1loK3xg/D64QgRDWB3QSYQT6T2dFMTgOBxunIefklO4JgB0vy0C9HsnLj3y2OJ0+v9cBkP/dAEc+94iGHymXfbIy8mg1glhJR3D9A4vCdRVrxtBkljchyRbXbLW5ZgWz5fjxlI/E96QzZ7uTVDg4znoMdTjPOrVZ5S4zxE5E04Bhpvfz6BUokNBIBKpSdkqGxQoiHt8JQHHfj4Hjv/nXDj2aAd9JsjQT6PVFF629KGb/jT90ufuhv+97UvwyJxN8Ndn7YNrBYAhAc4NYLH9p7QX7aIscDaOWOE8tQDOJsX6ZiD2ykjXCWa6Pekk5fWtgyH3gJkpngvs2dscjVE+IUD7D8cfEPcs/dQvFiD/wfH74c5xD8Jt4vUWsa8RAB9RVQHM4ueL7D3iYWSM9fDxvHpQo3ui53rWzKzHHnpUBBMI6Mzun1jgnFgFuEDc0zUVu4itjp/Da6hXhEZ8Pm3i94UyvleK+8f3YfCC/XbnICMAdL8tAvSvT1z65n9enX7zix+Eo1+/GYb2XAzHfzgPsi/FKWv1DpQ8R91m2H6OkEQtV4Dgduwrz+cx20fwQsA2AL0vDtnXxH45Jl9fk2Nb7HiGPXwa4+obI1EdBnRN5IU80zOFfz/kjHc0pubiEyOFbsTvKP1GHIZ/Mg+GHrkIsrtEYPetCyH98mxHBn0A6D5dDaFlS7de/uX0o7f/Jfxg2f2wM7Id/rL6ANxcsZtsSd0AFgMtAhaSr24W4PfxcfvhowIIb6hAPfKNlN3Weyjj62CGIIrZ8HRVosaZb8x0WUlOBx4MLpoVWPNImL3EzP19BMQWseeJY10grnE+sc67KSC5UoDazeP3wnJxD+8TYP9uAXTtRCxbC+eILBYNVM4W73fDsNdn61lBzmxNrDCZ7TmU7mq0efdpXBane1+V8zN8Xrz/hLjus1UAwjK5HFTh9S8U9/5u8fv+8PgH4TPjH4JPV+6HpeL9ziOJAaD7bXGG/vaPL00fWXEzpNZeC8ceOR9OiCxt6Jm4dxU45RyWOiJH2tKHYgQmJRHY2I2sH8viJkGsz8L0th2XmeGFyGNsB5uR5Xwq5StxF8xmUVs9+6q0NUWxGJR5xWwWS9JopIK96TF1d1OtAMn0d9lHZ7W3flVGtxH58N6zvz4bUjuWwZt/+UF49u7PwnN//hk4+rMrqZ8eAPppss6suHrpZyf3pNfN3A6rp+wRYP4gfEwA2JUCiON5AN0JmBEczhNAcFfFfvjLiofhi+Mfgc9XPAjLBVgsrDLBzwuo1yvv9Qsqt1KmiUInETWLzg5rupqaTh7DsbapGujrWT4DJAIcidWgMIwSc5khvsZMHYVbLhPZ+hVio9Y6St9iORpL8uiGdo4AQnY9K1TiZya6fbxMZ7Q7PWs2f6kLW5Xy6tUcfCFAZ5W/aTn64uT4Ju4NA5fPjX8Y7nvXg7Bu8m746JlbRGDUGQD6abDwj/JX7z1r6cBTc7PD314Mx7+zCE78YC5ZeKIXdzEZKGb1mL1mX4mTGxuCoiz1FpnNUoYpABSP90pUtgKSElzl+JadZc7OcHHaOVXa9BaAmmvnYyGgk1BMr3STw0199H6ZHWdeR8U8HN/TAL3cFYgc11mQTJejxE/Z9giCXiv9XjI/OxeOrrgJfvvhz8O3z18N+y9dC89++27o728PAP10WVXjr156UdW69G2Vu+H2ir1wS8Ueyk7nCwBuycHi5jGnGgfwOVuA3t2Ve+H+Mx+ENc37oGfyXvjChH1wiQD6YgAdgQwzSwRXFLS5XGTGOLK2QBwP57AbNUBlsxPyRxdgzoDepOa8WeENwXCWyMoXi2tdIu4Tg4MZKuudQkS5dQToSITDqkCzAsSIErNBopwE9E2W0nk+QM/lxpYvGOB74kCABWxY1KbGA7lwYp7ni3yJGyp2wh9X74eds7bDN+esgz+fLO69OgD002ERoN/3rsv634xmh34bh+EnxX4mThkpgtgIApWLjVkuAvrgizHy90apWAR16jcXA2gK0IdeFNf22xgdF4+fUn3kEVkqAbISXskD6Ahw2D+XJDs1hsajWqq0TX3qTNRgu0uSXIKydgL0t8YC0CM55tfLcC4iGorn+cx86N93HTzxqT+CnsQ6+GTHJvjpN++B/qMdI55dAOg+XeKP89Km6hXpSHgNaYNjVo4gVp8HfOpVL7jJRm5DgJklPvux6gdg24yd8P2LV8C/LOqC+6ZvgkXVxZm41KoME6/rMhFovFcEHbgvE8CO6mUItnp2joAeUz1uzKbZalSfCUfCFzLlPxfeC5+v2kvZ9yzlYIbHi6mxspkaI7xROc5h+RqDiqsrdtP5uexdbvlby0x6tSmyw5l+uWbvqf0gjtUh7n951XZYKbLz/bPXw0cbNlI7YuR9BYDut0Uld/HH+XCyNYuAS1lon8ym+130nx1LvtkIlaKHnonB8V/F4fhjMcrWc7Gm3QAaEdEOiyDhhRgMPx0lNzIiqh1xUEpjq9dkIreOOo7AHY1R2VxWIuLmXLlFK13vNauxMXHOQRGoDD8jAP2gCgLGquQ+GMn93EsC9QikX5gHBx9eDt+5+Suw9r1fgxe/u5zu1R44BIDu08Vz6DweVle9Mi9YkEmIyGTbQ+vgHJHhxkkUxfw5AtyyCWth7cwt8IOlX4PvXXA/3NvWAx3Va4qSKOV+N5bRkYF+XcUeAej7REa5l1jbreLfeRabmfSYWSMBDBnbM2xiKgiGSAK7vXIn/N0Z++HvztwP7w7tIKBuUCN1k4iAJjNzPjabxWBfHgF9mcjQEdCbihyb87r1XnttmQMIbpfMJVDfCXfWbIdzRQA22VG0JwB0vy0GdPFHOmslrxXKmqOyn9zvnMUPJCMCfKNw/FEE9DhkXi9BIlazbyVr0edl1o9VBBqvStuOq3rGONqFJfI++3jXoKwiZN7E4AAlbGMG4W0Egc/GBkeQxywd723oWQnoIwxURh3YR+e4/WkB7C+dA4f23QKv774Vkk+fK7Xobb+3ANB9urwoxXEWjEC3SIDmJyv3wIcFGEY0z25SJqteBddP7IIvTV8LfzptHVw7cR1l/TxvXczIGgLq2aGNcFXFTrh5/D748LgH4UPj98OFAlRZ/hSPj7PU1OOulGxtzLZHAnqPyMo3wS2hB+C2kAAv8fVMDfj1OfCJ2n1LbXk0LFkL86uQab5mzGRn9cx9tAKIBqqwrEaLVPodT1K9+gDQ/b0sgO4RYBHMMcPNvB51mG1uJQJb+qA0dMGyNmWWpWSRxEaX7QAq5YsMGYFdiqVYgRdNRNDG1GB123vsadkTRyBHUE7mEVKxZ8jEGj8SpSoEecGPtuOZ5fyjS8AjEZ3eOdD/1lxI9qKNa0IS47TzBoDu0+UV0OsVsEXFH/0PCTD/aOVeAsSpNvvSegUOM7Vxtfo8I2v5gIrPi0YhaEhyo8jOP/UHD8NnxH43jZOtMdoAMa00fz0x9ddZ5rXZQ30WCbz00J6JIi9VXXmvTRd60dXZRkt21qn1MFYGNNy7b3Qs7weA7rdVNKCr0TQE8+zLcZJklaQrWyZpzFyXKAKjgggsjWOWjn304SejtJGgZhDuBmUWTXPibyfIVMTIvO1ZvCbhauikeyGa6SYrYwDm1AZJjlEAoXrrNBqXjFtEhgJA9+nyAujGzLQCl/nhHmKAI4AuEZlyq5Ikras2Hcd0EZl8mSUTvuo0Njp/hvvHyD5fILL0Kyt3UHZ+1zicHX+ARs2InS5eUd0NQf86AebLBNgjwU2f12bmN9uVNisPcgR0t6pzeP8tE1bBlS2dsLimm8Rb7GNx5XJAY+EXDJgmhTs9BxDFZvSGvvuIikoA6H5bRQG6LQtH8lwa9dWPalrhFsBzC5KtziV/7XhyJE6S7Aax9M5l71TUkFtFIptkqCekQ1gqR+ZttyP1AugMeqgulyxzT9vhuaQOR6htQdMC5Za8zXleDnqsJjABoPt0eTVnsQLbCpgb7obbwjvg5oo91FNGhvlUBZDNCiTdgEeTUkJjb3MuzXMQwVkyzqPPF6COo1bnhJChvsYQrZmlBFLOIxb8RgLzaWp23QkIuZSPgD7V8C7PfY38OnPiarjj3T2w9wv3wsrLNsDSWnSes5br63KMoXl/xivpmURCa2m0zgs4F1KgK24HgO63VRKgK7BBQhWpqb2hCHWaK5hrNjaPVjmR0eznw5n0oxKsB/oYcEwXMswqaSd1A5cCwGXYsLoESlRX6+2AzBNnQ/Z3HUoxbnTK4TgnPvhSlHr9+IwN8p7rSkIplZHWgOV+uqx8gK6DqROYTxKZ+C31PbAxugX+omYfXBnaRhrnMxWoo3JcXXhlQcCqU2IwSyasg2tr1sOCCT3ERK+1fRaFaVj+FEfIuM/Ls+QYTKDWeWt4DV0bGqwUMoihc2uStPmy1YnqvpfMXAeP7P4beOWXN8Fjf30PfDGxDRIKbAtZmRaboU8JF36W9s/Vh0szxwkA/fRYpQN6GyQPx2D4sXYSopHz5nETlAuCaSupyUkDFDkWluzNMY7GWTGOjw0k6Dx9Gesol2GvmomCa4KfbnfqEtBJU/3RJZDZdzkM//siyCCLf7SsZJW5islFcFn1YNc3rzKzBXYA6D5d+QC9RitN685fTST20gP/n703AY/rLM+GP1sajbJYM9qsxZZsa/Xu2HGcPc4eGgghpEnYIRAohUJZArQESkIW29pG0mjfFy/ZyUICYUkplLZ87dcNui9f/7a0tJCWECsO0P96vvd+3vc5552jMzNnZuQkY857Xe8lWZo5c84Zee5nuZ/7Pl9lyZ9tHaFnf+kuurt1lPZHRxjQNxrjEa+LmLf8KyNprOx2+iG656xD9OQ199Khrf20/4z+lMwaz2sw+usC5tLfxbk1Gu/uTR4HNhuM0wJfeeb+foouvfp+b3yARt7aR3/y2U/R1285QB9pmqEtRiY3dhL66rlm2vqadJDUaGxWV67/HgJ6sa1AgO6X5Zm5bB79+rvN9D9fPYte+uvNxgUtDaC/tMnMU7vlWyaY/dg4iGF+/e920E+/eg699N0d9JP/Xl5aft6Mjjlg7vEgd2bJcwUwPz/wDEAJYD3xl9vp51/eQz//9g49lrd0sgBdS+hywBAkQLHfo+NmHj+fexIC+qm1sgF6tQH0tWZGu1kB156yJF1WOsm637c1jNHAeQfoxoYkk9YAqnAUw+OrLYlTO3sVMhl+D8DB3nx6L3Xv7qE/etOn6WvX3E231g+p47glezweBLatLM+aWFaWF7lXlM8rPZl2vMCs2RXS0WX0tmgf3RqbpP7NU3Rn4zzdHJmjdnVfVra0nf/G/W1S5wNlO7F5rTYBS+HZegjoxbZyAnTjTMaCLM/rfi5Y4i9+v5Ne/Jvt9MIPDYFqqcO/hC3z4aYk/7wBnOOO2Ug7vfgXO+mnRy+knz2+j5b+dXMqEBlVM9FbX5b9n7AtS08CsFrXwef6rx30s+910k//zriT5TuWly3IkPuYEx+hxXFm01aoAuqFn2MI6EW6spXcBQxFcOX1lcP0+c5R+nTDDN1QPkGbownafEYPtaqvzcZ6UxPjlkucCkNebFTFqATl+W0KfH41NkUPXTxIT116iN5XN8YKbjILjRI8+uLQJIeOe5UFULos3c3HWeszOy0s+VxK1n73Qr6iGnBhZIRuLp2nG0vm2cylKWB/289WdaUZ7NBgh0QuuAQd5h6K13nhoB4CerGtnEruAsAKJF762y3007/tdAhpXDK32eJ+ZV4BdJNhs3yrsSHlr2q/9Peb6edf2U0/f+psevGfNhthmFYnmEAmzyIwfhrtNvidLDB3wNLVc4eLGVcYCiHG+fSqU2xWndZC6/Ln+RwPGf3xH+pZfYjDpPAaCrw/IaAX6QpCihNxlw6V7d2xZZD+z5s/RU9f1EW/WjNE9ewrroVYuMQeTT/6VWVJlwIUWW/d6LLvUGB9bWSKPrZmgW6PLdK1ZRMcQOBxIiyzjUlwuqTuVaiTKoIfMEp1YCVAExl6nQlu9hoCHiRm68zMdqaSu5T3beY/+vzIptdHe1YM1HEeqGbs4vn6Xmf8TO59COi/WCsnQBfd7/+7hX7+xbPpf57dwWNrgXvQIslqQB0gCK33pe9vVuCjWeknTNb7s++qYOHftV67lNBFelXPRfv3118WoxTwBtR5wKwFpXYQAnFeeQPlS5tSdOSXZ+h25SG14pGWPGiCnyVzbs/L6OAKyMaGgF6kKyigx1kn/RDd1tlF37z5N+jonkF695oRlZFrlvh6zo4z92rtjB+M9HPZ1nOa2fGQagVAwsL0epi5RIYYxEWMppad0Xp8ldnskrgN8mJespKCLOL9jvNH+R+a8c2mxVCTjYAnfW0D3pLtd0JxTwU3dVnsUHMBdARYzeY9kf5/lamMFBY4hIBebCtnUhzATIHvT7+uAP33ttLSv7U77mfZnc02GSa6zubhxPazP1PBwW+fRT/9m82c6QIkMVcOrXTdV293S83muS+bkEvaSoVWrYMd6Uv/bFTmHInZID34VPB+PoXdn4MVbCZAf6nV+LqnuYcFZOkhoBfpCgro4gi2M95Ft7b209srJ2l/2QhngDKiVhMw+6swZeE9CsiuLJ1UWe4oZ5PI0iHbup1BstfXJS0Tuc0eGauySvs2oU/64PkAp8iv4rgbDNtexuzk9TIBOs+vKwDn0T7jfqb91Qd4Z/M3D9oa8Fq12lyDwsVwQkAvtpUPy52tRf9jM/fOWev7xXb/DDJtadn045daaemfttLPfm8X/ezPO7U++/e1VroGouWSrSeV7BboeGZu/bgGdC5p/3e762QW5HXE2lXIgTag5wq0L6W/bidQSOEhFH4/QkAv0hV0Dl2y4CoGs152O8M8eKuxMU03c15Rnl6ytM4YqWxRwLjZjKIBKG1DlZwA12T/NcakpUUdBxK17Sx44zqWxfOYEbeFVoTM12SdZ6zcJf1VZDg/AO2GaB8T1tqiCR6vc+xNC9Rot9+jWjPq5rDcraAmLLn/Yq18leKY4f5jbSeqmeVZ/M7TAA+sVgHiUH478f+10/H/1H7jWWVYgwC5MPF/3G75gOdYlrcfLxnxixrQIS17/IcduTvSib3r8Y5UIZ4TOR4nG9BL4LBUgBd9COinzspZKY6lU7u47w0QbleZJVjt6WbOxeykzmKl2xlrvWGnNxuBGMkqMwFuOgMZAfR6M952Wek4vWX1IluDAtSFGJaP6IsN6FK69mbjdtAianpeAMXrArx3R0boQnV+u9T9q7cy6VgBxL01JgOvMQp4aAsgWMLkgaj2Fe7UFgJ6sa2859BZGlSXmlPmztOUf90MPvX3IG8hMGA71B92OAz2ggHdEPi4LP6Pbdoc5ngaYlm2jFwA13Jh43I2z8Jn039Pf354PmvNHxdQXyEwN+ctYM4BkiPfWjioh4BepCtXpThRddvAOugDDBaNXG5frsaGxwJI2gzxrd4w0O3y+FpHIa6PyWa1ZtytIu1rH2Lt9uY0JDKAPUraKOPftHqefvV/HaPbVh2hCyLDDqjlkwnb/X8RbPEjAIod6ebyXtpR3q+y8V4H+IUUh3bCBZExelPZLL09OkXnlCWZGCc+54Vk0DIOiB76dnVc+MijmtLC9rDdgdsiIaCfOqsgQF+yPMfTjYuxsls7K8gxWL9ogZcpC+PnkI5lQBcP8uMZSGZONtuS/tzEbvWf4KYGZzSwvQvIVF9qXQboGee7OQtvXSabmgLoHMh0cjDDnuwrKQBjZFuZjQ9Z3h93WqN+Icv9F3IF7aHb1qpVxhscoA4gRjZY6QMUeCzm1veabBQWpULKkmxURGFwHCkPpwMdZPnbVMZ5gToWAHs9u7wtf00w519bMkPvXXWUfv1/3U8fXnWM3qj+vcW8fj6SrHY5uyoN8Iqq21nRfvpMS5LubBmla8vGuUUhDPOGqC7Vn1s2RB85c5Y+Vz1Dr49MskxtkyGxFSpMI4HSZnUfcN9BNkQ1Bfe3MgtpMQT0U28VBOgCcJlkU1nvXNucgsHO5W9hdJtsWQvUdDDLnefRnzfgkw4ol9pMZSCdRrsp5f9bB/3sr9vp599to59/r129vlFaywvQW6wStgXm1nW4pXl9TUzug3HNf1lOc9ZsOYvT/EsH/fQfRWGvfcVmxaXkjvuAYx//LxMovRjAUS4E9FNz+QG6mJcgm4yVu4px9liWbWpS40PmkiCgyRimXGQyxUajHmdn6lKWl+y8stwfLDF/DuIcjnVp6RTPpQPk/QD9dQrA36cA/UMK0H9NAfpNqxc4CEAmnA/LW+boa63xND8gRWZ85elDdGRPHz20p58+uGaKgVWuba1h6+9Q2fMbyifptoppuiQyzkx3FoHxcX2THn2uOu616v3Dvehk9b4+R97W7ziVJrPPHkyEgF5sK39A35Q6H502m251GOE8ovafHW7WavW0OTj4CcbU2jWwpeknixgNytW6f++fIQPIwJpnQP+eAvS/0FavbNaSr2raCTfrTcl2U8RfxFpWvfZfdNL//EmndoPzmtZYM/0v/nunZvSntC5WqvTewveUde0dFT3/94oFg45nb0mEgF6kyw/Qa8zM+UUqi7z6tEG67LQE7VAgVGXJsArxrCZDebzGzI9DDhYjXgCWdDalMQ/I+/0eAQRmvuF3fv3qec7C243kqt2jhusbStowjHnr6kV6kwLzy1UQAD/1dmPYkquPeZWlaueVwpXzjhtAv+S0JPW2D9NQxyi9ew3m6RNOjzxuSHsgA+6JjKjzHOevIMltMONv3uuJW2S+XEFdlP7qjIhPutHCKvN+xsttkxk3kKgIAb1oVyZAdzTWj7cy8Qv/XlaGzsSYljG1F3TJV/uTZ+iP2zarGXrPnCW/oLNOFpnxASB2ZfuRnhOHdzpIdwgm+PEvdKQNBJZlq7ZK3nHtx47rEOKeVryTwMYCdJV9v/QPCCj0nDqqFKKOlxLEGHEdqUpkHf3LE9TdSkKaOXRUNY63pd7PNIz4ENCLdPkBOoD7CgUyH4kuUl/NDPXVTtNHqkbowjNTQb0iC5gAuNAf3wQmfFSPd9XkQcqqsAAVWezZCpgB0tg7FUDHPI9tMH37PZFhzuTPi4yxIM36MlfvvTbAiJjd69dKeZozIGp4tuqdU1JXrwGwviw6SldFx2m3CooQQNQbfoBUH1BZQJCzS91n7C3q+3WeYMcu89eYCkau/f+4aZEArJtkGqH80LISu2ToXtta2S5ZLwT0YluZAB1ZLvqvJ77fzvv4c225y5sC3ADo7Kudw3hbRnBqc7JbLlX7nNPzEkjAF/0HupwvJW0h8mXMRB1jkzZndvv4cwgMdOsAx3MIfA45sF2Du9GUZ6OZ59w2wgs/9pjOGB4CVxt+Yve4T5YmvMdVzqksGGva4+3m/Dysfs99CgG9SFc6QH+tAsG71izQfNMkPbBjhJ6+/hD1XtxFl8S71Yd/9h6uZptrNjwyTynnZjJByVzqPsRZZqMBTMit7i+dpO0qs/WWkWsYvPq4jL2bAXOYAwGAWpVxYasxpf2M12HZtqJUjzE90ZIHh6DOsPLB8NeEvkMsvrPOBA6YLbdH8fAY3cbQBjcIEHbw+N8w97gBtqniOG7mvK5M8wzycV0TJT1b/Efuq7xe3KfkLuI8IaAX98oI6D9p4+wSpeqX/rGd58SXfpADqL+ky7hQVfuJJeFaMDHL8j3nzPbFNn/wMuVxACqzyZfaU8r8WV3IrKwWrwEhnJ9/V5fx0Z93SHzPG/na5yVocAl08vpL/6mV8Diz9wA6Z+nCmD+pvuqtqbK8J1rdaoUxveHzSJlbb132XoWAXqTLD9Djap+vwPCzlVN0tGWUnr3uIP3nyFvoT37jdrqjtZfWn3YwK3igzHxx6RhdpTLkcyFBygz33CVYba1zAR0BdciugvS1VX1vl/7j5hyaTIkewNpsWPR2BppLpot+NORUUc7HsTYYIxixXsXPdqrX2q8CiE4zmw8A3qECAJACJaixZ8Q3mKCjzWT9wh+wHeY4MFIBg1PpKEtlzccCms7EDKlRwNwrl6t5DN3Ly+4WoOvWQgjoxbYyltyXtGUnytUAsf//9zezJCusPINYkiIgwPOZxf18+8oBulVG1tlx+/Igw8rkGaSkh5zTyFpLSm8c1wMeAHri4v+OuXkJGFDSh/780l/tohd+uFmDOeRt/28n/ewvtLxtai+9ZblK3EtZzmcl7pvtdPe8aOO3GTne9G2MENCLfPkBOj7IWxXAfLpumJ7a00N/eP2n6V/uuJWefddn6H3rVJaYBtCFtd6iwOdiBbQ3rl6gd60+Qr92+iy96cwkNZQfMoS4/Bnc0hdGxoqe+DWlM/xaGGWLeQBMj9dpAG40ZfJ8R7aEvCcZM9jqDQ4rXwcP6NtjVO5s1lDvcwAdpf91ZmSvyhAAxeMcmX+Dybr9KhjCWF9vpgrWGwMaAdl4QEBPdz1Sxpf5/XVG+c4+vmwu90dDQC+2lZEUxwYfbZyZ/+wv2ul//qiTfvq3AIDsgM79ZqOkBuBD2fuF//bYna5Ab1iPxHW6Y1/pQN9h4+eqxJYqLKMZ9u0coIC9DlU7KaUf/1E7/fS72+inT+yjE3+/hTPyJQXiLylAh8UsxtT8etfB/c1XWKve8ZbvcEbxwBFY+s8Oy3d9ub78j46HgF6UK93YGsD3I2sH6Mm93fTNK+6kL15+D31mWy9tOb3Hl4EeN0x4ZME7FYhdVzJHb1l1hD606hjdu2aRbo9NUnt5d8FgLqCnwbqHQRSsd4ykeTN/AfU6yz4039f2Htd2cJPZb1QKLo2MsnNcsymz81ifAWy5T9WmhVBrSdOmk2atMC2EBlNyFxEemdnPJDUbCNQtw5w6A+hC/KuyiHwibRuP3hcCepGtjICuwOb4f7XST/++jX72V2300j+06+z8RHYyGduL/kBnsWCbo2y/9O/ty4l1hW4A9k+Mupxv6d0qna+UBKzNVF9qc1j5IA4e//dOevG7u+jFf+5k/sGSAXXJglfs9VcU1DULXoRuuD3wnLQArPtmeu4/eqElBPRiXOkAHcC7X4H3b9VM0n0NU/T2yhHaclqPLyBL1txgdMpRYr5BZefvWXWUPrDqfvpgyVG6KTJJ68sL0yq3x9vipnS/0XJhSzfuthKGJ5lIc/Y9q+Ys3JTVjQOdCMakBibpJXH9QFdIbejJoz/PVrUmmy7onlq67yDqNRo723ojQiOgLuS/ENCLb2UbW3t+qYXL5i/+oN2dIc/Sp+X+9guaOCagzuXp5wpUf0tXDZCy9cnqP7+U5XcevfnnX2zhjaDmBWGwr9Q42opLxBpAN6Q9ADreNyH9/fjFVGMXvLc/Oh4CelGuTMIy9Qqczi7voX1RBSQ+PuN+ZXD0hJExv0EB+jsUoL9LbYyPQVM911GxdIBu98urjHNbuyVverIAPNcs3hahiRcg6Soa8AhaRPN+Y4qoT/7HljG6WhMorbV2jQFx2+glFvbQi25lnUN/yYyvvZib8QiXoJ/TKmgs64r57+NtKwNCvufYunIZsOd68maeW/3x57Np3Qe+1taVm1N39O41z4AB/Xn3KzvImfN2RITU48MeepGubEpxQa1H40ZsBtkjmOWXlU7R1SXTdEnpOJPF1kf1uFQhZW8/xzVRZ+ORLEPqKlRpbSWz95WwbgXobjI9eojjtBqfeGTT9Uaop5DzlAzcnq0XNb9qa7qghs13QkAvtpW3sEzGDN1onZuMT/doT+I4VkrmusKvYYvG5BMM2OXqFSC0cYl/JUv3jntcu6vL/6I9V9/qjOEJcS8E9CJdpauvvHhN+d3P4YO6kA32c030wIm10YMnmqPdJzrL+ng3RbtO1KqfV0XvO1Gpdrz8voJeJ93GsavU61Sq41echOO/khtZcbO6j7vL+k/sVHu9+r6K76m6XrVX4r2LqfsXS/NzvE6tel/1e3f3c/ibeaX/bsMVfOFD+bfuPvPiHzy/4TmAesH7OHbLiR+90HriuZ+08cb3/LOVOP4rsXHux1/G52U43nM/UfcV93OFrw/H5OPKse33y/69+h5/K/ibCQG9yNaqVZvi+IBG1rWSO2L2Sh/3F3m/Ou7plRfjb+aV/rsNV27r8qtK4viARtYV7nBn2/hbwd/MK/13G65whStc4fJZyLbCHe6gO1zhCle4whWucIUrXOEKV7jCFa5whStc4QpXuMIVrnCFK1zhCle4whWucIUrXOEKV7jCFa5whStc4QpXuMIVrnCFK1zhCle4whWucP1ir9ZVW+OvKfnli68tuXl/uAPsUr1fG7lp/+uiapfdpH/2Sp9XHteQz3Pxt4K/mVf67zZcuS1XQOqq/Zn31dbO9tiV2Pq1ImqXma+ZX9vv9yt9vu45RdU+bfU1auvze/nuS+Hnv3zncoxQQKooFz6gD50x81z3mQtL6XaPz+4uYGc7Dn7et2Z+KRGbXUpWzfAeqJxd6quYX+pRP3eev2ZhKaF+1m8eN1Q9o54zz8/tj886z8Nx5Hl5n6855vDa6aWF9uGlx87rWfrKNfctPXPlgaXDW4eWBmtmCnqNk7FT3rM15j6pezTdPLY03TSm72mO54y/FfzNKIh4pf90w5XDsiSelzLt6uiBpbXRg0s1asei9y1le3yhO15+H7/e2WWJpfMiyaUdZf1L9Xhtz+Mq1Mb5VKnzwzlWWM/Hz+LqdxUrcD543Vr1+k1l3Uu71blcExleukXtm8qGl/aVDSw1Rg8tO7dX08Y9wL3ANWyIdvPG/aosz/X+hBLPRbmQdeGDuu/Mw5RpJ9Ycpn6zE1kem/VYZ2Y+Bl4jGVugocp5GquZo4m1szRSNU+DsUXnHPRjFmm4Sj9mpmGaFpsmaK5pkvdC8wTNq6+TdTM0Wj1PA+qxeZ+vei289ljtHB3eOE5f3ttFf/hLv0l/89Zfo+/d/FH68r4ummyYoYGKRX5sIfdmJXdijXuvcW64VxN1s/Rg+zA91DHE92YovpDTOSvwP6H+Zi4NAb24FmR7tUZ/ZodAmP5sYCe/wq15AxkPqdeEbe+5kSRdUTJJZ0eGaV2027FCxjlVGudCbUncTevVubE5kdowfYLLI0yZqtgNsDCjIpgR4dq3R4boqpJpetvqw/SRkqP0wZIjdE3pNLWqe6Nf55V3dEz3Hmor627qLBtgd0bcr7qcTZzuXQpNmIpwBQV0G0j7CwQtJzBIcxyAT1IBDQAbQJqM66/4uTwX/wZQj9dqwJ9WgH5k4xjd3zZCj23tp6d39dAXtg7QbOMUP2aociHv8+5fs8jPx+sc3TRGz+w9RN++9Lfo//zSp+j3r/gsPbmzj6bU6+OcGdRfBWCOc7bvF77HPcN1zKybokUV8EzXTzPIJ9YED3ZCQC/OlQ3QAWZVBsxgzdtc1mecC18eZ8Ja9dob1WsLONcY2+FKYx2MnwGUAFSwDcY5thnAwtcG4waIx+cbhMSNPfMGdfydKrC4qmSGbly9SG9ffYRuVl/3l06y0yEeU4gd8sm8j2LVzO8lbK/V+WID1ENA/wVY+QB6oWADcGGwqUiTnSsAT1oA7jwe3/O/BdDnGJRmG6c52xxWAD9cM0/HWkfpizt76bFtAzSnwAsZPI7ZX5F7lp4w4Aiw5kqAChAe3TJIX913gH7nos8zuCPjReYLsJTzfDUButw/2ThPBDlTyNArwwz9F2FlA3SAAABxnfrgB2ACWJHpFZKh+9kdZ8ssAZa1DOg64xZAh33vemORDBvmarWb1b87GND7+ffVBWboADy8Lq4dxzyvdIxeUzJL169eYHA/OzJCm1QggSpB5asQ0GPmfYwZG2Tcyw51vmdFhqhFfa0MAf3UX7mW3AstKQOIJ+tnGBjHVcbbb2WHXBo2mTc2QFgACCV3fB2uXHCAEyALIEdmfqxllKYVsKNMj+MiC51Ve3Jt/kAr5Wqco64U6PNAeX1x0zg92DnMwQNeV84Xj83nHiV87q28fiLP+263SRAESSCE4AOtA9wzVBZyCXRCQC/OlQnQJbMDgCILrlcbYFBotrsu2sOgCxD2A9qYBT547Ubz+PXRXq4U4N84DjbOCVk5Nr6vNAFIvcnaCz1fCSpwjGpzHzapwGZHJEn7IqO0R4F5uwJ5XFMtVy5efYAuARTeS7QxLlJA/s6yaXpPZI6uLB1X97UrBPRTfQUFdAGYgrLGCg3mXBpvGaHF5nEaqXZLvgmTTeJnyIYBxNy7Nn109LCRWXLGbfrpeCzKxw+1D/ExZxqmnMdgu7333LLzREqLQWf3kvXieHjdufWTOpBQoCivk18F4LCpWCw6QVN/RWrJPN9gKmGV3HE/p1QwgnN+fFs/Pbp5kO9dUv08BPRTe2UD9JgBgyoDlIWUrwXMUQpHBt1iytTeY8VMeThusnD07tsjA/x4lIkB3jWmSgCQRYaO3+FxAFz8rtqca7798wqzBdAlwIibIAPXAVA/t3SUOtW5Nah/V+VZuZD7XFHuAeCAVYwgx8d71lzWQ+dHhunWknn6rbKj9MnSo3Tz6nnqUIFSCOin+MoF0AsF83GVGQqYYx9V3yPDHrAyRIcQZ/rRAkTo9Y6YnjmDvfr9YIVVClfZOAB2bp0mwgmYy3GygaFNIOuvcHv2bnvAPUf8DiD+yJYkPX1WDx1tGePzyzlo4Ndy+9vcajDtBnzFueP6bP5ALqAuARKOg6z8/vYRenxHP4P549sS9HDHEB3eMM73NwT0U3sFIcXZIANgyK3n6oJiowLbdgPmHabHjWzbC7gVkqUb8ESmvV6BEbLzTQbQJRu3M3Icq8H02qsNmOfa02bwM68bN9daaYILeQz6+pvVuV9eOkmvL5mjc1Wm3pim2hA0+680lRDZNYbsh+vIF9jlPcO92abu27WlE/TukkW6veQYfS5yjD6y+hi9afUCbVH3M/jxQ0AvyvVyAfqQAjwQygAiD7QO07FNIwwm42vnUgBdQN0PuLiXHUsFOt4WIArwS4l+MCBJTTJiPH+qcZqm10+rc3ZfQ4ICbDxmccMEPbE9QV/a3U0Pdgzz9eVTwXDIaghMDMGPg5FqfR2j6vvhqlRQDwrkmgSnqx0osX9l30Hu+z+9u4ez8xDQf3FWUEAvdAMEOxQIblVZbacCcwA7su16BsJg2TKAjRnt6jl1Zd1OtUD68dIesME8KFDFDKgieEB/ebM6tzrTr6+2qhLYYNCj1C599IsVUIKBnw/oCpBLj17zFHo5MJGNqkOulQYhM+J+ob9/Yeko3bb6MH2y5Ch9XAH57avvpw+vcgE9zNBP8fVyATrKuuhpP9A2Qg+2DXOGvtA0waCVCzPc7QcvppDlBGwlIx2udLPzoMA6AkJdxwg9c04XfWlvNy1smnBA3X49VAkWFRA+ujlJX9gyoAKVUe6hBw0ell+PrjTguJNrZ2iidtZpGYybNsNwQB4A3wOM81XqoGbEjPUtNE3SY1sH6KldPfRIZ5LfA7wXqGoMxsMe+qm+Xi5AByiCJQ72+WaToSPbznUEToC9Ok053WZ0x3LIzvF4gPK5kWF6nQLqa9XepYKPeouEJwHDRnUdAPTLSqfpipJp7qXLSF0+GboQD9E60KOBfUzmA5gD3PHztTmMl9k9f9xfVDZ2RYboanW+N5XM0y0KxN+76gi9f9VRen3JDLWoACUE9FN8nUxAt/vDnC1WaRLbvAIRbHwvvfBElmP4bQFYbzbv9p+DAxVA8FjHKH3z0rvof1/9mzyW9sy+QzTZOONWAmLu6BfOHf1nZLgg+AE0AaLSrw8K7Ck9bgXqYO4LmGMjQ0ewIMS+TCX3fumT10/z/UVbAOeJf+M8H2of5uoIwH2qfob3aI05Z3Ns4Qt4g4eEIfuFgF6cK19ADwrCUj532PIKPDSJrc8ht+X6uvYxYz5ZeEUO5ye7Sp3HuQr03qLA7j0K6N6qAO86Beod6jwleJCvDdw66KezFPgD2BGgILvOlxQnQQiz9qMaxAXQ5WtNgJE4+zhcxTBERgD65rJBPte9KvjYq877Yg5Ixmh72QBXT0JAP8VXLiz3lJ1D9qm3mz0KWAEAs4FUOkC3s/RCx8Tw+gg2Hts5QL932WfpO1feQd+54g76nYs/TzPNU84cvMzF22NsQtazARiPyaXXbQcozKQ3LP9h0zZIGr5AtuscNEI7mL0HP+Fw8zgDufAWHmpDq2OUiYlJi7XP1QwzPSCvPWT17gdjmsOAscC+ivkQ0Itw5QLoMVPGzWUMLGbA1y6b1xmwyWf8ze7lS9Zc6Ew8jolM/PLScXrbqsP0LgXo71T7ltWLCvD6nV62kALxmjyXHu3lsa8mnpPvdcrj+ZAGBYxx/IaybudYa82oXpD2gRwDz5OgANk+KiEAdMzQb4sk+bxrZRJAPabSAvR0wZD78xDQi3JlA3QZm+o3I0/JHHu5eJ53fl16xkHZ53Yg4c3O8yGKyeOFTY52AEbPnt7TQ9+86C761sV3cob+7AX30XTTdEp2nrTAmnvuBgSFmPdA5wjNb5qkoeqFwBWChOeaALRDlrBO0OsUwR0EGMjQAeTIymUCACCPNgeA2Wa+C+9AFPcwuw/QHzPVgfFaLdyDSkSyeiYE9CJc2QBdwFMrjCVoq8roUDqvDQjGfgARNypv+Y54CVlOSu75MsElwABodirQu6Zkmm5efZjepDYy9BtXz3N/WVjzAurympUmONGl8R7uVYP53q6+rs2DXW+X32s9xL5cKiKsCGfK9aiGgKsAzgJAvc1wA+R9sdsWEhAI8TFmbSEHxkJAL86VDdAlG0YGi/lufLgDbHKRgE14AF3Gv3JRKPMeK1cJWhs0JSgBcDKY1WAEbYqe2NFPX9t3Hz173r1MIHugY1iB34LDetfgt+CI1EiJW+bjj3aM0rcv/xz99kX30sLGSX7sgFXKDtKa8Nu5jK3p6oGuggCYWeZVbYwITpiZfPu+swpeXJ8/wBuBwP0qi+exQgX+AHgt3jPFvxuunT5xbWkI6MW2so2tAVwwA35RZIR+uWSWbiiZoT2RIcPqLiwzLiSjjq3AbHmNkYwFGG+JDNJlpVP0egXib1i9QNeVzNF56ppxnXGHTa/FbYSIp4+hwRfAvl0BJohyl6vjANTxc2GoB+nn2+N69s4n2wdQ49qg7CeSvcjIIbxTkeV5ErhUWucg5D3owYeAXoQrE6AL0AAgkLHNr59gYpse0SqsxJ2vQI2cU67PS8mAYzr7FYAWsJ7fMEkPdQ7Rw5uTdLR1lEZVpiu9Za2uNssENSlJC/lOSuNzLZP0O5fezVrv97eOcI9aQD2beIsfoHvbDNkCGKk4yPUgU58z43wA86RHt1006nE9Y9V6zE/K9Q+0moxePVdAHf34warZMEMvwpUJ0GXUDAD+ntJ5+kzkKH289DBdakhgr1bd8kCAbgAabHktGNOlsutBOr90jC4oHWft+CYzUmdnvTIWZ4/MAcxrjfraVaXTdGFkgraWJR3de5ljzwbMNogXXHkwAFxv+ug1Gfr7FdaOGzJdjcXuTw0uwgy9KFdGQPeUcJHloewquuivBs3yYGV/lyQnZWmHCW+RzcD2RjkaQD5sCdLo0vq8wzgfM7/XBjJuyR2iLUfbxjgoeLQzyUx47qnbTPwM55kOyINK7tpBgQPqhik/Yoh16IfbbYshwwWQ/j+CEGTmEJ+RMj3+DUAH4CfCHnpRrkyAjpJymwKp6xRI3RE9TPdEj9KHShfpXJO5FjOg22x4AbNaJu2BRNbDPXXJxOPlLnDXW/1/yVrXGhIaAHyLytJ3lA1xv7rdGcs7mAKa2QB9pcRkpDVhA7MfqNvnZQN6rSdTD3voRbwyAbqUlJHdLbBoi1Zh87qeCVC+GgFewM0L6Ow8pq4L0qcj1a4ojMi82qNqSScbX3AMYRzhGgOa0EVHJsuub80TDOiY/cZjMim+ufKyh5eN4NliNwn78WmCA2+Wr4V3Fs15zxnGu9ZvdzgRMrtv+ugYm0PwhjL9w+oaQKJDIDdZp1stvWtCQC/GlQ7Q8eENoIKAyrWlk3R72SJ9LLJINypwlxntygzjY6/2bYOdfe6iHV8twjLWbHu1VV6vM1mvyOJitAzlbZDQ0KcGoHd4lPC8inDe7Di2AgQ/v+u0zWykDZCpciHz62KGk/r+hoBelMsP0AVgBk1m6rC52eTEzvAOp7K/X2X2oQzo1vm5rG0t3brQPEmPbE7SwoYJx6TE7rXbxDEtZmPuR60GR4CfkMbsUTzuQ6vsFu0JnoVfk6oG52XBC0gH4Q14SYFuoLK4jLToBBLqK8bTuMqism2AMzvDecbxhGE/rUAfLQPWqVcBypiZg8ex+0JAL8rlB+g2EQ6EKhC90EO/QO0tCuBFXhUf+hhDQ2ZaqAHKKwHoACw9453qHicgaJegZRa92pSx15mRMsnORU8eY2eQod2i7hk030UOVvgIoof/ct8r6ak3Zhmvc9n2BvyXVQxCQC/K5QvoFnAMWiIlItSSAubxxWVqaq80iHurDFJiT1pMdQDc/e2j9NSuXiaO4d9+xLWk6UXj99wvr5zX2S4MYBpVNr5pgo60anOYBfZfn+WeNX6H5yQtCVv8W2bDtZFL7v1/OX+pGAybYMPLipegTN4PNsUxVYQJy7DGDnLk2MjYOWBR14JzdgOahbDkXqTLD9BFuAUf6A2mlNxs5sZrPMDmzkkXZlH6cu+48XgXEE4HcNUGCEVOVju/6evGPYEPOkrrHWWDzHIXtjsmAURpTrTUAfDby5Jclq97mUE9ZlT2tMJe5iw9RZxn2e9DQC/KlQ7QxZ3LBe6FlFI7l+L5A3/uVQvmLiDaIDjvgCF63pBwBfgOV/qPmQ0asRdkrjagg0uAufVvXXonfePie1gnnYVaTMbOkq0mqxUwFpczlLDHDUktUG/cCp5E+Y3bBQK61a62vT1S6C3JD8RcVr5UCSSzF9CWbN8ZnTOa8hLM9YbCMkW50mXodu9VwF2sQWNmXGujYU/XBpyTfqW3zTaPWX1xMXpJl9mKdasL6F3M/If62qWlkyz9ipEwyfYbnJK8G+TgK1oV50fG6dzIGMvgNuSg/pbuWnIJCmImkCmEcBcCepGu9IC+3KDE1jMHsKCnDpCyS7v5jKKdVFKc2brSoMfUpKowZHriwlr3Y6JrwNNkMrePrtnjT+xK0O9e9jl6am8vzTVN6Ww2vuBmtB4NeK3ipkvyIJkNi9Z8FlAfML1wnCeAHNkzni89e/xMADqICY3X4tUGevm5vJ9u9q7H3UKluOJcmUrulUaJTXqwAh74ynPpkQFWfMPv6soPUevpCuhOO0RVrwLwTgdo9viYEN4yKbDZM9g2CQ6ADqW4S0unaG9khO/DWpORu6pyB1NmvHHPthrFtu0qGEAAkCmYyHgtKYz4l/M+hoBelCttyT3NTLSQscSLHDPcAITxhlmew15sHaex+tlXRbbulJ3PtMazaueccrPb184uciNBjgArsuMjm8bp0R2DDOaO3rrFjE/xejfP5+fWz+h7Z5j02e6V9PwlK59iQHdBHf+2wThokGOfm5Tc0127HDsE9OJcfoDulVa1/cltRjhADD30jjMP0ns6D9L4a+6k/ovvo3dt6KH1p726+umSJafTfw+UERtgB3Cj5C78Al1e73aIdCJY4yXb1Zh7BoMayMU2s0BPbqV3r/Rtrpr1IaD/gq50LPd0RCzJ7rTVp87ahmvn6XGVrX5r/530jQvvpke3D1KyKriD18kEdPkegIcy+eENYzxrbYO6zIlnY+nbDHmU1XXJe8YlDGYAVbl/mEvn8Td5TjYte5PZMxFv7awzOjfOzmxzTsaOYwVpe+QyBue3Q0AvzpWJ5R5LAyYyl80sbwVGN64/QM/e/An6Uc+N9G+ffTs9ed3n6fLqnlfVWJuouq0zAiv5lLpteVbhDzR6ZtPTBQeOAUu01/GD38TTAvnZrr5yOwT0olxBlOISFkFuRIH3mAESqMcB0CcaZlhMBTro397/W/w9fibld29G+ErsMXW+YlACEhyEcnKxJLUBnWfPTS9bwFX62OkCA5sxLz1wPE/66OmAWJ4jVqpeFzbsKRNUDMayjw9mE6nxk9cNM/TiX7n4oQOwGsEMj2oFMp7LLu+i97Qk6E9u/XU6PvQa+kn3tfTn7/kQvXvTAP/ODg4qPPvlBCJtT6rdzDayNGtuLm82MLvja1pprt4C9EzPA6ALCx6A3hoZcObUX3mgXh60+b9XIaAX5Qqi5S5qcfMbJ+nJsxL0pMrGQe4aMzPp43Wz9Ni2AfrtC+5hHfRnzjnEJfjEmtRjyEx3sjK1X+3qxUv5e8GpBEgvt1BlugkFegLoT+7oYyW4IA5m3vtgi7YIyI7KTLozBbCYBtAlw19wPM8dEM4A6MnYojMDD2vVCStTZ7Y9yu4mQAlSZfDOsDvjevL+CIGwaj7lGvE3EM6hF+cKCugAsa0KiC4pHVd7gk0+kG1CgOWN1Ul6+JJe+udPvIf+63M30Pdu+wCD/NryQ6bcrIMBgFdbtI9lUW3/8NQ57fw13jPtWgPoAHMQ0tADzydLF9/0amtWW+a1M2XoUq6vMaNyAPV8Su6+lZQCy+4ScFV7CIA1jsBMl8OMD5XiinRlk35NWKVijGg9taeHntrd46qgGYA6ummMvrS7m7XQn9iZoOGa+WX9Y4ADGOXQTUfJeSC26IAMu5cpgJK556RnnCqbdGrWDB0e5s0T9HBHks/zwc5hBqxcMnR7Rp1V5apcHXfbbMafXJc6CsgualbgkvE1DaijCoC++XTdjEPmmzCAjrL7QCyA0Y11Hc71iEvbhimaqJ91yIMg+aG1gOPLjP1AfC4E9CJcQQBdWO3bVVYJVjc2AB3ZJj7495X30+fWTdEf3PAZ+ofbfoWeVV9f3+Bao+rnd9FO9fzXlk7RG0tm6JLIKG2M9jhENWHW11qjXiuboR/i8jhGyjZzubsvr9eRjFVkX2uih5aZqFT43sMDTr+bZWSj2cv0mV5/GaDneV9ESAdciLPhU6/uTwMr5XXzeyZ8gfWmVVEZarkX50rbQ/eAEI9MKQCZ2zDJQiz4oJcZa4ANMsT720boIQi1bJyg/lgqIYy1zhUoQCP84Y4hekA9dkqBe8KMSTHYN0xzjxviJ+NmVlrGpgYKBHScK4IJlNsf29ZPh1UAIgFJiu93gCxdmOIDMVeRbdD04dNl28s5CdkDCVslTpzdJoyevDDpR6q0ch3P0edwj7w+7AgMHlBBDgh+ejxPjj3rOLfhfRmumTHmLOEqphUE0B0tc/WBjtErOK41RXsdEliz+tC/4cxhSm4fpKPn9dC9WwZo2+ldbrlZgcZWBRQ3KiD/4Oqj9ImSo/ThyAK9PjrC7HjJXnnuXSxICxqt8il5l+sKAQC9IyKOcflnxwLqtiOZt+LglwXbNrL5eqf7+b/nB+ZW5US9r7CP3a0CNczSy+z9WqtVARW8mujBENCLcQUBdDvLTlqz3K5Qy4IzriVuZF7wQN8dNp5fUB8CT2xP0Bd39rIgi4DQgNGMx4z2g63DXB5HkGCXsgspufebKgMyXIyczbP4y5SuBkjvOw8XN7s/nsmffZnlq93PzhIASFZtC+Skm0DI7bxdaVtt/6qrI/b8uVaOm6YjKtDCHlnLbmv7X+m/23DltnLzQ9dZtJ2VSvl5nfrgR6a+//Qh2q2+VltgBXC+KDJEHys5Qr9VdowOnHaEetXf5AdOm6QmU5Znp69yl2xms8ZXAtDFy73BZJsAqZUMHF4OXsBKv4a0D+pMoLPdVC7gx15r2ghCANSubRjNCwG9KFe2HroXlEQe1AF1S3TEHdda/tzx+ll6fHs/PXN2F315dxc9tauHFjaNp1p5QnxFZYqOfSdriGtVtUIA3bZNReaJ7B/HRtAAUGeWuOED5DNu11/h75CW8JyDALKXYe+9Zw4pzfTdBfRt69eVGAtMnOkq6SUt5TlWBqzW6oCjxngGARB03ccaJpdCQC++lQugS1YqH/bV1sy1jHM18yhbb0r2iWz0mtOG6MDaeZpsmtZuhepv6b2nj1K99Tix72ww7HEB9ZUAMbeH7WqvS8tASuGFuJuJh3iQx3r13DOBtzzW8SNfQQEfKdeL21y9cY1ba215r5G1g3/QED0UAnoxrpwA3ZR9bXMS+cC3hU38BE6mVPYHj/FvXXIXfXlPNx1rG+E+e6/6Xc8Zh6n3jMNOpj7dOM0l+ftbRvn7XGRS0wGXraUO8IZU6wNtw46bGEbZ0KPONXDQQL2Qwpj3M2IRoxvcOwQR4AqMGm18O8O2gw8RspE5+UwVgEKqFw7HwZTvcX9QHUGLAsHOOHMbZhjQJ0JAL8qVa4Zu65HLhz9nulYf3Nubjqv9xvggLW5N0pf3ddFE8xR99IxpuiDazxmyDXD4Xghsoju+UoAuRisAL5DSNhgxGAlI8imByz3BzgbodkBUm6F/Lsdca9zd0G8HiW+9aOav4Ny5EBHjVvWl1oA7QFx6/aJX3xDtCgG9GFcugC5lX7ELnTB65kKYShrpUCFZ2XPZY3Wz9OjWQfqqAnXYi44okBAw7z79iAPqyNgBdGDRA0BwfBDQMhLHsvW+17jlZRaYqTGA3jrMr4FSMsrwmowXTKBFsltpQSRjma1P7dK2eI7jvo2aWXQh/tlgzqNxJngarkyV3l0pQJdgA681VT/N58Ya9c36/s+tmzSAPk1Hwwy9aFc+GbrYiIplKIARH/xSvhYteMmuAeiXlyfp83VTdGTLEH2udpKuKEsqoDiU4v8tryEEtpMB6DEDqK3MMu91GN25Anqs3DVbqS/TMq/Zni9z7ClcAQ+RTq5fWgPoXaO/DSJfm3FvW6k2hF+gIe+tuMfJe+ACepihF+XKBdAlIx02lqoAQZStj24cZYDEbDf61MK+BhBJb5pJb3h8y7gCdwHzIy6gqy1ZOoDPkUhVQILgQI7jN3KVrg+dzp0M5wLAApDj/JGhg5A3Wh1MuQ3BgcjGjpsRMtu4Jh2gS8mdS9hNk5onYBTj7CzcAXRzH7G10cvK29SKjC/u84K6D7gvC+yHPsITATKeKC5yw7XTIaAX4coF0AUYG0zPFapnEEcBOAJs8HNhqgPk6oyACwBqlwLw10cn6YOxEbpWgTvG1gTMbb9tIeDpkq82EslHe9w7Asffm9fAOSIQAbM7H0CvLT+krrePZVxx7QA/HDMX8MS1iamNHdDELAGcJnN/28sGGNBb1D0PEjjkuqVd0mDc2NYZMN/I44U9plqgqyZhD71IV86AXqEzXDiLoc+ND394ij+6eZCObBpzgBwggczVtuaUXjjAHCDutwHyyPCl/DtppE4BaH4mMLZN6PJSuPScUwEd58Wqcc3aKIUJcsYXPVt/GmCKAAPSq7ONOqDBPfD6nnuPYcvpyqgfQHS2YYpnycUwZTDmmsigBTBuRHyEkR+ocuDJ4jNpvCM4Eb/7w4ZXgK94bx/tHOS5fegMcE8dvvHx2SX8zbzSf7fhym3lCuj48EdmuzsyzHrkG6Ja/lUAxy7HCzADPAH4m6IKKDgD7HJA3PYbt/XSK615b/ldLqAeL3dL2wLmUqrGcepMSVn69EEBHY8B0/+i0gm6UO0d6h7g2moCArq3rC73SYKWSis7b2IimmaXr3NsT1cOyN2KQJfDW5DXtV/b5krEw7G14lz5lNzxAf/olkF6bGu/yjQn+N9f2DrAPWmeI6+ZS2vp2XuGuyU7926H0W0IbLOm5yza5zZL3JlT99FNtwl7jmytCUok45SMFN7lAsqZAB3OZwBXZsub0vlhM5Ofrb9tm96wUYs6BxwDwYGIzIhdrYi6jBkBGQQA3rE0Lyvf6+UuojxivOJ7bmtMgGJmzRebdJCD63pQvZ/gMsDRbdgco69iPgT0Ilz5lNyRnV5TOk37FaC1Moh3sT45Msl1RjVNeukN7Jfe5ziLxaPLt4CFvWPlB1Jm02t9LD+d/q/PHLaMY4H4Fi8/mOJMZoNYvXFFqwqY+Var7HynutaLSyfp3NIxDmowBleXY2vArkTYWXq1h4kvXIK6NHK1QXXoMz2uslwydJ2drzdbgL3GCsBi0VBYpihXEEBPeAAJBDeowX1t3wH6wrYBenhrkn774nvpiR0JBjfMLg96RGFskOyVrx5Q7zrtCB0qP6q+HnVeL2kcymxAF0CcsPy67f5yigd6CqC75yBCNiKagr5x0oBewgeIBSxFulWqB4smy8e/gxDqbAlYXBeCCeEgOHP3RthlxIA6AN6vMiEVCJDyBqz+u33NPHZmKcn5nZOjMa+CJwb2dZMqY59gcMe54RhJcy9DQC/OFXQOXQAB2u27FXC/a/UivU3tS6EaVzbIlqAAN5TiRZ9cSrlMALPA1N5xKxOX0q6tbx53CGI6SIgZNnm1kVEVUpvdVxaZVQQTDeZYXlBLtU/NLvAiYIs2w87IMO02jmnYqE6sy+CpngnQ8fp1pgcvwY2Q0HS1w//85N5VWdWFdAS7KnOPKzKci0wAcCvAIePpr5XOrP2BUCmuWFcQQHfkQkUCtnmSnjaqcF/Ze5Ce2XuIPcEB6BAgATAI4GTLeDWopwL6QbV7znDBVLTTxfYUAIPe7iMQsWmecIRW7PExYbQL2HsBXaoAPH9t1On8ANnbBx82Gu6sq24Y63OG3JYiZ5um152wAB2ldgAmQF0CFne2f9EB0UEfwRoRhJFsXrLwYU+rY9RcH47vB+jihy5ja9IvZ2vW+mm+t3L/+PlrQkAvxhVIKc7KgBvLu1iA5L2rjtKtar9h9TyXns9XPwO4gT1eb2RdGXDKM49z2YBeawFZ3AoAeGTLyu4BeG3sdDbEZX57vC1uZfV1pvyfDmgrjdgME/rSjMfJa1dFtdodwBuAjtfeojJ17E4AellPTlKy0suXAEY85WPyeuWHUsBa2gbeAKPWam/4VRnSTR4sq3RY1ZIaz3FDLfdTYOUK6DBkub91hB7fpsVhnj6rRwF5HzPXAeYAOIBKJrKaF9AZzA2gyxZAt0FQQAXypCjx47UfaB/m7JNJY9aIl7PjUiVIHSWTkj3OVbLjTIIwrmLegtNPxmbXs7pZJ6DwKsL5k/U0GIuV6gz30WecoEVeT19zqkxrSlYNYl6NOK/NMimRqxbVcymVDKkoaHe85dl5MsXr3ZWTnWKS43yKBG8I6MW5cgX0TgV+b1Eg/v5Vx+htq47QjSpLv7x0iraXJRlcbY/vILPWdsnd1Q13ZVT9QGe9OoddClTPiYzRlrJBztRFS12OlR6QUsFORFP82PQCutJjt+1PsVFqRwAjZi+5ZuhxTx/d75orPNfvrTBIJo0KgXACbPC2qyAVGd5fm6AoFRG/NkcI6EW6ggK6gApsUSHxCsW3RzqTDO6z66cU0CNLnDdl8WDWqTK2BgAXQpyU4XvP8D+HAUPKAwEPhC1kt0LEY7EbU7aWbN4ulwsw2Zm49JjFxjRThm5rsUsFwH4tvy3WrH5lbumXA4BHq+cdTXg5Py+Ie89ryEwbgGPACnvqfkBTf9w4r4kZjBitDHGgtbwPL48RIiJL8DaPcxsCzxs01QDsRFhyL8qVa8l9qwKOW1cv0IcVoN+mMvRfVoB+kcrO15ssOcg8tl+WWW2el82NTVjgAFOAaoth19ts9SorMLBB1u+4cdM/9gNkAXRnHM8cex3Phfc5+uYCfPa5CwkvW1AjrQm3Rx08KBDBFz3aNsD6+jCeqTcTBN7AKf3c+wEH0KWv32i4EHJd7vWEgF6UK2gP3SGiqQ93yLii5A0SnBDCRJM9iJFKCjHudGsOPQApz5nnNqXhMSaMzbu68nHdW0eJGaI0+L301EeM4Yhdek4xS/GZd7dH5WxjE3FP67cU8pKGvY7M3WatZyrl2+NsYvCSWBOsF89l+zrdhweB7ckdCXqwQ7PSvUI1ItHrZ+/q6AtU6ewchD9pQ0iwIvruIaAX58rFPhW7vvwQna+y8ZtLZuk9CtBvUuC+OzJENUaTPYhGuQCE9NhzkWCVEnK9yUq9pLaYYbcD5OHqtina5xy70gfUuOxuxrW82u5ezXUh4VVaZWzpL1dY4Cyl8qAALc/NRdpVevBwvGthff0knR0ZpW1lMM3p9im9H3CU5jJVS9yRQdckR37HFYSQFFecKyjL3RZvAeAMK9ACMxzA6VfKzZaZe9nu2cDcC8DDTr9YsutFh0SHIANkvS+e1cssbXihuwSz1AxYCGFjpieejAe3U7X75KIVj744tkMkc1j4/s/3zsn3BwBzKdvj+ONm5AymN2J4YyvrJXwqDOl6+15rVyn/C6APhYBetCtXQOfMsBxz5QN0bckUXV46yUz3yoBZuQCrrQOfy2y1DTx+5XkcB0CPUjz6+nsiI1A3c+fdPSYqDIpGHMev9J4Lc73SGpUT97WVFoHxBjbir85tAAXmzdFe7vdnew8zBRby3qSQCB3iXQjoRblyAnQPqUyIWCstR5oVzKyRNJs0JlkrWgJf3XeAvnHBPfTY1gEWcUEpeUQEajwghqwd/WKooklG7w1kMs1yy72Q0S9kuE4LwDq/IIFB4HtgZdVMYmuE9emMU6mQ1+sPCOh2gGOTCO35eeyesIdelCvXOXTZMF9BBtyuwKTOJyPMBBrS+wUYrbMy7JqA1qlitFJtZcKSSeMrgBk99gsUoO+KDHFZ2m+WXc5F5uQRBPj5pNsiNZkIdnUeY5nKkwjotrrbevZ572NuQdUKaL1ndnQLAb0oVy6A7hUskRGxfORI/Y4X+LlWHzvV5EQDK9oBmrDXTV/YMsiZq+4HL/gehwlqRpIVJWfJ4P3U3iQgcJ5rSuxgusNUBtWBSSPEMmyc4k5WsGPL2dr3Y7DCnftP+FxHIa/Zo/5WQkAvvpWblvuBZeXqfERfqkwWvVll+edGRjkokNlnAGK249klYCndy/y69LgxE99ZNshKa02scLac4BUrd2fBAYZgrHtFYrzsb7vXbjPSG01ffZ2Rk5UMfSV11/2ydLvykNIaOGmvGwJ6Ua5CAH0lgDlo9uiXpbsCMy5JDUAKtvfRljEm7mHDfx1Zuh+gOwz2Cm3aIqptfuVwe56d2fbqsZCPheb5Ay0jLIE7aaRcdc/ZSMkWBNrpwTjFYlWya5lFtyRsEysI6N0hoBflyqXkHvMAlC3skquoCsBxhwLcy0qnWKAF42DtkQFmjOcqbyrkurVGclYDdC/PxG9iE5ZEyiicDegyKgZQBqFMj8L1WcptLhPd7vdLr77JkkkVj3VbBW+lld0CvU/lJzOQCAG9KFdOSnFpAMcuzxYK6rk8z3EyM9rqE0YYBV8hmQp/b2jMY0uv3+8YtmgMABkZtmMNmzLH7hLNEDyMO3Pkk8wnABnPntkeDNiKSFfOtysRKaz5NanvSf8aN6iR0bNhzxheNgObbLvX8BxCQC/OlW/JXcBDxFGqcwRhPLeJx8+0OMsWA+gARce9LUCm7mT9hvHdbJ7vZN4m869Nw2K3e+8oW58TGaV9am9QAUETBwVgs4MwpwlwlRYBDsdEZt4YdV3JYuXZmfqFlr8zVi7KD56UUr/7XoSAXpQrVy33Zdm5pZOer0d3rmDjrQqIwQh64HAEmzaqbwLyMk/tRzjzZuLSk2addQPSSZ8ZdRGH0aX1hZTe9UBF8ADFqRKkGW2TwCJpMeHZ1U6IfWe69x9BxqiRi00r9ZonmMsoYQjoxbkKAfSYGfkCYObSR3dL74eYjY5supllTnsckRWnZJ2l3CxgBwDHHDx6523qq5Sga9LOUy8HQ1xLp8ro90XGeBTvitJJOr90VAF97zIWviNiU57KdM8vo84wphd1ZWtjWR67xgL0lTRwiZv7WBmOrRXvKhjQLQDLZmoSJCvNJwjQAjELDMCYi0fGLGYmGNUSW9dMgUEKqFdr8xbMdnNPPY1kqhDGHCc4T8UiyHXIuJu3NO+M05n5cNnCNpceuWvNukjT66ZpYcMEBzRDlblNHqQF8zNd4R+W6T0jBPRiXIVm6FpitTtn4xB7zKvSGndLkTPNJIZS7hLVZJYc/W8w2y9SgLwTinXlLtM8iMiNJrZ10dayAbqydJpuWr1I16uvu9SxoOF+MkrYdtnfN+OOLp9Tr0hz/jJ/H4RYmFvQpt3fdOUkNGcpypWLUly+5XIbOG3jlWw+50F2vxFPkewUmTXsUKFHznKsa4J5qaeC+uEU2digo2T2fQn6WBFtGa50M28349Y/R8VACHsiPmPPv7NhzlptmPPkjj4WmMkUiOSyAeKHTjvKkrwM7CGgF+UqFNAFhHPpo1dZSmR+ZfB4gAxTStG1RgQFJiIgwl0QGacbVi/QdSVzdHYkySN2Qefb15oSOjL8SyIT9M7oHN1ZNUe3rZmgHdFETtKuuQCmkPoqHb301BEyGYXLRBbEc/V96OUAK1eiYrpdzVMAxkpVHbs6eiAE9GJc2QDdOyNtZ6VBe9828AMowTiHGAqAKh/SmA3ArmiKyqwrXdlSbNEhz7U37zcbvhLZbroMXYxmuMRvrFJFyEVXC7RyG3vDm7l7fd0Lxjd9jl3vIMH7pd1dLMuLY4mPfKHldtbYPy0E9GJe2QDdFoGJm2w4SMaY7lgoUW8y4It+t++IWBYymTMrbaRbUfIH+Q1KaRcqIL759Gm6tWKarj9tgjYbkl06hTQJSMR4Zbs6xgUqw7+lZJ7uUf+nHt4+QKObxunN0XHO+Fca0IV4h+toivY5gi62xj0buFh69X7XIQS9DZb87kr00avMnD7eqwYe/wsBvShXJkC3QU0IYkOV0tNdCNQ3twlbACqMd4EZPrfOLYvnmgHbwCte58LuFo10NlAx4ihB2fPpSvAne86+33JF0xrq0+xYhy0VB/adNzaroleftHzT0SJ4uDPJYP5QxxAHS2hDZAtoElmCsl7LDS/soRfvygToXkU3EWDZwLaaehQsSCmby8oGfFsV8GKcTCRb/dTLshHBhNVeY4RlZK59owLEK85M0ujWfnpwZz/1NEzRTZEp9XrLAwfvOBrOBR7vKLXfqDL8X111lA6ov/3DLWM0pYLgD50+pY7fvWKlbO/1ijuc+MmLcA5+Zs+2+7HXxV1O/My12UzhDHsp4wPIsXUpP+yhF+WyAT2xxpptrkid8xYjEGzp5Q5myP68xwJRC2xz6L8jm4TSXP+awrJfLwDLaw47/WZXoz0fQE8dVSu8fJ1It9e4mvLa/3yWqwsAcMy1w5scGTeY+1qwZsFh0SeNiht+B+4AZvCZFOixjbUNXrw2rH5TCjbIi8VtyHIv3uUFdD3CJW5fLughe91iTEm2sDGJNkUJasACOVI8V5PW+rlXHSuYTHYw5Rg47ze3dNG3b/oN+uZr7qHhxll6f8lh2qPOtcoj6eo6vLls+PNKx+h6BebvWHWEPlZyjPq4ajjFn20fOWOaWgJcbyHgKbawIpoDEG8ymvFiuuKXdUvZXhzmqleohy6BU6prXQjoRbnw4QyxEGGsi1UpslshYuEPXTzJWT/dgLotoerMPJ/pZuQSEACA5tbpDBLuaJBiDaJXnmuJXP970Tlv0UYPml3bJD+xLx30ZOiFjH/5qrbJ9xUut2DEWLSi1A4wx3w7AH3MqN3Z18VtDGMpiyCAterjqTPoKZru1kTC8oqEpUsfdyVrbXneENCLc9mA7uqgyyhWNwMxesrnlY7SxaUTPDO+NzLK89rrfQDO7v/K9zUWAx0jarl6h2fadv8+rvY7t91Lf3bbh+jbN9xNw/Vz9GEF6OdCa97RenerBY0mI2ZdeJWBnqUed3XJNL119SJ9Tv2/O7Z5hI61jtKI+lz6wOmTtMHyVj8ZoC7vgQRR4gQHUK9PU82wKw6VOXIZMp5Deaqtrdu2CAG9KJcD6CKDWq2zPQA3QBhZNYw/4GyG7zF3PaV+h8eJapqTCYrRCFzXqtUxGtXjajUAIRhAtqn7wPMrkvF6s2oBMCm9p9NRTwfMzjw6NNJVlox+thDV3Jn37AI4KaV6r4zsmuXn6xWuEc93Lrc3u+X2Ycsv3W53aJ96d2bez2DGNoHxWrTa5yuvPWoMZhBo9FrudyGgF+eyAR0f4I3GvQsl8c1lgwq8R+jKEs34vlnt15bM0f7SKaOR3r3MWcz1Iz/EwUCtyTY3qCxT+uZ+ZLhCAVCCh/3VXTS5e5Ae3jlEo+r/xkdKF2lfWdIh4WniWzdtVdeGfvkmQ/bCdQPUoVp3RWSM7qyfpSfOP0TzHSP06YpZuqpshGrK3RGykwXoTqnb4gesE6W7DGCdi11tNn5CjcWWj0e9c+0hoBflskvujmCKyvQA3GBNP7P3EH15Txd9aU83PbE9wZ7n3J81oGwDEvrq+Dnc2I50jNPXLz5AD20f0iYqVcYhba3O8JMrKInqBed+Sy1NxrvSZcsJz3FEH33cnKsfsSzTiJ7r3pZa8neyZQtg2aHO6v0PWuDKRLla40uOAMrcs3Qz/4NO8LLoG1wk427mL711G8RlS09eTGy8rxMCenGu1Axdk6vQI4fRx0UqIweA36CA/B2rjtI71X5DybzK1Cdpa2QwRSLVLhnX8QhZH8u6YgSsxgB8g6V1vlIsbO9uLj9E7z1jjPrV/9G+mll6V+mcOgdNNqs341co+Z/Hs+aTXGkQpzVpLSCIue60SXpf3SS9Z80MXV02pn7e4zDQcyECFhKoMDeAle+6HTe5fAMEL5s+xXil3G1fCKtehIKWX2cI6EW5vKQ4cSybWz9FT+xI0LPn3Uu/u/9z9J2r7qDfuehuemjzMGdwkp17szsAwv1bR+iPf/k36e/f+wH60sW9DPBDZtyKS/nV876ZZLZ+fNB+u31eaQ1V0pTOpYQ9ZBTXAKRekZZ0JDLHsaxSX6PdmrDH0RAkoJw+o+4xZGrFz33IAuwh4SxUzzma8DYIB53rl4oDggNUXKbrNftfZtlFvEaIhCmStT7HCwG9OJdfDx3gB8C+omSK3qjA/K2rjtD7Vh3j3vLV6mfQYG/wtejUgNCpst5r1ONuXD1P5yjAFOa2PYKVS2nY7pdnew7K7juiPfT68mG6KTpOe9W51oksrCmvg9AHhbqzIsMM4FUWeOHcWpgvMMhVCAA/snmbABjU6zzT9VQarkJlGmU3rxVrvq9l99cbTDBlS+uKraoI8NSYikr64CEE9KJcfix3ACcA6VjbKH393PvoO1feQX963e30B1d+hh7ZnuQerQO0ngwPAPXE7n764zf+Jv3hLZ+lYzvHHCtObGeOOrBN6OHULDIHRbp8e9227/qIU3pero0eBNC5r22kWCVIAJhzG6NjiCseYP6j6mHLzA7GF52JgmVa8gFH0eQ68JqsogdyXeOUqZBYM+wG7FEN0Nm5y48IAf3UWH4sd3yYoz9+rgK0N6xeoLerzPz9CtDfqQD9stJxBsUKH7CNmTLxjkiSgf+akklnbKwymioak5OcafRgSuk3SGkZlqnNcB8zQC02rcLY32jGuyo9o2gSlCBgQdsBGbwYtqT6ogeTZPWWwr0ENgFQPye4QkiD9utVGwZ8kxk9s4VnYsYlrsmU9t3s/EAI6KfS8gN0Aerx+ll6dNsgPXvBffR7V3yOvnbBQVpsmaCEuJGlyJ9qIhrIWw91DtEXtg/QwqYJGqmZd8rfDHTcBw6mYsbla6skzYSwyoWCZ6uDBAAJq/StQdUttWfrnzsjZcZbnPXh12reAcxf0BMHoD+6eZC/ok/OgB53hWzcbffeg1UpEme6gRb34uv16Bv2lBlnk3E/BBp4z8BvANhLRSCdPkAI6MW5/ABdWOCtCgD2KwC/oWSOiWJvKJmh3SpzrbSArcoiTWlv8R6VoQ/QtrIkz5uvtcxKZEQsF+90AXL3dbLLuNrPT+m1G1KcjHitTaNuJxk0yHsdbBjT58x15zoK5s7VH0xpS9hGMhJorHQfXoKTOtNqELa8/f5VmjnzTSbAEUCPhxn6qbUyzaFDaQyANNekPvA3qQ/89VNsFyq/TzJ5bE4LudRrU5SJtSojVT9LVi04TGnHorR6zumfZwdz93nDFvNbWNwnBdA9YC3gbI9+Zev7Lxuhq5x3fNJxr/h+KgA9ummMR/gA6MjQ+bpiwbPvjOdg5trxfgCs8drYs426Hz9iAFvMaPA7VA1GrZI7gq7+sOR+yqx0c+iS1cJAZYsCaJSoN0cGuD8uQCke4ELcqmcBFE08g1Sq7TomWSmX3wMAsg1+QtICAPL4VgGkNAlWBEjTAZeU3xGg1FsjY/m4mNnOa0IalP54PsY2Qa5R/OWRkTea3WCCGKkGsKBNmR6NQ/AiYB4C+im40gF6v8WKFpIYg7GlET5o2OCizCa9YAC2lJ/d7NwF9OEAxiHS22WSnSldu2NZ2QOCldh+Y2bpSu3psmbcC86Am8eZqc5l/Jp55iig3C5Ab+uzFxqUCFCjzD5nwFw2ggmchwjv8H2FpGxVqgGMTAd4zycE9OJcaTN0C0zrPSVZAfS4BejrDaCzRKlko2kBPfuctAvmGsgFlDSgF6bYFrP14jMAqRDTakz/P9+RsJgF6F5J15UGcwm01howl8x8ndm2SI1UCuTf9vsV9tBPseUH6FKK1fribslbFMokixTb0jED9kICk8ckxR0stphShha1s0yg3m/1o0XOVcuizmeVNLVHwwrNen1nx/0CD8Mc9+th43oFREVhb5jn+00LwvTJV6rKgPcEZXaU0KfYDnaG/41KAQAdgcTihnF+35IWP8A7Qhdm6KfO8gP0KgPUDVaPV8hs8sFvZ4JrDVDbv7c13qXkbAcJ2cruGvR0ELDOSJqKQUhtQBCUwCTu04cOaktqS91WRtP3tDMdz89O1e2RrxyQ24Bul9mbWN0v4QRe+L7ZyMx6neKyW7+GgF6Uyw/QUVYHCIzzHLbtw728hyt9dCmNy6iWnZ0PWIAhQJ+N5S5MdS7rw+fcsLOlj54OcGyGuwQEyRxIeOmOlw7QbYW3kWp3vt4LjsKcT8bc3rgQ3HJVy/O6vHl/N2haJZNr9Sw97hu04qGGtQDpXQXoC81arc8r8JNNCjYE9OJcAuj2BzkIceiDQ6ZVGOoCZl5Ak9KtnyuYn9a7AHuQPrgQugBC2hykx5FFzaRTXmG9jvT3Cxr5CkDKC2Io83JtsY0VIhzuXYdpm0DvHt9vzKBxn3mHgF6US4RlXIDQTPXDG8a0hKgImWQAYAHrQTOL7gQAhXikW0zzqYYZBUCTjlqaHWSkK9e7/fd5J6iwQSqo4lvCuj6HFOc5Dl5rwoCn44TmyXQHKg77CsLkUzEYrBDxF7e94b1vOA+7VYF7CGvZ+1tGuPSO30kw4Xfv071+COjFufDhXKEAXRPPNAhuKxukC0onaKcZOdPZeeas2sk4o4Uzs21gwmtD7GW3OpedCoxaDdFO+rzpzEri0dSydr7a5jKjnS0Dl2Dm5QTtdEGEtAoA6M0G0DGGdwn7u4/T9rIh9qDPLwAJAb0oFz6cExXzS1L2xQc8snN4gaM86y2zZwccC8wL7F8njS3ow5uH6Mt7u3guHhKNbCNalX5W2ha5kX7woBWYOP3hgAQ3r7a7LWvbb2RSkQ3jvgnj33ndLCXsINUBOwAQsMZ9mTIyvN77IFm6I5AD4lvTJB3bNMbZOcr/MlsfxGAnBPTiX/hwrokeOIE+tYiObFGAfm5knM1KGsQsJKAN6UptAclNKju/VIHQm1cv0M1qX106xcDebORQq9IAmuihy4y5BtxDzux3oHK7VXWoMqNcdsYu7nNxq73wct2fTDPqditknXFKA1sf0ru7IyMcIAUx1gkB/RRa+HAeiM8uiVgMNj7wAebasUurvK2Et3ZOgG6Ack4B0Zf3dNNXzzlIz+zpoqd29dIRBUxu2X3RF9AlO5cePq4Do2NMDFMb1+QFwYQnA5esfNCQ+qT/LSQ/VAtm1H2atYhmIpsqs+e2GEy+lYp+M2I2YAUSuB6pCvhxCkQOFucFEBdGPc4VvXvhMIiGe7ZxvBDQi3vhw7kh2nUCWRzIZgBujJzhg3+zyuq47xoN5qy20oAOUDpHgfe7Vh2mD686Rp8oPUq3Rw7TjaVwPutNO8ImpXo7OxcDFrQRoCuPf2cFdJPpggEOEGyK9jpCMOLQtoEzYB1c2GItJ1tNToKWdIYtcv9wzSix71Rgvi0yxNdeb42uhYD+C7Lw4dyvAB2ggHI7xs0gKLOwYYLBSZt+zLKU6UrprwcuLSvwAmA+qTLzp3f10DNnd9FX9h6k+ztGHGEUvwwzdeRt3siZzjvuZfPrTf/Y83hbuEWOaYMnANtWckNr4timUXqgdYQtYbUkriH+mSx9JfzUvVUBAWu8L1IV8KsA4PEgwt3fMsrGOHBiQy/dJi96DVtCQD81lwb0QyeQxeFDvkl92EM85rzSEQYr/BzCKgD1QtnlOWeh6nwuUkD0wdVH6TOlx+jg6Ueo64zDdFt0Up1PV4oxi192X2OR+eqM0UmnylTF7c37nFi5KxgjG8APZTwoxqEHLS5x0tvH8RD4tBk72BQy4EnsqdtViHR9fdwDZOidrFs/pIKZBJ9/dQGM/RDQi3RJyV3K6hMKpCAMc1hlwchAJ0xpF/3awVj2cbFCx6685eYxBUCiKf+t/XfR1847QEdaxhwinrQK/CxBhVk/ZEB9zLjG4brsjFlK9EmPoUvCaNuDSwBW+Lh5HgAaj8W9OaJ+/mArzGu06psYqCRNuX0l9Opt9zpugRgFuwmLLCgqc/brYV4fQQeEa3CePJPeNMmEONwHNmCxWiohoJ+6S0ruUlbfooDpmpJpuqh0jEEKhioArE0MBt0vK/ELr3Weev2Pli5Sb6X6m22apgPxebo5OqrA85DDwE8H6nHLLazWSL8iSIHLmjdDjVkjWzYgt6hA5prSCbq5ZM6RsbWFZ3B/YCcLslm7UZSzn7/SWXqFz7VVW6RF+/XwGB3I9HIVocFI38qYWmVe5xgCelEumxSHrBWghKwTamYAC3zw6yxwjoFxkFXeMo+MFZKNevvXACUA0FO7e+lbl95FT5/do0vmlbpXPWwxx/3OxU821Xv+9sy9M4dtfgbQhMvc/W0j6v4sOCVq7u/XapEYEM0A6Pe3juo5ectPfjCWX/98OSdg0ZkblxFB6LOjjTBhnOGc8vsat+SO9xDnOL9Os9uRqT+yeZC/F6nXwRzaKSGgF+cSUhzAfKMCqAsi43RJ6RTtUxkpsjp4mHcqQJexJ1EaCyK/GnQ0zBfMDSi2qNd7Y2SS7lL/rxNNU/Se8lk6uyzJmWa96e+nMy7x9rtjaUbY7ADAlqcF6MF69R2rF+h9au9UoCgkOS0P26MCnX4OeADocKdjJzmL5b9SlqYS4Nhz/bboTl2ZBusai+sg4jh1RvAHJDlbM6Ammo9OfAjoRbkE0AEE8yxJOuJofiMzl7Gnkap5R7pVyvP+/V4XOJ2xLIAoMmLLgnTZuJUPoNtmJvPNk/RAxwj3z6ektF2ZGdBzLe9LeV5AnbN69MnVvUCWLhnwgPGNR8kbPXkAOvYskwgXl/XZZUY9iPVqOkBHRo7jQyxGKibyfmBP1s3qcbQNWm7XaQuYGfQZtmId5z462O4YX8PPQOYLAf3UXwLoG1Qmek5klC4vnWaGOwhUAuZtkQHHlxsZrvSSfQHUmtuWDNomovnNX/sBv8tSR0+/n64rm6QbTptUAceoQ+qSvRLiLJLxCphL3x1ucSDiXa3uyXqTncfLZT6+R9vMqnuEjSxY2PQipIMs3lWDKwzMBcDlHG053QY+l4QKyvr4ntle9CKZKwI9QnSUY4WA/guwBNBRxoX8p2TnU+IC5gFzyRD9WO92pgsZUfRr5xQQH2sfpaPtY+y6Jkzz/hTimaVbbgmciDypyL6KqpkGyfnUjDpP0p4EDjqgmWR5WylFiz79sDP7nsp4B2AzgdC4piUNUU/OG8di8Gye0ON2adTXsm1k2jg3tB6QXSOIkB69zP5PNc7QM/u6WHf/oa3Dzlz8hGHfA/BFghbBGldfLF/7ENBP7SVz6DAzOUtlo7BG3QvbU8wrK5BqNR7mwpZuU/9uYQLdwWVgLmNiyP4AbnrcLEkXq+OhF97KRDZD5HIIZGZczpR/q8pF2KaLM+AmY3eq56c1oQ1BhRibyFhdviNjtnJbE2evPU7mKqYlnep18dq1hoRngzq4BWz0os6VQdsAbS1byCa0ZK7K3NexUUx+HATJtNcZtbxaiz8g2fo6da5nR0bo3MgY9/zFP73aak3YnILsrmohoJ9SyxaWAajjQ3/a6LKLU9iQUYwT+dZ0GfqA6R0DbJD9Qa/8mfO66A9fdwd9++o76eGtSQfUXbW5wylEs9kNUzTTNOUowuErBxEmsBgRhTVzXhJoBOnvpyvJsxCLyrZRNscGEU/3pBdM8OEGHKnbdUXrjy2mHA/niFL9E9sSzDAHIMuoWC6AjmOy850KDL60p4u96VGlYDZ9lWvROtEww/f6d/ffSY/v7Of3UUrz44YLoUfrZp0RO7tEHwL6qb1sYZlGBQo7jfgIMvP2iBYgaTR65iLwgq9edrl4qQsI4hggkr0lMkufPGOePnz6vMpyJ3mOXDTUhbymJUi7mbl+dTRJl5UNs348GOk4BwQXyICbjHQpggvRJa8zuyqaH1hKGVsDMF6vn4FTxsKqHDDsWlai5iCm/FDK9QjAok8Pp7bzSsc5QIJQT20AZr1v9cC42G0wwUy98ZOX8xJ3OPi4X1g64Xi8S59crsG78/NYDwG9KJcN6ABZAYAx1k13M+GkQzBLL1MqZXY8DoCB7PQbl91D333Tx+mP3vBp+uJZfZxJSlk6sSaVwAYQfKBzhB5oH9GkLWPGwsIoUK6rnXVAarnc7ELOQilyrrimCXV8ZMAA4KMKiEeqUln9XsW4hM/xNVlOAzxK9ABysPOfUhtWqbge27wlGKCbWfzOIR7d+9q+A/RgxzAfS6vBaZIfDHGOdY4ymB9t0Yz7EcMx0F7nmuk/YsYQZYJBxteCBhkhoBfnsqVfAU4tBkQBpugPi+WmSME2cgbblXb2WbTfkdFeqAD9V8pm6WDlDN1RMUvXl8xyCduVHHUBHeXgzeo5b45O0I2lM5xtAsQ7TTkbxLONRv7V0SWP9jjnhnMPamnq7ZtXmXPGayF4QBWg2lOKluvLNGsugi4SHKCFATEXVD3grd5obGdz4RaIFSzIihD8wfvTaCxQxbBGqhTtxu4V753YpNq9fEfJz5qfz70NEAJ6US4voDNoWmV2u6ydDCAw40iHVugRuLGmWZrunKa5jkmaWT/l9JNtopiTpaPvXDNvggkhvc0zeCHjR9YJoJ+uN9rk9TNOf99hgacRWfGet8yqSxsBPfqnz+qhL53VTQ+2D7uqb4GBVzPix43DGbLoL+7qpW9ceDd985K76KndPTSpsmhbkCYooE+p60ap/Uu7u+mLO/UcvgRa4wbUdTtiTt0jfX94xC62mBIwDViEwGwa9SGgn1rLBnQQ4wAKAAQpszcYly4HODP0XG2wYhZ4eRftLO+hi0/vpovKEwpsBrk0LSXfymVZugIuZLYK9Du5tN/PII7zAaCj3L/J/GyTCThwjuIgJmQ0P4JdJhY8ng9XOZAAd0SG+R7U+ZTxs4EwrmmDEXFBpQNgfm3JHF1XMk/71fewk60S7/gALQKA7Xp1D6+tGKR3VkzRDWVTXE4XsJY+v4A6NoIc1xr24LL3plBiXgjoRbq8gK4NUOYcH3BXk911A/N1IctiMcr99fii71y2nbXaZWvZyDK1nvuM4+yGPjAIYuhda39vV7XNBksB7gEfQOfstUbLoj6yOUlf2XuIhWtQKmcHssr5wPPZuCZkvJhzf0gFBA+0jdBTe3roD668g/7wNb9Jv33RPTTbbJT3AgrNsNGKurbFDRPsnf6FLQN0eOOY0dhfcABdFOP0GJ9ueYzk0BtP5FA1CAG9OJcN6GBIdzJomjJ7WbfDoMau8claHQnSDGxpAXghsEl2XmEBroxPiV95nSnfN7DJSI8D4i1mA9xRSQCA2r1tP635mI/sa8wjEIOKAoiA2434irDng4IgjtdogoJzSse4zH556RTdtHqR3rTqML22ZFbd24RTts+mKofXbSnvptefMUKj2wfpod39dEB9rl0YTTo9dAH0BtNX95IRT4bxSwjoRbpSzFnWHE5RI3MUxNak6plL1ufObrtmKUEVxzIBiw3mMgImQirC2J4xBC9k7dwGMDKx6FVjll7mqgcrLIMYn/55kgl886xIh1I/xFdQBZAKhR3IZGOiI0s+ummU+/AICh7ZmqRvXHIPfeeaO+iLe/tosnHGqXpkA3ScH8YIcY04HsAcZXsEHxIYCYsd9wLnK+8B8x1M1cJuGSTOTH0PbVJi0PcvBPTiXDagSx+8NgV4l5uyCEDLYwVMVmKUzWZz11j93lqj9Cagjqy9w/T4a002utawym1VOwkS/DJ0MXCpYZGYHi6Ti+qb7X8e1JUNPX4EBRj5O1sB+oWl43S9ytBvUaAOsZ4WHJuz6e6sJD6Q3N68ZojGO4bpO9d/mv767R+mr/3S5+lta4dZ/Cdm+v5NhqwoLQLbRz7uU2GwR9/sgCr4aF0I6EW5/NzWvLPkQgCzLUndsTEX+FZi/lyAathyVZNxOGSdKC9PyShWo5ZcZTZ3gxbE+cLWAZ1h1826FYb4ctEV72sKIxxBw7CxNHWflz3T5eqGek1MCWA0DP7nGBN7oHOYHtk5SNPrp/meSfsiG6APsATvNI/DoRf/+NZ+ekxdG7J1IdcxoBvhnyFj0pIwQZltyWpXVVxAT+UweG1TEyGgn1LLzz5VANz7b7ucztmzKcXXmwxxJUq64rHeaIBZgEaIYeIeJiV3IYnhOcis2wwr38tIzxZE6KpA6lx7LoCOx29Q4HpWZERl52P8FfK5+xSwX1A6yhWABnOe2bJ/BCC7ov10V9MIff3Ce+kvb/l1+v4H305/c9sHqX/HAF10Ro+peGihHGybFCjVh3SA7rWCzW1ePgT0olw2oCesD3pvD9qWRkWJG1ntkNE3H4rPG0BxrUOXkeXi2QFf+tAy8ubImkrpvUoTu8ZqLRcxKKFtGqcvntNHv3PJ3cwCRzYLUJ9ZN+3047kUn8EtbtAItwjBzk8GNnPJ/bAD6Ci3L0CRTW0EHeNGNlZc4ryua8vO50w9qoZePIKDRzo1WQ/kOgQs6PcnDRdBRusc8PYAtl9ZPZ3hTDLAuYWAXpzLBnS/7FnIYDJqht1gGO9ro1ZJ3lKR8x6HfdADmLvIazU6JfYEv5YwtdeakThhugP0ddaeoG2RQQbQrezI1u+Yt9QEkDoVUHOU59JcR7Z+90YG9GEut0M7XWb5W03fv97Mo6czVXF68epe7Y+O0OCWIfqDq+6gv3rzr9G///pb6d8++Q566rJD9PGaITqnvMd5H+o9Cn5+rQfvtTqe9eWpo20C9CGgn2JL5tATxt0s6UMEE6EUASMAJCuiWaQrW0xGLFS5lKu+ggx2WIHuxLoZHu9KB4qDor5mPLtlJt4B5cqFFADCRgn66X099Cev/wT92Q0fZ2nYx7f1c1aLsTmU5JF1YyQvY0bs+JW7anC5zGdziVwBK84X545SOTYEXKDUxmVxS3NdOAeZAhueFFAZ+mMqOweYP3WWBnRcG2bfXYe83NocNpgLkMsIoMz0h4B+ai17bE0ytwofALAFV4Rl7iW1SSZv+6drBbpe2lo2yEp0VRmy5UoTLLQatjYAETrk6w05T3zN45JlmsdvV6CJca2LSif5ee1m5K3ZlLglW89YGTDXmC2bz7QBrABwnDfIdZKl638PcSYts+rpSHEyPnihCgo+pQL/r1/xefrH976P/vvOG+j7n30bPXpJN/Wtnaa3RicMeS93OV7J0jEZYAv0SKslM3cgBPSiXDagy4e7S1DzL8vK2JMX0AX4IREr+unTKkMFMIPx/cy+QzS/aZIGKxd8QQagAvBDrxgjZA+2D7FqHUAS4Oa1PeUZbQX0T+zpp/99zad5P3POIXpMZeh4LkreKKNn8nL39tQLNVFB8DFtGPnIznHuvNfra9CVgsyv02+803E/MBP/2LZ+JuvBlGasbo7BXDzNg1rBeu+1KOPZokEjlkNcun56COjFuewMPW4But17dtXdTIZuBE7s0rQtmyp9dYAEyuAgiqGffJkC3C1G79w3M1WPRyYL8DsnMkZ7FKjhuR3G9c1PnQ4BA5jf+0rHeG8zbHiZl7dL79mqA4Vqr+P88Jqif49zRy8dJXiZRV9rpGHTvY4eHUwwS/7q00fpwLYR+tN3f4z+6VO30pPv+iTd0tRNbymfpFtKZ3juHOz8XG1bhW+AAAN8BK1m12XU47KRAUNAL8qVwnIHqBkiGcuWGra7rZAmpKvRalfcJWmNodmmKAAKNhCBAp0Coy+d3U1P7+lh4Rj38alz6FCrA6A/YPrQMBWBmxkATMrmKaVk9dxJlfk/sj1JXzyrl8vtrM6mQBSz5a+I7WvlguPGhqACzPfDxhzFydLTBA9exj8IcFPqnsypewZRHumRc9ujet5h+OcK6DwrbwIPW4BGVPJsklwI6MW/vD10WwUNSm01TDg7kEIyE4LaOjPKptXfDqZk6KLiBtIWyGC7ypI8uoVRLiio2f1tsSltZG30BGe2yGq3qOcg40X5Ghm3n9IajgEwgpMYFNkA5hvMvLp3dOvl2MLmr+PZ8QEOTPZFxllgBtcEoxS7h+0FWmT5AFj+Wt5FF8R66INbB+kTe4bplvYENZx+kDap3+1S9wPKfqh86JJ7DoCuXhvngdl47E18v3Qbo95MM6S/byGgF+VyMnQLTPCBDsMPLeaiJUTBuBYABoiIIQiAwNVTtwl0i85seb8hukECFeNhkEQVdzBsHP9I+xg9uHmYXc0A4ABzlKnRh0aGD0AfjPuXl9HznjS+35zRr59gQplWtHv5wNzmIfBMv7o/AHIEGOiFo6+P87TJZ379c+/PksZdDQGN/Tosi2uJw6Trx9tz5sJ0HzFGPEd4DM6YvRh1QGHIh4B+6iw/UpxYgzZbojLCHI8bl7FWHh1zSWkCAnY2X2k2Bwg8EtfPWWWbYabLiBWOt4+z+FGVnScZ0LeW6d6zWH8i661OI50aNyDabOxeuURfkOd3/ttmkqMkfq4xu7lM7YtLJ1hYJ93oWoWpUtiBC66tPaqCnLIhalNfBWhxbSIkI0I46c8nlemPY0Cx74rSad7tZkxxvVHiW5uxRRECelEuu+QumTjKrwBzAXQ2+MB4mCFiiXLbZJ0r7GJndb5z6GtcD3FNUhMGurb4hJsayuUQdYG3uIANwBwgPWPMUfzKwM6xcc4KyOW88LN8AN0mByZskM7Cdk+c6arlYSPbRYCCHvjTpv8NcZ1M98k/o15OVkuYvn+yMtVC1s/kJiXrt4IBBFasXW84EXiPUUUYN4YtfoIzIaAX57J76LYHeJMxY8EHfDMzy/tMKV3PqosTW1uZlkpda5W2/cq1Mc76DzETvEHsO01mDoB/Tck0C7BALhYgheNvK9NCL9uN+lk6LXTp49cZktg6QxQL4grnSxor1/1lUVKLCy8gy/Fk5l3AGtcKbfXXlczRzasXeRYd2vbVVvAT5JzWmoqITX6LlWv99nYTWNUZ8qD3uLHyA8vH1NRjQOC7oHSM9yYTuKFN0VLmSt+GgH4KLRvQ5UMfGZpYp0K7XUCdS+xV2pAEH/7QBR+zMjqbHOfXn3Z3KjELrPb720cY8ODDjuODDPbE9gQT3ADsrNxWlZ6wJaAnZi6oGuRCarPP1R51sxXosjHA3Yx40Tmf6XXT9MSOPvrK3oP08OYkj9PlA+gpI2VrMt1bD7vdAnX7Z4MOEU6PCOI9XmyaoPs36fbGMDPnlz83BPTiXH4ld8l2m0z2DVCX73dF++i66ARdFZmgPUZVrdEirHlH3mxiXTy6fKY9zn3nHgXko1yS323K6yizn49Stdroi6N0n7kU7I62ifa8ELxysS+1ndTqDItf2PVBxGYcIRtTfdhZNkg3rJ6nt686rIKWKR5fy9VOtdZYn9b5sNmryl21OKmkVHoe4xXW0W2Kbuc9RrCANgVaHAig4K5Xl7aMHwJ6US4BdMnmZGQKhC70f8EQHzXa6RNGuAVjWQBZ0VsXbXY7O7VBIIUJ76cyt0Z7saP0Kxrl0COH1OmX9nSz6AsyR5Ts8RgbqFMsW0VIJsCcdybwFGEWNkCpn6ORunn2Qhdns8Cz6Wv0cWBpinsmpi+5AroN2oMmK3ckXE07w5aUDTRmV2Er8c3z+wzegbQ3hi2hmhDQi3/5ltxVdoq+KjPMozIe1UPb1c9uO2OMumtm6VPlC3SNAnX0rb3Sq7GoP6CnY3bHTbYJNjxeD2CqiXRgrk84pf1NxmUtG6jXWaAuNqFBe8xVhjkvkrPbTu+jLaf3MENf1POCBgk4z/XqWOdGRpgQuEsFJjh2pnuRjijnXkfqc2XUj/3Qy5YDeqYgod5oCIjpDgAd9z0E9FNwCaDbZVnOmhWAA0TFfQ3fQ0UNhDWMTaEnjA/+0RpXHjXhKe0KkPdXHE7J9lLU5850GeKuCcwiE8AWNk7Q4ZZxZr4DEB9XGfthBfRJq5QuJWQ/RbucXM0s4Bwy6nFHto7T777lHvr2m+6mR/cmuRTNfAJL9CZQgGB63QBOCQZyVdST8xPOAZfajd86KiU4XzGnsSslrlOcf3aP98bxfq/R9rTcEon59/lDQC/OJX7oMWPaIT3gRpZDHVAgnuRM/IrScbqtbIZ6FJijutSj/g7eH1mgCxVYiVKbVwnOZo5nm+m2QYt7+ApAkc1uNoz1TgUy2ngkkRGwpA/NDO5oHxPtRCo1SJm7xszBI4i4rmaYkvsP0tCFXXRrbZLaon2WmE532r61N8BoYAEYbc1am4Xlnqkv70wcWJUO8V3XJffgpfxYuauUJ/3zJrPrMyrZhYBelEsAfcBIrNpZGUCL5VYNOU0IXgBXlMQXDKCnK23LeJSXJe8HVjLy5nVhE9BCdo6y/GzTVAqgZ2JyBzFB8cqhDhrd+qkNM/S7b/s8/cfDb6Tn5q+n777vE3Rsyyhn2VKZCGrZmiqvmt9onAQbCCbEgx33BD16BFbCGdCWs5rXIPfTbiF4g5B+S3/AbpuELPdTa+HDORa974S4pNWZ3jMrn0W1lClGzm5YPUcfLF2ke89Q77f6Gzhw2hH6cOkRBfRjKVKrfr3tIAItlSJXaom6iOgJzktXDAYYGKuyZKDV6vdXxPrp9vMT9GvX3Eu7mlNH67xz9l4GPwD7wjP7qO+afvrLmffT3/R8gO6/6hC9Jpbkc2hlF7retON3fuApffhsI3RBsn57NFDA3PFIL3dbG37X6Hc80cwXomI8ejBkuZ9qywb0ZMyT2TlgoIEEGRxK8WCgH1ZgMsVz1cEcyWyGtR/4ZgR8Z1TLJd9ly277zegdGPl+3u1SQXCV21IZ+lOt0/Tnt95OLyxeTS8tXkI/uONt9OwlB+jhzqRpN0zn5cEepBTuvUcC5sjMAeLQnMd4HqRg4cKG4AqgDuLgovo92PQQ57FH5ETK1s+NztuDt4O6cA791FgC6HWmzNzGNp0Jdj1rMSpsIFBtUz/fHxmjd5bM0+0lR+njq4/RTSWztD0ymNGLPBeb0CDmLpLFQ00NrQE/olr9aQfooxt76Zuf/Az9cfJX6B2X3eP28D1+5tWmMuD4s5us9apYFx27tI/+tfud9B/33kK/f+Md9IHaabogMm7G6JZbrBa6JQBKB6Y2R2CdYaRLtUAU8USS18tUz1wdcbXfs8vdhoBelMsuuTtjZCyxqjO+QStT65cMsU5bdApgrAiQecv1aXrx/T59eD9wtyVr0wUJADeZwUbQYpfBRxvn6JvX3E0//Oyb6Cf3vY7+5ddvpW9dehcrtnE/vHHaKbuv1D2QSkW/pz+OjHtc3XO0IODg9uwF99Izew/R02d105M7+ti85QFTOQHI42cPdwxxq0J0321+Q7aAKpP7Wgjoxbnw4RxXgC7MdgD0mxVQ36qA+3WlUzxGBuDABz5ETM6LjNCN6ndvWb1I+1XmDvb7yzHrbSvWoR2wpWyQWwIbfPrqcbUvVIB8z4UJuveaMbqkqd/JYFPK6wrMN0T7OGgRBrkEFntP66EDreP0p2+6nf72HR+gZy4/QL9ascBjXnt49K4/RWt+Ja8xZgUXdeVd7Ieut9vbB4lNCG0C6g2GvChz+LUB5/Bzs1YNAb0ol3cOXTJB9GVRxvVqoGvS2ILjax6U2JULKU1kSO1xLL+M1QtCy8vc6YGfzU8aZthbHGQwd1Rr0SHpPXl+P33/o++iH3zsLfS9Wz5K37z4Lvr6ufexih3sWwG0UjWwqwD5zr7bvvCiEnc/QHpbPz29p5tlbX//ys/SH1z5Gfr6efdycAE+A8b8kKU/vr2fvnLOQfravgPsm85z704VZWWCjhDQi3PpDP3eE5WmjNupgODdpTP0uegR+mh0gS5SWTlESP5fe98VHNd1ZTsgutGgSCJngCTAJAYzKDHIpEgFUqKiJWssS3KQLVmesS3Llm3Z1igHkogNNHJOJEBJlmRZGlu2Z8ah9F69mqmy66V6U/N+5udVvR9/vWLpc7+z9jn79umLe7tvB0jT1D1VpwAC6JsaxNph7bUEaAAsn4EymwK1Kw2oFTJLlTKwX5aI8vXWWJzZ73A1E610zLLbWvIg2Z0qH6V7onM8OtZhLFHlmDWsMNfP6nIHDLPeZupDvOVbbSP04em/ow9veZFGdozTw1GMns3RYfWabYbdX5+lzWqQDL3GtBnAH4DCHKoCR9Q9YAJgV1QCmbgD5mKhutEovwngN1tqfoV7j0JAL8rlVoqziVe2vOtK69HgHtqZesMJ1n7Xe8z07HXWnB7Q3eXhdFmn+x4wAgcmPWbEAYY8Z1+VzLgB6O8eGlCZ+dfpfz/2LfrjiZcVUJ5hsMR4HbJfBDxjdcmxPWfOO8fs3FbamzKKee/t7eXzfnjDC/Th8RfoD0dfVvsl+q0CbmTjrEBnJhLe399Hv7/+Ffrd9a8y2LNBTcuUE5iFgP7pXQ4prlz8tTvpZgUYj8Ym6eHYlAK7QWcuWTI5Ia3JPHm+YGGL0dSIQUrM31wEAivHIpN0k8mWd6lrBGALeOlqQi9do753IjLFam1QkGthLflORy/9UGSUbimdYRU3SLU2GgY69ib1+Tdah+n3J5+jtw730JOVszxPflrt69XPQ+hGC9j0OHPlhQDMKqOLD7EXBCI3qns8VTpLt6oNxr/2q9c69RJQ1LIqn3Zew3VtN0TCZiP4k9lwJQT0y355AbqT4abppbp9tXMHdF3ix55omGGAQsYJgB2tTfX09gI/L0D3ys7d98BKaSo7f8vpic+kAPp48yz95mgn/c8vPUX/6Y6X6Bd74/T3+3pYIOZNU84W8R1c91j9XNLuNY/gRlofIP8hcPjtobP04YkX6Z9PPkN/PPYy/fKqbs7C4SoHu1io6eEa0ENH5eA3B8/RP6nsHa8FyLNegGHnF6I1EAJ6cS4vc5a6GDLUHgUecSZ/YSSqOubvh54voIsftxDgZIbcL7MEGF9VNkxHVeYKsMaoVbsB9BqjcicGLwBrXSIf4DJ0nSGmoX1wHc++T3EWjKxX2N3Ye2N99GTtNC1claCXto/QqbIpDg4AsHgd9OU7jIuazOHnY+xiVydw75CNRdBylwog7i1d4I3RNwQuMj/ebHzbheku9709OsDfbzR8g+qMffEQ0C/75QZ0b5U376xTSGR5gYRlFCKz0BA4mVeAicwTQJnOZtQZx8qUnbuOIVrmAEKM5TlGJyZDnm+fpD8ce4V+c7iT3tgxzH1qmL68vTPBLm64NrxurmXKcVZDUCDz2/YIXS59dNz3uwf66U93/pj++33foz/f9SP64HA3u9ahR/6+Ci4QkACoWYhn6whvndX38Vgh+vws59qgxYHwjPMF9RDQi3PZgG6zwB0J03Jv3XFhhDfFsnf78szQTam50ZodFzU5r5/X/e8e2l82xLPwuA49g97FZWcA7i4jIwvA73DZl7ZwwJJgghs+IruVkjsU7Y6q4z4VOU+Pl8/Ssdgom6wciugAYq8xjEGQIHuj0Y7Pt6cugRXY/BgV/GbJBXq8ZIm+uGaRboiMao13HoGTHvlZHlfjHjrsZGN6przVZO8SoAT3Ow8B/bJcQQA9U0aZb9YnZX6ALAAIQKQzdW1oksn61DvQ8M/ORTxHxHJEHEeAH+V4gPhvVbb75s4hDjJQlv+ZAnUAJZjkAPQZExCc3zzGkrXSs+aRsaokszyeRdDjGOBUL9K71/XTf7v3B/SvDz5B/+W25+jNXUMchAhwoyyPfju+hoAD58f1gBwnnvCQdgVXQHTa4YKXTxAWAnpxrkz2qem2SLdmYwySKTsVY5dGM0KXjtglM96N1pw5smVkqCihX8n95oQDuPZYVpMhmG0x5esGa5Z+o/rebSobf2zNeTrF+uvaEhWgLp7rAHTZV5qP7SYokGfopZoXFNCb1PXcFhmj7ygw/xsF6reXwtSmT/fXDQFO2h21ZnZehHQQrLhL8rmo5oWAfhktG9BzKxEXhhgnJX4AIIDqF/vi9M7uhHZNU2CUjYyrH6DbMqgymz1YmaquJoC+2D7OhDQ4xSF7B1CjzA7AlKwcwM6CN3u0VjuEb3C9XAZv0uV4yfyzuXYhxk1vnqH3D/bRP3z2LH1wbRctbR1V1zbPoj8Q3hHjGwD6kvGOx7PCueW6IDv7ugo2ZtgXXmfpiTzaAiGgF+eyleKyBSABn0KUmm1Qr2PN9z5d7jdl5XQjbXLdonkOwpp4oktZXDJ4mwcgAYM9+iaEuiMqG75RZci71evBF8D1oCyPagAyemT/e6JDjm87K6ypn0WW7IzWZfQW9++h47V71DlvU9dwPDLC7Q9cr8znV7vupcmaI681FYhNzHjX4jq2IUwI6J/ClS2g26XkgYqkIEmhWNQANPSv//5AL7O2AZrZAvoK9TiPqkKy/75Sdz5hxtnQApC+uozz4VqEhAbQ/ODabvqnI69xTxvleICqA/zqI1zp/PTn7ecpn9tkP7aUVSB8YcsYvaEy8mmVbfNzsF7Drm71s0x+Q8VBAhV2n+sY4z77ktHH15WD3GVxQ0Av3uUl/Rp0i8BJIUlhclwZyxLTkUxiLA1soaoBfLPTZ+51TE2qLWMXkUtlEp2HTG2tMZHZbDJ3Eb0BWLcbSVwAOcr58DpH5g7ZVOmn2w51tRmCkSoriJJz21l1sxF9aYx5K9MJn6HW6uFLH962YpX3yHZdCwH9U7SyAXR3hqvn1edTFN4KAeqagT7KpWWAZ66uaZmqAf0V/jPqohjnaKZv0BKpAHqIygCwkcH/5lAn/eORM/TOngGa3zTJ437cW1dgjtbBuAFZ93nsoEiEfETEJ0W1rVL30zFWN2QMZ9zCMGyvWpPsj8v1Q8UPQC7GOo76Wx7PLgT04ly5ALoAYquRDK0r8Dy2+IKLYEqmYKEupq1ZBVhbjY+7gKJX/z9dtiqAaL+2svys4++OEv5uk5mjBL/X6tGLmUuDIQz6AbqdXcuWcnmrKZ9LVi3Bh1RDKj2OtdJlLUk0lFJ7YQKuENCLcmWdoZusUMhYADDHnCVPsLCz1JE6bdYCEOsr8Kx7rpUD0TxHEANhHQQbky0zvEfr553nMFhlxGCMtawb0LWozYKlUmf06w1w4yNeLwCe4vrmk2F7KvAZYZrBHJ3nQkC/fFYugM5mKmU9XIJGVlxfYEAXQAoyboVzdsT6mHkORvsuM35WiFE6tw2ploXtZuIZSvrQl291XNhsMuFZp/TtpYlutyrqTEbeEtPPE6X8nZZoTp3V/+bzszZ9sDK+rfteqPclBPQiXUEB3c7OASgoPZ83pDUBskJk0alyrIXL+vO/Lp2xYwsLHaAuZDq30I2UzPt9wFeL88w7gIsAZq5N6+WLPjuP7tXpvrcEANlWQ3Jh2nsFBvx+qN2zYT4E9CJcQQHdZr4DYLaojBTjYLsV+KwGoGcDvO0K0PeyP3uCM+h0UrT5BBgafDtZKnUzg7oWo0mXgafTuLezeZT4MTd/Q2SSTqiNWfdr1b8B7JtM60F+vtCSs9k86xDQi3QFBXQbpJB1Asihaw7yWLoecVbZ+XotWCMl5/8oYJ4MaJLXxGVua07e6du7npffGCCP6tUscBXijf0j9O61/dxiAIsePvAQvMFcOWbkpTfeb5zgRiwhm4LfpxAdK5IjfKhIMHdAvefD9dOXbo+EgF5sKwigCwBJfxdjU/Aox5w0nNjqCgww2RyrxjC8kc02l3UXvJ/vLmtLDxrAitJ+Jh17P0CXcjj64/tVIAI/eNjFni6doS+vWaQvqf3AmgU6WTqlsvYBFo6R92C17jHTvWtzmTMhoBfjygbQpeQLnfdZY2kKr/KBLFjcQaoAA5XBfb0/yYzdriK49c9tgpunLC3AUmX3F/eN0p8f+in96zeepA+u72ZiHVTefn11pybaKVAfU2Cqz6FbHRPSTy8QEdHeYtKT9ErXo4RzrZO03DFCEy0TIaAX4QoK6FLyRaaILBijW0ei46z1HsRGtNCALqDYYMxIROWtsDKn6TP2mgzAKiVvP4AEmW2vyvI/zyAO8J6mW9XnXy+5QE/81UX6Vskyz59DaldY7dJrD+J5Xqj3QjT0dXXgbAjoxbiCALrDaDfZOY9wmfIw+uiF6s8KqH/SYJ0NoA+J13mNLp1LJm1XNNxTAI6dqvr6sgL0Pz30DP3bN5+g3594lbNzjJsB1H8JI5jtwzSkjq9fp9n300bAptABj/0+S3lfmP083751hKbaQkAvxhUE0CuNKlyTkRf9TFR7pF/NJeH+NN7Z+QFJWtvPmEjVdrGSXaH01HMBdYd4Vp4aUNg9bLdlq379WQPo0/QVBegAc5i/3K8+f0yBOvY96mtbYz3OswDZr6mse1WeuV8gV2fAvI3HCDtDQC/GlQnQRblsyJSYRdgEmaSUg7MRTsmq9BsgS7dJYx9nRh83JDmZAWf1uFY9OobnJKIy6H+zJGxlKqALox0/O7d1it7en6D39vWxFC2c0iBUg+Pazxf3OtGouQuYQy84oK9P5QCgb49qDII2jONBvGZm01gI6EW4MgG6lNuRBYPJjT7v7aWzDDpH2W0tvirlX9s/PAjgZCOIU7BrjGkhm3a2mI1zCd4e4xNin1iSel0/fnarAsoD0SE2ioHpzI2RKTrF4D5JuxTg13gw7etXgSfg3tC9b+KKTB+PA7KiXqw7BPRiXOkAXUB1wLClAS7IzKFShkwSY1ujJntcjQzYPSee/Fry+gCI6ENjRKtQNqZBN54Jghpk1JCFxXOBOptULsS8hYlzFan34bDaTQCAn0dQgPl29jaHEIxxgHPOV7PAwdT7CviXt4/SYG3h/djdQQeuH9ezrIILBBshoBfnSgfodrkV2RkIWp9VIP55BeaPlCzRnQp0tjOgFz4zlH5xlcfImf25ZI+F0JTPGvDUuQHkokq3LapNUWwSm5/RjHvmvE0FBsxwVxvtDLD14bleZ83Po8yO4+P7YPbXrHLZvda872Dz7zbXFQJ6ka60gL4+lQwHAMJsNbTWQd6CNCvY2auVnQugSylYyttCCoMjGjJHAA6A8eMEdM7Q1fUgK39DZa4/2zHIgAdgh+wqslkBdi3/apXaeexPAaURoQFocmBSP8tCNCLTiq/x/ZsqCbJzZO7cY7+2ky7uHKFEdf6g7ucQJ2x+iPvg/hCwTIY99KJcmQBd9NyRqYEIB/b1SQXkD5TASnSWdiuQLzSg26VsO/OWMrv0rkWTvdnMnX+cgO7M4qtzY3QPs+mQnNUysAPGwrTPMXxxv16qHs1Gxa3OEOSQ8beabY/f2eI5mIGHBj1sZFezly7TDDJvj8ClOSy5F+fKVHK3S7AYoRJDk4sqYwNRaqgAgOJ3zn7L8U2zwucZ6CYb9Pz74uYJzmpxTfheob3Z04G5tCEAxsimEVggW7+4dZTJgiibLxkXN+1HngyM8G+ANrJegCWOoWfcdYkeQI7Khya+4Rmc5362tDtgm/q761+j393wGp3fNU7xisKU2YXUJ+DOrnPqOrXE7TDr2Y82ToWAXoQrKCkOgIOxsOsjE2w5ep/K0m+KTCpQ6VsFP/SkL3it1ZsWZrhk5ADTNiMP+3GW3CvLk2YyMkOOsrTWho87AC+Ss+6WhIzA4TWtliyr3K97PE0qJQB/Np4pSzB/AWNtW2K9q3bfuC5wJOBGd11kjK1bG2LnQkAvxhWkhy4MbgCM1jTX7mIA+NVgWrt12Ac2JMfE2LxFAduF9nHOggGkuI5CMe2DtAIckZfKpNDMeL2Wih03hi/I3MV9zTaegTb8jPoerhskM4Alg7e6P3vbXvAoz8uzF/4CbFL/cPxlenPvEPXnwR/wtZpNeb+n+H4QUCSqZ8I59CJcQefQkQluUQCEP+7o8d6i9l4FLHZJuKCgaXrP9rgcMliUpqGtvtG4irWY0bGPa4xLKgPSG7dJY3prmdZWl1+8zO83mEmBZqO13mr81Kus+3VkaQ2ZTkxz8LoO1qlPcNasbV/7C1YhcbczEIygzXJAnWsfW9T2hSz3Yl3ZKMX1W8Cq5VhXD0TdAOOU/E02/MbWYQZEBpnK1eslu8EvYTLzQUu5LeGM2bklXJOfo88vII7SNZfo1eaAxMjn2oI6TqvBWMvimUv5G4EMjgGN90nj466rANm/H3YFxvaXx3UgQMHzFZJfIhSWKdqVjVIcMuVNCkh3evR3V6usLQDazD3mAbpKgQtK/1uNS1pjAexbs7keYdbbIGxbzko27ZDhrHEz3MNGNkzRJDoxTqmxjlUp27zOHTTgnu0KgDOul4H1bmvGe1Uc5BgV1s9vVNe7zWodMNkvFgrLFOXKRSnu45oRt6sDAMX5jZNOrxqgtmRY9qtRJbCzV7mOhMnIR4zCmw2+9us4I7eybK2rPscGKuc3jTP/AMIx6IWj0oCSuyOd6wJYCRpGTLsBWT9n/80zTAS0s3q/ACtutS687s85j1HBky268nETXOBne0Lp16Jc2Uq/ilxp9ccw7y1jXwBHZOU3RybovtJ5rg5AHlXryK/euJo9NqfL5Hp0T6xK7Sw65RlZHuR2ls1a7QbUdel8gHvlbuU3R8Qmlmw1iKUs99hN9l/nCgT87qFFnXcnu871efbcK11VAbDbpfxf5zJ9qQiV4opzBQb0HHTaBQgLkakDcBjQMdal9kXj/Q1/70KBt9tJDqAN0ERvm8vrNaa/rQBYyuRewYQouiEAkABoqEoEWqYcxvhbOwdprk2Pug1aZXN3xjxgvX5h4ySXwTH3LgGFfPS7N6mqCDnPvmd5Pffva+ZXSNi6n1EI6MW53ICeDzi6Qam6PD9rVRvQoZl+EwP6AgO6tirtzpsUJtrrGsg0mIk9qfTpGw14NjNZrZcBWZzg/Mxd3OYv0jdv4rZBrzPqZgcGXhmzXKMQADtcbQa5fr9nXKv23WsT9Hj5FN0UHePnuOJ9MjK04kEvwYL3MUNAL8p1Wv1xPrdu/tLZdefpzBVqr71AXVdcoN51OQKiT9lcvufHqM5UGdCMa20Tij70tBnrcoNUttcswG1n3DJShkwYGTTK3FNGV33E6ZfP+RIC4yZLd4+qYaYb/IOl9uRoGwcMBpzdGXVqtrzAP49gQPgLtkpduvvEdaJ8juqCsOblOuX+5Z7kmv3eoxDQi3NF1R/nvWvPfnRsbTcdivXSdbE4C5nUlmeX+UomabOy66ysT0Cuxsr4sim741jo2R+MjtCesoQDOrmW26XSsFnd6zVlg3S12tvFdjXWy9rqIIGhd7ynbJBbDG3GjrXD2LS2GMGXTNm97BqxNFXHQKZdb0xd3A5qbpAW0G0zhjgIBOoDuNBh16ufeTA2Sj8sW6S7ItO0RZ3brq6IaNAmqP+pY++PDhryW5fPMUNAL8oFQP9B+cylB6Iz9GUVFT+65gL9NLJMZ8uDg7onqWr9+ZQSstf3s8/WU8vByCiRWeYyrtZvgflUo7EYNcdDoLC0ZYzJZxhDwwYZTRulaPCTn8/mnDiXTAmgzC6tCwFvd/Zs97eFVIeeOzZ650G4A9rZbdEYvCymBFhS+Rg16nM4fq96TXeagC50WyvOtaH01Iknm3s/GuoYo9caZuhH5Yt0Z2SS7UhrA/bIbYEXIYzZAC/flwwwF1W3pPxspwOCmQRl0p2j3gi0XBcdpi+sWeR9JDJGexSAfwYiLyqbPRqZUHuSNdbBKkfZH0CMcjlG1ADu2dwHgLTRSNVmY7AihLoWw3LHRuUgSHUCz+iYuvZ7SudZQ6BDBSxspmO1AtArv0Y9h7tKZ+m+NfN0qnSatvlOL4SAXpTrNvXH+fG1w5d2qTcWUfE96o3+2zVL9Hx0mTP1bAEd5iq23We/q4SbLZj3Wtvd95XesVslLu5TMvYC9EFD/gKYcW8c6m8t0/SLvXH61VXd9P7ePt4o82uRGA3oMyZjD+56pgMQnEdrsc8bEt35lGcVX7/yPlKEfVSGD0BHpWI4QEAhx5fn5K6YMPmtYY6DGsz1d669QOfKl6hn3YUQ0C+jVRs5eWLo4Asf/edbn6NfHuyh/gb1/zyySDcocGtLk4G6e7BSttXysL0qo+2hjhh6zV1O+Ro7l/GyCteushjjWpXNq+Td6Rs4VBhAbzVZ6e2lM3R36RwdUvcM8ZT9CtC1rvos3aiy2hORKToU1c8D97fFiLugJx2UYS7gKTPn2fiTSzCDcyM7R3VgI1urdmV8HV4DsD6u7gGz5KhAsN2rCQbw8YC6l3sjs/Rk2Xn68RXn6VsqqLs+NugT0IWAXpQLgP6ttROXrle/DJg3RQT7tyXL9EzpsvrDHgzQU8hrRl0M5WGAxKhRShtwgVXQ3aMyxbMKYF6JLXE7wAbjhNk2cHtpqHuBbkrloCKVrQ5gW1YZ+bt74vT+vl4mr729O8HCLrg39L2hCAfgD6JjL8CJgAG9dyl924DrZRfrJq1J6RzVAXwcCuBzbvfj5VmktEUqdKABHfouBeIvRpbpebXPrQ0B/XJa1ZFTJ87sPvvR+0d6aXn3CJ1V/ycfL71AJ9GnjsWD+24bNvoOBTjodd+rEgCA5A0qK4TF6kZXqTeb0jjK6ygJt5mZ7WYzFtYYW+muVmXIZ23c6+71Lcsnx+E6aYs61h5mjqM/3U0b1b+vNVamAPSbIzOc3bYzQ72Py/CH+b4GAvfwpeXg7q3bXIEgWXqTufemAJUOEaMB32CPCUA0mCcV+BrU5/eo9+v5ygWa3TJO7x3spbev76Nvtw6q83SFgH65LJTcn47Nf/RVBeRfK7lAf6PA/AclF+kF9Ue9MyCg2wDEJWwF5vMqk0Q2yRKm9RrUc+lzo/z7QnSZvr3mAj0RuUCvrHWDlDcADpqs1GaP+wG6uy0AgAMBb0mB9vI2tbeP0MLmCRa0QZCCnjqY6rMK2AcqUu1T/cveyWqCDcLxDPeSqLDn3hcd8RkZicvUbnBsXTeke98WqWutBvMfr7lIP1TvPwIor7J7COjFudaqP84Prx/86NnKeXp67SJ9U4E5mORQhMPcebYl5X0KvAHmXy9ZYnnYB9XfDwQHuxT4CYhka4+KMa1DkVGuFO5Ux7HLzjagO7rzTiYbX1Hir7DAVbO4uxwhF/7Zch0wQHr1ACukDXOGC0MaPQM+wHr2sI5FT7/GIq6luy/3OFqmfrsd0AgHocpiowdxlhNiYoOZ4XcHH8KAfzA6Sf0Ns/Srwz30vx77Lv37C4/RxB2v0o71XqS/ENCLcJUA0E+8XL740U9L8cd8mfARYH5W/UHvCVhyt8FDk7cgDzvOxC9syMXmqigHQH9RAfrjCtC/pPb3Ikt0Vn3Ny5DFZsRLOd5mbcc9gN/N6gaAjhlFPPTSh4yLGohr+DqyY9wT5uBBmrOJaelA089Ktc8DcPtdmbntfpZ6X4UZH+w1VZDn1Hv/pALzbyOgKwsB/XJaIMVdW9b/0WkFuneUztCtpdN0JDrGwNnkI6eaHGFamUXuZPewOfqu+pvxIxX4P12m/n9GFph4lgugA3hR4kaGfJPKlo+pbPK66Chnycg86yyTEqkStBrimsxp19qMcJMlIxPfzZnrAGfyYsEKcEcmq7XU+zkTbrCc5gDoOD9667CODQromb6frkIhWb177j3btoV3Sb6Lbi0boZfqp+iDO8/R/518gP7fr2+kd77/E/pMTU8I6JfHKsHY2onudQsfoV+OMit6qN0BWO52X9sGdNEcBxv7nZ0DPJ4Fz/REjkpu6OUy2Kgg4zslej8bXWJC2JCRVHVn3OxyZhHm3L10AX2UwEdco1o4rsyZD7hY6jgfQB4EOczBw6hmwPSlC2n72r+iepA6kz5YWVgvdCHCvaJA/GmVoT+pnvGrYYZ+WS38ca4tP/PRJtYkjzNpqsVkc34gIP3celfJF/1klMU/hxKu+r2Z2TxJoyrQ/e66Kdody83EpdJkmNsVuALMb1fBAjYAFdlzkykLiwgLwBvAC3nUbQaQ3XrwCAKuVgHB/eo42ABmzIPXGUW6TWZOHAQ4IY/VcqCghVZAkkNPGr32QnvBp2tpVGaYOc9l4z1pLe+ik1cMUu9VCfqvz/6A/v29R6j3y920/Ypej/csBPQiXBrQe9YvfNRrMjXeATI6AIAX8HPZXWWzyGJhUvLWzoQuTecI6Dg+ysFnYhrUnynV5eBBU3rut0RPbAKZjJhxFu8BmEwyq9MubQkLlKUE7ibViUocfj4J6FPOawsFrnZwkjoCmDrGVmhhHxvUX1Lbb3QxBPTiXDKHLmSzTCNlABZksztVZnu1As3trNRmlcjV9w8r0Pvx+lma6xijSRXcPlExyprjuYyY2SYo6GvDGOb20nkmrN2ggHWz5RVeZYh5AN29CmxBXGt2KcnhcwQdt6jXfn3NeXpU7c9GxrToiilj23rxlea5cNmarVL7uFoggF73MQB6uiy7ULupvJPurIxTz/4xStw9Qvdu0z33mhXEuBDQi3AlAT1bkNV//JfpNZTm13kAZo1mi0+xccqCr1hJsCxdgzraAMjWu1XWLoAsxid2yRygO2kcy7wqA06f3cizemXxfkDLhiWNs2Yu/eOxbHUCloDXmQ+o41n3pAnsQkAvzpWNUpz0qJH1XhVN0NcUsD6ogA1sdruP3aQ+P7q2lx6tGKavrh+ho+UDDKy5aq4DVAGuyKShI3+XOu8DCohB1D3EWXq3o86G86Acfyg6TtdER5lMZ1uwVhlAx7GOKyC/CeS2qFZss1sC9hy4lPJlNA/EPxDiNhui38cF5oV2tXPvNgXeh9f20JG1fSpQ63OkdVMDiRDQi3DlBugCssiaX1Wg7leit2VivbLOoCBjVwRQgke2yv3shpmUkrk9hoYeOAhsAOx0hLhcAg0pg/dv8CbcFXqL9G2ueu2F3CGgF+fKBtDFBQ0b4jMPKHB9WIHr1QpUkUG7gbOFldZ0ab6mfKWAihuw0s2TA0wheILZ8DtK5+hrJUv0WMky3VY6xW0CcT5rNwYyyKBRGse/7esSwRsxeEH/HGDeVNa9wnvdXfKusJ5DlXM/qw/oIv7SEFBMJuhzTRc4iExt4woyXQjoRbhyB3QGdQWwnSpjxkYGLZmdA3zrUwE8HZjbJX93NcDOGuNi1KIAHd7hyP4x+560WNVz4gDzCaMk5wXW9qhdvmI3q5k14xpREYBDG+bF3UTAENDDFWRlm6E7piFq74nFeSwNjG+Uw9t5TEzPnUvZuiZgSbrKpSLnZqXj+xgnQ/Z9Qp3vgTUL9KWSRbpZnX+zGU+D8MqusgRn5gDzw9ExZrrXrOj1a5lXuUYhxFUH7E3j9S1rO+nGxi66tqJXHaNzxXPKR/LWfS5Y1EIdD/eSjTqetCFyyexFuEfsa0NAL+qVH6DbmfqZ2HIKqGcrHdvj6svL6919fQHuwUrbmcxSPTNe4gB2ni2vSE9ai+cI6FI16MnyPrPd4B5gZA4e6zOt0yn9/hDQwxV0ZWvO4s7Yd6ks996yKborMsuZOpzEkNm1mKw3CEiK0AvEUtrU8WwBGmGmC7CjhI7+OEbHDkQBcvBDT/qji9IbsvkOSyvdT3OdZ7vLujMGH3aAsXlDNz18S5zmHnuNXj0yRMcq4Txnl+vFmCV/QIe4ywF1P0eieu5dO55lN/uej5Z+yHK/LFZmQM9kytKpQO3Z0mWeYdYKY9kDOpt+8OjUBXo1ppn29uvlc5vxPeChQCfiKwOVqWX+TBl0LoAOMD+nApnOtUurAupOBaHiPDPr4a6mqxHBAX01gD8E9OJcmQDdr2TLZVkFNndX9lPvpgl6av0CHVcZsdiaoozdYCRG0x272mSCYNZfVz5AJ9cnaF95H4O0OxPVlp69LLsqYF1vWYu2sUKdmU8v145wmca8qmwVuzQl96pY0gjl0MZ++ln8Ofo/v76f/uXJp+mpreO03ZDzbJe1QpXbt8T62Pe8Gc8zIEAL76A+w3uQ/Q4BvQhXekB3i544Bivm6/iI8aYfrLnI4i+dGTL0FSV46/jIwJ+OLdDDKgP4XlSB+9qVfXmv2fHkcc57zqYHAbZsDGNEVQ7nAJhLVaLggG4z9x3Vu+D9frdwTgjon+6VDtABCm4hEzFKgejMwbJh+snGUfrViTP03KZxOqr+vYX9s+NMThOWuA3edikaDOrNRn2t/Youen5XN/3shk56ZesgffYKKS8nXw8AF2MUGUerNMdsNC5m2DYz287wfcHauKv5+4UnVd6wr60coKF74/Qv33uGPri7k55omaErY73J8bICAqg8t5osDW3qzPheu4c7Wwjon7oVBNBTZVYHKjWLHP3phAI2zK6/pEAdH3uuWNlH98yEPXy/u9VrnipboFsjU3Rf6Sw9X4bjpTKtbatQN7D1V3jLp9rnLQSgsfY5nMka5migajHt/RYC0PXzWelaFyQ7L4QhTgjol8dKD+jnHE9s8QIHmQxqcMci43Sz+j/51fox6r6qkz7XAJeuhNEZ73V01m0imRC7ak2QYAP0lWt76bXdffThXS/S+8c66Ut1Q3wuyZo5U1UABR/0zaxjnmrMorXZtSSqOyMVlbZ8Ss8y/41zguX+lfVT1LN1mp5tmKfPq2RjqwL0wmXBqdwBCRKCXj+eGWRsr2VlvQS3MtBWqM1SQz4E9MtmZQB0BxiSntkz7VP0/qE4vXtggKbaplPMUzLNsbsBxp6pRqb7k8gSPbRmgf66dJ6eiers1y63D7oyVbdVq185ulCZqlbCW6TZlmla6hijxfZxGm2YC6Tnnu15vDzR7XvIZEVrP49CgnoI6MW50gG60w82GTDK3KfWDdGPWsbpu5WzdHvZBO1AOfgKGLHoMSeUu6V87Z7/ZsU1BSyNZdpxTDLIdh4DS9CjCiTPXztCbx3so0dqx1ghTmxCUYLfVzZEe9Vu5YzzXApw15leuJePt9tfPFeAlRI9rvu4Cmi+GFlgmVzMpQc1svF7xu6sXq65yqoMBL3+xvIulsm9rXSGrooOcdVCFO+ycXkLAf2yWcFJcQMVmkH+7sEB+rdHvkN//tzT9PqeYYpXLKaCZsCsUTy+AZD9XL7WEq9PrVmm76n9olXCz5SBx9dnzsILAWaiQged93d2D7BxC8hqWbmurV/J/F9RbdiQDKSSvugrrWnT3XNKgJMFnyAE9MtzBSHFiVLaVgVkT7YN029ufI3O7xqmL68fofryJFM8Xb/WztDFsQwZ5EEmsQ3SvugwV+G+c8UifXfdIp2MjjvSq8jmAUpajjXuCdo1hpHtVe7OVHbPZlcZYt5+db3HjLUqrqvRkOrSldylfG736quN+UyTSwDHVodL9uWD3VM9e8djzn6SJXzxzOtSxHLyydJDQC/CFRzQBSDO75ug//HlH9I/n36WXt81oqVP04CtH6CLD/dk4yyrviGrh7sbgByKcGDO2/Pt6bJsAbhsQT7bzUFN9TxNN8/Qz/cO0G8PnqU3dwzzfQTqa3tck3t0Ll353W97tRi8TGkKkaWHgF6cKyigaxW2Tnq4rZvePf4KjXRM0APloyy9Kqz2dIAux5B58c+ojPzuyDR9o3SBTirguS46xh7kMHKBnel+k1lKaR2vaTFua36MdbcMrV1qLwSYyzx8C7uzDbJ4DYAdFQYBzXQOaFpxLhW8G01w02GO4Se362Xo4gfoCGxwTTvKtGBOjfUMxYAmBPRP1QoG6DYQDTUs0NLeMXp9px6jAqvctioNXFY2rmYTEIepnefMF18XP+4gevKe2e8GbwB0CH3rsyDACTCaLJk14hWgw6Dl53v76R8OnaX59gl+BsF90c+vKJ1LJp7WEc16H9xld/fxU7gGHpasIaB/+lZQQBcd8d3ru+iLzf10/7oJOlw27Fh5ClBkAk5hireUd9FtsSH6WnSGTrPpyiQLwiBb3x1NGOvTLgeo/QxhPMvXlomJgJl9nFyEVoR8B7DEveIacb1bDRBLhSAdoOM4TWwF2+f0+vFaAPoWn8pDrlUEXKMIw9SYUbcqJtd15sl6DwG9CFfwDD0F1BWAgRSHDaW2QR92eWbA1CA5VLXgqKDZIjK5lMTdVQA9j55bL9n2VccxxMwFgP76jhF6a88gjaCHnqV6mzsjj2dRScjE1pdqCa4X75MOuBYcAZx8qxYhoBfnCjqHbjuVoV8M4N1VNsiZYLPpz1b7lLu9gBSfwxAGPV5k5gBH7dkdd2xRswW3SqvnzGV646jWHtOZvnwvm9Evu48tBEGAJPTiIWLTaLJqW0UvHaMe43RQqNsm1yUtC1fJPZ8qQhUb0Gi+QqslmpNLQBMC+mWxsheWEaU2ZNVQa2NnMuPz7QXoKUpvHgBkg2Z/RTAp1XgGoBSddgQcCxsnWQbWDeqZAB3fl+uSwGAM7Pb6OdaJh887jp8LIc7OoiWDLkRrIL4hyU3A+wPXOxjIIABJraSEgP5pW9kKy8jYGkrE21i8pZ/tSv1mzsWPu9ESi5Hv1RiCGXrQKA+zjakJDtKBm5/kqgC6dkzrZWLYHaWzdBwSsGZ0Kxv7UTvTrzWtAvFNbzGMenff261w51Uqb+IMf5CuZhZ6XEvjymhgnix00Z0HmKMSIAI7Auq5WK+GgF70KzelOO1oNs+ggbJ5uv45C7CULzmiM37A5h5HC6Ls5vf9QdOfn2udoqX2UXZ+w7+9xt2ClMd171xLymJPNMyx2Avu3y87d5fW3V+XqYEhH4vXXHe/uX8EW4vtE/Tu3n5a3jLKQQ3ON5indGwI6MW5sgV06SO3WZ7jLcZ61A2y+Fn0m2F9Klamdum71hznyugA+4wDgFqMII0fua3W6LD7ZbQiPgM1uVOl0/RAyXn6/JoFVpWrN8Is2RDkKiyQFECX7VciRxADwxoYnLRYY3RCimthc5thuj0yRXezr3rCmRXPF3Dl/WFHPPVMD0XHuPKBwKneI6gKAf1TsbIruSf7uIuOKtugyc69AAkZOUbPXo4u0wuRZXZKE1C3+92e41l+IBmAgIfrAoBdaB+ji1tGeM+0TPHXcwFOuyoxYVzc8PmQ8SZ3378AtiPTmtIvTwYJqG64HePyHq0zzwj3Ordpit7ZM0Bv7hiixU0TTlCT7rUp/fYQ0C+bFZgUZ81CA3QAGBtZEa7XkXhdOS52jjbFepnNfjQyzgDDJDfTixaQ7GD/cp1JtrGUqzdY1zHTPq6tUa1yt7tMjnl1WKt+fs0iPVxygfctCjjx2lwAzfZab7TGvyTjtYl3KKnvVED+eNUofbtqgo5FR/U8vSnHS3l9n7rfr0Rn6dtlC3RjRDP6/QKjXEAd14dZ9IPq/CDucUCVxoBGXhcC+mW5/AE9kziL9GmlbOwFEKJ3/mrZkgL0i2y3ymS3NFl3OlCzM/pBAfU0gL4kgN4xQvNtkwyeudqd4nXQiEf5epRBOHkdQ1ZQI/cyxH7tK8HeVtrDMeRn0lUnBGizGo1DUKGODS963PtU04yvPzw2gopR833n/fZogfSEgF6UywvQhTxVbWXTdrm20iJd+c1+SzaKbBnZKFzSDqiPkrHaAUKt8TtHlorj1pZ3+paqUeYHQKFcDTnUWhdjWwN6nEe27leA/pDK0B9U+9bSGTZ2ybVXLQQ2qSBUW+V4AXUcF9d4ODZInY2T1Kf+JnwxOu2M2onMLe4R147RvL8um6br1L2g2tGWpnWRy0Z/fhu3RuL8PohzmiczvlxfV+Zzh4BehMsb0KW3zaQqkN5EH90N8BlKxb3Gxxzldpi3nI35s9eDqp8JoAvhy6vkzW5sKotGVr6wcYIBbcJYrQK4/AIBL1CUjdcBzOHiNmLaDImKJKAPuvrhQkrz4wbY9+IlHJMa7Mj3swtGpLLAwUWNbpFIid99nhETrAgXQt/bghM44dysuR8CelEuL0BHbxuErQMqCz4M9zIFCFtdpWMAfr1hd/uNWgG8ACQAYfSMkaG3lPWsAA1HAz2NIpoAOmRlQcgDK/56ldnCgc39cxJE3Fw6RXeWztFpBeYHjWqaJvH1ZAQum0AmdqJ4Lcvacibd5cjiaia9zthRNbha3ecPq6bo76pm6d7oJAcYDdacOj/fsj6+D5jMwExmqwF0v+DI9mfPrvyug4h6q03g1RoR6Vwx07EFb1KJdCGgF+Hyz9ABADMt09x/xp5SGW/CjJYF3TagdxlZ2HykUu1yNUhq2F7VAcl+pUQ+ZjLqAQukghq2yPkgd4vAYLppmjNZycoTNqBvWFxxnY5srqtNIIx0L216vyAmXTXE/z6SARB84iVLl2NKiX4EpL+6OSf40K/R92lXIEJAL87lBegA1oNlQ/RQ6QJ9v/QCfT9ynr5YNkH7XUCYaYQM4IG+OGefxkUt15JypZnhRokfgcHNkWne22J9K9jzAC70jNE7PhQZ48oASv88MgZFO7Uzsejdo28AYFQGEJhsMeArtqvNhiAnoLmZde6H6HoF1mgPdBg1PFy7nBdEOHALdvOY3iBzCJo8qge2e1supi/C1GcDHMswR2Rl5fj1hhWf0u+3pgKSZL0Q0Itw+QM6/vAju319ywi9uX2I3t6doIWOCS7jBin5cnl2nTEwEUvU9blZq3qJqdhEOq/2gAAt7kMyasky4xsyM91tcRZ8RN98uWOUFjeN67J77ZzmEFgld7kWm0znVBOqVmbGfmYz7hbDoCHQSd8+Wx6AjAfiHjBHL9eFIEWqCMLit6cB5BkmAX0xBPQiXX6AflSB1zdLz7Og07nqCzS6a5J+tHmIrlrbk9EWVMAAojPsvmYAVMhl2ZaUKw2oitqZKLWh7M59cdfxRPwFQMqVgWhCAbAehROltpoM4OgGdJTIj0YmOUDYpY4prnIbjXztZiN721zeyWV9fA8/g6oArmFHdIB/VmbrUeLG9eHatAJe/wphGXtUUAcL3bmN8xnOQnMs2aPX1YRuZ5xPAN2uuAjoh4Be9Msf0AEAGHl6Y9sw/XxPP/3+s6/SL6/poWn1tSC93J51Fzg771cAMYhM2vRmcwF0W0DFJpa52fHuMrWTPQsgVeQeRAD4ULFAL3rczOAjo5XjMwtefQ09a1Q3BDRh4gJlOS51WxwBP8U3d5DBrQ/T35YxQeEByH0GeT+4bG+1BXBtUOnD/UhJHp9jSzVDeBK293zPhvkQ0ItweQE6ABukrccic3RGBd7TV07Tn77wU3rvli56tHKYGjMQq+qMTOyh6CgdiYzTHgVqTQasql0a7EFLx7r8mxyDA6jvYcnYIfZEt33XZbQOoL7FMPFbTZncHivLVGGwS+6tCvz2G9EbgPNOA8KbTfYNUL5ZBRhfWTtK16lnB4AHEe2Euv87S6dZGa/RAHKt2L3Ges319aW4x7lBvcb03b0mAIKCu2jyy/HRMkHFYKOpGjQYP3r8u8Yuu7s4AhUhoBfj8gd0/OGfaZ2it3cO0nv7+ljmFOpo402z1JdBolSAG25kCAqWMDbVNq2+v+hr3JJtb1iy22S52xuU/UA/6DlsAHZIcNXJzF+CBXxtVj0vMMonAZImswXITxqQTCffal9z3AXEOCfOhYxazmnrvOfCjMdrhmoWHHEg3A/eb1QgcM1SVRhyhH90lt9XEQJ6MS4vQOc+tAKQr8cmaVC9/xd3jtIfT75C89f10X3rB6kuXWbLs+W9zK4+VTpDp0vn6G718bgC3jqHDJcfg1t61ShZS0ndbY4iWSlK462GEAZgzPW8UpZujGmxFtwjsnAcH4HDlepavhCdouevWKDTZWMM+NgA9NOlkyrD73PIgALq9cx4N2XwWLIM7gZsYceLwYqtyJePg1ydOb+0CtpNENIswYWL+Mcl+lgI6EW40rPcJ1Vm+daVg/SuytB/poB9RoGzXw83CbIGaGvmmWkOljmMTJa3jTDAF8LC0wZbG7C9fzazrGqmLN0Z2bNBOKX/rc8xWj9HcxsnuXTtAGJ1MuCIe1y/G8C9nk/CCiLAsLdH5nJl7cuzQald5uvxfoEvYZMIZTRx2OgO9FfOhoBehMtvbK1egcpD5SOUqJ+lWfXeD7WP0OP1CdpS3u1LWqsymTHA7XhkSgH6LN2zZoEeWXOB7o9MK9DtyhlQbXKYKLfx+JcKFADoGH2r9Ph5Ac5c+s9+wC4ysAKE1eW6vXCDysIfWTuuPo4wmO8w5XRb1lXK3UkyXarYi1flQEbmBNQlOEnn4R4c1LWNrbQJtpmKhpji2Ep5+t9nQkAvvpV+Dh398jn1x31h0wRnbenAw1ZoQ3l4tmUqdQ68dSpvm1E/Z7JcGOC59u69fiZVK32Rt5dgTq7XIX10ACxK+ABfZOvDRnY319n1uCXjC/U7MPgB5sjSMSHgBCbVmjDHY39VIaAX4/IDdPyxvybWS4+XzdJ3YvN0hwL3jvJu3+xa+rDIXgFiYKEjO7+rdF5l6PN0Q3SMGvIyBTHjdJYPOmvCqwwTpW/IqaYzhskXyNOV5Z3SOJzTMP5V3sUVg808LtbnqOR5lfODBhE1BtBRdhcyntjU5nP9tYYshyqGFguKO6Q/mWKwZW9DQC/KlUFYBmAJUKrKzK52SuCmlwyVtgsq4geo43Nkd4XwI/d2K0vPFF9NQE9bRajI7bVe1wHgnjCgC0Afk0y9OrcsXQh3Q4YsJ9r8fI6mGf4o1QCWu23Uc+xhyb04VzphGZTId7GzWC9n1+lK5VUxzUJH73gfz51P0snSGZ7/hqgMSGX5zlfbgG5/DaC+ySih5S9tagFplqpy9hYArjciNPlcl/TRQbpDj1vP//c4Pflcfdgl8282gN5qfRTWvi15q4mNYcm9CFdu0q9+YGuPiwEAUMIFuA87LPP8PckzleALCehud7NcXmeX6vMBdIDr0pYxWmwf5yxdZGOln57tc7VZ+Lo/P2dc7xZT2gXyXs6aoCxkuRfnCqoUF8RFrc6Scr0qOsKGK/uYEW6y1AL0z72upc4wy9PNxedWXj9retq5gaVdns8X0AGwGNfbYWb5ZQQw1/t1M+hFAa/aagVUW6X+FmOYE7Lci3KV/NVtpfcf61w38xdIeuaz8YceDOg+teOV85cGqmd5x1VGh6872/xsvudbcW7XXo3j5not+VyXvG6wdubS1MaxS5OtE5cSNTP8nGVne+yUa8L7VaHep0p5rxac90reS5xvuH6afwa/K/id+aR/c8OV3YqsueXYhvJX/oI/1Pnu6vIzl2pjZy81xzovbS7rvrQp1n2pMXbuUnXszKUqsysKcB6vXVluzqE+FvK4FWZnfz2pr8v3vhvUc9xS1nOpXT3XevV5pbpX3nneL64Lz63aenYV1vdwjhr1nuKc+vuv/AW/M5/07224slxbS3ZX4Q80sq5w/wffEbM/qXOrj/hdwe/MJ/17G67sVklJRxX+QEfWnDye/z4VYBfiPJnOv5rn+KT2aj7LdMd0n/OWY/id+aR/b8OV0yoJd7iz2OEKV7jCFa5whStc4QpXuMIVrnCFK1zhCle4wpXr+v+adPBSxCTdGAAAAABJRU5ErkJggg==' style='width:500.0px;height:300.0px;' /><div style='position: absolute; top:0; left:0; padding:1px 3px; background: #777; color:#fff; font-size: 90%; font-family:sans-serif; '>initial snapshot</div></div>"
      ],
      "text/plain": [
       "<jupyter_rfb._utils.Snapshot object>"
      ]
     },
     "metadata": {},
     "output_type": "display_data"
    },
    {
     "data": {
      "application/vnd.jupyter.widget-view+json": {
       "model_id": "",
       "version_major": 2,
       "version_minor": 0
      },
      "text/plain": [
       "JupyterWgpuCanvas()"
      ]
     },
     "execution_count": 18,
     "metadata": {},
     "output_type": "execute_result"
    }
   ],
   "source": [
    "gp = GridPlot((2, 2), controllers=\"sync\")\n",
    "\n",
    "for sp, img in zip(gp, [rcm.max_image, rcm.min_image, rcm.mean_image, rcm.std_image]):\n",
    "    sp.add_image(img)\n",
    "    \n",
    "gp.show()"
   ]
  },
  {
   "cell_type": "code",
   "execution_count": 19,
   "id": "889817d7-a4a3-4a60-8087-fe6f13f165d1",
   "metadata": {},
   "outputs": [],
   "source": [
    "gp.canvas.close()"
   ]
  },
  {
   "cell_type": "markdown",
   "id": "111e2a5b-fa04-4e70-a3f2-9c01ddf551fb",
   "metadata": {},
   "source": [
    "# Visualize RCM, RCB and Residuals"
   ]
  },
  {
   "cell_type": "code",
   "execution_count": 20,
   "id": "ba8f33fe-a170-45cb-8e89-623194117446",
   "metadata": {},
   "outputs": [
    {
     "name": "stdout",
     "output_type": "stream",
     "text": [
      "Decode mmap filename /home/kushalk/caiman_data/mesmerize-core-batch/09610b86-917a-41e7-a493-2d036bf44428/09610b86-917a-41e7-a493-2d036bf44428-Sue_2x_3000_40_-46_els__d1_170_d2_170_d3_1_order_F_frames_3000.mmap\n"
     ]
    },
    {
     "data": {
      "application/vnd.jupyter.widget-view+json": {
       "model_id": "2352416265fd48eea2aad7cee67cdea1",
       "version_major": 2,
       "version_minor": 0
      },
      "text/plain": [
       "RFBOutputContext()"
      ]
     },
     "metadata": {},
     "output_type": "display_data"
    },
    {
     "name": "stderr",
     "output_type": "stream",
     "text": [
      "/home/kushalk/repos/mesmerize-core/mesmerize_core/arrays/_cnmf.py:246: UserWarning: min and max not yet implemented for LazyArrayResiduals. Using first frame of raw movie\n",
      "  warn(\"min and max not yet implemented for LazyArrayResiduals. \"\n",
      "/home/kushalk/repos/mesmerize-core/mesmerize_core/arrays/_cnmf.py:252: UserWarning: min and max not yet implemented for LazyArrayResiduals. Using first frame of raw movie\n",
      "  warn(\"min and max not yet implemented for LazyArrayResiduals. \"\n"
     ]
    },
    {
     "data": {
      "application/vnd.jupyter.widget-view+json": {
       "model_id": "90fc9032d0bf488d8995dd3654b9d6fb",
       "version_major": 2,
       "version_minor": 0
      },
      "text/plain": [
       "VBox(children=(JupyterWgpuCanvas(), IntSlider(value=0, description='dimension: t', max=2999), FloatRangeSlider…"
      ]
     },
     "metadata": {},
     "output_type": "display_data"
    }
   ],
   "source": [
    "rcb = df.iloc[index].cnmf.get_rcb()\n",
    "residuals = df.iloc[index].cnmf.get_residuals()\n",
    "\n",
    "iw_cnmf_grid = ImageWidget(\n",
    "    data=[cnmf_movie, rcm, rcb, residuals],\n",
    "    vmin_vmax_sliders=True,\n",
    "    cmap=\"gnuplot2\",\n",
    "    names=[\"movie\", \"A * C\", \"b * f\", \"residuals\"]\n",
    ")\n",
    "\n",
    "for subplot in iw_cnmf_grid.plot:\n",
    "    subplot.add_line_collection(contours)\n",
    "\n",
    "contours_graphic[ixs_good].colors = \"cyan\"\n",
    "contours_graphic[ixs_bad].colors = \"magenta\"\n",
    "\n",
    "iw_cnmf_grid.show()"
   ]
  },
  {
   "cell_type": "markdown",
   "id": "84301fdf-4d50-4157-a1ae-a76187da11e5",
   "metadata": {},
   "source": [
    "### Close the canvas to free up the GPU if necessary "
   ]
  },
  {
   "cell_type": "code",
   "execution_count": 21,
   "id": "69359b5b-aa25-4e3a-96ca-93440f82944c",
   "metadata": {},
   "outputs": [],
   "source": [
    "iw_cnmf_grid.plot.canvas.close()"
   ]
  },
  {
   "cell_type": "markdown",
   "id": "f19ab110-3c2f-4d0c-b21a-59641728424c",
   "metadata": {},
   "source": [
    "# Visualize movie, rcm, and stack of temporal components\n",
    "\n",
    "This example shows only good components, but as shown before you can also compare between good and bad components if you want. You could also use a `GridPlot` or `ImageWidget` to view the contours on top of the residuals and reconstructed background to evaluate if CNMF captured everything."
   ]
  },
  {
   "cell_type": "code",
   "execution_count": 22,
   "id": "477fb129-4453-4fa6-ae29-7dc3ba08568b",
   "metadata": {},
   "outputs": [
    {
     "data": {
      "application/vnd.jupyter.widget-view+json": {
       "model_id": "72350169896c494185635d371f920f06",
       "version_major": 2,
       "version_minor": 0
      },
      "text/plain": [
       "RFBOutputContext()"
      ]
     },
     "metadata": {},
     "output_type": "display_data"
    },
    {
     "data": {
      "application/vnd.jupyter.widget-view+json": {
       "model_id": "66d16a80a4ad4043b47697807227924e",
       "version_major": 2,
       "version_minor": 0
      },
      "text/plain": [
       "RFBOutputContext()"
      ]
     },
     "metadata": {},
     "output_type": "display_data"
    },
    {
     "data": {
      "application/vnd.jupyter.widget-view+json": {
       "model_id": "098ff986c9be47c2948be193dcfc09e5",
       "version_major": 2,
       "version_minor": 0
      },
      "text/plain": [
       "VBox(children=(JupyterWgpuCanvas(), JupyterWgpuCanvas(), IntSlider(value=0, max=2999)))"
      ]
     },
     "metadata": {},
     "output_type": "display_data"
    }
   ],
   "source": [
    "# 1 row, 3 columns, sync the first 2 subplots plots\n",
    "cnmf_grid_more = GridPlot((1, 3), controllers=[[0, 0, 1]], names=[[\"movie\", \"rcm\", \"temporal\"]])\n",
    "\n",
    "# movie and rcm, rcm is a lazy array and behaves similar to numpy arrays\n",
    "movie_graphic = cnmf_grid_more[\"movie\"].add_image(cnmf_movie[0], cmap=\"gnuplot2\")\n",
    "rcm_graphic = cnmf_grid_more[\"rcm\"].add_image(rcm[0], cmap=\"gnuplot2\")\n",
    "\n",
    "# contours for good components\n",
    "contours_good, coms = df.iloc[index].cnmf.get_contours(\"good\", swap_dim=False)\n",
    "\n",
    "# random colors for contours and temporal components\n",
    "# make an RGBA array for each color\n",
    "rand_colors = np.random.rand(len(contours_good), 4)  # [n_contours, RGBA]\n",
    "rand_colors[:, -1] = 1 # set alpha = 1\n",
    "\n",
    "# get temporal of only good components\n",
    "temporal_good = df.iloc[index].cnmf.get_temporal(\"good\")\n",
    "\n",
    "# add contours to both movie and rcm subplots\n",
    "contours_movie = cnmf_grid_more[\"movie\"].add_line_collection(contours_good, colors=rand_colors)\n",
    "contours_rcm = cnmf_grid_more[\"rcm\"].add_line_collection(contours_good, colors=rand_colors)\n",
    "\n",
    "# line stack of temporal components\n",
    "temporal_stack = cnmf_grid_more[\"temporal\"].add_line_stack(temporal_good, colors=rand_colors, thickness=3.0, separate=15)\n",
    "\n",
    "# plot single temporal, just like before\n",
    "plot_temporal_single = Plot()\n",
    "temporal_graphic = plot_temporal_single.add_line_collection(temporal_good, colors=rand_colors)\n",
    "\n",
    "# since this is a GridPlot and not an ImageWidget we need to define sliders\n",
    "slider = IntSlider(min=0, max=cnmf_movie.shape[0] - 1, value=0, step=1)\n",
    "\n",
    "# vertical line sliders\n",
    "_ls = LineSlider(x_pos=0, bounds=(temporal.min(), temporal.max()), slider=slider)\n",
    "_ls2 = LineSlider(x_pos=0, bounds=(temporal.min(), temporal.max() + temporal_stack.items[-1].position.y), slider=slider)\n",
    "plot_temporal_single.add_graphic(_ls)\n",
    "cnmf_grid_more[\"temporal\"].add_graphic(_ls2)\n",
    "\n",
    "# function to update each frame\n",
    "def update_frame(change):\n",
    "    ix = change[\"new\"]\n",
    "    movie_graphic.data = cnmf_movie[ix]\n",
    "    rcm_graphic.data = rcm[ix]\n",
    "    \n",
    "slider.observe(update_frame, \"value\")\n",
    "\n",
    "@plot_temporal_single.renderer.add_event_handler(\"resize\")\n",
    "def update_slider_width(*args):\n",
    "    width, h = plot_temporal_single.renderer.logical_size\n",
    "    slider.layout = Layout(width=f\"{width}px\")\n",
    "    \n",
    "VBox([plot_temporal_single.show(), cnmf_grid_more.show(), slider])"
   ]
  },
  {
   "cell_type": "markdown",
   "id": "5c5107a2-6245-4960-a265-6de869de8228",
   "metadata": {},
   "source": [
    "### autoscaling"
   ]
  },
  {
   "cell_type": "code",
   "execution_count": 23,
   "id": "514834da-9f95-44f1-abd3-b90c58d3a9b9",
   "metadata": {},
   "outputs": [],
   "source": [
    "plot_temporal_single.auto_scale()\n",
    "plot_temporal_single.camera.scale.x = 0.85\n",
    "cnmf_grid_more[\"temporal\"].auto_scale()"
   ]
  },
  {
   "cell_type": "markdown",
   "id": "8dccee77-ee82-4557-95ac-e80f363c2aee",
   "metadata": {},
   "source": [
    "### Interactivity just like before"
   ]
  },
  {
   "cell_type": "code",
   "execution_count": 24,
   "id": "36ff16c2-7675-4f2f-9b3c-26699e36e305",
   "metadata": {},
   "outputs": [
    {
     "name": "stderr",
     "output_type": "stream",
     "text": [
      "/home/kushalk/repos/fastplotlib/fastplotlib/graphics/features/_base.py:87: UserWarning: Event handler <bound method Interaction.event_handler of fastplotlib.LineCollection @ 0x7f4cdc1d2950> is already registered.\n",
      "  warn(f\"Event handler {handler} is already registered.\")\n",
      "/home/kushalk/repos/fastplotlib/fastplotlib/graphics/features/_base.py:87: UserWarning: Event handler <bound method Interaction.event_handler of fastplotlib.LineCollection @ 0x7f4cdc29c310> is already registered.\n",
      "  warn(f\"Event handler {handler} is already registered.\")\n",
      "/home/kushalk/repos/fastplotlib/fastplotlib/graphics/features/_base.py:87: UserWarning: Event handler <bound method Interaction.event_handler of fastplotlib.LineStack @ 0x7f4cc60063e0> is already registered.\n",
      "  warn(f\"Event handler {handler} is already registered.\")\n"
     ]
    }
   ],
   "source": [
    "# so we can view them one by one, first hide all of them\n",
    "temporal_graphic[:].present = False\n",
    "\n",
    "# link image to contours\n",
    "movie_graphic.link(\n",
    "    \"click\",\n",
    "    target=contours_movie,\n",
    "    feature=\"colors\", \n",
    "    new_data=\"w\", \n",
    "    callback=euclidean  # we cam re-use it from before\n",
    ")\n",
    "\n",
    "# link image to contours\n",
    "rcm_graphic.link(\n",
    "    \"click\",\n",
    "    target=contours_rcm,\n",
    "    feature=\"colors\", \n",
    "    new_data=\"w\", \n",
    "    callback=euclidean  # we cam re-use it from before\n",
    ")\n",
    "\n",
    "# contours colors -> contor thickness\n",
    "contours_movie.link(\"colors\", target=contours_movie, feature=\"thickness\", new_data=5)\n",
    "contours_rcm.link(\"colors\", target=contours_rcm, feature=\"thickness\", new_data=5)\n",
    "\n",
    "# contours_movie <-> contours_rcm\n",
    "contours_rcm.link(\"colors\", target=contours_movie, feature=\"colors\", new_data=\"w\", bidirectional=True)\n",
    "\n",
    "# temporal stack events\n",
    "temporal_stack.link(\"click\", target=temporal_stack, feature=\"colors\", new_data=\"w\")\n",
    "temporal_stack.link(\"colors\", target=temporal_stack, feature=\"thickness\", new_data=4)\n",
    "\n",
    "# contours <-> temporal stack\n",
    "contours_movie.link(\"colors\", target=temporal_stack, feature=\"colors\", new_data=\"w\", bidirectional=True)\n",
    "\n",
    "# temporal stack -> temporal single\n",
    "temporal_stack.link(\"colors\", target=temporal_graphic, feature=\"present\", new_data=True)\n",
    "\n",
    "# autoscale temporal plot to the current temporal component\n",
    "temporal_graphic[:].present.add_event_handler(plot_temporal_single.auto_scale)"
   ]
  },
  {
   "cell_type": "code",
   "execution_count": 25,
   "id": "5795ad78-2f64-4a0b-8a00-c743a45218f8",
   "metadata": {},
   "outputs": [],
   "source": [
    "plot_temporal_single.canvas.close()\n",
    "cnmf_grid_more.canvas.close()"
   ]
  }
 ],
 "metadata": {
  "kernelspec": {
   "display_name": "Python 3 (ipykernel)",
   "language": "python",
   "name": "python3"
  },
  "language_info": {
   "codemirror_mode": {
    "name": "ipython",
    "version": 3
   },
   "file_extension": ".py",
   "mimetype": "text/x-python",
   "name": "python",
   "nbconvert_exporter": "python",
   "pygments_lexer": "ipython3",
   "version": "3.10.5"
  }
 },
 "nbformat": 4,
 "nbformat_minor": 5
}
