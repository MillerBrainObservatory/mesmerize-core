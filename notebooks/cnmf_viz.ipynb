{
 "cells": [
  {
   "cell_type": "markdown",
   "id": "8af06ee3-cba7-4f5c-8c5e-c47712aae6ad",
   "metadata": {},
   "source": [
    "# Visualization of CNMF outputs\n",
    "\n",
    "You must already have a batch DataFrame with CNMF outputs to run this nb"
   ]
  },
  {
   "cell_type": "code",
   "execution_count": 1,
   "id": "222bf36f-45e9-4408-800b-aaaa843d748d",
   "metadata": {
    "pycharm": {
     "name": "#%%\n"
    },
    "tags": []
   },
   "outputs": [
    {
     "name": "stderr",
     "output_type": "stream",
     "text": [
      "2023-08-27 08:25:07.009889: I tensorflow/core/util/port.cc:110] oneDNN custom operations are on. You may see slightly different numerical results due to floating-point round-off errors from different computation orders. To turn them off, set the environment variable `TF_ENABLE_ONEDNN_OPTS=0`.\n",
      "2023-08-27 08:25:07.011353: I tensorflow/tsl/cuda/cudart_stub.cc:28] Could not find cuda drivers on your machine, GPU will not be used.\n",
      "2023-08-27 08:25:07.040762: I tensorflow/tsl/cuda/cudart_stub.cc:28] Could not find cuda drivers on your machine, GPU will not be used.\n",
      "2023-08-27 08:25:07.041781: I tensorflow/core/platform/cpu_feature_guard.cc:182] This TensorFlow binary is optimized to use available CPU instructions in performance-critical operations.\n",
      "To enable the following instructions: AVX2 AVX512F AVX512_VNNI FMA, in other operations, rebuild TensorFlow with the appropriate compiler flags.\n",
      "2023-08-27 08:25:07.516931: W tensorflow/compiler/tf2tensorrt/utils/py_utils.cc:38] TF-TRT Warning: Could not find TensorRT\n"
     ]
    }
   ],
   "source": [
    "from mesmerize_core import *\n",
    "import numpy as np\n",
    "import pandas as pd"
   ]
  },
  {
   "cell_type": "markdown",
   "id": "13a3b78e-a54e-4693-acda-1ac75c3ade9e",
   "metadata": {},
   "source": [
    "**You will need `fastplotlib` installed for the visualizations**"
   ]
  },
  {
   "cell_type": "code",
   "execution_count": 2,
   "id": "468afef4-7a36-4c2c-adb4-20bfd785b786",
   "metadata": {
    "pycharm": {
     "name": "#%%\n"
    }
   },
   "outputs": [],
   "source": [
    "import fastplotlib as fpl\n",
    "from ipywidgets import VBox, IntSlider, Layout"
   ]
  },
  {
   "cell_type": "code",
   "execution_count": 3,
   "id": "82f6922d-c042-4ecd-bed7-560705d247f4",
   "metadata": {},
   "outputs": [],
   "source": [
    "pd.options.display.max_colwidth = 120"
   ]
  },
  {
   "cell_type": "markdown",
   "id": "3873e438-e232-41f6-87a3-9b49daa3cf38",
   "metadata": {},
   "source": [
    "# Paths"
   ]
  },
  {
   "cell_type": "code",
   "execution_count": 4,
   "id": "b6f3f3ed-29f0-4831-816b-7fe05119734a",
   "metadata": {
    "pycharm": {
     "name": "#%%\n"
    }
   },
   "outputs": [],
   "source": [
    "# for this demo set this dir as the path to your `caiman_data` dir\n",
    "set_parent_raw_data_path(\"/home/caitlin/caiman_data/\")\n",
    "\n",
    "# batch path\n",
    "batch_path = get_parent_raw_data_path().joinpath(\"mesmerize-batch/batch.pickle\")"
   ]
  },
  {
   "cell_type": "markdown",
   "id": "607a2164-da03-4b21-a951-8a57c2120c48",
   "metadata": {},
   "source": [
    "## Load batch"
   ]
  },
  {
   "cell_type": "code",
   "execution_count": 5,
   "id": "ba62939e-4584-44b8-8b84-df6c63b52187",
   "metadata": {
    "pycharm": {
     "name": "#%%\n"
    }
   },
   "outputs": [
    {
     "data": {
      "text/html": [
       "<div>\n",
       "<style scoped>\n",
       "    .dataframe tbody tr th:only-of-type {\n",
       "        vertical-align: middle;\n",
       "    }\n",
       "\n",
       "    .dataframe tbody tr th {\n",
       "        vertical-align: top;\n",
       "    }\n",
       "\n",
       "    .dataframe thead th {\n",
       "        text-align: right;\n",
       "    }\n",
       "</style>\n",
       "<table border=\"1\" class=\"dataframe\">\n",
       "  <thead>\n",
       "    <tr style=\"text-align: right;\">\n",
       "      <th></th>\n",
       "      <th>algo</th>\n",
       "      <th>item_name</th>\n",
       "      <th>input_movie_path</th>\n",
       "      <th>params</th>\n",
       "      <th>outputs</th>\n",
       "      <th>added_time</th>\n",
       "      <th>ran_time</th>\n",
       "      <th>algo_duration</th>\n",
       "      <th>comments</th>\n",
       "      <th>uuid</th>\n",
       "    </tr>\n",
       "  </thead>\n",
       "  <tbody>\n",
       "    <tr>\n",
       "      <th>0</th>\n",
       "      <td>mcorr</td>\n",
       "      <td>Sue_2x_3000_40_-46</td>\n",
       "      <td>example_movies/Sue_2x_3000_40_-46.tif</td>\n",
       "      <td>{'main': {'max_shifts': (24, 24), 'strides': (48, 48), 'overlaps': (24, 24), 'max_deviation_rigid': 3, 'border_nan':...</td>\n",
       "      <td>{'mean-projection-path': 812018a1-4796-4179-8796-e6bdd1b4b7ba/812018a1-4796-4179-8796-e6bdd1b4b7ba_mean_projection.n...</td>\n",
       "      <td>2023-08-27T08:21:33</td>\n",
       "      <td>2023-08-27T08:22:06</td>\n",
       "      <td>18.72 sec</td>\n",
       "      <td>None</td>\n",
       "      <td>812018a1-4796-4179-8796-e6bdd1b4b7ba</td>\n",
       "    </tr>\n",
       "    <tr>\n",
       "      <th>1</th>\n",
       "      <td>cnmf</td>\n",
       "      <td>Sue_2x_3000_40_-46</td>\n",
       "      <td>812018a1-4796-4179-8796-e6bdd1b4b7ba/812018a1-4796-4179-8796-e6bdd1b4b7ba-Sue_2x_3000_40_-46_els__d1_170_d2_170_d3_1...</td>\n",
       "      <td>{'main': {'fr': 30, 'p': 1, 'nb': 2, 'merge_thr': 0.85, 'rf': 15, 'stride': 6, 'K': 4, 'gSig': (4, 4), 'ssub': 1, 't...</td>\n",
       "      <td>{'mean-projection-path': 7abbd91e-819e-4125-a257-e7ed6a1029d2/7abbd91e-819e-4125-a257-e7ed6a1029d2_mean_projection.n...</td>\n",
       "      <td>2023-08-27T08:22:58</td>\n",
       "      <td>2023-08-27T08:23:48</td>\n",
       "      <td>29.61 sec</td>\n",
       "      <td>None</td>\n",
       "      <td>7abbd91e-819e-4125-a257-e7ed6a1029d2</td>\n",
       "    </tr>\n",
       "  </tbody>\n",
       "</table>\n",
       "</div>"
      ],
      "text/plain": [
       "    algo           item_name  \\\n",
       "0  mcorr  Sue_2x_3000_40_-46   \n",
       "1   cnmf  Sue_2x_3000_40_-46   \n",
       "\n",
       "                                                                                                          input_movie_path  \\\n",
       "0                                                                                    example_movies/Sue_2x_3000_40_-46.tif   \n",
       "1  812018a1-4796-4179-8796-e6bdd1b4b7ba/812018a1-4796-4179-8796-e6bdd1b4b7ba-Sue_2x_3000_40_-46_els__d1_170_d2_170_d3_1...   \n",
       "\n",
       "                                                                                                                    params  \\\n",
       "0  {'main': {'max_shifts': (24, 24), 'strides': (48, 48), 'overlaps': (24, 24), 'max_deviation_rigid': 3, 'border_nan':...   \n",
       "1  {'main': {'fr': 30, 'p': 1, 'nb': 2, 'merge_thr': 0.85, 'rf': 15, 'stride': 6, 'K': 4, 'gSig': (4, 4), 'ssub': 1, 't...   \n",
       "\n",
       "                                                                                                                   outputs  \\\n",
       "0  {'mean-projection-path': 812018a1-4796-4179-8796-e6bdd1b4b7ba/812018a1-4796-4179-8796-e6bdd1b4b7ba_mean_projection.n...   \n",
       "1  {'mean-projection-path': 7abbd91e-819e-4125-a257-e7ed6a1029d2/7abbd91e-819e-4125-a257-e7ed6a1029d2_mean_projection.n...   \n",
       "\n",
       "            added_time             ran_time algo_duration comments  \\\n",
       "0  2023-08-27T08:21:33  2023-08-27T08:22:06     18.72 sec     None   \n",
       "1  2023-08-27T08:22:58  2023-08-27T08:23:48     29.61 sec     None   \n",
       "\n",
       "                                   uuid  \n",
       "0  812018a1-4796-4179-8796-e6bdd1b4b7ba  \n",
       "1  7abbd91e-819e-4125-a257-e7ed6a1029d2  "
      ]
     },
     "execution_count": 5,
     "metadata": {},
     "output_type": "execute_result"
    }
   ],
   "source": [
    "df = load_batch(batch_path)\n",
    "df"
   ]
  },
  {
   "cell_type": "markdown",
   "id": "5e04d6b2-77b8-4790-b88d-e72c5623c777",
   "metadata": {
    "pycharm": {
     "name": "#%% md\n"
    }
   },
   "source": [
    "# Load outputs\n",
    "\n",
    "CNMF pandas extensions API: https://mesmerize-core.readthedocs.io/en/latest/api/cnmf.html "
   ]
  },
  {
   "cell_type": "code",
   "execution_count": 6,
   "id": "91132418-82f8-4853-bd77-084a0b5e2915",
   "metadata": {
    "pycharm": {
     "name": "#%%\n"
    }
   },
   "outputs": [
    {
     "name": "stdout",
     "output_type": "stream",
     "text": [
      "Decode mmap filename /home/caitlin/caiman_data/mesmerize-batch/812018a1-4796-4179-8796-e6bdd1b4b7ba/812018a1-4796-4179-8796-e6bdd1b4b7ba-Sue_2x_3000_40_-46_els__d1_170_d2_170_d3_1_order_F_frames_3000.mmap\n"
     ]
    }
   ],
   "source": [
    "# You can change this to plot the outputs for different batch items\n",
    "index = 1\n",
    "\n",
    "# get the motion corrected input movie as a memmap\n",
    "cnmf_movie = df.iloc[index].caiman.get_input_movie()\n",
    "\n",
    "# we can get the contours of the spatial components\n",
    "contours, coms = df.iloc[index].cnmf.get_contours(\"all\", swap_dim=False)\n",
    "\n",
    "# and temporal components\n",
    "temporal = df.iloc[index].cnmf.get_temporal(\"all\")\n",
    "\n",
    "ixs_good = df.iloc[index].cnmf.get_good_components()\n",
    "ixs_bad = df.iloc[index].cnmf.get_bad_components()"
   ]
  },
  {
   "cell_type": "markdown",
   "id": "7e99e620-ba30-421a-84f0-1e3fb41e37c0",
   "metadata": {
    "pycharm": {
     "name": "#%% md\n"
    }
   },
   "source": [
    "# Visualize CNMF outputs. We'll create some simple and more complex plots."
   ]
  },
  {
   "cell_type": "markdown",
   "id": "cc84e4bb-a5ac-4eaf-94f3-05928e2b9f7b",
   "metadata": {
    "pycharm": {
     "name": "#%%\n"
    }
   },
   "source": [
    "### `ImageWidget` to view contours, and a simple `fastplotlib.Plot` to view temporal components"
   ]
  },
  {
   "cell_type": "code",
   "execution_count": 7,
   "id": "8f61a04d-8c27-4aa1-9955-3190a528dee0",
   "metadata": {},
   "outputs": [],
   "source": [
    "# LineSlider is very new and experimental and is likely to change\n",
    "# that's why it's not exposed as a top-level import\n",
    "from fastplotlib.graphics.selectors import LinearSelector"
   ]
  },
  {
   "cell_type": "code",
   "execution_count": 8,
   "id": "133fe390-988c-465f-a26f-552ac81d26ea",
   "metadata": {},
   "outputs": [
    {
     "data": {
      "application/vnd.jupyter.widget-view+json": {
       "model_id": "561dbf47030348b08b043ed877b2a130",
       "version_major": 2,
       "version_minor": 0
      },
      "text/plain": [
       "RFBOutputContext()"
      ]
     },
     "metadata": {},
     "output_type": "display_data"
    },
    {
     "name": "stderr",
     "output_type": "stream",
     "text": [
      "MESA-INTEL: warning: Performance support disabled, consider sysctl dev.i915.perf_stream_paranoid=0\n",
      "\n",
      "/home/caitlin/venvs/mescore/lib/python3.9/site-packages/fastplotlib/graphics/_features/_base.py:34: UserWarning: converting float64 array to float32\n",
      "  warn(f\"converting {array.dtype} array to float32\")\n"
     ]
    },
    {
     "data": {
      "application/vnd.jupyter.widget-view+json": {
       "model_id": "aa3c14cb72fc4261bc04c6f7a97b901c",
       "version_major": 2,
       "version_minor": 0
      },
      "text/plain": [
       "RFBOutputContext()"
      ]
     },
     "metadata": {},
     "output_type": "display_data"
    },
    {
     "data": {
      "application/vnd.jupyter.widget-view+json": {
       "model_id": "820cc234e8284ed5b953093ca3d3ce6e",
       "version_major": 2,
       "version_minor": 0
      },
      "text/plain": [
       "VBox(children=(VBox(children=(JupyterWgpuCanvas(), HBox(children=(Button(icon='expand-arrows-alt', layout=Layo…"
      ]
     },
     "execution_count": 8,
     "metadata": {},
     "output_type": "execute_result"
    }
   ],
   "source": [
    "# for the image data and contours\n",
    "iw_cnmf = fpl.ImageWidget(cnmf_movie, vmin_vmax_sliders=True, cmap=\"gnuplot2\")\n",
    "\n",
    "# add good contours to the plot within the widget\n",
    "contours_graphic = iw_cnmf.gridplot[0,0].add_line_collection(contours, colors=\"cyan\", name=\"contours\")\n",
    "contours_graphic[ixs_good].colors = \"cyan\"\n",
    "contours_graphic[ixs_bad].colors = \"magenta\"\n",
    "\n",
    "\n",
    "# temporal plot\n",
    "plot_temporal = fpl.Plot()\n",
    "\n",
    "temporal_graphic = plot_temporal.add_line_collection(temporal, colors=\"cyan\", name=\"temporal\")\n",
    "temporal_graphic[ixs_good].colors = \"cyan\"\n",
    "temporal_graphic[ixs_bad].colors = \"magenta\"\n",
    "\n",
    "def update_movie(ev):\n",
    "    ix = ev.pick_info[\"selected_index\"][0]\n",
    "    iw_cnmf.sliders[\"t\"].value = ix \n",
    "\n",
    "# a vertical line that is syncronized to the image widget \"t\" (timepoint) slider\n",
    "temporal_graphic.add_linear_selector(name=\"temp select\")\n",
    "plot_temporal[\"temp select\"].selection.add_event_handler(update_movie)\n",
    "\n",
    "\n",
    "# stack them\n",
    "VBox([plot_temporal.show(), iw_cnmf.show()])"
   ]
  },
  {
   "cell_type": "markdown",
   "id": "4df8e635-4992-4827-b070-6c285c428c8a",
   "metadata": {},
   "source": [
    "Auto-scale temporal plot, you can only do this after calling `show()`"
   ]
  },
  {
   "cell_type": "code",
   "execution_count": 9,
   "id": "9d69932b-ea97-4af1-a27f-46649a6b1c9a",
   "metadata": {},
   "outputs": [],
   "source": [
    "plot_temporal.auto_scale()\n",
    "plot_temporal.camera.world.scale_x = 0.85"
   ]
  },
  {
   "cell_type": "markdown",
   "id": "085920a1-dc24-4367-aa92-62e1ef5c1da3",
   "metadata": {},
   "source": [
    "# Interactivity"
   ]
  },
  {
   "cell_type": "code",
   "execution_count": 10,
   "id": "2d4dc4b4-acc6-40fd-b1d5-542106c21540",
   "metadata": {},
   "outputs": [],
   "source": [
    "# don't worry about understanding this function\n",
    "def euclidean(source, target, event, new_data):\n",
    "    \"\"\"maps click events to contour\"\"\"\n",
    "    # calculate coms of line collection\n",
    "    indices = np.array(event.pick_info[\"index\"])\n",
    "    \n",
    "    coms = list()\n",
    "\n",
    "    for contour in target.graphics:\n",
    "        coors = contour.data()[~np.isnan(contour.data()).any(axis=1)]\n",
    "        com = coors.mean(axis=0)\n",
    "        coms.append(com)\n",
    "\n",
    "    # euclidean distance to find closest index of com \n",
    "    indices = np.append(indices, [0])\n",
    "    \n",
    "    ix = int(np.linalg.norm((coms - indices), axis=1).argsort()[0])\n",
    "    \n",
    "    target._set_feature(feature=\"colors\", new_data=new_data, indices=ix)\n",
    "    \n",
    "    return None"
   ]
  },
  {
   "cell_type": "code",
   "execution_count": 11,
   "id": "1633e5b1-fca2-4e21-a55d-a45a2f482c54",
   "metadata": {},
   "outputs": [
    {
     "name": "stderr",
     "output_type": "stream",
     "text": [
      "/home/caitlin/venvs/mescore/lib/python3.9/site-packages/fastplotlib/graphics/_features/_base.py:143: UserWarning: Event handler <bound method Interaction._event_handler of 'contours': LineCollection @ 0x7f4093e97e50\n",
      "Collection of <155> Graphics> is already registered.\n",
      "  warn(f\"Event handler {handler} is already registered.\")\n"
     ]
    }
   ],
   "source": [
    "# so we can view them one by one, first hide all of them\n",
    "temporal_graphic[:].present = False\n",
    "\n",
    "image_graphic = iw_cnmf.gridplot[0,0][\"image_widget_managed\"]\n",
    "\n",
    "# link image to contours\n",
    "image_graphic.link(\n",
    "    \"click\",\n",
    "    target=contours_graphic,\n",
    "    feature=\"colors\", \n",
    "    new_data=\"w\", \n",
    "    callback=euclidean\n",
    ")\n",
    "\n",
    "# link contour color changes (which are triggered by the click events as defined above) to everything else\n",
    "\n",
    "# thickness of contour\n",
    "contours_graphic.link(\"colors\", target=contours_graphic, feature=\"thickness\", new_data=5)\n",
    "\n",
    "# toggle temporal component when contour changes color\n",
    "contours_graphic.link(\"colors\", target=temporal_graphic, feature=\"present\", new_data=True)\n",
    "# autoscale temporal plot to the current temporal component\n",
    "temporal_graphic[:].present.add_event_handler(plot_temporal.auto_scale)"
   ]
  },
  {
   "cell_type": "markdown",
   "id": "7ecf6c63-8190-4e72-bcdb-eca0304d891d",
   "metadata": {},
   "source": [
    "Close plot if you GPU is slow"
   ]
  },
  {
   "cell_type": "code",
   "execution_count": 12,
   "id": "51102b50-e146-4c25-94ee-4a532cf4a27b",
   "metadata": {
    "pycharm": {
     "name": "#%%\n"
    }
   },
   "outputs": [],
   "source": [
    "plot_temporal.close()\n",
    "iw_cnmf.gridplot.close()"
   ]
  },
  {
   "cell_type": "markdown",
   "id": "50012ed6-ffb9-4a44-9f41-554fb96a88a0",
   "metadata": {
    "pycharm": {
     "name": "#%% md\n"
    }
   },
   "source": [
    "# View the reconstructed movie, residuals, and reconstructed background\n",
    "\n",
    "### We can get each of these as a mesmerize `LazyArray` which allows fast visualization of larger-than-RAM arrays that can be computed on the fly."
   ]
  },
  {
   "cell_type": "code",
   "execution_count": 13,
   "id": "9294d10b-4d09-467e-b9f3-63ef7b55b766",
   "metadata": {
    "pycharm": {
     "name": "#%%\n"
    }
   },
   "outputs": [
    {
     "data": {
      "text/plain": [
       "LazyArrayRCM @0x7f4093e83640\n",
       "LazyArray for reconstructed movie, i.e. A ⊗ C\n",
       "Frames are computed only upon indexing\n",
       "shape [frames, x, y]: (3000, 170, 170)\n",
       "n_components: 155"
      ]
     },
     "execution_count": 13,
     "metadata": {},
     "output_type": "execute_result"
    }
   ],
   "source": [
    "# reconstructed movie, A * C\n",
    "rcm = df.iloc[index].cnmf.get_rcm()\n",
    "rcm"
   ]
  },
  {
   "cell_type": "markdown",
   "id": "2f1504c2-7f1a-45e0-88ef-69feb629ba1d",
   "metadata": {},
   "source": [
    "### `LazyArray` behaves similar to numpy arrays. But frames are computed only uppon indexing."
   ]
  },
  {
   "cell_type": "code",
   "execution_count": 14,
   "id": "6cf04c45-f1ba-4fe5-b4c8-95ba9e6d0a2e",
   "metadata": {},
   "outputs": [
    {
     "data": {
      "text/plain": [
       "(170, 170)"
      ]
     },
     "execution_count": 14,
     "metadata": {},
     "output_type": "execute_result"
    }
   ],
   "source": [
    "rcm[100].shape"
   ]
  },
  {
   "cell_type": "code",
   "execution_count": 15,
   "id": "f35fd885-bf63-4df2-9eed-7c4d24bf9cb1",
   "metadata": {},
   "outputs": [
    {
     "data": {
      "text/plain": [
       "(3000, 170, 170)"
      ]
     },
     "execution_count": 15,
     "metadata": {},
     "output_type": "execute_result"
    }
   ],
   "source": [
    "rcm.shape"
   ]
  },
  {
   "cell_type": "markdown",
   "id": "34dd3cc2-bca9-4f39-941f-33a090b8f8df",
   "metadata": {
    "tags": []
   },
   "source": [
    "### Get size of the full array in gigabytes if it were entirely stored in RAM. This can be very large for real daa."
   ]
  },
  {
   "cell_type": "code",
   "execution_count": 16,
   "id": "f3f708fe-e3d5-4daa-94d4-ab52f40b0817",
   "metadata": {},
   "outputs": [
    {
     "data": {
      "text/plain": [
       "0.6936"
      ]
     },
     "execution_count": 16,
     "metadata": {},
     "output_type": "execute_result"
    }
   ],
   "source": [
    "rcm.nbytes_gb"
   ]
  },
  {
   "cell_type": "markdown",
   "id": "1ba34cb1-7a82-41bf-90d4-423cad3875c2",
   "metadata": {},
   "source": [
    "### Some lazy arrays contain pre-computed min and max for the array, and other useful properties"
   ]
  },
  {
   "cell_type": "code",
   "execution_count": 17,
   "id": "2d1d4b79-8d42-4284-806a-4ed93ab54259",
   "metadata": {},
   "outputs": [
    {
     "data": {
      "text/plain": [
       "1732.921847733555"
      ]
     },
     "execution_count": 17,
     "metadata": {},
     "output_type": "execute_result"
    }
   ],
   "source": [
    "rcm.max"
   ]
  },
  {
   "cell_type": "code",
   "execution_count": 18,
   "id": "66a293c3-9c0e-477c-ab30-bc476352656e",
   "metadata": {},
   "outputs": [
    {
     "data": {
      "application/vnd.jupyter.widget-view+json": {
       "model_id": "d1fec8dd4ebe45e0ad70ec484d6a326c",
       "version_major": 2,
       "version_minor": 0
      },
      "text/plain": [
       "RFBOutputContext()"
      ]
     },
     "metadata": {},
     "output_type": "display_data"
    },
    {
     "name": "stderr",
     "output_type": "stream",
     "text": [
      "/home/caitlin/venvs/mescore/lib/python3.9/site-packages/fastplotlib/graphics/_features/_base.py:34: UserWarning: converting float64 array to float32\n",
      "  warn(f\"converting {array.dtype} array to float32\")\n"
     ]
    },
    {
     "data": {
      "application/vnd.jupyter.widget-view+json": {
       "model_id": "25466abfd457454b953e7db0fdf2c276",
       "version_major": 2,
       "version_minor": 0
      },
      "text/plain": [
       "VBox(children=(JupyterWgpuCanvas(), HBox(children=(Button(icon='expand-arrows-alt', layout=Layout(width='auto'…"
      ]
     },
     "execution_count": 18,
     "metadata": {},
     "output_type": "execute_result"
    }
   ],
   "source": [
    "gp = fpl.GridPlot((2, 2), controllers=\"sync\")\n",
    "\n",
    "for sp, img in zip(gp, [rcm.max_image, rcm.min_image, rcm.mean_image, rcm.std_image]):\n",
    "    sp.add_image(img)\n",
    "    \n",
    "gp.show()"
   ]
  },
  {
   "cell_type": "code",
   "execution_count": 19,
   "id": "889817d7-a4a3-4a60-8087-fe6f13f165d1",
   "metadata": {},
   "outputs": [],
   "source": [
    "gp.close()"
   ]
  },
  {
   "cell_type": "markdown",
   "id": "111e2a5b-fa04-4e70-a3f2-9c01ddf551fb",
   "metadata": {},
   "source": [
    "# Visualize RCM, RCB and Residuals"
   ]
  },
  {
   "cell_type": "code",
   "execution_count": 20,
   "id": "ba8f33fe-a170-45cb-8e89-623194117446",
   "metadata": {},
   "outputs": [
    {
     "name": "stdout",
     "output_type": "stream",
     "text": [
      "Decode mmap filename /home/caitlin/caiman_data/mesmerize-batch/812018a1-4796-4179-8796-e6bdd1b4b7ba/812018a1-4796-4179-8796-e6bdd1b4b7ba-Sue_2x_3000_40_-46_els__d1_170_d2_170_d3_1_order_F_frames_3000.mmap\n"
     ]
    },
    {
     "data": {
      "application/vnd.jupyter.widget-view+json": {
       "model_id": "fd80ad6fa797433da59253891eb04221",
       "version_major": 2,
       "version_minor": 0
      },
      "text/plain": [
       "RFBOutputContext()"
      ]
     },
     "metadata": {},
     "output_type": "display_data"
    },
    {
     "name": "stderr",
     "output_type": "stream",
     "text": [
      "/home/caitlin/venvs/mescore/lib/python3.9/site-packages/fastplotlib/graphics/_features/_base.py:34: UserWarning: converting float64 array to float32\n",
      "  warn(f\"converting {array.dtype} array to float32\")\n",
      "/home/caitlin/repos/mesmerize-core/mesmerize_core/arrays/_cnmf.py:250: UserWarning: min and max not yet implemented for LazyArrayResiduals. Using first frame of raw movie\n",
      "  warn(\"min and max not yet implemented for LazyArrayResiduals. \"\n",
      "/home/caitlin/repos/mesmerize-core/mesmerize_core/arrays/_cnmf.py:256: UserWarning: min and max not yet implemented for LazyArrayResiduals. Using first frame of raw movie\n",
      "  warn(\"min and max not yet implemented for LazyArrayResiduals. \"\n"
     ]
    },
    {
     "data": {
      "application/vnd.jupyter.widget-view+json": {
       "model_id": "1789bf93f9dc4a23ab8963e80250eb00",
       "version_major": 2,
       "version_minor": 0
      },
      "text/plain": [
       "VBox(children=(VBox(children=(JupyterWgpuCanvas(), HBox(children=(Button(icon='expand-arrows-alt', layout=Layo…"
      ]
     },
     "execution_count": 20,
     "metadata": {},
     "output_type": "execute_result"
    }
   ],
   "source": [
    "rcb = df.iloc[index].cnmf.get_rcb()\n",
    "residuals = df.iloc[index].cnmf.get_residuals()\n",
    "\n",
    "iw_cnmf_grid = fpl.ImageWidget(\n",
    "    data=[cnmf_movie, rcm, rcb, residuals],\n",
    "    vmin_vmax_sliders=True,\n",
    "    cmap=\"gnuplot2\",\n",
    "    names=[\"movie\", \"A * C\", \"b * f\", \"residuals\"]\n",
    ")\n",
    "\n",
    "for subplot in iw_cnmf_grid.gridplot:\n",
    "    _contours = subplot.add_line_collection(contours, thickness=1.0, name=\"contours\")\n",
    "    _contours[ixs_good].colors = \"cyan\"\n",
    "    _contours[ixs_bad].colors = \"magenta\"\n",
    "\n",
    "iw_cnmf_grid.show()"
   ]
  },
  {
   "cell_type": "code",
   "execution_count": 22,
   "id": "cb3b4e92-6f4b-4538-aeae-3a8d11115fe7",
   "metadata": {},
   "outputs": [],
   "source": [
    "# temporarily hide bad components\n",
    "for subplot in iw_cnmf_grid.gridplot:\n",
    "    subplot[\"contours\"][ixs_bad].present = False"
   ]
  },
  {
   "cell_type": "code",
   "execution_count": 23,
   "id": "d7a8185a-5a82-43ae-8a08-fb9aba8972ff",
   "metadata": {},
   "outputs": [],
   "source": [
    "   # hide good components\n",
    "for subplot in iw_cnmf_grid.gridplot:\n",
    "    subplot[\"contours\"][ixs_good].present = False"
   ]
  },
  {
   "cell_type": "code",
   "execution_count": 24,
   "id": "3da3f01e-aae4-4525-99d1-f0ec8a03277e",
   "metadata": {},
   "outputs": [],
   "source": [
    "# make everything un-hidden, indexing [:] means \"everything\"\n",
    "for subplot in iw_cnmf_grid.gridplot:\n",
    "    subplot[\"contours\"][:].present = True"
   ]
  },
  {
   "cell_type": "markdown",
   "id": "84301fdf-4d50-4157-a1ae-a76187da11e5",
   "metadata": {},
   "source": [
    "### Close the plot to free up the GPU if necessary "
   ]
  },
  {
   "cell_type": "code",
   "execution_count": 25,
   "id": "69359b5b-aa25-4e3a-96ca-93440f82944c",
   "metadata": {},
   "outputs": [],
   "source": [
    "iw_cnmf_grid.gridplot.close()"
   ]
  },
  {
   "cell_type": "markdown",
   "id": "f19ab110-3c2f-4d0c-b21a-59641728424c",
   "metadata": {},
   "source": [
    "# Visualize movie, rcm, and stack of temporal components\n",
    "\n",
    "This example shows only good components, but as shown before you can also compare between good and bad components if you want. You could also use a `GridPlot` or `ImageWidget` to view the contours on top of the residuals and reconstructed background to evaluate if CNMF captured everything."
   ]
  },
  {
   "cell_type": "code",
   "execution_count": 26,
   "id": "477fb129-4453-4fa6-ae29-7dc3ba08568b",
   "metadata": {},
   "outputs": [
    {
     "data": {
      "application/vnd.jupyter.widget-view+json": {
       "model_id": "e092fb2bb6034c74988e05ca7bb30727",
       "version_major": 2,
       "version_minor": 0
      },
      "text/plain": [
       "RFBOutputContext()"
      ]
     },
     "metadata": {},
     "output_type": "display_data"
    },
    {
     "name": "stderr",
     "output_type": "stream",
     "text": [
      "/home/caitlin/venvs/mescore/lib/python3.9/site-packages/fastplotlib/graphics/_features/_base.py:34: UserWarning: converting float64 array to float32\n",
      "  warn(f\"converting {array.dtype} array to float32\")\n"
     ]
    },
    {
     "data": {
      "application/vnd.jupyter.widget-view+json": {
       "model_id": "a54730d962364dd88c865faf8bc87813",
       "version_major": 2,
       "version_minor": 0
      },
      "text/plain": [
       "RFBOutputContext()"
      ]
     },
     "metadata": {},
     "output_type": "display_data"
    },
    {
     "data": {
      "application/vnd.jupyter.widget-view+json": {
       "model_id": "b16dd26026a245629cff15e8afd6e33f",
       "version_major": 2,
       "version_minor": 0
      },
      "text/plain": [
       "VBox(children=(VBox(children=(JupyterWgpuCanvas(), HBox(children=(Button(icon='expand-arrows-alt', layout=Layo…"
      ]
     },
     "execution_count": 26,
     "metadata": {},
     "output_type": "execute_result"
    }
   ],
   "source": [
    "# 1 row, 3 columns, sync the first 2 subplots plots\n",
    "cnmf_grid_more = fpl.GridPlot((1, 3), controllers=[[0, 0, 1]], names=[[\"movie\", \"rcm\", \"temporal\"]])\n",
    "\n",
    "# movie and rcm, rcm is a lazy array and behaves similar to numpy arrays\n",
    "movie_graphic = cnmf_grid_more[\"movie\"].add_image(cnmf_movie[0], cmap=\"gnuplot2\")\n",
    "rcm_graphic = cnmf_grid_more[\"rcm\"].add_image(rcm[0], cmap=\"gnuplot2\")\n",
    "\n",
    "# contours for good components\n",
    "contours_good, coms = df.iloc[index].cnmf.get_contours(\"good\", swap_dim=False)\n",
    "\n",
    "# random colors for contours and temporal components\n",
    "# make an RGBA array for each color\n",
    "rand_colors = np.random.rand(len(contours_good), 4)  # [n_contours, RGBA]\n",
    "rand_colors[:, -1] = 1 # set alpha = 1\n",
    "\n",
    "# get temporal of only good components\n",
    "temporal_good = df.iloc[index].cnmf.get_temporal(\"good\")\n",
    "\n",
    "# add contours to both movie and rcm subplots\n",
    "contours_movie = cnmf_grid_more[\"movie\"].add_line_collection(contours_good, colors=rand_colors)\n",
    "contours_rcm = cnmf_grid_more[\"rcm\"].add_line_collection(contours_good, colors=rand_colors)\n",
    "\n",
    "# line stack of temporal components\n",
    "temporal_stack = cnmf_grid_more[\"temporal\"].add_line_stack(temporal_good, colors=rand_colors, thickness=3.0, separate=15)\n",
    "\n",
    "# plot single temporal, just like before\n",
    "plot_temporal_single = fpl.Plot()\n",
    "temporal_graphic = plot_temporal_single.add_line_collection(temporal_good, colors=rand_colors)\n",
    "\n",
    "# since this is a GridPlot and not an ImageWidget we need to define sliders\n",
    "slider = IntSlider(min=0, max=cnmf_movie.shape[0] - 1, value=0, step=1)\n",
    "\n",
    "# vertical line sliders\n",
    "temporal_graphic.add_linear_selector(name=\"temp_single\")\n",
    "temporal_stack.add_linear_selector(name=\"temp_stack\")\n",
    "\n",
    "def update_slider(ev):\n",
    "    ix = ev.pick_info[\"selected_index\"][0]\n",
    "    slider.value = ix\n",
    "\n",
    "plot_temporal_single[\"temp_single\"].selection.add_event_handler(update_slider)\n",
    "cnmf_grid_more[\"temporal\"][\"temp_stack\"].selection.add_event_handler(update_slider)\n",
    "\n",
    "# function to update each frame\n",
    "def update_frame(change):\n",
    "    ix = change[\"new\"]\n",
    "    movie_graphic.data = cnmf_movie[ix]\n",
    "    rcm_graphic.data = rcm[ix]\n",
    "    \n",
    "slider.observe(update_frame, \"value\")\n",
    "\n",
    "@plot_temporal_single.renderer.add_event_handler(\"resize\")\n",
    "def update_slider_width(*args):\n",
    "    width, h = plot_temporal_single.renderer.logical_size\n",
    "    slider.layout = Layout(width=f\"{width}px\")\n",
    "    \n",
    "VBox([plot_temporal_single.show(), cnmf_grid_more.show(), slider])"
   ]
  },
  {
   "cell_type": "markdown",
   "id": "5c5107a2-6245-4960-a265-6de869de8228",
   "metadata": {},
   "source": [
    "### autoscaling"
   ]
  },
  {
   "cell_type": "code",
   "execution_count": null,
   "id": "514834da-9f95-44f1-abd3-b90c58d3a9b9",
   "metadata": {},
   "outputs": [],
   "source": [
    "plot_temporal_single.auto_scale()\n",
    "plot_temporal_single.camera.scale_x = 0.85\n",
    "cnmf_grid_more[\"temporal\"].auto_scale()"
   ]
  },
  {
   "cell_type": "markdown",
   "id": "8dccee77-ee82-4557-95ac-e80f363c2aee",
   "metadata": {},
   "source": [
    "### Interactivity just like before"
   ]
  },
  {
   "cell_type": "code",
   "execution_count": null,
   "id": "36ff16c2-7675-4f2f-9b3c-26699e36e305",
   "metadata": {},
   "outputs": [],
   "source": [
    "# so we can view them one by one, first hide all of them\n",
    "temporal_graphic[:].present = False\n",
    "\n",
    "# link image to contours\n",
    "movie_graphic.link(\n",
    "    \"click\",\n",
    "    target=contours_movie,\n",
    "    feature=\"colors\", \n",
    "    new_data=\"w\", \n",
    "    callback=euclidean  # we cam re-use it from before\n",
    ")\n",
    "\n",
    "# link image to contours\n",
    "rcm_graphic.link(\n",
    "    \"click\",\n",
    "    target=contours_rcm,\n",
    "    feature=\"colors\", \n",
    "    new_data=\"w\", \n",
    "    callback=euclidean  # we cam re-use it from before\n",
    ")\n",
    "\n",
    "# contours colors -> contor thickness\n",
    "contours_movie.link(\"colors\", target=contours_movie, feature=\"thickness\", new_data=5)\n",
    "contours_rcm.link(\"colors\", target=contours_rcm, feature=\"thickness\", new_data=5)\n",
    "\n",
    "# contours_movie <-> contours_rcm\n",
    "contours_rcm.link(\"colors\", target=contours_movie, feature=\"colors\", new_data=\"w\", bidirectional=True)\n",
    "\n",
    "# temporal stack events\n",
    "temporal_stack.link(\"click\", target=temporal_stack, feature=\"colors\", new_data=\"w\")\n",
    "temporal_stack.link(\"colors\", target=temporal_stack, feature=\"thickness\", new_data=4)\n",
    "\n",
    "# contours <-> temporal stack\n",
    "contours_movie.link(\"colors\", target=temporal_stack, feature=\"colors\", new_data=\"w\", bidirectional=True)\n",
    "\n",
    "# temporal stack -> temporal single\n",
    "temporal_stack.link(\"colors\", target=temporal_graphic, feature=\"present\", new_data=True)\n",
    "\n",
    "# autoscale temporal plot to the current temporal component\n",
    "temporal_graphic[:].present.add_event_handler(plot_temporal_single.auto_scale)"
   ]
  },
  {
   "cell_type": "code",
   "execution_count": null,
   "id": "5795ad78-2f64-4a0b-8a00-c743a45218f8",
   "metadata": {},
   "outputs": [],
   "source": [
    "plot_temporal_single.close()\n",
    "cnmf_grid_more.close()"
   ]
  },
  {
   "cell_type": "code",
   "execution_count": null,
   "id": "73ab1828-b211-422d-a787-46d7c280d504",
   "metadata": {},
   "outputs": [],
   "source": []
  }
 ],
 "metadata": {
  "kernelspec": {
   "display_name": "Python 3 (ipykernel)",
   "language": "python",
   "name": "python3"
  },
  "language_info": {
   "codemirror_mode": {
    "name": "ipython",
    "version": 3
   },
   "file_extension": ".py",
   "mimetype": "text/x-python",
   "name": "python",
   "nbconvert_exporter": "python",
   "pygments_lexer": "ipython3",
   "version": "3.9.2"
  }
 },
 "nbformat": 4,
 "nbformat_minor": 5
}
