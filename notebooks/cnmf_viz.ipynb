{
 "cells": [
  {
   "cell_type": "markdown",
   "id": "8af06ee3-cba7-4f5c-8c5e-c47712aae6ad",
   "metadata": {},
   "source": [
    "# Visualization of CNMF outputs\n",
    "\n",
    "You must already have a batch DataFrame with CNMF outputs to run this nb"
   ]
  },
  {
   "cell_type": "code",
   "execution_count": null,
   "id": "222bf36f-45e9-4408-800b-aaaa843d748d",
   "metadata": {
    "pycharm": {
     "name": "#%%\n"
    },
    "tags": []
   },
   "outputs": [],
   "source": [
    "from mesmerize_core import *\n",
    "import numpy as np\n",
    "import pandas as pd"
   ]
  },
  {
   "cell_type": "markdown",
   "id": "13a3b78e-a54e-4693-acda-1ac75c3ade9e",
   "metadata": {},
   "source": [
    "**You will need `fastplotlib` installed for the visualizations**"
   ]
  },
  {
   "cell_type": "code",
   "execution_count": null,
   "id": "468afef4-7a36-4c2c-adb4-20bfd785b786",
   "metadata": {
    "pycharm": {
     "name": "#%%\n"
    }
   },
   "outputs": [],
   "source": [
    "import fastplotlib as fpl\n",
    "from ipywidgets import VBox, IntSlider, Layout"
   ]
  },
  {
   "cell_type": "code",
   "execution_count": null,
   "id": "82f6922d-c042-4ecd-bed7-560705d247f4",
   "metadata": {},
   "outputs": [],
   "source": [
    "pd.options.display.max_colwidth = 120"
   ]
  },
  {
   "cell_type": "markdown",
   "id": "3873e438-e232-41f6-87a3-9b49daa3cf38",
   "metadata": {},
   "source": [
    "# Paths"
   ]
  },
  {
   "cell_type": "code",
   "execution_count": null,
   "id": "b6f3f3ed-29f0-4831-816b-7fe05119734a",
   "metadata": {
    "pycharm": {
     "name": "#%%\n"
    }
   },
   "outputs": [],
   "source": [
    "# for this demo set this dir as the path to your `caiman_data` dir\n",
    "set_parent_raw_data_path(\"/home/kushal/caiman_data/\")\n",
    "\n",
    "# batch path\n",
    "batch_path = get_parent_raw_data_path().joinpath(\"mesmerize-batch/batch.pickle\")"
   ]
  },
  {
   "cell_type": "markdown",
   "id": "607a2164-da03-4b21-a951-8a57c2120c48",
   "metadata": {},
   "source": [
    "## Load batch"
   ]
  },
  {
   "cell_type": "code",
   "execution_count": null,
   "id": "ba62939e-4584-44b8-8b84-df6c63b52187",
   "metadata": {
    "pycharm": {
     "name": "#%%\n"
    }
   },
   "outputs": [],
   "source": [
    "df = load_batch(batch_path)\n",
    "df"
   ]
  },
  {
   "cell_type": "markdown",
   "id": "5e04d6b2-77b8-4790-b88d-e72c5623c777",
   "metadata": {
    "pycharm": {
     "name": "#%% md\n"
    }
   },
   "source": [
    "# Load outputs\n",
    "\n",
    "CNMF pandas extensions API: https://mesmerize-core.readthedocs.io/en/latest/api/cnmf.html "
   ]
  },
  {
   "cell_type": "code",
   "execution_count": null,
   "id": "91132418-82f8-4853-bd77-084a0b5e2915",
   "metadata": {
    "pycharm": {
     "name": "#%%\n"
    }
   },
   "outputs": [],
   "source": [
    "# You can change this to plot the outputs for different batch items\n",
    "index = 1\n",
    "\n",
    "# get the motion corrected input movie as a memmap\n",
    "cnmf_movie = df.iloc[index].caiman.get_input_movie()\n",
    "\n",
    "# we can get the contours of the spatial components\n",
    "contours, coms = df.iloc[index].cnmf.get_contours(\"all\", swap_dim=False)\n",
    "\n",
    "# and temporal components\n",
    "temporal = df.iloc[index].cnmf.get_temporal(\"all\")\n",
    "\n",
    "ixs_good = df.iloc[index].cnmf.get_good_components()\n",
    "ixs_bad = df.iloc[index].cnmf.get_bad_components()"
   ]
  },
  {
   "cell_type": "markdown",
   "id": "7e99e620-ba30-421a-84f0-1e3fb41e37c0",
   "metadata": {
    "pycharm": {
     "name": "#%% md\n"
    }
   },
   "source": [
    "# Visualize CNMF outputs. We'll create some simple and more complex plots."
   ]
  },
  {
   "cell_type": "markdown",
   "id": "cc84e4bb-a5ac-4eaf-94f3-05928e2b9f7b",
   "metadata": {
    "pycharm": {
     "name": "#%%\n"
    }
   },
   "source": [
    "### `ImageWidget` to view contours, and a simple `fastplotlib.Plot` to view temporal components"
   ]
  },
  {
   "cell_type": "code",
   "execution_count": null,
   "id": "8f61a04d-8c27-4aa1-9955-3190a528dee0",
   "metadata": {},
   "outputs": [],
   "source": [
    "# LineSlider is very new and experimental and is likely to change\n",
    "# that's why it's not exposed as a top-level import\n",
    "from fastplotlib.graphics.selectors import LinearSelector"
   ]
  },
  {
   "cell_type": "code",
   "execution_count": null,
   "id": "133fe390-988c-465f-a26f-552ac81d26ea",
   "metadata": {},
   "outputs": [],
   "source": [
    "# for the image data and contours\n",
    "iw_cnmf = fpl.ImageWidget(cnmf_movie, vmin_vmax_sliders=True, cmap=\"gnuplot2\")\n",
    "\n",
    "# add good contours to the plot within the widget\n",
    "contours_graphic = iw_cnmf.gridplot[0,0].add_line_collection(contours, colors=\"cyan\", name=\"contours\")\n",
    "contours_graphic[ixs_good].colors = \"cyan\"\n",
    "contours_graphic[ixs_bad].colors = \"magenta\"\n",
    "\n",
    "\n",
    "# temporal plot\n",
    "plot_temporal = fpl.Plot()\n",
    "\n",
    "temporal_graphic = plot_temporal.add_line_collection(temporal, colors=\"cyan\", name=\"temporal\")\n",
    "temporal_graphic[ixs_good].colors = \"cyan\"\n",
    "temporal_graphic[ixs_bad].colors = \"magenta\"\n",
    "\n",
    "def update_movie(ev):\n",
    "    ix = ev.pick_info[\"selected_index\"][0]\n",
    "    iw_cnmf.sliders[\"t\"].value = ix \n",
    "\n",
    "# a vertical line that is syncronized to the image widget \"t\" (timepoint) slider\n",
    "temporal_graphic.add_linear_selector(name=\"temp select\")\n",
    "plot_temporal[\"temp select\"].selection.add_event_handler(update_movie)\n",
    "\n",
    "\n",
    "# stack them\n",
    "VBox([plot_temporal.show(), iw_cnmf.show()])"
   ]
  },
  {
   "cell_type": "markdown",
   "id": "4df8e635-4992-4827-b070-6c285c428c8a",
   "metadata": {},
   "source": [
    "Auto-scale temporal plot, you can only do this after calling `show()`"
   ]
  },
  {
   "cell_type": "code",
   "execution_count": null,
   "id": "9d69932b-ea97-4af1-a27f-46649a6b1c9a",
   "metadata": {},
   "outputs": [],
   "source": [
    "plot_temporal.auto_scale()\n",
    "plot_temporal.camera.world.scale_x = 0.85"
   ]
  },
  {
   "cell_type": "markdown",
   "id": "085920a1-dc24-4367-aa92-62e1ef5c1da3",
   "metadata": {},
   "source": [
    "# Interactivity"
   ]
  },
  {
   "cell_type": "code",
   "execution_count": null,
   "id": "2d4dc4b4-acc6-40fd-b1d5-542106c21540",
   "metadata": {},
   "outputs": [],
   "source": [
    "# don't worry about understanding this function\n",
    "def euclidean(source, target, event, new_data):\n",
    "    \"\"\"maps click events to contour\"\"\"\n",
    "    # calculate coms of line collection\n",
    "    indices = np.array(event.pick_info[\"index\"])\n",
    "    \n",
    "    coms = list()\n",
    "\n",
    "    for contour in target.graphics:\n",
    "        coors = contour.data()[~np.isnan(contour.data()).any(axis=1)]\n",
    "        com = coors.mean(axis=0)\n",
    "        coms.append(com)\n",
    "\n",
    "    # euclidean distance to find closest index of com \n",
    "    indices = np.append(indices, [0])\n",
    "    \n",
    "    ix = int(np.linalg.norm((coms - indices), axis=1).argsort()[0])\n",
    "    \n",
    "    target._set_feature(feature=\"colors\", new_data=new_data, indices=ix)\n",
    "    \n",
    "    return None"
   ]
  },
  {
   "cell_type": "code",
   "execution_count": null,
   "id": "1633e5b1-fca2-4e21-a55d-a45a2f482c54",
   "metadata": {},
   "outputs": [],
   "source": [
    "# so we can view them one by one, first hide all of them\n",
    "temporal_graphic[:].present = False\n",
    "\n",
    "image_graphic = iw_cnmf.gridplot[0,0][\"image_widget_managed\"]\n",
    "\n",
    "# link image to contours\n",
    "image_graphic.link(\n",
    "    \"click\",\n",
    "    target=contours_graphic,\n",
    "    feature=\"colors\", \n",
    "    new_data=\"w\", \n",
    "    callback=euclidean\n",
    ")\n",
    "\n",
    "# link contour color changes (which are triggered by the click events as defined above) to everything else\n",
    "\n",
    "# thickness of contour\n",
    "contours_graphic.link(\"colors\", target=contours_graphic, feature=\"thickness\", new_data=5)\n",
    "\n",
    "# toggle temporal component when contour changes color\n",
    "contours_graphic.link(\"colors\", target=temporal_graphic, feature=\"present\", new_data=True)\n",
    "# autoscale temporal plot to the current temporal component\n",
    "temporal_graphic[:].present.add_event_handler(plot_temporal.auto_scale)"
   ]
  },
  {
   "cell_type": "markdown",
   "id": "7ecf6c63-8190-4e72-bcdb-eca0304d891d",
   "metadata": {},
   "source": [
    "Close plot if you GPU is slow"
   ]
  },
  {
   "cell_type": "code",
   "execution_count": null,
   "id": "51102b50-e146-4c25-94ee-4a532cf4a27b",
   "metadata": {
    "pycharm": {
     "name": "#%%\n"
    }
   },
   "outputs": [],
   "source": [
    "plot_temporal.close()\n",
    "iw_cnmf.gridplot.close()"
   ]
  },
  {
   "cell_type": "markdown",
   "id": "50012ed6-ffb9-4a44-9f41-554fb96a88a0",
   "metadata": {
    "pycharm": {
     "name": "#%% md\n"
    }
   },
   "source": [
    "# View the reconstructed movie, residuals, and reconstructed background\n",
    "\n",
    "### We can get each of these as a mesmerize `LazyArray` which allows fast visualization of larger-than-RAM arrays that can be computed on the fly."
   ]
  },
  {
   "cell_type": "code",
   "execution_count": null,
   "id": "9294d10b-4d09-467e-b9f3-63ef7b55b766",
   "metadata": {
    "pycharm": {
     "name": "#%%\n"
    }
   },
   "outputs": [],
   "source": [
    "# reconstructed movie, A * C\n",
    "rcm = df.iloc[index].cnmf.get_rcm()\n",
    "rcm"
   ]
  },
  {
   "cell_type": "markdown",
   "id": "2f1504c2-7f1a-45e0-88ef-69feb629ba1d",
   "metadata": {},
   "source": [
    "### `LazyArray` behaves similar to numpy arrays. But frames are computed only uppon indexing."
   ]
  },
  {
   "cell_type": "code",
   "execution_count": null,
   "id": "6cf04c45-f1ba-4fe5-b4c8-95ba9e6d0a2e",
   "metadata": {},
   "outputs": [],
   "source": [
    "rcm[100].shape"
   ]
  },
  {
   "cell_type": "code",
   "execution_count": null,
   "id": "f35fd885-bf63-4df2-9eed-7c4d24bf9cb1",
   "metadata": {},
   "outputs": [],
   "source": [
    "rcm.shape"
   ]
  },
  {
   "cell_type": "markdown",
   "id": "34dd3cc2-bca9-4f39-941f-33a090b8f8df",
   "metadata": {
    "tags": []
   },
   "source": [
    "### Get size of the full array in gigabytes if it were entirely stored in RAM. This can be very large for real daa."
   ]
  },
  {
   "cell_type": "code",
   "execution_count": null,
   "id": "f3f708fe-e3d5-4daa-94d4-ab52f40b0817",
   "metadata": {},
   "outputs": [],
   "source": [
    "rcm.nbytes_gb"
   ]
  },
  {
   "cell_type": "markdown",
   "id": "1ba34cb1-7a82-41bf-90d4-423cad3875c2",
   "metadata": {},
   "source": [
    "### Some lazy arrays contain pre-computed min and max for the array, and other useful properties"
   ]
  },
  {
   "cell_type": "code",
   "execution_count": null,
   "id": "2d1d4b79-8d42-4284-806a-4ed93ab54259",
   "metadata": {},
   "outputs": [],
   "source": [
    "rcm.max"
   ]
  },
  {
   "cell_type": "code",
   "execution_count": null,
   "id": "66a293c3-9c0e-477c-ab30-bc476352656e",
   "metadata": {},
   "outputs": [],
   "source": [
    "gp = fpl.GridPlot((2, 2), controllers=\"sync\")\n",
    "\n",
    "for sp, img in zip(gp, [rcm.max_image, rcm.min_image, rcm.mean_image, rcm.std_image]):\n",
    "    sp.add_image(img)\n",
    "    \n",
    "gp.show()"
   ]
  },
  {
   "cell_type": "code",
   "execution_count": null,
   "id": "889817d7-a4a3-4a60-8087-fe6f13f165d1",
   "metadata": {},
   "outputs": [],
   "source": [
    "gp.close()"
   ]
  },
  {
   "cell_type": "markdown",
   "id": "111e2a5b-fa04-4e70-a3f2-9c01ddf551fb",
   "metadata": {},
   "source": [
    "# Visualize RCM, RCB and Residuals"
   ]
  },
  {
   "cell_type": "code",
   "execution_count": null,
   "id": "ba8f33fe-a170-45cb-8e89-623194117446",
   "metadata": {},
   "outputs": [],
   "source": [
    "rcb = df.iloc[index].cnmf.get_rcb()\n",
    "residuals = df.iloc[index].cnmf.get_residuals()\n",
    "\n",
    "iw_cnmf_grid = fpl.ImageWidget(\n",
    "    data=[cnmf_movie, rcm, rcb, residuals],\n",
    "    vmin_vmax_sliders=True,\n",
    "    cmap=\"gnuplot2\",\n",
    "    names=[\"movie\", \"A * C\", \"b * f\", \"residuals\"]\n",
    ")\n",
    "\n",
    "for subplot in iw_cnmf_grid.gridplot:\n",
    "    _contours = subplot.add_line_collection(contours, thickness=1.0, name=\"contours\")\n",
    "    _contours[ixs_good].colors = \"cyan\"\n",
    "    _contours[ixs_bad].colors = \"magenta\"\n",
    "\n",
    "iw_cnmf_grid.show()"
   ]
  },
  {
   "cell_type": "code",
   "execution_count": null,
   "id": "cb3b4e92-6f4b-4538-aeae-3a8d11115fe7",
   "metadata": {},
   "outputs": [],
   "source": [
    "# temporarily hide bad components\n",
    "for subplot in iw_cnmf_grid.gridplot:\n",
    "    subplot[\"contours\"][ixs_bad].present = False"
   ]
  },
  {
   "cell_type": "code",
   "execution_count": null,
   "id": "d7a8185a-5a82-43ae-8a08-fb9aba8972ff",
   "metadata": {},
   "outputs": [],
   "source": [
    "   # hide good components\n",
    "for subplot in iw_cnmf_grid.gridplot:\n",
    "    subplot[\"contours\"][ixs_good].present = False"
   ]
  },
  {
   "cell_type": "code",
   "execution_count": null,
   "id": "3da3f01e-aae4-4525-99d1-f0ec8a03277e",
   "metadata": {},
   "outputs": [],
   "source": [
    "# make everything un-hidden, indexing [:] means \"everything\"\n",
    "for subplot in iw_cnmf_grid.gridplot:\n",
    "    subplot[\"contours\"][:].present = True"
   ]
  },
  {
   "cell_type": "markdown",
   "id": "84301fdf-4d50-4157-a1ae-a76187da11e5",
   "metadata": {},
   "source": [
    "### Close the plot to free up the GPU if necessary "
   ]
  },
  {
   "cell_type": "code",
   "execution_count": null,
   "id": "69359b5b-aa25-4e3a-96ca-93440f82944c",
   "metadata": {},
   "outputs": [],
   "source": [
    "iw_cnmf_grid.gridplot.close()"
   ]
  },
  {
   "cell_type": "markdown",
   "id": "f19ab110-3c2f-4d0c-b21a-59641728424c",
   "metadata": {},
   "source": [
    "# Visualize movie, rcm, and stack of temporal components\n",
    "\n",
    "This example shows only good components, but as shown before you can also compare between good and bad components if you want. You could also use a `GridPlot` or `ImageWidget` to view the contours on top of the residuals and reconstructed background to evaluate if CNMF captured everything."
   ]
  },
  {
   "cell_type": "code",
   "execution_count": null,
   "id": "477fb129-4453-4fa6-ae29-7dc3ba08568b",
   "metadata": {},
   "outputs": [],
   "source": [
    "# 1 row, 3 columns, sync the first 2 subplots plots\n",
    "cnmf_grid_more = fpl.GridPlot((1, 3), controllers=[[0, 0, 1]], names=[[\"movie\", \"rcm\", \"temporal\"]])\n",
    "\n",
    "# movie and rcm, rcm is a lazy array and behaves similar to numpy arrays\n",
    "movie_graphic = cnmf_grid_more[\"movie\"].add_image(cnmf_movie[0], cmap=\"gnuplot2\")\n",
    "rcm_graphic = cnmf_grid_more[\"rcm\"].add_image(rcm[0], cmap=\"gnuplot2\")\n",
    "\n",
    "# contours for good components\n",
    "contours_good, coms = df.iloc[index].cnmf.get_contours(\"good\", swap_dim=False)\n",
    "\n",
    "# random colors for contours and temporal components\n",
    "# make an RGBA array for each color\n",
    "rand_colors = np.random.rand(len(contours_good), 4)  # [n_contours, RGBA]\n",
    "rand_colors[:, -1] = 1 # set alpha = 1\n",
    "\n",
    "# get temporal of only good components\n",
    "temporal_good = df.iloc[index].cnmf.get_temporal(\"good\")\n",
    "\n",
    "# add contours to both movie and rcm subplots\n",
    "contours_movie = cnmf_grid_more[\"movie\"].add_line_collection(contours_good, colors=rand_colors)\n",
    "contours_rcm = cnmf_grid_more[\"rcm\"].add_line_collection(contours_good, colors=rand_colors)\n",
    "\n",
    "# line stack of temporal components\n",
    "temporal_stack = cnmf_grid_more[\"temporal\"].add_line_stack(temporal_good, colors=rand_colors, thickness=3.0, separate=15)\n",
    "\n",
    "# plot single temporal, just like before\n",
    "plot_temporal_single = fpl.Plot()\n",
    "temporal_graphic = plot_temporal_single.add_line_collection(temporal_good, colors=rand_colors)\n",
    "\n",
    "# since this is a GridPlot and not an ImageWidget we need to define sliders\n",
    "slider = IntSlider(min=0, max=cnmf_movie.shape[0] - 1, value=0, step=1)\n",
    "\n",
    "# vertical line sliders\n",
    "temporal_graphic.add_linear_selector(name=\"temp_single\")\n",
    "temporal_stack.add_linear_selector(name=\"temp_stack\")\n",
    "\n",
    "def update_slider(ev):\n",
    "    ix = ev.pick_info[\"selected_index\"][0]\n",
    "    slider.value = ix\n",
    "\n",
    "plot_temporal_single[\"temp_single\"].selection.add_event_handler(update_slider)\n",
    "cnmf_grid_more[\"temporal\"][\"temp_stack\"].selection.add_event_handler(update_slider)\n",
    "\n",
    "# function to update each frame\n",
    "def update_frame(change):\n",
    "    ix = change[\"new\"]\n",
    "    movie_graphic.data = cnmf_movie[ix]\n",
    "    rcm_graphic.data = rcm[ix]\n",
    "    \n",
    "slider.observe(update_frame, \"value\")\n",
    "\n",
    "@plot_temporal_single.renderer.add_event_handler(\"resize\")\n",
    "def update_slider_width(*args):\n",
    "    width, h = plot_temporal_single.renderer.logical_size\n",
    "    slider.layout = Layout(width=f\"{width}px\")\n",
    "    \n",
    "VBox([plot_temporal_single.show(), cnmf_grid_more.show(), slider])"
   ]
  },
  {
   "cell_type": "markdown",
   "id": "5c5107a2-6245-4960-a265-6de869de8228",
   "metadata": {},
   "source": [
    "### autoscaling"
   ]
  },
  {
   "cell_type": "code",
   "execution_count": null,
   "id": "514834da-9f95-44f1-abd3-b90c58d3a9b9",
   "metadata": {},
   "outputs": [],
   "source": [
    "plot_temporal_single.auto_scale()\n",
    "plot_temporal_single.camera.scale_x = 0.85\n",
    "cnmf_grid_more[\"temporal\"].auto_scale()"
   ]
  },
  {
   "cell_type": "markdown",
   "id": "8dccee77-ee82-4557-95ac-e80f363c2aee",
   "metadata": {},
   "source": [
    "### Interactivity just like before"
   ]
  },
  {
   "cell_type": "code",
   "execution_count": null,
   "id": "36ff16c2-7675-4f2f-9b3c-26699e36e305",
   "metadata": {},
   "outputs": [],
   "source": [
    "# so we can view them one by one, first hide all of them\n",
    "temporal_graphic[:].present = False\n",
    "\n",
    "# link image to contours\n",
    "movie_graphic.link(\n",
    "    \"click\",\n",
    "    target=contours_movie,\n",
    "    feature=\"colors\", \n",
    "    new_data=\"w\", \n",
    "    callback=euclidean  # we cam re-use it from before\n",
    ")\n",
    "\n",
    "# link image to contours\n",
    "rcm_graphic.link(\n",
    "    \"click\",\n",
    "    target=contours_rcm,\n",
    "    feature=\"colors\", \n",
    "    new_data=\"w\", \n",
    "    callback=euclidean  # we cam re-use it from before\n",
    ")\n",
    "\n",
    "# contours colors -> contor thickness\n",
    "contours_movie.link(\"colors\", target=contours_movie, feature=\"thickness\", new_data=5)\n",
    "contours_rcm.link(\"colors\", target=contours_rcm, feature=\"thickness\", new_data=5)\n",
    "\n",
    "# contours_movie <-> contours_rcm\n",
    "contours_rcm.link(\"colors\", target=contours_movie, feature=\"colors\", new_data=\"w\", bidirectional=True)\n",
    "\n",
    "# temporal stack events\n",
    "temporal_stack.link(\"click\", target=temporal_stack, feature=\"colors\", new_data=\"w\")\n",
    "temporal_stack.link(\"colors\", target=temporal_stack, feature=\"thickness\", new_data=4)\n",
    "\n",
    "# contours <-> temporal stack\n",
    "contours_movie.link(\"colors\", target=temporal_stack, feature=\"colors\", new_data=\"w\", bidirectional=True)\n",
    "\n",
    "# temporal stack -> temporal single\n",
    "temporal_stack.link(\"colors\", target=temporal_graphic, feature=\"present\", new_data=True)\n",
    "\n",
    "# autoscale temporal plot to the current temporal component\n",
    "temporal_graphic[:].present.add_event_handler(plot_temporal_single.auto_scale)"
   ]
  },
  {
   "cell_type": "code",
   "execution_count": null,
   "id": "5795ad78-2f64-4a0b-8a00-c743a45218f8",
   "metadata": {},
   "outputs": [],
   "source": [
    "plot_temporal_single.close()\n",
    "cnmf_grid_more.close()"
   ]
  },
  {
   "cell_type": "code",
   "execution_count": null,
   "id": "73ab1828-b211-422d-a787-46d7c280d504",
   "metadata": {},
   "outputs": [],
   "source": []
  }
 ],
 "metadata": {
  "kernelspec": {
   "display_name": "Python 3 (ipykernel)",
   "language": "python",
   "name": "python3"
  },
  "language_info": {
   "codemirror_mode": {
    "name": "ipython",
    "version": 3
   },
   "file_extension": ".py",
   "mimetype": "text/x-python",
   "name": "python",
   "nbconvert_exporter": "python",
   "pygments_lexer": "ipython3",
   "version": "3.11.3"
  }
 },
 "nbformat": 4,
 "nbformat_minor": 5
}
