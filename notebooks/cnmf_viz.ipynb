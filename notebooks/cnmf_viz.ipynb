{
 "cells": [
  {
   "cell_type": "markdown",
   "id": "8af06ee3-cba7-4f5c-8c5e-c47712aae6ad",
   "metadata": {},
   "source": [
    "# Visualization of CNMF outputs\n",
    "\n",
    "You must already have a batch DataFrame with CNMF outputs to run this nb"
   ]
  },
  {
   "cell_type": "code",
   "execution_count": 1,
   "id": "222bf36f-45e9-4408-800b-aaaa843d748d",
   "metadata": {
    "pycharm": {
     "name": "#%%\n"
    },
    "tags": []
   },
   "outputs": [
    {
     "name": "stderr",
     "output_type": "stream",
     "text": [
      "2023-01-08 20:08:05.659812: I tensorflow/core/platform/cpu_feature_guard.cc:193] This TensorFlow binary is optimized with oneAPI Deep Neural Network Library (oneDNN) to use the following CPU instructions in performance-critical operations:  AVX2 FMA\n",
      "To enable them in other operations, rebuild TensorFlow with the appropriate compiler flags.\n",
      "2023-01-08 20:08:05.742297: E tensorflow/stream_executor/cuda/cuda_blas.cc:2981] Unable to register cuBLAS factory: Attempting to register factory for plugin cuBLAS when one has already been registered\n",
      "2023-01-08 20:08:06.112028: W tensorflow/stream_executor/platform/default/dso_loader.cc:64] Could not load dynamic library 'libnvinfer.so.7'; dlerror: libnvinfer.so.7: cannot open shared object file: No such file or directory; LD_LIBRARY_PATH: /home/kushalk/python-venvs/mescore/lib/python3.10/site-packages/cv2/../../lib64:/usr/local/cuda-11.2/lib64:/usr/local/cuda-11.2/lib64\n",
      "2023-01-08 20:08:06.112080: W tensorflow/stream_executor/platform/default/dso_loader.cc:64] Could not load dynamic library 'libnvinfer_plugin.so.7'; dlerror: libnvinfer_plugin.so.7: cannot open shared object file: No such file or directory; LD_LIBRARY_PATH: /home/kushalk/python-venvs/mescore/lib/python3.10/site-packages/cv2/../../lib64:/usr/local/cuda-11.2/lib64:/usr/local/cuda-11.2/lib64\n",
      "2023-01-08 20:08:06.112084: W tensorflow/compiler/tf2tensorrt/utils/py_utils.cc:38] TF-TRT Warning: Cannot dlopen some TensorRT libraries. If you would like to use Nvidia GPU with TensorRT, please make sure the missing libraries mentioned above are installed properly.\n"
     ]
    }
   ],
   "source": [
    "from mesmerize_core import *\n",
    "import numpy as np\n",
    "import pandas as pd"
   ]
  },
  {
   "cell_type": "markdown",
   "id": "13a3b78e-a54e-4693-acda-1ac75c3ade9e",
   "metadata": {},
   "source": [
    "**You will need `fastplotlib` installed for the visualizations**"
   ]
  },
  {
   "cell_type": "code",
   "execution_count": 2,
   "id": "468afef4-7a36-4c2c-adb4-20bfd785b786",
   "metadata": {
    "pycharm": {
     "name": "#%%\n"
    }
   },
   "outputs": [],
   "source": [
    "from fastplotlib import ImageWidget, Plot, GridPlot\n",
    "from ipywidgets import VBox, IntSlider, Layout"
   ]
  },
  {
   "cell_type": "code",
   "execution_count": 3,
   "id": "82f6922d-c042-4ecd-bed7-560705d247f4",
   "metadata": {},
   "outputs": [],
   "source": [
    "pd.options.display.max_colwidth = 120"
   ]
  },
  {
   "cell_type": "markdown",
   "id": "3873e438-e232-41f6-87a3-9b49daa3cf38",
   "metadata": {},
   "source": [
    "# Paths"
   ]
  },
  {
   "cell_type": "code",
   "execution_count": 4,
   "id": "b6f3f3ed-29f0-4831-816b-7fe05119734a",
   "metadata": {
    "pycharm": {
     "name": "#%%\n"
    }
   },
   "outputs": [],
   "source": [
    "# for this demo set this dir as the path to your `caiman_data` dir\n",
    "set_parent_raw_data_path(\"/home/kushalk/caiman_data/\")\n",
    "\n",
    "# batch path\n",
    "batch_path = get_parent_raw_data_path().joinpath(\"mesmerize-batch/batch.pickle\")"
   ]
  },
  {
   "cell_type": "markdown",
   "id": "607a2164-da03-4b21-a951-8a57c2120c48",
   "metadata": {},
   "source": [
    "## Load batch"
   ]
  },
  {
   "cell_type": "code",
   "execution_count": 5,
   "id": "ba62939e-4584-44b8-8b84-df6c63b52187",
   "metadata": {
    "pycharm": {
     "name": "#%%\n"
    }
   },
   "outputs": [
    {
     "data": {
      "text/html": [
       "<div>\n",
       "<style scoped>\n",
       "    .dataframe tbody tr th:only-of-type {\n",
       "        vertical-align: middle;\n",
       "    }\n",
       "\n",
       "    .dataframe tbody tr th {\n",
       "        vertical-align: top;\n",
       "    }\n",
       "\n",
       "    .dataframe thead th {\n",
       "        text-align: right;\n",
       "    }\n",
       "</style>\n",
       "<table border=\"1\" class=\"dataframe\">\n",
       "  <thead>\n",
       "    <tr style=\"text-align: right;\">\n",
       "      <th></th>\n",
       "      <th>algo</th>\n",
       "      <th>item_name</th>\n",
       "      <th>input_movie_path</th>\n",
       "      <th>params</th>\n",
       "      <th>outputs</th>\n",
       "      <th>comments</th>\n",
       "      <th>uuid</th>\n",
       "    </tr>\n",
       "  </thead>\n",
       "  <tbody>\n",
       "    <tr>\n",
       "      <th>0</th>\n",
       "      <td>mcorr</td>\n",
       "      <td>Sue_2x_3000_40_-46</td>\n",
       "      <td>example_movies/Sue_2x_3000_40_-46.tif</td>\n",
       "      <td>{'main': {'max_shifts': (6, 6), 'strides': (24, 24), 'overlaps': (12, 12), 'max_deviation_rigid': 3, 'border_nan': '...</td>\n",
       "      <td>{'mean-projection-path': 3b88d12f-c1f6-4bf3-b004-63c6eaeefbfb/3b88d12f-c1f6-4bf3-b004-63c6eaeefbfb_mean_projection.n...</td>\n",
       "      <td>None</td>\n",
       "      <td>3b88d12f-c1f6-4bf3-b004-63c6eaeefbfb</td>\n",
       "    </tr>\n",
       "    <tr>\n",
       "      <th>1</th>\n",
       "      <td>cnmf</td>\n",
       "      <td>Sue_2x_3000_40_-46</td>\n",
       "      <td>3b88d12f-c1f6-4bf3-b004-63c6eaeefbfb/3b88d12f-c1f6-4bf3-b004-63c6eaeefbfb-Sue_2x_3000_40_-46_els__d1_170_d2_170_d3_1...</td>\n",
       "      <td>{'main': {'fr': 30, 'p': 1, 'nb': 2, 'merge_thr': 0.85, 'rf': 15, 'stride': 6, 'K': 4, 'gSig': (4, 4), 'ssub': 1, 't...</td>\n",
       "      <td>{'mean-projection-path': 581150df-4149-49cc-9346-89fdec8cefba/581150df-4149-49cc-9346-89fdec8cefba_mean_projection.n...</td>\n",
       "      <td>None</td>\n",
       "      <td>581150df-4149-49cc-9346-89fdec8cefba</td>\n",
       "    </tr>\n",
       "    <tr>\n",
       "      <th>2</th>\n",
       "      <td>cnmf</td>\n",
       "      <td>Sue_2x_3000_40_-46</td>\n",
       "      <td>3b88d12f-c1f6-4bf3-b004-63c6eaeefbfb/3b88d12f-c1f6-4bf3-b004-63c6eaeefbfb-Sue_2x_3000_40_-46_els__d1_170_d2_170_d3_1...</td>\n",
       "      <td>{'main': {'fr': 30, 'p': 1, 'nb': 2, 'merge_thr': 0.8, 'rf': 15, 'stride': 6, 'K': 4, 'gSig': (6, 6), 'ssub': 1, 'ts...</td>\n",
       "      <td>{'mean-projection-path': ef67d1e8-18ee-4739-804c-4d57d48c7caf/ef67d1e8-18ee-4739-804c-4d57d48c7caf_mean_projection.n...</td>\n",
       "      <td>None</td>\n",
       "      <td>ef67d1e8-18ee-4739-804c-4d57d48c7caf</td>\n",
       "    </tr>\n",
       "    <tr>\n",
       "      <th>3</th>\n",
       "      <td>cnmf</td>\n",
       "      <td>Sue_2x_3000_40_-46</td>\n",
       "      <td>3b88d12f-c1f6-4bf3-b004-63c6eaeefbfb/3b88d12f-c1f6-4bf3-b004-63c6eaeefbfb-Sue_2x_3000_40_-46_els__d1_170_d2_170_d3_1...</td>\n",
       "      <td>{'main': {'fr': 30, 'p': 1, 'nb': 2, 'merge_thr': 0.95, 'rf': 15, 'stride': 6, 'K': 4, 'gSig': (6, 6), 'ssub': 1, 't...</td>\n",
       "      <td>{'mean-projection-path': 96d56a2e-f085-42eb-a426-5319b5a68cc4/96d56a2e-f085-42eb-a426-5319b5a68cc4_mean_projection.n...</td>\n",
       "      <td>None</td>\n",
       "      <td>96d56a2e-f085-42eb-a426-5319b5a68cc4</td>\n",
       "    </tr>\n",
       "    <tr>\n",
       "      <th>4</th>\n",
       "      <td>cnmf</td>\n",
       "      <td>Sue_2x_3000_40_-46</td>\n",
       "      <td>3b88d12f-c1f6-4bf3-b004-63c6eaeefbfb/3b88d12f-c1f6-4bf3-b004-63c6eaeefbfb-Sue_2x_3000_40_-46_els__d1_170_d2_170_d3_1...</td>\n",
       "      <td>{'main': {'fr': 30, 'p': 1, 'nb': 2, 'merge_thr': 0.8, 'rf': 15, 'stride': 6, 'K': 8, 'gSig': (6, 6), 'ssub': 1, 'ts...</td>\n",
       "      <td>{'mean-projection-path': 8a55be31-b305-405e-9f9c-d1944b1e077c/8a55be31-b305-405e-9f9c-d1944b1e077c_mean_projection.n...</td>\n",
       "      <td>None</td>\n",
       "      <td>8a55be31-b305-405e-9f9c-d1944b1e077c</td>\n",
       "    </tr>\n",
       "    <tr>\n",
       "      <th>5</th>\n",
       "      <td>cnmf</td>\n",
       "      <td>Sue_2x_3000_40_-46</td>\n",
       "      <td>3b88d12f-c1f6-4bf3-b004-63c6eaeefbfb/3b88d12f-c1f6-4bf3-b004-63c6eaeefbfb-Sue_2x_3000_40_-46_els__d1_170_d2_170_d3_1...</td>\n",
       "      <td>{'main': {'fr': 30, 'p': 1, 'nb': 2, 'merge_thr': 0.95, 'rf': 15, 'stride': 6, 'K': 8, 'gSig': (6, 6), 'ssub': 1, 't...</td>\n",
       "      <td>{'mean-projection-path': 419aba70-8e19-4fb9-ac0d-e875eeb11bf0/419aba70-8e19-4fb9-ac0d-e875eeb11bf0_mean_projection.n...</td>\n",
       "      <td>None</td>\n",
       "      <td>419aba70-8e19-4fb9-ac0d-e875eeb11bf0</td>\n",
       "    </tr>\n",
       "    <tr>\n",
       "      <th>6</th>\n",
       "      <td>cnmf</td>\n",
       "      <td>Sue_2x_3000_40_-46</td>\n",
       "      <td>3b88d12f-c1f6-4bf3-b004-63c6eaeefbfb/3b88d12f-c1f6-4bf3-b004-63c6eaeefbfb-Sue_2x_3000_40_-46_els__d1_170_d2_170_d3_1...</td>\n",
       "      <td>{'main': {'fr': 30, 'p': 1, 'nb': 2, 'merge_thr': 0.8, 'rf': 15, 'stride': 6, 'K': 4, 'gSig': (8, 8), 'ssub': 1, 'ts...</td>\n",
       "      <td>{'mean-projection-path': 57055675-4e8b-498b-826c-5970be83a016/57055675-4e8b-498b-826c-5970be83a016_mean_projection.n...</td>\n",
       "      <td>None</td>\n",
       "      <td>57055675-4e8b-498b-826c-5970be83a016</td>\n",
       "    </tr>\n",
       "    <tr>\n",
       "      <th>7</th>\n",
       "      <td>cnmf</td>\n",
       "      <td>Sue_2x_3000_40_-46</td>\n",
       "      <td>3b88d12f-c1f6-4bf3-b004-63c6eaeefbfb/3b88d12f-c1f6-4bf3-b004-63c6eaeefbfb-Sue_2x_3000_40_-46_els__d1_170_d2_170_d3_1...</td>\n",
       "      <td>{'main': {'fr': 30, 'p': 1, 'nb': 2, 'merge_thr': 0.95, 'rf': 15, 'stride': 6, 'K': 4, 'gSig': (8, 8), 'ssub': 1, 't...</td>\n",
       "      <td>{'mean-projection-path': a5fa3dae-8f26-4cec-904d-7f20eccb90e9/a5fa3dae-8f26-4cec-904d-7f20eccb90e9_mean_projection.n...</td>\n",
       "      <td>None</td>\n",
       "      <td>a5fa3dae-8f26-4cec-904d-7f20eccb90e9</td>\n",
       "    </tr>\n",
       "    <tr>\n",
       "      <th>8</th>\n",
       "      <td>cnmf</td>\n",
       "      <td>Sue_2x_3000_40_-46</td>\n",
       "      <td>3b88d12f-c1f6-4bf3-b004-63c6eaeefbfb/3b88d12f-c1f6-4bf3-b004-63c6eaeefbfb-Sue_2x_3000_40_-46_els__d1_170_d2_170_d3_1...</td>\n",
       "      <td>{'main': {'fr': 30, 'p': 1, 'nb': 2, 'merge_thr': 0.8, 'rf': 15, 'stride': 6, 'K': 8, 'gSig': (8, 8), 'ssub': 1, 'ts...</td>\n",
       "      <td>{'mean-projection-path': 77e341f0-c41b-4f22-a65c-17c15a2c0dec/77e341f0-c41b-4f22-a65c-17c15a2c0dec_mean_projection.n...</td>\n",
       "      <td>None</td>\n",
       "      <td>77e341f0-c41b-4f22-a65c-17c15a2c0dec</td>\n",
       "    </tr>\n",
       "    <tr>\n",
       "      <th>9</th>\n",
       "      <td>cnmf</td>\n",
       "      <td>Sue_2x_3000_40_-46</td>\n",
       "      <td>3b88d12f-c1f6-4bf3-b004-63c6eaeefbfb/3b88d12f-c1f6-4bf3-b004-63c6eaeefbfb-Sue_2x_3000_40_-46_els__d1_170_d2_170_d3_1...</td>\n",
       "      <td>{'main': {'fr': 30, 'p': 1, 'nb': 2, 'merge_thr': 0.95, 'rf': 15, 'stride': 6, 'K': 8, 'gSig': (8, 8), 'ssub': 1, 't...</td>\n",
       "      <td>{'mean-projection-path': ab198be6-dd2a-41ce-889e-4ff41c6ebc12/ab198be6-dd2a-41ce-889e-4ff41c6ebc12_mean_projection.n...</td>\n",
       "      <td>None</td>\n",
       "      <td>ab198be6-dd2a-41ce-889e-4ff41c6ebc12</td>\n",
       "    </tr>\n",
       "  </tbody>\n",
       "</table>\n",
       "</div>"
      ],
      "text/plain": [
       "    algo           item_name  \\\n",
       "0  mcorr  Sue_2x_3000_40_-46   \n",
       "1   cnmf  Sue_2x_3000_40_-46   \n",
       "2   cnmf  Sue_2x_3000_40_-46   \n",
       "3   cnmf  Sue_2x_3000_40_-46   \n",
       "4   cnmf  Sue_2x_3000_40_-46   \n",
       "5   cnmf  Sue_2x_3000_40_-46   \n",
       "6   cnmf  Sue_2x_3000_40_-46   \n",
       "7   cnmf  Sue_2x_3000_40_-46   \n",
       "8   cnmf  Sue_2x_3000_40_-46   \n",
       "9   cnmf  Sue_2x_3000_40_-46   \n",
       "\n",
       "                                                                                                          input_movie_path  \\\n",
       "0                                                                                    example_movies/Sue_2x_3000_40_-46.tif   \n",
       "1  3b88d12f-c1f6-4bf3-b004-63c6eaeefbfb/3b88d12f-c1f6-4bf3-b004-63c6eaeefbfb-Sue_2x_3000_40_-46_els__d1_170_d2_170_d3_1...   \n",
       "2  3b88d12f-c1f6-4bf3-b004-63c6eaeefbfb/3b88d12f-c1f6-4bf3-b004-63c6eaeefbfb-Sue_2x_3000_40_-46_els__d1_170_d2_170_d3_1...   \n",
       "3  3b88d12f-c1f6-4bf3-b004-63c6eaeefbfb/3b88d12f-c1f6-4bf3-b004-63c6eaeefbfb-Sue_2x_3000_40_-46_els__d1_170_d2_170_d3_1...   \n",
       "4  3b88d12f-c1f6-4bf3-b004-63c6eaeefbfb/3b88d12f-c1f6-4bf3-b004-63c6eaeefbfb-Sue_2x_3000_40_-46_els__d1_170_d2_170_d3_1...   \n",
       "5  3b88d12f-c1f6-4bf3-b004-63c6eaeefbfb/3b88d12f-c1f6-4bf3-b004-63c6eaeefbfb-Sue_2x_3000_40_-46_els__d1_170_d2_170_d3_1...   \n",
       "6  3b88d12f-c1f6-4bf3-b004-63c6eaeefbfb/3b88d12f-c1f6-4bf3-b004-63c6eaeefbfb-Sue_2x_3000_40_-46_els__d1_170_d2_170_d3_1...   \n",
       "7  3b88d12f-c1f6-4bf3-b004-63c6eaeefbfb/3b88d12f-c1f6-4bf3-b004-63c6eaeefbfb-Sue_2x_3000_40_-46_els__d1_170_d2_170_d3_1...   \n",
       "8  3b88d12f-c1f6-4bf3-b004-63c6eaeefbfb/3b88d12f-c1f6-4bf3-b004-63c6eaeefbfb-Sue_2x_3000_40_-46_els__d1_170_d2_170_d3_1...   \n",
       "9  3b88d12f-c1f6-4bf3-b004-63c6eaeefbfb/3b88d12f-c1f6-4bf3-b004-63c6eaeefbfb-Sue_2x_3000_40_-46_els__d1_170_d2_170_d3_1...   \n",
       "\n",
       "                                                                                                                    params  \\\n",
       "0  {'main': {'max_shifts': (6, 6), 'strides': (24, 24), 'overlaps': (12, 12), 'max_deviation_rigid': 3, 'border_nan': '...   \n",
       "1  {'main': {'fr': 30, 'p': 1, 'nb': 2, 'merge_thr': 0.85, 'rf': 15, 'stride': 6, 'K': 4, 'gSig': (4, 4), 'ssub': 1, 't...   \n",
       "2  {'main': {'fr': 30, 'p': 1, 'nb': 2, 'merge_thr': 0.8, 'rf': 15, 'stride': 6, 'K': 4, 'gSig': (6, 6), 'ssub': 1, 'ts...   \n",
       "3  {'main': {'fr': 30, 'p': 1, 'nb': 2, 'merge_thr': 0.95, 'rf': 15, 'stride': 6, 'K': 4, 'gSig': (6, 6), 'ssub': 1, 't...   \n",
       "4  {'main': {'fr': 30, 'p': 1, 'nb': 2, 'merge_thr': 0.8, 'rf': 15, 'stride': 6, 'K': 8, 'gSig': (6, 6), 'ssub': 1, 'ts...   \n",
       "5  {'main': {'fr': 30, 'p': 1, 'nb': 2, 'merge_thr': 0.95, 'rf': 15, 'stride': 6, 'K': 8, 'gSig': (6, 6), 'ssub': 1, 't...   \n",
       "6  {'main': {'fr': 30, 'p': 1, 'nb': 2, 'merge_thr': 0.8, 'rf': 15, 'stride': 6, 'K': 4, 'gSig': (8, 8), 'ssub': 1, 'ts...   \n",
       "7  {'main': {'fr': 30, 'p': 1, 'nb': 2, 'merge_thr': 0.95, 'rf': 15, 'stride': 6, 'K': 4, 'gSig': (8, 8), 'ssub': 1, 't...   \n",
       "8  {'main': {'fr': 30, 'p': 1, 'nb': 2, 'merge_thr': 0.8, 'rf': 15, 'stride': 6, 'K': 8, 'gSig': (8, 8), 'ssub': 1, 'ts...   \n",
       "9  {'main': {'fr': 30, 'p': 1, 'nb': 2, 'merge_thr': 0.95, 'rf': 15, 'stride': 6, 'K': 8, 'gSig': (8, 8), 'ssub': 1, 't...   \n",
       "\n",
       "                                                                                                                   outputs  \\\n",
       "0  {'mean-projection-path': 3b88d12f-c1f6-4bf3-b004-63c6eaeefbfb/3b88d12f-c1f6-4bf3-b004-63c6eaeefbfb_mean_projection.n...   \n",
       "1  {'mean-projection-path': 581150df-4149-49cc-9346-89fdec8cefba/581150df-4149-49cc-9346-89fdec8cefba_mean_projection.n...   \n",
       "2  {'mean-projection-path': ef67d1e8-18ee-4739-804c-4d57d48c7caf/ef67d1e8-18ee-4739-804c-4d57d48c7caf_mean_projection.n...   \n",
       "3  {'mean-projection-path': 96d56a2e-f085-42eb-a426-5319b5a68cc4/96d56a2e-f085-42eb-a426-5319b5a68cc4_mean_projection.n...   \n",
       "4  {'mean-projection-path': 8a55be31-b305-405e-9f9c-d1944b1e077c/8a55be31-b305-405e-9f9c-d1944b1e077c_mean_projection.n...   \n",
       "5  {'mean-projection-path': 419aba70-8e19-4fb9-ac0d-e875eeb11bf0/419aba70-8e19-4fb9-ac0d-e875eeb11bf0_mean_projection.n...   \n",
       "6  {'mean-projection-path': 57055675-4e8b-498b-826c-5970be83a016/57055675-4e8b-498b-826c-5970be83a016_mean_projection.n...   \n",
       "7  {'mean-projection-path': a5fa3dae-8f26-4cec-904d-7f20eccb90e9/a5fa3dae-8f26-4cec-904d-7f20eccb90e9_mean_projection.n...   \n",
       "8  {'mean-projection-path': 77e341f0-c41b-4f22-a65c-17c15a2c0dec/77e341f0-c41b-4f22-a65c-17c15a2c0dec_mean_projection.n...   \n",
       "9  {'mean-projection-path': ab198be6-dd2a-41ce-889e-4ff41c6ebc12/ab198be6-dd2a-41ce-889e-4ff41c6ebc12_mean_projection.n...   \n",
       "\n",
       "  comments                                  uuid  \n",
       "0     None  3b88d12f-c1f6-4bf3-b004-63c6eaeefbfb  \n",
       "1     None  581150df-4149-49cc-9346-89fdec8cefba  \n",
       "2     None  ef67d1e8-18ee-4739-804c-4d57d48c7caf  \n",
       "3     None  96d56a2e-f085-42eb-a426-5319b5a68cc4  \n",
       "4     None  8a55be31-b305-405e-9f9c-d1944b1e077c  \n",
       "5     None  419aba70-8e19-4fb9-ac0d-e875eeb11bf0  \n",
       "6     None  57055675-4e8b-498b-826c-5970be83a016  \n",
       "7     None  a5fa3dae-8f26-4cec-904d-7f20eccb90e9  \n",
       "8     None  77e341f0-c41b-4f22-a65c-17c15a2c0dec  \n",
       "9     None  ab198be6-dd2a-41ce-889e-4ff41c6ebc12  "
      ]
     },
     "execution_count": 5,
     "metadata": {},
     "output_type": "execute_result"
    }
   ],
   "source": [
    "df = load_batch(batch_path)\n",
    "df"
   ]
  },
  {
   "cell_type": "markdown",
   "id": "5e04d6b2-77b8-4790-b88d-e72c5623c777",
   "metadata": {
    "pycharm": {
     "name": "#%% md\n"
    }
   },
   "source": [
    "# Load outputs\n",
    "\n",
    "CNMF pandas extensions API: https://mesmerize-core.readthedocs.io/en/latest/api/cnmf.html "
   ]
  },
  {
   "cell_type": "code",
   "execution_count": 6,
   "id": "91132418-82f8-4853-bd77-084a0b5e2915",
   "metadata": {
    "pycharm": {
     "name": "#%%\n"
    }
   },
   "outputs": [
    {
     "name": "stdout",
     "output_type": "stream",
     "text": [
      "Decode mmap filename /home/kushalk/caiman_data/mesmerize-batch/3b88d12f-c1f6-4bf3-b004-63c6eaeefbfb/3b88d12f-c1f6-4bf3-b004-63c6eaeefbfb-Sue_2x_3000_40_-46_els__d1_170_d2_170_d3_1_order_F_frames_3000.mmap\n"
     ]
    }
   ],
   "source": [
    "# You can change this to plot the outputs for different batch items\n",
    "index = 1\n",
    "\n",
    "# get the motion corrected input movie as a memmap\n",
    "cnmf_movie = df.iloc[index].caiman.get_input_movie()\n",
    "\n",
    "# we can get the contours of the spatial components\n",
    "contours, coms = df.iloc[index].cnmf.get_contours(\"all\", swap_dim=False)\n",
    "\n",
    "# and temporal components\n",
    "temporal = df.iloc[index].cnmf.get_temporal(\"all\")\n",
    "\n",
    "ixs_good = df.iloc[index].cnmf.get_good_components()\n",
    "ixs_bad = df.iloc[index].cnmf.get_bad_components()"
   ]
  },
  {
   "cell_type": "markdown",
   "id": "7e99e620-ba30-421a-84f0-1e3fb41e37c0",
   "metadata": {
    "pycharm": {
     "name": "#%% md\n"
    }
   },
   "source": [
    "# Visualize CNMF outputs. We'll create some simple and more complex plots."
   ]
  },
  {
   "cell_type": "markdown",
   "id": "cc84e4bb-a5ac-4eaf-94f3-05928e2b9f7b",
   "metadata": {
    "pycharm": {
     "name": "#%%\n"
    }
   },
   "source": [
    "### `ImageWidget` to view contours, and a simple `fastplotlib.Plot` to view temporal components"
   ]
  },
  {
   "cell_type": "code",
   "execution_count": 7,
   "id": "8f61a04d-8c27-4aa1-9955-3190a528dee0",
   "metadata": {},
   "outputs": [],
   "source": [
    "# LineSlider is very new and experimental and is likely to change\n",
    "# that's why it's not exposed as a top-level import\n",
    "from fastplotlib.graphics.line_slider import LineSlider"
   ]
  },
  {
   "cell_type": "code",
   "execution_count": 16,
   "id": "133fe390-988c-465f-a26f-552ac81d26ea",
   "metadata": {},
   "outputs": [
    {
     "data": {
      "application/vnd.jupyter.widget-view+json": {
       "model_id": "ecdf302a6990497593d1d8a97d4cae0d",
       "version_major": 2,
       "version_minor": 0
      },
      "text/plain": [
       "RFBOutputContext()"
      ]
     },
     "metadata": {},
     "output_type": "display_data"
    },
    {
     "data": {
      "application/vnd.jupyter.widget-view+json": {
       "model_id": "1462456580d643c18b21472ec06358f2",
       "version_major": 2,
       "version_minor": 0
      },
      "text/plain": [
       "RFBOutputContext()"
      ]
     },
     "metadata": {},
     "output_type": "display_data"
    },
    {
     "data": {
      "application/vnd.jupyter.widget-view+json": {
       "model_id": "a6de3b32203b4627a6663a1c09fb9995",
       "version_major": 2,
       "version_minor": 0
      },
      "text/plain": [
       "VBox(children=(JupyterWgpuCanvas(), VBox(children=(JupyterWgpuCanvas(), IntSlider(value=0, description='dimens…"
      ]
     },
     "metadata": {},
     "output_type": "display_data"
    }
   ],
   "source": [
    "# for the image data and contours\n",
    "iw_cnmf = ImageWidget(cnmf_movie, vmin_vmax_sliders=True, cmap=\"gnuplot2\")\n",
    "\n",
    "# add good contours to the plot within the widget\n",
    "contours_graphic = iw_cnmf.plot.add_line_collection(contours, colors=\"cyan\", name=\"contours\")\n",
    "contours_graphic[ixs_good].colors = \"cyan\"\n",
    "contours_graphic[ixs_bad].colors = \"magenta\"\n",
    "\n",
    "\n",
    "# temporal plot\n",
    "plot_temporal = Plot()\n",
    "\n",
    "temporal_graphic = plot_temporal.add_line_collection(temporal, colors=\"cyan\", name=\"temporal\")\n",
    "temporal_graphic[ixs_good].colors = \"cyan\"\n",
    "temporal_graphic[ixs_bad].colors = \"magenta\"\n",
    "\n",
    "# a vertical line that is syncronized to the image widget \"t\" (timepoint) slider\n",
    "_ls = LineSlider(x_pos=0, bounds=(temporal.min(), temporal.max()), slider=iw_cnmf.sliders[\"t\"])\n",
    "plot_temporal.add_graphic(_ls)\n",
    "\n",
    "# stack them\n",
    "VBox([plot_temporal.show(), iw_cnmf.show()])"
   ]
  },
  {
   "cell_type": "markdown",
   "id": "4df8e635-4992-4827-b070-6c285c428c8a",
   "metadata": {},
   "source": [
    "Auto-scale temporal plot, you can only do this after calling `show()`"
   ]
  },
  {
   "cell_type": "code",
   "execution_count": 17,
   "id": "9d69932b-ea97-4af1-a27f-46649a6b1c9a",
   "metadata": {},
   "outputs": [],
   "source": [
    "plot_temporal.auto_scale()\n",
    "plot_temporal.camera.scale.x = 0.85"
   ]
  },
  {
   "cell_type": "markdown",
   "id": "085920a1-dc24-4367-aa92-62e1ef5c1da3",
   "metadata": {},
   "source": [
    "# Interactivity"
   ]
  },
  {
   "cell_type": "code",
   "execution_count": 18,
   "id": "2d4dc4b4-acc6-40fd-b1d5-542106c21540",
   "metadata": {},
   "outputs": [],
   "source": [
    "# don't worry about understanding this function\n",
    "def euclidean(source, target, event, new_data):\n",
    "    \"\"\"maps click events to contour\"\"\"\n",
    "    # calculate coms of line collection\n",
    "    indices = np.array(event.pick_info[\"index\"])\n",
    "    \n",
    "    coms = list()\n",
    "\n",
    "    for contour in target.graphics:\n",
    "        coors = contour.data()[~np.isnan(contour.data()).any(axis=1)]\n",
    "        com = coors.mean(axis=0)\n",
    "        coms.append(com)\n",
    "\n",
    "    # euclidean distance to find closest index of com \n",
    "    indices = np.append(indices, [0])\n",
    "    \n",
    "    ix = int(np.linalg.norm((coms - indices), axis=1).argsort()[0])\n",
    "    \n",
    "    target._set_feature(feature=\"colors\", new_data=new_data, indices=ix)\n",
    "    \n",
    "    return None"
   ]
  },
  {
   "cell_type": "code",
   "execution_count": 19,
   "id": "1633e5b1-fca2-4e21-a55d-a45a2f482c54",
   "metadata": {},
   "outputs": [
    {
     "name": "stderr",
     "output_type": "stream",
     "text": [
      "/home/kushalk/repos/fastplotlib/fastplotlib/graphics/features/_base.py:87: UserWarning: Event handler <bound method Interaction.event_handler of 'contours': LineCollection @ 0x7ff5030be8f0\n",
      "Collection of <155> Graphics> is already registered.\n",
      "  warn(f\"Event handler {handler} is already registered.\")\n"
     ]
    }
   ],
   "source": [
    "# so we can view them one by one, first hide all of them\n",
    "temporal_graphic[:].present = False\n",
    "\n",
    "image_graphic = iw_cnmf.plot[\"image\"]\n",
    "\n",
    "# link image to contours\n",
    "image_graphic.link(\n",
    "    \"click\",\n",
    "    target=contours_graphic,\n",
    "    feature=\"colors\", \n",
    "    new_data=\"w\", \n",
    "    callback=euclidean\n",
    ")\n",
    "\n",
    "# link contour color changes (which are triggered by the click events as defined above) to everything else\n",
    "\n",
    "# thickness of contour\n",
    "contours_graphic.link(\"colors\", target=contours_graphic, feature=\"thickness\", new_data=5)\n",
    "\n",
    "# toggle temporal component when contour changes color\n",
    "contours_graphic.link(\"colors\", target=temporal_graphic, feature=\"present\", new_data=True)\n",
    "# autoscale temporal plot to the current temporal component\n",
    "temporal_graphic[:].present.add_event_handler(plot_temporal.auto_scale)"
   ]
  },
  {
   "cell_type": "markdown",
   "id": "7ecf6c63-8190-4e72-bcdb-eca0304d891d",
   "metadata": {},
   "source": [
    "Close canvases if you GPU is slow"
   ]
  },
  {
   "cell_type": "code",
   "execution_count": 12,
   "id": "51102b50-e146-4c25-94ee-4a532cf4a27b",
   "metadata": {
    "pycharm": {
     "name": "#%%\n"
    }
   },
   "outputs": [],
   "source": [
    "plot_temporal.canvas.close()\n",
    "iw_cnmf.plot.canvas.close()"
   ]
  },
  {
   "cell_type": "markdown",
   "id": "50012ed6-ffb9-4a44-9f41-554fb96a88a0",
   "metadata": {
    "pycharm": {
     "name": "#%% md\n"
    }
   },
   "source": [
    "# View the reconstructed movie, residuals, and reconstructed background\n",
    "\n",
    "### We can get each of these as a mesmerize `LazyArray` which allows fast visualization of larger-than-RAM arrays that can be computed on the fly."
   ]
  },
  {
   "cell_type": "code",
   "execution_count": 20,
   "id": "9294d10b-4d09-467e-b9f3-63ef7b55b766",
   "metadata": {
    "pycharm": {
     "name": "#%%\n"
    }
   },
   "outputs": [
    {
     "data": {
      "text/plain": [
       "LazyArrayRCM @0x7ff5c3d82e60\n",
       "LazyArray for reconstructed movie, i.e. A ⊗ C\n",
       "Frames are computed only upon indexing\n",
       "shape [frames, x, y]: (3000, 170, 170)\n",
       "n_components: 155"
      ]
     },
     "execution_count": 20,
     "metadata": {},
     "output_type": "execute_result"
    }
   ],
   "source": [
    "# reconstructed movie, A * C\n",
    "rcm = df.iloc[index].cnmf.get_rcm()\n",
    "rcm"
   ]
  },
  {
   "cell_type": "markdown",
   "id": "2f1504c2-7f1a-45e0-88ef-69feb629ba1d",
   "metadata": {},
   "source": [
    "### `LazyArray` behaves similar to numpy arrays. But frames are computed only uppon indexing."
   ]
  },
  {
   "cell_type": "code",
   "execution_count": 21,
   "id": "6cf04c45-f1ba-4fe5-b4c8-95ba9e6d0a2e",
   "metadata": {},
   "outputs": [
    {
     "data": {
      "text/plain": [
       "(170, 170)"
      ]
     },
     "execution_count": 21,
     "metadata": {},
     "output_type": "execute_result"
    }
   ],
   "source": [
    "rcm[100].shape"
   ]
  },
  {
   "cell_type": "code",
   "execution_count": 22,
   "id": "f35fd885-bf63-4df2-9eed-7c4d24bf9cb1",
   "metadata": {},
   "outputs": [
    {
     "data": {
      "text/plain": [
       "(3000, 170, 170)"
      ]
     },
     "execution_count": 22,
     "metadata": {},
     "output_type": "execute_result"
    }
   ],
   "source": [
    "rcm.shape"
   ]
  },
  {
   "cell_type": "markdown",
   "id": "34dd3cc2-bca9-4f39-941f-33a090b8f8df",
   "metadata": {
    "tags": []
   },
   "source": [
    "### Get size of the full array in gigabytes if it were entirely stored in RAM. This can be very large for real daa."
   ]
  },
  {
   "cell_type": "code",
   "execution_count": 23,
   "id": "f3f708fe-e3d5-4daa-94d4-ab52f40b0817",
   "metadata": {},
   "outputs": [
    {
     "data": {
      "text/plain": [
       "0.6936"
      ]
     },
     "execution_count": 23,
     "metadata": {},
     "output_type": "execute_result"
    }
   ],
   "source": [
    "rcm.nbytes_gb"
   ]
  },
  {
   "cell_type": "markdown",
   "id": "1ba34cb1-7a82-41bf-90d4-423cad3875c2",
   "metadata": {},
   "source": [
    "### Some lazy arrays contain pre-computed min and max for the array, and other useful properties"
   ]
  },
  {
   "cell_type": "code",
   "execution_count": 24,
   "id": "2d1d4b79-8d42-4284-806a-4ed93ab54259",
   "metadata": {},
   "outputs": [
    {
     "data": {
      "text/plain": [
       "1720.0136358170955"
      ]
     },
     "execution_count": 24,
     "metadata": {},
     "output_type": "execute_result"
    }
   ],
   "source": [
    "rcm.max"
   ]
  },
  {
   "cell_type": "code",
   "execution_count": 25,
   "id": "66a293c3-9c0e-477c-ab30-bc476352656e",
   "metadata": {},
   "outputs": [
    {
     "data": {
      "application/vnd.jupyter.widget-view+json": {
       "model_id": "0651ba1569774807a00d3688add977bd",
       "version_major": 2,
       "version_minor": 0
      },
      "text/plain": [
       "RFBOutputContext()"
      ]
     },
     "metadata": {},
     "output_type": "display_data"
    },
    {
     "data": {
      "text/html": [
       "<div class='initial-snapshot-2f58418adaa94709a9084941c1c423cf' style='position:relative;'><img src='data:image/png;base64,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' style='width:500.0px;height:300.0px;' /><div style='position: absolute; top:0; left:0; padding:1px 3px; background: #777; color:#fff; font-size: 90%; font-family:sans-serif; '>initial snapshot</div></div>"
      ],
      "text/plain": [
       "<jupyter_rfb._utils.Snapshot object>"
      ]
     },
     "metadata": {},
     "output_type": "display_data"
    },
    {
     "data": {
      "application/vnd.jupyter.widget-view+json": {
       "model_id": "2f58418adaa94709a9084941c1c423cf",
       "version_major": 2,
       "version_minor": 0
      },
      "text/plain": [
       "JupyterWgpuCanvas()"
      ]
     },
     "execution_count": 25,
     "metadata": {},
     "output_type": "execute_result"
    }
   ],
   "source": [
    "gp = GridPlot((2, 2), controllers=\"sync\")\n",
    "\n",
    "for sp, img in zip(gp, [rcm.max_image, rcm.min_image, rcm.mean_image, rcm.std_image]):\n",
    "    sp.add_image(img)\n",
    "    \n",
    "gp.show()"
   ]
  },
  {
   "cell_type": "code",
   "execution_count": 19,
   "id": "889817d7-a4a3-4a60-8087-fe6f13f165d1",
   "metadata": {},
   "outputs": [],
   "source": [
    "gp.canvas.close()"
   ]
  },
  {
   "cell_type": "markdown",
   "id": "111e2a5b-fa04-4e70-a3f2-9c01ddf551fb",
   "metadata": {},
   "source": [
    "# Visualize RCM, RCB and Residuals"
   ]
  },
  {
   "cell_type": "code",
   "execution_count": 28,
   "id": "ba8f33fe-a170-45cb-8e89-623194117446",
   "metadata": {},
   "outputs": [
    {
     "data": {
      "application/vnd.jupyter.widget-view+json": {
       "model_id": "0db477dc5fa045da886e1e448a11f703",
       "version_major": 2,
       "version_minor": 0
      },
      "text/plain": [
       "RFBOutputContext()"
      ]
     },
     "metadata": {},
     "output_type": "display_data"
    },
    {
     "name": "stderr",
     "output_type": "stream",
     "text": [
      "/home/kushalk/repos/mesmerize-core/mesmerize_core/arrays/_cnmf.py:246: UserWarning: min and max not yet implemented for LazyArrayResiduals. Using first frame of raw movie\n",
      "  warn(\"min and max not yet implemented for LazyArrayResiduals. \"\n",
      "/home/kushalk/repos/mesmerize-core/mesmerize_core/arrays/_cnmf.py:252: UserWarning: min and max not yet implemented for LazyArrayResiduals. Using first frame of raw movie\n",
      "  warn(\"min and max not yet implemented for LazyArrayResiduals. \"\n"
     ]
    },
    {
     "data": {
      "application/vnd.jupyter.widget-view+json": {
       "model_id": "c7d465f165f94a28bd6a94aa5d4e0aad",
       "version_major": 2,
       "version_minor": 0
      },
      "text/plain": [
       "VBox(children=(JupyterWgpuCanvas(), IntSlider(value=0, description='dimension: t', max=2999), FloatRangeSlider…"
      ]
     },
     "metadata": {},
     "output_type": "display_data"
    }
   ],
   "source": [
    "rcb = df.iloc[index].cnmf.get_rcb()\n",
    "residuals = df.iloc[index].cnmf.get_residuals()\n",
    "\n",
    "iw_cnmf_grid = ImageWidget(\n",
    "    data=[cnmf_movie, rcm, rcb, residuals],\n",
    "    vmin_vmax_sliders=True,\n",
    "    cmap=\"gnuplot2\",\n",
    "    names=[\"movie\", \"A * C\", \"b * f\", \"residuals\"]\n",
    ")\n",
    "\n",
    "for subplot in iw_cnmf_grid.plot:\n",
    "    _contours = subplot.add_line_collection(contours, thickness=1.0, name=\"contours\")\n",
    "    _contours[ixs_good].colors = \"cyan\"\n",
    "    _contours[ixs_bad].colors = \"magenta\"\n",
    "\n",
    "iw_cnmf_grid.show()"
   ]
  },
  {
   "cell_type": "code",
   "execution_count": 40,
   "id": "cb3b4e92-6f4b-4538-aeae-3a8d11115fe7",
   "metadata": {},
   "outputs": [],
   "source": [
    "# temporarily hide bad components\n",
    "for subplot in iw_cnmf_grid.plot:\n",
    "    subplot[\"contours\"][ixs_bad].present = False"
   ]
  },
  {
   "cell_type": "code",
   "execution_count": 38,
   "id": "d7a8185a-5a82-43ae-8a08-fb9aba8972ff",
   "metadata": {},
   "outputs": [],
   "source": [
    "   # hide good components\n",
    "for subplot in iw_cnmf_grid.plot:\n",
    "    subplot[\"contours\"][ixs_good].present = False"
   ]
  },
  {
   "cell_type": "code",
   "execution_count": 39,
   "id": "3da3f01e-aae4-4525-99d1-f0ec8a03277e",
   "metadata": {},
   "outputs": [],
   "source": [
    "# make everything un-hidden, indexing [:] means \"everything\"\n",
    "for subplot in iw_cnmf_grid.plot:\n",
    "    subplot[\"contours\"][:].present = True"
   ]
  },
  {
   "cell_type": "markdown",
   "id": "84301fdf-4d50-4157-a1ae-a76187da11e5",
   "metadata": {},
   "source": [
    "### Close the canvas to free up the GPU if necessary "
   ]
  },
  {
   "cell_type": "code",
   "execution_count": 21,
   "id": "69359b5b-aa25-4e3a-96ca-93440f82944c",
   "metadata": {},
   "outputs": [],
   "source": [
    "iw_cnmf_grid.plot.canvas.close()"
   ]
  },
  {
   "cell_type": "markdown",
   "id": "f19ab110-3c2f-4d0c-b21a-59641728424c",
   "metadata": {},
   "source": [
    "# Visualize movie, rcm, and stack of temporal components\n",
    "\n",
    "This example shows only good components, but as shown before you can also compare between good and bad components if you want. You could also use a `GridPlot` or `ImageWidget` to view the contours on top of the residuals and reconstructed background to evaluate if CNMF captured everything."
   ]
  },
  {
   "cell_type": "code",
   "execution_count": 42,
   "id": "477fb129-4453-4fa6-ae29-7dc3ba08568b",
   "metadata": {},
   "outputs": [
    {
     "data": {
      "application/vnd.jupyter.widget-view+json": {
       "model_id": "61baa4b0c7bf42dc935260010ea0fb31",
       "version_major": 2,
       "version_minor": 0
      },
      "text/plain": [
       "RFBOutputContext()"
      ]
     },
     "metadata": {},
     "output_type": "display_data"
    },
    {
     "data": {
      "application/vnd.jupyter.widget-view+json": {
       "model_id": "154b5d5f7c1a4c78b6e4ea189b454f3e",
       "version_major": 2,
       "version_minor": 0
      },
      "text/plain": [
       "RFBOutputContext()"
      ]
     },
     "metadata": {},
     "output_type": "display_data"
    },
    {
     "data": {
      "application/vnd.jupyter.widget-view+json": {
       "model_id": "4d749834252a43fcae21a13bc6e43b5f",
       "version_major": 2,
       "version_minor": 0
      },
      "text/plain": [
       "VBox(children=(JupyterWgpuCanvas(), JupyterWgpuCanvas(), IntSlider(value=0, max=2999)))"
      ]
     },
     "metadata": {},
     "output_type": "display_data"
    }
   ],
   "source": [
    "# 1 row, 3 columns, sync the first 2 subplots plots\n",
    "cnmf_grid_more = GridPlot((1, 3), controllers=[[0, 0, 1]], names=[[\"movie\", \"rcm\", \"temporal\"]])\n",
    "\n",
    "# movie and rcm, rcm is a lazy array and behaves similar to numpy arrays\n",
    "movie_graphic = cnmf_grid_more[\"movie\"].add_image(cnmf_movie[0], cmap=\"gnuplot2\")\n",
    "rcm_graphic = cnmf_grid_more[\"rcm\"].add_image(rcm[0], cmap=\"gnuplot2\")\n",
    "\n",
    "# contours for good components\n",
    "contours_good, coms = df.iloc[index].cnmf.get_contours(\"good\", swap_dim=False)\n",
    "\n",
    "# random colors for contours and temporal components\n",
    "# make an RGBA array for each color\n",
    "rand_colors = np.random.rand(len(contours_good), 4)  # [n_contours, RGBA]\n",
    "rand_colors[:, -1] = 1 # set alpha = 1\n",
    "\n",
    "# get temporal of only good components\n",
    "temporal_good = df.iloc[index].cnmf.get_temporal(\"good\")\n",
    "\n",
    "# add contours to both movie and rcm subplots\n",
    "contours_movie = cnmf_grid_more[\"movie\"].add_line_collection(contours_good, colors=rand_colors)\n",
    "contours_rcm = cnmf_grid_more[\"rcm\"].add_line_collection(contours_good, colors=rand_colors)\n",
    "\n",
    "# line stack of temporal components\n",
    "temporal_stack = cnmf_grid_more[\"temporal\"].add_line_stack(temporal_good, colors=rand_colors, thickness=3.0, separate=15)\n",
    "\n",
    "# plot single temporal, just like before\n",
    "plot_temporal_single = Plot()\n",
    "temporal_graphic = plot_temporal_single.add_line_collection(temporal_good, colors=rand_colors)\n",
    "\n",
    "# since this is a GridPlot and not an ImageWidget we need to define sliders\n",
    "slider = IntSlider(min=0, max=cnmf_movie.shape[0] - 1, value=0, step=1)\n",
    "\n",
    "# vertical line sliders\n",
    "_ls = LineSlider(x_pos=0, bounds=(temporal.min(), temporal.max()), slider=slider)\n",
    "_ls2 = LineSlider(x_pos=0, bounds=(temporal.min(), temporal.max() + temporal_stack.graphics[-1].position.y), slider=slider)\n",
    "plot_temporal_single.add_graphic(_ls)\n",
    "cnmf_grid_more[\"temporal\"].add_graphic(_ls2)\n",
    "\n",
    "# function to update each frame\n",
    "def update_frame(change):\n",
    "    ix = change[\"new\"]\n",
    "    movie_graphic.data = cnmf_movie[ix]\n",
    "    rcm_graphic.data = rcm[ix]\n",
    "    \n",
    "slider.observe(update_frame, \"value\")\n",
    "\n",
    "@plot_temporal_single.renderer.add_event_handler(\"resize\")\n",
    "def update_slider_width(*args):\n",
    "    width, h = plot_temporal_single.renderer.logical_size\n",
    "    slider.layout = Layout(width=f\"{width}px\")\n",
    "    \n",
    "VBox([plot_temporal_single.show(), cnmf_grid_more.show(), slider])"
   ]
  },
  {
   "cell_type": "markdown",
   "id": "5c5107a2-6245-4960-a265-6de869de8228",
   "metadata": {},
   "source": [
    "### autoscaling"
   ]
  },
  {
   "cell_type": "code",
   "execution_count": 43,
   "id": "514834da-9f95-44f1-abd3-b90c58d3a9b9",
   "metadata": {},
   "outputs": [],
   "source": [
    "plot_temporal_single.auto_scale()\n",
    "plot_temporal_single.camera.scale.x = 0.85\n",
    "cnmf_grid_more[\"temporal\"].auto_scale()"
   ]
  },
  {
   "cell_type": "markdown",
   "id": "8dccee77-ee82-4557-95ac-e80f363c2aee",
   "metadata": {},
   "source": [
    "### Interactivity just like before"
   ]
  },
  {
   "cell_type": "code",
   "execution_count": 44,
   "id": "36ff16c2-7675-4f2f-9b3c-26699e36e305",
   "metadata": {},
   "outputs": [
    {
     "name": "stderr",
     "output_type": "stream",
     "text": [
      "/home/kushalk/repos/fastplotlib/fastplotlib/graphics/features/_base.py:87: UserWarning: Event handler <bound method Interaction.event_handler of LineCollection @ 0x7ff4afc1bd60\n",
      "Collection of <73> Graphics> is already registered.\n",
      "  warn(f\"Event handler {handler} is already registered.\")\n",
      "/home/kushalk/repos/fastplotlib/fastplotlib/graphics/features/_base.py:87: UserWarning: Event handler <bound method Interaction.event_handler of LineCollection @ 0x7ff4af1979a0\n",
      "Collection of <73> Graphics> is already registered.\n",
      "  warn(f\"Event handler {handler} is already registered.\")\n",
      "/home/kushalk/repos/fastplotlib/fastplotlib/graphics/features/_base.py:87: UserWarning: Event handler <bound method Interaction.event_handler of LineStack @ 0x7ff4af1b18d0\n",
      "Collection of <73> Graphics> is already registered.\n",
      "  warn(f\"Event handler {handler} is already registered.\")\n"
     ]
    }
   ],
   "source": [
    "# so we can view them one by one, first hide all of them\n",
    "temporal_graphic[:].present = False\n",
    "\n",
    "# link image to contours\n",
    "movie_graphic.link(\n",
    "    \"click\",\n",
    "    target=contours_movie,\n",
    "    feature=\"colors\", \n",
    "    new_data=\"w\", \n",
    "    callback=euclidean  # we cam re-use it from before\n",
    ")\n",
    "\n",
    "# link image to contours\n",
    "rcm_graphic.link(\n",
    "    \"click\",\n",
    "    target=contours_rcm,\n",
    "    feature=\"colors\", \n",
    "    new_data=\"w\", \n",
    "    callback=euclidean  # we cam re-use it from before\n",
    ")\n",
    "\n",
    "# contours colors -> contor thickness\n",
    "contours_movie.link(\"colors\", target=contours_movie, feature=\"thickness\", new_data=5)\n",
    "contours_rcm.link(\"colors\", target=contours_rcm, feature=\"thickness\", new_data=5)\n",
    "\n",
    "# contours_movie <-> contours_rcm\n",
    "contours_rcm.link(\"colors\", target=contours_movie, feature=\"colors\", new_data=\"w\", bidirectional=True)\n",
    "\n",
    "# temporal stack events\n",
    "temporal_stack.link(\"click\", target=temporal_stack, feature=\"colors\", new_data=\"w\")\n",
    "temporal_stack.link(\"colors\", target=temporal_stack, feature=\"thickness\", new_data=4)\n",
    "\n",
    "# contours <-> temporal stack\n",
    "contours_movie.link(\"colors\", target=temporal_stack, feature=\"colors\", new_data=\"w\", bidirectional=True)\n",
    "\n",
    "# temporal stack -> temporal single\n",
    "temporal_stack.link(\"colors\", target=temporal_graphic, feature=\"present\", new_data=True)\n",
    "\n",
    "# autoscale temporal plot to the current temporal component\n",
    "temporal_graphic[:].present.add_event_handler(plot_temporal_single.auto_scale)"
   ]
  },
  {
   "cell_type": "code",
   "execution_count": 25,
   "id": "5795ad78-2f64-4a0b-8a00-c743a45218f8",
   "metadata": {},
   "outputs": [],
   "source": [
    "plot_temporal_single.canvas.close()\n",
    "cnmf_grid_more.canvas.close()"
   ]
  }
 ],
 "metadata": {
  "kernelspec": {
   "display_name": "Python 3 (ipykernel)",
   "language": "python",
   "name": "python3"
  },
  "language_info": {
   "codemirror_mode": {
    "name": "ipython",
    "version": 3
   },
   "file_extension": ".py",
   "mimetype": "text/x-python",
   "name": "python",
   "nbconvert_exporter": "python",
   "pygments_lexer": "ipython3",
   "version": "3.10.5"
  }
 },
 "nbformat": 4,
 "nbformat_minor": 5
}
