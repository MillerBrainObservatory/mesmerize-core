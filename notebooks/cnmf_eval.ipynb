{
 "cells": [
  {
   "cell_type": "markdown",
   "id": "2718745b-086c-459d-ade5-f07093669b5b",
   "metadata": {},
   "source": [
    "# CNMF Componenent evaluation\n",
    "\n",
    "This is similar to the last visualization in `cnmf_viz.ipynb` but combines it with component evaluation"
   ]
  },
  {
   "cell_type": "markdown",
   "id": "dfd7d2e9-7ced-4089-abc5-607a3d420ec2",
   "metadata": {},
   "source": [
    "View cmaps with `r_values`, `cnn_preds`, `comp_SNR`\n",
    "\n",
    "Click on components and press `\"g\"` to add to good, `\"b\"` to add to bad."
   ]
  },
  {
   "cell_type": "code",
   "execution_count": 1,
   "id": "94da3a08-de8b-4e95-91c1-3c287f28f4f6",
   "metadata": {
    "pycharm": {
     "name": "#%%\n"
    },
    "tags": []
   },
   "outputs": [
    {
     "name": "stderr",
     "output_type": "stream",
     "text": [
      "2023-01-08 02:03:38.940651: I tensorflow/core/platform/cpu_feature_guard.cc:193] This TensorFlow binary is optimized with oneAPI Deep Neural Network Library (oneDNN) to use the following CPU instructions in performance-critical operations:  AVX2 FMA\n",
      "To enable them in other operations, rebuild TensorFlow with the appropriate compiler flags.\n",
      "2023-01-08 02:03:39.023944: E tensorflow/stream_executor/cuda/cuda_blas.cc:2981] Unable to register cuBLAS factory: Attempting to register factory for plugin cuBLAS when one has already been registered\n",
      "2023-01-08 02:03:39.415634: W tensorflow/stream_executor/platform/default/dso_loader.cc:64] Could not load dynamic library 'libnvinfer.so.7'; dlerror: libnvinfer.so.7: cannot open shared object file: No such file or directory; LD_LIBRARY_PATH: /home/kushalk/python-venvs/mescore/lib/python3.10/site-packages/cv2/../../lib64:/usr/local/cuda-11.2/lib64:/usr/local/cuda-11.2/lib64\n",
      "2023-01-08 02:03:39.415684: W tensorflow/stream_executor/platform/default/dso_loader.cc:64] Could not load dynamic library 'libnvinfer_plugin.so.7'; dlerror: libnvinfer_plugin.so.7: cannot open shared object file: No such file or directory; LD_LIBRARY_PATH: /home/kushalk/python-venvs/mescore/lib/python3.10/site-packages/cv2/../../lib64:/usr/local/cuda-11.2/lib64:/usr/local/cuda-11.2/lib64\n",
      "2023-01-08 02:03:39.415688: W tensorflow/compiler/tf2tensorrt/utils/py_utils.cc:38] TF-TRT Warning: Cannot dlopen some TensorRT libraries. If you would like to use Nvidia GPU with TensorRT, please make sure the missing libraries mentioned above are installed properly.\n"
     ]
    }
   ],
   "source": [
    "from mesmerize_core import *\n",
    "import numpy as np\n",
    "import pandas as pd"
   ]
  },
  {
   "cell_type": "code",
   "execution_count": 13,
   "id": "8b545b87-ecd9-485f-95bf-e8503d33e880",
   "metadata": {
    "pycharm": {
     "name": "#%%\n"
    }
   },
   "outputs": [
    {
     "ename": "ImportError",
     "evalue": "cannot import name 'make_colors' from 'fastplotlib.utils' (/home/kushalk/repos/fastplotlib/fastplotlib/utils/__init__.py)",
     "output_type": "error",
     "traceback": [
      "\u001b[0;31m---------------------------------------------------------------------------\u001b[0m",
      "\u001b[0;31mImportError\u001b[0m                               Traceback (most recent call last)",
      "Cell \u001b[0;32mIn [13], line 2\u001b[0m\n\u001b[1;32m      1\u001b[0m \u001b[38;5;28;01mfrom\u001b[39;00m \u001b[38;5;21;01mfastplotlib\u001b[39;00m \u001b[38;5;28;01mimport\u001b[39;00m ImageWidget, Plot, GridPlot\n\u001b[0;32m----> 2\u001b[0m \u001b[38;5;28;01mfrom\u001b[39;00m \u001b[38;5;21;01mfastplotlib\u001b[39;00m\u001b[38;5;21;01m.\u001b[39;00m\u001b[38;5;21;01mutils\u001b[39;00m \u001b[38;5;28;01mimport\u001b[39;00m make_colors\n\u001b[1;32m      3\u001b[0m \u001b[38;5;28;01mfrom\u001b[39;00m \u001b[38;5;21;01mfastplotlib\u001b[39;00m\u001b[38;5;21;01m.\u001b[39;00m\u001b[38;5;21;01mgraphics\u001b[39;00m\u001b[38;5;21;01m.\u001b[39;00m\u001b[38;5;21;01mline_slider\u001b[39;00m \u001b[38;5;28;01mimport\u001b[39;00m LineSlider\n\u001b[1;32m      4\u001b[0m \u001b[38;5;28;01mfrom\u001b[39;00m \u001b[38;5;21;01mipywidgets\u001b[39;00m \u001b[38;5;28;01mimport\u001b[39;00m VBox, IntSlider, Layout\n",
      "\u001b[0;31mImportError\u001b[0m: cannot import name 'make_colors' from 'fastplotlib.utils' (/home/kushalk/repos/fastplotlib/fastplotlib/utils/__init__.py)"
     ]
    }
   ],
   "source": [
    "from fastplotlib import ImageWidget, Plot, GridPlot\n",
    "from fastplotlib.utils import get_colors\n",
    "from fastplotlib.graphics.line_slider import LineSlider\n",
    "from ipywidgets import VBox, IntSlider, Layout"
   ]
  },
  {
   "cell_type": "code",
   "execution_count": 3,
   "id": "c6e96b7a-cd03-40e9-880d-7117e0b1e945",
   "metadata": {},
   "outputs": [],
   "source": [
    "pd.options.display.max_colwidth = 120"
   ]
  },
  {
   "cell_type": "markdown",
   "id": "acfdab52-b3b6-4875-8adc-42fa1fcbd48c",
   "metadata": {},
   "source": [
    "# Paths"
   ]
  },
  {
   "cell_type": "code",
   "execution_count": 4,
   "id": "bc817645-0d60-43bd-8126-c08d66c84699",
   "metadata": {
    "pycharm": {
     "name": "#%%\n"
    }
   },
   "outputs": [],
   "source": [
    "# for this demo set this dir as the path to your `caiman_data` dir\n",
    "set_parent_raw_data_path(\"/home/kushalk/caiman_data/\")\n",
    "\n",
    "# batch path\n",
    "batch_path = get_parent_raw_data_path().joinpath(\"mesmerize-core-batch/batch.pickle\")"
   ]
  },
  {
   "cell_type": "markdown",
   "id": "6c5d98f1-9299-4a08-b180-9e5e967638e0",
   "metadata": {},
   "source": [
    "## Load batch"
   ]
  },
  {
   "cell_type": "code",
   "execution_count": 5,
   "id": "8a705c90-5463-42ae-a484-210c82e6c7a0",
   "metadata": {
    "pycharm": {
     "name": "#%%\n"
    }
   },
   "outputs": [
    {
     "data": {
      "text/html": [
       "<div>\n",
       "<style scoped>\n",
       "    .dataframe tbody tr th:only-of-type {\n",
       "        vertical-align: middle;\n",
       "    }\n",
       "\n",
       "    .dataframe tbody tr th {\n",
       "        vertical-align: top;\n",
       "    }\n",
       "\n",
       "    .dataframe thead th {\n",
       "        text-align: right;\n",
       "    }\n",
       "</style>\n",
       "<table border=\"1\" class=\"dataframe\">\n",
       "  <thead>\n",
       "    <tr style=\"text-align: right;\">\n",
       "      <th></th>\n",
       "      <th>algo</th>\n",
       "      <th>item_name</th>\n",
       "      <th>input_movie_path</th>\n",
       "      <th>params</th>\n",
       "      <th>outputs</th>\n",
       "      <th>comments</th>\n",
       "      <th>uuid</th>\n",
       "    </tr>\n",
       "  </thead>\n",
       "  <tbody>\n",
       "    <tr>\n",
       "      <th>0</th>\n",
       "      <td>mcorr</td>\n",
       "      <td>Sue_2x_3000_40_-46</td>\n",
       "      <td>example_movies/Sue_2x_3000_40_-46.tif</td>\n",
       "      <td>{'main': {'max_shifts': (6, 6), 'strides': (24, 24), 'overlaps': (12, 12), 'max_deviation_rigid': 3, 'border_nan': '...</td>\n",
       "      <td>{'mean-projection-path': 09610b86-917a-41e7-a493-2d036bf44428/09610b86-917a-41e7-a493-2d036bf44428_mean_projection.n...</td>\n",
       "      <td>None</td>\n",
       "      <td>09610b86-917a-41e7-a493-2d036bf44428</td>\n",
       "    </tr>\n",
       "    <tr>\n",
       "      <th>1</th>\n",
       "      <td>cnmf</td>\n",
       "      <td>Sue_2x_3000_40_-46</td>\n",
       "      <td>09610b86-917a-41e7-a493-2d036bf44428/09610b86-917a-41e7-a493-2d036bf44428-Sue_2x_3000_40_-46_els__d1_170_d2_170_d3_1...</td>\n",
       "      <td>{'main': {'fr': 30, 'p': 1, 'nb': 2, 'merge_thr': 0.85, 'rf': 15, 'stride': 6, 'K': 4, 'gSig': (4, 4), 'ssub': 1, 't...</td>\n",
       "      <td>{'mean-projection-path': 2b9dabd8-7d22-4327-8479-aea36bde79cf/2b9dabd8-7d22-4327-8479-aea36bde79cf_mean_projection.n...</td>\n",
       "      <td>None</td>\n",
       "      <td>2b9dabd8-7d22-4327-8479-aea36bde79cf</td>\n",
       "    </tr>\n",
       "    <tr>\n",
       "      <th>2</th>\n",
       "      <td>cnmf</td>\n",
       "      <td>Sue_2x_3000_40_-46</td>\n",
       "      <td>09610b86-917a-41e7-a493-2d036bf44428/09610b86-917a-41e7-a493-2d036bf44428-Sue_2x_3000_40_-46_els__d1_170_d2_170_d3_1...</td>\n",
       "      <td>{'main': {'fr': 30, 'p': 1, 'nb': 2, 'merge_thr': 0.8, 'rf': 15, 'stride': 6, 'K': 4, 'gSig': (6, 6), 'ssub': 1, 'ts...</td>\n",
       "      <td>{'mean-projection-path': 38f85afb-417f-453a-8da5-28753b0dc290/38f85afb-417f-453a-8da5-28753b0dc290_mean_projection.n...</td>\n",
       "      <td>None</td>\n",
       "      <td>38f85afb-417f-453a-8da5-28753b0dc290</td>\n",
       "    </tr>\n",
       "    <tr>\n",
       "      <th>3</th>\n",
       "      <td>cnmf</td>\n",
       "      <td>Sue_2x_3000_40_-46</td>\n",
       "      <td>09610b86-917a-41e7-a493-2d036bf44428/09610b86-917a-41e7-a493-2d036bf44428-Sue_2x_3000_40_-46_els__d1_170_d2_170_d3_1...</td>\n",
       "      <td>{'main': {'fr': 30, 'p': 1, 'nb': 2, 'merge_thr': 0.95, 'rf': 15, 'stride': 6, 'K': 4, 'gSig': (6, 6), 'ssub': 1, 't...</td>\n",
       "      <td>{'mean-projection-path': a49689ad-f093-49ff-9a86-058835eccd34/a49689ad-f093-49ff-9a86-058835eccd34_mean_projection.n...</td>\n",
       "      <td>None</td>\n",
       "      <td>a49689ad-f093-49ff-9a86-058835eccd34</td>\n",
       "    </tr>\n",
       "    <tr>\n",
       "      <th>4</th>\n",
       "      <td>cnmf</td>\n",
       "      <td>Sue_2x_3000_40_-46</td>\n",
       "      <td>09610b86-917a-41e7-a493-2d036bf44428/09610b86-917a-41e7-a493-2d036bf44428-Sue_2x_3000_40_-46_els__d1_170_d2_170_d3_1...</td>\n",
       "      <td>{'main': {'fr': 30, 'p': 1, 'nb': 2, 'merge_thr': 0.8, 'rf': 15, 'stride': 6, 'K': 8, 'gSig': (6, 6), 'ssub': 1, 'ts...</td>\n",
       "      <td>{'mean-projection-path': f67dbcb9-fd5b-4d81-acc4-f080a7f81db4/f67dbcb9-fd5b-4d81-acc4-f080a7f81db4_mean_projection.n...</td>\n",
       "      <td>None</td>\n",
       "      <td>f67dbcb9-fd5b-4d81-acc4-f080a7f81db4</td>\n",
       "    </tr>\n",
       "    <tr>\n",
       "      <th>5</th>\n",
       "      <td>cnmf</td>\n",
       "      <td>Sue_2x_3000_40_-46</td>\n",
       "      <td>09610b86-917a-41e7-a493-2d036bf44428/09610b86-917a-41e7-a493-2d036bf44428-Sue_2x_3000_40_-46_els__d1_170_d2_170_d3_1...</td>\n",
       "      <td>{'main': {'fr': 30, 'p': 1, 'nb': 2, 'merge_thr': 0.95, 'rf': 15, 'stride': 6, 'K': 8, 'gSig': (6, 6), 'ssub': 1, 't...</td>\n",
       "      <td>{'mean-projection-path': ff76c624-2c29-4c2d-ba91-3eb471a8e9e3/ff76c624-2c29-4c2d-ba91-3eb471a8e9e3_mean_projection.n...</td>\n",
       "      <td>None</td>\n",
       "      <td>ff76c624-2c29-4c2d-ba91-3eb471a8e9e3</td>\n",
       "    </tr>\n",
       "    <tr>\n",
       "      <th>6</th>\n",
       "      <td>cnmf</td>\n",
       "      <td>Sue_2x_3000_40_-46</td>\n",
       "      <td>09610b86-917a-41e7-a493-2d036bf44428/09610b86-917a-41e7-a493-2d036bf44428-Sue_2x_3000_40_-46_els__d1_170_d2_170_d3_1...</td>\n",
       "      <td>{'main': {'fr': 30, 'p': 1, 'nb': 2, 'merge_thr': 0.8, 'rf': 15, 'stride': 6, 'K': 4, 'gSig': (8, 8), 'ssub': 1, 'ts...</td>\n",
       "      <td>{'mean-projection-path': 879d1d8b-dfe7-4b4f-aa2f-b987d83f7788/879d1d8b-dfe7-4b4f-aa2f-b987d83f7788_mean_projection.n...</td>\n",
       "      <td>None</td>\n",
       "      <td>879d1d8b-dfe7-4b4f-aa2f-b987d83f7788</td>\n",
       "    </tr>\n",
       "    <tr>\n",
       "      <th>7</th>\n",
       "      <td>cnmf</td>\n",
       "      <td>Sue_2x_3000_40_-46</td>\n",
       "      <td>09610b86-917a-41e7-a493-2d036bf44428/09610b86-917a-41e7-a493-2d036bf44428-Sue_2x_3000_40_-46_els__d1_170_d2_170_d3_1...</td>\n",
       "      <td>{'main': {'fr': 30, 'p': 1, 'nb': 2, 'merge_thr': 0.95, 'rf': 15, 'stride': 6, 'K': 4, 'gSig': (8, 8), 'ssub': 1, 't...</td>\n",
       "      <td>{'mean-projection-path': 539745c5-ec3e-4a63-a7c2-eb41af9a080e/539745c5-ec3e-4a63-a7c2-eb41af9a080e_mean_projection.n...</td>\n",
       "      <td>None</td>\n",
       "      <td>539745c5-ec3e-4a63-a7c2-eb41af9a080e</td>\n",
       "    </tr>\n",
       "    <tr>\n",
       "      <th>8</th>\n",
       "      <td>cnmf</td>\n",
       "      <td>Sue_2x_3000_40_-46</td>\n",
       "      <td>09610b86-917a-41e7-a493-2d036bf44428/09610b86-917a-41e7-a493-2d036bf44428-Sue_2x_3000_40_-46_els__d1_170_d2_170_d3_1...</td>\n",
       "      <td>{'main': {'fr': 30, 'p': 1, 'nb': 2, 'merge_thr': 0.8, 'rf': 15, 'stride': 6, 'K': 8, 'gSig': (8, 8), 'ssub': 1, 'ts...</td>\n",
       "      <td>{'mean-projection-path': da760704-f760-4f34-b26a-06eb5cc3cfec/da760704-f760-4f34-b26a-06eb5cc3cfec_mean_projection.n...</td>\n",
       "      <td>None</td>\n",
       "      <td>da760704-f760-4f34-b26a-06eb5cc3cfec</td>\n",
       "    </tr>\n",
       "    <tr>\n",
       "      <th>9</th>\n",
       "      <td>cnmf</td>\n",
       "      <td>Sue_2x_3000_40_-46</td>\n",
       "      <td>09610b86-917a-41e7-a493-2d036bf44428/09610b86-917a-41e7-a493-2d036bf44428-Sue_2x_3000_40_-46_els__d1_170_d2_170_d3_1...</td>\n",
       "      <td>{'main': {'fr': 30, 'p': 1, 'nb': 2, 'merge_thr': 0.95, 'rf': 15, 'stride': 6, 'K': 8, 'gSig': (8, 8), 'ssub': 1, 't...</td>\n",
       "      <td>{'mean-projection-path': f4474d42-f6ae-4fba-a1a5-c181b4b1796e/f4474d42-f6ae-4fba-a1a5-c181b4b1796e_mean_projection.n...</td>\n",
       "      <td>None</td>\n",
       "      <td>f4474d42-f6ae-4fba-a1a5-c181b4b1796e</td>\n",
       "    </tr>\n",
       "  </tbody>\n",
       "</table>\n",
       "</div>"
      ],
      "text/plain": [
       "    algo           item_name  \\\n",
       "0  mcorr  Sue_2x_3000_40_-46   \n",
       "1   cnmf  Sue_2x_3000_40_-46   \n",
       "2   cnmf  Sue_2x_3000_40_-46   \n",
       "3   cnmf  Sue_2x_3000_40_-46   \n",
       "4   cnmf  Sue_2x_3000_40_-46   \n",
       "5   cnmf  Sue_2x_3000_40_-46   \n",
       "6   cnmf  Sue_2x_3000_40_-46   \n",
       "7   cnmf  Sue_2x_3000_40_-46   \n",
       "8   cnmf  Sue_2x_3000_40_-46   \n",
       "9   cnmf  Sue_2x_3000_40_-46   \n",
       "\n",
       "                                                                                                          input_movie_path  \\\n",
       "0                                                                                    example_movies/Sue_2x_3000_40_-46.tif   \n",
       "1  09610b86-917a-41e7-a493-2d036bf44428/09610b86-917a-41e7-a493-2d036bf44428-Sue_2x_3000_40_-46_els__d1_170_d2_170_d3_1...   \n",
       "2  09610b86-917a-41e7-a493-2d036bf44428/09610b86-917a-41e7-a493-2d036bf44428-Sue_2x_3000_40_-46_els__d1_170_d2_170_d3_1...   \n",
       "3  09610b86-917a-41e7-a493-2d036bf44428/09610b86-917a-41e7-a493-2d036bf44428-Sue_2x_3000_40_-46_els__d1_170_d2_170_d3_1...   \n",
       "4  09610b86-917a-41e7-a493-2d036bf44428/09610b86-917a-41e7-a493-2d036bf44428-Sue_2x_3000_40_-46_els__d1_170_d2_170_d3_1...   \n",
       "5  09610b86-917a-41e7-a493-2d036bf44428/09610b86-917a-41e7-a493-2d036bf44428-Sue_2x_3000_40_-46_els__d1_170_d2_170_d3_1...   \n",
       "6  09610b86-917a-41e7-a493-2d036bf44428/09610b86-917a-41e7-a493-2d036bf44428-Sue_2x_3000_40_-46_els__d1_170_d2_170_d3_1...   \n",
       "7  09610b86-917a-41e7-a493-2d036bf44428/09610b86-917a-41e7-a493-2d036bf44428-Sue_2x_3000_40_-46_els__d1_170_d2_170_d3_1...   \n",
       "8  09610b86-917a-41e7-a493-2d036bf44428/09610b86-917a-41e7-a493-2d036bf44428-Sue_2x_3000_40_-46_els__d1_170_d2_170_d3_1...   \n",
       "9  09610b86-917a-41e7-a493-2d036bf44428/09610b86-917a-41e7-a493-2d036bf44428-Sue_2x_3000_40_-46_els__d1_170_d2_170_d3_1...   \n",
       "\n",
       "                                                                                                                    params  \\\n",
       "0  {'main': {'max_shifts': (6, 6), 'strides': (24, 24), 'overlaps': (12, 12), 'max_deviation_rigid': 3, 'border_nan': '...   \n",
       "1  {'main': {'fr': 30, 'p': 1, 'nb': 2, 'merge_thr': 0.85, 'rf': 15, 'stride': 6, 'K': 4, 'gSig': (4, 4), 'ssub': 1, 't...   \n",
       "2  {'main': {'fr': 30, 'p': 1, 'nb': 2, 'merge_thr': 0.8, 'rf': 15, 'stride': 6, 'K': 4, 'gSig': (6, 6), 'ssub': 1, 'ts...   \n",
       "3  {'main': {'fr': 30, 'p': 1, 'nb': 2, 'merge_thr': 0.95, 'rf': 15, 'stride': 6, 'K': 4, 'gSig': (6, 6), 'ssub': 1, 't...   \n",
       "4  {'main': {'fr': 30, 'p': 1, 'nb': 2, 'merge_thr': 0.8, 'rf': 15, 'stride': 6, 'K': 8, 'gSig': (6, 6), 'ssub': 1, 'ts...   \n",
       "5  {'main': {'fr': 30, 'p': 1, 'nb': 2, 'merge_thr': 0.95, 'rf': 15, 'stride': 6, 'K': 8, 'gSig': (6, 6), 'ssub': 1, 't...   \n",
       "6  {'main': {'fr': 30, 'p': 1, 'nb': 2, 'merge_thr': 0.8, 'rf': 15, 'stride': 6, 'K': 4, 'gSig': (8, 8), 'ssub': 1, 'ts...   \n",
       "7  {'main': {'fr': 30, 'p': 1, 'nb': 2, 'merge_thr': 0.95, 'rf': 15, 'stride': 6, 'K': 4, 'gSig': (8, 8), 'ssub': 1, 't...   \n",
       "8  {'main': {'fr': 30, 'p': 1, 'nb': 2, 'merge_thr': 0.8, 'rf': 15, 'stride': 6, 'K': 8, 'gSig': (8, 8), 'ssub': 1, 'ts...   \n",
       "9  {'main': {'fr': 30, 'p': 1, 'nb': 2, 'merge_thr': 0.95, 'rf': 15, 'stride': 6, 'K': 8, 'gSig': (8, 8), 'ssub': 1, 't...   \n",
       "\n",
       "                                                                                                                   outputs  \\\n",
       "0  {'mean-projection-path': 09610b86-917a-41e7-a493-2d036bf44428/09610b86-917a-41e7-a493-2d036bf44428_mean_projection.n...   \n",
       "1  {'mean-projection-path': 2b9dabd8-7d22-4327-8479-aea36bde79cf/2b9dabd8-7d22-4327-8479-aea36bde79cf_mean_projection.n...   \n",
       "2  {'mean-projection-path': 38f85afb-417f-453a-8da5-28753b0dc290/38f85afb-417f-453a-8da5-28753b0dc290_mean_projection.n...   \n",
       "3  {'mean-projection-path': a49689ad-f093-49ff-9a86-058835eccd34/a49689ad-f093-49ff-9a86-058835eccd34_mean_projection.n...   \n",
       "4  {'mean-projection-path': f67dbcb9-fd5b-4d81-acc4-f080a7f81db4/f67dbcb9-fd5b-4d81-acc4-f080a7f81db4_mean_projection.n...   \n",
       "5  {'mean-projection-path': ff76c624-2c29-4c2d-ba91-3eb471a8e9e3/ff76c624-2c29-4c2d-ba91-3eb471a8e9e3_mean_projection.n...   \n",
       "6  {'mean-projection-path': 879d1d8b-dfe7-4b4f-aa2f-b987d83f7788/879d1d8b-dfe7-4b4f-aa2f-b987d83f7788_mean_projection.n...   \n",
       "7  {'mean-projection-path': 539745c5-ec3e-4a63-a7c2-eb41af9a080e/539745c5-ec3e-4a63-a7c2-eb41af9a080e_mean_projection.n...   \n",
       "8  {'mean-projection-path': da760704-f760-4f34-b26a-06eb5cc3cfec/da760704-f760-4f34-b26a-06eb5cc3cfec_mean_projection.n...   \n",
       "9  {'mean-projection-path': f4474d42-f6ae-4fba-a1a5-c181b4b1796e/f4474d42-f6ae-4fba-a1a5-c181b4b1796e_mean_projection.n...   \n",
       "\n",
       "  comments                                  uuid  \n",
       "0     None  09610b86-917a-41e7-a493-2d036bf44428  \n",
       "1     None  2b9dabd8-7d22-4327-8479-aea36bde79cf  \n",
       "2     None  38f85afb-417f-453a-8da5-28753b0dc290  \n",
       "3     None  a49689ad-f093-49ff-9a86-058835eccd34  \n",
       "4     None  f67dbcb9-fd5b-4d81-acc4-f080a7f81db4  \n",
       "5     None  ff76c624-2c29-4c2d-ba91-3eb471a8e9e3  \n",
       "6     None  879d1d8b-dfe7-4b4f-aa2f-b987d83f7788  \n",
       "7     None  539745c5-ec3e-4a63-a7c2-eb41af9a080e  \n",
       "8     None  da760704-f760-4f34-b26a-06eb5cc3cfec  \n",
       "9     None  f4474d42-f6ae-4fba-a1a5-c181b4b1796e  "
      ]
     },
     "execution_count": 5,
     "metadata": {},
     "output_type": "execute_result"
    }
   ],
   "source": [
    "df = load_batch(batch_path)\n",
    "df"
   ]
  },
  {
   "cell_type": "code",
   "execution_count": 10,
   "id": "4d9e8e90-489f-407e-a7c2-5eb29e0413c0",
   "metadata": {},
   "outputs": [
    {
     "name": "stdout",
     "output_type": "stream",
     "text": [
      "Decode mmap filename /home/kushalk/caiman_data/mesmerize-core-batch/09610b86-917a-41e7-a493-2d036bf44428/09610b86-917a-41e7-a493-2d036bf44428-Sue_2x_3000_40_-46_els__d1_170_d2_170_d3_1_order_F_frames_3000.mmap\n"
     ]
    }
   ],
   "source": [
    "# You can change this to plot the outputs for different batch items\n",
    "index = 1\n",
    "\n",
    "# get the motion corrected input movie as a memmap\n",
    "cnmf_movie = df.iloc[index].caiman.get_input_movie()\n",
    "\n",
    "# we can get the contours of the spatial components\n",
    "contours, coms = df.iloc[index].cnmf.get_contours(\"all\", swap_dim=False)\n",
    "\n",
    "# and temporal components\n",
    "temporal = df.iloc[index].cnmf.get_temporal(\"all\")\n",
    "\n",
    "ixs_good = df.iloc[index].cnmf.get_good_components()\n",
    "ixs_bad = df.iloc[index].cnmf.get_bad_components()\n",
    "\n",
    "cnmf_obj = df.iloc[index].cnmf.get_output()"
   ]
  },
  {
   "cell_type": "code",
   "execution_count": 12,
   "id": "a2d24cc2-e894-4a97-b94b-8f5604025294",
   "metadata": {},
   "outputs": [
    {
     "data": {
      "text/plain": [
       "array([-0.19361448, -0.00949648,  0.00407439,  0.00752039,  0.04555327,\n",
       "        0.06338374,  0.14284759,  0.17890952,  0.18812357,  0.20339994,\n",
       "        0.20821096,  0.24875144,  0.28352673,  0.30002904,  0.31564671,\n",
       "        0.32751131,  0.34441391,  0.36287948,  0.37505725,  0.37656569,\n",
       "        0.37759551,  0.38364631,  0.38383077,  0.39639933,  0.40045328,\n",
       "        0.41895777,  0.44048263,  0.4434438 ,  0.44841094,  0.44913498,\n",
       "        0.45965439,  0.47577601,  0.47721031,  0.48324347,  0.48630648,\n",
       "        0.48822328,  0.50031794,  0.5029086 ,  0.50680755,  0.50682535,\n",
       "        0.50868848,  0.51604714,  0.51657431,  0.51796069,  0.51894883,\n",
       "        0.52217412,  0.53642036,  0.54972745,  0.54997033,  0.55028392,\n",
       "        0.55152912,  0.55249477,  0.55396109,  0.55498617,  0.55963035,\n",
       "        0.56667794,  0.56816887,  0.58273237,  0.59273873,  0.59968857,\n",
       "        0.60124371,  0.60183431,  0.60692199,  0.62156763,  0.62401282,\n",
       "        0.6252982 ,  0.63185618,  0.63543767,  0.63690626,  0.64353336,\n",
       "        0.64357354,  0.64551393,  0.6527865 ,  0.6673946 ,  0.6704863 ,\n",
       "        0.67212065,  0.67483831,  0.67947545,  0.68092436,  0.68741379,\n",
       "        0.68822548,  0.69382811,  0.70376352,  0.70779497,  0.70938702,\n",
       "        0.71002307,  0.71057248,  0.71624327,  0.73604674,  0.73620631,\n",
       "        0.73621921,  0.74374281,  0.74474923,  0.74935454,  0.75142881,\n",
       "        0.75328996,  0.76516596,  0.76535966,  0.771185  ,  0.77587278,\n",
       "        0.78421345,  0.78535612,  0.78599488,  0.78650783,  0.79169043,\n",
       "        0.79219539,  0.79281588,  0.80146674,  0.80508676,  0.80631036,\n",
       "        0.81311086,  0.81617741,  0.81619946,  0.81811118,  0.819608  ,\n",
       "        0.82417104,  0.82418431,  0.82521223,  0.83324318,  0.83807432,\n",
       "        0.84346151,  0.8437102 ,  0.84630535,  0.84896217,  0.85844131,\n",
       "        0.86992258,  0.87164703,  0.87293927,  0.87389266,  0.87568265,\n",
       "        0.87616385,  0.87851461,  0.88327056,  0.89929273,  0.90638461,\n",
       "        0.9081963 ,  0.90984471,  0.91249582,  0.91279459,  0.91810412,\n",
       "        0.91866497,  0.91988666,  0.92344895,  0.93336193,  0.9334585 ,\n",
       "        0.93436177,  0.93693522,  0.94338142,  0.94367148,  0.95022794,\n",
       "        0.95150063,  0.95592116,  0.95852355,  0.96338879,  0.97682049])"
      ]
     },
     "execution_count": 12,
     "metadata": {},
     "output_type": "execute_result"
    }
   ],
   "source": [
    "np.sort(cnmf_obj.estimates.r_values)"
   ]
  },
  {
   "cell_type": "code",
   "execution_count": 9,
   "id": "cd5deeae-302d-4517-a68d-148bcfa8d4d1",
   "metadata": {},
   "outputs": [],
   "source": [
    "rcm = df.iloc[index].cnmf.get_rcm()\n",
    "corr_img = df.iloc[index].caiman.get_corr_image()"
   ]
  },
  {
   "cell_type": "code",
   "execution_count": null,
   "id": "4961d94b-77d1-4407-8ae8-776d0eabfcde",
   "metadata": {},
   "outputs": [],
   "source": [
    "# 2 x 2 gridplot\n",
    "# |=====================|\n",
    "# |  movie |    rcm     |\n",
    "# |---------------------|\n",
    "# | corr  |  temporal   |\n",
    "# |=====================|\n",
    "cnmf_grid = GridPlot(\n",
    "    shape=(2, 2), \n",
    "    controllers=[[0, 0], [0, 1]], \n",
    "    names=[[\"movie\", \"rcm\"], [\"corr\", \"temporal\"]]\n",
    ")\n",
    "\n",
    "# movie and rcm, rcm is a lazy array and behaves similar to numpy arrays\n",
    "movie_graphic = cnmf_grid[\"movie\"].add_image(cnmf_movie[0], cmap=\"gnuplot2\")\n",
    "rcm_graphic = cnmf_grid[\"rcm\"].add_image(rcm[0], cmap=\"gnuplot2\")\n",
    "\n",
    "# corr image\n",
    "cnmf_grid[\"corr\"].add_image(corr_img, cmap=\"viridis\")\n",
    "\n",
    "# contours for good components\n",
    "contours_good, coms = df.iloc[index].cnmf.get_contours(\"good\", swap_dim=False)\n",
    "\n",
    "# random colors for contours and temporal components\n",
    "# make an RGBA array for each color\n",
    "rand_colors = np.random.rand(len(contours_good), 4)  # [n_contours, RGBA]\n",
    "rand_colors[:, -1] = 1 # set alpha = 1\n",
    "\n",
    "# get temporal of only good components\n",
    "temporal_good = df.iloc[index].cnmf.get_temporal(\"good\")\n",
    "\n",
    "# add contours to both movie and rcm subplots\n",
    "contours_movie = cnmf_grid[\"movie\"].add_line_collection(contours_good, colors=rand_colors)\n",
    "contours_rcm = cnmf_grid[\"rcm\"].add_line_collection(contours_good, colors=rand_colors)\n",
    "\n",
    "# line stack of temporal components\n",
    "temporal_stack = cnmf_grid[\"temporal\"].add_line_stack(temporal_good, colors=rand_colors, thickness=3.0, separate=15)\n",
    "\n",
    "# plot single temporal, just like before\n",
    "plot_temporal_single = Plot()\n",
    "temporal_graphic = plot_temporal_single.add_line_collection(temporal_good, colors=rand_colors)\n",
    "\n",
    "# since this is a GridPlot and not an ImageWidget we need to define sliders\n",
    "slider = IntSlider(min=0, max=cnmf_movie.shape[0] - 1, value=0, step=1)\n",
    "\n",
    "# vertical line sliders\n",
    "_ls = LineSlider(x_pos=0, bounds=(temporal.min(), temporal.max()), slider=slider)\n",
    "_ls2 = LineSlider(x_pos=0, bounds=(temporal.min(), temporal.max() + temporal_stack.items[-1].position.y), slider=slider)\n",
    "plot_temporal_single.add_graphic(_ls)\n",
    "cnmf_grid[\"temporal\"].add_graphic(_ls2)\n",
    "\n",
    "# function to update each frame\n",
    "def update_frame(change):\n",
    "    ix = change[\"new\"]\n",
    "    movie_graphic.data = cnmf_movie[ix]\n",
    "    rcm_graphic.data = rcm[ix]\n",
    "    \n",
    "slider.observe(update_frame, \"value\")\n",
    "\n",
    "@plot_temporal_single.renderer.add_event_handler(\"resize\")\n",
    "def update_slider_width(*args):\n",
    "    width, h = plot_temporal_single.renderer.logical_size\n",
    "    slider.layout = Layout(width=f\"{width}px\")\n",
    "    \n",
    "VBox([plot_temporal_single.show(), cnmf_grid.show(), slider])"
   ]
  }
 ],
 "metadata": {
  "kernelspec": {
   "display_name": "Python 3 (ipykernel)",
   "language": "python",
   "name": "python3"
  },
  "language_info": {
   "codemirror_mode": {
    "name": "ipython",
    "version": 3
   },
   "file_extension": ".py",
   "mimetype": "text/x-python",
   "name": "python",
   "nbconvert_exporter": "python",
   "pygments_lexer": "ipython3",
   "version": "3.10.5"
  }
 },
 "nbformat": 4,
 "nbformat_minor": 5
}
